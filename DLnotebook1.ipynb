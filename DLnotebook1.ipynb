{
 "cells": [
  {
   "cell_type": "markdown",
   "metadata": {
    "id": "JosR81CY_pPo"
   },
   "source": [
    "# HOMEWORK 1 DEEP LEARNING"
   ]
  },
  {
   "cell_type": "markdown",
   "metadata": {
    "id": "m3SnAHoo_8MM"
   },
   "source": [
    "## Question 1"
   ]
  },
  {
   "cell_type": "code",
   "execution_count": 1,
   "metadata": {
    "colab": {
     "base_uri": "https://localhost:8080/"
    },
    "id": "SAJ9M1uRAMaj",
    "outputId": "b5e2a217-aa9f-4782-a552-d2f438627d2e",
    "tags": []
   },
   "outputs": [
    {
     "name": "stdout",
     "output_type": "stream",
     "text": [
      "Collecting wandb\n",
      "  Downloading wandb-0.16.4-py3-none-any.whl.metadata (10 kB)\n",
      "Requirement already satisfied: Click!=8.0.0,>=7.1 in /opt/conda/envs/pytorch/lib/python3.10/site-packages (from wandb) (8.1.7)\n",
      "Requirement already satisfied: GitPython!=3.1.29,>=1.0.0 in /opt/conda/envs/pytorch/lib/python3.10/site-packages (from wandb) (3.1.42)\n",
      "Requirement already satisfied: requests<3,>=2.0.0 in /opt/conda/envs/pytorch/lib/python3.10/site-packages (from wandb) (2.31.0)\n",
      "Requirement already satisfied: psutil>=5.0.0 in /opt/conda/envs/pytorch/lib/python3.10/site-packages (from wandb) (5.9.3)\n",
      "Collecting sentry-sdk>=1.0.0 (from wandb)\n",
      "  Downloading sentry_sdk-1.43.0-py2.py3-none-any.whl.metadata (9.9 kB)\n",
      "Collecting docker-pycreds>=0.4.0 (from wandb)\n",
      "  Downloading docker_pycreds-0.4.0-py2.py3-none-any.whl.metadata (1.8 kB)\n",
      "Requirement already satisfied: PyYAML in /opt/conda/envs/pytorch/lib/python3.10/site-packages (from wandb) (6.0.1)\n",
      "Collecting setproctitle (from wandb)\n",
      "  Downloading setproctitle-1.3.3-cp310-cp310-manylinux_2_5_x86_64.manylinux1_x86_64.manylinux_2_17_x86_64.manylinux2014_x86_64.whl.metadata (9.9 kB)\n",
      "Requirement already satisfied: setuptools in /opt/conda/envs/pytorch/lib/python3.10/site-packages (from wandb) (69.1.1)\n",
      "Collecting appdirs>=1.4.3 (from wandb)\n",
      "  Downloading appdirs-1.4.4-py2.py3-none-any.whl.metadata (9.0 kB)\n",
      "Requirement already satisfied: protobuf!=4.21.0,<5,>=3.19.0 in /opt/conda/envs/pytorch/lib/python3.10/site-packages (from wandb) (3.20.3)\n",
      "Requirement already satisfied: six>=1.4.0 in /opt/conda/envs/pytorch/lib/python3.10/site-packages (from docker-pycreds>=0.4.0->wandb) (1.16.0)\n",
      "Requirement already satisfied: gitdb<5,>=4.0.1 in /opt/conda/envs/pytorch/lib/python3.10/site-packages (from GitPython!=3.1.29,>=1.0.0->wandb) (4.0.11)\n",
      "Requirement already satisfied: charset-normalizer<4,>=2 in /opt/conda/envs/pytorch/lib/python3.10/site-packages (from requests<3,>=2.0.0->wandb) (3.3.2)\n",
      "Requirement already satisfied: idna<4,>=2.5 in /opt/conda/envs/pytorch/lib/python3.10/site-packages (from requests<3,>=2.0.0->wandb) (3.6)\n",
      "Requirement already satisfied: urllib3<3,>=1.21.1 in /opt/conda/envs/pytorch/lib/python3.10/site-packages (from requests<3,>=2.0.0->wandb) (1.26.18)\n",
      "Requirement already satisfied: certifi>=2017.4.17 in /opt/conda/envs/pytorch/lib/python3.10/site-packages (from requests<3,>=2.0.0->wandb) (2024.2.2)\n",
      "Requirement already satisfied: smmap<6,>=3.0.1 in /opt/conda/envs/pytorch/lib/python3.10/site-packages (from gitdb<5,>=4.0.1->GitPython!=3.1.29,>=1.0.0->wandb) (5.0.1)\n",
      "Downloading wandb-0.16.4-py3-none-any.whl (2.2 MB)\n",
      "\u001b[2K   \u001b[90m━━━━━━━━━━━━━━━━━━━━━━━━━━━━━━━━━━━━━━━━\u001b[0m \u001b[32m2.2/2.2 MB\u001b[0m \u001b[31m11.6 MB/s\u001b[0m eta \u001b[36m0:00:00\u001b[0ma \u001b[36m0:00:01\u001b[0m\n",
      "\u001b[?25hDownloading appdirs-1.4.4-py2.py3-none-any.whl (9.6 kB)\n",
      "Downloading docker_pycreds-0.4.0-py2.py3-none-any.whl (9.0 kB)\n",
      "Downloading sentry_sdk-1.43.0-py2.py3-none-any.whl (264 kB)\n",
      "\u001b[2K   \u001b[90m━━━━━━━━━━━━━━━━━━━━━━━━━━━━━━━━━━━━━━━━\u001b[0m \u001b[32m264.6/264.6 kB\u001b[0m \u001b[31m27.7 MB/s\u001b[0m eta \u001b[36m0:00:00\u001b[0m\n",
      "\u001b[?25hDownloading setproctitle-1.3.3-cp310-cp310-manylinux_2_5_x86_64.manylinux1_x86_64.manylinux_2_17_x86_64.manylinux2014_x86_64.whl (30 kB)\n",
      "Installing collected packages: appdirs, setproctitle, sentry-sdk, docker-pycreds, wandb\n",
      "Successfully installed appdirs-1.4.4 docker-pycreds-0.4.0 sentry-sdk-1.43.0 setproctitle-1.3.3 wandb-0.16.4\n",
      "Downloading http://fashion-mnist.s3-website.eu-central-1.amazonaws.com/train-images-idx3-ubyte.gz\n",
      "Downloading http://fashion-mnist.s3-website.eu-central-1.amazonaws.com/train-images-idx3-ubyte.gz to ./data/FashionMNIST/raw/train-images-idx3-ubyte.gz\n"
     ]
    },
    {
     "data": {
      "application/vnd.jupyter.widget-view+json": {
       "model_id": "94ee713f0494456487d29e3262b6a7ca",
       "version_major": 2,
       "version_minor": 0
      },
      "text/plain": [
       "  0%|          | 0/26421880 [00:00<?, ?it/s]"
      ]
     },
     "metadata": {},
     "output_type": "display_data"
    },
    {
     "name": "stdout",
     "output_type": "stream",
     "text": [
      "Extracting ./data/FashionMNIST/raw/train-images-idx3-ubyte.gz to ./data/FashionMNIST/raw\n",
      "\n",
      "Downloading http://fashion-mnist.s3-website.eu-central-1.amazonaws.com/train-labels-idx1-ubyte.gz\n",
      "Downloading http://fashion-mnist.s3-website.eu-central-1.amazonaws.com/train-labels-idx1-ubyte.gz to ./data/FashionMNIST/raw/train-labels-idx1-ubyte.gz\n"
     ]
    },
    {
     "data": {
      "application/vnd.jupyter.widget-view+json": {
       "model_id": "e282aa95a62643ceb323990599da81a8",
       "version_major": 2,
       "version_minor": 0
      },
      "text/plain": [
       "  0%|          | 0/29515 [00:00<?, ?it/s]"
      ]
     },
     "metadata": {},
     "output_type": "display_data"
    },
    {
     "name": "stdout",
     "output_type": "stream",
     "text": [
      "Extracting ./data/FashionMNIST/raw/train-labels-idx1-ubyte.gz to ./data/FashionMNIST/raw\n",
      "\n",
      "Downloading http://fashion-mnist.s3-website.eu-central-1.amazonaws.com/t10k-images-idx3-ubyte.gz\n",
      "Downloading http://fashion-mnist.s3-website.eu-central-1.amazonaws.com/t10k-images-idx3-ubyte.gz to ./data/FashionMNIST/raw/t10k-images-idx3-ubyte.gz\n"
     ]
    },
    {
     "data": {
      "application/vnd.jupyter.widget-view+json": {
       "model_id": "fdd12512d6254fc5b2f367597f8f97bb",
       "version_major": 2,
       "version_minor": 0
      },
      "text/plain": [
       "  0%|          | 0/4422102 [00:00<?, ?it/s]"
      ]
     },
     "metadata": {},
     "output_type": "display_data"
    },
    {
     "name": "stdout",
     "output_type": "stream",
     "text": [
      "Extracting ./data/FashionMNIST/raw/t10k-images-idx3-ubyte.gz to ./data/FashionMNIST/raw\n",
      "\n",
      "Downloading http://fashion-mnist.s3-website.eu-central-1.amazonaws.com/t10k-labels-idx1-ubyte.gz\n",
      "Downloading http://fashion-mnist.s3-website.eu-central-1.amazonaws.com/t10k-labels-idx1-ubyte.gz to ./data/FashionMNIST/raw/t10k-labels-idx1-ubyte.gz\n"
     ]
    },
    {
     "data": {
      "application/vnd.jupyter.widget-view+json": {
       "model_id": "7b816c36ad554eafb5b390bec31c335c",
       "version_major": 2,
       "version_minor": 0
      },
      "text/plain": [
       "  0%|          | 0/5148 [00:00<?, ?it/s]"
      ]
     },
     "metadata": {},
     "output_type": "display_data"
    },
    {
     "name": "stdout",
     "output_type": "stream",
     "text": [
      "Extracting ./data/FashionMNIST/raw/t10k-labels-idx1-ubyte.gz to ./data/FashionMNIST/raw\n",
      "\n"
     ]
    }
   ],
   "source": [
    "import numpy as np\n",
    "import torch\n",
    "import torchvision\n",
    "from torchvision import transforms\n",
    "import matplotlib.pyplot as plt\n",
    "import scipy as sp\n",
    "import time\n",
    "\n",
    "\n",
    "!pip install wandb\n",
    "import wandb\n",
    "\n",
    "\n",
    "train_set = torchvision.datasets.FashionMNIST(\"./data\", download=True, train=True, transform=\n",
    "transforms.Compose([transforms.ToTensor()]))\n",
    "test_set = torchvision.datasets.FashionMNIST(\"./data\", download=True, train=False, transform=\n",
    "transforms.Compose([transforms.ToTensor()]))\n",
    "\n",
    "labels_name = ['t_shirt_top', 'trouser', 'pullover', 'dress', 'coat', 'sandal', 'shirt', 'sneaker ', 'bag', 'ankle_boots']"
   ]
  },
  {
   "cell_type": "code",
   "execution_count": 2,
   "metadata": {
    "colab": {
     "base_uri": "https://localhost:8080/"
    },
    "id": "S3I8mBAfO10y",
    "outputId": "3cc3971b-fca3-445f-df66-f7220bb1f450",
    "tags": []
   },
   "outputs": [
    {
     "name": "stdout",
     "output_type": "stream",
     "text": [
      "The size of train set data is = \t torch.Size([60000, 28, 28]) \n",
      "\n",
      "The size of train set labels is = \t torch.Size([60000]) \n",
      "\n",
      "The size of train set data is = \t torch.Size([10000, 28, 28])\n",
      "\n",
      "The size of test set labels is = \t torch.Size([10000]) \n",
      "\n"
     ]
    }
   ],
   "source": [
    "print(f\"The size of train set data is = \\t {train_set.data.shape} \\n\")\n",
    "print(f\"The size of train set labels is = \\t {train_set.targets.shape} \\n\")\n",
    "print(f\"The size of train set data is = \\t {test_set.data.shape}\\n\")\n",
    "print(f\"The size of test set labels is = \\t {test_set.targets.shape} \\n\" )"
   ]
  },
  {
   "cell_type": "code",
   "execution_count": 3,
   "metadata": {
    "colab": {
     "base_uri": "https://localhost:8080/"
    },
    "id": "dei088tLkd9X",
    "outputId": "50bdc572-828c-4339-8738-ce3b0fc5bf28",
    "tags": []
   },
   "outputs": [
    {
     "name": "stdout",
     "output_type": "stream",
     "text": [
      "Unique classes: (array([0, 1, 2, 3, 4, 5, 6, 7, 8, 9]), array([6000, 6000, 6000, 6000, 6000, 6000, 6000, 6000, 6000, 6000]))\n"
     ]
    }
   ],
   "source": [
    "print(f\"Unique classes: {np.unique(train_set.targets, return_counts = True)}\")"
   ]
  },
  {
   "cell_type": "code",
   "execution_count": 4,
   "metadata": {
    "colab": {
     "base_uri": "https://localhost:8080/",
     "height": 244
    },
    "id": "_08xK_MjlzxH",
    "outputId": "db0b9f76-84b3-43d5-8d47-7c4580b50fc6",
    "tags": []
   },
   "outputs": [
    {
     "data": {
      "image/png": "[encoded data removed]",
      "text/plain": [
       "<Figure size 600x250 with 10 Axes>"
      ]
     },
     "metadata": {},
     "output_type": "display_data"
    }
   ],
   "source": [
    "fig, axes = plt.subplots(2, 5, figsize=(6, 2.5))\n",
    "[axi.set_axis_off() for axi in axes.ravel()]\n",
    "for i, ax in enumerate(axes.flat):\n",
    "    img_index = next(idx for idx, label in enumerate(train_set.targets) if label == i)\n",
    "    ax.imshow(train_set.data[img_index], cmap='gray')\n",
    "    ax.set_title(labels_name[train_set.targets[img_index]])\n",
    "plt.show()"
   ]
  },
  {
   "cell_type": "code",
   "execution_count": 5,
   "metadata": {
    "id": "2BoQAqgI53bb",
    "tags": []
   },
   "outputs": [],
   "source": [
    "# activation functions\n",
    "# sigmoid\n",
    "def sigmoid(z):\n",
    "    return 1.0 / (1 + np.exp(-(z)))\n",
    "\n",
    "# derivative of sigmoid\n",
    "def diff_sigmoid(z):\n",
    "    return (1.0 / (1 + np.exp(-(z)))) * (1 - 1.0 / (1 + np.exp(-(z))))\n",
    "\n",
    "# tanh\n",
    "def tanh(z):\n",
    "    return np.tanh(z)\n",
    "\n",
    "# derivative of tanh\n",
    "def diff_tanh(z):\n",
    "    return 1 - np.tanh(z) ** 2\n",
    "\n",
    "#relu\n",
    "def relu(z):\n",
    "    #np.maximum(z, 0)\n",
    "    return  (z>0)*(z) + ((z<0)*(z)*0.01)\n",
    "\n",
    "# derivative of relu\n",
    "def diff_relu(z):\n",
    "    #np.where(z >= 0, 1, 0)\n",
    "    return  (z>0)*np.ones(z.shape) + (z<0)*(0.01*np.ones(z.shape) )\n",
    "\n",
    "# softmax\n",
    "def softmax(z):\n",
    "    exp_z = np.exp(z - np.max(z))  # Subtracting the maximum value to avoid overflow\n",
    "    return exp_z / np.sum(exp_z, axis=0, keepdims=True, out=None)"
   ]
  },
  {
   "cell_type": "code",
   "execution_count": 6,
   "metadata": {
    "id": "fCrM9qzYO1XN",
    "tags": []
   },
   "outputs": [],
   "source": [
    "# feed forward neural network\n",
    "\n",
    "class FeedforwardNN:\n",
    "    def __init__(self, nh_layers, nh_neurons, un_train_data, un_train_targets, n_train, un_val_data, un_val_targets, n_val, un_test_data, un_test_targets, n_test, optimizer, batch_size, weight_decay, lr, max_epochs, activation_fun, initializer):\n",
    "        self.nh_layers = nh_layers\n",
    "        self.nh_neurons = nh_neurons\n",
    "        self.input_size = 28*28\n",
    "        self.output_size = 10\n",
    "        self.n_classes = 10\n",
    "        self.n_train = n_train\n",
    "        self.n_val = n_val\n",
    "        self.n_test = n_test\n",
    "        self.max_epochs = max_epochs\n",
    "        self.batch_size = batch_size\n",
    "        self.lr = lr\n",
    "\n",
    "        # define the all the layers in the feed forward neural net\n",
    "        self.nn_layers = ([self.input_size] + self.nh_layers * [self.nh_neurons] + [self.output_size])\n",
    "\n",
    "        # reshape the data to get shape of (28*28, N)\n",
    "        self.train_data = np.transpose(un_train_data.reshape(un_train_data.shape[0], un_train_data.shape[1] * un_train_data.shape[2]))\n",
    "        self.val_data = np.transpose(un_val_data.reshape(un_val_data.shape[0], un_val_data.shape[1] * un_val_data.shape[2]))\n",
    "        self.test_data = np.transpose(un_test_data.reshape(un_test_data.shape[0], un_test_data.shape[1], un_test_data.shape[2]))\n",
    "\n",
    "        # one hot encoding of the targets\n",
    "        self.train_targets = self.one_hot_encode(un_train_targets)\n",
    "        self.val_targets = self.one_hot_encode(un_val_targets)\n",
    "        self.test_targets = self.one_hot_encode(un_test_targets)\n",
    "\n",
    "        # normalizing  the pixel values to be between (0 and 1) for better processing\n",
    "        self.train_data = self.train_data / 255\n",
    "        self.val_data = self.val_data / 255\n",
    "        self.test_data = self.test_data / 255\n",
    "\n",
    "\n",
    "        # define dictionary for activation functions\n",
    "        self.dictionary_activation = {\"relu\": relu, \"tanh\": tanh, \"sigmoid\": sigmoid}\n",
    "        self.activation = self.dictionary_activation[activation_fun]\n",
    "\n",
    "        # define dictionary for differentiation of activation functions\n",
    "        self.dictionary_diff_activation = {\"relu\": diff_relu, \"tanh\": diff_tanh, \"sigmoid\": diff_sigmoid}\n",
    "        self.diff_activation = self.dictionary_diff_activation[activation_fun]\n",
    "\n",
    "        # define dictionary for initializer\n",
    "        self.dictionary_init = {\"xavier\": self.init_xavier, \"random\": self.init_random}\n",
    "        self.initializer = self.dictionary_init[initializer]\n",
    "\n",
    "        # define dictionary for optimizer\n",
    "        self.dictionary_optim = {\"sgd\": self.sgd, \"momentum\": self.momentum, \"nesterov\": self.nesterov}\n",
    "        self.optimizer = self.dictionary_optim[optimizer]\n",
    "\n",
    "        # parameter initialization\n",
    "        self.weights, self.biases = self.NN_initialization(self.nn_layers)\n",
    "\n",
    "\n",
    "\n",
    "\n",
    "\n",
    "    # function for one hot encoding of the targets\n",
    "    def one_hot_encode(self, un_train_targets):\n",
    "        one_hot_labels = np.zeros((self.n_classes, un_train_targets.shape[0]))\n",
    "        for i in range(un_train_targets.shape[0]):\n",
    "            v = un_train_targets[i]\n",
    "            one_hot_labels[int(v)][i] = 1.0\n",
    "        return one_hot_labels\n",
    "\n",
    "    # functions for initializers\n",
    "    def init_xavier(self, shape):\n",
    "        input = shape[1]\n",
    "        output = shape[0]\n",
    "        standard_deviation = np.sqrt(2 / (input + output))\n",
    "        return np.random.normal(0, standard_deviation, size = (output, input))\n",
    "\n",
    "    def init_random(self, shape):\n",
    "        input = shape[1]\n",
    "        output = shape[0]\n",
    "        return  np.random.normal(0, 1, size = (output, input))\n",
    "\n",
    "    def NN_initialization(self, layers):\n",
    "        weights = {}\n",
    "        biases = {}\n",
    "        n_layers = len(layers)\n",
    "        for i in range(0, n_layers - 1):\n",
    "            W = self.initializer(shape = [layers[i + 1], layers[i]])\n",
    "            b = np.zeros((layers[i + 1], 1))\n",
    "            weights[str(i + 1)] = W\n",
    "            biases[str(i + 1)] = b\n",
    "        return weights, biases\n",
    "\n",
    "    # function for loss\n",
    "    def cross_entropy_loss(self, true_labels, pred_labels):\n",
    "        epsilon = 1e-10\n",
    "        loss_CE = [-true_labels[i] * np.log(pred_labels[i] + + epsilon) for i in range(len(pred_labels))]\n",
    "        return np.mean(loss_CE)\n",
    "\n",
    "    # function for L2 regularization\n",
    "    def L2_regularization_loss(self, weight_decay):\n",
    "        return weight_decay * np.sum([np.linalg.norm(self.weights[str(i + 1)]) ** 2 for i in range(len(self.weights))])\n",
    "\n",
    "    # function for checking model accuracy\n",
    "    def accuracy(self, true_labels, pred_labels, n_data):\n",
    "        store_true_labels = []\n",
    "        store_pred_labels = []\n",
    "        m = 0\n",
    "        for i in range(n_data):\n",
    "            store_true_labels.append(np.argmax(true_labels[:, i]))\n",
    "            store_pred_labels.append(np.argmax(pred_labels[:, i]))\n",
    "            if store_true_labels[i] == store_pred_labels[i]:\n",
    "               m += 1\n",
    "        accuracy = m / n_data\n",
    "        return accuracy, store_true_labels, store_pred_labels\n",
    "\n",
    "\n",
    "    def forwardpropagation(self, x, weights, biases):\n",
    "        n_layers = len(weights) + 1\n",
    "\n",
    "        z = {}\n",
    "        h = {}\n",
    "        # input layer\n",
    "        h[\"0\"] = x\n",
    "        z[\"0\"] = x\n",
    "        #print('input is', h[\"0\"].shape)\n",
    "        for i in range(0, n_layers - 2):\n",
    "            if i == 0:\n",
    "              # First layer\n",
    "               W = weights[str(i + 1)]\n",
    "               b = biases[str(i + 1)]\n",
    "               z[str(i + 1)] = np.add(np.matmul(W, x), b)\n",
    "               #z[str(i + 1)] = np.matmul(W, x) + b\n",
    "               h[str(i + 1)] = self.activation(z[str(i + 1)])\n",
    "               #print('weights are', W.shape, b.shape, 'state is ', z[str(i + 1)].shape)\n",
    "               #print('shapes of biases', biases[str(i + 1)].shape, biases[str(i + 2)].shape, biases[str(i + 3)].shape)\n",
    "            else:\n",
    "              # subsequent layers layers\n",
    "               W = weights[str(i + 1)]\n",
    "               b = biases[str(i + 1)]\n",
    "               z[str(i + 1)] = np.add(np.matmul(W, h[str(i)]), b)\n",
    "               #z[str(i + 1)] = np.matmul(W, h[str(i)]) + b\n",
    "               h[str(i + 1)] = self.activation(z[str(i + 1)])\n",
    "               #print('weights are', W.shape, b.shape, 'state is ', z[str(i + 1)].shape)\n",
    "\n",
    "        # last layer\n",
    "        W = weights[str(n_layers - 1)]\n",
    "        b = biases[str(n_layers - 1)]\n",
    "        z[str(n_layers - 1)] = np.add(np.matmul(W, h[str(n_layers - 2)]), b)\n",
    "        #z[str(n_layers - 1)] = np.matmul(W, h[str(n_layers - 2)]) + b\n",
    "        ypred = softmax(z[str(n_layers - 1)])\n",
    "\n",
    "        h[str(n_layers - 1)] = ypred\n",
    "        return ypred, h, z\n",
    "\n",
    "\n",
    "    def backpropagation(self, ypred, h, z, ytrue, weight_decay = 0):\n",
    "\n",
    "        n_layers = len(self.nn_layers)\n",
    "        weights_grad = []\n",
    "        biases_grad = []\n",
    "\n",
    "        # derivative with respect to output layer\n",
    "        globals()[\"grad_z\" + str(n_layers - 1)] = -(ytrue - ypred)\n",
    "\n",
    "        for i in range(n_layers - 2, -1, -1):\n",
    "\n",
    "            # derivative with respect to the other layers\n",
    "            if weight_decay != 0:\n",
    "               globals()[\"grad_W\" + str(i + 1)] = (np.outer(globals()[\"grad_z\" + str(i + 1)], h[str(i)]) + weight_decay * self.weights[str(i + 1)])\n",
    "            elif weight_decay == 0:\n",
    "                globals()[\"grad_W\" + str(i + 1)] = np.outer(globals()[\"grad_z\" + str(i + 1)], h[str(i)])\n",
    "\n",
    "            globals()[\"grad_b\" + str(i + 1)] = globals()[\"grad_z\" + str(i + 1)]\n",
    "\n",
    "            weights_grad.append(globals()[\"grad_W\" + str(i + 1)])\n",
    "            biases_grad.append(globals()[\"grad_b\" + str(i + 1)])\n",
    "\n",
    "            if i != 0:\n",
    "               globals()[\"grad_h\" + str(i)] = np.matmul(self.weights[str(i + 1)].transpose(), globals()[\"grad_z\" + str(i + 1)])\n",
    "               globals()[\"grad_z\" + str(i)] = np.multiply(globals()[\"grad_h\" + str(i)], self.diff_activation(z[str(i)]))\n",
    "            elif i == 0:\n",
    "                 globals()[\"grad_h\" + str(i)] = np.matmul(self.weights[str(i + 1)].transpose(), globals()[\"grad_z\" + str(i + 1)])\n",
    "                 globals()[\"grad_z\" + str(i)] = np.multiply(globals()[\"grad_h\" + str(i)], (z[str(i)]))\n",
    "        return weights_grad, biases_grad\n",
    "\n",
    "\n",
    "    def model_prediction(self, x, data_length):\n",
    "        ypredicted = []\n",
    "        for i in range(data_length):\n",
    "            ypred, h, z = self.forwardpropagation(x[:, i].reshape(self.input_size, 1), self.weights, self.biases,)\n",
    "            ypredicted.append(ypred.reshape(self.n_classes,))\n",
    "        ypredicted = np.array(ypredicted).transpose()\n",
    "        return ypredicted\n",
    "\n",
    "\n",
    "\n",
    "\n",
    "    # functions for optimizers\n",
    "    def sgd(self, epochs, data_length, batch_size, lr, weight_decay = 0):\n",
    "        train_loss = []\n",
    "        accuracy_train = []\n",
    "        accuracy_val = []\n",
    "\n",
    "        n_layers = len(self.nn_layers)\n",
    "\n",
    "        train_data = self.train_data[:, :data_length]\n",
    "        train_targets = self.train_targets[:, :data_length]\n",
    "\n",
    "        n_points = 0\n",
    "\n",
    "        for epoch in range(epochs):\n",
    "            # shuffle up the idices of the data and flatten out the images\n",
    "            idx = np.random.shuffle(np.arange(data_length))\n",
    "            train_data = train_data[:, idx].reshape(self.input_size, data_length)\n",
    "            train_targets = train_targets[:, idx].reshape(self.n_classes, data_length)\n",
    "\n",
    "\n",
    "            # initialize the derivatives of parameters to zero for all the layers\n",
    "            delta_W = [np.zeros((self.nn_layers[i + 1], self.nn_layers[i])) for i in range(0, len(self.nn_layers) - 1)]\n",
    "            delta_b = [np.zeros((self.nn_layers[i + 1], 1)) for i in range(0, len(self.nn_layers) - 1)]\n",
    "\n",
    "            total_loss = []\n",
    "\n",
    "            for i in range(data_length):\n",
    "                ypred, h, z = self.forwardpropagation(train_data[:, i].reshape(self.input_size, 1), self.weights, self.biases)\n",
    "\n",
    "                weights_grad, biases_grad = self.backpropagation(ypred, h, z, train_targets[:, i].reshape(self.n_classes, 1))\n",
    "\n",
    "                delta_W = [weights_grad[n_layers - 2 - j] + delta_W[j] for j in range(n_layers - 1)]\n",
    "                delta_b = [biases_grad[n_layers - 2 - j] + delta_b[j] for j in range(n_layers - 1)]\n",
    "\n",
    "                total_loss.append(self.cross_entropy_loss(self.train_targets[:, i].reshape(self.n_classes, 1), ypred) + self.L2_regularization_loss(weight_decay))\n",
    "\n",
    "                n_points += 1\n",
    "\n",
    "                if int(n_points) % batch_size == 0:\n",
    "\n",
    "                   self.weights = { str(j + 1) : (self.weights[str(j + 1)] - lr * delta_W[j]/batch_size) for j in range(len(self.weights))}\n",
    "                   self.biases = { str(j + 1) : (self.biases[str(j + 1)] - lr * delta_b[j]/batch_size) for j in range(len(self.biases))}\n",
    "\n",
    "                   delta_W = [np.zeros((self.nn_layers[i + 1], self.nn_layers[i])) for i in range(0, len(self.nn_layers) - 1)]\n",
    "                   delta_b = [np.zeros((self.nn_layers[i + 1], 1)) for i in range(0, len(self.nn_layers) - 1)]\n",
    "\n",
    "\n",
    "            ypredicted = self.model_prediction(self.train_data, self.n_train)\n",
    "            #ypredicted = self.model_prediction(train_data, data_length)\n",
    "            train_loss.append(np.mean(total_loss))\n",
    "            accuracy_train.append(self.accuracy(train_targets, ypredicted, data_length)[0])\n",
    "\n",
    "            #val_data = self.val_data.reshape(self.input_size, self.n_val)\n",
    "            #val_targets = self.val_targets.reshape(self.n_classes, self.n_val)\n",
    "\n",
    "            accuracy_val.append(self.accuracy(self.val_targets, self.model_prediction(self.val_data, self.n_val), self.n_val)[0])\n",
    "            #accuracy_val.append(self.accuracy(val_targets, self.model_prediction(val_data, self.n_val), self.n_val)[0])\n",
    "\n",
    "            print(\"epoch: %d, loss: %.3e, accuracy_train: %.2f, accuracy_val: %.2f, learning rate: %.3e\" % (epoch, train_loss[epoch], accuracy_train[epoch], accuracy_val[epoch], self.lr))\n",
    "            wandb.log({'loss':np.mean(train_loss), 'trainingaccuracy':accuracy_train[epoch], 'validationaccuracy':accuracy_val[epoch],'epoch':epoch })\n",
    "        return train_loss, accuracy_train, accuracy_val, ypredicted\n",
    "\n",
    "\n",
    "    def momentum(self, epochs, data_length, batch_size, lr, weight_decay = 0):\n",
    "\n",
    "        beta = 0.9\n",
    "        train_data = self.train_data[:, :data_length]\n",
    "        train_targets = self.train_targets[:, :data_length]\n",
    "\n",
    "        train_loss = []\n",
    "        accuracy_train = []\n",
    "        accuracy_val = []\n",
    "\n",
    "        n_layers = len(self.nn_layers)\n",
    "        vw_before = [np.zeros((self.nn_layers[i + 1], self.nn_layers[i])) for i in range(0, len(self.nn_layers) - 1)]\n",
    "        vb_before = [np.zeros((self.nn_layers[i + 1], 1)) for i in range(0, len(self.nn_layers) - 1)]\n",
    "        n_points = 0\n",
    "\n",
    "        for epoch in range(epochs):\n",
    "\n",
    "            #idx = np.arange(data_length)\n",
    "            #np.random.shuffle(idx)\n",
    "\n",
    "            idx = np.random.shuffle(np.arange(data_length))\n",
    "            train_data = train_data[:, idx].reshape(self.input_size, data_length)\n",
    "            train_targets = train_targets[:, idx].reshape(self.n_classes, data_length)\n",
    "\n",
    "\n",
    "            delta_W = [np.zeros((self.nn_layers[i + 1], self.nn_layers[i])) for i in range(0, len(self.nn_layers) - 1)]\n",
    "            delta_b = [np.zeros((self.nn_layers[i + 1], 1)) for i in range(0, len(self.nn_layers) - 1)]\n",
    "\n",
    "            total_loss = []\n",
    "\n",
    "            for i in range(data_length):\n",
    "                ypred, h, z = self.forwardpropagation(train_data[:, i].reshape(self.input_size, 1), self.weights, self.biases,)\n",
    "\n",
    "                weights_grad, biases_grad = self.backpropagation(ypred, h, z, train_targets[:, i].reshape(self.n_classes, 1))\n",
    "\n",
    "                delta_W = [weights_grad[n_layers - 2 - j] + delta_W[j] for j in range(n_layers - 1)]\n",
    "                delta_b = [biases_grad[n_layers - 2 - j] + delta_b[j] for j in range(n_layers - 1)]\n",
    "\n",
    "                total_loss.append(self.cross_entropy_loss(self.train_targets[:, i].reshape(self.n_classes, 1), ypred) + self.L2_regularization_loss(weight_decay))\n",
    "\n",
    "                n_points += 1\n",
    "\n",
    "                if int(n_points) % batch_size == 0:\n",
    "                   vw = [beta * vw_before[j] + lr * delta_W[j] / batch_size for j in range(n_layers - 1)]\n",
    "                   vb = [beta * vb_before[j] + lr * delta_b[j] / batch_size for j in range(n_layers - 1)]\n",
    "\n",
    "                   self.weights = { str(j + 1) : (self.weights[str(j + 1)] - vw[j]) for j in range(len(self.weights))}\n",
    "                   self.biases = { str(j + 1) : (self.biases[str(j + 1)] - vb[j]) for j in range(len(self.biases))}\n",
    "\n",
    "                   vw_before = vw\n",
    "                   vb_before = vb\n",
    "\n",
    "                   delta_W = [np.zeros((self.nn_layers[i + 1], self.nn_layers[i])) for i in range(0, len(self.nn_layers) - 1)]\n",
    "                   delta_b = [np.zeros((self.nn_layers[i + 1], 1)) for i in range(0, len(self.nn_layers) - 1)]\n",
    "\n",
    "            ypredicted = self.model_prediction(self.train_data, self.n_train)\n",
    "            train_loss.append(np.mean(total_loss))\n",
    "            accuracy_train.append(self.accuracy(train_targets, ypredicted, data_length)[0])\n",
    "            accuracy_val.append(self.accuracy(self.val_targets, self.model_prediction(self.val_data, self.n_val), self.n_val)[0])\n",
    "\n",
    "            print(\"epoch: %d, loss: %.3e, accuracy_train: %.2f, accuracy_val: %.2f, learning rate: %.3e\" % (epoch, train_loss[epoch], accuracy_train[epoch], accuracy_val[epoch], self.lr))\n",
    "            wandb.log({'loss':np.mean(train_loss), 'trainingaccuracy':accuracy_train[epoch], 'validationaccuracy':accuracy_val[epoch],'epoch':epoch })\n",
    "\n",
    "        return train_loss, accuracy_train, accuracy_val, ypredicted\n",
    "\n",
    "\n",
    "\n",
    "\n",
    "\n",
    "    def nesterov(self, epochs, data_length, batch_size, lr, weight_decay = 0):\n",
    "        beta = 0.9\n",
    "        train_data = self.train_data[:, :data_length]\n",
    "        train_targets = self.train_targets[:, :data_length]\n",
    "\n",
    "        train_loss = []\n",
    "        accuracy_train = []\n",
    "        accuracy_val = []\n",
    "\n",
    "        n_layers = len(self.nn_layers)\n",
    "        vw_before = [np.zeros((self.nn_layers[i + 1], self.nn_layers[i])) for i in range(0, len(self.nn_layers) - 1)]\n",
    "        vb_before = [np.zeros((self.nn_layers[i + 1], 1)) for i in range(0, len(self.nn_layers) - 1)]\n",
    "        n_points = 0\n",
    "\n",
    "        for epoch in range(epochs):\n",
    "            #idx = np.arange(data_length)\n",
    "            #np.random.shuffle(idx)\n",
    "            idx = np.random.shuffle(np.arange(data_length))\n",
    "            train_data = train_data[:, idx].reshape(self.input_size, data_length)\n",
    "            train_targets = train_targets[:, idx].reshape(self.n_classes, data_length)\n",
    "\n",
    "\n",
    "            delta_W = [np.zeros((self.nn_layers[i + 1], self.nn_layers[i])) for i in range(0, len(self.nn_layers) - 1)]\n",
    "            delta_b = [np.zeros((self.nn_layers[i + 1], 1)) for i in range(0, len(self.nn_layers) - 1)]\n",
    "\n",
    "            total_loss = []\n",
    "\n",
    "            vw = [beta * vw_before[j]  for j in range(0, len(self.nn_layers) - 1)]\n",
    "            vb = [beta * vb_before[j]  for j in range(0, len(self.nn_layers) - 1)]\n",
    "\n",
    "            for i in range(data_length):\n",
    "                w_interval = {str(i + 1): self.weights[str(i + 1)] - vw[i] for i in range(0, len(self.nn_layers) - 1)}\n",
    "                b_interval = {str(i + 1): self.biases[str(i + 1)] - vb[i] for i in range(0, len(self.nn_layers) - 1)}\n",
    "\n",
    "                ypred, h, z = self.forwardpropagation(train_data[:, i].reshape(self.input_size, 1), w_interval, b_interval)\n",
    "\n",
    "                weights_grad, biases_grad = self.backpropagation(ypred, h, z, train_targets[:, i].reshape(self.n_classes, 1))\n",
    "\n",
    "                delta_W = [weights_grad[n_layers - 2 - j] + delta_W[j] for j in range(n_layers - 1)]\n",
    "                delta_b = [biases_grad[n_layers - 2 - j] + delta_b[j] for j in range(n_layers - 1)]\n",
    "\n",
    "                total_loss.append(self.cross_entropy_loss(self.train_targets[:, i].reshape(self.n_classes, 1), ypred) + self.L2_regularization_loss(weight_decay))\n",
    "\n",
    "                n_points += 1\n",
    "\n",
    "                if int(n_points) % batch_size == 0:\n",
    "                   vw = [beta * vw_before[j] + lr * delta_W[j] / batch_size for j in range(n_layers - 1)]\n",
    "                   vb = [beta * vb_before[j] + lr * delta_b[j] / batch_size for j in range(n_layers - 1)]\n",
    "\n",
    "                   self.weights = { str(j + 1) : (self.weights[str(j + 1)] - vw[j]) for j in range(len(self.weights))}\n",
    "                   self.biases = { str(j + 1) : (self.biases[str(j + 1)] - vb[j]) for j in range(len(self.biases))}\n",
    "\n",
    "                   vw_before = vw\n",
    "                   vb_before = vb\n",
    "\n",
    "                   delta_W = [np.zeros((self.nn_layers[i + 1], self.nn_layers[i])) for i in range(0, len(self.nn_layers) - 1)]\n",
    "                   delta_b = [np.zeros((self.nn_layers[i + 1], 1)) for i in range(0, len(self.nn_layers) - 1)]\n",
    "\n",
    "            ypredicted = self.model_prediction(self.train_data, self.n_train)\n",
    "            train_loss.append(np.mean(total_loss))\n",
    "            accuracy_train.append(self.accuracy(train_targets, ypredicted, data_length)[0])\n",
    "            accuracy_val.append(self.accuracy(self.val_targets, self.model_prediction(self.val_data, self.n_val), self.n_val)[0])\n",
    "\n",
    "            print(\"epoch: %d, loss: %.3e, accuracy_train: %.2f, accuracy_val: %.2f, learning rate: %.3e\" % (epoch, train_loss[epoch], accuracy_train[epoch], accuracy_val[epoch], self.lr))\n",
    "            wandb.log({'loss':np.mean(train_loss), 'trainingaccuracy':accuracy_train[epoch], 'validationaccuracy':accuracy_val[epoch],'epoch':epoch })\n",
    "\n",
    "        return train_loss, accuracy_train, accuracy_val, ypredicted"
   ]
  },
  {
   "cell_type": "markdown",
   "metadata": {
    "id": "AUzmnHt5nH7u"
   },
   "source": []
  },
  {
   "cell_type": "markdown",
   "metadata": {
    "id": "RlF2OHGBngbJ"
   },
   "source": []
  },
  {
   "cell_type": "markdown",
   "metadata": {
    "id": "6XW7t868nz9E"
   },
   "source": []
  },
  {
   "cell_type": "markdown",
   "metadata": {
    "id": "BsaMzdKcoCm8"
   },
   "source": []
  },
  {
   "cell_type": "markdown",
   "metadata": {
    "id": "ZFHWziy-oRQC"
   },
   "source": []
  },
  {
   "cell_type": "markdown",
   "metadata": {
    "id": "47P3t7NKof6H"
   },
   "source": []
  },
  {
   "cell_type": "markdown",
   "metadata": {
    "id": "g_kCCBigoui7"
   },
   "source": []
  },
  {
   "cell_type": "markdown",
   "metadata": {
    "id": "y8uLTr9EpL26"
   },
   "source": []
  },
  {
   "cell_type": "markdown",
   "metadata": {
    "id": "zhE6jNycpNkX"
   },
   "source": []
  },
  {
   "cell_type": "markdown",
   "metadata": {
    "id": "AZ4pkppIpRNs"
   },
   "source": []
  },
  {
   "cell_type": "markdown",
   "metadata": {
    "id": "Bi0CpLvVpaav"
   },
   "source": []
  },
  {
   "cell_type": "markdown",
   "metadata": {
    "id": "OiaDLtBZpvhu"
   },
   "source": []
  },
  {
   "cell_type": "markdown",
   "metadata": {
    "id": "xls1hlN_p4Dh"
   },
   "source": []
  },
  {
   "cell_type": "markdown",
   "metadata": {
    "id": "4pjIJAR7qVF3"
   },
   "source": []
  },
  {
   "cell_type": "markdown",
   "metadata": {
    "id": "D0XQBeshqjuv"
   },
   "source": []
  },
  {
   "cell_type": "markdown",
   "metadata": {
    "id": "EhZrN9k1qyYj"
   },
   "source": []
  },
  {
   "cell_type": "markdown",
   "metadata": {
    "id": "nJU7oDp5rBB5"
   },
   "source": []
  },
  {
   "cell_type": "markdown",
   "metadata": {
    "id": "MucKeT-prPsQ"
   },
   "source": []
  },
  {
   "cell_type": "markdown",
   "metadata": {
    "id": "WpEuojW2rfdg"
   },
   "source": []
  },
  {
   "cell_type": "markdown",
   "metadata": {
    "id": "WhgiRqZHr7on"
   },
   "source": []
  },
  {
   "cell_type": "markdown",
   "metadata": {
    "id": "arNMRoDJsKRW"
   },
   "source": []
  },
  {
   "cell_type": "markdown",
   "metadata": {
    "id": "N9H4WKfosPwE"
   },
   "source": []
  },
  {
   "cell_type": "markdown",
   "metadata": {
    "id": "8EUyONbusnlC"
   },
   "source": []
  },
  {
   "cell_type": "markdown",
   "metadata": {
    "id": "niUdKgdjs2Oc"
   },
   "source": []
  },
  {
   "cell_type": "markdown",
   "metadata": {
    "id": "cJS95wAitE4b"
   },
   "source": []
  },
  {
   "cell_type": "markdown",
   "metadata": {
    "id": "URyFOz-NtVGD"
   },
   "source": []
  },
  {
   "cell_type": "markdown",
   "metadata": {
    "id": "cBZTeQCjtw0s"
   },
   "source": []
  },
  {
   "cell_type": "markdown",
   "metadata": {
    "id": "hAARj5Cet_tH"
   },
   "source": []
  },
  {
   "cell_type": "markdown",
   "metadata": {
    "id": "Id5PHy7MuD1C"
   },
   "source": []
  },
  {
   "cell_type": "markdown",
   "metadata": {
    "id": "3sOdkUqvucw1"
   },
   "source": []
  },
  {
   "cell_type": "markdown",
   "metadata": {
    "id": "31U-EfeJuraP"
   },
   "source": []
  },
  {
   "cell_type": "markdown",
   "metadata": {
    "id": "vqrQQqiHvItC"
   },
   "source": []
  },
  {
   "cell_type": "markdown",
   "metadata": {
    "id": "dVj9WRZrvXWq"
   },
   "source": []
  },
  {
   "cell_type": "markdown",
   "metadata": {
    "id": "5aaN9B9-vmAb"
   },
   "source": []
  },
  {
   "cell_type": "markdown",
   "metadata": {
    "id": "K7WKdAv2v0qb"
   },
   "source": []
  },
  {
   "cell_type": "markdown",
   "metadata": {
    "id": "gy9osrfYwE2_"
   },
   "source": []
  },
  {
   "cell_type": "markdown",
   "metadata": {
    "id": "KKh4XxV-wgmD"
   },
   "source": []
  },
  {
   "cell_type": "markdown",
   "metadata": {
    "id": "QMMbyqHBwvP2"
   },
   "source": []
  },
  {
   "cell_type": "markdown",
   "metadata": {
    "id": "XrOAZwebw95Z"
   },
   "source": []
  },
  {
   "cell_type": "markdown",
   "metadata": {
    "id": "Zw15P5N4xp1y"
   },
   "source": []
  },
  {
   "cell_type": "markdown",
   "metadata": {
    "id": "bfQvOH_HyCAH"
   },
   "source": []
  },
  {
   "cell_type": "markdown",
   "metadata": {
    "id": "Z1AUWgNeyVyX"
   },
   "source": []
  },
  {
   "cell_type": "markdown",
   "metadata": {
    "id": "s1F904cUyzEd"
   },
   "source": []
  },
  {
   "cell_type": "markdown",
   "metadata": {
    "id": "BHTpikpnzQYm"
   },
   "source": []
  },
  {
   "cell_type": "markdown",
   "metadata": {
    "id": "ebJlzIAqzfBz"
   },
   "source": []
  },
  {
   "cell_type": "markdown",
   "metadata": {
    "id": "n8IiLyt2ztrY"
   },
   "source": []
  },
  {
   "cell_type": "markdown",
   "metadata": {
    "id": "BtIiDGpX0K-g"
   },
   "source": []
  },
  {
   "cell_type": "markdown",
   "metadata": {
    "id": "TJ8UFHew0Znr"
   },
   "source": []
  },
  {
   "cell_type": "markdown",
   "metadata": {
    "id": "N2q3CSm90oRb"
   },
   "source": []
  },
  {
   "cell_type": "markdown",
   "metadata": {
    "id": "pUTl9I1b1Fkg"
   },
   "source": []
  },
  {
   "cell_type": "markdown",
   "metadata": {
    "id": "0qK7yVQg1UNV"
   },
   "source": []
  },
  {
   "cell_type": "markdown",
   "metadata": {
    "id": "y4iw1x861i3Y"
   },
   "source": []
  },
  {
   "cell_type": "markdown",
   "metadata": {
    "id": "nOrsP2Ck1xhF"
   },
   "source": []
  },
  {
   "cell_type": "markdown",
   "metadata": {
    "id": "2jgxtp1p2AJz"
   },
   "source": []
  },
  {
   "cell_type": "markdown",
   "metadata": {
    "id": "MtfBCyzF2ddU"
   },
   "source": []
  },
  {
   "cell_type": "markdown",
   "metadata": {
    "id": "I4ljXXnl2sGv"
   },
   "source": []
  },
  {
   "cell_type": "markdown",
   "metadata": {
    "id": "FoFhHKc326wr"
   },
   "source": []
  },
  {
   "cell_type": "markdown",
   "metadata": {
    "id": "IYEnom3a3YDc"
   },
   "source": []
  },
  {
   "cell_type": "markdown",
   "metadata": {
    "id": "hOJ7Ab9f3msT"
   },
   "source": []
  },
  {
   "cell_type": "markdown",
   "metadata": {
    "id": "a2o4_UOs31WW"
   },
   "source": []
  },
  {
   "cell_type": "markdown",
   "metadata": {
    "id": "twO3T5eY4Spe"
   },
   "source": []
  },
  {
   "cell_type": "markdown",
   "metadata": {
    "id": "bJvnD0v64hSh"
   },
   "source": []
  },
  {
   "cell_type": "markdown",
   "metadata": {
    "id": "P8vkR_Z24v86"
   },
   "source": []
  },
  {
   "cell_type": "markdown",
   "metadata": {
    "id": "-7dNXQVR5NPT"
   },
   "source": []
  },
  {
   "cell_type": "markdown",
   "metadata": {
    "id": "UfD5OpGk5b4c"
   },
   "source": []
  },
  {
   "cell_type": "markdown",
   "metadata": {
    "id": "Gxc2gONA5qif"
   },
   "source": []
  },
  {
   "cell_type": "markdown",
   "metadata": {
    "id": "u2IaylBh55Ls"
   },
   "source": []
  },
  {
   "cell_type": "markdown",
   "metadata": {
    "id": "wY7ybZ0F6Jxt"
   },
   "source": []
  },
  {
   "cell_type": "markdown",
   "metadata": {
    "id": "dAB7qkJU6lIa"
   },
   "source": []
  },
  {
   "cell_type": "markdown",
   "metadata": {
    "id": "omhFiOeN6zxr"
   },
   "source": []
  },
  {
   "cell_type": "markdown",
   "metadata": {
    "id": "3CqjV9SO7Cbe"
   },
   "source": []
  },
  {
   "cell_type": "markdown",
   "metadata": {
    "id": "oPZMOkCm7fud"
   },
   "source": []
  },
  {
   "cell_type": "markdown",
   "metadata": {
    "id": "iGIpIDXg7uX1"
   },
   "source": []
  },
  {
   "cell_type": "markdown",
   "metadata": {
    "id": "HigW2lov79Bo"
   },
   "source": []
  },
  {
   "cell_type": "markdown",
   "metadata": {
    "id": "RRjxT1Ia8aUh"
   },
   "source": []
  },
  {
   "cell_type": "markdown",
   "metadata": {
    "id": "EkS-70Du8o9X"
   },
   "source": []
  },
  {
   "cell_type": "markdown",
   "metadata": {
    "id": "2T0MpwMP83nm"
   },
   "source": []
  },
  {
   "cell_type": "markdown",
   "metadata": {
    "id": "BCWSmqrO9GRH"
   },
   "source": []
  },
  {
   "cell_type": "markdown",
   "metadata": {
    "id": "90xxosIl9U6D"
   },
   "source": []
  },
  {
   "cell_type": "markdown",
   "metadata": {
    "id": "u3adZ-iy9yOA"
   },
   "source": []
  },
  {
   "cell_type": "markdown",
   "metadata": {
    "id": "XLpsqw-S-A2d"
   },
   "source": []
  },
  {
   "cell_type": "markdown",
   "metadata": {
    "id": "fhGS31jj-eKW"
   },
   "source": []
  },
  {
   "cell_type": "markdown",
   "metadata": {
    "id": "rX8QoSup-szY"
   },
   "source": []
  },
  {
   "cell_type": "markdown",
   "metadata": {
    "id": "GM7OLmtm_KHE"
   },
   "source": []
  },
  {
   "cell_type": "markdown",
   "metadata": {
    "id": "Ta2M0xOh_Yv3"
   },
   "source": []
  },
  {
   "cell_type": "markdown",
   "metadata": {
    "id": "HQNwCtqk_2DE"
   },
   "source": []
  },
  {
   "cell_type": "markdown",
   "metadata": {
    "id": "ZYOypDWcAErr"
   },
   "source": []
  },
  {
   "cell_type": "markdown",
   "metadata": {
    "id": "AzyYUyQCATWa"
   },
   "source": []
  },
  {
   "cell_type": "markdown",
   "metadata": {
    "id": "B1thBbz5Akqy"
   },
   "source": []
  },
  {
   "cell_type": "markdown",
   "metadata": {
    "id": "BVMWdjaTA_Sm"
   },
   "source": []
  },
  {
   "cell_type": "markdown",
   "metadata": {
    "id": "SjP7eZVFBN7o"
   },
   "source": []
  },
  {
   "cell_type": "markdown",
   "metadata": {
    "id": "GzrOPgWOBrOu"
   },
   "source": []
  },
  {
   "cell_type": "markdown",
   "metadata": {
    "id": "Ox1OuEEFB54P"
   },
   "source": []
  },
  {
   "cell_type": "markdown",
   "metadata": {
    "id": "rpTKSy4_CIip"
   },
   "source": []
  },
  {
   "cell_type": "markdown",
   "metadata": {
    "id": "CS0azJwECXk7"
   },
   "source": []
  },
  {
   "cell_type": "markdown",
   "metadata": {
    "id": "xEDHty9uC0er"
   },
   "source": []
  },
  {
   "cell_type": "markdown",
   "metadata": {
    "id": "VVjmGKssDDH4"
   },
   "source": []
  },
  {
   "cell_type": "markdown",
   "metadata": {
    "id": "KFipP6bZDgbR"
   },
   "source": []
  },
  {
   "cell_type": "markdown",
   "metadata": {
    "id": "4i90YM_iDvEb"
   },
   "source": []
  },
  {
   "cell_type": "markdown",
   "metadata": {
    "id": "6w-FgyslEMXr"
   },
   "source": []
  },
  {
   "cell_type": "markdown",
   "metadata": {
    "id": "f946CdifEbAq"
   },
   "source": []
  },
  {
   "cell_type": "markdown",
   "metadata": {
    "id": "u6bXU5qUE4UO"
   },
   "source": []
  },
  {
   "cell_type": "markdown",
   "metadata": {
    "id": "JLbg0RQOFG9X"
   },
   "source": []
  },
  {
   "cell_type": "markdown",
   "metadata": {
    "id": "KeT_nSG7FVne"
   },
   "source": []
  },
  {
   "cell_type": "markdown",
   "metadata": {
    "id": "3Hoavc0qFqZu"
   },
   "source": []
  },
  {
   "cell_type": "markdown",
   "metadata": {
    "id": "7fviA9JYGBkK"
   },
   "source": []
  },
  {
   "cell_type": "markdown",
   "metadata": {
    "id": "TLPgbpB6Ge2R"
   },
   "source": []
  },
  {
   "cell_type": "markdown",
   "metadata": {
    "id": "iFgMFxKHHKzL"
   },
   "source": []
  },
  {
   "cell_type": "markdown",
   "metadata": {
    "id": "z8KdFYaMHZcO"
   },
   "source": []
  },
  {
   "cell_type": "markdown",
   "metadata": {
    "id": "gErH99_rHxeI"
   },
   "source": []
  },
  {
   "cell_type": "markdown",
   "metadata": {
    "id": "UM-55OXiHxqN"
   },
   "source": []
  },
  {
   "cell_type": "markdown",
   "metadata": {
    "id": "RWsTrRATH8Wn"
   },
   "source": []
  },
  {
   "cell_type": "markdown",
   "metadata": {
    "id": "Dkop4nLDIUGY"
   },
   "source": []
  },
  {
   "cell_type": "markdown",
   "metadata": {
    "id": "IqobVXYaIxV1"
   },
   "source": []
  },
  {
   "cell_type": "markdown",
   "metadata": {
    "id": "ZPh6E99sI_-j"
   },
   "source": []
  },
  {
   "cell_type": "markdown",
   "metadata": {
    "id": "4F1jaU7CJdSU"
   },
   "source": []
  },
  {
   "cell_type": "markdown",
   "metadata": {
    "id": "yDOpGpY-KJOS"
   },
   "source": []
  },
  {
   "cell_type": "markdown",
   "metadata": {
    "id": "SIqFzMyhKX4a"
   },
   "source": []
  },
  {
   "cell_type": "markdown",
   "metadata": {
    "id": "-Ou_sFIBKmha"
   },
   "source": []
  },
  {
   "cell_type": "markdown",
   "metadata": {
    "id": "ZrRhUVGFLD1F"
   },
   "source": []
  },
  {
   "cell_type": "markdown",
   "metadata": {
    "id": "Lp8S_d-uLSdb"
   },
   "source": []
  },
  {
   "cell_type": "markdown",
   "metadata": {
    "id": "Q4odck36LvxU"
   },
   "source": []
  },
  {
   "cell_type": "markdown",
   "metadata": {
    "id": "ANE9YlI7L-aV"
   },
   "source": []
  },
  {
   "cell_type": "markdown",
   "metadata": {
    "id": "3WFcOB_pMbtg"
   },
   "source": []
  },
  {
   "cell_type": "markdown",
   "metadata": {
    "id": "KzXzUl03M3yY"
   },
   "source": []
  },
  {
   "cell_type": "markdown",
   "metadata": {
    "id": "IfOjPuKcNWTz"
   },
   "source": []
  },
  {
   "cell_type": "markdown",
   "metadata": {
    "id": "gNpjr-NLNk9C"
   },
   "source": []
  },
  {
   "cell_type": "markdown",
   "metadata": {
    "id": "9zewctlBN4F8"
   },
   "source": []
  },
  {
   "cell_type": "markdown",
   "metadata": {
    "id": "2azWJPf8OCu4"
   },
   "source": []
  },
  {
   "cell_type": "markdown",
   "metadata": {
    "id": "ne7Qf2LROfjZ"
   },
   "source": []
  },
  {
   "cell_type": "markdown",
   "metadata": {
    "id": "DfIUNU88O77s"
   },
   "source": []
  },
  {
   "cell_type": "markdown",
   "metadata": {
    "id": "900p7gCQO8NL"
   },
   "source": []
  },
  {
   "cell_type": "markdown",
   "metadata": {
    "id": "ED6HtU4GPoy8"
   },
   "source": []
  },
  {
   "cell_type": "markdown",
   "metadata": {
    "id": "L7Z-wZhhP4pd"
   },
   "source": []
  },
  {
   "cell_type": "markdown",
   "metadata": {
    "id": "6PYCsbjYQUvM"
   },
   "source": []
  },
  {
   "cell_type": "markdown",
   "metadata": {
    "id": "UmXILfIeQyB3"
   },
   "source": []
  },
  {
   "cell_type": "markdown",
   "metadata": {
    "id": "MgLHHRQ3RdAA"
   },
   "source": []
  },
  {
   "cell_type": "markdown",
   "metadata": {
    "id": "i5A6ZqIERr46"
   },
   "source": []
  },
  {
   "cell_type": "markdown",
   "metadata": {
    "id": "IkxyRozUSJ6y"
   },
   "source": []
  },
  {
   "cell_type": "markdown",
   "metadata": {
    "id": "_W_v-260S13n"
   },
   "source": []
  },
  {
   "cell_type": "markdown",
   "metadata": {
    "id": "CIMSgSSOTEg8"
   },
   "source": []
  },
  {
   "cell_type": "markdown",
   "metadata": {
    "id": "ZxrSPJK5Th0j"
   },
   "source": []
  },
  {
   "cell_type": "markdown",
   "metadata": {
    "id": "PmiCW1anT_G_"
   },
   "source": []
  },
  {
   "cell_type": "markdown",
   "metadata": {
    "id": "mm57ijFcUNw5"
   },
   "source": []
  },
  {
   "cell_type": "markdown",
   "metadata": {
    "id": "nyE0RMyBUrDw"
   },
   "source": []
  },
  {
   "cell_type": "markdown",
   "metadata": {
    "id": "srCEwVxnU5sw"
   },
   "source": []
  },
  {
   "cell_type": "markdown",
   "metadata": {
    "id": "9OV10-R_VXAh"
   },
   "source": []
  },
  {
   "cell_type": "markdown",
   "metadata": {
    "id": "aGMprlE4Vlpg"
   },
   "source": []
  },
  {
   "cell_type": "markdown",
   "metadata": {
    "id": "lJnM5YqCWCbQ"
   },
   "source": []
  },
  {
   "cell_type": "markdown",
   "metadata": {
    "id": "rb_o60BAWC0q"
   },
   "source": []
  },
  {
   "cell_type": "markdown",
   "metadata": {
    "id": "UhjNqV80WIy6"
   },
   "source": []
  },
  {
   "cell_type": "markdown",
   "metadata": {
    "id": "D_Ac0K9eWu4p"
   },
   "source": []
  },
  {
   "cell_type": "markdown",
   "metadata": {
    "id": "xLChTmIUW9i7"
   },
   "source": []
  },
  {
   "cell_type": "markdown",
   "metadata": {
    "id": "pfXKrJ_2Xa2D"
   },
   "source": []
  },
  {
   "cell_type": "markdown",
   "metadata": {
    "id": "qRx6DsasXpe0"
   },
   "source": []
  },
  {
   "cell_type": "markdown",
   "metadata": {
    "id": "IIxmRYhcYGyP"
   },
   "source": []
  },
  {
   "cell_type": "markdown",
   "metadata": {
    "id": "BbVOUzujYV6X"
   },
   "source": []
  },
  {
   "cell_type": "markdown",
   "metadata": {
    "id": "7pGjaczEYyu7"
   },
   "source": []
  },
  {
   "cell_type": "markdown",
   "metadata": {
    "id": "rGBqaQK3ZC6Q"
   },
   "source": []
  },
  {
   "cell_type": "markdown",
   "metadata": {
    "id": "PPHzr4nOZerA"
   },
   "source": []
  },
  {
   "cell_type": "markdown",
   "metadata": {
    "id": "iVsNEC9wZ7-I"
   },
   "source": []
  },
  {
   "cell_type": "markdown",
   "metadata": {
    "id": "nGqpC6K2aKnr"
   },
   "source": []
  },
  {
   "cell_type": "markdown",
   "metadata": {
    "id": "umQ927cBa2kC"
   },
   "source": []
  },
  {
   "cell_type": "markdown",
   "metadata": {
    "id": "a8WSON5rbIyF"
   },
   "source": []
  },
  {
   "cell_type": "markdown",
   "metadata": {
    "id": "t9S4JzXWbijv"
   },
   "source": []
  },
  {
   "cell_type": "markdown",
   "metadata": {
    "id": "hjtZwk37b_T3"
   },
   "source": []
  },
  {
   "cell_type": "markdown",
   "metadata": {
    "id": "k0MJuWh7cdG5"
   },
   "source": []
  },
  {
   "cell_type": "markdown",
   "metadata": {
    "id": "9ExO6nKWcrvh"
   },
   "source": []
  },
  {
   "cell_type": "markdown",
   "metadata": {
    "id": "JbyA_qerdJDT"
   },
   "source": []
  },
  {
   "cell_type": "markdown",
   "metadata": {
    "id": "s74CAyuAdmVh"
   },
   "source": []
  },
  {
   "cell_type": "markdown",
   "metadata": {
    "id": "2sl65ZE0d1AA"
   },
   "source": []
  },
  {
   "cell_type": "markdown",
   "metadata": {
    "id": "codcP1Y2eSTA"
   },
   "source": []
  },
  {
   "cell_type": "markdown",
   "metadata": {
    "id": "5m30fQiUeg8B"
   },
   "source": []
  },
  {
   "cell_type": "markdown",
   "metadata": {
    "id": "RCQYb_F3e-PZ"
   },
   "source": []
  },
  {
   "cell_type": "markdown",
   "metadata": {
    "id": "JIhydj1-fbhz"
   },
   "source": []
  },
  {
   "cell_type": "markdown",
   "metadata": {
    "id": "eCNPg3zyfqMB"
   },
   "source": []
  },
  {
   "cell_type": "markdown",
   "metadata": {
    "id": "zxyYnsoSgHfD"
   },
   "source": []
  },
  {
   "cell_type": "markdown",
   "metadata": {
    "id": "vwD_1pEQgXGP"
   },
   "source": []
  },
  {
   "cell_type": "markdown",
   "metadata": {
    "id": "DRju3W3TgzbR"
   },
   "source": []
  },
  {
   "cell_type": "markdown",
   "metadata": {
    "id": "7R6tD3SShQuW"
   },
   "source": []
  },
  {
   "cell_type": "markdown",
   "metadata": {
    "id": "VIymB-z-hfXy"
   },
   "source": []
  },
  {
   "cell_type": "markdown",
   "metadata": {
    "id": "uZOTE7VIh8q4"
   },
   "source": []
  },
  {
   "cell_type": "markdown",
   "metadata": {
    "id": "q4JGBq1IiLTp"
   },
   "source": []
  },
  {
   "cell_type": "markdown",
   "metadata": {
    "id": "285rXaCVionh"
   },
   "source": []
  },
  {
   "cell_type": "markdown",
   "metadata": {
    "id": "yZBYnPQsjGJQ"
   },
   "source": []
  },
  {
   "cell_type": "markdown",
   "metadata": {
    "id": "gype5HoKjjNR"
   },
   "source": []
  },
  {
   "cell_type": "markdown",
   "metadata": {
    "id": "43cqN6gkkAgQ"
   },
   "source": []
  },
  {
   "cell_type": "markdown",
   "metadata": {
    "id": "7mIRa_vLkPKF"
   },
   "source": []
  },
  {
   "cell_type": "markdown",
   "metadata": {
    "id": "HXPSXDsKksdA"
   },
   "source": []
  },
  {
   "cell_type": "markdown",
   "metadata": {
    "id": "X9ByxgTvk7Fm"
   },
   "source": []
  },
  {
   "cell_type": "markdown",
   "metadata": {
    "id": "7ly6NTMdlJwN"
   },
   "source": []
  },
  {
   "cell_type": "markdown",
   "metadata": {
    "id": "63Uh60DFlnC_"
   },
   "source": []
  },
  {
   "cell_type": "markdown",
   "metadata": {
    "id": "rQ86QNcUl4X3"
   },
   "source": []
  },
  {
   "cell_type": "markdown",
   "metadata": {
    "id": "V8BkIlhPmS_x"
   },
   "source": []
  },
  {
   "cell_type": "markdown",
   "metadata": {
    "id": "Hh4z0y18mwR3"
   },
   "source": []
  },
  {
   "cell_type": "markdown",
   "metadata": {
    "id": "BX5YUggsm-7t"
   },
   "source": []
  },
  {
   "cell_type": "markdown",
   "metadata": {
    "id": "1-zNyGx4ncPB"
   },
   "source": []
  },
  {
   "cell_type": "markdown",
   "metadata": {
    "id": "R4831ilJnq4K"
   },
   "source": []
  },
  {
   "cell_type": "markdown",
   "metadata": {
    "id": "aXul-xygoILm"
   },
   "source": []
  },
  {
   "cell_type": "markdown",
   "metadata": {
    "id": "HhzPJf2zoleM"
   },
   "source": []
  },
  {
   "cell_type": "markdown",
   "metadata": {
    "id": "5oCSmBMOo0Ia"
   },
   "source": []
  },
  {
   "cell_type": "markdown",
   "metadata": {
    "id": "SyJbnVbGpRbQ"
   },
   "source": []
  },
  {
   "cell_type": "markdown",
   "metadata": {
    "id": "dC27a3LupgEB"
   },
   "source": []
  },
  {
   "cell_type": "markdown",
   "metadata": {
    "id": "jhkFajGfp9Xu"
   },
   "source": []
  },
  {
   "cell_type": "markdown",
   "metadata": {
    "id": "ouZ78a7wqMPi"
   },
   "source": []
  },
  {
   "cell_type": "markdown",
   "metadata": {
    "id": "k0Znnm-4qpUK"
   },
   "source": []
  },
  {
   "cell_type": "markdown",
   "metadata": {
    "id": "hqvWrsSMrVPp"
   },
   "source": []
  },
  {
   "cell_type": "markdown",
   "metadata": {
    "id": "uutcAxJRrj50"
   },
   "source": []
  },
  {
   "cell_type": "markdown",
   "metadata": {
    "id": "qsX5GMHqsBNK"
   },
   "source": []
  },
  {
   "cell_type": "markdown",
   "metadata": {
    "id": "Q0m1CV2HsP1a"
   },
   "source": []
  },
  {
   "cell_type": "markdown",
   "metadata": {
    "id": "kgAJOxuBstJk"
   },
   "source": []
  },
  {
   "cell_type": "markdown",
   "metadata": {
    "id": "x0vVaACcs7yZ"
   },
   "source": []
  },
  {
   "cell_type": "markdown",
   "metadata": {
    "id": "5jJ96RYntZGL"
   },
   "source": []
  },
  {
   "cell_type": "markdown",
   "metadata": {
    "id": "AuLUnFQztnu8"
   },
   "source": []
  },
  {
   "cell_type": "markdown",
   "metadata": {
    "id": "7dkuscCxuFCV"
   },
   "source": []
  },
  {
   "cell_type": "markdown",
   "metadata": {
    "id": "jesaKQOUuw-f"
   },
   "source": []
  },
  {
   "cell_type": "markdown",
   "metadata": {
    "id": "SwJAsLbLu_o2"
   },
   "source": []
  },
  {
   "cell_type": "markdown",
   "metadata": {
    "id": "KWslVepWvc6m"
   },
   "source": []
  },
  {
   "cell_type": "markdown",
   "metadata": {
    "id": "z9qNbHFYwIom"
   },
   "source": []
  },
  {
   "cell_type": "markdown",
   "metadata": {
    "id": "VfCiyWkjwXhl"
   },
   "source": []
  },
  {
   "cell_type": "markdown",
   "metadata": {
    "id": "MrIQZCCiw00_"
   },
   "source": []
  },
  {
   "cell_type": "markdown",
   "metadata": {
    "id": "8y83vwfIxDdn"
   },
   "source": []
  },
  {
   "cell_type": "markdown",
   "metadata": {
    "id": "JFD5ZUTlxgxF"
   },
   "source": []
  },
  {
   "cell_type": "markdown",
   "metadata": {
    "id": "HN62b5XGxvZq"
   },
   "source": []
  },
  {
   "cell_type": "markdown",
   "metadata": {
    "id": "uOF7RXUTyMty"
   },
   "source": []
  },
  {
   "cell_type": "markdown",
   "metadata": {
    "id": "6h2Eb9XlyYpn"
   },
   "source": []
  },
  {
   "cell_type": "markdown",
   "metadata": {
    "id": "RFWsUCm9y4pq"
   },
   "source": []
  },
  {
   "cell_type": "markdown",
   "metadata": {
    "id": "fcNPqJTyzHSt"
   },
   "source": []
  },
  {
   "cell_type": "markdown",
   "metadata": {
    "id": "LFPH3s6uzkmy"
   },
   "source": []
  },
  {
   "cell_type": "markdown",
   "metadata": {
    "id": "sRVv-EiR0B42"
   },
   "source": []
  },
  {
   "cell_type": "markdown",
   "metadata": {
    "id": "d5UqjSEO0t2P"
   },
   "source": []
  },
  {
   "cell_type": "markdown",
   "metadata": {
    "id": "SHexRyM11LIK"
   },
   "source": []
  },
  {
   "cell_type": "markdown",
   "metadata": {
    "id": "zF6pzAKe1odG"
   },
   "source": []
  },
  {
   "cell_type": "markdown",
   "metadata": {
    "id": "RIAfsBR413Ed"
   },
   "source": []
  },
  {
   "cell_type": "markdown",
   "metadata": {
    "id": "lHb168Fm2UYm"
   },
   "source": []
  },
  {
   "cell_type": "markdown",
   "metadata": {
    "id": "gfoQlPfP2jBw"
   },
   "source": []
  },
  {
   "cell_type": "markdown",
   "metadata": {
    "id": "6Su8yZm63AVD"
   },
   "source": []
  },
  {
   "cell_type": "markdown",
   "metadata": {
    "id": "nO2g7-a23SY3"
   },
   "source": []
  },
  {
   "cell_type": "markdown",
   "metadata": {
    "id": "TQuidRhb3sRu"
   },
   "source": []
  },
  {
   "cell_type": "markdown",
   "metadata": {
    "id": "qKh0W__94YNj"
   },
   "source": []
  },
  {
   "cell_type": "markdown",
   "metadata": {
    "id": "ATXVM6ET41hH"
   },
   "source": []
  },
  {
   "cell_type": "markdown",
   "metadata": {
    "id": "Gtymm58h5SzW"
   },
   "source": []
  },
  {
   "cell_type": "markdown",
   "metadata": {
    "id": "0fhdg0me5hdz"
   },
   "source": []
  },
  {
   "cell_type": "markdown",
   "metadata": {
    "id": "COcHjLj65-v6"
   },
   "source": []
  },
  {
   "cell_type": "markdown",
   "metadata": {
    "id": "c_CBZfZ56cDh"
   },
   "source": []
  },
  {
   "cell_type": "markdown",
   "metadata": {
    "id": "F2KBI-o16qsk"
   },
   "source": []
  },
  {
   "cell_type": "markdown",
   "metadata": {
    "id": "sPVaUHbL7IAC"
   },
   "source": []
  },
  {
   "cell_type": "markdown",
   "metadata": {
    "id": "9M3dlKlY7W4H"
   },
   "source": []
  },
  {
   "cell_type": "markdown",
   "metadata": {
    "id": "6splAETv7z8d"
   },
   "source": []
  },
  {
   "cell_type": "markdown",
   "metadata": {
    "id": "IcaAMe6G8RPU"
   },
   "source": []
  },
  {
   "cell_type": "markdown",
   "metadata": {
    "id": "cHinPMJK89MA"
   },
   "source": []
  },
  {
   "cell_type": "markdown",
   "metadata": {
    "id": "SWjp_wci9aeO"
   },
   "source": []
  },
  {
   "cell_type": "markdown",
   "metadata": {
    "id": "q4xPY8L19pIq"
   },
   "source": []
  },
  {
   "cell_type": "markdown",
   "metadata": {
    "id": "RYn-EXNd96NN"
   },
   "source": []
  },
  {
   "cell_type": "markdown",
   "metadata": {
    "id": "7OjVZXIo-VFE"
   },
   "source": []
  },
  {
   "cell_type": "markdown",
   "metadata": {
    "id": "ND_I2jEx-yXF"
   },
   "source": []
  },
  {
   "cell_type": "markdown",
   "metadata": {
    "id": "m0dSUt1e_eUo"
   },
   "source": []
  },
  {
   "cell_type": "markdown",
   "metadata": {
    "id": "X3VtamJF_s92"
   },
   "source": []
  },
  {
   "cell_type": "markdown",
   "metadata": {
    "id": "Mn0EMcqPAKRb"
   },
   "source": []
  },
  {
   "cell_type": "markdown",
   "metadata": {
    "id": "YEMQnngFAvRI"
   },
   "source": []
  },
  {
   "cell_type": "markdown",
   "metadata": {
    "id": "n6rZ8B15BTgx"
   },
   "source": []
  },
  {
   "cell_type": "markdown",
   "metadata": {
    "id": "IiogYRrFBiJV"
   },
   "source": []
  },
  {
   "cell_type": "markdown",
   "metadata": {
    "id": "Aw1vX3fvB_dC"
   },
   "source": []
  },
  {
   "cell_type": "markdown",
   "metadata": {
    "id": "fUuxLLZfCPsv"
   },
   "source": []
  },
  {
   "cell_type": "markdown",
   "metadata": {
    "id": "EWMVrwiICrZk"
   },
   "source": []
  },
  {
   "cell_type": "markdown",
   "metadata": {
    "id": "YOn8AkmAC6n2"
   },
   "source": []
  },
  {
   "cell_type": "markdown",
   "metadata": {
    "id": "Rz-ObJL7DXWS"
   },
   "source": []
  },
  {
   "cell_type": "markdown",
   "metadata": {
    "id": "VFXfJU9YDpKH"
   },
   "source": []
  },
  {
   "cell_type": "markdown",
   "metadata": {
    "id": "MvGXtwkgEDSB"
   },
   "source": []
  },
  {
   "cell_type": "markdown",
   "metadata": {
    "id": "4aUgQPJVEglN"
   },
   "source": []
  },
  {
   "cell_type": "markdown",
   "metadata": {
    "id": "74T_Qf-yE94M"
   },
   "source": []
  },
  {
   "cell_type": "markdown",
   "metadata": {
    "id": "EDZ7nMNJFbLL"
   },
   "source": []
  },
  {
   "cell_type": "markdown",
   "metadata": {
    "id": "08JdmC-SFp08"
   },
   "source": []
  },
  {
   "cell_type": "markdown",
   "metadata": {
    "id": "sz0nXVl_FyA5"
   },
   "source": []
  },
  {
   "cell_type": "markdown",
   "metadata": {
    "id": "7gYHBayzF4Yc"
   },
   "source": []
  },
  {
   "cell_type": "markdown",
   "metadata": {
    "id": "gc_WJGwmGVxt"
   },
   "source": []
  },
  {
   "cell_type": "markdown",
   "metadata": {
    "id": "PpAFLFmiGzDi"
   },
   "source": []
  },
  {
   "cell_type": "markdown",
   "metadata": {
    "id": "3BRjKam1HfA4"
   },
   "source": []
  },
  {
   "cell_type": "markdown",
   "metadata": {
    "id": "8EysfXUfHtqM"
   },
   "source": []
  },
  {
   "cell_type": "markdown",
   "metadata": {
    "id": "fkQ-a4A3IZm3"
   },
   "source": []
  },
  {
   "cell_type": "markdown",
   "metadata": {
    "id": "owdjWGZ0I25j"
   },
   "source": []
  },
  {
   "cell_type": "markdown",
   "metadata": {
    "id": "ALeOWis-JUMa"
   },
   "source": []
  },
  {
   "cell_type": "markdown",
   "metadata": {
    "id": "QwZerRP9Jxfd"
   },
   "source": []
  },
  {
   "cell_type": "markdown",
   "metadata": {
    "id": "m83vw0R6KAJm"
   },
   "source": []
  },
  {
   "cell_type": "markdown",
   "metadata": {
    "id": "qXJuuUGsKdbt"
   },
   "source": []
  },
  {
   "cell_type": "markdown",
   "metadata": {
    "id": "81OE2aNrK6vd"
   },
   "source": []
  },
  {
   "cell_type": "markdown",
   "metadata": {
    "id": "nPOtfMFpLJY1"
   },
   "source": []
  },
  {
   "cell_type": "markdown",
   "metadata": {
    "id": "i6f4WtTcLmsB"
   },
   "source": []
  },
  {
   "cell_type": "markdown",
   "metadata": {
    "id": "iouaAZJRL1zz"
   },
   "source": []
  },
  {
   "cell_type": "markdown",
   "metadata": {
    "id": "1EsSbIbEMSob"
   },
   "source": []
  },
  {
   "cell_type": "markdown",
   "metadata": {
    "id": "V_FfSZBuM_DT"
   },
   "source": []
  },
  {
   "cell_type": "markdown",
   "metadata": {
    "id": "fgbHiyK4Nqhi"
   },
   "source": []
  },
  {
   "cell_type": "markdown",
   "metadata": {
    "id": "Ik7JSubMN5Zv"
   },
   "source": []
  },
  {
   "cell_type": "markdown",
   "metadata": {
    "id": "dfft-duJOWeG"
   },
   "source": []
  },
  {
   "cell_type": "markdown",
   "metadata": {
    "id": "tqS3uM7AOnD7"
   },
   "source": []
  },
  {
   "cell_type": "markdown",
   "metadata": {
    "id": "8LK7l45HPRGJ"
   },
   "source": []
  },
  {
   "cell_type": "markdown",
   "metadata": {
    "id": "QdW1E0pHPftE"
   },
   "source": []
  },
  {
   "cell_type": "markdown",
   "metadata": {
    "id": "BWjj0MVTP9Aw"
   },
   "source": []
  },
  {
   "cell_type": "markdown",
   "metadata": {
    "id": "s7RRBa80QLp2"
   },
   "source": []
  },
  {
   "cell_type": "markdown",
   "metadata": {
    "id": "ncwcQcuIQ3mF"
   },
   "source": []
  },
  {
   "cell_type": "markdown",
   "metadata": {
    "id": "pyg_Dc7DRGPA"
   },
   "source": []
  },
  {
   "cell_type": "markdown",
   "metadata": {
    "id": "s9oyaQxjSA18"
   },
   "source": []
  },
  {
   "cell_type": "markdown",
   "metadata": {
    "id": "qR9ajMVkSPek"
   },
   "source": []
  },
  {
   "cell_type": "markdown",
   "metadata": {
    "id": "ohuHH2KbSsyn"
   },
   "source": []
  },
  {
   "cell_type": "markdown",
   "metadata": {
    "id": "357MsoAbTKFa"
   },
   "source": []
  },
  {
   "cell_type": "markdown",
   "metadata": {
    "id": "hDYj8F56TYvN"
   },
   "source": []
  },
  {
   "cell_type": "markdown",
   "metadata": {
    "id": "DlmBdnoaT2Bl"
   },
   "source": []
  },
  {
   "cell_type": "markdown",
   "metadata": {
    "id": "nZVV1kt4Uh91"
   },
   "source": []
  },
  {
   "cell_type": "markdown",
   "metadata": {
    "id": "uLm1I6RnU_RP"
   },
   "source": []
  },
  {
   "cell_type": "markdown",
   "metadata": {
    "id": "siBYwMk3VckD"
   },
   "source": []
  },
  {
   "cell_type": "markdown",
   "metadata": {
    "id": "LnUow9EmVrNz"
   },
   "source": []
  },
  {
   "cell_type": "markdown",
   "metadata": {
    "id": "-Xk9joknWIhH"
   },
   "source": []
  },
  {
   "cell_type": "markdown",
   "metadata": {
    "id": "fsXsBULGW0dB"
   },
   "source": []
  },
  {
   "cell_type": "markdown",
   "metadata": {
    "id": "X7p-xFZnXRww"
   },
   "source": []
  },
  {
   "cell_type": "markdown",
   "metadata": {
    "id": "_6juYMTpXvCg"
   },
   "source": []
  },
  {
   "cell_type": "markdown",
   "metadata": {
    "id": "BC9ft8WeX9tG"
   },
   "source": []
  },
  {
   "cell_type": "markdown",
   "metadata": {
    "id": "DnE2zrK-YbAP"
   },
   "source": []
  },
  {
   "cell_type": "markdown",
   "metadata": {
    "id": "CSeT8_x4Ypoo"
   },
   "source": []
  },
  {
   "cell_type": "markdown",
   "metadata": {
    "id": "1xwMJ3bLZVlp"
   },
   "source": []
  },
  {
   "cell_type": "markdown",
   "metadata": {
    "id": "R5DIi3siZkO7"
   },
   "source": []
  },
  {
   "cell_type": "markdown",
   "metadata": {
    "id": "snt0p3xmaBir"
   },
   "source": []
  },
  {
   "cell_type": "markdown",
   "metadata": {
    "id": "8e61_ESpae1D"
   },
   "source": []
  },
  {
   "cell_type": "markdown",
   "metadata": {
    "id": "CoLItGxebZay"
   },
   "source": []
  },
  {
   "cell_type": "markdown",
   "metadata": {
    "id": "5EptQa84boEw"
   },
   "source": []
  },
  {
   "cell_type": "markdown",
   "metadata": {
    "id": "NIxDOP2tcFYN"
   },
   "source": []
  },
  {
   "cell_type": "markdown",
   "metadata": {
    "id": "_weqAi6bcUQS"
   },
   "source": []
  },
  {
   "cell_type": "markdown",
   "metadata": {
    "id": "0gReG2FGcxUp"
   },
   "source": []
  },
  {
   "cell_type": "markdown",
   "metadata": {
    "id": "PADuHEgEdOm_"
   },
   "source": []
  },
  {
   "cell_type": "markdown",
   "metadata": {
    "id": "w501ua7odr6j"
   },
   "source": []
  },
  {
   "cell_type": "markdown",
   "metadata": {
    "id": "IvHpJEnreJM6"
   },
   "source": []
  },
  {
   "cell_type": "markdown",
   "metadata": {
    "id": "vVpNJYKAeX3G"
   },
   "source": []
  },
  {
   "cell_type": "markdown",
   "metadata": {
    "id": "UuBl5xrPe1Jr"
   },
   "source": []
  },
  {
   "cell_type": "markdown",
   "metadata": {
    "id": "dy5kZbtqfHUP"
   },
   "source": []
  },
  {
   "cell_type": "markdown",
   "metadata": {
    "id": "XkyN3S8Xfvv7"
   },
   "source": []
  },
  {
   "cell_type": "markdown",
   "metadata": {
    "id": "17dHFhJ9f_W_"
   },
   "source": []
  },
  {
   "cell_type": "markdown",
   "metadata": {
    "id": "c3gKCQqag5AD"
   },
   "source": []
  },
  {
   "cell_type": "markdown",
   "metadata": {
    "id": "ESF7pAcYhWRf"
   },
   "source": []
  },
  {
   "cell_type": "markdown",
   "metadata": {
    "id": "gwcJp8sThzlD"
   },
   "source": []
  },
  {
   "cell_type": "markdown",
   "metadata": {
    "id": "hgswbO2wiQ3q"
   },
   "source": []
  },
  {
   "cell_type": "markdown",
   "metadata": {
    "id": "UNnq_PUYifhy"
   },
   "source": []
  },
  {
   "cell_type": "markdown",
   "metadata": {
    "id": "uFyBxWrai80l"
   },
   "source": []
  },
  {
   "cell_type": "markdown",
   "metadata": {
    "id": "Co-8oDqfjLdj"
   },
   "source": []
  },
  {
   "cell_type": "markdown",
   "metadata": {
    "id": "47vmKH-jj3aZ"
   },
   "source": []
  },
  {
   "cell_type": "markdown",
   "metadata": {
    "id": "msdXBWy1kGDj"
   },
   "source": []
  },
  {
   "cell_type": "markdown",
   "metadata": {
    "id": "bhGr5SuZke-G"
   },
   "source": []
  },
  {
   "cell_type": "markdown",
   "metadata": {
    "id": "ZAuG4x1LlPUF"
   },
   "source": []
  },
  {
   "cell_type": "markdown",
   "metadata": {
    "id": "_w8Ztb80l7QB"
   },
   "source": []
  },
  {
   "cell_type": "markdown",
   "metadata": {
    "id": "laBECjSOmYjq"
   },
   "source": []
  },
  {
   "cell_type": "markdown",
   "metadata": {
    "id": "5oOZa4Lnm11v"
   },
   "source": []
  },
  {
   "cell_type": "markdown",
   "metadata": {
    "id": "UCCKeZkynuvb"
   },
   "source": []
  },
  {
   "cell_type": "markdown",
   "metadata": {
    "id": "2bB3qWcjn0ry"
   },
   "source": []
  },
  {
   "cell_type": "markdown",
   "metadata": {
    "id": "uRJnvVZOn1D5"
   },
   "source": []
  },
  {
   "cell_type": "markdown",
   "metadata": {
    "id": "biWMmhqNocYf"
   },
   "source": []
  },
  {
   "cell_type": "markdown",
   "metadata": {
    "id": "IZl5KicSo5rl"
   },
   "source": []
  },
  {
   "cell_type": "markdown",
   "metadata": {
    "id": "M-MriM_KpW_R"
   },
   "source": []
  },
  {
   "cell_type": "markdown",
   "metadata": {
    "id": "W9xAJHPFp0Ro"
   },
   "source": []
  },
  {
   "cell_type": "markdown",
   "metadata": {
    "id": "qO6m3Q3hqRle"
   },
   "source": []
  },
  {
   "cell_type": "markdown",
   "metadata": {
    "id": "xB964uf7qu3Z"
   },
   "source": []
  },
  {
   "cell_type": "markdown",
   "metadata": {
    "id": "4uCHsJw7rnB3"
   },
   "source": []
  },
  {
   "cell_type": "markdown",
   "metadata": {
    "id": "t7Zgqd1xr4G1"
   },
   "source": []
  },
  {
   "cell_type": "markdown",
   "metadata": {
    "id": "L9f7VqdDskDd"
   },
   "source": []
  },
  {
   "cell_type": "markdown",
   "metadata": {
    "id": "3UEtZA2ltP_r"
   },
   "source": []
  },
  {
   "cell_type": "markdown",
   "metadata": {
    "id": "Z_vQZg8kt78n"
   },
   "source": []
  },
  {
   "cell_type": "markdown",
   "metadata": {
    "id": "ShVdgM5EuZPS"
   },
   "source": []
  },
  {
   "cell_type": "markdown",
   "metadata": {
    "id": "L64JH7Ezu2jU"
   },
   "source": []
  },
  {
   "cell_type": "markdown",
   "metadata": {
    "id": "3GqgeNyqvT1X"
   },
   "source": []
  },
  {
   "cell_type": "markdown",
   "metadata": {
    "id": "HSqImovlv_y2"
   },
   "source": []
  },
  {
   "cell_type": "markdown",
   "metadata": {
    "id": "WZIE6Jq7wdFL"
   },
   "source": []
  },
  {
   "cell_type": "markdown",
   "metadata": {
    "id": "yr7NgawmxJB_"
   },
   "source": []
  },
  {
   "cell_type": "markdown",
   "metadata": {
    "id": "QbxBHFdIxmUM"
   },
   "source": []
  },
  {
   "cell_type": "markdown",
   "metadata": {
    "id": "NVAiALr6yDod"
   },
   "source": []
  },
  {
   "cell_type": "markdown",
   "metadata": {
    "id": "LV8KEG1xy9-E"
   },
   "source": []
  },
  {
   "cell_type": "markdown",
   "metadata": {
    "id": "9ri7Y75Qzbha"
   },
   "source": []
  },
  {
   "cell_type": "markdown",
   "metadata": {
    "id": "hsFk3QjDz4zp"
   },
   "source": []
  },
  {
   "cell_type": "markdown",
   "metadata": {
    "id": "29P7KXvj0zaL"
   },
   "source": []
  },
  {
   "cell_type": "markdown",
   "metadata": {
    "id": "ikvHCDSA1QsQ"
   },
   "source": []
  },
  {
   "cell_type": "markdown",
   "metadata": {
    "id": "YOQDWY5Q1uAF"
   },
   "source": []
  },
  {
   "cell_type": "markdown",
   "metadata": {
    "id": "kF9TMiew2Z8E"
   },
   "source": []
  },
  {
   "cell_type": "markdown",
   "metadata": {
    "id": "njzPKNJX3Ebu"
   },
   "source": []
  },
  {
   "cell_type": "markdown",
   "metadata": {
    "id": "-XoLJIrX3Uhs"
   },
   "source": []
  },
  {
   "cell_type": "markdown",
   "metadata": {
    "id": "0tKzPVq44PI3"
   },
   "source": []
  },
  {
   "cell_type": "markdown",
   "metadata": {
    "id": "mQmUnKb34sbD"
   },
   "source": []
  },
  {
   "cell_type": "markdown",
   "metadata": {
    "id": "wfRZ9td-5Ju9"
   },
   "source": []
  },
  {
   "cell_type": "markdown",
   "metadata": {
    "id": "TJDxmLPV6ET2"
   },
   "source": []
  },
  {
   "cell_type": "markdown",
   "metadata": {
    "id": "DOdGozjk6hnm"
   },
   "source": []
  },
  {
   "cell_type": "markdown",
   "metadata": {
    "id": "CVyskSfX6-53"
   },
   "source": []
  },
  {
   "cell_type": "markdown",
   "metadata": {
    "id": "vY7r7STq7cN4"
   },
   "source": []
  },
  {
   "cell_type": "markdown",
   "metadata": {
    "id": "K3LlkvCU75gV"
   },
   "source": []
  },
  {
   "cell_type": "markdown",
   "metadata": {
    "id": "S674VFw48Wzz"
   },
   "source": []
  },
  {
   "cell_type": "markdown",
   "metadata": {
    "id": "Z9hmWw4q8lch"
   },
   "source": []
  },
  {
   "cell_type": "markdown",
   "metadata": {
    "id": "NshF7U8J9CwS"
   },
   "source": []
  },
  {
   "cell_type": "markdown",
   "metadata": {
    "id": "fhitukjr9gCa"
   },
   "source": []
  },
  {
   "cell_type": "markdown",
   "metadata": {
    "id": "fhENwS9Z99Wd"
   },
   "source": []
  },
  {
   "cell_type": "markdown",
   "metadata": {
    "id": "BMws7Uo2-aoL"
   },
   "source": []
  },
  {
   "cell_type": "markdown",
   "metadata": {
    "id": "6fNU94bz-37w"
   },
   "source": []
  },
  {
   "cell_type": "markdown",
   "metadata": {
    "id": "ikOvSci3_VOw"
   },
   "source": []
  },
  {
   "cell_type": "markdown",
   "metadata": {
    "id": "ijTxvh_H_yig"
   },
   "source": []
  },
  {
   "cell_type": "markdown",
   "metadata": {
    "id": "tBmACKopAP0e"
   },
   "source": []
  },
  {
   "cell_type": "markdown",
   "metadata": {
    "id": "ygZ-vEVWA7x8"
   },
   "source": []
  },
  {
   "cell_type": "markdown",
   "metadata": {
    "id": "9By6K11rBZDu"
   },
   "source": []
  },
  {
   "cell_type": "markdown",
   "metadata": {
    "id": "e0jWbZ-cCFBE"
   },
   "source": []
  },
  {
   "cell_type": "markdown",
   "metadata": {
    "id": "phFZDh4LC-Is"
   },
   "source": []
  },
  {
   "cell_type": "markdown",
   "metadata": {
    "id": "xuWUBtVkDc6U"
   },
   "source": []
  },
  {
   "cell_type": "markdown",
   "metadata": {
    "id": "afZkEStnD6M5"
   },
   "source": []
  },
  {
   "cell_type": "markdown",
   "metadata": {
    "id": "9KPrnFfoE0yj"
   },
   "source": []
  },
  {
   "cell_type": "markdown",
   "metadata": {
    "id": "mW8QCGwlFSFG"
   },
   "source": []
  },
  {
   "cell_type": "markdown",
   "metadata": {
    "id": "w1g7k1i0FvZa"
   },
   "source": []
  },
  {
   "cell_type": "markdown",
   "metadata": {
    "id": "_V5GI_DVGp-5"
   },
   "source": []
  },
  {
   "cell_type": "markdown",
   "metadata": {
    "id": "8LAWyeGMHHSM"
   },
   "source": []
  },
  {
   "cell_type": "markdown",
   "metadata": {
    "id": "VpXX5g3KHkkh"
   },
   "source": []
  },
  {
   "cell_type": "markdown",
   "metadata": {
    "id": "dH-glbVSIB4U"
   },
   "source": []
  },
  {
   "cell_type": "markdown",
   "metadata": {
    "id": "WV7iqZu3I8du"
   },
   "source": []
  },
  {
   "cell_type": "markdown",
   "metadata": {
    "id": "hOLYiSa6JZxf"
   },
   "source": []
  },
  {
   "cell_type": "markdown",
   "metadata": {
    "id": "2ZZ3GUnXJ3Df"
   },
   "source": []
  },
  {
   "cell_type": "markdown",
   "metadata": {
    "id": "XjIwrgkQKjA-"
   },
   "source": []
  },
  {
   "cell_type": "markdown",
   "metadata": {
    "id": "THELi3NkLAS5"
   },
   "source": []
  },
  {
   "cell_type": "markdown",
   "metadata": {
    "id": "PaElp0VwLdmy"
   },
   "source": []
  },
  {
   "cell_type": "markdown",
   "metadata": {
    "id": "Tw5ZXaVZL65W"
   },
   "source": []
  },
  {
   "cell_type": "markdown",
   "metadata": {
    "id": "HGhgnHGbMYNF"
   },
   "source": []
  },
  {
   "cell_type": "markdown",
   "metadata": {
    "id": "x-WMVGxXM1fU"
   },
   "source": []
  },
  {
   "cell_type": "markdown",
   "metadata": {
    "id": "DXOTWzZuNSy_"
   },
   "source": []
  },
  {
   "cell_type": "markdown",
   "metadata": {
    "id": "Xzx43AYLNwE-"
   },
   "source": []
  },
  {
   "cell_type": "markdown",
   "metadata": {
    "id": "oCSHFfLYONYc"
   },
   "source": []
  },
  {
   "cell_type": "markdown",
   "metadata": {
    "id": "JkNqvu9cOqrJ"
   },
   "source": []
  },
  {
   "cell_type": "markdown",
   "metadata": {
    "id": "k0uoY5qhPH-x"
   },
   "source": []
  },
  {
   "cell_type": "markdown",
   "metadata": {
    "id": "m4cbxe-bPlQ0"
   },
   "source": []
  },
  {
   "cell_type": "markdown",
   "metadata": {
    "id": "--pkTKztQf3F"
   },
   "source": []
  },
  {
   "cell_type": "markdown",
   "metadata": {
    "id": "5pBhJBA4Qu_T"
   },
   "source": []
  },
  {
   "cell_type": "markdown",
   "metadata": {
    "id": "pFhQ5bdoRL0O"
   },
   "source": []
  },
  {
   "cell_type": "markdown",
   "metadata": {
    "id": "5h0sGhFIRjOI"
   },
   "source": []
  },
  {
   "cell_type": "markdown",
   "metadata": {
    "id": "jBreuaidR30r"
   },
   "source": []
  },
  {
   "cell_type": "markdown",
   "metadata": {
    "id": "SIAAzR4vR4HB"
   },
   "source": []
  },
  {
   "cell_type": "markdown",
   "metadata": {
    "id": "RhQHoJzgm-g9"
   },
   "source": []
  },
  {
   "cell_type": "code",
   "execution_count": null,
   "metadata": {
    "colab": {
     "base_uri": "https://localhost:8080/",
     "height": 225
    },
    "id": "pI8vZooywHhy",
    "outputId": "6c3436b6-5d44-4990-fbcf-c5ae11841df2",
    "tags": []
   },
   "outputs": [
    {
     "name": "stdout",
     "output_type": "stream",
     "text": [
      "DATA SET \t SIZE\n",
      "\n",
      "train set \t 54000\n",
      "val set \t 6000\n",
      "test set \t 10000\n"
     ]
    },
    {
     "name": "stderr",
     "output_type": "stream",
     "text": [
      "Failed to detect the name of this notebook, you can set it manually with the WANDB_NOTEBOOK_NAME environment variable to enable code saving.\n",
      "\u001b[34m\u001b[1mwandb\u001b[0m: Logging into wandb.ai. (Learn how to deploy a W&B server locally: https://wandb.me/wandb-server)\n",
      "\u001b[34m\u001b[1mwandb\u001b[0m: You can find your API key in your browser here: https://wandb.ai/authorize\n",
      "\u001b[34m\u001b[1mwandb\u001b[0m: Paste an API key from your profile and hit enter, or press ctrl+c to quit:"
     ]
    }
   ],
   "source": [
    "# creating train, val and test samples\n",
    "total_train_data = train_set.data\n",
    "total_train_data = total_train_data.numpy()  # convert torch tensor to numpy array\n",
    "\n",
    "total_train_targets = train_set.targets\n",
    "total_train_targets = total_train_targets.numpy()   # convert torch tensor to numpy array\n",
    "\n",
    "\n",
    "\n",
    "n_total_train = total_train_data.shape[0]\n",
    "n_train = int(0.9 * n_total_train)\n",
    "n_val = int(0.1 * n_total_train)\n",
    "\n",
    "# randomly shuffle the training set data\n",
    "k1  = np.random.choice(total_train_targets.shape[0], n_total_train, replace=False)\n",
    "total_train_data = total_train_data[k1, :]\n",
    "total_train_targets = total_train_targets[k1]\n",
    "\n",
    "# split the training set into train set and val set\n",
    "train_data = total_train_data[:n_train, :]\n",
    "train_targets = total_train_targets[:n_train]\n",
    "\n",
    "val_data = total_train_data[n_train:, :]\n",
    "val_targets = total_train_targets[n_train:]\n",
    "\n",
    "# randomly shuffle the test data\n",
    "test_data = test_set.data\n",
    "test_data = test_data.numpy()  # convert torch tensor to numpy array\n",
    "\n",
    "test_targets = test_set.targets\n",
    "test_targets = test_targets.numpy()  # convert torch tensor to numpy array\n",
    "\n",
    "n_test = test_data.shape[0]\n",
    "k2 = np.random.choice(test_targets.shape[0], n_test, replace=False)\n",
    "test_data = test_data[k2, :]\n",
    "test_targets = test_targets[k2]\n",
    "\n",
    "print(f\"DATA SET \\t SIZE\\n\")\n",
    "print(f\"train set \\t {n_train}\")\n",
    "print(f\"val set \\t {n_val}\")\n",
    "print(f\"test set \\t {n_test}\")\n",
    "\n",
    "\n",
    "\n",
    "sweep_config = {\n",
    "  \"name\": \"Bayesian Sweep\",\n",
    "  \"method\": \"bayes\",\n",
    "  \"metric\":{\n",
    "  \"name\": \"validationaccuracy\",\n",
    "  \"goal\": \"maximize\"\n",
    "  },\n",
    "  \"parameters\": {\n",
    "        \"max_epochs\": {\n",
    "            \"values\": [5, 10]\n",
    "        },\n",
    "\n",
    "        \"initializer\": {\n",
    "            \"values\": [\"random\", \"xavier\"]\n",
    "        },\n",
    "\n",
    "        \"num_layers\": {\n",
    "            \"values\": [3, 5]\n",
    "        },\n",
    "\n",
    "\n",
    "        \"num_hidden_neurons\": {\n",
    "            \"values\": [32, 64, 128]\n",
    "        },\n",
    "\n",
    "        \"activation\": {\n",
    "            \"values\": [ 'sigmoid',  'tanh', 'relu']\n",
    "        },\n",
    "\n",
    "        \"learning_rate\": {\n",
    "            \"values\": [0.001, 0.0001]\n",
    "        },\n",
    "\n",
    "\n",
    "        \"weight_decay\": {\n",
    "            \"values\": [0, 0.0005,0.5]\n",
    "        },\n",
    "\n",
    "        \"optimizer\": {\n",
    "            \"values\": [\"sgd\", \"momentum\", \"nesterov\"]\n",
    "        },\n",
    "\n",
    "        \"batch_size\": {\n",
    "            \"values\": [16, 32, 64]\n",
    "        }\n",
    "\n",
    "\n",
    "    }\n",
    "}\n",
    "\n",
    "sweep_id = wandb.sweep(sweep_config, project='DeepLearningHomework1', entity='brianmwigo')\n"
   ]
  },
  {
   "cell_type": "markdown",
   "metadata": {
    "id": "iQ7tHxMwhUC6"
   },
   "source": []
  },
  {
   "cell_type": "markdown",
   "metadata": {
    "id": "rUJhNFKXhdUy"
   },
   "source": []
  },
  {
   "cell_type": "markdown",
   "metadata": {
    "id": "4KDICtcphxVy"
   },
   "source": []
  },
  {
   "cell_type": "markdown",
   "metadata": {
    "id": "gJlEDrRih6np"
   },
   "source": []
  },
  {
   "cell_type": "markdown",
   "metadata": {
    "id": "6tiQ4-PdiX67"
   },
   "source": []
  },
  {
   "cell_type": "markdown",
   "metadata": {
    "id": "ptzT3y0TiX97"
   },
   "source": []
  },
  {
   "cell_type": "markdown",
   "metadata": {
    "id": "9a7HNKj3i1OS"
   },
   "source": []
  },
  {
   "cell_type": "markdown",
   "metadata": {
    "id": "9JCJLSnLi1RR"
   },
   "source": []
  },
  {
   "cell_type": "markdown",
   "metadata": {
    "id": "boqAXu7KjShO"
   },
   "source": []
  },
  {
   "cell_type": "markdown",
   "metadata": {
    "id": "heAQ1IyyjSkR"
   },
   "source": []
  },
  {
   "cell_type": "markdown",
   "metadata": {
    "id": "ir-swphRjv0F"
   },
   "source": []
  },
  {
   "cell_type": "markdown",
   "metadata": {
    "id": "Eub2ozc5jv3R"
   },
   "source": []
  },
  {
   "cell_type": "markdown",
   "metadata": {
    "id": "FCkgS-XlkNHP"
   },
   "source": []
  },
  {
   "cell_type": "markdown",
   "metadata": {
    "id": "hTXjIHC4kNKS"
   },
   "source": []
  },
  {
   "cell_type": "markdown",
   "metadata": {
    "id": "HRrh8oBrkqaE"
   },
   "source": []
  },
  {
   "cell_type": "markdown",
   "metadata": {
    "id": "h-eECtqgkqdG"
   },
   "source": []
  },
  {
   "cell_type": "markdown",
   "metadata": {
    "id": "H9UeCZuQlHtN"
   },
   "source": []
  },
  {
   "cell_type": "markdown",
   "metadata": {
    "id": "n2dIf50UlHxT"
   },
   "source": []
  },
  {
   "cell_type": "markdown",
   "metadata": {
    "id": "2lAOLl6OllAJ"
   },
   "source": []
  },
  {
   "cell_type": "markdown",
   "metadata": {
    "id": "b6WBx06TllDe"
   },
   "source": []
  },
  {
   "cell_type": "markdown",
   "metadata": {
    "id": "bqwjzOPImCTU"
   },
   "source": []
  },
  {
   "cell_type": "markdown",
   "metadata": {
    "id": "Dt-RU9xJmCWg"
   },
   "source": []
  },
  {
   "cell_type": "markdown",
   "metadata": {
    "id": "AwCDNXGumfmE"
   },
   "source": []
  },
  {
   "cell_type": "markdown",
   "metadata": {
    "id": "s_CXh-9tmfpO"
   },
   "source": []
  },
  {
   "cell_type": "markdown",
   "metadata": {
    "id": "EqVp6FY9m85F"
   },
   "source": []
  },
  {
   "cell_type": "markdown",
   "metadata": {
    "id": "oP0Xcxu9m88V"
   },
   "source": []
  },
  {
   "cell_type": "markdown",
   "metadata": {
    "id": "_zejrUpUnaMP"
   },
   "source": []
  },
  {
   "cell_type": "markdown",
   "metadata": {
    "id": "SNrQUKPgnaPe"
   },
   "source": []
  },
  {
   "cell_type": "markdown",
   "metadata": {
    "id": "Vv7XbDCCn3fC"
   },
   "source": []
  },
  {
   "cell_type": "markdown",
   "metadata": {
    "id": "03vyxGRVn3iX"
   },
   "source": []
  },
  {
   "cell_type": "markdown",
   "metadata": {
    "id": "A3AQ2iaaoUyT"
   },
   "source": []
  },
  {
   "cell_type": "markdown",
   "metadata": {
    "id": "B03sSv9DoU2x"
   },
   "source": []
  },
  {
   "cell_type": "markdown",
   "metadata": {
    "id": "WGXUY3cPoyE1"
   },
   "source": []
  },
  {
   "cell_type": "markdown",
   "metadata": {
    "id": "gTOp26BdoyIt"
   },
   "source": []
  },
  {
   "cell_type": "markdown",
   "metadata": {
    "id": "z4eAg_VspF3_"
   },
   "source": []
  },
  {
   "cell_type": "markdown",
   "metadata": {
    "id": "9IzhsAURpPX4"
   },
   "source": []
  },
  {
   "cell_type": "markdown",
   "metadata": {
    "id": "rH4akjyhpsq9"
   },
   "source": []
  },
  {
   "cell_type": "markdown",
   "metadata": {
    "id": "z7ZumOQ6psuW"
   },
   "source": []
  },
  {
   "cell_type": "markdown",
   "metadata": {
    "id": "7FYvU6BZqJ9_"
   },
   "source": []
  },
  {
   "cell_type": "markdown",
   "metadata": {
    "id": "JiID5BM-qKBd"
   },
   "source": []
  },
  {
   "cell_type": "markdown",
   "metadata": {
    "id": "TlKKq5q4qnQu"
   },
   "source": []
  },
  {
   "cell_type": "markdown",
   "metadata": {
    "id": "dnZ_6zBAqnUJ"
   },
   "source": []
  },
  {
   "cell_type": "markdown",
   "metadata": {
    "id": "qmrDqlNarEjs"
   },
   "source": []
  },
  {
   "cell_type": "markdown",
   "metadata": {
    "id": "_wyzaytLrEnn"
   },
   "source": []
  },
  {
   "cell_type": "markdown",
   "metadata": {
    "id": "sDr8ooYsrh2x"
   },
   "source": []
  },
  {
   "cell_type": "markdown",
   "metadata": {
    "id": "HX8Jhfatrh6I"
   },
   "source": []
  },
  {
   "cell_type": "markdown",
   "metadata": {
    "id": "MEgp1j9Dr_Jz"
   },
   "source": []
  },
  {
   "cell_type": "markdown",
   "metadata": {
    "id": "6kEyAm6Cr_NU"
   },
   "source": []
  },
  {
   "cell_type": "markdown",
   "metadata": {
    "id": "pGd7QQy9sccz"
   },
   "source": []
  },
  {
   "cell_type": "markdown",
   "metadata": {
    "id": "wJdEZMu7scgS"
   },
   "source": []
  },
  {
   "cell_type": "markdown",
   "metadata": {
    "id": "5hvqOpVvs5wK"
   },
   "source": []
  },
  {
   "cell_type": "markdown",
   "metadata": {
    "id": "EgQRAMXDs5zv"
   },
   "source": []
  },
  {
   "cell_type": "markdown",
   "metadata": {
    "id": "gHvTc6gvtXDR"
   },
   "source": []
  },
  {
   "cell_type": "markdown",
   "metadata": {
    "id": "0WDHgvjqtXG0"
   },
   "source": []
  },
  {
   "cell_type": "markdown",
   "metadata": {
    "id": "WEGjiJ1USjs-"
   },
   "source": []
  },
  {
   "cell_type": "markdown",
   "metadata": {
    "id": "KtKxv_wdTAgE"
   },
   "source": []
  },
  {
   "cell_type": "markdown",
   "metadata": {
    "id": "xqA0jT8MTeTZ"
   },
   "source": []
  },
  {
   "cell_type": "markdown",
   "metadata": {
    "id": "GuCOeaq_T7li"
   },
   "source": []
  },
  {
   "cell_type": "markdown",
   "metadata": {
    "id": "AOQawxFSUY5Q"
   },
   "source": []
  },
  {
   "cell_type": "markdown",
   "metadata": {
    "id": "HzegOTY8U2LN"
   },
   "source": []
  },
  {
   "cell_type": "markdown",
   "metadata": {
    "id": "srrMD8z0VTgi"
   },
   "source": []
  },
  {
   "cell_type": "markdown",
   "metadata": {
    "id": "lhnZ0eWIVim9"
   },
   "source": []
  },
  {
   "cell_type": "markdown",
   "metadata": {
    "id": "G12xHu9jV_bn"
   },
   "source": []
  },
  {
   "cell_type": "markdown",
   "metadata": {
    "id": "JjtlavZLWaTm"
   },
   "source": []
  },
  {
   "cell_type": "markdown",
   "metadata": {
    "id": "DLVHqaKRWam_"
   },
   "source": []
  },
  {
   "cell_type": "markdown",
   "metadata": {
    "id": "qpIQgAbKWcui"
   },
   "source": []
  },
  {
   "cell_type": "markdown",
   "metadata": {
    "id": "Cy4F3LzNW6CV"
   },
   "source": []
  },
  {
   "cell_type": "markdown",
   "metadata": {
    "id": "lMWlIQlNXXTl"
   },
   "source": []
  },
  {
   "cell_type": "markdown",
   "metadata": {
    "id": "zf8sJD9YYCyT"
   },
   "source": []
  },
  {
   "cell_type": "markdown",
   "metadata": {
    "id": "NyhpIX7QYRqJ"
   },
   "source": []
  },
  {
   "cell_type": "markdown",
   "metadata": {
    "id": "fvxArH9CYvNz"
   },
   "source": []
  },
  {
   "cell_type": "markdown",
   "metadata": {
    "id": "Cg0Bs0nBZMf3"
   },
   "source": []
  },
  {
   "cell_type": "markdown",
   "metadata": {
    "id": "H6pZZ4pdZp0C"
   },
   "source": []
  },
  {
   "cell_type": "markdown",
   "metadata": {
    "id": "tpu7y7cyaVvg"
   },
   "source": []
  },
  {
   "cell_type": "markdown",
   "metadata": {
    "id": "uClb0QkQazC-"
   },
   "source": []
  },
  {
   "cell_type": "markdown",
   "metadata": {
    "id": "Sg_u5nmIbQVy"
   },
   "source": []
  },
  {
   "cell_type": "markdown",
   "metadata": {
    "id": "XY8Py33MbwKQ"
   },
   "source": []
  },
  {
   "cell_type": "markdown",
   "metadata": {
    "id": "WG-yyaPJbwdE"
   },
   "source": []
  },
  {
   "cell_type": "markdown",
   "metadata": {
    "id": "6NieY_WkcoO4"
   },
   "source": []
  },
  {
   "cell_type": "markdown",
   "metadata": {
    "id": "lgeWaa9Cdi0U"
   },
   "source": []
  },
  {
   "cell_type": "markdown",
   "metadata": {
    "id": "WS6uEcT2dlz9"
   },
   "source": []
  },
  {
   "cell_type": "markdown",
   "metadata": {
    "id": "Y9wbvC45doLw"
   },
   "source": []
  },
  {
   "cell_type": "markdown",
   "metadata": {
    "id": "SEDXFlIZeOxh"
   },
   "source": []
  },
  {
   "cell_type": "markdown",
   "metadata": {
    "id": "7u1CXxobesDh"
   },
   "source": []
  },
  {
   "cell_type": "markdown",
   "metadata": {
    "id": "PFjy8vw3fmqo"
   },
   "source": []
  },
  {
   "cell_type": "markdown",
   "metadata": {
    "id": "Fdn4jZfIf9KF"
   },
   "source": []
  },
  {
   "cell_type": "markdown",
   "metadata": {
    "id": "max-PeLGgIGH"
   },
   "source": []
  },
  {
   "cell_type": "markdown",
   "metadata": {
    "id": "L4s_HllLg-m9"
   },
   "source": []
  },
  {
   "cell_type": "markdown",
   "metadata": {
    "id": "VxZ-z1ThhVvJ"
   },
   "source": []
  },
  {
   "cell_type": "markdown",
   "metadata": {
    "id": "vSwwULvwh5LT"
   },
   "source": []
  },
  {
   "cell_type": "markdown",
   "metadata": {
    "id": "kr3_XAzxilFW"
   },
   "source": []
  },
  {
   "cell_type": "markdown",
   "metadata": {
    "id": "-1H7MujTjCZM"
   },
   "source": []
  },
  {
   "cell_type": "markdown",
   "metadata": {
    "id": "_J5u1-Pgjfra"
   },
   "source": []
  },
  {
   "cell_type": "markdown",
   "metadata": {
    "id": "H4nOtezDj8_Z"
   },
   "source": []
  },
  {
   "cell_type": "markdown",
   "metadata": {
    "id": "vEi9izCvkN2b"
   },
   "source": []
  },
  {
   "cell_type": "markdown",
   "metadata": {
    "id": "TDc1RDjqkOOH"
   },
   "source": []
  },
  {
   "cell_type": "markdown",
   "metadata": {
    "id": "x3h5244UlGPQ"
   },
   "source": []
  },
  {
   "cell_type": "markdown",
   "metadata": {
    "id": "H-arEtuRlhUD"
   },
   "source": []
  },
  {
   "cell_type": "markdown",
   "metadata": {
    "id": "ckV7C64EmA4Y"
   },
   "source": []
  },
  {
   "cell_type": "markdown",
   "metadata": {
    "id": "e6Vbmcw3meHD"
   },
   "source": []
  },
  {
   "cell_type": "markdown",
   "metadata": {
    "id": "MGYuuTI1nnX8"
   },
   "source": []
  },
  {
   "cell_type": "markdown",
   "metadata": {
    "id": "psigmdNWn39A"
   },
   "source": []
  },
  {
   "cell_type": "markdown",
   "metadata": {
    "id": "cXEEnoARoh-o"
   },
   "source": []
  },
  {
   "cell_type": "markdown",
   "metadata": {
    "id": "Z1VQg09dozD9"
   },
   "source": []
  },
  {
   "cell_type": "markdown",
   "metadata": {
    "id": "UJDEYUMEozcW"
   },
   "source": []
  },
  {
   "cell_type": "markdown",
   "metadata": {
    "id": "NIblGYZKpN5o"
   },
   "source": []
  },
  {
   "cell_type": "markdown",
   "metadata": {
    "id": "GU40XAJyprMS"
   },
   "source": []
  },
  {
   "cell_type": "markdown",
   "metadata": {
    "id": "pxMPhgurqXJ1"
   },
   "source": []
  },
  {
   "cell_type": "markdown",
   "metadata": {
    "id": "3Ug4Joi4q0b2"
   },
   "source": []
  },
  {
   "cell_type": "markdown",
   "metadata": {
    "id": "gtUvda7ZrvCj"
   },
   "source": []
  },
  {
   "cell_type": "markdown",
   "metadata": {
    "id": "GbUqBv5xsMVN"
   },
   "source": []
  },
  {
   "cell_type": "markdown",
   "metadata": {
    "id": "1NCVxANdspoZ"
   },
   "source": []
  },
  {
   "cell_type": "markdown",
   "metadata": {
    "id": "DmGfcjittVk5"
   },
   "source": []
  },
  {
   "cell_type": "markdown",
   "metadata": {
    "id": "UaLDgNU0ty4F"
   },
   "source": []
  },
  {
   "cell_type": "markdown",
   "metadata": {
    "id": "JvcQV_giuekV"
   },
   "source": []
  },
  {
   "cell_type": "markdown",
   "metadata": {
    "id": "SxCzTT5su8HT"
   },
   "source": []
  },
  {
   "cell_type": "markdown",
   "metadata": {
    "id": "4RKQSlqLv2s3"
   },
   "source": []
  },
  {
   "cell_type": "markdown",
   "metadata": {
    "id": "yn19CLvLwUAh"
   },
   "source": []
  },
  {
   "cell_type": "markdown",
   "metadata": {
    "id": "BbGM0DNsw_8G"
   },
   "source": []
  },
  {
   "cell_type": "markdown",
   "metadata": {
    "id": "kgwu5xwyxdPh"
   },
   "source": []
  },
  {
   "cell_type": "markdown",
   "metadata": {
    "id": "3i6tSt6VyX14"
   },
   "source": []
  },
  {
   "cell_type": "markdown",
   "metadata": {
    "id": "5hV-UVShy1I5"
   },
   "source": []
  },
  {
   "cell_type": "markdown",
   "metadata": {
    "id": "LWN6teB4zSbv"
   },
   "source": []
  },
  {
   "cell_type": "markdown",
   "metadata": {
    "id": "yLVcnV9ez-Yg"
   },
   "source": []
  },
  {
   "cell_type": "markdown",
   "metadata": {
    "id": "QdoFNf9x0brQ"
   },
   "source": []
  },
  {
   "cell_type": "markdown",
   "metadata": {
    "id": "A5VL0Kov1Hnp"
   },
   "source": []
  },
  {
   "cell_type": "markdown",
   "metadata": {
    "id": "MfRGlHfo1k6j"
   },
   "source": []
  },
  {
   "cell_type": "markdown",
   "metadata": {
    "id": "H7isZrAm2Q3q"
   },
   "source": []
  },
  {
   "cell_type": "markdown",
   "metadata": {
    "id": "f1wGRBX92uKK"
   },
   "source": []
  },
  {
   "cell_type": "markdown",
   "metadata": {
    "id": "w8w1EIPf3aGc"
   },
   "source": []
  },
  {
   "cell_type": "markdown",
   "metadata": {
    "id": "wvjuYbxv33Zc"
   },
   "source": []
  },
  {
   "cell_type": "markdown",
   "metadata": {
    "id": "8c2HhgH04Usy"
   },
   "source": []
  },
  {
   "cell_type": "markdown",
   "metadata": {
    "id": "JC6mUGuZ4x_e"
   },
   "source": []
  },
  {
   "cell_type": "markdown",
   "metadata": {
    "id": "aJhl2sjJ5PSY"
   },
   "source": []
  },
  {
   "cell_type": "markdown",
   "metadata": {
    "id": "a5-4_0Km57PD"
   },
   "source": []
  },
  {
   "cell_type": "markdown",
   "metadata": {
    "id": "V6c4cjyb6YiM"
   },
   "source": []
  },
  {
   "cell_type": "markdown",
   "metadata": {
    "id": "N15_34gp611K"
   },
   "source": []
  },
  {
   "cell_type": "markdown",
   "metadata": {
    "id": "LL1p0Y1l7TId"
   },
   "source": []
  },
  {
   "cell_type": "markdown",
   "metadata": {
    "id": "dfmUrglG7wbY"
   },
   "source": []
  },
  {
   "cell_type": "markdown",
   "metadata": {
    "id": "lJvFDPLJ8NuV"
   },
   "source": []
  },
  {
   "cell_type": "markdown",
   "metadata": {
    "id": "U97J02vw9IUF"
   },
   "source": []
  },
  {
   "cell_type": "markdown",
   "metadata": {
    "id": "-LjrhVgy90RM"
   },
   "source": []
  },
  {
   "cell_type": "markdown",
   "metadata": {
    "id": "8HrIrvCv-Rjb"
   },
   "source": []
  },
  {
   "cell_type": "markdown",
   "metadata": {
    "id": "0OcKGSce_MJ3"
   },
   "source": []
  },
  {
   "cell_type": "markdown",
   "metadata": {
    "id": "TuMs7PwE_pc0"
   },
   "source": []
  },
  {
   "cell_type": "markdown",
   "metadata": {
    "id": "SpCUMcu0AGv7"
   },
   "source": []
  },
  {
   "cell_type": "markdown",
   "metadata": {
    "id": "SQiSAjS3Ayrm"
   },
   "source": []
  },
  {
   "cell_type": "markdown",
   "metadata": {
    "id": "dyqWBLjrBtSL"
   },
   "source": []
  },
  {
   "cell_type": "markdown",
   "metadata": {
    "id": "t8eimQEGCKkb"
   },
   "source": []
  },
  {
   "cell_type": "markdown",
   "metadata": {
    "id": "b1oSll0qCn4d"
   },
   "source": []
  },
  {
   "cell_type": "markdown",
   "metadata": {
    "id": "M_bdyFsnDidw"
   },
   "source": []
  },
  {
   "cell_type": "markdown",
   "metadata": {
    "id": "REBSLV7TEOat"
   },
   "source": []
  },
  {
   "cell_type": "markdown",
   "metadata": {
    "id": "KMh_jX_5ErtL"
   },
   "source": []
  },
  {
   "cell_type": "markdown",
   "metadata": {
    "id": "-8XE2HeHFJBk"
   },
   "source": []
  },
  {
   "cell_type": "markdown",
   "metadata": {
    "id": "14P3wfRoGDmM"
   },
   "source": []
  },
  {
   "cell_type": "markdown",
   "metadata": {
    "id": "mIZeNzbHGuVQ"
   },
   "source": []
  },
  {
   "cell_type": "markdown",
   "metadata": {
    "id": "ghAMKJYRHM1Z"
   },
   "source": []
  },
  {
   "cell_type": "markdown",
   "metadata": {
    "id": "7nZnqhyiIHcD"
   },
   "source": []
  },
  {
   "cell_type": "markdown",
   "metadata": {
    "id": "Mf2nrE_bIkuj"
   },
   "source": []
  },
  {
   "cell_type": "markdown",
   "metadata": {
    "id": "SlY1oq7iJQr9"
   },
   "source": []
  },
  {
   "cell_type": "markdown",
   "metadata": {
    "id": "szknFuRuKLRE"
   },
   "source": []
  },
  {
   "cell_type": "markdown",
   "metadata": {
    "id": "rxI_bHNIK3Nw"
   },
   "source": []
  },
  {
   "cell_type": "markdown",
   "metadata": {
    "id": "aXobKc3ELUg3"
   },
   "source": []
  },
  {
   "cell_type": "markdown",
   "metadata": {
    "id": "GCKoaLbiMPHS"
   },
   "source": []
  },
  {
   "cell_type": "markdown",
   "metadata": {
    "id": "29A68HGOMsZm"
   },
   "source": []
  },
  {
   "cell_type": "markdown",
   "metadata": {
    "id": "-P3w1HAnNYW9"
   },
   "source": []
  },
  {
   "cell_type": "markdown",
   "metadata": {
    "id": "nxMXSsQkN1pK"
   },
   "source": []
  },
  {
   "cell_type": "markdown",
   "metadata": {
    "id": "yp7WhN6FO-42"
   },
   "source": []
  },
  {
   "cell_type": "markdown",
   "metadata": {
    "id": "xsnppJVJPcLn"
   },
   "source": []
  },
  {
   "cell_type": "markdown",
   "metadata": {
    "id": "95zYCIHlQIJH"
   },
   "source": []
  },
  {
   "cell_type": "markdown",
   "metadata": {
    "id": "jhCSuITGRB_S"
   },
   "source": []
  },
  {
   "cell_type": "markdown",
   "metadata": {
    "id": "u0JVZq-ARgBf"
   },
   "source": []
  },
  {
   "cell_type": "markdown",
   "metadata": {
    "id": "fIgDrZgJR9UI"
   },
   "source": []
  },
  {
   "cell_type": "markdown",
   "metadata": {
    "id": "-oKOGWaZSpQ9"
   },
   "source": []
  },
  {
   "cell_type": "markdown",
   "metadata": {
    "id": "iQLorHkwTj27"
   },
   "source": []
  },
  {
   "cell_type": "markdown",
   "metadata": {
    "id": "89fn4GPNUPzx"
   },
   "source": []
  },
  {
   "cell_type": "markdown",
   "metadata": {
    "id": "DQkYy6hHUtF9"
   },
   "source": []
  },
  {
   "cell_type": "markdown",
   "metadata": {
    "id": "1nBxV4mkV2Vc"
   },
   "source": []
  },
  {
   "cell_type": "markdown",
   "metadata": {
    "id": "riQaCUMlWTpU"
   },
   "source": []
  },
  {
   "cell_type": "markdown",
   "metadata": {
    "id": "O2q8daOzWw8g"
   },
   "source": []
  },
  {
   "cell_type": "markdown",
   "metadata": {
    "id": "JNqri-UWXOPQ"
   },
   "source": []
  },
  {
   "cell_type": "markdown",
   "metadata": {
    "id": "D_iaBTbZXrib"
   },
   "source": []
  },
  {
   "cell_type": "markdown",
   "metadata": {
    "id": "80eCDZtGYI1Q"
   },
   "source": []
  },
  {
   "cell_type": "markdown",
   "metadata": {
    "id": "IpDmo1FOY0xt"
   },
   "source": []
  },
  {
   "cell_type": "markdown",
   "metadata": {
    "id": "2fTyGx24ZSE7"
   },
   "source": []
  },
  {
   "cell_type": "markdown",
   "metadata": {
    "id": "i_tW9tB_ZvX6"
   },
   "source": []
  },
  {
   "cell_type": "markdown",
   "metadata": {
    "id": "1o4ExFdbaMq7"
   },
   "source": []
  },
  {
   "cell_type": "markdown",
   "metadata": {
    "id": "8m9boCj5a4nw"
   },
   "source": []
  },
  {
   "cell_type": "markdown",
   "metadata": {
    "id": "JcRh-EAObV6C"
   },
   "source": []
  },
  {
   "cell_type": "markdown",
   "metadata": {
    "id": "gxi5GtFJcB3D"
   },
   "source": []
  },
  {
   "cell_type": "markdown",
   "metadata": {
    "id": "Uy-APlkJcfJF"
   },
   "source": []
  },
  {
   "cell_type": "markdown",
   "metadata": {
    "id": "Fp0PHthfc8dC"
   },
   "source": []
  },
  {
   "cell_type": "markdown",
   "metadata": {
    "id": "f4XvS3lRdZvi"
   },
   "source": []
  },
  {
   "cell_type": "markdown",
   "metadata": {
    "id": "1awDAELdeFsT"
   },
   "source": []
  },
  {
   "cell_type": "markdown",
   "metadata": {
    "id": "YPjR1w51ei_Y"
   },
   "source": []
  },
  {
   "cell_type": "markdown",
   "metadata": {
    "id": "Q405vHFkfsPA"
   },
   "source": []
  },
  {
   "cell_type": "markdown",
   "metadata": {
    "id": "ucWGIsaSgJhq"
   },
   "source": []
  },
  {
   "cell_type": "markdown",
   "metadata": {
    "id": "YQw274d0gm1G"
   },
   "source": []
  },
  {
   "cell_type": "markdown",
   "metadata": {
    "id": "7opTOSVvhEHq"
   },
   "source": []
  },
  {
   "cell_type": "markdown",
   "metadata": {
    "id": "aOQWmht3hhbI"
   },
   "source": []
  },
  {
   "cell_type": "markdown",
   "metadata": {
    "id": "3H-t3_5ih-t_"
   },
   "source": []
  },
  {
   "cell_type": "markdown",
   "metadata": {
    "id": "njwY88Vniqqn"
   },
   "source": []
  },
  {
   "cell_type": "markdown",
   "metadata": {
    "id": "37TWEafhjH85"
   },
   "source": []
  },
  {
   "cell_type": "markdown",
   "metadata": {
    "id": "MmNzQIOLjlQH"
   },
   "source": []
  },
  {
   "cell_type": "markdown",
   "metadata": {
    "id": "xF4PCinWkRMl"
   },
   "source": []
  },
  {
   "cell_type": "markdown",
   "metadata": {
    "id": "Tx1s8jO6kufx"
   },
   "source": []
  },
  {
   "cell_type": "markdown",
   "metadata": {
    "id": "cUUWyyHglLyo"
   },
   "source": []
  },
  {
   "cell_type": "markdown",
   "metadata": {
    "id": "bSQDzTl_lpFk"
   },
   "source": []
  },
  {
   "cell_type": "markdown",
   "metadata": {
    "id": "zZ1nx9OWmVBd"
   },
   "source": []
  },
  {
   "cell_type": "markdown",
   "metadata": {
    "id": "97Sqz8bcmyVI"
   },
   "source": []
  },
  {
   "cell_type": "markdown",
   "metadata": {
    "id": "7mDIyQrDnPn1"
   },
   "source": []
  },
  {
   "cell_type": "markdown",
   "metadata": {
    "id": "esyu-1_Mn7lA"
   },
   "source": []
  },
  {
   "cell_type": "markdown",
   "metadata": {
    "id": "LilxkJO8o2KN"
   },
   "source": []
  },
  {
   "cell_type": "markdown",
   "metadata": {
    "id": "zpsMidxLphoI"
   },
   "source": []
  },
  {
   "cell_type": "markdown",
   "metadata": {
    "id": "Ral-UemRp_Zq"
   },
   "source": []
  },
  {
   "cell_type": "markdown",
   "metadata": {
    "id": "l4rjt3yHrIqE"
   },
   "source": []
  },
  {
   "cell_type": "markdown",
   "metadata": {
    "id": "K95sL-EUrl8c"
   },
   "source": []
  },
  {
   "cell_type": "markdown",
   "metadata": {
    "id": "ovf6tEgnsR5d"
   },
   "source": []
  },
  {
   "cell_type": "markdown",
   "metadata": {
    "id": "s6bgHRVosvLw"
   },
   "source": []
  },
  {
   "cell_type": "markdown",
   "metadata": {
    "id": "s2QU_cDLt4bz"
   },
   "source": []
  },
  {
   "cell_type": "markdown",
   "metadata": {
    "id": "GA3WZfjHuVuT"
   },
   "source": []
  },
  {
   "cell_type": "markdown",
   "metadata": {
    "id": "5aDN7Lq-vBrl"
   },
   "source": []
  },
  {
   "cell_type": "markdown",
   "metadata": {
    "id": "9NxBi94Sv8Q7"
   },
   "source": []
  },
  {
   "cell_type": "markdown",
   "metadata": {
    "id": "8SDrr0-vwZkc"
   },
   "source": []
  },
  {
   "cell_type": "markdown",
   "metadata": {
    "id": "omj77rwuw22w"
   },
   "source": []
  },
  {
   "cell_type": "markdown",
   "metadata": {
    "id": "jUNPkYQSxizS"
   },
   "source": []
  },
  {
   "cell_type": "markdown",
   "metadata": {
    "id": "RbliQMM_yAGd"
   },
   "source": []
  },
  {
   "cell_type": "markdown",
   "metadata": {
    "id": "mT_TH_XyysDR"
   },
   "source": []
  },
  {
   "cell_type": "markdown",
   "metadata": {
    "id": "hak6es72z1Sh"
   },
   "source": []
  },
  {
   "cell_type": "markdown",
   "metadata": {
    "id": "BkRoko0U0hOy"
   },
   "source": []
  },
  {
   "cell_type": "markdown",
   "metadata": {
    "id": "_czTWKWD0-hi"
   },
   "source": []
  },
  {
   "cell_type": "markdown",
   "metadata": {
    "id": "AQMFYQoj1qe6"
   },
   "source": []
  },
  {
   "cell_type": "markdown",
   "metadata": {
    "id": "TAMa4afw2lEN"
   },
   "source": []
  },
  {
   "cell_type": "markdown",
   "metadata": {
    "id": "avY2aPEH3CX4"
   },
   "source": []
  },
  {
   "cell_type": "markdown",
   "metadata": {
    "id": "NtyiPRAy3t0k"
   },
   "source": []
  },
  {
   "cell_type": "markdown",
   "metadata": {
    "id": "nmqmdQh54oL1"
   },
   "source": []
  },
  {
   "cell_type": "markdown",
   "metadata": {
    "id": "LNRNVijy5GM4"
   },
   "source": []
  },
  {
   "cell_type": "markdown",
   "metadata": {
    "id": "p63BZmkz5yKD"
   },
   "source": []
  },
  {
   "cell_type": "markdown",
   "metadata": {
    "id": "6OdR5lgh6eF2"
   },
   "source": []
  },
  {
   "cell_type": "markdown",
   "metadata": {
    "id": "pIefq5657Ysb"
   },
   "source": []
  },
  {
   "cell_type": "markdown",
   "metadata": {
    "id": "xX9hM8Oj8Dpy"
   },
   "source": []
  },
  {
   "cell_type": "markdown",
   "metadata": {
    "id": "IJwiozZ48h7z"
   },
   "source": []
  },
  {
   "cell_type": "markdown",
   "metadata": {
    "id": "H2onTafU9chj"
   },
   "source": []
  },
  {
   "cell_type": "markdown",
   "metadata": {
    "id": "gPjee5-D-Ids"
   },
   "source": []
  },
  {
   "cell_type": "markdown",
   "metadata": {
    "id": "kMonCPxx-lw6"
   },
   "source": []
  },
  {
   "cell_type": "markdown",
   "metadata": {
    "id": "0Cu44drJ_gXS"
   },
   "source": []
  },
  {
   "cell_type": "markdown",
   "metadata": {
    "id": "KpPWBeKH_9p6"
   },
   "source": []
  },
  {
   "cell_type": "markdown",
   "metadata": {
    "id": "Iv4IGqmOAa9f"
   },
   "source": []
  },
  {
   "cell_type": "markdown",
   "metadata": {
    "id": "yL1CjbnJBkMT"
   },
   "source": []
  },
  {
   "cell_type": "markdown",
   "metadata": {
    "id": "E6iI_NjNCQIv"
   },
   "source": []
  },
  {
   "cell_type": "markdown",
   "metadata": {
    "id": "p75xbkujCtb6"
   },
   "source": []
  },
  {
   "cell_type": "markdown",
   "metadata": {
    "id": "BQgEMgtMD2rt"
   },
   "source": []
  },
  {
   "cell_type": "markdown",
   "metadata": {
    "id": "Msz7cI4sET-b"
   },
   "source": []
  },
  {
   "cell_type": "markdown",
   "metadata": {
    "id": "38dXGdYfExRu"
   },
   "source": []
  },
  {
   "cell_type": "markdown",
   "metadata": {
    "id": "axhr81cVFdNv"
   },
   "source": []
  },
  {
   "cell_type": "markdown",
   "metadata": {
    "id": "pewi4-n2Gmd0"
   },
   "source": []
  },
  {
   "cell_type": "markdown",
   "metadata": {
    "id": "PKuzZqIJHSZu"
   },
   "source": []
  },
  {
   "cell_type": "markdown",
   "metadata": {
    "id": "fE2PXJdMHvtU"
   },
   "source": []
  },
  {
   "cell_type": "markdown",
   "metadata": {
    "id": "DbC2SoorIqSf"
   },
   "source": []
  },
  {
   "cell_type": "markdown",
   "metadata": {
    "id": "511KU48vJWQC"
   },
   "source": []
  },
  {
   "cell_type": "markdown",
   "metadata": {
    "id": "FH3mAjnbJzh9"
   },
   "source": []
  },
  {
   "cell_type": "markdown",
   "metadata": {
    "id": "J3SaFJMuKfAp"
   },
   "source": []
  },
  {
   "cell_type": "markdown",
   "metadata": {
    "id": "mJGqXA9DLaE3"
   },
   "source": []
  },
  {
   "cell_type": "markdown",
   "metadata": {
    "id": "5FmubDAwMGBt"
   },
   "source": []
  },
  {
   "cell_type": "markdown",
   "metadata": {
    "id": "wQUBd0qDMx9q"
   },
   "source": []
  },
  {
   "cell_type": "markdown",
   "metadata": {
    "id": "BtDyUacUNskQ"
   },
   "source": []
  },
  {
   "cell_type": "markdown",
   "metadata": {
    "id": "BzaEyeFiOJ3J"
   },
   "source": []
  },
  {
   "cell_type": "markdown",
   "metadata": {
    "id": "yIkqJqI_O10B"
   },
   "source": []
  },
  {
   "cell_type": "markdown",
   "metadata": {
    "id": "iVsusbf8PwZe"
   },
   "source": []
  },
  {
   "cell_type": "markdown",
   "metadata": {
    "id": "X6Sh7JrzQa45"
   },
   "source": []
  },
  {
   "cell_type": "markdown",
   "metadata": {
    "id": "wOp0B0GlQ5o-"
   },
   "source": []
  },
  {
   "cell_type": "markdown",
   "metadata": {
    "id": "Hs4A_ahPR0Pl"
   },
   "source": []
  },
  {
   "cell_type": "markdown",
   "metadata": {
    "id": "KI5BFBqISgLO"
   },
   "source": []
  },
  {
   "cell_type": "markdown",
   "metadata": {
    "id": "fHXZmFkyS9fJ"
   },
   "source": []
  },
  {
   "cell_type": "markdown",
   "metadata": {
    "id": "JPp7tkbLTaxU"
   },
   "source": []
  },
  {
   "cell_type": "markdown",
   "metadata": {
    "id": "giIAjQXxUkA9"
   },
   "source": []
  },
  {
   "cell_type": "markdown",
   "metadata": {
    "id": "x0YFXdTPVBUE"
   },
   "source": []
  },
  {
   "cell_type": "markdown",
   "metadata": {
    "id": "ecJ_yGQYVtRb"
   },
   "source": []
  },
  {
   "cell_type": "markdown",
   "metadata": {
    "id": "fzlM3qOGWKjq"
   },
   "source": []
  },
  {
   "cell_type": "markdown",
   "metadata": {
    "id": "eWkCeXfeWn3E"
   },
   "source": []
  },
  {
   "cell_type": "markdown",
   "metadata": {
    "id": "Sspde1lZXTyK"
   },
   "source": []
  },
  {
   "cell_type": "markdown",
   "metadata": {
    "id": "fD64QCmnXxGQ"
   },
   "source": []
  },
  {
   "cell_type": "markdown",
   "metadata": {
    "id": "Rw60R5ICYbU4"
   },
   "source": []
  },
  {
   "cell_type": "markdown",
   "metadata": {
    "id": "A4Z9uZgmY6V7"
   },
   "source": []
  },
  {
   "cell_type": "markdown",
   "metadata": {
    "id": "l5QRDtLSZmRl"
   },
   "source": []
  },
  {
   "cell_type": "markdown",
   "metadata": {
    "id": "TU_v3csiaDlU"
   },
   "source": []
  },
  {
   "cell_type": "markdown",
   "metadata": {
    "id": "ZhqPtWk2aujH"
   },
   "source": []
  },
  {
   "cell_type": "markdown",
   "metadata": {
    "id": "MGKUx0mPbM0e"
   },
   "source": []
  },
  {
   "cell_type": "markdown",
   "metadata": {
    "id": "8KSsBTzRb4wk"
   },
   "source": []
  },
  {
   "cell_type": "markdown",
   "metadata": {
    "id": "FA76h4YaczXu"
   },
   "source": []
  },
  {
   "cell_type": "markdown",
   "metadata": {
    "id": "0QXEQmA7deUy"
   },
   "source": []
  },
  {
   "cell_type": "markdown",
   "metadata": {
    "id": "wga-av3vd8nV"
   },
   "source": []
  },
  {
   "cell_type": "markdown",
   "metadata": {
    "id": "fq6-mvnPeZ5i"
   },
   "source": []
  },
  {
   "cell_type": "markdown",
   "metadata": {
    "id": "hRm-YvjffjJZ"
   },
   "source": []
  },
  {
   "cell_type": "markdown",
   "metadata": {
    "id": "e0JQFmf6gAbv"
   },
   "source": []
  },
  {
   "cell_type": "markdown",
   "metadata": {
    "id": "TB-7KKPOgdvw"
   },
   "source": []
  },
  {
   "cell_type": "markdown",
   "metadata": {
    "id": "zsuvLAiEhm-X"
   },
   "source": []
  },
  {
   "cell_type": "markdown",
   "metadata": {
    "id": "VSpJa4iniS7g"
   },
   "source": []
  },
  {
   "cell_type": "markdown",
   "metadata": {
    "id": "08MnKE-NiwNa"
   },
   "source": []
  },
  {
   "cell_type": "markdown",
   "metadata": {
    "id": "YxO1dCrljcKr"
   },
   "source": []
  },
  {
   "cell_type": "markdown",
   "metadata": {
    "id": "2HQUHgztkIG7"
   },
   "source": []
  },
  {
   "cell_type": "markdown",
   "metadata": {
    "id": "9ItI9DTdklaU"
   },
   "source": []
  },
  {
   "cell_type": "markdown",
   "metadata": {
    "id": "fZIVmfW9lRWi"
   },
   "source": []
  },
  {
   "cell_type": "markdown",
   "metadata": {
    "id": "9VWCa6wemL9V"
   },
   "source": []
  },
  {
   "cell_type": "markdown",
   "metadata": {
    "id": "cOg3XNw-m34W"
   },
   "source": []
  },
  {
   "cell_type": "markdown",
   "metadata": {
    "id": "Ec4CmUb4nVMo"
   },
   "source": []
  },
  {
   "cell_type": "markdown",
   "metadata": {
    "id": "Vk7lGOxUnye6"
   },
   "source": []
  },
  {
   "cell_type": "markdown",
   "metadata": {
    "id": "II9MUrzroc-P"
   },
   "source": []
  },
  {
   "cell_type": "markdown",
   "metadata": {
    "id": "pfvURu0JpKXw"
   },
   "source": []
  },
  {
   "cell_type": "markdown",
   "metadata": {
    "id": "d8HL4QONpnre"
   },
   "source": []
  },
  {
   "cell_type": "markdown",
   "metadata": {
    "id": "DGTZVAfeqE94"
   },
   "source": []
  },
  {
   "cell_type": "markdown",
   "metadata": {
    "id": "-UujZgcBqw7H"
   },
   "source": []
  },
  {
   "cell_type": "markdown",
   "metadata": {
    "id": "w4e9F9_UrrgJ"
   },
   "source": []
  },
  {
   "cell_type": "markdown",
   "metadata": {
    "id": "Y29meNafsI0D"
   },
   "source": []
  },
  {
   "cell_type": "markdown",
   "metadata": {
    "id": "YxmC_VU-s0wE"
   },
   "source": []
  },
  {
   "cell_type": "markdown",
   "metadata": {
    "id": "jeAg8l0ltgs0"
   },
   "source": []
  },
  {
   "cell_type": "markdown",
   "metadata": {
    "id": "OkqDtFTjt9_w"
   },
   "source": []
  },
  {
   "cell_type": "markdown",
   "metadata": {
    "id": "VdWmWYjwubTA"
   },
   "source": []
  },
  {
   "cell_type": "markdown",
   "metadata": {
    "id": "HzKGY1flvHPE"
   },
   "source": []
  },
  {
   "cell_type": "markdown",
   "metadata": {
    "id": "ZeWXIgf7vzMU"
   },
   "source": []
  },
  {
   "cell_type": "markdown",
   "metadata": {
    "id": "BTVsIUwowQeZ"
   },
   "source": []
  },
  {
   "cell_type": "markdown",
   "metadata": {
    "id": "ybMTAvCLw8bx"
   },
   "source": []
  },
  {
   "cell_type": "markdown",
   "metadata": {
    "id": "Fdx25xwCxZts"
   },
   "source": []
  },
  {
   "cell_type": "markdown",
   "metadata": {
    "id": "7GxIzZUwyFrI"
   },
   "source": []
  },
  {
   "cell_type": "markdown",
   "metadata": {
    "id": "4a1y2kNYyi9c"
   },
   "source": []
  },
  {
   "cell_type": "markdown",
   "metadata": {
    "id": "WNBUfBcLzdj8"
   },
   "source": []
  },
  {
   "cell_type": "markdown",
   "metadata": {
    "id": "RepaEcLi0JfU"
   },
   "source": []
  },
  {
   "cell_type": "markdown",
   "metadata": {
    "id": "dc8YxrF401cq"
   },
   "source": []
  },
  {
   "cell_type": "markdown",
   "metadata": {
    "id": "7ppxd1uj1Svh"
   },
   "source": []
  },
  {
   "cell_type": "markdown",
   "metadata": {
    "id": "zG6iGUan1wDK"
   },
   "source": []
  },
  {
   "cell_type": "markdown",
   "metadata": {
    "id": "56te45fg2aRb"
   },
   "source": []
  },
  {
   "cell_type": "markdown",
   "metadata": {
    "id": "FJ7-7b3i25Si"
   },
   "source": []
  },
  {
   "cell_type": "markdown",
   "metadata": {
    "id": "Co7KIgIG3kP5"
   },
   "source": []
  },
  {
   "cell_type": "markdown",
   "metadata": {
    "id": "34VAz_M14CiC"
   },
   "source": []
  },
  {
   "cell_type": "markdown",
   "metadata": {
    "id": "zOMik5RI4gHc"
   },
   "source": []
  },
  {
   "cell_type": "markdown",
   "metadata": {
    "id": "T4CePfU26GXV"
   },
   "source": []
  },
  {
   "cell_type": "markdown",
   "metadata": {
    "id": "b2OZZ4Lh6jpw"
   },
   "source": []
  },
  {
   "cell_type": "markdown",
   "metadata": {
    "id": "7bkIQx217PnG"
   },
   "source": []
  },
  {
   "cell_type": "markdown",
   "metadata": {
    "id": "dPFTzUu87s5a"
   },
   "source": []
  },
  {
   "cell_type": "markdown",
   "metadata": {
    "id": "kjnVawId8Y2q"
   },
   "source": []
  },
  {
   "cell_type": "markdown",
   "metadata": {
    "id": "htMyd6BC82JC"
   },
   "source": []
  },
  {
   "cell_type": "markdown",
   "metadata": {
    "id": "93J_xb1-9iFt"
   },
   "source": []
  },
  {
   "cell_type": "markdown",
   "metadata": {
    "id": "nVNycCUx9_Yk"
   },
   "source": []
  },
  {
   "cell_type": "markdown",
   "metadata": {
    "id": "hkk7b_oo-rVj"
   },
   "source": []
  },
  {
   "cell_type": "markdown",
   "metadata": {
    "id": "BaEb_erp_IoB"
   },
   "source": []
  },
  {
   "cell_type": "markdown",
   "metadata": {
    "id": "ZS8dB-ej_0kh"
   },
   "source": []
  },
  {
   "cell_type": "markdown",
   "metadata": {
    "id": "CBsYNGrcAgg4"
   },
   "source": []
  },
  {
   "cell_type": "markdown",
   "metadata": {
    "id": "QEX5MEU0A90R"
   },
   "source": []
  },
  {
   "cell_type": "markdown",
   "metadata": {
    "id": "2Eiiksp5CHDO"
   },
   "source": []
  },
  {
   "cell_type": "markdown",
   "metadata": {
    "id": "gO2i4gZ3CkXO"
   },
   "source": []
  },
  {
   "cell_type": "markdown",
   "metadata": {
    "id": "Nrtguxj3DO1I"
   },
   "source": []
  },
  {
   "cell_type": "markdown",
   "metadata": {
    "id": "k3hmaiA7D8QI"
   },
   "source": []
  },
  {
   "cell_type": "markdown",
   "metadata": {
    "id": "MFSwbxJBEZiY"
   },
   "source": []
  },
  {
   "cell_type": "markdown",
   "metadata": {
    "id": "5eDEmernFFfs"
   },
   "source": []
  },
  {
   "cell_type": "markdown",
   "metadata": {
    "id": "Vm5xNiBkFv9m"
   },
   "source": []
  },
  {
   "cell_type": "markdown",
   "metadata": {
    "id": "J-PDfrCaGc5Q"
   },
   "source": []
  },
  {
   "cell_type": "markdown",
   "metadata": {
    "id": "OLL_J8qgHX9d"
   },
   "source": []
  },
  {
   "cell_type": "markdown",
   "metadata": {
    "id": "iXsqO9x_ID7E"
   },
   "source": []
  },
  {
   "cell_type": "markdown",
   "metadata": {
    "id": "E4c_tZRpIv2y"
   },
   "source": []
  },
  {
   "cell_type": "markdown",
   "metadata": {
    "id": "10bOmf6fJb0A"
   },
   "source": []
  },
  {
   "cell_type": "markdown",
   "metadata": {
    "id": "OCWotNELKlCv"
   },
   "source": []
  },
  {
   "cell_type": "markdown",
   "metadata": {
    "id": "3VhrJ96hLQ_J"
   },
   "source": []
  },
  {
   "cell_type": "markdown",
   "metadata": {
    "id": "X4hmFMpKL79f"
   },
   "source": []
  },
  {
   "cell_type": "markdown",
   "metadata": {
    "id": "CSsW9A7_MaPf"
   },
   "source": []
  },
  {
   "cell_type": "markdown",
   "metadata": {
    "id": "PiOhe6ASNJjK"
   },
   "source": []
  },
  {
   "cell_type": "markdown",
   "metadata": {
    "id": "AnXR_9SXN1QZ"
   },
   "source": []
  },
  {
   "cell_type": "markdown",
   "metadata": {
    "id": "8mHtukbSOSyS"
   },
   "source": []
  },
  {
   "cell_type": "markdown",
   "metadata": {
    "id": "7M2W3YDUPcB0"
   },
   "source": []
  },
  {
   "cell_type": "markdown",
   "metadata": {
    "id": "hvOAwubzQG_0"
   },
   "source": []
  },
  {
   "cell_type": "markdown",
   "metadata": {
    "id": "FncsKStWQlR7"
   },
   "source": []
  },
  {
   "cell_type": "markdown",
   "metadata": {
    "id": "JCPVId67RRNr"
   },
   "source": []
  },
  {
   "cell_type": "markdown",
   "metadata": {
    "id": "bvPP_OLQR9Kn"
   },
   "source": []
  },
  {
   "cell_type": "markdown",
   "metadata": {
    "id": "estsoYk-SpGo"
   },
   "source": []
  },
  {
   "cell_type": "markdown",
   "metadata": {
    "id": "wK12k9FiTGaf"
   },
   "source": []
  },
  {
   "cell_type": "markdown",
   "metadata": {
    "id": "qnqWzJPjTyWf"
   },
   "source": []
  },
  {
   "cell_type": "markdown",
   "metadata": {
    "id": "94P45xwpUeTl"
   },
   "source": []
  },
  {
   "cell_type": "markdown",
   "metadata": {
    "id": "WIDJfsX_VISv"
   },
   "source": []
  },
  {
   "cell_type": "markdown",
   "metadata": {
    "id": "0K-rgtbIWE18"
   },
   "source": []
  },
  {
   "cell_type": "markdown",
   "metadata": {
    "id": "h03HRKPQWwyH"
   },
   "source": []
  },
  {
   "cell_type": "markdown",
   "metadata": {
    "id": "623U8fNDXcvI"
   },
   "source": []
  },
  {
   "cell_type": "markdown",
   "metadata": {
    "id": "P9JMpXlXYkgO"
   },
   "source": []
  },
  {
   "cell_type": "markdown",
   "metadata": {
    "id": "jlz7diESZDRa"
   },
   "source": []
  },
  {
   "cell_type": "markdown",
   "metadata": {
    "id": "K7NuzwDpZvNh"
   },
   "source": []
  },
  {
   "cell_type": "markdown",
   "metadata": {
    "id": "SMarNoxjaMhV"
   },
   "source": []
  },
  {
   "cell_type": "markdown",
   "metadata": {
    "id": "4X9VHtlVa4dX"
   },
   "source": []
  },
  {
   "cell_type": "markdown",
   "metadata": {
    "id": "NFzWU2g3bkZ4"
   },
   "source": []
  },
  {
   "cell_type": "markdown",
   "metadata": {
    "id": "j_dd_qNqcQF9"
   },
   "source": []
  },
  {
   "cell_type": "markdown",
   "metadata": {
    "id": "DmVMxK2lc8Tu"
   },
   "source": []
  },
  {
   "cell_type": "markdown",
   "metadata": {
    "id": "Qt6bFtYCdoPX"
   },
   "source": []
  },
  {
   "cell_type": "markdown",
   "metadata": {
    "id": "3oEM75sBeFk4"
   },
   "source": []
  },
  {
   "cell_type": "markdown",
   "metadata": {
    "id": "a3xnxBg7exea"
   },
   "source": []
  },
  {
   "cell_type": "markdown",
   "metadata": {
    "id": "ugtyJmFWf6t3"
   },
   "source": []
  },
  {
   "cell_type": "markdown",
   "metadata": {
    "id": "yWYyV41-gYA_"
   },
   "source": []
  },
  {
   "cell_type": "markdown",
   "metadata": {
    "id": "61RvobmGhD-C"
   },
   "source": []
  },
  {
   "cell_type": "markdown",
   "metadata": {
    "id": "IKzWf8-1hv6h"
   },
   "source": []
  },
  {
   "cell_type": "markdown",
   "metadata": {
    "id": "75np4fxti4q-"
   },
   "source": []
  },
  {
   "cell_type": "markdown",
   "metadata": {
    "id": "3r09rV6EjlGP"
   },
   "source": []
  },
  {
   "cell_type": "markdown",
   "metadata": {
    "id": "D7pcoceQkRDJ"
   },
   "source": []
  },
  {
   "cell_type": "markdown",
   "metadata": {
    "id": "W48kcTYmk8_a"
   },
   "source": []
  },
  {
   "cell_type": "markdown",
   "metadata": {
    "id": "fw235UYgmGON"
   },
   "source": []
  },
  {
   "cell_type": "markdown",
   "metadata": {
    "id": "BqEb63K1n6cT"
   },
   "source": []
  },
  {
   "cell_type": "markdown",
   "metadata": {
    "id": "l1Rya-29oYua"
   },
   "source": []
  },
  {
   "cell_type": "markdown",
   "metadata": {
    "id": "R2Wfavvaph9D"
   },
   "source": []
  },
  {
   "cell_type": "markdown",
   "metadata": {
    "id": "pefkPrwiqN6J"
   },
   "source": []
  },
  {
   "cell_type": "markdown",
   "metadata": {
    "id": "UqVGcuvzq52X"
   },
   "source": []
  },
  {
   "cell_type": "markdown",
   "metadata": {
    "id": "VuAyVShOrlzJ"
   },
   "source": []
  },
  {
   "cell_type": "markdown",
   "metadata": {
    "id": "L__sOLxGsgYy"
   },
   "source": []
  },
  {
   "cell_type": "markdown",
   "metadata": {
    "id": "oxYCvihKta_c"
   },
   "source": []
  },
  {
   "cell_type": "markdown",
   "metadata": {
    "id": "_r2ko_bAuG63"
   },
   "source": []
  },
  {
   "cell_type": "markdown",
   "metadata": {
    "id": "TC8pFj99vQL0"
   },
   "source": []
  },
  {
   "cell_type": "markdown",
   "metadata": {
    "id": "vblsLMDev8Gs"
   },
   "source": []
  },
  {
   "cell_type": "markdown",
   "metadata": {
    "id": "Nt6e4u1iwoEO"
   },
   "source": []
  },
  {
   "cell_type": "markdown",
   "metadata": {
    "id": "g-8CC2n7xxTN"
   },
   "source": []
  },
  {
   "cell_type": "markdown",
   "metadata": {
    "id": "WN4449OYydQQ"
   },
   "source": []
  },
  {
   "cell_type": "markdown",
   "metadata": {
    "id": "Llgz9HKEzHPU"
   },
   "source": []
  },
  {
   "cell_type": "markdown",
   "metadata": {
    "id": "UDkv95oS0Dy1"
   },
   "source": []
  },
  {
   "cell_type": "markdown",
   "metadata": {
    "id": "Y2cWKQr10vuN"
   },
   "source": []
  },
  {
   "cell_type": "markdown",
   "metadata": {
    "id": "MxmU6vq_1brn"
   },
   "source": []
  },
  {
   "cell_type": "markdown",
   "metadata": {
    "id": "-3akAOoK2WRE"
   },
   "source": []
  },
  {
   "cell_type": "markdown",
   "metadata": {
    "id": "EwdAZvQT3COZ"
   },
   "source": []
  },
  {
   "cell_type": "markdown",
   "metadata": {
    "id": "6Za0ueO_3uJ-"
   },
   "source": []
  },
  {
   "cell_type": "markdown",
   "metadata": {
    "id": "y1eze5SJ4aHR"
   },
   "source": []
  },
  {
   "cell_type": "markdown",
   "metadata": {
    "id": "tIKLlFFv5jWE"
   },
   "source": []
  },
  {
   "cell_type": "markdown",
   "metadata": {
    "id": "pltXXRoI6PTS"
   },
   "source": []
  },
  {
   "cell_type": "markdown",
   "metadata": {
    "id": "tvs7_mEa6sle"
   },
   "source": []
  },
  {
   "cell_type": "markdown",
   "metadata": {
    "id": "TDDFhyY27Yi2"
   },
   "source": []
  },
  {
   "cell_type": "markdown",
   "metadata": {
    "id": "1ApKuaw38Eez"
   },
   "source": []
  },
  {
   "cell_type": "markdown",
   "metadata": {
    "id": "8MTqCAxf8wa4"
   },
   "source": []
  },
  {
   "cell_type": "markdown",
   "metadata": {
    "id": "CSbRy9DP9cXY"
   },
   "source": []
  },
  {
   "cell_type": "markdown",
   "metadata": {
    "id": "DoDjZF1Q-IU4"
   },
   "source": []
  },
  {
   "cell_type": "markdown",
   "metadata": {
    "id": "IJCy-gYT-0Qz"
   },
   "source": []
  },
  {
   "cell_type": "markdown",
   "metadata": {
    "id": "a8J7djHFAMKM"
   },
   "source": []
  },
  {
   "cell_type": "markdown",
   "metadata": {
    "id": "5SBGIPh9A4GH"
   },
   "source": []
  },
  {
   "cell_type": "markdown",
   "metadata": {
    "id": "BAc2I-H0BkC8"
   },
   "source": []
  },
  {
   "cell_type": "markdown",
   "metadata": {
    "id": "3tA8QgX7CBWR"
   },
   "source": []
  },
  {
   "cell_type": "markdown",
   "metadata": {
    "id": "lk7JgOcnC78G"
   },
   "source": []
  },
  {
   "cell_type": "markdown",
   "metadata": {
    "id": "aiblQumJDZOi"
   },
   "source": []
  },
  {
   "cell_type": "markdown",
   "metadata": {
    "id": "MqCLMsbtEFL0"
   },
   "source": []
  },
  {
   "cell_type": "markdown",
   "metadata": {
    "id": "MX8tPlVAExHx"
   },
   "source": []
  },
  {
   "cell_type": "markdown",
   "metadata": {
    "id": "eaL1bGYnFdE-"
   },
   "source": []
  },
  {
   "cell_type": "markdown",
   "metadata": {
    "id": "ZeSWzCY-GJAT"
   },
   "source": []
  },
  {
   "cell_type": "markdown",
   "metadata": {
    "id": "drxb6EuJGmUf"
   },
   "source": []
  },
  {
   "cell_type": "markdown",
   "metadata": {
    "id": "IlF9sHk0HSQG"
   },
   "source": []
  },
  {
   "cell_type": "markdown",
   "metadata": {
    "id": "ZOIfKNSMH-NF"
   },
   "source": []
  },
  {
   "cell_type": "markdown",
   "metadata": {
    "id": "gr96UogqIbf2"
   },
   "source": []
  },
  {
   "cell_type": "markdown",
   "metadata": {
    "id": "DEoc6UQBJWGE"
   },
   "source": []
  },
  {
   "cell_type": "markdown",
   "metadata": {
    "id": "dnsM-k8pJzYY"
   },
   "source": []
  },
  {
   "cell_type": "markdown",
   "metadata": {
    "id": "brNKPdlCK8oe"
   },
   "source": []
  },
  {
   "cell_type": "markdown",
   "metadata": {
    "id": "3IdhnJaqLokm"
   },
   "source": []
  },
  {
   "cell_type": "markdown",
   "metadata": {
    "id": "GwI4wRfjMUhh"
   },
   "source": []
  },
  {
   "cell_type": "markdown",
   "metadata": {
    "id": "3Jrb_7cbNdBi"
   },
   "source": []
  },
  {
   "cell_type": "markdown",
   "metadata": {
    "id": "0lUa3NZyOJtn"
   },
   "source": []
  },
  {
   "cell_type": "markdown",
   "metadata": {
    "id": "6S_Tgi0sO1p0"
   },
   "source": []
  },
  {
   "cell_type": "markdown",
   "metadata": {
    "id": "BwOwxWinP9cC"
   },
   "source": []
  },
  {
   "cell_type": "markdown",
   "metadata": {
    "id": "Dmtiz42SQq16"
   },
   "source": []
  },
  {
   "cell_type": "markdown",
   "metadata": {
    "id": "1AulwTidRWy6"
   },
   "source": []
  },
  {
   "cell_type": "markdown",
   "metadata": {
    "id": "3YnN9Pi4SCul"
   },
   "source": []
  },
  {
   "cell_type": "markdown",
   "metadata": {
    "id": "NyZaMb5PTpRs"
   },
   "source": []
  },
  {
   "cell_type": "markdown",
   "metadata": {
    "id": "swcKJ_kMUVNs"
   },
   "source": []
  },
  {
   "cell_type": "markdown",
   "metadata": {
    "id": "1Xvm4zbsVBK3"
   },
   "source": []
  },
  {
   "cell_type": "markdown",
   "metadata": {
    "id": "z5JmcIS0WKZs"
   },
   "source": []
  },
  {
   "cell_type": "markdown",
   "metadata": {
    "id": "rxgp5Tz-W2We"
   },
   "source": []
  },
  {
   "cell_type": "markdown",
   "metadata": {
    "id": "lFLesaXJXiSu"
   },
   "source": []
  },
  {
   "cell_type": "markdown",
   "metadata": {
    "id": "KGacYGz7YriQ"
   },
   "source": []
  },
  {
   "cell_type": "markdown",
   "metadata": {
    "id": "MgoUkyX3ZI1S"
   },
   "source": []
  },
  {
   "cell_type": "markdown",
   "metadata": {
    "id": "4CkYCkNgaDbX"
   },
   "source": []
  },
  {
   "cell_type": "markdown",
   "metadata": {
    "id": "2dYu8N6IbMq4"
   },
   "source": []
  },
  {
   "cell_type": "markdown",
   "metadata": {
    "id": "1CzPq9tbb4no"
   },
   "source": []
  },
  {
   "cell_type": "markdown",
   "metadata": {
    "id": "KRyGiAcIckjn"
   },
   "source": []
  },
  {
   "cell_type": "markdown",
   "metadata": {
    "id": "pfZ-Z-Pmdtz8"
   },
   "source": []
  },
  {
   "cell_type": "markdown",
   "metadata": {
    "id": "HN_tgKPReZvq"
   },
   "source": []
  },
  {
   "cell_type": "markdown",
   "metadata": {
    "id": "vD3Fi_lgfUVq"
   },
   "source": []
  },
  {
   "cell_type": "markdown",
   "metadata": {
    "id": "sbZ2V10xf_Tq"
   },
   "source": []
  },
  {
   "cell_type": "markdown",
   "metadata": {
    "id": "c5NCgsEigsPi"
   },
   "source": []
  },
  {
   "cell_type": "markdown",
   "metadata": {
    "id": "9oP4HBXRhYMW"
   },
   "source": []
  },
  {
   "cell_type": "markdown",
   "metadata": {
    "id": "xR23SbhniEI9"
   },
   "source": []
  },
  {
   "cell_type": "markdown",
   "metadata": {
    "id": "Ivzh8V2djNXz"
   },
   "source": []
  },
  {
   "cell_type": "markdown",
   "metadata": {
    "id": "4-LJ2hACj5U8"
   },
   "source": []
  },
  {
   "cell_type": "markdown",
   "metadata": {
    "id": "SqxrFDtzklQS"
   },
   "source": []
  },
  {
   "cell_type": "markdown",
   "metadata": {
    "id": "cGUju1xGluf0"
   },
   "source": []
  },
  {
   "cell_type": "markdown",
   "metadata": {
    "id": "0iKwPl0lmYuw"
   },
   "source": []
  },
  {
   "cell_type": "markdown",
   "metadata": {
    "id": "ZhhaiakFnGZX"
   },
   "source": []
  },
  {
   "cell_type": "markdown",
   "metadata": {
    "id": "enlmIqeroPoI"
   },
   "source": []
  },
  {
   "cell_type": "markdown",
   "metadata": {
    "id": "I7Uv8Vzao7GM"
   },
   "source": []
  },
  {
   "cell_type": "markdown",
   "metadata": {
    "id": "7ntot3-BqEzh"
   },
   "source": []
  },
  {
   "cell_type": "markdown",
   "metadata": {
    "id": "hffiALtkrrZQ"
   },
   "source": []
  },
  {
   "cell_type": "markdown",
   "metadata": {
    "id": "S553jRC-sXTi"
   },
   "source": []
  },
  {
   "cell_type": "markdown",
   "metadata": {
    "id": "J9R0TExMtR5x"
   },
   "source": []
  },
  {
   "cell_type": "markdown",
   "metadata": {
    "id": "ko6I1IWuubIT"
   },
   "source": []
  },
  {
   "cell_type": "markdown",
   "metadata": {
    "id": "adtsCoU1vHFD"
   },
   "source": []
  },
  {
   "cell_type": "markdown",
   "metadata": {
    "id": "J2A3YJPOvzBi"
   },
   "source": []
  },
  {
   "cell_type": "markdown",
   "metadata": {
    "id": "6Q4Xf6Rtwe-3"
   },
   "source": []
  },
  {
   "cell_type": "markdown",
   "metadata": {
    "id": "KvFBo2xXxK6o"
   },
   "source": []
  },
  {
   "cell_type": "markdown",
   "metadata": {
    "id": "JZhT088dx23l"
   },
   "source": []
  },
  {
   "cell_type": "markdown",
   "metadata": {
    "id": "PRLFFbl7zAG1"
   },
   "source": []
  },
  {
   "cell_type": "markdown",
   "metadata": {
    "id": "a9mfwTvozsDV"
   },
   "source": []
  },
  {
   "cell_type": "markdown",
   "metadata": {
    "id": "rNXHVRcx0X_u"
   },
   "source": []
  },
  {
   "cell_type": "markdown",
   "metadata": {
    "id": "l8Rer7os1C-I"
   },
   "source": []
  },
  {
   "cell_type": "markdown",
   "metadata": {
    "id": "usgnVqY02NLn"
   },
   "source": []
  },
  {
   "cell_type": "markdown",
   "metadata": {
    "id": "t2MPJOOa25Iz"
   },
   "source": []
  },
  {
   "cell_type": "markdown",
   "metadata": {
    "id": "CXEouGB53lE4"
   },
   "source": []
  },
  {
   "cell_type": "markdown",
   "metadata": {
    "id": "uFYqa_Nf4RB7"
   },
   "source": []
  },
  {
   "cell_type": "markdown",
   "metadata": {
    "id": "yOInjKer489w"
   },
   "source": []
  },
  {
   "cell_type": "markdown",
   "metadata": {
    "id": "wIn8GkY253jL"
   },
   "source": []
  },
  {
   "cell_type": "markdown",
   "metadata": {
    "id": "fw5MX1CE6U2s"
   },
   "source": []
  },
  {
   "cell_type": "markdown",
   "metadata": {
    "id": "qXyqahyZ7Az5"
   },
   "source": []
  },
  {
   "cell_type": "markdown",
   "metadata": {
    "id": "TeF9kHsc7sv3"
   },
   "source": []
  },
  {
   "cell_type": "markdown",
   "metadata": {
    "id": "2t7YbBmK8Ysd"
   },
   "source": []
  },
  {
   "cell_type": "markdown",
   "metadata": {
    "id": "YQQnpKcn9Eoy"
   },
   "source": []
  },
  {
   "cell_type": "markdown",
   "metadata": {
    "id": "-lerqcoD9wlg"
   },
   "source": []
  },
  {
   "cell_type": "markdown",
   "metadata": {
    "id": "2jii_8lQ-500"
   },
   "source": []
  },
  {
   "cell_type": "markdown",
   "metadata": {
    "id": "owTHT3fQ_lx-"
   },
   "source": []
  },
  {
   "cell_type": "markdown",
   "metadata": {
    "id": "FhmtwYPdARtx"
   },
   "source": []
  },
  {
   "cell_type": "markdown",
   "metadata": {
    "id": "QaD4j8NsA9qv"
   },
   "source": []
  },
  {
   "cell_type": "markdown",
   "metadata": {
    "id": "nltY0QDDBpm5"
   },
   "source": []
  },
  {
   "cell_type": "markdown",
   "metadata": {
    "id": "a3_PqejxCUlR"
   },
   "source": []
  },
  {
   "cell_type": "markdown",
   "metadata": {
    "id": "8rU0cNm1DBfy"
   },
   "source": []
  },
  {
   "cell_type": "markdown",
   "metadata": {
    "id": "p-u3HrteDtcu"
   },
   "source": []
  },
  {
   "cell_type": "markdown",
   "metadata": {
    "id": "8lj8rO3QEKu_"
   },
   "source": []
  },
  {
   "cell_type": "markdown",
   "metadata": {
    "id": "9VaIs576FEXP"
   },
   "source": []
  },
  {
   "cell_type": "markdown",
   "metadata": {
    "id": "wBdtyj9LFxRH"
   },
   "source": []
  },
  {
   "cell_type": "markdown",
   "metadata": {
    "id": "LHZkDRkYGcQc"
   },
   "source": []
  },
  {
   "cell_type": "markdown",
   "metadata": {
    "id": "xMv0GW6pHJKt"
   },
   "source": []
  },
  {
   "cell_type": "markdown",
   "metadata": {
    "id": "bqzbcEfYH1H_"
   },
   "source": []
  },
  {
   "cell_type": "markdown",
   "metadata": {
    "id": "URXVDKFgI-Wr"
   },
   "source": []
  },
  {
   "cell_type": "markdown",
   "metadata": {
    "id": "h_KYpqnYJ49K"
   },
   "source": []
  },
  {
   "cell_type": "markdown",
   "metadata": {
    "id": "UuorRIX0KWP6"
   },
   "source": []
  },
  {
   "cell_type": "markdown",
   "metadata": {
    "id": "69UKPs2_LCMq"
   },
   "source": []
  },
  {
   "cell_type": "markdown",
   "metadata": {
    "id": "rq9jL63aMLb5"
   },
   "source": []
  },
  {
   "cell_type": "markdown",
   "metadata": {
    "id": "j9SRCNGYM3Y_"
   },
   "source": []
  },
  {
   "cell_type": "markdown",
   "metadata": {
    "id": "eFau41tVNx9n"
   },
   "source": []
  },
  {
   "cell_type": "markdown",
   "metadata": {
    "id": "3KIlFi3QO7OJ"
   },
   "source": []
  },
  {
   "cell_type": "markdown",
   "metadata": {
    "id": "MFPKVtqUPYgl"
   },
   "source": []
  },
  {
   "cell_type": "markdown",
   "metadata": {
    "id": "78Ua9QfwQTHZ"
   },
   "source": []
  },
  {
   "cell_type": "markdown",
   "metadata": {
    "id": "3MFNAZaIRcWp"
   },
   "source": []
  },
  {
   "cell_type": "markdown",
   "metadata": {
    "id": "ox4_7_33SITf"
   },
   "source": []
  },
  {
   "cell_type": "markdown",
   "metadata": {
    "id": "Qay93h9iS0PF"
   },
   "source": []
  },
  {
   "cell_type": "markdown",
   "metadata": {
    "id": "cH8vAM5TT9fJ"
   },
   "source": []
  },
  {
   "cell_type": "markdown",
   "metadata": {
    "id": "CpgMq_d-UpbD"
   },
   "source": []
  },
  {
   "cell_type": "markdown",
   "metadata": {
    "id": "3scc_olLVVYc"
   },
   "source": []
  },
  {
   "cell_type": "markdown",
   "metadata": {
    "id": "rY6ngMtfWenG"
   },
   "source": []
  },
  {
   "cell_type": "markdown",
   "metadata": {
    "id": "TypL8cCFXKkZ"
   },
   "source": []
  },
  {
   "cell_type": "markdown",
   "metadata": {
    "id": "H6l_QLXlX2gX"
   },
   "source": []
  },
  {
   "cell_type": "markdown",
   "metadata": {
    "id": "OyPTNkxlYxF8"
   },
   "source": []
  },
  {
   "cell_type": "markdown",
   "metadata": {
    "id": "mlSGYc2AZ6Vx"
   },
   "source": []
  },
  {
   "cell_type": "markdown",
   "metadata": {
    "id": "qcwteZmeamR6"
   },
   "source": []
  },
  {
   "cell_type": "markdown",
   "metadata": {
    "id": "QfG8SHTabSOr"
   },
   "source": []
  },
  {
   "cell_type": "markdown",
   "metadata": {
    "id": "pzuSd6lXcbfq"
   },
   "source": []
  },
  {
   "cell_type": "markdown",
   "metadata": {
    "id": "CmHNMUiHdHa8"
   },
   "source": []
  },
  {
   "cell_type": "markdown",
   "metadata": {
    "id": "hXGZ8E5DeCBC"
   },
   "source": []
  },
  {
   "cell_type": "markdown",
   "metadata": {
    "id": "azzWjqM0fLQe"
   },
   "source": []
  },
  {
   "cell_type": "markdown",
   "metadata": {
    "id": "gw32vfdcf3M-"
   },
   "source": []
  },
  {
   "cell_type": "markdown",
   "metadata": {
    "id": "LrAsAm2RgjJf"
   },
   "source": []
  },
  {
   "cell_type": "markdown",
   "metadata": {
    "id": "0niT6zdShsZE"
   },
   "source": []
  },
  {
   "cell_type": "markdown",
   "metadata": {
    "id": "OT-lYiDDiYVl"
   },
   "source": []
  },
  {
   "cell_type": "markdown",
   "metadata": {
    "id": "ZjeOFQWujES1"
   },
   "source": []
  },
  {
   "cell_type": "markdown",
   "metadata": {
    "id": "Qn9l2V9LjwOR"
   },
   "source": []
  },
  {
   "cell_type": "markdown",
   "metadata": {
    "id": "vJic88IOkcLC"
   },
   "source": []
  },
  {
   "cell_type": "markdown",
   "metadata": {
    "id": "VHEwBuB4lIHD"
   },
   "source": []
  },
  {
   "cell_type": "markdown",
   "metadata": {
    "id": "U2PmB9LDlZ8N"
   },
   "source": []
  },
  {
   "cell_type": "markdown",
   "metadata": {
    "id": "49wH0l96lcHo"
   },
   "source": []
  },
  {
   "cell_type": "markdown",
   "metadata": {
    "id": "k_UIGzuVm9Uo"
   },
   "source": []
  },
  {
   "cell_type": "markdown",
   "metadata": {
    "id": "XgDm2ncOnUVA"
   },
   "source": []
  },
  {
   "cell_type": "markdown",
   "metadata": {
    "id": "CQD2APMWn359"
   },
   "source": []
  },
  {
   "cell_type": "markdown",
   "metadata": {
    "id": "4OZpu9A0oj1q"
   },
   "source": []
  },
  {
   "cell_type": "markdown",
   "metadata": {
    "id": "y5XJ3BDgpPz7"
   },
   "source": []
  },
  {
   "cell_type": "markdown",
   "metadata": {
    "id": "fj__7tYVqKXX"
   },
   "source": []
  },
  {
   "cell_type": "markdown",
   "metadata": {
    "id": "QlLEVRobriRq"
   },
   "source": []
  },
  {
   "cell_type": "markdown",
   "metadata": {
    "id": "051Wx6G-sONY"
   },
   "source": []
  },
  {
   "cell_type": "markdown",
   "metadata": {
    "id": "wTnnDLdos6Ld"
   },
   "source": []
  },
  {
   "cell_type": "markdown",
   "metadata": {
    "id": "xKTUrSAAtmF_"
   },
   "source": []
  },
  {
   "cell_type": "markdown",
   "metadata": {
    "id": "iXAvcVqJugtw"
   },
   "source": []
  },
  {
   "cell_type": "markdown",
   "metadata": {
    "id": "-_Tlma32vMo5"
   },
   "source": []
  },
  {
   "cell_type": "markdown",
   "metadata": {
    "id": "IGTCU1mVwHQd"
   },
   "source": []
  },
  {
   "cell_type": "markdown",
   "metadata": {
    "id": "0TMZY_K6xQed"
   },
   "source": []
  },
  {
   "cell_type": "markdown",
   "metadata": {
    "id": "XIbYuU5Rx8cS"
   },
   "source": []
  },
  {
   "cell_type": "markdown",
   "metadata": {
    "id": "24Qz3URVyoXH"
   },
   "source": []
  },
  {
   "cell_type": "markdown",
   "metadata": {
    "id": "Dv6b7Ha8zi-Z"
   },
   "source": []
  },
  {
   "cell_type": "markdown",
   "metadata": {
    "id": "EJewm6we0O56"
   },
   "source": []
  },
  {
   "cell_type": "markdown",
   "metadata": {
    "id": "Ea3Z9xHH1YLc"
   },
   "source": []
  },
  {
   "cell_type": "markdown",
   "metadata": {
    "id": "mAI3VUdH2EFr"
   },
   "source": []
  },
  {
   "cell_type": "markdown",
   "metadata": {
    "id": "QTPBRPMV2wD1"
   },
   "source": []
  },
  {
   "cell_type": "markdown",
   "metadata": {
    "id": "aRiq5wNj35R6"
   },
   "source": []
  },
  {
   "cell_type": "markdown",
   "metadata": {
    "id": "2SLdKjTZ4lPg"
   },
   "source": []
  },
  {
   "cell_type": "markdown",
   "metadata": {
    "id": "-1wspO_75RKr"
   },
   "source": []
  },
  {
   "cell_type": "markdown",
   "metadata": {
    "id": "i-OEbrMr6pFD"
   },
   "source": []
  },
  {
   "cell_type": "markdown",
   "metadata": {
    "id": "kPw9EnwH7VAR"
   },
   "source": []
  },
  {
   "cell_type": "markdown",
   "metadata": {
    "id": "A5GhAbTs8A-q"
   },
   "source": []
  },
  {
   "cell_type": "markdown",
   "metadata": {
    "id": "N3Q5OwDu8s5l"
   },
   "source": []
  },
  {
   "cell_type": "markdown",
   "metadata": {
    "id": "kIICkciw9mDJ"
   },
   "source": []
  },
  {
   "cell_type": "markdown",
   "metadata": {
    "id": "N-oBFxmbt0WG"
   },
   "source": []
  },
  {
   "cell_type": "markdown",
   "metadata": {
    "id": "2FCPnLzZt0Zu"
   },
   "source": []
  },
  {
   "cell_type": "markdown",
   "metadata": {
    "id": "XUwa6La7uRov"
   },
   "source": []
  },
  {
   "cell_type": "markdown",
   "metadata": {
    "id": "hkQ3JH9xuRsX"
   },
   "source": []
  },
  {
   "cell_type": "markdown",
   "metadata": {
    "id": "zjQvWZGouu75"
   },
   "source": []
  },
  {
   "cell_type": "markdown",
   "metadata": {
    "id": "FLg1NKt0uu_a"
   },
   "source": []
  },
  {
   "cell_type": "markdown",
   "metadata": {
    "id": "51aUEq3bvMO3"
   },
   "source": []
  },
  {
   "cell_type": "markdown",
   "metadata": {
    "id": "nRGOFd3DvMSd"
   },
   "source": []
  },
  {
   "cell_type": "markdown",
   "metadata": {
    "id": "z3AQnHhBvphi"
   },
   "source": []
  },
  {
   "cell_type": "markdown",
   "metadata": {
    "id": "YTeq3XSLvpl_"
   },
   "source": []
  },
  {
   "cell_type": "markdown",
   "metadata": {
    "id": "5gmA8bRqv9Un"
   },
   "source": []
  },
  {
   "cell_type": "markdown",
   "metadata": {
    "id": "hpfJ1BKuwGve"
   },
   "source": []
  },
  {
   "cell_type": "markdown",
   "metadata": {
    "id": "c1kVBs-uwaoI"
   },
   "source": []
  },
  {
   "cell_type": "markdown",
   "metadata": {
    "id": "2gVk20oHwkCV"
   },
   "source": []
  },
  {
   "cell_type": "markdown",
   "metadata": {
    "id": "6y6nRwcww36k"
   },
   "source": []
  },
  {
   "cell_type": "markdown",
   "metadata": {
    "id": "K8o83fLcxBV2"
   },
   "source": []
  },
  {
   "cell_type": "markdown",
   "metadata": {
    "id": "1Q5zArU-xVNr"
   },
   "source": []
  },
  {
   "cell_type": "markdown",
   "metadata": {
    "id": "HwBn7ihYxeoS"
   },
   "source": []
  },
  {
   "cell_type": "markdown",
   "metadata": {
    "id": "5H6PRRPYxyg-"
   },
   "source": []
  },
  {
   "cell_type": "markdown",
   "metadata": {
    "id": "IWLRxZI9x77b"
   },
   "source": []
  },
  {
   "cell_type": "markdown",
   "metadata": {
    "id": "LyN73XxByPzt"
   },
   "source": []
  },
  {
   "cell_type": "markdown",
   "metadata": {
    "id": "nhzj1fRmyZOo"
   },
   "source": []
  },
  {
   "cell_type": "markdown",
   "metadata": {
    "id": "L3aYGITJytGo"
   },
   "source": []
  },
  {
   "cell_type": "markdown",
   "metadata": {
    "id": "JBQK_Xg4y2hp"
   },
   "source": []
  },
  {
   "cell_type": "markdown",
   "metadata": {
    "id": "-0x97Kv2zKZ3"
   },
   "source": []
  },
  {
   "cell_type": "markdown",
   "metadata": {
    "id": "xb-Q9OmbzT0e"
   },
   "source": []
  },
  {
   "cell_type": "markdown",
   "metadata": {
    "id": "3WRHlMEoznsw"
   },
   "source": []
  },
  {
   "cell_type": "markdown",
   "metadata": {
    "id": "DoLJPL58zxHa"
   },
   "source": []
  },
  {
   "cell_type": "markdown",
   "metadata": {
    "id": "gljcXgGi0E_k"
   },
   "source": []
  },
  {
   "cell_type": "markdown",
   "metadata": {
    "id": "zd1hxQhU0OaV"
   },
   "source": []
  },
  {
   "cell_type": "markdown",
   "metadata": {
    "id": "up8kaABb0iS1"
   },
   "source": []
  },
  {
   "cell_type": "markdown",
   "metadata": {
    "id": "8Bj27dak0rth"
   },
   "source": []
  },
  {
   "cell_type": "markdown",
   "metadata": {
    "id": "TDwBiBtK0_lx"
   },
   "source": []
  },
  {
   "cell_type": "markdown",
   "metadata": {
    "id": "dB25m-N51JAx"
   },
   "source": []
  },
  {
   "cell_type": "markdown",
   "metadata": {
    "id": "TMk6P1EC1c4r"
   },
   "source": []
  },
  {
   "cell_type": "markdown",
   "metadata": {
    "id": "wbn0BRX41mT2"
   },
   "source": []
  },
  {
   "cell_type": "markdown",
   "metadata": {
    "id": "kq0n3BuC16Lu"
   },
   "source": []
  },
  {
   "cell_type": "markdown",
   "metadata": {
    "id": "cLIwxvYX2Dme"
   },
   "source": []
  },
  {
   "cell_type": "markdown",
   "metadata": {
    "id": "8etyHMYO2XfC"
   },
   "source": []
  },
  {
   "cell_type": "markdown",
   "metadata": {
    "id": "GdjDEME92g5w"
   },
   "source": []
  },
  {
   "cell_type": "markdown",
   "metadata": {
    "id": "KKHQnO-h20xr"
   },
   "source": []
  },
  {
   "cell_type": "markdown",
   "metadata": {
    "id": "Kbxl1ykZ2-Mh"
   },
   "source": []
  },
  {
   "cell_type": "markdown",
   "metadata": {
    "id": "dJi3yf5a3SEr"
   },
   "source": []
  },
  {
   "cell_type": "markdown",
   "metadata": {
    "id": "xku8zq7G3bfZ"
   },
   "source": []
  },
  {
   "cell_type": "markdown",
   "metadata": {
    "id": "vctN2jPm3vX-"
   },
   "source": []
  },
  {
   "cell_type": "markdown",
   "metadata": {
    "id": "Tt4cmciP34ys"
   },
   "source": []
  },
  {
   "cell_type": "markdown",
   "metadata": {
    "id": "hmBzmCRy4Mq6"
   },
   "source": []
  },
  {
   "cell_type": "markdown",
   "metadata": {
    "id": "uluWBM5T4WFc"
   },
   "source": []
  },
  {
   "cell_type": "markdown",
   "metadata": {
    "id": "cngd_PK_4p9x"
   },
   "source": []
  },
  {
   "cell_type": "markdown",
   "metadata": {
    "id": "KM5XNK7x4zY4"
   },
   "source": []
  },
  {
   "cell_type": "markdown",
   "metadata": {
    "id": "3WZaXERa5HRM"
   },
   "source": []
  },
  {
   "cell_type": "markdown",
   "metadata": {
    "id": "CqGAZOG35QrW"
   },
   "source": []
  },
  {
   "cell_type": "markdown",
   "metadata": {
    "id": "LQ8JK9O45kj3"
   },
   "source": []
  },
  {
   "cell_type": "markdown",
   "metadata": {
    "id": "WjzIB3u85t-X"
   },
   "source": []
  },
  {
   "cell_type": "markdown",
   "metadata": {
    "id": "zqGnlJDJ6B2k"
   },
   "source": []
  },
  {
   "cell_type": "markdown",
   "metadata": {
    "id": "phQ_YCVp6LRk"
   },
   "source": []
  },
  {
   "cell_type": "markdown",
   "metadata": {
    "id": "zfkxtqv66fJw"
   },
   "source": []
  },
  {
   "cell_type": "markdown",
   "metadata": {
    "id": "gabUPusS6oko"
   },
   "source": []
  },
  {
   "cell_type": "markdown",
   "metadata": {
    "id": "35WXmf2U68c7"
   },
   "source": []
  },
  {
   "cell_type": "markdown",
   "metadata": {
    "id": "y-C3yPZ_7F3f"
   },
   "source": []
  },
  {
   "cell_type": "markdown",
   "metadata": {
    "id": "DiLH9a-G7Zvn"
   },
   "source": []
  },
  {
   "cell_type": "markdown",
   "metadata": {
    "id": "j6D6SYgk7jKt"
   },
   "source": []
  },
  {
   "cell_type": "markdown",
   "metadata": {
    "id": "kwsG-cPD73C5"
   },
   "source": []
  },
  {
   "cell_type": "markdown",
   "metadata": {
    "id": "QGPSPzx48AdZ"
   },
   "source": []
  },
  {
   "cell_type": "markdown",
   "metadata": {
    "id": "Ybuo8P6R8UV4"
   },
   "source": []
  },
  {
   "cell_type": "markdown",
   "metadata": {
    "id": "lbBzxkpF8dwc"
   },
   "source": []
  },
  {
   "cell_type": "markdown",
   "metadata": {
    "id": "A0MspmWm8xoi"
   },
   "source": []
  },
  {
   "cell_type": "markdown",
   "metadata": {
    "id": "5e_kTn5w87D1"
   },
   "source": []
  },
  {
   "cell_type": "markdown",
   "metadata": {
    "id": "AayYNDfI9O7t"
   },
   "source": []
  },
  {
   "cell_type": "markdown",
   "metadata": {
    "id": "K0D4Lqm69YWl"
   },
   "source": []
  },
  {
   "cell_type": "markdown",
   "metadata": {
    "id": "EwVh4UmQ9sOl"
   },
   "source": []
  },
  {
   "cell_type": "markdown",
   "metadata": {
    "id": "LI0xUrUp91pd"
   },
   "source": []
  },
  {
   "cell_type": "markdown",
   "metadata": {
    "id": "tmRtoTv6-Jhw"
   },
   "source": []
  },
  {
   "cell_type": "markdown",
   "metadata": {
    "id": "cCU-FCxE-S8f"
   },
   "source": []
  },
  {
   "cell_type": "markdown",
   "metadata": {
    "id": "5acuV1Ug-m0x"
   },
   "source": []
  },
  {
   "cell_type": "markdown",
   "metadata": {
    "id": "KBEP4GnS-wPa"
   },
   "source": []
  },
  {
   "cell_type": "markdown",
   "metadata": {
    "id": "SR1znZUW_EH0"
   },
   "source": []
  },
  {
   "cell_type": "markdown",
   "metadata": {
    "id": "taqSu_36_NiZ"
   },
   "source": []
  },
  {
   "cell_type": "markdown",
   "metadata": {
    "id": "RyC3DNVM_ham"
   },
   "source": []
  },
  {
   "cell_type": "markdown",
   "metadata": {
    "id": "5UbNBuVy_q1w"
   },
   "source": []
  },
  {
   "cell_type": "markdown",
   "metadata": {
    "id": "8gEF9REG_-tq"
   },
   "source": []
  },
  {
   "cell_type": "markdown",
   "metadata": {
    "id": "EgeTVq1hAIIl"
   },
   "source": []
  },
  {
   "cell_type": "markdown",
   "metadata": {
    "id": "EqemzMooAcAr"
   },
   "source": []
  },
  {
   "cell_type": "markdown",
   "metadata": {
    "id": "-d4yj4QoAlb2"
   },
   "source": []
  },
  {
   "cell_type": "markdown",
   "metadata": {
    "id": "QtkJQdEtA5T8"
   },
   "source": []
  },
  {
   "cell_type": "markdown",
   "metadata": {
    "id": "Z9EBVPUQBCuq"
   },
   "source": []
  },
  {
   "cell_type": "markdown",
   "metadata": {
    "id": "EZT6J2-NBWmm"
   },
   "source": []
  },
  {
   "cell_type": "markdown",
   "metadata": {
    "id": "TbaGKDvSBgBm"
   },
   "source": []
  },
  {
   "cell_type": "markdown",
   "metadata": {
    "id": "MBzzr3TLBz5z"
   },
   "source": []
  },
  {
   "cell_type": "markdown",
   "metadata": {
    "id": "k4-woQbaB9UU"
   },
   "source": []
  },
  {
   "cell_type": "markdown",
   "metadata": {
    "id": "5nh-7eNTCRMu"
   },
   "source": []
  },
  {
   "cell_type": "markdown",
   "metadata": {
    "id": "A_a4J10kCann"
   },
   "source": []
  },
  {
   "cell_type": "markdown",
   "metadata": {
    "id": "ffdQxef5Cufv"
   },
   "source": []
  },
  {
   "cell_type": "markdown",
   "metadata": {
    "id": "_v6aALHOC36R"
   },
   "source": []
  },
  {
   "cell_type": "markdown",
   "metadata": {
    "id": "R4LQtfByDLyx"
   },
   "source": []
  },
  {
   "cell_type": "markdown",
   "metadata": {
    "id": "SgrCy-FwDVNt"
   },
   "source": []
  },
  {
   "cell_type": "markdown",
   "metadata": {
    "id": "KkG4pyqWDpGC"
   },
   "source": []
  },
  {
   "cell_type": "markdown",
   "metadata": {
    "id": "-_QRrrndDygh"
   },
   "source": []
  },
  {
   "cell_type": "markdown",
   "metadata": {
    "id": "c3nHrblxEGYv"
   },
   "source": []
  },
  {
   "cell_type": "markdown",
   "metadata": {
    "id": "wlsaPEYrEPzf"
   },
   "source": []
  },
  {
   "cell_type": "markdown",
   "metadata": {
    "id": "JE0kg2AhEjr-"
   },
   "source": []
  },
  {
   "cell_type": "markdown",
   "metadata": {
    "id": "PzHgqKzOEtGw"
   },
   "source": []
  },
  {
   "cell_type": "markdown",
   "metadata": {
    "id": "e7GY2va6FA-q"
   },
   "source": []
  },
  {
   "cell_type": "markdown",
   "metadata": {
    "id": "nJWW4E5fFKZe"
   },
   "source": []
  },
  {
   "cell_type": "markdown",
   "metadata": {
    "id": "zTBU88ZuFeRj"
   },
   "source": []
  },
  {
   "cell_type": "markdown",
   "metadata": {
    "id": "OZLR70VhFnsi"
   },
   "source": []
  },
  {
   "cell_type": "markdown",
   "metadata": {
    "id": "A6R2xLwHF7ky"
   },
   "source": []
  },
  {
   "cell_type": "markdown",
   "metadata": {
    "id": "ICK3PUG-GE_o"
   },
   "source": []
  },
  {
   "cell_type": "markdown",
   "metadata": {
    "id": "d0DvKmRDGY34"
   },
   "source": []
  },
  {
   "cell_type": "markdown",
   "metadata": {
    "id": "wtao1rjRGiSX"
   },
   "source": []
  },
  {
   "cell_type": "markdown",
   "metadata": {
    "id": "TdmI86kGG2Kj"
   },
   "source": []
  },
  {
   "cell_type": "markdown",
   "metadata": {
    "id": "6oJdv-pVG_lX"
   },
   "source": []
  },
  {
   "cell_type": "markdown",
   "metadata": {
    "id": "qruaYkV9HTdi"
   },
   "source": []
  },
  {
   "cell_type": "markdown",
   "metadata": {
    "id": "Ti2N7AzxHc4j"
   },
   "source": []
  },
  {
   "cell_type": "markdown",
   "metadata": {
    "id": "BjssPwHKHwwu"
   },
   "source": []
  },
  {
   "cell_type": "markdown",
   "metadata": {
    "id": "1t0DyjasH6Lg"
   },
   "source": []
  },
  {
   "cell_type": "markdown",
   "metadata": {
    "id": "K7plRVjuIODx"
   },
   "source": []
  },
  {
   "cell_type": "markdown",
   "metadata": {
    "id": "Vz4BrU5RIXeq"
   },
   "source": []
  },
  {
   "cell_type": "markdown",
   "metadata": {
    "id": "bpMyWRkkIrW0"
   },
   "source": []
  },
  {
   "cell_type": "markdown",
   "metadata": {
    "id": "FaSGw8aMI0xk"
   },
   "source": []
  },
  {
   "cell_type": "markdown",
   "metadata": {
    "id": "Ppcr0NB-JIpo"
   },
   "source": []
  },
  {
   "cell_type": "markdown",
   "metadata": {
    "id": "VFoVf_W0JSFC"
   },
   "source": []
  },
  {
   "cell_type": "markdown",
   "metadata": {
    "id": "R_Ob9XX0Jl8y"
   },
   "source": []
  },
  {
   "cell_type": "markdown",
   "metadata": {
    "id": "Q1THnM4UJvXi"
   },
   "source": []
  },
  {
   "cell_type": "markdown",
   "metadata": {
    "id": "74rq4l_hKDPj"
   },
   "source": []
  },
  {
   "cell_type": "markdown",
   "metadata": {
    "id": "ufUeHOKGKMqb"
   },
   "source": []
  },
  {
   "cell_type": "markdown",
   "metadata": {
    "id": "D9j774E7KgjC"
   },
   "source": []
  },
  {
   "cell_type": "markdown",
   "metadata": {
    "id": "07Rb0uRqKp9g"
   },
   "source": []
  },
  {
   "cell_type": "markdown",
   "metadata": {
    "id": "jrX2hky9K91-"
   },
   "source": []
  },
  {
   "cell_type": "markdown",
   "metadata": {
    "id": "ntp1wbtRLHQn"
   },
   "source": []
  },
  {
   "cell_type": "markdown",
   "metadata": {
    "id": "LFMS7JwtLbIw"
   },
   "source": []
  },
  {
   "cell_type": "markdown",
   "metadata": {
    "id": "HRvOJmxDLkjX"
   },
   "source": []
  },
  {
   "cell_type": "markdown",
   "metadata": {
    "id": "77FpNtXGL4b_"
   },
   "source": []
  },
  {
   "cell_type": "markdown",
   "metadata": {
    "id": "x5X5LAy5MB2r"
   },
   "source": []
  },
  {
   "cell_type": "markdown",
   "metadata": {
    "id": "1hUloe4CMVvB"
   },
   "source": []
  },
  {
   "cell_type": "markdown",
   "metadata": {
    "id": "7Wj_wQTQMfJw"
   },
   "source": []
  },
  {
   "cell_type": "markdown",
   "metadata": {
    "id": "fzm6B4ISMzBp"
   },
   "source": []
  },
  {
   "cell_type": "markdown",
   "metadata": {
    "id": "ueH4e3MSM8c2"
   },
   "source": []
  },
  {
   "cell_type": "markdown",
   "metadata": {
    "id": "Xz36aMdjNQUv"
   },
   "source": []
  },
  {
   "cell_type": "markdown",
   "metadata": {
    "id": "x3r3Xo84NZvU"
   },
   "source": []
  },
  {
   "cell_type": "markdown",
   "metadata": {
    "id": "6uYPhPFyNtnq"
   },
   "source": []
  },
  {
   "cell_type": "markdown",
   "metadata": {
    "id": "HVtTecoQN3C-"
   },
   "source": []
  },
  {
   "cell_type": "markdown",
   "metadata": {
    "id": "dB-m72tPOK6m"
   },
   "source": []
  },
  {
   "cell_type": "markdown",
   "metadata": {
    "id": "DG4X6XvWOUVa"
   },
   "source": []
  },
  {
   "cell_type": "markdown",
   "metadata": {
    "id": "pSbaDzljOoN-"
   },
   "source": []
  },
  {
   "cell_type": "markdown",
   "metadata": {
    "id": "Vc1Zvk_zOxop"
   },
   "source": []
  },
  {
   "cell_type": "markdown",
   "metadata": {
    "id": "yUMyElhcPFgn"
   },
   "source": []
  },
  {
   "cell_type": "markdown",
   "metadata": {
    "id": "_odqB-UXPO7d"
   },
   "source": []
  },
  {
   "cell_type": "markdown",
   "metadata": {
    "id": "hfkfjKvoPizo"
   },
   "source": []
  },
  {
   "cell_type": "markdown",
   "metadata": {
    "id": "WfKaVa6_PsOY"
   },
   "source": []
  },
  {
   "cell_type": "markdown",
   "metadata": {
    "id": "jh16sPRCQAHA"
   },
   "source": []
  },
  {
   "cell_type": "markdown",
   "metadata": {
    "id": "8msFdFOCQJhk"
   },
   "source": []
  },
  {
   "cell_type": "markdown",
   "metadata": {
    "id": "uk27K4aCQdZy"
   },
   "source": []
  },
  {
   "cell_type": "markdown",
   "metadata": {
    "id": "5PHPLinAQm06"
   },
   "source": []
  },
  {
   "cell_type": "markdown",
   "metadata": {
    "id": "NMJA4HQeQ6so"
   },
   "source": []
  },
  {
   "cell_type": "markdown",
   "metadata": {
    "id": "0gFi5SQpREHc"
   },
   "source": []
  },
  {
   "cell_type": "markdown",
   "metadata": {
    "id": "W676NEdLRYAA"
   },
   "source": []
  },
  {
   "cell_type": "markdown",
   "metadata": {
    "id": "bE7oawuDRhae"
   },
   "source": []
  },
  {
   "cell_type": "markdown",
   "metadata": {
    "id": "jJOXq0fjR1S6"
   },
   "source": []
  },
  {
   "cell_type": "markdown",
   "metadata": {
    "id": "VStGJDroR-tk"
   },
   "source": []
  },
  {
   "cell_type": "markdown",
   "metadata": {
    "id": "fTUaA9rySSl6"
   },
   "source": []
  },
  {
   "cell_type": "markdown",
   "metadata": {
    "id": "1kgzg4bNScAl"
   },
   "source": []
  },
  {
   "cell_type": "markdown",
   "metadata": {
    "id": "sfNJe24uSv4y"
   },
   "source": []
  },
  {
   "cell_type": "markdown",
   "metadata": {
    "id": "k1FiO7eqS5Ta"
   },
   "source": []
  },
  {
   "cell_type": "markdown",
   "metadata": {
    "id": "5pMmHYDdTNLp"
   },
   "source": []
  },
  {
   "cell_type": "markdown",
   "metadata": {
    "id": "oobRuxsQTWmc"
   },
   "source": []
  },
  {
   "cell_type": "markdown",
   "metadata": {
    "id": "XV804EzKTqer"
   },
   "source": []
  },
  {
   "cell_type": "markdown",
   "metadata": {
    "id": "TqHWsiYnTz5h"
   },
   "source": []
  },
  {
   "cell_type": "markdown",
   "metadata": {
    "id": "paGqJkaKUHx4"
   },
   "source": []
  },
  {
   "cell_type": "markdown",
   "metadata": {
    "id": "iCZ_4FFlURMi"
   },
   "source": []
  },
  {
   "cell_type": "markdown",
   "metadata": {
    "id": "77a5vyYFUlEu"
   },
   "source": []
  },
  {
   "cell_type": "markdown",
   "metadata": {
    "id": "a4gtlubgUuf7"
   },
   "source": []
  },
  {
   "cell_type": "markdown",
   "metadata": {
    "id": "QVwIoBwLVCYI"
   },
   "source": []
  },
  {
   "cell_type": "markdown",
   "metadata": {
    "id": "E7VWLUNtVLy9"
   },
   "source": []
  },
  {
   "cell_type": "markdown",
   "metadata": {
    "id": "yJ53Yu56Vfqv"
   },
   "source": []
  },
  {
   "cell_type": "markdown",
   "metadata": {
    "id": "tFucHXHtVpFx"
   },
   "source": []
  },
  {
   "cell_type": "markdown",
   "metadata": {
    "id": "MJCDQAo_V898"
   },
   "source": []
  },
  {
   "cell_type": "markdown",
   "metadata": {
    "id": "x1Tks-wLWGYa"
   },
   "source": []
  },
  {
   "cell_type": "markdown",
   "metadata": {
    "id": "DsRHJYPoWaQr"
   },
   "source": []
  },
  {
   "cell_type": "markdown",
   "metadata": {
    "id": "e7fvR4uFWjrq"
   },
   "source": []
  },
  {
   "cell_type": "markdown",
   "metadata": {
    "id": "B4KDdlEXW3j3"
   },
   "source": []
  },
  {
   "cell_type": "markdown",
   "metadata": {
    "id": "Tf58f-zsXA-a"
   },
   "source": []
  },
  {
   "cell_type": "markdown",
   "metadata": {
    "id": "Db11a7adXU2y"
   },
   "source": []
  },
  {
   "cell_type": "markdown",
   "metadata": {
    "id": "sbF8VAXHXeRl"
   },
   "source": []
  },
  {
   "cell_type": "markdown",
   "metadata": {
    "id": "reEdu3FVXyJo"
   },
   "source": []
  },
  {
   "cell_type": "markdown",
   "metadata": {
    "id": "Thu0A1gVX7kn"
   },
   "source": []
  },
  {
   "cell_type": "markdown",
   "metadata": {
    "id": "0yBTX-FLYPcv"
   },
   "source": []
  },
  {
   "cell_type": "markdown",
   "metadata": {
    "id": "RBv1DekDYY3q"
   },
   "source": []
  },
  {
   "cell_type": "markdown",
   "metadata": {
    "id": "UmiXpEOjYsvw"
   },
   "source": []
  },
  {
   "cell_type": "markdown",
   "metadata": {
    "id": "MkBYNmwAY2Kg"
   },
   "source": []
  },
  {
   "cell_type": "markdown",
   "metadata": {
    "id": "DP7qboAoZKCv"
   },
   "source": []
  },
  {
   "cell_type": "markdown",
   "metadata": {
    "id": "5e7pp75YZTdW"
   },
   "source": []
  },
  {
   "cell_type": "markdown",
   "metadata": {
    "id": "8qhfoRZOZnVi"
   },
   "source": []
  },
  {
   "cell_type": "markdown",
   "metadata": {
    "id": "HlAQDW2SZwwt"
   },
   "source": []
  },
  {
   "cell_type": "markdown",
   "metadata": {
    "id": "YOsXIrS_aEov"
   },
   "source": []
  },
  {
   "cell_type": "markdown",
   "metadata": {
    "id": "G_SNQoIXaODk"
   },
   "source": []
  },
  {
   "cell_type": "markdown",
   "metadata": {
    "id": "2CXCgKgEah7w"
   },
   "source": []
  },
  {
   "cell_type": "markdown",
   "metadata": {
    "id": "Ag-oCqMwarWm"
   },
   "source": []
  },
  {
   "cell_type": "markdown",
   "metadata": {
    "id": "Jvg4byPOa_PJ"
   },
   "source": []
  },
  {
   "cell_type": "markdown",
   "metadata": {
    "id": "WtxzpTvBbIpm"
   },
   "source": []
  },
  {
   "cell_type": "markdown",
   "metadata": {
    "id": "0vaxW-clbch9"
   },
   "source": []
  },
  {
   "cell_type": "markdown",
   "metadata": {
    "id": "IFfg2OuSbl8i"
   },
   "source": []
  },
  {
   "cell_type": "markdown",
   "metadata": {
    "id": "UoB_iDzXb51G"
   },
   "source": []
  },
  {
   "cell_type": "markdown",
   "metadata": {
    "id": "pskYkql7cDPr"
   },
   "source": []
  },
  {
   "cell_type": "markdown",
   "metadata": {
    "id": "J8o3yuqKcXHs"
   },
   "source": []
  },
  {
   "cell_type": "markdown",
   "metadata": {
    "id": "OE-4zU-Fcgif"
   },
   "source": []
  },
  {
   "cell_type": "markdown",
   "metadata": {
    "id": "fcNLAdRec0as"
   },
   "source": []
  },
  {
   "cell_type": "markdown",
   "metadata": {
    "id": "VVEDDIyLc91f"
   },
   "source": []
  },
  {
   "cell_type": "markdown",
   "metadata": {
    "id": "4Skm3gZUdRt2"
   },
   "source": []
  },
  {
   "cell_type": "markdown",
   "metadata": {
    "id": "TrpCFzv8dbIX"
   },
   "source": []
  },
  {
   "cell_type": "markdown",
   "metadata": {
    "id": "Dq5LrzYJdvBO"
   },
   "source": []
  },
  {
   "cell_type": "markdown",
   "metadata": {
    "id": "LtA4w5RCd4be"
   },
   "source": []
  },
  {
   "cell_type": "markdown",
   "metadata": {
    "id": "u1NJ6baeeMUM"
   },
   "source": []
  },
  {
   "cell_type": "markdown",
   "metadata": {
    "id": "A-s1BZRZeVug"
   },
   "source": []
  },
  {
   "cell_type": "markdown",
   "metadata": {
    "id": "L118N1tTepmw"
   },
   "source": []
  },
  {
   "cell_type": "markdown",
   "metadata": {
    "id": "E3-hOwODezBn"
   },
   "source": []
  },
  {
   "cell_type": "markdown",
   "metadata": {
    "id": "cgQAokHRfG6E"
   },
   "source": []
  },
  {
   "cell_type": "markdown",
   "metadata": {
    "id": "cy0DtoFyfQUz"
   },
   "source": []
  },
  {
   "cell_type": "markdown",
   "metadata": {
    "id": "z45OgqsyfkMg"
   },
   "source": []
  },
  {
   "cell_type": "markdown",
   "metadata": {
    "id": "ccwHidd1ftnc"
   },
   "source": []
  },
  {
   "cell_type": "markdown",
   "metadata": {
    "id": "eakTetgbgBf5"
   },
   "source": []
  },
  {
   "cell_type": "markdown",
   "metadata": {
    "id": "Tef7uDY-gK6r"
   },
   "source": []
  },
  {
   "cell_type": "markdown",
   "metadata": {
    "id": "1XgylWujgeyn"
   },
   "source": []
  },
  {
   "cell_type": "markdown",
   "metadata": {
    "id": "NzCQ9VUIgoNc"
   },
   "source": []
  },
  {
   "cell_type": "markdown",
   "metadata": {
    "id": "YbrlDS5jg8Ft"
   },
   "source": []
  },
  {
   "cell_type": "markdown",
   "metadata": {
    "id": "npn0trY5hFgd"
   },
   "source": []
  },
  {
   "cell_type": "markdown",
   "metadata": {
    "id": "piKa1pEYhZY2"
   },
   "source": []
  },
  {
   "cell_type": "markdown",
   "metadata": {
    "id": "ge5zKjYyhizl"
   },
   "source": []
  },
  {
   "cell_type": "markdown",
   "metadata": {
    "id": "8JsoeYMPh2r7"
   },
   "source": []
  },
  {
   "cell_type": "markdown",
   "metadata": {
    "id": "ndVilDOliAGq"
   },
   "source": []
  },
  {
   "cell_type": "markdown",
   "metadata": {
    "id": "uLGzxFUniT-w"
   },
   "source": []
  },
  {
   "cell_type": "markdown",
   "metadata": {
    "id": "gs6F_GQLidZa"
   },
   "source": []
  },
  {
   "cell_type": "markdown",
   "metadata": {
    "id": "guwOCo5VixRk"
   },
   "source": []
  },
  {
   "cell_type": "markdown",
   "metadata": {
    "id": "wKTiKW6ni6sl"
   },
   "source": []
  },
  {
   "cell_type": "markdown",
   "metadata": {
    "id": "nyXgCw3NjOks"
   },
   "source": []
  },
  {
   "cell_type": "markdown",
   "metadata": {
    "id": "Ku-m-TPLjX_x"
   },
   "source": []
  },
  {
   "cell_type": "markdown",
   "metadata": {
    "id": "Kbnwxrujjr3t"
   },
   "source": []
  },
  {
   "cell_type": "markdown",
   "metadata": {
    "id": "WbFpIkTFj1Sn"
   },
   "source": []
  },
  {
   "cell_type": "markdown",
   "metadata": {
    "id": "Gb0kb4z7kJK-"
   },
   "source": []
  },
  {
   "cell_type": "markdown",
   "metadata": {
    "id": "QkhanLn8kSlp"
   },
   "source": []
  },
  {
   "cell_type": "markdown",
   "metadata": {
    "id": "RAEWuSAtkmdv"
   },
   "source": []
  },
  {
   "cell_type": "markdown",
   "metadata": {
    "id": "Juwl0htakv4Z"
   },
   "source": []
  },
  {
   "cell_type": "markdown",
   "metadata": {
    "id": "sxD-OgjIlDwt"
   },
   "source": []
  },
  {
   "cell_type": "markdown",
   "metadata": {
    "id": "UWPafs7clNLW"
   },
   "source": []
  },
  {
   "cell_type": "markdown",
   "metadata": {
    "id": "cuMoKaizlhEB"
   },
   "source": []
  },
  {
   "cell_type": "markdown",
   "metadata": {
    "id": "Th5Lu7iwlqea"
   },
   "source": []
  },
  {
   "cell_type": "markdown",
   "metadata": {
    "id": "vwboOZAul-Ww"
   },
   "source": []
  },
  {
   "cell_type": "markdown",
   "metadata": {
    "id": "p10Si9TVmHyA"
   },
   "source": []
  },
  {
   "cell_type": "markdown",
   "metadata": {
    "id": "FobxdT3Zmbp3"
   },
   "source": []
  },
  {
   "cell_type": "markdown",
   "metadata": {
    "id": "BgTS7n0dmlEt"
   },
   "source": []
  },
  {
   "cell_type": "markdown",
   "metadata": {
    "id": "h56VPDj1m49J"
   },
   "source": []
  },
  {
   "cell_type": "markdown",
   "metadata": {
    "id": "5uJGXUrcnCXj"
   },
   "source": []
  },
  {
   "cell_type": "markdown",
   "metadata": {
    "id": "HrkgFHzJnWQV"
   },
   "source": []
  },
  {
   "cell_type": "markdown",
   "metadata": {
    "id": "YEHKs7eQnfrB"
   },
   "source": []
  },
  {
   "cell_type": "markdown",
   "metadata": {
    "id": "_aR35n3cnzi4"
   },
   "source": []
  },
  {
   "cell_type": "markdown",
   "metadata": {
    "id": "qfde9Tggn8-D"
   },
   "source": []
  },
  {
   "cell_type": "markdown",
   "metadata": {
    "id": "l1Sz7qiBoQ10"
   },
   "source": []
  },
  {
   "cell_type": "markdown",
   "metadata": {
    "id": "EWwvqPK3oaQl"
   },
   "source": []
  },
  {
   "cell_type": "markdown",
   "metadata": {
    "id": "-NWLG_2rouJa"
   },
   "source": []
  },
  {
   "cell_type": "markdown",
   "metadata": {
    "id": "VZf8nomAo3jl"
   },
   "source": []
  },
  {
   "cell_type": "markdown",
   "metadata": {
    "id": "g806UPlPpLcV"
   },
   "source": []
  },
  {
   "cell_type": "markdown",
   "metadata": {
    "id": "L1z2hSllpU2_"
   },
   "source": []
  },
  {
   "cell_type": "markdown",
   "metadata": {
    "id": "y7LH_4Rmpou-"
   },
   "source": []
  },
  {
   "cell_type": "markdown",
   "metadata": {
    "id": "Oc-_ZHA6pyJ2"
   },
   "source": []
  },
  {
   "cell_type": "markdown",
   "metadata": {
    "id": "OCxl3z6dqGB2"
   },
   "source": []
  },
  {
   "cell_type": "markdown",
   "metadata": {
    "id": "W-n7QQMvqPdM"
   },
   "source": []
  },
  {
   "cell_type": "markdown",
   "metadata": {
    "id": "PoB7TCV6qjU6"
   },
   "source": []
  },
  {
   "cell_type": "markdown",
   "metadata": {
    "id": "22_ltGGWqsvh"
   },
   "source": []
  },
  {
   "cell_type": "markdown",
   "metadata": {
    "id": "Kb1Z0nmCrAn-"
   },
   "source": []
  },
  {
   "cell_type": "markdown",
   "metadata": {
    "id": "E2-n5BXErKCj"
   },
   "source": []
  },
  {
   "cell_type": "markdown",
   "metadata": {
    "id": "Efg7jIIsrd7P"
   },
   "source": []
  },
  {
   "cell_type": "markdown",
   "metadata": {
    "id": "2Z7eI3n2rnVk"
   },
   "source": []
  },
  {
   "cell_type": "markdown",
   "metadata": {
    "id": "u33ydh4dr7N-"
   },
   "source": []
  },
  {
   "cell_type": "markdown",
   "metadata": {
    "id": "H9934vXxsEog"
   },
   "source": []
  },
  {
   "cell_type": "markdown",
   "metadata": {
    "id": "OHwHRK_isYg7"
   },
   "source": []
  },
  {
   "cell_type": "markdown",
   "metadata": {
    "id": "pGtE7l6-sh7e"
   },
   "source": []
  },
  {
   "cell_type": "markdown",
   "metadata": {
    "id": "vROrUCpGs1z5"
   },
   "source": []
  },
  {
   "cell_type": "markdown",
   "metadata": {
    "id": "yRgwYY6hs_Oc"
   },
   "source": []
  },
  {
   "cell_type": "markdown",
   "metadata": {
    "id": "8O_z6MKVtTG_"
   },
   "source": []
  },
  {
   "cell_type": "markdown",
   "metadata": {
    "id": "qJdG7lHltch-"
   },
   "source": []
  },
  {
   "cell_type": "markdown",
   "metadata": {
    "id": "xZIaF9TKtwZ9"
   },
   "source": []
  },
  {
   "cell_type": "markdown",
   "metadata": {
    "id": "ASS0f1Bpt50w"
   },
   "source": []
  },
  {
   "cell_type": "markdown",
   "metadata": {
    "id": "mgKJGbBquNtO"
   },
   "source": []
  },
  {
   "cell_type": "markdown",
   "metadata": {
    "id": "fZUtYEpfuXHn"
   },
   "source": []
  },
  {
   "cell_type": "markdown",
   "metadata": {
    "id": "g8t6QZSeuq_2"
   },
   "source": []
  },
  {
   "cell_type": "markdown",
   "metadata": {
    "id": "ebtO09O6u0an"
   },
   "source": []
  },
  {
   "cell_type": "markdown",
   "metadata": {
    "id": "GPT29ARZvIS7"
   },
   "source": []
  },
  {
   "cell_type": "markdown",
   "metadata": {
    "id": "yxG6rI_lvRt1"
   },
   "source": []
  },
  {
   "cell_type": "markdown",
   "metadata": {
    "id": "TfeTmyzIvll1"
   },
   "source": []
  },
  {
   "cell_type": "markdown",
   "metadata": {
    "id": "ZUPv8FPQvvAx"
   },
   "source": []
  },
  {
   "cell_type": "markdown",
   "metadata": {
    "id": "QQJlSDWowC43"
   },
   "source": []
  },
  {
   "cell_type": "markdown",
   "metadata": {
    "id": "32EENcxNwMT_"
   },
   "source": []
  },
  {
   "cell_type": "markdown",
   "metadata": {
    "id": "Ad9Zm9T5wgL_"
   },
   "source": []
  },
  {
   "cell_type": "markdown",
   "metadata": {
    "id": "hNSw9JSrwpmi"
   },
   "source": []
  },
  {
   "cell_type": "markdown",
   "metadata": {
    "id": "yEQUi4Rtw9fJ"
   },
   "source": []
  },
  {
   "cell_type": "markdown",
   "metadata": {
    "id": "H5gw5GqIxG5n"
   },
   "source": []
  },
  {
   "cell_type": "markdown",
   "metadata": {
    "id": "AqEsEkg_xayW"
   },
   "source": []
  },
  {
   "cell_type": "markdown",
   "metadata": {
    "id": "NTWnH_Q7xkNA"
   },
   "source": []
  },
  {
   "cell_type": "markdown",
   "metadata": {
    "id": "jDS7Xmtsx4FM"
   },
   "source": []
  },
  {
   "cell_type": "markdown",
   "metadata": {
    "id": "TLDyRAS5yBgG"
   },
   "source": []
  },
  {
   "cell_type": "markdown",
   "metadata": {
    "id": "CRvgH7TcyVX_"
   },
   "source": []
  },
  {
   "cell_type": "markdown",
   "metadata": {
    "id": "abTvtOACyeyh"
   },
   "source": []
  },
  {
   "cell_type": "markdown",
   "metadata": {
    "id": "6-E6zry1yyrF"
   },
   "source": []
  },
  {
   "cell_type": "markdown",
   "metadata": {
    "id": "rANOBHUcy8Fz"
   },
   "source": []
  },
  {
   "cell_type": "markdown",
   "metadata": {
    "id": "7KKZ1xvizP-T"
   },
   "source": []
  },
  {
   "cell_type": "markdown",
   "metadata": {
    "id": "B9lOAoFDzZYp"
   },
   "source": []
  },
  {
   "cell_type": "markdown",
   "metadata": {
    "id": "9dcc4PebztRV"
   },
   "source": []
  },
  {
   "cell_type": "markdown",
   "metadata": {
    "id": "LeKRXlO5z2r8"
   },
   "source": []
  },
  {
   "cell_type": "markdown",
   "metadata": {
    "id": "WBeIewxK0Kj8"
   },
   "source": []
  },
  {
   "cell_type": "markdown",
   "metadata": {
    "id": "DskCx7f00T--"
   },
   "source": []
  },
  {
   "cell_type": "markdown",
   "metadata": {
    "id": "nLC5yNhh0n3X"
   },
   "source": []
  },
  {
   "cell_type": "markdown",
   "metadata": {
    "id": "nK8sCt6K0xSX"
   },
   "source": []
  },
  {
   "cell_type": "markdown",
   "metadata": {
    "id": "cwQMsfq41FKV"
   },
   "source": []
  },
  {
   "cell_type": "markdown",
   "metadata": {
    "id": "nEtDwdik1Ok7"
   },
   "source": []
  },
  {
   "cell_type": "markdown",
   "metadata": {
    "id": "mhyQgnOk1idB"
   },
   "source": []
  },
  {
   "cell_type": "markdown",
   "metadata": {
    "id": "A7Mlw4jx1r3_"
   },
   "source": []
  },
  {
   "cell_type": "markdown",
   "metadata": {
    "id": "eCmu8qE-1_wC"
   },
   "source": []
  },
  {
   "cell_type": "markdown",
   "metadata": {
    "id": "iEslcyyC2JKt"
   },
   "source": []
  },
  {
   "cell_type": "markdown",
   "metadata": {
    "id": "_Iz4X-UU2dDK"
   },
   "source": []
  },
  {
   "cell_type": "markdown",
   "metadata": {
    "id": "9GF4P3jT2mdm"
   },
   "source": []
  },
  {
   "cell_type": "markdown",
   "metadata": {
    "id": "JmaRa9sr26WC"
   },
   "source": []
  },
  {
   "cell_type": "markdown",
   "metadata": {
    "id": "ty4FRWl63DxH"
   },
   "source": []
  },
  {
   "cell_type": "markdown",
   "metadata": {
    "id": "KZoySX3I3Xo5"
   },
   "source": []
  },
  {
   "cell_type": "markdown",
   "metadata": {
    "id": "aY5X0s-R3hD8"
   },
   "source": []
  },
  {
   "cell_type": "markdown",
   "metadata": {
    "id": "MDVBagNT3076"
   },
   "source": []
  },
  {
   "cell_type": "markdown",
   "metadata": {
    "id": "PsRK3dzP3-Ws"
   },
   "source": []
  },
  {
   "cell_type": "markdown",
   "metadata": {
    "id": "g-mt7XoQ4SO_"
   },
   "source": []
  },
  {
   "cell_type": "markdown",
   "metadata": {
    "id": "jGEpzL4o4bpm"
   },
   "source": []
  },
  {
   "cell_type": "markdown",
   "metadata": {
    "id": "kktgjqKG4vh0"
   },
   "source": []
  },
  {
   "cell_type": "markdown",
   "metadata": {
    "id": "TuxcWjH6449F"
   },
   "source": []
  },
  {
   "cell_type": "markdown",
   "metadata": {
    "id": "H3V5LOYM5M08"
   },
   "source": []
  },
  {
   "cell_type": "markdown",
   "metadata": {
    "id": "CEC61SaX5WPn"
   },
   "source": []
  },
  {
   "cell_type": "markdown",
   "metadata": {
    "id": "8k_YwVES5qH7"
   },
   "source": []
  },
  {
   "cell_type": "markdown",
   "metadata": {
    "id": "QS7CVipH5zjB"
   },
   "source": []
  },
  {
   "cell_type": "markdown",
   "metadata": {
    "id": "RU0qwUwt6Hay"
   },
   "source": []
  },
  {
   "cell_type": "markdown",
   "metadata": {
    "id": "5QRXUxbI6Q1r"
   },
   "source": []
  },
  {
   "cell_type": "markdown",
   "metadata": {
    "id": "Y0y5se356kuT"
   },
   "source": []
  },
  {
   "cell_type": "markdown",
   "metadata": {
    "id": "8phadqpb6uIw"
   },
   "source": []
  },
  {
   "cell_type": "markdown",
   "metadata": {
    "id": "-Zn3dnb67CBa"
   },
   "source": []
  },
  {
   "cell_type": "markdown",
   "metadata": {
    "id": "46O2b1tX7LcE"
   },
   "source": []
  },
  {
   "cell_type": "markdown",
   "metadata": {
    "id": "U8YzNxTv7fT0"
   },
   "source": []
  },
  {
   "cell_type": "markdown",
   "metadata": {
    "id": "TZOp5eGT7ovF"
   },
   "source": []
  },
  {
   "cell_type": "markdown",
   "metadata": {
    "id": "eDTDakEN78nB"
   },
   "source": []
  },
  {
   "cell_type": "markdown",
   "metadata": {
    "id": "xleuq7u18GBp"
   },
   "source": []
  },
  {
   "cell_type": "markdown",
   "metadata": {
    "id": "WZxPSzof8Z6V"
   },
   "source": []
  },
  {
   "cell_type": "markdown",
   "metadata": {
    "id": "WFH4Iz8V8jVK"
   },
   "source": []
  },
  {
   "cell_type": "markdown",
   "metadata": {
    "id": "lohw8hVQ83M3"
   },
   "source": []
  },
  {
   "cell_type": "markdown",
   "metadata": {
    "id": "ekAW7gez9AoC"
   },
   "source": []
  },
  {
   "cell_type": "markdown",
   "metadata": {
    "id": "p79er85w9Uf5"
   },
   "source": []
  },
  {
   "cell_type": "markdown",
   "metadata": {
    "id": "ERo5uOOA9d65"
   },
   "source": []
  },
  {
   "cell_type": "markdown",
   "metadata": {
    "id": "jjoHlPhI9xy4"
   },
   "source": []
  },
  {
   "cell_type": "markdown",
   "metadata": {
    "id": "C3Lm87Cu97Nr"
   },
   "source": []
  },
  {
   "cell_type": "markdown",
   "metadata": {
    "id": "a2PJhoPL-PGR"
   },
   "source": []
  },
  {
   "cell_type": "markdown",
   "metadata": {
    "id": "LNmZL8tZ-Yg4"
   },
   "source": []
  },
  {
   "cell_type": "markdown",
   "metadata": {
    "id": "I0M2uqBm-sZZ"
   },
   "source": []
  },
  {
   "cell_type": "markdown",
   "metadata": {
    "id": "VqV_I0mz-10E"
   },
   "source": []
  },
  {
   "cell_type": "markdown",
   "metadata": {
    "id": "d2ugBOSO_JsD"
   },
   "source": []
  },
  {
   "cell_type": "markdown",
   "metadata": {
    "id": "Afu7gr3X_TG8"
   },
   "source": []
  },
  {
   "cell_type": "markdown",
   "metadata": {
    "id": "EloFmscs_m-3"
   },
   "source": []
  },
  {
   "cell_type": "markdown",
   "metadata": {
    "id": "AZKgv9XK_waF"
   },
   "source": []
  },
  {
   "cell_type": "markdown",
   "metadata": {
    "id": "0vTBCrD1AESN"
   },
   "source": []
  },
  {
   "cell_type": "markdown",
   "metadata": {
    "id": "mhlP611_ANsm"
   },
   "source": []
  },
  {
   "cell_type": "markdown",
   "metadata": {
    "id": "CxXkf0xbAhk2"
   },
   "source": []
  },
  {
   "cell_type": "markdown",
   "metadata": {
    "id": "hI6d6EkvArAI"
   },
   "source": []
  },
  {
   "cell_type": "markdown",
   "metadata": {
    "id": "pGZQAdlyA-4P"
   },
   "source": []
  },
  {
   "cell_type": "markdown",
   "metadata": {
    "id": "unWAjLY0BIS-"
   },
   "source": []
  },
  {
   "cell_type": "markdown",
   "metadata": {
    "id": "Ht094PgABcK1"
   },
   "source": []
  },
  {
   "cell_type": "markdown",
   "metadata": {
    "id": "yvSy7GT6Bllt"
   },
   "source": []
  },
  {
   "cell_type": "markdown",
   "metadata": {
    "id": "wKUiJKMKB5eU"
   },
   "source": []
  },
  {
   "cell_type": "markdown",
   "metadata": {
    "id": "QRpdwqxVCC4n"
   },
   "source": []
  },
  {
   "cell_type": "markdown",
   "metadata": {
    "id": "nSL4KTnQCWxN"
   },
   "source": []
  },
  {
   "cell_type": "markdown",
   "metadata": {
    "id": "MkUFVY9SCgMF"
   },
   "source": []
  },
  {
   "cell_type": "markdown",
   "metadata": {
    "id": "JScmCw-cC0Eb"
   },
   "source": []
  },
  {
   "cell_type": "markdown",
   "metadata": {
    "id": "mL83paqFC9fD"
   },
   "source": []
  },
  {
   "cell_type": "markdown",
   "metadata": {
    "id": "G5a422CWDRW4"
   },
   "source": []
  },
  {
   "cell_type": "markdown",
   "metadata": {
    "id": "ZumAWN69DayI"
   },
   "source": []
  },
  {
   "cell_type": "markdown",
   "metadata": {
    "id": "GL74b60dDup7"
   },
   "source": []
  },
  {
   "cell_type": "markdown",
   "metadata": {
    "id": "FffgbGyjD4Et"
   },
   "source": []
  },
  {
   "cell_type": "markdown",
   "metadata": {
    "id": "HLpeI_qDEL8z"
   },
   "source": []
  },
  {
   "cell_type": "markdown",
   "metadata": {
    "id": "4MnCWf_0EVX_"
   },
   "source": []
  },
  {
   "cell_type": "markdown",
   "metadata": {
    "id": "KvKS1Fl2EpQe"
   },
   "source": []
  },
  {
   "cell_type": "markdown",
   "metadata": {
    "id": "H9ZDVy9KEyqu"
   },
   "source": []
  },
  {
   "cell_type": "markdown",
   "metadata": {
    "id": "EKKc3NiZFGjT"
   },
   "source": []
  },
  {
   "cell_type": "markdown",
   "metadata": {
    "id": "sfPUBn0OFP94"
   },
   "source": []
  },
  {
   "cell_type": "markdown",
   "metadata": {
    "id": "EyVRNcCgFj1z"
   },
   "source": []
  },
  {
   "cell_type": "markdown",
   "metadata": {
    "id": "CyI401QWFtQr"
   },
   "source": []
  },
  {
   "cell_type": "markdown",
   "metadata": {
    "id": "QgQKGE__GBJP"
   },
   "source": []
  },
  {
   "cell_type": "markdown",
   "metadata": {
    "id": "ZrvXynrAGKjn"
   },
   "source": []
  },
  {
   "cell_type": "markdown",
   "metadata": {
    "id": "DIxkIZuDGecW"
   },
   "source": []
  },
  {
   "cell_type": "markdown",
   "metadata": {
    "id": "n4EU89MYGn3H"
   },
   "source": []
  },
  {
   "cell_type": "markdown",
   "metadata": {
    "id": "AkakBsWRG7vR"
   },
   "source": []
  },
  {
   "cell_type": "markdown",
   "metadata": {
    "id": "2pkXvRsgHFKB"
   },
   "source": []
  },
  {
   "cell_type": "markdown",
   "metadata": {
    "id": "sv4DuEqOHZCE"
   },
   "source": []
  },
  {
   "cell_type": "markdown",
   "metadata": {
    "id": "ibeQ9rPBHidD"
   },
   "source": []
  },
  {
   "cell_type": "markdown",
   "metadata": {
    "id": "14iKKaurH2U1"
   },
   "source": []
  },
  {
   "cell_type": "markdown",
   "metadata": {
    "id": "qBq0K70qH_v-"
   },
   "source": []
  },
  {
   "cell_type": "markdown",
   "metadata": {
    "id": "ELJt02lYIToc"
   },
   "source": []
  },
  {
   "cell_type": "markdown",
   "metadata": {
    "id": "b6-fkME_IdCt"
   },
   "source": []
  },
  {
   "cell_type": "markdown",
   "metadata": {
    "id": "xbTDEZA-Iw7U"
   },
   "source": []
  },
  {
   "cell_type": "markdown",
   "metadata": {
    "id": "i5eh_eyCI6V6"
   },
   "source": []
  },
  {
   "cell_type": "markdown",
   "metadata": {
    "id": "c3pTxo9-JONy"
   },
   "source": []
  },
  {
   "cell_type": "markdown",
   "metadata": {
    "id": "7k_ukV2OJXos"
   },
   "source": []
  },
  {
   "cell_type": "markdown",
   "metadata": {
    "id": "bPBCo2M0Jrg_"
   },
   "source": []
  },
  {
   "cell_type": "markdown",
   "metadata": {
    "id": "L-DoqujcJ071"
   },
   "source": []
  },
  {
   "cell_type": "markdown",
   "metadata": {
    "id": "n7NL_dGhKI0M"
   },
   "source": []
  },
  {
   "cell_type": "markdown",
   "metadata": {
    "id": "4tr2TYWyKSOy"
   },
   "source": []
  },
  {
   "cell_type": "markdown",
   "metadata": {
    "id": "mbmAXns-KmHQ"
   },
   "source": []
  },
  {
   "cell_type": "markdown",
   "metadata": {
    "id": "dxjZCgxLKviB"
   },
   "source": []
  },
  {
   "cell_type": "markdown",
   "metadata": {
    "id": "-PCh_JXKLDZz"
   },
   "source": []
  },
  {
   "cell_type": "markdown",
   "metadata": {
    "id": "KpkXSmXgLM08"
   },
   "source": []
  },
  {
   "cell_type": "markdown",
   "metadata": {
    "id": "sJleI-C7Lgs7"
   },
   "source": []
  },
  {
   "cell_type": "markdown",
   "metadata": {
    "id": "_ljF2UPjLqHp"
   },
   "source": []
  },
  {
   "cell_type": "markdown",
   "metadata": {
    "id": "8xrow4YiL9_0"
   },
   "source": []
  },
  {
   "cell_type": "markdown",
   "metadata": {
    "id": "W-c19st1MHax"
   },
   "source": []
  },
  {
   "cell_type": "markdown",
   "metadata": {
    "id": "oq7sj8s9MbTF"
   },
   "source": []
  },
  {
   "cell_type": "markdown",
   "metadata": {
    "id": "0y4gMS2RMkt1"
   },
   "source": []
  },
  {
   "cell_type": "markdown",
   "metadata": {
    "id": "fSYb2wHZM4l2"
   },
   "source": []
  },
  {
   "cell_type": "markdown",
   "metadata": {
    "id": "B2OsrVqVNCBF"
   },
   "source": []
  },
  {
   "cell_type": "markdown",
   "metadata": {
    "id": "-m_uzI8yNV5B"
   },
   "source": []
  },
  {
   "cell_type": "markdown",
   "metadata": {
    "id": "PNEuZvxrNfTt"
   },
   "source": []
  },
  {
   "cell_type": "markdown",
   "metadata": {
    "id": "sUlioBcuNzL9"
   },
   "source": []
  },
  {
   "cell_type": "markdown",
   "metadata": {
    "id": "hIYfin36N8nJ"
   },
   "source": []
  },
  {
   "cell_type": "markdown",
   "metadata": {
    "id": "GO8EVZZmOQfQ"
   },
   "source": []
  },
  {
   "cell_type": "markdown",
   "metadata": {
    "id": "_c8nqMmlOZ5w"
   },
   "source": []
  },
  {
   "cell_type": "markdown",
   "metadata": {
    "id": "RYmU2kS7OtyA"
   },
   "source": []
  },
  {
   "cell_type": "markdown",
   "metadata": {
    "id": "gtD1eoPRO3M9"
   },
   "source": []
  },
  {
   "cell_type": "markdown",
   "metadata": {
    "id": "yBQ83kJ1PLFA"
   },
   "source": []
  },
  {
   "cell_type": "markdown",
   "metadata": {
    "id": "PkaOUaP9PUfk"
   },
   "source": []
  },
  {
   "cell_type": "markdown",
   "metadata": {
    "id": "UB8R-Nn6PoX6"
   },
   "source": []
  },
  {
   "cell_type": "markdown",
   "metadata": {
    "id": "P4f7l9_aPxyk"
   },
   "source": []
  },
  {
   "cell_type": "markdown",
   "metadata": {
    "id": "1Ws4OJv5QFrQ"
   },
   "source": []
  },
  {
   "cell_type": "markdown",
   "metadata": {
    "id": "E-gDGA0pQPFl"
   },
   "source": []
  },
  {
   "cell_type": "markdown",
   "metadata": {
    "id": "KFoCV0a0Qi-S"
   },
   "source": []
  },
  {
   "cell_type": "markdown",
   "metadata": {
    "id": "e-HYs_eHQsZB"
   },
   "source": []
  },
  {
   "cell_type": "markdown",
   "metadata": {
    "id": "8T4rtJCGRAQw"
   },
   "source": []
  },
  {
   "cell_type": "markdown",
   "metadata": {
    "id": "I6-kIcr7RJsG"
   },
   "source": []
  },
  {
   "cell_type": "markdown",
   "metadata": {
    "id": "sw1HRflcRdkS"
   },
   "source": []
  },
  {
   "cell_type": "markdown",
   "metadata": {
    "id": "0RepJAePRm-x"
   },
   "source": []
  },
  {
   "cell_type": "markdown",
   "metadata": {
    "id": "IwqbsIxBR624"
   },
   "source": []
  },
  {
   "cell_type": "markdown",
   "metadata": {
    "id": "-uz0y359SESG"
   },
   "source": []
  },
  {
   "cell_type": "markdown",
   "metadata": {
    "id": "HDyEwoHHSYJ9"
   },
   "source": []
  },
  {
   "cell_type": "markdown",
   "metadata": {
    "id": "ZCiNQH9WShk8"
   },
   "source": []
  },
  {
   "cell_type": "markdown",
   "metadata": {
    "id": "KdPVPkHsS1c3"
   },
   "source": []
  },
  {
   "cell_type": "markdown",
   "metadata": {
    "id": "Bs-K7YcpS-3r"
   },
   "source": []
  },
  {
   "cell_type": "markdown",
   "metadata": {
    "id": "2j6ntvIiTSwZ"
   },
   "source": []
  },
  {
   "cell_type": "markdown",
   "metadata": {
    "id": "0njMeKq2TcKv"
   },
   "source": []
  },
  {
   "cell_type": "markdown",
   "metadata": {
    "id": "LmsF9hcpTwC4"
   },
   "source": []
  },
  {
   "cell_type": "markdown",
   "metadata": {
    "id": "6KPIW9_0T5eC"
   },
   "source": []
  },
  {
   "cell_type": "markdown",
   "metadata": {
    "id": "DAvY4yyyUNWM"
   },
   "source": []
  },
  {
   "cell_type": "markdown",
   "metadata": {
    "id": "Dnv0BVaAUWxA"
   },
   "source": []
  },
  {
   "cell_type": "markdown",
   "metadata": {
    "id": "sANnB0p3UqpS"
   },
   "source": []
  },
  {
   "cell_type": "markdown",
   "metadata": {
    "id": "46fwcvDAU0EB"
   },
   "source": []
  },
  {
   "cell_type": "markdown",
   "metadata": {
    "id": "kf8SFriOVH8Q"
   },
   "source": []
  },
  {
   "cell_type": "markdown",
   "metadata": {
    "id": "fTKHM0mDVRWm"
   },
   "source": []
  },
  {
   "cell_type": "markdown",
   "metadata": {
    "id": "sYz78aNgVlPT"
   },
   "source": []
  },
  {
   "cell_type": "markdown",
   "metadata": {
    "id": "wQlRSy2AVuqA"
   },
   "source": []
  },
  {
   "cell_type": "markdown",
   "metadata": {
    "id": "WRvQ-Y8nWChz"
   },
   "source": []
  },
  {
   "cell_type": "markdown",
   "metadata": {
    "id": "ubcO1-elWL9H"
   },
   "source": []
  },
  {
   "cell_type": "markdown",
   "metadata": {
    "id": "kYTMhkJVWf1X"
   },
   "source": []
  },
  {
   "cell_type": "markdown",
   "metadata": {
    "id": "7KDtdg1QWpPw"
   },
   "source": []
  },
  {
   "cell_type": "markdown",
   "metadata": {
    "id": "ZJUfSiNKW9Ib"
   },
   "source": []
  },
  {
   "cell_type": "markdown",
   "metadata": {
    "id": "hDtdehzUXGim"
   },
   "source": []
  },
  {
   "cell_type": "markdown",
   "metadata": {
    "id": "uMoD4EbyXabO"
   },
   "source": []
  },
  {
   "cell_type": "markdown",
   "metadata": {
    "id": "pWTG51kqXj19"
   },
   "source": []
  },
  {
   "cell_type": "markdown",
   "metadata": {
    "id": "vlBKP24dX3t1"
   },
   "source": []
  },
  {
   "cell_type": "markdown",
   "metadata": {
    "id": "Kw-OzoBgYBJF"
   },
   "source": []
  },
  {
   "cell_type": "markdown",
   "metadata": {
    "id": "IMLGDzeHYVBV"
   },
   "source": []
  },
  {
   "cell_type": "markdown",
   "metadata": {
    "id": "kfZ5N_mkYebk"
   },
   "source": []
  },
  {
   "cell_type": "markdown",
   "metadata": {
    "id": "flUAO2ATYyUN"
   },
   "source": []
  },
  {
   "cell_type": "markdown",
   "metadata": {
    "id": "oT-ZkzlrY7vA"
   },
   "source": []
  },
  {
   "cell_type": "markdown",
   "metadata": {
    "id": "6GEGACeFZPnA"
   },
   "source": []
  },
  {
   "cell_type": "markdown",
   "metadata": {
    "id": "Vc76bq8dZZCO"
   },
   "source": []
  },
  {
   "cell_type": "markdown",
   "metadata": {
    "id": "4EHcN4WQZs6T"
   },
   "source": []
  },
  {
   "cell_type": "markdown",
   "metadata": {
    "id": "ShioLxfSZ2VB"
   },
   "source": []
  },
  {
   "cell_type": "markdown",
   "metadata": {
    "id": "6lBpJJloaKM-"
   },
   "source": []
  },
  {
   "cell_type": "markdown",
   "metadata": {
    "id": "NNAuOV8SaTns"
   },
   "source": []
  },
  {
   "cell_type": "markdown",
   "metadata": {
    "id": "bV47gm83anfs"
   },
   "source": []
  },
  {
   "cell_type": "markdown",
   "metadata": {
    "id": "_cFmr_oVaw7B"
   },
   "source": []
  },
  {
   "cell_type": "markdown",
   "metadata": {
    "id": "4PPNK_MebEzN"
   },
   "source": []
  },
  {
   "cell_type": "markdown",
   "metadata": {
    "id": "mmXRBoABbOOJ"
   },
   "source": []
  },
  {
   "cell_type": "markdown",
   "metadata": {
    "id": "0ffj7WE7biGY"
   },
   "source": []
  },
  {
   "cell_type": "markdown",
   "metadata": {
    "id": "PRSHUN70brgj"
   },
   "source": []
  },
  {
   "cell_type": "markdown",
   "metadata": {
    "id": "IYSoBcO0b_Yz"
   },
   "source": []
  },
  {
   "cell_type": "markdown",
   "metadata": {
    "id": "4PECmTnKcIz7"
   },
   "source": []
  },
  {
   "cell_type": "markdown",
   "metadata": {
    "id": "ht2n2zbOccr3"
   },
   "source": []
  },
  {
   "cell_type": "markdown",
   "metadata": {
    "id": "lyEtZ2AGcmG3"
   },
   "source": []
  },
  {
   "cell_type": "markdown",
   "metadata": {
    "id": "0DADGXCsc5-7"
   },
   "source": []
  },
  {
   "cell_type": "markdown",
   "metadata": {
    "id": "e7S10USHdDZo"
   },
   "source": []
  },
  {
   "cell_type": "markdown",
   "metadata": {
    "id": "0Y5g1CmadXSD"
   },
   "source": []
  },
  {
   "cell_type": "markdown",
   "metadata": {
    "id": "AnQX-4A0dgs7"
   },
   "source": []
  },
  {
   "cell_type": "markdown",
   "metadata": {
    "id": "WOmaqZzWd0k1"
   },
   "source": []
  },
  {
   "cell_type": "markdown",
   "metadata": {
    "id": "Xfh3WDswd9_t"
   },
   "source": []
  },
  {
   "cell_type": "markdown",
   "metadata": {
    "id": "kRvpCyQVeR3x"
   },
   "source": []
  },
  {
   "cell_type": "markdown",
   "metadata": {
    "id": "rHnT5E8sebS3"
   },
   "source": []
  },
  {
   "cell_type": "markdown",
   "metadata": {
    "id": "I8gAZG1UevLN"
   },
   "source": []
  },
  {
   "cell_type": "markdown",
   "metadata": {
    "id": "iKCVR8vLe4lm"
   },
   "source": []
  },
  {
   "cell_type": "markdown",
   "metadata": {
    "id": "yYCQWW8BfMeT"
   },
   "source": []
  },
  {
   "cell_type": "markdown",
   "metadata": {
    "id": "jdj13vfvfV5B"
   },
   "source": []
  },
  {
   "cell_type": "markdown",
   "metadata": {
    "id": "6JQK_8aSfpxR"
   },
   "source": []
  },
  {
   "cell_type": "markdown",
   "metadata": {
    "id": "cmJT_19UfzMG"
   },
   "source": []
  },
  {
   "cell_type": "markdown",
   "metadata": {
    "id": "SVwtj5vggHD4"
   },
   "source": []
  },
  {
   "cell_type": "markdown",
   "metadata": {
    "id": "bTl6Rx4EgQe8"
   },
   "source": []
  },
  {
   "cell_type": "markdown",
   "metadata": {
    "id": "I5ZqYMjQgkW4"
   },
   "source": []
  },
  {
   "cell_type": "markdown",
   "metadata": {
    "id": "7T7SxCoogtxj"
   },
   "source": []
  },
  {
   "cell_type": "markdown",
   "metadata": {
    "id": "Cqihey8LhBqT"
   },
   "source": []
  },
  {
   "cell_type": "markdown",
   "metadata": {
    "id": "irerTvK7hLFM"
   },
   "source": []
  },
  {
   "cell_type": "markdown",
   "metadata": {
    "id": "AwIPHqzShe9K"
   },
   "source": []
  },
  {
   "cell_type": "markdown",
   "metadata": {
    "id": "pJkGNpkdhoYJ"
   },
   "source": []
  },
  {
   "cell_type": "markdown",
   "metadata": {
    "id": "o52jNabeh8P9"
   },
   "source": []
  },
  {
   "cell_type": "markdown",
   "metadata": {
    "id": "pgalonKbiFrA"
   },
   "source": []
  },
  {
   "cell_type": "markdown",
   "metadata": {
    "id": "TRqrG6uJiZi_"
   },
   "source": []
  },
  {
   "cell_type": "markdown",
   "metadata": {
    "id": "ZNV6ajYpii9v"
   },
   "source": []
  },
  {
   "cell_type": "markdown",
   "metadata": {
    "id": "SuDgAcWFi22D"
   },
   "source": []
  },
  {
   "cell_type": "markdown",
   "metadata": {
    "id": "u6YbS8a7jAQ-"
   },
   "source": []
  },
  {
   "cell_type": "markdown",
   "metadata": {
    "id": "X9P80kgyjUI-"
   },
   "source": []
  },
  {
   "cell_type": "markdown",
   "metadata": {
    "id": "N6kl7uZDjdk8"
   },
   "source": []
  },
  {
   "cell_type": "markdown",
   "metadata": {
    "id": "5wqn0MrRj672"
   },
   "source": []
  },
  {
   "cell_type": "markdown",
   "metadata": {
    "id": "ogVvz6YNj7Ij"
   },
   "source": []
  },
  {
   "cell_type": "markdown",
   "metadata": {
    "id": "pfRGrCvtkO8o"
   },
   "source": []
  },
  {
   "cell_type": "markdown",
   "metadata": {
    "id": "luPgLQfFkYO4"
   },
   "source": []
  },
  {
   "cell_type": "markdown",
   "metadata": {
    "id": "6AhWmoo2k1ia"
   },
   "source": []
  },
  {
   "cell_type": "markdown",
   "metadata": {
    "id": "06j0oy_kk1sr"
   },
   "source": []
  },
  {
   "cell_type": "markdown",
   "metadata": {
    "id": "vVSYqhjolS0u"
   },
   "source": []
  },
  {
   "cell_type": "markdown",
   "metadata": {
    "id": "MCs9l-d5lhfL"
   },
   "source": []
  },
  {
   "cell_type": "markdown",
   "metadata": {
    "id": "DQVFR6h5lwHx"
   },
   "source": []
  },
  {
   "cell_type": "markdown",
   "metadata": {
    "id": "k0e3MoNPlw2R"
   },
   "source": []
  },
  {
   "cell_type": "markdown",
   "metadata": {
    "id": "SNNvzUR5mNbM"
   },
   "source": []
  },
  {
   "cell_type": "markdown",
   "metadata": {
    "id": "EeJ3TrD0mcD0"
   },
   "source": []
  },
  {
   "cell_type": "markdown",
   "metadata": {
    "id": "BZGEBy5WmquL"
   },
   "source": []
  },
  {
   "cell_type": "markdown",
   "metadata": {
    "id": "zsNTKlM5mskY"
   },
   "source": []
  },
  {
   "cell_type": "markdown",
   "metadata": {
    "id": "HsW6l1UIIItz"
   },
   "source": []
  },
  {
   "cell_type": "markdown",
   "metadata": {
    "id": "CSRCb-g1IR_t"
   },
   "source": []
  },
  {
   "cell_type": "markdown",
   "metadata": {
    "id": "a8_9Xe9HImAs"
   },
   "source": []
  },
  {
   "cell_type": "markdown",
   "metadata": {
    "id": "8OqU6_4NIvSs"
   },
   "source": []
  },
  {
   "cell_type": "markdown",
   "metadata": {
    "id": "3qF21Om8JDTn"
   },
   "source": []
  },
  {
   "cell_type": "markdown",
   "metadata": {
    "id": "2YnUlkAJJMlx"
   },
   "source": []
  },
  {
   "cell_type": "markdown",
   "metadata": {
    "id": "LebYh2HjJgmv"
   },
   "source": []
  },
  {
   "cell_type": "markdown",
   "metadata": {
    "id": "ONUufXR0Jp4X"
   },
   "source": []
  },
  {
   "cell_type": "markdown",
   "metadata": {
    "id": "uU3byX9UKHLZ"
   },
   "source": []
  },
  {
   "cell_type": "markdown",
   "metadata": {
    "id": "R6FgLlT2KHNC"
   },
   "source": []
  },
  {
   "cell_type": "markdown",
   "metadata": {
    "id": "D1U1C9K1Kkeo"
   },
   "source": []
  },
  {
   "cell_type": "markdown",
   "metadata": {
    "id": "DKyKIe4AKkgl"
   },
   "source": []
  },
  {
   "cell_type": "markdown",
   "metadata": {
    "id": "NLYV-DZSLBxc"
   },
   "source": []
  },
  {
   "cell_type": "markdown",
   "metadata": {
    "id": "XdGXP7W2LBzc"
   },
   "source": []
  },
  {
   "cell_type": "markdown",
   "metadata": {
    "id": "A_pDpMcvLfEn"
   },
   "source": []
  },
  {
   "cell_type": "markdown",
   "metadata": {
    "id": "7qDLJfABLfGf"
   },
   "source": []
  },
  {
   "cell_type": "markdown",
   "metadata": {
    "id": "paEcieCtL8Xv"
   },
   "source": []
  },
  {
   "cell_type": "markdown",
   "metadata": {
    "id": "sRvY8WvFL8Z5"
   },
   "source": []
  },
  {
   "cell_type": "markdown",
   "metadata": {
    "id": "AGS_WThMMZqa"
   },
   "source": []
  },
  {
   "cell_type": "markdown",
   "metadata": {
    "id": "MDRWjFe0MZsh"
   },
   "source": []
  },
  {
   "cell_type": "markdown",
   "metadata": {
    "id": "xqfxWI0kM29x"
   },
   "source": []
  },
  {
   "cell_type": "markdown",
   "metadata": {
    "id": "JEuBEkRaM2_u"
   },
   "source": []
  },
  {
   "cell_type": "markdown",
   "metadata": {
    "id": "Sp286KplNUQk"
   },
   "source": []
  },
  {
   "cell_type": "markdown",
   "metadata": {
    "id": "yZv7hNBTNUSb"
   },
   "source": []
  },
  {
   "cell_type": "markdown",
   "metadata": {
    "id": "AZvdmDI-Nxjk"
   },
   "source": []
  },
  {
   "cell_type": "markdown",
   "metadata": {
    "id": "JJ5kcrrsNxlf"
   },
   "source": []
  },
  {
   "cell_type": "markdown",
   "metadata": {
    "id": "X8PFNn5eOO2r"
   },
   "source": []
  },
  {
   "cell_type": "markdown",
   "metadata": {
    "id": "8rMjD965OO5D"
   },
   "source": []
  },
  {
   "cell_type": "markdown",
   "metadata": {
    "id": "us_rdFWUOoi3"
   },
   "source": []
  },
  {
   "cell_type": "markdown",
   "metadata": {
    "id": "ZQDEofg_OsJp"
   },
   "source": []
  },
  {
   "cell_type": "markdown",
   "metadata": {
    "id": "lPgUmMOwPJdQ"
   },
   "source": []
  },
  {
   "cell_type": "markdown",
   "metadata": {
    "id": "TpH1wpJNPJfT"
   },
   "source": []
  },
  {
   "cell_type": "markdown",
   "metadata": {
    "id": "UhgGfLlcPmv7"
   },
   "source": []
  },
  {
   "cell_type": "markdown",
   "metadata": {
    "id": "08iT8UMzPmyQ"
   },
   "source": []
  },
  {
   "cell_type": "markdown",
   "metadata": {
    "id": "aKh11dDKQECz"
   },
   "source": []
  },
  {
   "cell_type": "markdown",
   "metadata": {
    "id": "OxHrA-N_QEFD"
   },
   "source": []
  },
  {
   "cell_type": "markdown",
   "metadata": {
    "id": "OyjL0uCWQhWC"
   },
   "source": []
  },
  {
   "cell_type": "markdown",
   "metadata": {
    "id": "twR4CMqRQhYG"
   },
   "source": []
  },
  {
   "cell_type": "markdown",
   "metadata": {
    "id": "O6d62IPPQ-ow"
   },
   "source": []
  },
  {
   "cell_type": "markdown",
   "metadata": {
    "id": "QZ9fZ5BaQ-qz"
   },
   "source": []
  },
  {
   "cell_type": "markdown",
   "metadata": {
    "id": "5swS9QcdRb7z"
   },
   "source": []
  },
  {
   "cell_type": "markdown",
   "metadata": {
    "id": "gbJ9mgTHRb-P"
   },
   "source": []
  },
  {
   "cell_type": "markdown",
   "metadata": {
    "id": "EERGQxuZR5O1"
   },
   "source": []
  },
  {
   "cell_type": "markdown",
   "metadata": {
    "id": "kStc5OzZR5Q_"
   },
   "source": []
  },
  {
   "cell_type": "markdown",
   "metadata": {
    "id": "e1waoawWSWh5"
   },
   "source": []
  },
  {
   "cell_type": "markdown",
   "metadata": {
    "id": "811FdD9BSWkO"
   },
   "source": []
  },
  {
   "cell_type": "markdown",
   "metadata": {
    "id": "quzB5eofSqUy"
   },
   "source": []
  },
  {
   "cell_type": "markdown",
   "metadata": {
    "id": "X1JoY7pVSz0q"
   },
   "source": []
  },
  {
   "cell_type": "markdown",
   "metadata": {
    "id": "cqDYboRTTRH2"
   },
   "source": []
  },
  {
   "cell_type": "markdown",
   "metadata": {
    "id": "20JUI5rYTRKU"
   },
   "source": []
  },
  {
   "cell_type": "markdown",
   "metadata": {
    "id": "D4WhRlMZTuad"
   },
   "source": []
  },
  {
   "cell_type": "markdown",
   "metadata": {
    "id": "x8zn23C2Tuc0"
   },
   "source": []
  },
  {
   "cell_type": "markdown",
   "metadata": {
    "id": "h7juLvQXULtw"
   },
   "source": []
  },
  {
   "cell_type": "markdown",
   "metadata": {
    "id": "9wiWGNAcULv6"
   },
   "source": []
  },
  {
   "cell_type": "markdown",
   "metadata": {
    "id": "i9oaI4XfUpA1"
   },
   "source": []
  },
  {
   "cell_type": "markdown",
   "metadata": {
    "id": "wdUNzOyeUpDH"
   },
   "source": []
  },
  {
   "cell_type": "markdown",
   "metadata": {
    "id": "1N9ikhpvU8z0"
   },
   "source": []
  },
  {
   "cell_type": "markdown",
   "metadata": {
    "id": "5JwOIiA8VGOl"
   },
   "source": []
  },
  {
   "cell_type": "markdown",
   "metadata": {
    "id": "mFNdplznVaHF"
   },
   "source": []
  },
  {
   "cell_type": "markdown",
   "metadata": {
    "id": "MEsTy0RnVjmX"
   },
   "source": []
  },
  {
   "cell_type": "markdown",
   "metadata": {
    "id": "TyAuYOgwWA5e"
   },
   "source": []
  },
  {
   "cell_type": "markdown",
   "metadata": {
    "id": "tTEemyy_WA8n"
   },
   "source": []
  },
  {
   "cell_type": "markdown",
   "metadata": {
    "id": "PHG3TRhfWeMz"
   },
   "source": []
  },
  {
   "cell_type": "markdown",
   "metadata": {
    "id": "KSf6K55xWePK"
   },
   "source": []
  },
  {
   "cell_type": "markdown",
   "metadata": {
    "id": "_hmnpiAEW7fn"
   },
   "source": []
  },
  {
   "cell_type": "markdown",
   "metadata": {
    "id": "8vT0V2jPW7iA"
   },
   "source": []
  },
  {
   "cell_type": "markdown",
   "metadata": {
    "id": "1veu0v9DXYyz"
   },
   "source": []
  },
  {
   "cell_type": "markdown",
   "metadata": {
    "id": "ESJAWxhbXY1V"
   },
   "source": []
  },
  {
   "cell_type": "markdown",
   "metadata": {
    "id": "L8iBY_A-X2Fq"
   },
   "source": []
  },
  {
   "cell_type": "markdown",
   "metadata": {
    "id": "xhwhsyPIX2IA"
   },
   "source": []
  },
  {
   "cell_type": "markdown",
   "metadata": {
    "id": "nMpPqpB2YTYm"
   },
   "source": []
  },
  {
   "cell_type": "markdown",
   "metadata": {
    "id": "npki_1p5YTbt"
   },
   "source": []
  },
  {
   "cell_type": "markdown",
   "metadata": {
    "id": "CuYb2z0KYwro"
   },
   "source": []
  },
  {
   "cell_type": "markdown",
   "metadata": {
    "id": "qDoAevrRYwt_"
   },
   "source": []
  },
  {
   "cell_type": "markdown",
   "metadata": {
    "id": "98U3QDP1ZNu4"
   },
   "source": []
  },
  {
   "cell_type": "markdown",
   "metadata": {
    "id": "kp3r9vw9ZN-v"
   },
   "source": []
  },
  {
   "cell_type": "markdown",
   "metadata": {
    "id": "qZLPAiWCZrRn"
   },
   "source": []
  },
  {
   "cell_type": "markdown",
   "metadata": {
    "id": "CWOkR2m6ZrUJ"
   },
   "source": []
  },
  {
   "cell_type": "markdown",
   "metadata": {
    "id": "fj8i3qIraIkt"
   },
   "source": []
  },
  {
   "cell_type": "markdown",
   "metadata": {
    "id": "j_7es6ZbaInY"
   },
   "source": []
  },
  {
   "cell_type": "markdown",
   "metadata": {
    "id": "K0sm1bF0acYH"
   },
   "source": []
  },
  {
   "cell_type": "markdown",
   "metadata": {
    "id": "-YleTCO0al3a"
   },
   "source": []
  },
  {
   "cell_type": "markdown",
   "metadata": {
    "id": "j_hoGDd1bDLO"
   },
   "source": []
  },
  {
   "cell_type": "markdown",
   "metadata": {
    "id": "ncvFensubDOe"
   },
   "source": []
  },
  {
   "cell_type": "markdown",
   "metadata": {
    "id": "GDduvFrrbgds"
   },
   "source": []
  },
  {
   "cell_type": "markdown",
   "metadata": {
    "id": "OL2V-g1AbggO"
   },
   "source": []
  },
  {
   "cell_type": "markdown",
   "metadata": {
    "id": "WUUOi0pnb9wn"
   },
   "source": []
  },
  {
   "cell_type": "markdown",
   "metadata": {
    "id": "u3lJG2Nmb90t"
   },
   "source": []
  },
  {
   "cell_type": "markdown",
   "metadata": {
    "id": "cg05BsV_cbDw"
   },
   "source": []
  },
  {
   "cell_type": "markdown",
   "metadata": {
    "id": "RMN4OCaJcbGL"
   },
   "source": []
  },
  {
   "cell_type": "markdown",
   "metadata": {
    "id": "9yT_3qdPc4Ww"
   },
   "source": []
  },
  {
   "cell_type": "markdown",
   "metadata": {
    "id": "R1hfgJ6ic4ZQ"
   },
   "source": []
  },
  {
   "cell_type": "markdown",
   "metadata": {
    "id": "V1koegxQdVp3"
   },
   "source": []
  },
  {
   "cell_type": "markdown",
   "metadata": {
    "id": "j84jbCnhdVsf"
   },
   "source": []
  },
  {
   "cell_type": "markdown",
   "metadata": {
    "id": "uO0r-o9Tdy8x"
   },
   "source": []
  },
  {
   "cell_type": "markdown",
   "metadata": {
    "id": "wDEfI4e3dy_Y"
   },
   "source": []
  },
  {
   "cell_type": "markdown",
   "metadata": {
    "id": "RnxUYOoAeQPn"
   },
   "source": []
  },
  {
   "cell_type": "markdown",
   "metadata": {
    "id": "beDUa3n0eQSX"
   },
   "source": []
  },
  {
   "cell_type": "markdown",
   "metadata": {
    "id": "o4u5LmJJepko"
   },
   "source": []
  },
  {
   "cell_type": "markdown",
   "metadata": {
    "id": "CBYWYPeletdi"
   },
   "source": []
  },
  {
   "cell_type": "markdown",
   "metadata": {
    "id": "-rg4PZfxfK1w"
   },
   "source": []
  },
  {
   "cell_type": "markdown",
   "metadata": {
    "id": "N315ssPwfK5A"
   },
   "source": []
  },
  {
   "cell_type": "markdown",
   "metadata": {
    "id": "A45TE7QPfoJE"
   },
   "source": []
  },
  {
   "cell_type": "markdown",
   "metadata": {
    "id": "GqaNgNBpfoL0"
   },
   "source": []
  },
  {
   "cell_type": "markdown",
   "metadata": {
    "id": "DIU-1u_ggFcJ"
   },
   "source": []
  },
  {
   "cell_type": "markdown",
   "metadata": {
    "id": "2Pk77zppgFfA"
   },
   "source": []
  },
  {
   "cell_type": "markdown",
   "metadata": {
    "id": "jJ_ZbHK5gZOu"
   },
   "source": []
  },
  {
   "cell_type": "markdown",
   "metadata": {
    "id": "5MGPUf4Wgiuf"
   },
   "source": []
  },
  {
   "cell_type": "markdown",
   "metadata": {
    "id": "DK6YYaDhhACH"
   },
   "source": []
  },
  {
   "cell_type": "markdown",
   "metadata": {
    "id": "679S_1_DhAFe"
   },
   "source": []
  },
  {
   "cell_type": "markdown",
   "metadata": {
    "id": "IAYi5l09w73R"
   },
   "source": []
  },
  {
   "cell_type": "code",
   "execution_count": null,
   "metadata": {
    "id": "joL5QUpsDUgH"
   },
   "outputs": [],
   "source": [
    "def train():\n",
    "    config_defaults = dict(\n",
    "            max_epochs=5,\n",
    "            nh_layers=3,\n",
    "            nh_neurons=32,\n",
    "            weight_decay=0,\n",
    "            lr=1e-3,\n",
    "            optimizer=\"sgd\",\n",
    "            batch_size=16,\n",
    "            activation_fun=\"relu\",\n",
    "            initializer=\"xavier\",\n",
    "    )\n",
    "\n",
    "    wandb.init(config = config_defaults)\n",
    "\n",
    "    wandb.run.name = \"hl_\" + str(wandb.config.nh_layers) + \"_hn_\" + str(wandb.config.nh_neurons) + \"_opt_\" + wandb.config.optimizer + \"_act_\" + wandb.config.activation_fun + \"_lr_\" + str(wandb.config.lr) + \"_bs_\"+str(wandb.config.batch_size) + \"_init_\" + wandb.config.initializer + \"_ep_\"+ str(wandb.config.max_epochs)+ \"_l2_\" + str(wandb.config.weight_decay)\n",
    "    CONFIG = wandb.config\n",
    "\n",
    "    FFNN = FeedforwardNN(\n",
    "        nh_layers=CONFIG.nh_layers,\n",
    "        nh_neurons=CONFIG.nh_neurons,\n",
    "        un_train_data=train_data,\n",
    "        un_train_targets=train_targets,\n",
    "        n_train = n_train,\n",
    "        un_val_data = val_data,\n",
    "        un_val_targets = val_targets,\n",
    "        n_val = n_val,\n",
    "        un_test_data = test_data,\n",
    "        un_test_targets = test_targets,\n",
    "        n_test = n_test,\n",
    "        optimizer = CONFIG.optimizer,\n",
    "        batch_size = CONFIG.batch_size,\n",
    "        weight_decay = CONFIG.weight_decay,\n",
    "        lr = CONFIG.lr,\n",
    "        max_epochs = CONFIG.max_epochs,\n",
    "        activation_fun = CONFIG.activation_fun,\n",
    "        initializer = CONFIG.initializer,\n",
    "        )\n",
    "\n",
    "    train_loss, accuracy_train, accuracy_val, ypredicted_train = FFNN.optimizer(FFNN.max_epochs, FFNN.n_train, FFNN.batch_size, FFNN.lr)"
   ]
  },
  {
   "cell_type": "markdown",
   "metadata": {
    "id": "2_O6PFj0HXUc"
   },
   "source": []
  },
  {
   "cell_type": "markdown",
   "metadata": {
    "id": "G7ZR_cxgH0nf"
   },
   "source": []
  },
  {
   "cell_type": "code",
   "execution_count": null,
   "metadata": {
    "colab": {
     "base_uri": "https://localhost:8080/",
     "height": 1000,
     "referenced_widgets": [
      "d2814aea23424acc87dbeb51edcac042",
      "52b3c07ae0bb4ac9a4af66dee6a6b842",
      "f2ec4d836a4f43ec81524bc4ba36fee9",
      "160bc716e2d54ab6bad3bb5de50dbaf9",
      "b0fa15b8563544558f58710ff3c82590",
      "b4f784aa36194ef68c01e58b11d6f9e5",
      "a6c57cff93334ba0b9a1574fa8d239b4",
      "ba2fa4489b684cc6b6286c9f0583c6ac",
      "53a8af38536f4a718ebb050d8cfd0e82",
      "9c0175399eac4bb09d63c1e4a0fe4606",
      "e2d2fe5eb377404c90239f2b86542da1",
      "c68ca0916cdb4d758041ad06083b3e07",
      "3768a7369f0e48b8acfaf2becb15fe10",
      "e7aa538498a944cc954bcebcdb4c7cb4",
      "7a96bb3988f64d08994b64fa9d27f3b4",
      "0d6661ab51c4425b9b36f2e8c937c664",
      "d47b06ffcb794e95b134ba3934de1513",
      "06e38c6d30bf4b8daa7ff8b1b0e0b84a",
      "f38544b169a14b49a31cb787ee9be606",
      "659a1483582346978cb8056a1dfa6010",
      "d27b332b61264cddbce351eacedfe557",
      "5a53006c6f294f61932feaf2074b2a44",
      "feb8c472decd4a6cb2cd20814796aac8",
      "9d848ba537e043a98af790e8ac328bbe",
      "2ae280a29a8e498a9c29725553286c62",
      "67c96a927d264d9d89f9a2033c23be00",
      "876de09e7e544f66b04d5de77cf3e6c4",
      "2e11c5cee43547c196f5aba03e6440cc",
      "b8ae58d0987540bf972fba9220c95d30",
      "cae02d6ff43f47b2bd6b72c7f935c5b9",
      "63535647ff894097a7c54d284f40d09b",
      "176773fcdb9a43e484920ca96cdcc6ab",
      "9d360112a1934fccb712a77f23f70d23",
      "094a901abb65467daaa839975d85f260",
      "c4a7ea4ecfc14714a399acfd9f05c5c8",
      "2c46e1433da447c9b1aff64973f2d4a6",
      "9c98ae152a2e4848ba74913a1cc129a8",
      "9673e77a8f4a420faf470732be35680c",
      "5f74efc2aa0e4f27892395356ffdef2b",
      "56d9c59b85144192979af7e3125b5ddd",
      "11ec17c4785041c3872d4688cac2c915",
      "d8e07460031844aa95d88e443034d5f4",
      "81b071145e994d1f9103d762b6b19549",
      "78859469637241dbaf1fe7d37bd1f090",
      "e5a48bf4444045d59c49f019a14c9017",
      "d4130fdc8a91434f908b1f6a9b199340",
      "ffa7ae5abc73408e820284d2e499cc88",
      "2ed495c7a7c54ab8a0ffdf62eb327ea1",
      "a3f0493e462e4e329bf805f766ff6278",
      "56e9c7764a754dfc879810c600493c4d",
      "596ff76ee25e4268bfcb6585ed07e545",
      "b225991b63ab4c25bc1acba7690e5b70",
      "88f7b3412f474e9baab9770be29f314e",
      "a1cd9412982f408d96b8ddf1a67bf31e",
      "dff5d63a64844565b2c891176538ca8a",
      "2d2887da8edf49138087cfbdfda987b6",
      "d56f2e2289644ae6965f6fdc8bb32b06",
      "d4fc2a1d598943aa87c4daf61572e2ce",
      "d0b9973581674fbc945869952ccafd6c",
      "979df610488d41d3a300658018f742b0",
      "4f181b94f2ff404eb8c8a8fdb706c74e",
      "4e5b8941712945bdb8ded5b7f5f82cb8",
      "5deb6c0d30e046cf97ba31c2322d2c9c",
      "68462e4a895d4afba5dcb28947454132",
      "1f12a85c74ff4a9dab56e0c10cb6b1cd",
      "8506802723604a6da720fd3def392105",
      "e61f57fc6bde45018836fbb1aaac6713",
      "084b7c7c0048418caf620e0c482daf00",
      "2504a95dbb16459facbb645d697a5908",
      "d8a3db9740304677be963f768c612df8",
      "9719b6c0c25d4a26be0007d64f36dc9a",
      "72e825f1e4c34d44af5f3743ba7c26fe",
      "8bb04608bb3b4322b2cc5d1e1a8d4b78",
      "9840aab485f34add8c008d38a15da241",
      "59cfd3d2b90343c8adee03f30c9317d9",
      "ca6018e9dbd145e9bf03353d1deccd29",
      "d686899683cc41c0b9147509c7a02ac3",
      "691d05ee32e24a45acbdc4d2212f4881",
      "2ffd2e601ff74b70a1ac5036fd8699c5",
      "a0e6be950a7748d2830dca008ab1aae2",
      "0199dfb7024841cf8ba420d281d2fa44",
      "1e6d342f1f3b463298b12947e17e4a61",
      "516b24fa5a9049df9904a67a5c4ab168",
      "b21b479bd8894e86a9b60f3570c8b70c",
      "86348e671cee483aa53f58c036846aef",
      "6aab02d0ae024caa9ff5d41797a7b350",
      "ceb471dd4ab44feb91e9fe7bf859d82e",
      "5118bae1cdcf4ef790e310b79379069a",
      "e8c34efcfcd849d39cafbc92449503c0",
      "47e76e5237d4422c81b102c1d6d58523",
      "64cf1d4fcd2040da9e66cf1c4edada59",
      "55bc81c0c1dc49af8181ddc6ff2eabc9",
      "0929443b9089410ba16ed0ff6830a6e7",
      "c16cb3f1190d4ef59a461efc76ab213f",
      "505c91a410a0485dbc2a2e85864f2242",
      "3847f4bf9ed449a8bde921e18078b4cc",
      "e7a891fa3e9941d6802bc344bfe332c7",
      "12556e31ee734aba915de1d6416dda26",
      "7b5c7ca5e7bc4bd687d9520612cae8b6",
      "39103856d3094124bcde8f29be7a346e",
      "b44e892018174182bb94c40ae89b17e8",
      "a4c08b1acf3644c7826ccc3f0e7c953d",
      "823ffc42720c4285b3e203faabdf7c63",
      "7cc76da9541f4b09b89e35f2a6bbe21e",
      "8143761f24184f0da77d8eba65d318be",
      "7f26f1f2a9064d25b7addb7bdcfb94f6",
      "bf71a19f8176481a9a673db3d472d1cf",
      "4688bdfd68ca45c2b079c04ddc010c5c",
      "6cf045f077d4438ab5f1e9b5c126e0f6",
      "69291ab866ba4491906631219998e3d2",
      "3a87104ca89146d19d705206193e4610",
      "b3a1c9b5f3104b02ba2ae2aae46d36ce",
      "850018d45fc44a4088b6ee1710182055",
      "b2c88ffc903945419e7012a6125ca927",
      "9cd4d3285fd54b0482ada3d5edefe49c",
      "0e2ac107b968469c977601045e5e5ba0",
      "4d67e137bd7e4e0b92fa26a021e6be92",
      "5567aadd7b4747ccbdc3fe111b309e2e",
      "a21c37df9cdd4c47b2324d55c0ce94c8",
      "f8da9e2d02b548a49841417f8cf06d70",
      "64a82fc1388b46b795f7edef97cd2f7d",
      "7b6e06a60b43469991b97a834076bc23",
      "fe2415ecaee2428680d07825339265a4",
      "543675083c124817b435afe12ff95fea",
      "164e161de0934180bc2e55e7910a9eec",
      "c69bb4a0c121421ba066783062396d87",
      "c3bb2e9ef1dc4878bd86ae200da456c4",
      "84534c646f644a3ab4c9641f0fadedc1",
      "17b5f7f88da0401c9fd9089d04d06cb5",
      "c0080b0ea7144283a6a229cb38732094",
      "786cdc6a2e3e4d1e863dcb56da5a9597",
      "739288be04884c809be5f5242b1e8e6d",
      "f438c3b2174241e7b82de92fcd5c0cbf",
      "5643160c2ac14a79a00ba2385d6b6d93",
      "0f8c3fae4a4042cb929e73a1afae0875",
      "8932d14e94df470bad678141edf044c5",
      "64843ce0c11444f499f937cf5ff2e4e8",
      "304f9192f84745ee814dffca4eab1fed",
      "2ed326ccc98d44e0a2a445d0ad2ba88e",
      "22fe4458e61246e99417293b218f8a06",
      "c42c6fe09bd24118a62bc6b069d13f80",
      "8b73fa5fa0444f55bbed637a13d0bf6d",
      "8135a6521e644113a4a1c32aa0f13b39",
      "efea0e2833c549139fa8e1648ed0e249",
      "7fa08abbc7434297a080795610ce8590",
      "714975d49d2547d7aaf36804019e517d",
      "2a6a3e3112bd4b46b76d2bca0b9304aa",
      "d4c201ab82ec438fb646dbc5803a6b4c",
      "e8949df478f9448bb8bc4c483f1e6a28",
      "c75f1fa2ecae436c8a3dbea07086dde7",
      "d347e597466043579164d667dca3900a",
      "2df60073f7db4ca1b326789f197f6957",
      "f50d2d596a654f9e913ea70e63818294",
      "24e6d7b2236343a492447e5cfaabe3ee",
      "848bbd0edb99436886350052b5601f0e",
      "2ff1c9ec096842a5b96d899a62f026f7",
      "bde29a59e595477e8b7e5cbd08adbefa",
      "291e21ebdce042d6ad621af5232005b6",
      "cdcdc594d4534422910689bbdfce32dd",
      "6a14424473e84577b02b5711cdf4b2a3",
      "16a3fd8b89ef49608e978fc78f5ba559",
      "91f1fa58a42a4c3893a7684785305b71",
      "5cc5e10529494d9b90143522b5b6629f",
      "9d9f3358b7de4ce7b4c28165e33244d9",
      "e2def2f5fe5f4f19adca4883c69b4fbf",
      "ba30fa41d2bd452e996c667809fd962a",
      "8f0638276fd142fab41fba8b593f7416",
      "6bb5ab39888947cf963932f4dc2a68bc",
      "d3d1dbc97ed04c4d98002efe7c6edc2c",
      "d12fad71143c4b9c85ca1e3c04ba1437",
      "8571c4df5e634c6bb75d4e81e564cbf9",
      "c05e02d806fd4839b43be58dde85e381",
      "dfa60e9a9b4d4d6bbf63dd6eb2b41dfe",
      "dd3ae8f12426426caf93472afdc11d56",
      "f58202cbbd91450488b20326b3676f6a",
      "4f17dcf5a37047b48e812a75ef5fc77e",
      "e66eddafe5c34b4f87c94126fd5761c5",
      "0162abf8b659438699f962a9e600b5ce",
      "1f2c0944a233446da7e81bc6156af9c4",
      "250e795174f440c9a111dca61f512a05",
      "544dbfcfed9545f4801a36c9309bfc28",
      "5b89bf9b0d774f0a814daca525346b5a",
      "40ce6d02f334404aa437f3d521ae09fc",
      "d55585a6c4594c3f9d78c5bc5a3a8dd1",
      "ba86ce21683a4d8f9f719a0769433c3a",
      "ea9c7457cfa04008ab990a1bf93c169c",
      "3cedf5bedca0414bbe63d7d2efd1508e",
      "7cd7aeaed660433e9093681bccf4a48a",
      "30a887a8c540407ea956c761ba6ab747",
      "5313ced4ee41471db4561011e8bf172f",
      "5ae66d90c1f34696a8a3d8add02b7d75",
      "34472ae9bc834932976c2896b2e05251",
      "13024cdcf398490895e4497b4f1a6f2a",
      "a6fbd771efb4483388eb8f3bd34b0d9e",
      "776b516bd1594248b112da7cd3b2ea34",
      "1e6720030040448aaa21feb704693557",
      "4c6b31e52818467597af9d26c349307b",
      "b9068aece49d4b8b8b780dfc1e1fbfcb",
      "972671a466db4213acea21f162e3ae24",
      "60aa60752ef64cd483eef7d567665b4c",
      "3526aec5225749dd8042dfcc536a6241",
      "856c59e8424741668b08e9edfc1f2c94",
      "c620f71d4d0f41408a4b3458b5056d6e",
      "d6487f4715c54c7a9f39135ac8dd2f6d",
      "25e53aff95ea41f88ef4bfc6b88e040c",
      "6dc32839ce5f4cefacb48579816ba007",
      "9eac5421d9144ce39c5d3ca4841212bb",
      "a1419ea5ad64420995c61caeccb8f227",
      "3d3a933863114a68bf0a1ac7baeb7d75",
      "2d68f19800544cd3ab0b922b0ef7a9d4",
      "ee52e76d2f9049f6adcdf301792090e2",
      "0adb3a250bc24f06a2d89ea7782db9f0",
      "2d093d774a4f4873842e780081510436",
      "80cd08c2cc48491b97a9af035071ab44",
      "1cd9b7125b524c678ba7d755e3dc797c",
      "3045efdb18db4841a988bfa1db38d8e8",
      "ce41ae688c2c4913b595a49d9c3da6c3",
      "c47ebae87d514ff28161e57b70103199",
      "2979305e0399481eb884ce592749b18f",
      "3f49338348f64e4f917dbe3c24190997",
      "148114dee58e4dc28ff1cd7b3bf0da4a",
      "009e74d38c6343c79f372230442f98a9",
      "ffbe26106dcf476f806f6987042a2b38",
      "a674318c2a09417a8ee79f7be70121f5",
      "788c6203de924bec8c9d7a4add29dac0",
      "dc0453f7df7b425198104200fa3d2b54",
      "ca3a17b9dd434aa69b51968a227f6f4c",
      "e1296dff784d4e67b6fdcbff3f99c07f",
      "4f16393194ee4fa49cd6f00ab5317baf",
      "62ea35d1988e4cc9bf8838254160726a",
      "6cc4ab7c4e5842d6aa7fa38fe3b64cbf",
      "294b51253b5147a68dbd18564815173d",
      "cd5323c4e3314b82a06bd95e1d562b98",
      "e54f35edd3e843489994622b0d3e8aeb",
      "543aa2d0ff7a45ccb8cce56b60f9675e",
      "28a321d0a043475daaba31110e31681f",
      "5f5428181b194345b1f3770d9e805ab7",
      "51b5f8b6d8c24f58ac3296acb39de9ec",
      "6875f7ac9ba148d0a2ef7f69330831f2",
      "a8a4f80b99974a2ba6ef852dd45ba4aa",
      "b3b152c8d2a54f9f90adbe0fb866410d",
      "fd48d56f77bf4f03bb1660e838d4cc48",
      "74302fecc395413c8f465b658676f093",
      "cfaa260d63e644b7a21b4dff1f92f8a0",
      "eff5221f5e144b4f8f5db1a9516763c5",
      "651b1a4c28574bee92295c033a7c5a8c",
      "a2931981a6fa4d45b97030a87950ffe6",
      "c2d91e05baad4ef9b45bc6fbf103bdf3",
      "1aee772947b0492aa4bd3dae8ce8cc62",
      "9776d1584821492aabdbd20fc886e25d",
      "55abf0fea8e846c3869d06ba0febf4ba",
      "1c0774fb29dd4d178bfa3b66400a7df6",
      "36e617ad6b2c4457956656d27a1284a3",
      "5a7dcb43b7504878a55d258b95847e8f",
      "a9db2b39f33a487ca7b2d6bbc991c7db",
      "46cb446a60f748aaaf53e45c320f198a",
      "7b8a438617d4483aa413c2b65a8df221",
      "372aef90a60d4697aee32728c4db9107",
      "de52cf49d1a24cb8a2b5acd52544273b",
      "f154aca6dab840c580dddd6a7bd63580",
      "055edbde7ade4d159449379f599829e4",
      "dcc29847c76d45e18e7f7fcb8136c7e9",
      "469f65f262754dbeb502a6c2fc5eb644",
      "1724d0c9c5f3404f9f27008cd7fb3400",
      "1837c06a94da4242b96772f97b9faf84",
      "ca729e95ac504cfca970856f5c8a73e2",
      "044f9dc3b85a452fbca31b9dcce54bd3",
      "4e94602d385f48bcabefb0e727f2b856",
      "e3e5f27fb1be48c698063e8b0a431787",
      "0e506c25b6534a2bbe39914c54c54401",
      "a5c94641196d4f38ab54cc5e83017773",
      "fa87739e97f7409397913bfb603ddeee",
      "0fd576a5e0cf4e9d92e5d76bddd2d5f6",
      "2a61e8df306a44198c5cf3a7dfee84d1",
      "7010de40a1a94792b31229561fadfc5a",
      "1fb52c716eed4a1ea38ff986d3fda834",
      "d2a26aca3ee14c0c8af331e65f57f794",
      "e4572f7c365d4ab8a4d4eab789d9f4b1",
      "339e42711df04a3dbca864641e1f1587",
      "62936eb03de548e5b4fb42423d8d20e2",
      "a71e9f0f6a594a4c999de0d5cbce91c0",
      "78351456b5be47d2bde2d51ecb1269d6",
      "29e5618631bf4b459916cda8ba78f319",
      "33879966d32246988c008bbc8674aa87",
      "0752da480fce4700813719e3617a7e37",
      "f9b107e4f195401eadfac00ae9289e1a",
      "73f545afa76a4bc880890559dfb2bcff",
      "8bed13cab6e94899ba41fc4fc7238eda",
      "1db83aea4fd946e2bac1f982399a2d7e",
      "b4d73619ec394f0a8c77c9bd6a13302f",
      "dafbddd976f240409b033aa3616a88e3",
      "a6700dda685449a5bcf21cbfde553f9a",
      "c4115ace978749f89432b7f3bad8814b",
      "0a0999d0e7d0452fb58bb8ed8194cb53",
      "740a518be9ce430d859ff33ce713e114",
      "81d7f5cfde944c9d8ef72b1174818180",
      "6dd5a8d1bbec4ad68ba76ef01376a710",
      "24f16ca58bcb42ec9bbd820ad82ee336",
      "2bccf0fe4c154e7b9484b4f5832c8804",
      "57891c80ce6740bc96627049b90d2956",
      "ea43f66b739a48bbafee83b3920f1775",
      "7476068006dc456b9769fa59aee7a44d",
      "816c030c9ac740d2a26a4a0e1c9b6028",
      "098de8ddd35248729bb467473dd302b7",
      "018790b6b75446c59e20cd85d269f93d",
      "9757270b87724373a76ca75bdeecd243",
      "5f72fa62532e45f7952fab0b1eaf7025",
      "073a5f774ddf4c64b22848b696783901",
      "b5e1b2f4774c4e3b88eb09400b5e817e",
      "511e2c8676f14d7bb936901a1a08d91c",
      "c942c97f522745f2a0ae84d77cf7b7e0",
      "5fbe3ad54b9746c4838aaf2ccce3cbc2",
      "1b016b8091b64ec4bc05161c97343914",
      "5754032bac714180bfa7ed133fc23ca8",
      "d2f6e02920134d6d859124f2b9dbcf51",
      "a2eec7bb6db142c18d6aada2bc690b38",
      "fee29d65e08d4c4a80ea129d1ef95058",
      "12aa20073f7441b6b21deabde7064cbc",
      "efeed6217b5f49038f01e2bbfbf99ad6",
      "2804848552c44e0d95ddfaba7d6b5526",
      "1436aac68f004bf8ace7c1e9dff23e36",
      "00395132580b4d94abd935093a7a3a91",
      "f37dbda5cb874fc5885e1ce2803f04f6",
      "dd01340406bb41879c00e11a90273dd3",
      "07029f2250074ee59725d3b2bcd5907f",
      "6b59feac8af148b5bdfcea27b57a4a6b",
      "7a3deaeba3ec48779c74ad72e87cd467",
      "e40f1ff26d19435c98b89adcd4f5b372",
      "75ca4db67b9749578a57be0caf00571b",
      "641b87e44d1e42b9a374876d0aa4fdec",
      "e1b3db0a377f4cd1b24258cb5a1739e2",
      "56be837057b3445c90f1092aa0851839",
      "25a61b57254a4f7a8cace8a5b6f1bbbe",
      "c2796f3f32074d8b9cc8898ff0139bac",
      "b81f8abad9554849a323d3f56f86c02c",
      "cb2d317cc48646e5810aa2f91b34486f",
      "e0f5676f227d44e29b4ce3ff4d0887f9",
      "897fe2606c6d4787b3c6c473ce702492",
      "94810c6c97544c99b9ede9e9d66775a5",
      "ed351a2a11394b7d829b7193d824397d",
      "400032efd02c4b36bfb8426ec40c5316",
      "7e82dc82c29d4fa28cc0a92635ff4bce",
      "153b69299f884e8fbb726c6b3a556215",
      "3bd69e533f484fca895648fa8ce1dc07",
      "8764a82017104dae99496ff52c14af48",
      "3c5bd2a8a0e54e88bb10fa4d464645f8",
      "47d166d525874057b65e264d26b2e28e",
      "102eaddb01a74bf88552881fd596ea64",
      "f21b63ef45454bbd892904962a1ded1c",
      "101e3ae08e384b9ab709e4254783812d",
      "706c057827894e398fc861509961ecab",
      "d41cabb04d5b48f4a50a5be0187f02d1",
      "845a790608ba495d86e50bfdb637e3a2",
      "e1e3ae925c75418e9500e50aa847f612",
      "37114f46da3847739fae590ed40aea12",
      "f1e1b266b2d6452ead9995a332c31d37",
      "141495330fbb4849bed8c79db6dd88b0",
      "ced9f1903b984e46a9e0f069046a1697",
      "2c046926c94040f0bfded90830c0391c",
      "6c73d7ad43ae4ce09f451c43643ab08f",
      "420f1a7f96c24914b7c0e91c4f891df2",
      "551c4d3b23784fc4aa0b838139453822",
      "5677fbfd6f894134852dcdbbe5f1c072",
      "30466cdd2a844ac3b8d7c044c040880f",
      "23bff8dc5a8a48b584ac93d6f9eb19f0",
      "252a6f3d897843dca389f9e8bcc0c371",
      "3d18121ea6374a268df30735450e04fd",
      "5ad2a62ec4c849ff95fc95990a2458c6",
      "7d2adefc56d64a36b8f2c2d5cae13b23",
      "35aef37b57f34996b0978ffda8b782a8",
      "2489ed47ffe44123afc5f1ce9b198620",
      "abecbb46e26a414c8d7d6f9254ec81c0",
      "340d34ea15cb43f79ca812a8aee85ff7",
      "7db8eee96805492cb919bc68bae7a6ed",
      "0146406750cc4bfa9d4a051a44b22d21",
      "a1bbbb0e98954595b06adb9a129d5d9e"
     ]
    },
    "id": "eYlBW-Mcy99R",
    "outputId": "82a6ca0e-a1d6-475c-9fd2-6313de35b850"
   },
   "outputs": [
    {
     "name": "stderr",
     "output_type": "stream",
     "text": [
      "\u001b[34m\u001b[1mwandb\u001b[0m: Agent Starting Run: frm8mvtl with config:\n",
      "\u001b[34m\u001b[1mwandb\u001b[0m: \tactivation: tanh\n",
      "\u001b[34m\u001b[1mwandb\u001b[0m: \tbatch_size: 64\n",
      "\u001b[34m\u001b[1mwandb\u001b[0m: \tinitializer: random\n",
      "\u001b[34m\u001b[1mwandb\u001b[0m: \tlearning_rate: 0.0001\n",
      "\u001b[34m\u001b[1mwandb\u001b[0m: \tmax_epochs: 5\n",
      "\u001b[34m\u001b[1mwandb\u001b[0m: \tnum_hidden_neurons: 128\n",
      "\u001b[34m\u001b[1mwandb\u001b[0m: \tnum_layers: 5\n",
      "\u001b[34m\u001b[1mwandb\u001b[0m: \toptimizer: momentum\n",
      "\u001b[34m\u001b[1mwandb\u001b[0m: \tweight_decay: 0.0005\n",
      "\u001b[34m\u001b[1mwandb\u001b[0m: Currently logged in as: \u001b[33mbrianmwigo\u001b[0m. Use \u001b[1m`wandb login --relogin`\u001b[0m to force relogin\n"
     ]
    },
    {
     "data": {
      "text/html": [
       "Tracking run with wandb version 0.16.3"
      ],
      "text/plain": [
       "<IPython.core.display.HTML object>"
      ]
     },
     "metadata": {},
     "output_type": "display_data"
    },
    {
     "data": {
      "text/html": [
       "Run data is saved locally in <code>/content/wandb/run-20240229_182641-frm8mvtl</code>"
      ],
      "text/plain": [
       "<IPython.core.display.HTML object>"
      ]
     },
     "metadata": {},
     "output_type": "display_data"
    },
    {
     "data": {
      "text/html": [
       "Syncing run <strong><a href='https://wandb.ai/brianmwigo/DeepLearningHomework1/runs/frm8mvtl' target=\"_blank\">earnest-sweep-1</a></strong> to <a href='https://wandb.ai/brianmwigo/DeepLearningHomework1' target=\"_blank\">Weights & Biases</a> (<a href='https://wandb.me/run' target=\"_blank\">docs</a>)<br/>Sweep page: <a href='https://wandb.ai/brianmwigo/DeepLearningHomework1/sweeps/esqa44ap' target=\"_blank\">https://wandb.ai/brianmwigo/DeepLearningHomework1/sweeps/esqa44ap</a>"
      ],
      "text/plain": [
       "<IPython.core.display.HTML object>"
      ]
     },
     "metadata": {},
     "output_type": "display_data"
    },
    {
     "data": {
      "text/html": [
       " View project at <a href='https://wandb.ai/brianmwigo/DeepLearningHomework1' target=\"_blank\">https://wandb.ai/brianmwigo/DeepLearningHomework1</a>"
      ],
      "text/plain": [
       "<IPython.core.display.HTML object>"
      ]
     },
     "metadata": {},
     "output_type": "display_data"
    },
    {
     "data": {
      "text/html": [
       " View sweep at <a href='https://wandb.ai/brianmwigo/DeepLearningHomework1/sweeps/esqa44ap' target=\"_blank\">https://wandb.ai/brianmwigo/DeepLearningHomework1/sweeps/esqa44ap</a>"
      ],
      "text/plain": [
       "<IPython.core.display.HTML object>"
      ]
     },
     "metadata": {},
     "output_type": "display_data"
    },
    {
     "data": {
      "text/html": [
       " View run at <a href='https://wandb.ai/brianmwigo/DeepLearningHomework1/runs/frm8mvtl' target=\"_blank\">https://wandb.ai/brianmwigo/DeepLearningHomework1/runs/frm8mvtl</a>"
      ],
      "text/plain": [
       "<IPython.core.display.HTML object>"
      ]
     },
     "metadata": {},
     "output_type": "display_data"
    },
    {
     "name": "stdout",
     "output_type": "stream",
     "text": [
      "epoch: 0, loss: 2.079e-01, accuracy_train: 0.55, accuracy_val: 0.55, learning rate: 1.000e-03\n",
      "epoch: 1, loss: 1.147e-01, accuracy_train: 0.61, accuracy_val: 0.62, learning rate: 1.000e-03\n",
      "epoch: 2, loss: 1.025e-01, accuracy_train: 0.64, accuracy_val: 0.64, learning rate: 1.000e-03\n",
      "epoch: 3, loss: 9.528e-02, accuracy_train: 0.66, accuracy_val: 0.66, learning rate: 1.000e-03\n",
      "epoch: 4, loss: 9.042e-02, accuracy_train: 0.68, accuracy_val: 0.67, learning rate: 1.000e-03\n"
     ]
    },
    {
     "data": {
      "application/vnd.jupyter.widget-view+json": {
       "model_id": "d2814aea23424acc87dbeb51edcac042",
       "version_major": 2,
       "version_minor": 0
      },
      "text/plain": [
       "VBox(children=(Label(value='0.001 MB of 0.001 MB uploaded\\r'), FloatProgress(value=1.0, max=1.0)))"
      ]
     },
     "metadata": {},
     "output_type": "display_data"
    },
    {
     "data": {
      "text/html": [
       "<style>\n",
       "    table.wandb td:nth-child(1) { padding: 0 10px; text-align: left ; width: auto;} td:nth-child(2) {text-align: left ; width: 100%}\n",
       "    .wandb-row { display: flex; flex-direction: row; flex-wrap: wrap; justify-content: flex-start; width: 100% }\n",
       "    .wandb-col { display: flex; flex-direction: column; flex-basis: 100%; flex: 1; padding: 10px; }\n",
       "    </style>\n",
       "<div class=\"wandb-row\"><div class=\"wandb-col\"><h3>Run history:</h3><br/><table class=\"wandb\"><tr><td>epoch</td><td>▁▃▅▆█</td></tr><tr><td>loss</td><td>█▄▃▂▁</td></tr><tr><td>trainingaccuracy</td><td>▁▄▆▇█</td></tr><tr><td>validationaccuracy</td><td>▁▅▆▇█</td></tr></table><br/></div><div class=\"wandb-col\"><h3>Run summary:</h3><br/><table class=\"wandb\"><tr><td>epoch</td><td>4</td></tr><tr><td>loss</td><td>0.12217</td></tr><tr><td>trainingaccuracy</td><td>0.67772</td></tr><tr><td>validationaccuracy</td><td>0.67233</td></tr></table><br/></div></div>"
      ],
      "text/plain": [
       "<IPython.core.display.HTML object>"
      ]
     },
     "metadata": {},
     "output_type": "display_data"
    },
    {
     "data": {
      "text/html": [
       " View run <strong style=\"color:#cdcd00\">earnest-sweep-1</strong> at: <a href='https://wandb.ai/brianmwigo/DeepLearningHomework1/runs/frm8mvtl' target=\"_blank\">https://wandb.ai/brianmwigo/DeepLearningHomework1/runs/frm8mvtl</a><br/>Synced 5 W&B file(s), 0 media file(s), 0 artifact file(s) and 0 other file(s)"
      ],
      "text/plain": [
       "<IPython.core.display.HTML object>"
      ]
     },
     "metadata": {},
     "output_type": "display_data"
    },
    {
     "data": {
      "text/html": [
       "Find logs at: <code>./wandb/run-20240229_182641-frm8mvtl/logs</code>"
      ],
      "text/plain": [
       "<IPython.core.display.HTML object>"
      ]
     },
     "metadata": {},
     "output_type": "display_data"
    },
    {
     "name": "stderr",
     "output_type": "stream",
     "text": [
      "\u001b[34m\u001b[1mwandb\u001b[0m: Agent Starting Run: s019jq0g with config:\n",
      "\u001b[34m\u001b[1mwandb\u001b[0m: \tactivation: sigmoid\n",
      "\u001b[34m\u001b[1mwandb\u001b[0m: \tbatch_size: 32\n",
      "\u001b[34m\u001b[1mwandb\u001b[0m: \tinitializer: xavier\n",
      "\u001b[34m\u001b[1mwandb\u001b[0m: \tlearning_rate: 0.0001\n",
      "\u001b[34m\u001b[1mwandb\u001b[0m: \tmax_epochs: 5\n",
      "\u001b[34m\u001b[1mwandb\u001b[0m: \tnum_hidden_neurons: 32\n",
      "\u001b[34m\u001b[1mwandb\u001b[0m: \tnum_layers: 3\n",
      "\u001b[34m\u001b[1mwandb\u001b[0m: \toptimizer: sgd\n",
      "\u001b[34m\u001b[1mwandb\u001b[0m: \tweight_decay: 0\n"
     ]
    },
    {
     "data": {
      "application/vnd.jupyter.widget-view+json": {
       "model_id": "53a8af38536f4a718ebb050d8cfd0e82",
       "version_major": 2,
       "version_minor": 0
      },
      "text/plain": [
       "VBox(children=(Label(value='Waiting for wandb.init()...\\r'), FloatProgress(value=0.011112820322222206, max=1.0…"
      ]
     },
     "metadata": {},
     "output_type": "display_data"
    },
    {
     "data": {
      "text/html": [
       "Tracking run with wandb version 0.16.3"
      ],
      "text/plain": [
       "<IPython.core.display.HTML object>"
      ]
     },
     "metadata": {},
     "output_type": "display_data"
    },
    {
     "data": {
      "text/html": [
       "Run data is saved locally in <code>/content/wandb/run-20240229_183142-s019jq0g</code>"
      ],
      "text/plain": [
       "<IPython.core.display.HTML object>"
      ]
     },
     "metadata": {},
     "output_type": "display_data"
    },
    {
     "data": {
      "text/html": [
       "Syncing run <strong><a href='https://wandb.ai/brianmwigo/DeepLearningHomework1/runs/s019jq0g' target=\"_blank\">charmed-sweep-2</a></strong> to <a href='https://wandb.ai/brianmwigo/DeepLearningHomework1' target=\"_blank\">Weights & Biases</a> (<a href='https://wandb.me/run' target=\"_blank\">docs</a>)<br/>Sweep page: <a href='https://wandb.ai/brianmwigo/DeepLearningHomework1/sweeps/esqa44ap' target=\"_blank\">https://wandb.ai/brianmwigo/DeepLearningHomework1/sweeps/esqa44ap</a>"
      ],
      "text/plain": [
       "<IPython.core.display.HTML object>"
      ]
     },
     "metadata": {},
     "output_type": "display_data"
    },
    {
     "data": {
      "text/html": [
       " View project at <a href='https://wandb.ai/brianmwigo/DeepLearningHomework1' target=\"_blank\">https://wandb.ai/brianmwigo/DeepLearningHomework1</a>"
      ],
      "text/plain": [
       "<IPython.core.display.HTML object>"
      ]
     },
     "metadata": {},
     "output_type": "display_data"
    },
    {
     "data": {
      "text/html": [
       " View sweep at <a href='https://wandb.ai/brianmwigo/DeepLearningHomework1/sweeps/esqa44ap' target=\"_blank\">https://wandb.ai/brianmwigo/DeepLearningHomework1/sweeps/esqa44ap</a>"
      ],
      "text/plain": [
       "<IPython.core.display.HTML object>"
      ]
     },
     "metadata": {},
     "output_type": "display_data"
    },
    {
     "data": {
      "text/html": [
       " View run at <a href='https://wandb.ai/brianmwigo/DeepLearningHomework1/runs/s019jq0g' target=\"_blank\">https://wandb.ai/brianmwigo/DeepLearningHomework1/runs/s019jq0g</a>"
      ],
      "text/plain": [
       "<IPython.core.display.HTML object>"
      ]
     },
     "metadata": {},
     "output_type": "display_data"
    },
    {
     "name": "stdout",
     "output_type": "stream",
     "text": [
      "epoch: 0, loss: 1.952e-01, accuracy_train: 0.53, accuracy_val: 0.52, learning rate: 1.000e-03\n",
      "epoch: 1, loss: 1.163e-01, accuracy_train: 0.67, accuracy_val: 0.66, learning rate: 1.000e-03\n",
      "epoch: 2, loss: 8.440e-02, accuracy_train: 0.72, accuracy_val: 0.71, learning rate: 1.000e-03\n",
      "epoch: 3, loss: 7.389e-02, accuracy_train: 0.75, accuracy_val: 0.74, learning rate: 1.000e-03\n",
      "epoch: 4, loss: 6.779e-02, accuracy_train: 0.78, accuracy_val: 0.76, learning rate: 1.000e-03\n"
     ]
    },
    {
     "data": {
      "application/vnd.jupyter.widget-view+json": {
       "model_id": "d47b06ffcb794e95b134ba3934de1513",
       "version_major": 2,
       "version_minor": 0
      },
      "text/plain": [
       "VBox(children=(Label(value='0.001 MB of 0.011 MB uploaded\\r'), FloatProgress(value=0.0917705309885607, max=1.0…"
      ]
     },
     "metadata": {},
     "output_type": "display_data"
    },
    {
     "data": {
      "text/html": [
       "<style>\n",
       "    table.wandb td:nth-child(1) { padding: 0 10px; text-align: left ; width: auto;} td:nth-child(2) {text-align: left ; width: 100%}\n",
       "    .wandb-row { display: flex; flex-direction: row; flex-wrap: wrap; justify-content: flex-start; width: 100% }\n",
       "    .wandb-col { display: flex; flex-direction: column; flex-basis: 100%; flex: 1; padding: 10px; }\n",
       "    </style>\n",
       "<div class=\"wandb-row\"><div class=\"wandb-col\"><h3>Run history:</h3><br/><table class=\"wandb\"><tr><td>epoch</td><td>▁▃▅▆█</td></tr><tr><td>loss</td><td>█▅▃▂▁</td></tr><tr><td>trainingaccuracy</td><td>▁▅▆▇█</td></tr><tr><td>validationaccuracy</td><td>▁▅▆▇█</td></tr></table><br/></div><div class=\"wandb-col\"><h3>Run summary:</h3><br/><table class=\"wandb\"><tr><td>epoch</td><td>4</td></tr><tr><td>loss</td><td>0.10752</td></tr><tr><td>trainingaccuracy</td><td>0.77507</td></tr><tr><td>validationaccuracy</td><td>0.76467</td></tr></table><br/></div></div>"
      ],
      "text/plain": [
       "<IPython.core.display.HTML object>"
      ]
     },
     "metadata": {},
     "output_type": "display_data"
    },
    {
     "data": {
      "text/html": [
       " View run <strong style=\"color:#cdcd00\">charmed-sweep-2</strong> at: <a href='https://wandb.ai/brianmwigo/DeepLearningHomework1/runs/s019jq0g' target=\"_blank\">https://wandb.ai/brianmwigo/DeepLearningHomework1/runs/s019jq0g</a><br/>Synced 5 W&B file(s), 0 media file(s), 0 artifact file(s) and 0 other file(s)"
      ],
      "text/plain": [
       "<IPython.core.display.HTML object>"
      ]
     },
     "metadata": {},
     "output_type": "display_data"
    },
    {
     "data": {
      "text/html": [
       "Find logs at: <code>./wandb/run-20240229_183142-s019jq0g/logs</code>"
      ],
      "text/plain": [
       "<IPython.core.display.HTML object>"
      ]
     },
     "metadata": {},
     "output_type": "display_data"
    },
    {
     "name": "stderr",
     "output_type": "stream",
     "text": [
      "\u001b[34m\u001b[1mwandb\u001b[0m: Agent Starting Run: gt7blh2a with config:\n",
      "\u001b[34m\u001b[1mwandb\u001b[0m: \tactivation: relu\n",
      "\u001b[34m\u001b[1mwandb\u001b[0m: \tbatch_size: 16\n",
      "\u001b[34m\u001b[1mwandb\u001b[0m: \tinitializer: xavier\n",
      "\u001b[34m\u001b[1mwandb\u001b[0m: \tlearning_rate: 0.001\n",
      "\u001b[34m\u001b[1mwandb\u001b[0m: \tmax_epochs: 5\n",
      "\u001b[34m\u001b[1mwandb\u001b[0m: \tnum_hidden_neurons: 128\n",
      "\u001b[34m\u001b[1mwandb\u001b[0m: \tnum_layers: 5\n",
      "\u001b[34m\u001b[1mwandb\u001b[0m: \toptimizer: nesterov\n",
      "\u001b[34m\u001b[1mwandb\u001b[0m: \tweight_decay: 0\n"
     ]
    },
    {
     "data": {
      "text/html": [
       "Tracking run with wandb version 0.16.3"
      ],
      "text/plain": [
       "<IPython.core.display.HTML object>"
      ]
     },
     "metadata": {},
     "output_type": "display_data"
    },
    {
     "data": {
      "text/html": [
       "Run data is saved locally in <code>/content/wandb/run-20240229_183632-gt7blh2a</code>"
      ],
      "text/plain": [
       "<IPython.core.display.HTML object>"
      ]
     },
     "metadata": {},
     "output_type": "display_data"
    },
    {
     "data": {
      "text/html": [
       "Syncing run <strong><a href='https://wandb.ai/brianmwigo/DeepLearningHomework1/runs/gt7blh2a' target=\"_blank\">lemon-sweep-3</a></strong> to <a href='https://wandb.ai/brianmwigo/DeepLearningHomework1' target=\"_blank\">Weights & Biases</a> (<a href='https://wandb.me/run' target=\"_blank\">docs</a>)<br/>Sweep page: <a href='https://wandb.ai/brianmwigo/DeepLearningHomework1/sweeps/esqa44ap' target=\"_blank\">https://wandb.ai/brianmwigo/DeepLearningHomework1/sweeps/esqa44ap</a>"
      ],
      "text/plain": [
       "<IPython.core.display.HTML object>"
      ]
     },
     "metadata": {},
     "output_type": "display_data"
    },
    {
     "data": {
      "text/html": [
       " View project at <a href='https://wandb.ai/brianmwigo/DeepLearningHomework1' target=\"_blank\">https://wandb.ai/brianmwigo/DeepLearningHomework1</a>"
      ],
      "text/plain": [
       "<IPython.core.display.HTML object>"
      ]
     },
     "metadata": {},
     "output_type": "display_data"
    },
    {
     "data": {
      "text/html": [
       " View sweep at <a href='https://wandb.ai/brianmwigo/DeepLearningHomework1/sweeps/esqa44ap' target=\"_blank\">https://wandb.ai/brianmwigo/DeepLearningHomework1/sweeps/esqa44ap</a>"
      ],
      "text/plain": [
       "<IPython.core.display.HTML object>"
      ]
     },
     "metadata": {},
     "output_type": "display_data"
    },
    {
     "data": {
      "text/html": [
       " View run at <a href='https://wandb.ai/brianmwigo/DeepLearningHomework1/runs/gt7blh2a' target=\"_blank\">https://wandb.ai/brianmwigo/DeepLearningHomework1/runs/gt7blh2a</a>"
      ],
      "text/plain": [
       "<IPython.core.display.HTML object>"
      ]
     },
     "metadata": {},
     "output_type": "display_data"
    },
    {
     "name": "stdout",
     "output_type": "stream",
     "text": [
      "epoch: 0, loss: 7.435e-02, accuracy_train: 0.80, accuracy_val: 0.80, learning rate: 1.000e-03\n",
      "epoch: 1, loss: 4.842e-02, accuracy_train: 0.82, accuracy_val: 0.80, learning rate: 1.000e-03\n",
      "epoch: 2, loss: 4.355e-02, accuracy_train: 0.83, accuracy_val: 0.82, learning rate: 1.000e-03\n",
      "epoch: 3, loss: 4.071e-02, accuracy_train: 0.84, accuracy_val: 0.83, learning rate: 1.000e-03\n",
      "epoch: 4, loss: 3.868e-02, accuracy_train: 0.85, accuracy_val: 0.84, learning rate: 1.000e-03\n"
     ]
    },
    {
     "data": {
      "application/vnd.jupyter.widget-view+json": {
       "model_id": "2ae280a29a8e498a9c29725553286c62",
       "version_major": 2,
       "version_minor": 0
      },
      "text/plain": [
       "VBox(children=(Label(value='0.001 MB of 0.001 MB uploaded\\r'), FloatProgress(value=1.0, max=1.0)))"
      ]
     },
     "metadata": {},
     "output_type": "display_data"
    },
    {
     "data": {
      "text/html": [
       "<style>\n",
       "    table.wandb td:nth-child(1) { padding: 0 10px; text-align: left ; width: auto;} td:nth-child(2) {text-align: left ; width: 100%}\n",
       "    .wandb-row { display: flex; flex-direction: row; flex-wrap: wrap; justify-content: flex-start; width: 100% }\n",
       "    .wandb-col { display: flex; flex-direction: column; flex-basis: 100%; flex: 1; padding: 10px; }\n",
       "    </style>\n",
       "<div class=\"wandb-row\"><div class=\"wandb-col\"><h3>Run history:</h3><br/><table class=\"wandb\"><tr><td>epoch</td><td>▁▃▅▆█</td></tr><tr><td>loss</td><td>█▄▃▂▁</td></tr><tr><td>trainingaccuracy</td><td>▁▃▅▇█</td></tr><tr><td>validationaccuracy</td><td>▁▂▅▇█</td></tr></table><br/></div><div class=\"wandb-col\"><h3>Run summary:</h3><br/><table class=\"wandb\"><tr><td>epoch</td><td>4</td></tr><tr><td>loss</td><td>0.04914</td></tr><tr><td>trainingaccuracy</td><td>0.85046</td></tr><tr><td>validationaccuracy</td><td>0.838</td></tr></table><br/></div></div>"
      ],
      "text/plain": [
       "<IPython.core.display.HTML object>"
      ]
     },
     "metadata": {},
     "output_type": "display_data"
    },
    {
     "data": {
      "text/html": [
       " View run <strong style=\"color:#cdcd00\">lemon-sweep-3</strong> at: <a href='https://wandb.ai/brianmwigo/DeepLearningHomework1/runs/gt7blh2a' target=\"_blank\">https://wandb.ai/brianmwigo/DeepLearningHomework1/runs/gt7blh2a</a><br/>Synced 5 W&B file(s), 0 media file(s), 0 artifact file(s) and 0 other file(s)"
      ],
      "text/plain": [
       "<IPython.core.display.HTML object>"
      ]
     },
     "metadata": {},
     "output_type": "display_data"
    },
    {
     "data": {
      "text/html": [
       "Find logs at: <code>./wandb/run-20240229_183632-gt7blh2a/logs</code>"
      ],
      "text/plain": [
       "<IPython.core.display.HTML object>"
      ]
     },
     "metadata": {},
     "output_type": "display_data"
    },
    {
     "name": "stderr",
     "output_type": "stream",
     "text": [
      "\u001b[34m\u001b[1mwandb\u001b[0m: Sweep Agent: Waiting for job.\n",
      "\u001b[34m\u001b[1mwandb\u001b[0m: Job received.\n",
      "\u001b[34m\u001b[1mwandb\u001b[0m: Agent Starting Run: snwfmay3 with config:\n",
      "\u001b[34m\u001b[1mwandb\u001b[0m: \tactivation: relu\n",
      "\u001b[34m\u001b[1mwandb\u001b[0m: \tbatch_size: 32\n",
      "\u001b[34m\u001b[1mwandb\u001b[0m: \tinitializer: random\n",
      "\u001b[34m\u001b[1mwandb\u001b[0m: \tlearning_rate: 0.001\n",
      "\u001b[34m\u001b[1mwandb\u001b[0m: \tmax_epochs: 10\n",
      "\u001b[34m\u001b[1mwandb\u001b[0m: \tnum_hidden_neurons: 128\n",
      "\u001b[34m\u001b[1mwandb\u001b[0m: \tnum_layers: 5\n",
      "\u001b[34m\u001b[1mwandb\u001b[0m: \toptimizer: momentum\n",
      "\u001b[34m\u001b[1mwandb\u001b[0m: \tweight_decay: 0.5\n"
     ]
    },
    {
     "data": {
      "text/html": [
       "Tracking run with wandb version 0.16.3"
      ],
      "text/plain": [
       "<IPython.core.display.HTML object>"
      ]
     },
     "metadata": {},
     "output_type": "display_data"
    },
    {
     "data": {
      "text/html": [
       "Run data is saved locally in <code>/content/wandb/run-20240229_184149-snwfmay3</code>"
      ],
      "text/plain": [
       "<IPython.core.display.HTML object>"
      ]
     },
     "metadata": {},
     "output_type": "display_data"
    },
    {
     "data": {
      "text/html": [
       "Syncing run <strong><a href='https://wandb.ai/brianmwigo/DeepLearningHomework1/runs/snwfmay3' target=\"_blank\">gentle-sweep-4</a></strong> to <a href='https://wandb.ai/brianmwigo/DeepLearningHomework1' target=\"_blank\">Weights & Biases</a> (<a href='https://wandb.me/run' target=\"_blank\">docs</a>)<br/>Sweep page: <a href='https://wandb.ai/brianmwigo/DeepLearningHomework1/sweeps/esqa44ap' target=\"_blank\">https://wandb.ai/brianmwigo/DeepLearningHomework1/sweeps/esqa44ap</a>"
      ],
      "text/plain": [
       "<IPython.core.display.HTML object>"
      ]
     },
     "metadata": {},
     "output_type": "display_data"
    },
    {
     "data": {
      "text/html": [
       " View project at <a href='https://wandb.ai/brianmwigo/DeepLearningHomework1' target=\"_blank\">https://wandb.ai/brianmwigo/DeepLearningHomework1</a>"
      ],
      "text/plain": [
       "<IPython.core.display.HTML object>"
      ]
     },
     "metadata": {},
     "output_type": "display_data"
    },
    {
     "data": {
      "text/html": [
       " View sweep at <a href='https://wandb.ai/brianmwigo/DeepLearningHomework1/sweeps/esqa44ap' target=\"_blank\">https://wandb.ai/brianmwigo/DeepLearningHomework1/sweeps/esqa44ap</a>"
      ],
      "text/plain": [
       "<IPython.core.display.HTML object>"
      ]
     },
     "metadata": {},
     "output_type": "display_data"
    },
    {
     "data": {
      "text/html": [
       " View run at <a href='https://wandb.ai/brianmwigo/DeepLearningHomework1/runs/snwfmay3' target=\"_blank\">https://wandb.ai/brianmwigo/DeepLearningHomework1/runs/snwfmay3</a>"
      ],
      "text/plain": [
       "<IPython.core.display.HTML object>"
      ]
     },
     "metadata": {},
     "output_type": "display_data"
    },
    {
     "name": "stdout",
     "output_type": "stream",
     "text": [
      "epoch: 0, loss: 1.770e-01, accuracy_train: 0.63, accuracy_val: 0.62, learning rate: 1.000e-03\n",
      "epoch: 1, loss: 9.590e-02, accuracy_train: 0.68, accuracy_val: 0.66, learning rate: 1.000e-03\n",
      "epoch: 2, loss: 8.589e-02, accuracy_train: 0.70, accuracy_val: 0.69, learning rate: 1.000e-03\n",
      "epoch: 3, loss: 8.055e-02, accuracy_train: 0.71, accuracy_val: 0.70, learning rate: 1.000e-03\n",
      "epoch: 4, loss: 7.693e-02, accuracy_train: 0.72, accuracy_val: 0.71, learning rate: 1.000e-03\n",
      "epoch: 5, loss: 7.428e-02, accuracy_train: 0.73, accuracy_val: 0.72, learning rate: 1.000e-03\n",
      "epoch: 6, loss: 7.209e-02, accuracy_train: 0.74, accuracy_val: 0.73, learning rate: 1.000e-03\n",
      "epoch: 7, loss: 7.042e-02, accuracy_train: 0.74, accuracy_val: 0.73, learning rate: 1.000e-03\n",
      "epoch: 8, loss: 6.891e-02, accuracy_train: 0.75, accuracy_val: 0.74, learning rate: 1.000e-03\n",
      "epoch: 9, loss: 6.773e-02, accuracy_train: 0.75, accuracy_val: 0.74, learning rate: 1.000e-03\n"
     ]
    },
    {
     "data": {
      "application/vnd.jupyter.widget-view+json": {
       "model_id": "9d360112a1934fccb712a77f23f70d23",
       "version_major": 2,
       "version_minor": 0
      },
      "text/plain": [
       "VBox(children=(Label(value='0.001 MB of 0.001 MB uploaded\\r'), FloatProgress(value=1.0, max=1.0)))"
      ]
     },
     "metadata": {},
     "output_type": "display_data"
    },
    {
     "data": {
      "text/html": [
       "<style>\n",
       "    table.wandb td:nth-child(1) { padding: 0 10px; text-align: left ; width: auto;} td:nth-child(2) {text-align: left ; width: 100%}\n",
       "    .wandb-row { display: flex; flex-direction: row; flex-wrap: wrap; justify-content: flex-start; width: 100% }\n",
       "    .wandb-col { display: flex; flex-direction: column; flex-basis: 100%; flex: 1; padding: 10px; }\n",
       "    </style>\n",
       "<div class=\"wandb-row\"><div class=\"wandb-col\"><h3>Run history:</h3><br/><table class=\"wandb\"><tr><td>epoch</td><td>▁▂▃▃▄▅▆▆▇█</td></tr><tr><td>loss</td><td>█▅▄▃▂▂▂▁▁▁</td></tr><tr><td>trainingaccuracy</td><td>▁▄▅▆▆▇▇▇██</td></tr><tr><td>validationaccuracy</td><td>▁▄▅▆▇▇▇███</td></tr></table><br/></div><div class=\"wandb-col\"><h3>Run summary:</h3><br/><table class=\"wandb\"><tr><td>epoch</td><td>9</td></tr><tr><td>loss</td><td>0.08697</td></tr><tr><td>trainingaccuracy</td><td>0.754</td></tr><tr><td>validationaccuracy</td><td>0.73717</td></tr></table><br/></div></div>"
      ],
      "text/plain": [
       "<IPython.core.display.HTML object>"
      ]
     },
     "metadata": {},
     "output_type": "display_data"
    },
    {
     "data": {
      "text/html": [
       " View run <strong style=\"color:#cdcd00\">gentle-sweep-4</strong> at: <a href='https://wandb.ai/brianmwigo/DeepLearningHomework1/runs/snwfmay3' target=\"_blank\">https://wandb.ai/brianmwigo/DeepLearningHomework1/runs/snwfmay3</a><br/>Synced 5 W&B file(s), 0 media file(s), 0 artifact file(s) and 0 other file(s)"
      ],
      "text/plain": [
       "<IPython.core.display.HTML object>"
      ]
     },
     "metadata": {},
     "output_type": "display_data"
    },
    {
     "data": {
      "text/html": [
       "Find logs at: <code>./wandb/run-20240229_184149-snwfmay3/logs</code>"
      ],
      "text/plain": [
       "<IPython.core.display.HTML object>"
      ]
     },
     "metadata": {},
     "output_type": "display_data"
    },
    {
     "name": "stderr",
     "output_type": "stream",
     "text": [
      "\u001b[34m\u001b[1mwandb\u001b[0m: Agent Starting Run: 0iwy3xib with config:\n",
      "\u001b[34m\u001b[1mwandb\u001b[0m: \tactivation: tanh\n",
      "\u001b[34m\u001b[1mwandb\u001b[0m: \tbatch_size: 32\n",
      "\u001b[34m\u001b[1mwandb\u001b[0m: \tinitializer: xavier\n",
      "\u001b[34m\u001b[1mwandb\u001b[0m: \tlearning_rate: 0.0001\n",
      "\u001b[34m\u001b[1mwandb\u001b[0m: \tmax_epochs: 10\n",
      "\u001b[34m\u001b[1mwandb\u001b[0m: \tnum_hidden_neurons: 64\n",
      "\u001b[34m\u001b[1mwandb\u001b[0m: \tnum_layers: 5\n",
      "\u001b[34m\u001b[1mwandb\u001b[0m: \toptimizer: momentum\n",
      "\u001b[34m\u001b[1mwandb\u001b[0m: \tweight_decay: 0\n"
     ]
    },
    {
     "data": {
      "text/html": [
       "Tracking run with wandb version 0.16.3"
      ],
      "text/plain": [
       "<IPython.core.display.HTML object>"
      ]
     },
     "metadata": {},
     "output_type": "display_data"
    },
    {
     "data": {
      "text/html": [
       "Run data is saved locally in <code>/content/wandb/run-20240229_185107-0iwy3xib</code>"
      ],
      "text/plain": [
       "<IPython.core.display.HTML object>"
      ]
     },
     "metadata": {},
     "output_type": "display_data"
    },
    {
     "data": {
      "text/html": [
       "Syncing run <strong><a href='https://wandb.ai/brianmwigo/DeepLearningHomework1/runs/0iwy3xib' target=\"_blank\">chocolate-sweep-5</a></strong> to <a href='https://wandb.ai/brianmwigo/DeepLearningHomework1' target=\"_blank\">Weights & Biases</a> (<a href='https://wandb.me/run' target=\"_blank\">docs</a>)<br/>Sweep page: <a href='https://wandb.ai/brianmwigo/DeepLearningHomework1/sweeps/esqa44ap' target=\"_blank\">https://wandb.ai/brianmwigo/DeepLearningHomework1/sweeps/esqa44ap</a>"
      ],
      "text/plain": [
       "<IPython.core.display.HTML object>"
      ]
     },
     "metadata": {},
     "output_type": "display_data"
    },
    {
     "data": {
      "text/html": [
       " View project at <a href='https://wandb.ai/brianmwigo/DeepLearningHomework1' target=\"_blank\">https://wandb.ai/brianmwigo/DeepLearningHomework1</a>"
      ],
      "text/plain": [
       "<IPython.core.display.HTML object>"
      ]
     },
     "metadata": {},
     "output_type": "display_data"
    },
    {
     "data": {
      "text/html": [
       " View sweep at <a href='https://wandb.ai/brianmwigo/DeepLearningHomework1/sweeps/esqa44ap' target=\"_blank\">https://wandb.ai/brianmwigo/DeepLearningHomework1/sweeps/esqa44ap</a>"
      ],
      "text/plain": [
       "<IPython.core.display.HTML object>"
      ]
     },
     "metadata": {},
     "output_type": "display_data"
    },
    {
     "data": {
      "text/html": [
       " View run at <a href='https://wandb.ai/brianmwigo/DeepLearningHomework1/runs/0iwy3xib' target=\"_blank\">https://wandb.ai/brianmwigo/DeepLearningHomework1/runs/0iwy3xib</a>"
      ],
      "text/plain": [
       "<IPython.core.display.HTML object>"
      ]
     },
     "metadata": {},
     "output_type": "display_data"
    },
    {
     "name": "stdout",
     "output_type": "stream",
     "text": [
      "epoch: 0, loss: 8.566e-02, accuracy_train: 0.78, accuracy_val: 0.78, learning rate: 1.000e-03\n",
      "epoch: 1, loss: 5.349e-02, accuracy_train: 0.82, accuracy_val: 0.82, learning rate: 1.000e-03\n",
      "epoch: 2, loss: 4.820e-02, accuracy_train: 0.84, accuracy_val: 0.84, learning rate: 1.000e-03\n",
      "epoch: 3, loss: 4.534e-02, accuracy_train: 0.85, accuracy_val: 0.84, learning rate: 1.000e-03\n",
      "epoch: 4, loss: 4.334e-02, accuracy_train: 0.85, accuracy_val: 0.85, learning rate: 1.000e-03\n",
      "epoch: 5, loss: 4.176e-02, accuracy_train: 0.86, accuracy_val: 0.85, learning rate: 1.000e-03\n",
      "epoch: 6, loss: 4.037e-02, accuracy_train: 0.86, accuracy_val: 0.85, learning rate: 1.000e-03\n",
      "epoch: 7, loss: 3.915e-02, accuracy_train: 0.87, accuracy_val: 0.85, learning rate: 1.000e-03\n",
      "epoch: 8, loss: 3.807e-02, accuracy_train: 0.87, accuracy_val: 0.85, learning rate: 1.000e-03\n",
      "epoch: 9, loss: 3.713e-02, accuracy_train: 0.87, accuracy_val: 0.86, learning rate: 1.000e-03\n"
     ]
    },
    {
     "data": {
      "application/vnd.jupyter.widget-view+json": {
       "model_id": "11ec17c4785041c3872d4688cac2c915",
       "version_major": 2,
       "version_minor": 0
      },
      "text/plain": [
       "VBox(children=(Label(value='0.001 MB of 0.001 MB uploaded\\r'), FloatProgress(value=1.0, max=1.0)))"
      ]
     },
     "metadata": {},
     "output_type": "display_data"
    },
    {
     "data": {
      "text/html": [
       "<style>\n",
       "    table.wandb td:nth-child(1) { padding: 0 10px; text-align: left ; width: auto;} td:nth-child(2) {text-align: left ; width: 100%}\n",
       "    .wandb-row { display: flex; flex-direction: row; flex-wrap: wrap; justify-content: flex-start; width: 100% }\n",
       "    .wandb-col { display: flex; flex-direction: column; flex-basis: 100%; flex: 1; padding: 10px; }\n",
       "    </style>\n",
       "<div class=\"wandb-row\"><div class=\"wandb-col\"><h3>Run history:</h3><br/><table class=\"wandb\"><tr><td>epoch</td><td>▁▂▃▃▄▅▆▆▇█</td></tr><tr><td>loss</td><td>█▅▄▃▂▂▂▁▁▁</td></tr><tr><td>trainingaccuracy</td><td>▁▄▆▆▇▇████</td></tr><tr><td>validationaccuracy</td><td>▁▅▆▇▇▇████</td></tr></table><br/></div><div class=\"wandb-col\"><h3>Run summary:</h3><br/><table class=\"wandb\"><tr><td>epoch</td><td>9</td></tr><tr><td>loss</td><td>0.04725</td></tr><tr><td>trainingaccuracy</td><td>0.87028</td></tr><tr><td>validationaccuracy</td><td>0.856</td></tr></table><br/></div></div>"
      ],
      "text/plain": [
       "<IPython.core.display.HTML object>"
      ]
     },
     "metadata": {},
     "output_type": "display_data"
    },
    {
     "data": {
      "text/html": [
       " View run <strong style=\"color:#cdcd00\">chocolate-sweep-5</strong> at: <a href='https://wandb.ai/brianmwigo/DeepLearningHomework1/runs/0iwy3xib' target=\"_blank\">https://wandb.ai/brianmwigo/DeepLearningHomework1/runs/0iwy3xib</a><br/>Synced 5 W&B file(s), 0 media file(s), 0 artifact file(s) and 0 other file(s)"
      ],
      "text/plain": [
       "<IPython.core.display.HTML object>"
      ]
     },
     "metadata": {},
     "output_type": "display_data"
    },
    {
     "data": {
      "text/html": [
       "Find logs at: <code>./wandb/run-20240229_185107-0iwy3xib/logs</code>"
      ],
      "text/plain": [
       "<IPython.core.display.HTML object>"
      ]
     },
     "metadata": {},
     "output_type": "display_data"
    },
    {
     "name": "stderr",
     "output_type": "stream",
     "text": [
      "\u001b[34m\u001b[1mwandb\u001b[0m: Agent Starting Run: t00kfrw6 with config:\n",
      "\u001b[34m\u001b[1mwandb\u001b[0m: \tactivation: tanh\n",
      "\u001b[34m\u001b[1mwandb\u001b[0m: \tbatch_size: 32\n",
      "\u001b[34m\u001b[1mwandb\u001b[0m: \tinitializer: xavier\n",
      "\u001b[34m\u001b[1mwandb\u001b[0m: \tlearning_rate: 0.001\n",
      "\u001b[34m\u001b[1mwandb\u001b[0m: \tmax_epochs: 10\n",
      "\u001b[34m\u001b[1mwandb\u001b[0m: \tnum_hidden_neurons: 128\n",
      "\u001b[34m\u001b[1mwandb\u001b[0m: \tnum_layers: 5\n",
      "\u001b[34m\u001b[1mwandb\u001b[0m: \toptimizer: nesterov\n",
      "\u001b[34m\u001b[1mwandb\u001b[0m: \tweight_decay: 0\n"
     ]
    },
    {
     "data": {
      "text/html": [
       "Tracking run with wandb version 0.16.3"
      ],
      "text/plain": [
       "<IPython.core.display.HTML object>"
      ]
     },
     "metadata": {},
     "output_type": "display_data"
    },
    {
     "data": {
      "text/html": [
       "Run data is saved locally in <code>/content/wandb/run-20240229_190006-t00kfrw6</code>"
      ],
      "text/plain": [
       "<IPython.core.display.HTML object>"
      ]
     },
     "metadata": {},
     "output_type": "display_data"
    },
    {
     "data": {
      "text/html": [
       "Syncing run <strong><a href='https://wandb.ai/brianmwigo/DeepLearningHomework1/runs/t00kfrw6' target=\"_blank\">exalted-sweep-6</a></strong> to <a href='https://wandb.ai/brianmwigo/DeepLearningHomework1' target=\"_blank\">Weights & Biases</a> (<a href='https://wandb.me/run' target=\"_blank\">docs</a>)<br/>Sweep page: <a href='https://wandb.ai/brianmwigo/DeepLearningHomework1/sweeps/esqa44ap' target=\"_blank\">https://wandb.ai/brianmwigo/DeepLearningHomework1/sweeps/esqa44ap</a>"
      ],
      "text/plain": [
       "<IPython.core.display.HTML object>"
      ]
     },
     "metadata": {},
     "output_type": "display_data"
    },
    {
     "data": {
      "text/html": [
       " View project at <a href='https://wandb.ai/brianmwigo/DeepLearningHomework1' target=\"_blank\">https://wandb.ai/brianmwigo/DeepLearningHomework1</a>"
      ],
      "text/plain": [
       "<IPython.core.display.HTML object>"
      ]
     },
     "metadata": {},
     "output_type": "display_data"
    },
    {
     "data": {
      "text/html": [
       " View sweep at <a href='https://wandb.ai/brianmwigo/DeepLearningHomework1/sweeps/esqa44ap' target=\"_blank\">https://wandb.ai/brianmwigo/DeepLearningHomework1/sweeps/esqa44ap</a>"
      ],
      "text/plain": [
       "<IPython.core.display.HTML object>"
      ]
     },
     "metadata": {},
     "output_type": "display_data"
    },
    {
     "data": {
      "text/html": [
       " View run at <a href='https://wandb.ai/brianmwigo/DeepLearningHomework1/runs/t00kfrw6' target=\"_blank\">https://wandb.ai/brianmwigo/DeepLearningHomework1/runs/t00kfrw6</a>"
      ],
      "text/plain": [
       "<IPython.core.display.HTML object>"
      ]
     },
     "metadata": {},
     "output_type": "display_data"
    },
    {
     "name": "stdout",
     "output_type": "stream",
     "text": [
      "epoch: 0, loss: 9.029e-02, accuracy_train: 0.79, accuracy_val: 0.78, learning rate: 1.000e-03\n",
      "epoch: 1, loss: 5.271e-02, accuracy_train: 0.83, accuracy_val: 0.82, learning rate: 1.000e-03\n",
      "epoch: 2, loss: 4.679e-02, accuracy_train: 0.84, accuracy_val: 0.84, learning rate: 1.000e-03\n",
      "epoch: 3, loss: 4.373e-02, accuracy_train: 0.85, accuracy_val: 0.84, learning rate: 1.000e-03\n",
      "epoch: 4, loss: 4.166e-02, accuracy_train: 0.86, accuracy_val: 0.85, learning rate: 1.000e-03\n",
      "epoch: 5, loss: 4.018e-02, accuracy_train: 0.86, accuracy_val: 0.85, learning rate: 1.000e-03\n",
      "epoch: 6, loss: 3.893e-02, accuracy_train: 0.87, accuracy_val: 0.85, learning rate: 1.000e-03\n",
      "epoch: 7, loss: 3.790e-02, accuracy_train: 0.87, accuracy_val: 0.86, learning rate: 1.000e-03\n",
      "epoch: 8, loss: 3.698e-02, accuracy_train: 0.87, accuracy_val: 0.86, learning rate: 1.000e-03\n",
      "epoch: 9, loss: 3.617e-02, accuracy_train: 0.87, accuracy_val: 0.86, learning rate: 1.000e-03\n"
     ]
    },
    {
     "data": {
      "application/vnd.jupyter.widget-view+json": {
       "model_id": "a3f0493e462e4e329bf805f766ff6278",
       "version_major": 2,
       "version_minor": 0
      },
      "text/plain": [
       "VBox(children=(Label(value='0.012 MB of 0.012 MB uploaded\\r'), FloatProgress(value=1.0, max=1.0)))"
      ]
     },
     "metadata": {},
     "output_type": "display_data"
    },
    {
     "data": {
      "text/html": [
       "<style>\n",
       "    table.wandb td:nth-child(1) { padding: 0 10px; text-align: left ; width: auto;} td:nth-child(2) {text-align: left ; width: 100%}\n",
       "    .wandb-row { display: flex; flex-direction: row; flex-wrap: wrap; justify-content: flex-start; width: 100% }\n",
       "    .wandb-col { display: flex; flex-direction: column; flex-basis: 100%; flex: 1; padding: 10px; }\n",
       "    </style>\n",
       "<div class=\"wandb-row\"><div class=\"wandb-col\"><h3>Run history:</h3><br/><table class=\"wandb\"><tr><td>epoch</td><td>▁▂▃▃▄▅▆▆▇█</td></tr><tr><td>loss</td><td>█▅▄▃▂▂▂▁▁▁</td></tr><tr><td>trainingaccuracy</td><td>▁▄▅▆▇▇▇███</td></tr><tr><td>validationaccuracy</td><td>▁▅▆▇▇▇████</td></tr></table><br/></div><div class=\"wandb-col\"><h3>Run summary:</h3><br/><table class=\"wandb\"><tr><td>epoch</td><td>9</td></tr><tr><td>loss</td><td>0.04653</td></tr><tr><td>trainingaccuracy</td><td>0.87411</td></tr><tr><td>validationaccuracy</td><td>0.85767</td></tr></table><br/></div></div>"
      ],
      "text/plain": [
       "<IPython.core.display.HTML object>"
      ]
     },
     "metadata": {},
     "output_type": "display_data"
    },
    {
     "data": {
      "text/html": [
       " View run <strong style=\"color:#cdcd00\">exalted-sweep-6</strong> at: <a href='https://wandb.ai/brianmwigo/DeepLearningHomework1/runs/t00kfrw6' target=\"_blank\">https://wandb.ai/brianmwigo/DeepLearningHomework1/runs/t00kfrw6</a><br/>Synced 5 W&B file(s), 0 media file(s), 0 artifact file(s) and 0 other file(s)"
      ],
      "text/plain": [
       "<IPython.core.display.HTML object>"
      ]
     },
     "metadata": {},
     "output_type": "display_data"
    },
    {
     "data": {
      "text/html": [
       "Find logs at: <code>./wandb/run-20240229_190006-t00kfrw6/logs</code>"
      ],
      "text/plain": [
       "<IPython.core.display.HTML object>"
      ]
     },
     "metadata": {},
     "output_type": "display_data"
    },
    {
     "name": "stderr",
     "output_type": "stream",
     "text": [
      "\u001b[34m\u001b[1mwandb\u001b[0m: Agent Starting Run: ejdjtljs with config:\n",
      "\u001b[34m\u001b[1mwandb\u001b[0m: \tactivation: tanh\n",
      "\u001b[34m\u001b[1mwandb\u001b[0m: \tbatch_size: 16\n",
      "\u001b[34m\u001b[1mwandb\u001b[0m: \tinitializer: xavier\n",
      "\u001b[34m\u001b[1mwandb\u001b[0m: \tlearning_rate: 0.001\n",
      "\u001b[34m\u001b[1mwandb\u001b[0m: \tmax_epochs: 10\n",
      "\u001b[34m\u001b[1mwandb\u001b[0m: \tnum_hidden_neurons: 128\n",
      "\u001b[34m\u001b[1mwandb\u001b[0m: \tnum_layers: 5\n",
      "\u001b[34m\u001b[1mwandb\u001b[0m: \toptimizer: nesterov\n",
      "\u001b[34m\u001b[1mwandb\u001b[0m: \tweight_decay: 0\n"
     ]
    },
    {
     "data": {
      "text/html": [
       "Tracking run with wandb version 0.16.3"
      ],
      "text/plain": [
       "<IPython.core.display.HTML object>"
      ]
     },
     "metadata": {},
     "output_type": "display_data"
    },
    {
     "data": {
      "text/html": [
       "Run data is saved locally in <code>/content/wandb/run-20240229_190951-ejdjtljs</code>"
      ],
      "text/plain": [
       "<IPython.core.display.HTML object>"
      ]
     },
     "metadata": {},
     "output_type": "display_data"
    },
    {
     "data": {
      "text/html": [
       "Syncing run <strong><a href='https://wandb.ai/brianmwigo/DeepLearningHomework1/runs/ejdjtljs' target=\"_blank\">restful-sweep-7</a></strong> to <a href='https://wandb.ai/brianmwigo/DeepLearningHomework1' target=\"_blank\">Weights & Biases</a> (<a href='https://wandb.me/run' target=\"_blank\">docs</a>)<br/>Sweep page: <a href='https://wandb.ai/brianmwigo/DeepLearningHomework1/sweeps/esqa44ap' target=\"_blank\">https://wandb.ai/brianmwigo/DeepLearningHomework1/sweeps/esqa44ap</a>"
      ],
      "text/plain": [
       "<IPython.core.display.HTML object>"
      ]
     },
     "metadata": {},
     "output_type": "display_data"
    },
    {
     "data": {
      "text/html": [
       " View project at <a href='https://wandb.ai/brianmwigo/DeepLearningHomework1' target=\"_blank\">https://wandb.ai/brianmwigo/DeepLearningHomework1</a>"
      ],
      "text/plain": [
       "<IPython.core.display.HTML object>"
      ]
     },
     "metadata": {},
     "output_type": "display_data"
    },
    {
     "data": {
      "text/html": [
       " View sweep at <a href='https://wandb.ai/brianmwigo/DeepLearningHomework1/sweeps/esqa44ap' target=\"_blank\">https://wandb.ai/brianmwigo/DeepLearningHomework1/sweeps/esqa44ap</a>"
      ],
      "text/plain": [
       "<IPython.core.display.HTML object>"
      ]
     },
     "metadata": {},
     "output_type": "display_data"
    },
    {
     "data": {
      "text/html": [
       " View run at <a href='https://wandb.ai/brianmwigo/DeepLearningHomework1/runs/ejdjtljs' target=\"_blank\">https://wandb.ai/brianmwigo/DeepLearningHomework1/runs/ejdjtljs</a>"
      ],
      "text/plain": [
       "<IPython.core.display.HTML object>"
      ]
     },
     "metadata": {},
     "output_type": "display_data"
    },
    {
     "name": "stdout",
     "output_type": "stream",
     "text": [
      "epoch: 0, loss: 7.714e-02, accuracy_train: 0.80, accuracy_val: 0.79, learning rate: 1.000e-03\n",
      "epoch: 1, loss: 4.865e-02, accuracy_train: 0.82, accuracy_val: 0.81, learning rate: 1.000e-03\n",
      "epoch: 2, loss: 4.395e-02, accuracy_train: 0.83, accuracy_val: 0.82, learning rate: 1.000e-03\n",
      "epoch: 3, loss: 4.122e-02, accuracy_train: 0.84, accuracy_val: 0.83, learning rate: 1.000e-03\n",
      "epoch: 4, loss: 3.930e-02, accuracy_train: 0.86, accuracy_val: 0.84, learning rate: 1.000e-03\n",
      "epoch: 5, loss: 3.772e-02, accuracy_train: 0.86, accuracy_val: 0.85, learning rate: 1.000e-03\n",
      "epoch: 6, loss: 3.647e-02, accuracy_train: 0.86, accuracy_val: 0.85, learning rate: 1.000e-03\n",
      "epoch: 7, loss: 3.542e-02, accuracy_train: 0.87, accuracy_val: 0.85, learning rate: 1.000e-03\n",
      "epoch: 8, loss: 3.447e-02, accuracy_train: 0.87, accuracy_val: 0.86, learning rate: 1.000e-03\n",
      "epoch: 9, loss: 3.368e-02, accuracy_train: 0.87, accuracy_val: 0.86, learning rate: 1.000e-03\n"
     ]
    },
    {
     "data": {
      "application/vnd.jupyter.widget-view+json": {
       "model_id": "d56f2e2289644ae6965f6fdc8bb32b06",
       "version_major": 2,
       "version_minor": 0
      },
      "text/plain": [
       "VBox(children=(Label(value='0.001 MB of 0.001 MB uploaded\\r'), FloatProgress(value=1.0, max=1.0)))"
      ]
     },
     "metadata": {},
     "output_type": "display_data"
    },
    {
     "data": {
      "text/html": [
       "<style>\n",
       "    table.wandb td:nth-child(1) { padding: 0 10px; text-align: left ; width: auto;} td:nth-child(2) {text-align: left ; width: 100%}\n",
       "    .wandb-row { display: flex; flex-direction: row; flex-wrap: wrap; justify-content: flex-start; width: 100% }\n",
       "    .wandb-col { display: flex; flex-direction: column; flex-basis: 100%; flex: 1; padding: 10px; }\n",
       "    </style>\n",
       "<div class=\"wandb-row\"><div class=\"wandb-col\"><h3>Run history:</h3><br/><table class=\"wandb\"><tr><td>epoch</td><td>▁▂▃▃▄▅▆▆▇█</td></tr><tr><td>loss</td><td>█▅▄▃▂▂▂▁▁▁</td></tr><tr><td>trainingaccuracy</td><td>▁▃▄▅▆▇▇▇██</td></tr><tr><td>validationaccuracy</td><td>▁▃▄▅▆▇▇▇██</td></tr></table><br/></div><div class=\"wandb-col\"><h3>Run summary:</h3><br/><table class=\"wandb\"><tr><td>epoch</td><td>9</td></tr><tr><td>loss</td><td>0.0428</td></tr><tr><td>trainingaccuracy</td><td>0.87469</td></tr><tr><td>validationaccuracy</td><td>0.85933</td></tr></table><br/></div></div>"
      ],
      "text/plain": [
       "<IPython.core.display.HTML object>"
      ]
     },
     "metadata": {},
     "output_type": "display_data"
    },
    {
     "data": {
      "text/html": [
       " View run <strong style=\"color:#cdcd00\">restful-sweep-7</strong> at: <a href='https://wandb.ai/brianmwigo/DeepLearningHomework1/runs/ejdjtljs' target=\"_blank\">https://wandb.ai/brianmwigo/DeepLearningHomework1/runs/ejdjtljs</a><br/>Synced 5 W&B file(s), 0 media file(s), 0 artifact file(s) and 0 other file(s)"
      ],
      "text/plain": [
       "<IPython.core.display.HTML object>"
      ]
     },
     "metadata": {},
     "output_type": "display_data"
    },
    {
     "data": {
      "text/html": [
       "Find logs at: <code>./wandb/run-20240229_190951-ejdjtljs/logs</code>"
      ],
      "text/plain": [
       "<IPython.core.display.HTML object>"
      ]
     },
     "metadata": {},
     "output_type": "display_data"
    },
    {
     "name": "stderr",
     "output_type": "stream",
     "text": [
      "\u001b[34m\u001b[1mwandb\u001b[0m: Agent Starting Run: idtxowr4 with config:\n",
      "\u001b[34m\u001b[1mwandb\u001b[0m: \tactivation: relu\n",
      "\u001b[34m\u001b[1mwandb\u001b[0m: \tbatch_size: 16\n",
      "\u001b[34m\u001b[1mwandb\u001b[0m: \tinitializer: xavier\n",
      "\u001b[34m\u001b[1mwandb\u001b[0m: \tlearning_rate: 0.001\n",
      "\u001b[34m\u001b[1mwandb\u001b[0m: \tmax_epochs: 10\n",
      "\u001b[34m\u001b[1mwandb\u001b[0m: \tnum_hidden_neurons: 64\n",
      "\u001b[34m\u001b[1mwandb\u001b[0m: \tnum_layers: 3\n",
      "\u001b[34m\u001b[1mwandb\u001b[0m: \toptimizer: nesterov\n",
      "\u001b[34m\u001b[1mwandb\u001b[0m: \tweight_decay: 0\n"
     ]
    },
    {
     "data": {
      "text/html": [
       "Tracking run with wandb version 0.16.3"
      ],
      "text/plain": [
       "<IPython.core.display.HTML object>"
      ]
     },
     "metadata": {},
     "output_type": "display_data"
    },
    {
     "data": {
      "text/html": [
       "Run data is saved locally in <code>/content/wandb/run-20240229_191948-idtxowr4</code>"
      ],
      "text/plain": [
       "<IPython.core.display.HTML object>"
      ]
     },
     "metadata": {},
     "output_type": "display_data"
    },
    {
     "data": {
      "text/html": [
       "Syncing run <strong><a href='https://wandb.ai/brianmwigo/DeepLearningHomework1/runs/idtxowr4' target=\"_blank\">stellar-sweep-8</a></strong> to <a href='https://wandb.ai/brianmwigo/DeepLearningHomework1' target=\"_blank\">Weights & Biases</a> (<a href='https://wandb.me/run' target=\"_blank\">docs</a>)<br/>Sweep page: <a href='https://wandb.ai/brianmwigo/DeepLearningHomework1/sweeps/esqa44ap' target=\"_blank\">https://wandb.ai/brianmwigo/DeepLearningHomework1/sweeps/esqa44ap</a>"
      ],
      "text/plain": [
       "<IPython.core.display.HTML object>"
      ]
     },
     "metadata": {},
     "output_type": "display_data"
    },
    {
     "data": {
      "text/html": [
       " View project at <a href='https://wandb.ai/brianmwigo/DeepLearningHomework1' target=\"_blank\">https://wandb.ai/brianmwigo/DeepLearningHomework1</a>"
      ],
      "text/plain": [
       "<IPython.core.display.HTML object>"
      ]
     },
     "metadata": {},
     "output_type": "display_data"
    },
    {
     "data": {
      "text/html": [
       " View sweep at <a href='https://wandb.ai/brianmwigo/DeepLearningHomework1/sweeps/esqa44ap' target=\"_blank\">https://wandb.ai/brianmwigo/DeepLearningHomework1/sweeps/esqa44ap</a>"
      ],
      "text/plain": [
       "<IPython.core.display.HTML object>"
      ]
     },
     "metadata": {},
     "output_type": "display_data"
    },
    {
     "data": {
      "text/html": [
       " View run at <a href='https://wandb.ai/brianmwigo/DeepLearningHomework1/runs/idtxowr4' target=\"_blank\">https://wandb.ai/brianmwigo/DeepLearningHomework1/runs/idtxowr4</a>"
      ],
      "text/plain": [
       "<IPython.core.display.HTML object>"
      ]
     },
     "metadata": {},
     "output_type": "display_data"
    },
    {
     "name": "stdout",
     "output_type": "stream",
     "text": [
      "epoch: 0, loss: 7.004e-02, accuracy_train: 0.80, accuracy_val: 0.79, learning rate: 1.000e-03\n",
      "epoch: 1, loss: 4.703e-02, accuracy_train: 0.82, accuracy_val: 0.81, learning rate: 1.000e-03\n",
      "epoch: 2, loss: 4.269e-02, accuracy_train: 0.83, accuracy_val: 0.82, learning rate: 1.000e-03\n",
      "epoch: 3, loss: 4.003e-02, accuracy_train: 0.84, accuracy_val: 0.83, learning rate: 1.000e-03\n",
      "epoch: 4, loss: 3.821e-02, accuracy_train: 0.85, accuracy_val: 0.84, learning rate: 1.000e-03\n",
      "epoch: 5, loss: 3.677e-02, accuracy_train: 0.86, accuracy_val: 0.84, learning rate: 1.000e-03\n",
      "epoch: 6, loss: 3.555e-02, accuracy_train: 0.86, accuracy_val: 0.85, learning rate: 1.000e-03\n",
      "epoch: 7, loss: 3.453e-02, accuracy_train: 0.86, accuracy_val: 0.85, learning rate: 1.000e-03\n",
      "epoch: 8, loss: 3.361e-02, accuracy_train: 0.87, accuracy_val: 0.86, learning rate: 1.000e-03\n",
      "epoch: 9, loss: 3.285e-02, accuracy_train: 0.87, accuracy_val: 0.86, learning rate: 1.000e-03\n"
     ]
    },
    {
     "data": {
      "application/vnd.jupyter.widget-view+json": {
       "model_id": "1f12a85c74ff4a9dab56e0c10cb6b1cd",
       "version_major": 2,
       "version_minor": 0
      },
      "text/plain": [
       "VBox(children=(Label(value='0.001 MB of 0.012 MB uploaded\\r'), FloatProgress(value=0.08821598555719679, max=1.…"
      ]
     },
     "metadata": {},
     "output_type": "display_data"
    },
    {
     "data": {
      "text/html": [
       "<style>\n",
       "    table.wandb td:nth-child(1) { padding: 0 10px; text-align: left ; width: auto;} td:nth-child(2) {text-align: left ; width: 100%}\n",
       "    .wandb-row { display: flex; flex-direction: row; flex-wrap: wrap; justify-content: flex-start; width: 100% }\n",
       "    .wandb-col { display: flex; flex-direction: column; flex-basis: 100%; flex: 1; padding: 10px; }\n",
       "    </style>\n",
       "<div class=\"wandb-row\"><div class=\"wandb-col\"><h3>Run history:</h3><br/><table class=\"wandb\"><tr><td>epoch</td><td>▁▂▃▃▄▅▆▆▇█</td></tr><tr><td>loss</td><td>█▅▄▃▃▂▂▁▁▁</td></tr><tr><td>trainingaccuracy</td><td>▁▃▄▅▆▇▇▇██</td></tr><tr><td>validationaccuracy</td><td>▁▃▄▆▆▇▇▇██</td></tr></table><br/></div><div class=\"wandb-col\"><h3>Run summary:</h3><br/><table class=\"wandb\"><tr><td>epoch</td><td>9</td></tr><tr><td>loss</td><td>0.04113</td></tr><tr><td>trainingaccuracy</td><td>0.86928</td></tr><tr><td>validationaccuracy</td><td>0.85667</td></tr></table><br/></div></div>"
      ],
      "text/plain": [
       "<IPython.core.display.HTML object>"
      ]
     },
     "metadata": {},
     "output_type": "display_data"
    },
    {
     "data": {
      "text/html": [
       " View run <strong style=\"color:#cdcd00\">stellar-sweep-8</strong> at: <a href='https://wandb.ai/brianmwigo/DeepLearningHomework1/runs/idtxowr4' target=\"_blank\">https://wandb.ai/brianmwigo/DeepLearningHomework1/runs/idtxowr4</a><br/>Synced 5 W&B file(s), 0 media file(s), 0 artifact file(s) and 0 other file(s)"
      ],
      "text/plain": [
       "<IPython.core.display.HTML object>"
      ]
     },
     "metadata": {},
     "output_type": "display_data"
    },
    {
     "data": {
      "text/html": [
       "Find logs at: <code>./wandb/run-20240229_191948-idtxowr4/logs</code>"
      ],
      "text/plain": [
       "<IPython.core.display.HTML object>"
      ]
     },
     "metadata": {},
     "output_type": "display_data"
    },
    {
     "name": "stderr",
     "output_type": "stream",
     "text": [
      "\u001b[34m\u001b[1mwandb\u001b[0m: Agent Starting Run: qj5w0op9 with config:\n",
      "\u001b[34m\u001b[1mwandb\u001b[0m: \tactivation: tanh\n",
      "\u001b[34m\u001b[1mwandb\u001b[0m: \tbatch_size: 16\n",
      "\u001b[34m\u001b[1mwandb\u001b[0m: \tinitializer: xavier\n",
      "\u001b[34m\u001b[1mwandb\u001b[0m: \tlearning_rate: 0.0001\n",
      "\u001b[34m\u001b[1mwandb\u001b[0m: \tmax_epochs: 10\n",
      "\u001b[34m\u001b[1mwandb\u001b[0m: \tnum_hidden_neurons: 128\n",
      "\u001b[34m\u001b[1mwandb\u001b[0m: \tnum_layers: 5\n",
      "\u001b[34m\u001b[1mwandb\u001b[0m: \toptimizer: nesterov\n",
      "\u001b[34m\u001b[1mwandb\u001b[0m: \tweight_decay: 0\n"
     ]
    },
    {
     "data": {
      "text/html": [
       "Tracking run with wandb version 0.16.3"
      ],
      "text/plain": [
       "<IPython.core.display.HTML object>"
      ]
     },
     "metadata": {},
     "output_type": "display_data"
    },
    {
     "data": {
      "text/html": [
       "Run data is saved locally in <code>/content/wandb/run-20240229_192956-qj5w0op9</code>"
      ],
      "text/plain": [
       "<IPython.core.display.HTML object>"
      ]
     },
     "metadata": {},
     "output_type": "display_data"
    },
    {
     "data": {
      "text/html": [
       "Syncing run <strong><a href='https://wandb.ai/brianmwigo/DeepLearningHomework1/runs/qj5w0op9' target=\"_blank\">denim-sweep-9</a></strong> to <a href='https://wandb.ai/brianmwigo/DeepLearningHomework1' target=\"_blank\">Weights & Biases</a> (<a href='https://wandb.me/run' target=\"_blank\">docs</a>)<br/>Sweep page: <a href='https://wandb.ai/brianmwigo/DeepLearningHomework1/sweeps/esqa44ap' target=\"_blank\">https://wandb.ai/brianmwigo/DeepLearningHomework1/sweeps/esqa44ap</a>"
      ],
      "text/plain": [
       "<IPython.core.display.HTML object>"
      ]
     },
     "metadata": {},
     "output_type": "display_data"
    },
    {
     "data": {
      "text/html": [
       " View project at <a href='https://wandb.ai/brianmwigo/DeepLearningHomework1' target=\"_blank\">https://wandb.ai/brianmwigo/DeepLearningHomework1</a>"
      ],
      "text/plain": [
       "<IPython.core.display.HTML object>"
      ]
     },
     "metadata": {},
     "output_type": "display_data"
    },
    {
     "data": {
      "text/html": [
       " View sweep at <a href='https://wandb.ai/brianmwigo/DeepLearningHomework1/sweeps/esqa44ap' target=\"_blank\">https://wandb.ai/brianmwigo/DeepLearningHomework1/sweeps/esqa44ap</a>"
      ],
      "text/plain": [
       "<IPython.core.display.HTML object>"
      ]
     },
     "metadata": {},
     "output_type": "display_data"
    },
    {
     "data": {
      "text/html": [
       " View run at <a href='https://wandb.ai/brianmwigo/DeepLearningHomework1/runs/qj5w0op9' target=\"_blank\">https://wandb.ai/brianmwigo/DeepLearningHomework1/runs/qj5w0op9</a>"
      ],
      "text/plain": [
       "<IPython.core.display.HTML object>"
      ]
     },
     "metadata": {},
     "output_type": "display_data"
    },
    {
     "name": "stdout",
     "output_type": "stream",
     "text": [
      "epoch: 0, loss: 7.593e-02, accuracy_train: 0.80, accuracy_val: 0.80, learning rate: 1.000e-03\n",
      "epoch: 1, loss: 4.849e-02, accuracy_train: 0.82, accuracy_val: 0.81, learning rate: 1.000e-03\n",
      "epoch: 2, loss: 4.382e-02, accuracy_train: 0.83, accuracy_val: 0.82, learning rate: 1.000e-03\n",
      "epoch: 3, loss: 4.095e-02, accuracy_train: 0.84, accuracy_val: 0.83, learning rate: 1.000e-03\n",
      "epoch: 4, loss: 3.896e-02, accuracy_train: 0.85, accuracy_val: 0.84, learning rate: 1.000e-03\n",
      "epoch: 5, loss: 3.743e-02, accuracy_train: 0.86, accuracy_val: 0.85, learning rate: 1.000e-03\n",
      "epoch: 6, loss: 3.608e-02, accuracy_train: 0.86, accuracy_val: 0.85, learning rate: 1.000e-03\n",
      "epoch: 7, loss: 3.497e-02, accuracy_train: 0.87, accuracy_val: 0.85, learning rate: 1.000e-03\n",
      "epoch: 8, loss: 3.410e-02, accuracy_train: 0.87, accuracy_val: 0.85, learning rate: 1.000e-03\n",
      "epoch: 9, loss: 3.328e-02, accuracy_train: 0.87, accuracy_val: 0.85, learning rate: 1.000e-03\n"
     ]
    },
    {
     "data": {
      "application/vnd.jupyter.widget-view+json": {
       "model_id": "8bb04608bb3b4322b2cc5d1e1a8d4b78",
       "version_major": 2,
       "version_minor": 0
      },
      "text/plain": [
       "VBox(children=(Label(value='0.001 MB of 0.011 MB uploaded\\r'), FloatProgress(value=0.09754990925589836, max=1.…"
      ]
     },
     "metadata": {},
     "output_type": "display_data"
    },
    {
     "data": {
      "text/html": [
       "<style>\n",
       "    table.wandb td:nth-child(1) { padding: 0 10px; text-align: left ; width: auto;} td:nth-child(2) {text-align: left ; width: 100%}\n",
       "    .wandb-row { display: flex; flex-direction: row; flex-wrap: wrap; justify-content: flex-start; width: 100% }\n",
       "    .wandb-col { display: flex; flex-direction: column; flex-basis: 100%; flex: 1; padding: 10px; }\n",
       "    </style>\n",
       "<div class=\"wandb-row\"><div class=\"wandb-col\"><h3>Run history:</h3><br/><table class=\"wandb\"><tr><td>epoch</td><td>▁▂▃▃▄▅▆▆▇█</td></tr><tr><td>loss</td><td>█▅▄▃▃▂▂▁▁▁</td></tr><tr><td>trainingaccuracy</td><td>▁▃▄▅▆▇▇▇██</td></tr><tr><td>validationaccuracy</td><td>▁▃▄▆▇▇▇▇██</td></tr></table><br/></div><div class=\"wandb-col\"><h3>Run summary:</h3><br/><table class=\"wandb\"><tr><td>epoch</td><td>9</td></tr><tr><td>loss</td><td>0.0424</td></tr><tr><td>trainingaccuracy</td><td>0.87159</td></tr><tr><td>validationaccuracy</td><td>0.8535</td></tr></table><br/></div></div>"
      ],
      "text/plain": [
       "<IPython.core.display.HTML object>"
      ]
     },
     "metadata": {},
     "output_type": "display_data"
    },
    {
     "data": {
      "text/html": [
       " View run <strong style=\"color:#cdcd00\">denim-sweep-9</strong> at: <a href='https://wandb.ai/brianmwigo/DeepLearningHomework1/runs/qj5w0op9' target=\"_blank\">https://wandb.ai/brianmwigo/DeepLearningHomework1/runs/qj5w0op9</a><br/>Synced 5 W&B file(s), 0 media file(s), 0 artifact file(s) and 0 other file(s)"
      ],
      "text/plain": [
       "<IPython.core.display.HTML object>"
      ]
     },
     "metadata": {},
     "output_type": "display_data"
    },
    {
     "data": {
      "text/html": [
       "Find logs at: <code>./wandb/run-20240229_192956-qj5w0op9/logs</code>"
      ],
      "text/plain": [
       "<IPython.core.display.HTML object>"
      ]
     },
     "metadata": {},
     "output_type": "display_data"
    },
    {
     "name": "stderr",
     "output_type": "stream",
     "text": [
      "\u001b[34m\u001b[1mwandb\u001b[0m: Agent Starting Run: amicxuy3 with config:\n",
      "\u001b[34m\u001b[1mwandb\u001b[0m: \tactivation: relu\n",
      "\u001b[34m\u001b[1mwandb\u001b[0m: \tbatch_size: 32\n",
      "\u001b[34m\u001b[1mwandb\u001b[0m: \tinitializer: xavier\n",
      "\u001b[34m\u001b[1mwandb\u001b[0m: \tlearning_rate: 0.0001\n",
      "\u001b[34m\u001b[1mwandb\u001b[0m: \tmax_epochs: 10\n",
      "\u001b[34m\u001b[1mwandb\u001b[0m: \tnum_hidden_neurons: 64\n",
      "\u001b[34m\u001b[1mwandb\u001b[0m: \tnum_layers: 5\n",
      "\u001b[34m\u001b[1mwandb\u001b[0m: \toptimizer: nesterov\n",
      "\u001b[34m\u001b[1mwandb\u001b[0m: \tweight_decay: 0\n"
     ]
    },
    {
     "data": {
      "text/html": [
       "Tracking run with wandb version 0.16.3"
      ],
      "text/plain": [
       "<IPython.core.display.HTML object>"
      ]
     },
     "metadata": {},
     "output_type": "display_data"
    },
    {
     "data": {
      "text/html": [
       "Run data is saved locally in <code>/content/wandb/run-20240229_193952-amicxuy3</code>"
      ],
      "text/plain": [
       "<IPython.core.display.HTML object>"
      ]
     },
     "metadata": {},
     "output_type": "display_data"
    },
    {
     "data": {
      "text/html": [
       "Syncing run <strong><a href='https://wandb.ai/brianmwigo/DeepLearningHomework1/runs/amicxuy3' target=\"_blank\">wandering-sweep-10</a></strong> to <a href='https://wandb.ai/brianmwigo/DeepLearningHomework1' target=\"_blank\">Weights & Biases</a> (<a href='https://wandb.me/run' target=\"_blank\">docs</a>)<br/>Sweep page: <a href='https://wandb.ai/brianmwigo/DeepLearningHomework1/sweeps/esqa44ap' target=\"_blank\">https://wandb.ai/brianmwigo/DeepLearningHomework1/sweeps/esqa44ap</a>"
      ],
      "text/plain": [
       "<IPython.core.display.HTML object>"
      ]
     },
     "metadata": {},
     "output_type": "display_data"
    },
    {
     "data": {
      "text/html": [
       " View project at <a href='https://wandb.ai/brianmwigo/DeepLearningHomework1' target=\"_blank\">https://wandb.ai/brianmwigo/DeepLearningHomework1</a>"
      ],
      "text/plain": [
       "<IPython.core.display.HTML object>"
      ]
     },
     "metadata": {},
     "output_type": "display_data"
    },
    {
     "data": {
      "text/html": [
       " View sweep at <a href='https://wandb.ai/brianmwigo/DeepLearningHomework1/sweeps/esqa44ap' target=\"_blank\">https://wandb.ai/brianmwigo/DeepLearningHomework1/sweeps/esqa44ap</a>"
      ],
      "text/plain": [
       "<IPython.core.display.HTML object>"
      ]
     },
     "metadata": {},
     "output_type": "display_data"
    },
    {
     "data": {
      "text/html": [
       " View run at <a href='https://wandb.ai/brianmwigo/DeepLearningHomework1/runs/amicxuy3' target=\"_blank\">https://wandb.ai/brianmwigo/DeepLearningHomework1/runs/amicxuy3</a>"
      ],
      "text/plain": [
       "<IPython.core.display.HTML object>"
      ]
     },
     "metadata": {},
     "output_type": "display_data"
    },
    {
     "name": "stdout",
     "output_type": "stream",
     "text": [
      "epoch: 0, loss: 9.439e-02, accuracy_train: 0.78, accuracy_val: 0.78, learning rate: 1.000e-03\n",
      "epoch: 1, loss: 5.453e-02, accuracy_train: 0.82, accuracy_val: 0.81, learning rate: 1.000e-03\n",
      "epoch: 2, loss: 4.821e-02, accuracy_train: 0.83, accuracy_val: 0.82, learning rate: 1.000e-03\n",
      "epoch: 3, loss: 4.516e-02, accuracy_train: 0.84, accuracy_val: 0.83, learning rate: 1.000e-03\n",
      "epoch: 4, loss: 4.305e-02, accuracy_train: 0.85, accuracy_val: 0.84, learning rate: 1.000e-03\n",
      "epoch: 5, loss: 4.141e-02, accuracy_train: 0.86, accuracy_val: 0.85, learning rate: 1.000e-03\n",
      "epoch: 6, loss: 4.004e-02, accuracy_train: 0.86, accuracy_val: 0.85, learning rate: 1.000e-03\n",
      "epoch: 7, loss: 3.891e-02, accuracy_train: 0.86, accuracy_val: 0.85, learning rate: 1.000e-03\n",
      "epoch: 8, loss: 3.791e-02, accuracy_train: 0.87, accuracy_val: 0.85, learning rate: 1.000e-03\n",
      "epoch: 9, loss: 3.706e-02, accuracy_train: 0.87, accuracy_val: 0.86, learning rate: 1.000e-03\n"
     ]
    },
    {
     "data": {
      "application/vnd.jupyter.widget-view+json": {
       "model_id": "0199dfb7024841cf8ba420d281d2fa44",
       "version_major": 2,
       "version_minor": 0
      },
      "text/plain": [
       "VBox(children=(Label(value='0.001 MB of 0.001 MB uploaded\\r'), FloatProgress(value=1.0, max=1.0)))"
      ]
     },
     "metadata": {},
     "output_type": "display_data"
    },
    {
     "data": {
      "text/html": [
       "<style>\n",
       "    table.wandb td:nth-child(1) { padding: 0 10px; text-align: left ; width: auto;} td:nth-child(2) {text-align: left ; width: 100%}\n",
       "    .wandb-row { display: flex; flex-direction: row; flex-wrap: wrap; justify-content: flex-start; width: 100% }\n",
       "    .wandb-col { display: flex; flex-direction: column; flex-basis: 100%; flex: 1; padding: 10px; }\n",
       "    </style>\n",
       "<div class=\"wandb-row\"><div class=\"wandb-col\"><h3>Run history:</h3><br/><table class=\"wandb\"><tr><td>epoch</td><td>▁▂▃▃▄▅▆▆▇█</td></tr><tr><td>loss</td><td>█▅▄▃▂▂▂▁▁▁</td></tr><tr><td>trainingaccuracy</td><td>▁▄▅▆▇▇▇███</td></tr><tr><td>validationaccuracy</td><td>▁▄▅▆▇▇▇███</td></tr></table><br/></div><div class=\"wandb-col\"><h3>Run summary:</h3><br/><table class=\"wandb\"><tr><td>epoch</td><td>9</td></tr><tr><td>loss</td><td>0.04807</td></tr><tr><td>trainingaccuracy</td><td>0.86759</td></tr><tr><td>validationaccuracy</td><td>0.85583</td></tr></table><br/></div></div>"
      ],
      "text/plain": [
       "<IPython.core.display.HTML object>"
      ]
     },
     "metadata": {},
     "output_type": "display_data"
    },
    {
     "data": {
      "text/html": [
       " View run <strong style=\"color:#cdcd00\">wandering-sweep-10</strong> at: <a href='https://wandb.ai/brianmwigo/DeepLearningHomework1/runs/amicxuy3' target=\"_blank\">https://wandb.ai/brianmwigo/DeepLearningHomework1/runs/amicxuy3</a><br/>Synced 5 W&B file(s), 0 media file(s), 0 artifact file(s) and 0 other file(s)"
      ],
      "text/plain": [
       "<IPython.core.display.HTML object>"
      ]
     },
     "metadata": {},
     "output_type": "display_data"
    },
    {
     "data": {
      "text/html": [
       "Find logs at: <code>./wandb/run-20240229_193952-amicxuy3/logs</code>"
      ],
      "text/plain": [
       "<IPython.core.display.HTML object>"
      ]
     },
     "metadata": {},
     "output_type": "display_data"
    },
    {
     "name": "stderr",
     "output_type": "stream",
     "text": [
      "\u001b[34m\u001b[1mwandb\u001b[0m: Agent Starting Run: kwqki483 with config:\n",
      "\u001b[34m\u001b[1mwandb\u001b[0m: \tactivation: tanh\n",
      "\u001b[34m\u001b[1mwandb\u001b[0m: \tbatch_size: 16\n",
      "\u001b[34m\u001b[1mwandb\u001b[0m: \tinitializer: xavier\n",
      "\u001b[34m\u001b[1mwandb\u001b[0m: \tlearning_rate: 0.001\n",
      "\u001b[34m\u001b[1mwandb\u001b[0m: \tmax_epochs: 10\n",
      "\u001b[34m\u001b[1mwandb\u001b[0m: \tnum_hidden_neurons: 32\n",
      "\u001b[34m\u001b[1mwandb\u001b[0m: \tnum_layers: 5\n",
      "\u001b[34m\u001b[1mwandb\u001b[0m: \toptimizer: momentum\n",
      "\u001b[34m\u001b[1mwandb\u001b[0m: \tweight_decay: 0\n"
     ]
    },
    {
     "data": {
      "text/html": [
       "Tracking run with wandb version 0.16.3"
      ],
      "text/plain": [
       "<IPython.core.display.HTML object>"
      ]
     },
     "metadata": {},
     "output_type": "display_data"
    },
    {
     "data": {
      "text/html": [
       "Run data is saved locally in <code>/content/wandb/run-20240229_194929-kwqki483</code>"
      ],
      "text/plain": [
       "<IPython.core.display.HTML object>"
      ]
     },
     "metadata": {},
     "output_type": "display_data"
    },
    {
     "data": {
      "text/html": [
       "Syncing run <strong><a href='https://wandb.ai/brianmwigo/DeepLearningHomework1/runs/kwqki483' target=\"_blank\">neat-sweep-11</a></strong> to <a href='https://wandb.ai/brianmwigo/DeepLearningHomework1' target=\"_blank\">Weights & Biases</a> (<a href='https://wandb.me/run' target=\"_blank\">docs</a>)<br/>Sweep page: <a href='https://wandb.ai/brianmwigo/DeepLearningHomework1/sweeps/esqa44ap' target=\"_blank\">https://wandb.ai/brianmwigo/DeepLearningHomework1/sweeps/esqa44ap</a>"
      ],
      "text/plain": [
       "<IPython.core.display.HTML object>"
      ]
     },
     "metadata": {},
     "output_type": "display_data"
    },
    {
     "data": {
      "text/html": [
       " View project at <a href='https://wandb.ai/brianmwigo/DeepLearningHomework1' target=\"_blank\">https://wandb.ai/brianmwigo/DeepLearningHomework1</a>"
      ],
      "text/plain": [
       "<IPython.core.display.HTML object>"
      ]
     },
     "metadata": {},
     "output_type": "display_data"
    },
    {
     "data": {
      "text/html": [
       " View sweep at <a href='https://wandb.ai/brianmwigo/DeepLearningHomework1/sweeps/esqa44ap' target=\"_blank\">https://wandb.ai/brianmwigo/DeepLearningHomework1/sweeps/esqa44ap</a>"
      ],
      "text/plain": [
       "<IPython.core.display.HTML object>"
      ]
     },
     "metadata": {},
     "output_type": "display_data"
    },
    {
     "data": {
      "text/html": [
       " View run at <a href='https://wandb.ai/brianmwigo/DeepLearningHomework1/runs/kwqki483' target=\"_blank\">https://wandb.ai/brianmwigo/DeepLearningHomework1/runs/kwqki483</a>"
      ],
      "text/plain": [
       "<IPython.core.display.HTML object>"
      ]
     },
     "metadata": {},
     "output_type": "display_data"
    },
    {
     "name": "stdout",
     "output_type": "stream",
     "text": [
      "epoch: 0, loss: 7.241e-02, accuracy_train: 0.78, accuracy_val: 0.78, learning rate: 1.000e-03\n",
      "epoch: 1, loss: 4.737e-02, accuracy_train: 0.81, accuracy_val: 0.80, learning rate: 1.000e-03\n",
      "epoch: 2, loss: 4.295e-02, accuracy_train: 0.83, accuracy_val: 0.82, learning rate: 1.000e-03\n",
      "epoch: 3, loss: 4.040e-02, accuracy_train: 0.84, accuracy_val: 0.83, learning rate: 1.000e-03\n",
      "epoch: 4, loss: 3.854e-02, accuracy_train: 0.85, accuracy_val: 0.84, learning rate: 1.000e-03\n",
      "epoch: 5, loss: 3.710e-02, accuracy_train: 0.85, accuracy_val: 0.84, learning rate: 1.000e-03\n",
      "epoch: 6, loss: 3.590e-02, accuracy_train: 0.86, accuracy_val: 0.84, learning rate: 1.000e-03\n",
      "epoch: 7, loss: 3.483e-02, accuracy_train: 0.86, accuracy_val: 0.85, learning rate: 1.000e-03\n",
      "epoch: 8, loss: 3.386e-02, accuracy_train: 0.86, accuracy_val: 0.85, learning rate: 1.000e-03\n",
      "epoch: 9, loss: 3.302e-02, accuracy_train: 0.87, accuracy_val: 0.85, learning rate: 1.000e-03\n"
     ]
    },
    {
     "data": {
      "application/vnd.jupyter.widget-view+json": {
       "model_id": "e8c34efcfcd849d39cafbc92449503c0",
       "version_major": 2,
       "version_minor": 0
      },
      "text/plain": [
       "VBox(children=(Label(value='0.001 MB of 0.001 MB uploaded\\r'), FloatProgress(value=1.0, max=1.0)))"
      ]
     },
     "metadata": {},
     "output_type": "display_data"
    },
    {
     "data": {
      "text/html": [
       "<style>\n",
       "    table.wandb td:nth-child(1) { padding: 0 10px; text-align: left ; width: auto;} td:nth-child(2) {text-align: left ; width: 100%}\n",
       "    .wandb-row { display: flex; flex-direction: row; flex-wrap: wrap; justify-content: flex-start; width: 100% }\n",
       "    .wandb-col { display: flex; flex-direction: column; flex-basis: 100%; flex: 1; padding: 10px; }\n",
       "    </style>\n",
       "<div class=\"wandb-row\"><div class=\"wandb-col\"><h3>Run history:</h3><br/><table class=\"wandb\"><tr><td>epoch</td><td>▁▂▃▃▄▅▆▆▇█</td></tr><tr><td>loss</td><td>█▅▄▃▃▂▂▁▁▁</td></tr><tr><td>trainingaccuracy</td><td>▁▃▅▆▆▇▇███</td></tr><tr><td>validationaccuracy</td><td>▁▃▅▆▆▆▇███</td></tr></table><br/></div><div class=\"wandb-col\"><h3>Run summary:</h3><br/><table class=\"wandb\"><tr><td>epoch</td><td>9</td></tr><tr><td>loss</td><td>0.04164</td></tr><tr><td>trainingaccuracy</td><td>0.86861</td></tr><tr><td>validationaccuracy</td><td>0.85233</td></tr></table><br/></div></div>"
      ],
      "text/plain": [
       "<IPython.core.display.HTML object>"
      ]
     },
     "metadata": {},
     "output_type": "display_data"
    },
    {
     "data": {
      "text/html": [
       " View run <strong style=\"color:#cdcd00\">neat-sweep-11</strong> at: <a href='https://wandb.ai/brianmwigo/DeepLearningHomework1/runs/kwqki483' target=\"_blank\">https://wandb.ai/brianmwigo/DeepLearningHomework1/runs/kwqki483</a><br/>Synced 5 W&B file(s), 0 media file(s), 0 artifact file(s) and 0 other file(s)"
      ],
      "text/plain": [
       "<IPython.core.display.HTML object>"
      ]
     },
     "metadata": {},
     "output_type": "display_data"
    },
    {
     "data": {
      "text/html": [
       "Find logs at: <code>./wandb/run-20240229_194929-kwqki483/logs</code>"
      ],
      "text/plain": [
       "<IPython.core.display.HTML object>"
      ]
     },
     "metadata": {},
     "output_type": "display_data"
    },
    {
     "name": "stderr",
     "output_type": "stream",
     "text": [
      "\u001b[34m\u001b[1mwandb\u001b[0m: Agent Starting Run: g7y1z7ac with config:\n",
      "\u001b[34m\u001b[1mwandb\u001b[0m: \tactivation: sigmoid\n",
      "\u001b[34m\u001b[1mwandb\u001b[0m: \tbatch_size: 16\n",
      "\u001b[34m\u001b[1mwandb\u001b[0m: \tinitializer: xavier\n",
      "\u001b[34m\u001b[1mwandb\u001b[0m: \tlearning_rate: 0.001\n",
      "\u001b[34m\u001b[1mwandb\u001b[0m: \tmax_epochs: 10\n",
      "\u001b[34m\u001b[1mwandb\u001b[0m: \tnum_hidden_neurons: 64\n",
      "\u001b[34m\u001b[1mwandb\u001b[0m: \tnum_layers: 5\n",
      "\u001b[34m\u001b[1mwandb\u001b[0m: \toptimizer: nesterov\n",
      "\u001b[34m\u001b[1mwandb\u001b[0m: \tweight_decay: 0\n"
     ]
    },
    {
     "data": {
      "text/html": [
       "Tracking run with wandb version 0.16.3"
      ],
      "text/plain": [
       "<IPython.core.display.HTML object>"
      ]
     },
     "metadata": {},
     "output_type": "display_data"
    },
    {
     "data": {
      "text/html": [
       "Run data is saved locally in <code>/content/wandb/run-20240229_195818-g7y1z7ac</code>"
      ],
      "text/plain": [
       "<IPython.core.display.HTML object>"
      ]
     },
     "metadata": {},
     "output_type": "display_data"
    },
    {
     "data": {
      "text/html": [
       "Syncing run <strong><a href='https://wandb.ai/brianmwigo/DeepLearningHomework1/runs/g7y1z7ac' target=\"_blank\">devoted-sweep-12</a></strong> to <a href='https://wandb.ai/brianmwigo/DeepLearningHomework1' target=\"_blank\">Weights & Biases</a> (<a href='https://wandb.me/run' target=\"_blank\">docs</a>)<br/>Sweep page: <a href='https://wandb.ai/brianmwigo/DeepLearningHomework1/sweeps/esqa44ap' target=\"_blank\">https://wandb.ai/brianmwigo/DeepLearningHomework1/sweeps/esqa44ap</a>"
      ],
      "text/plain": [
       "<IPython.core.display.HTML object>"
      ]
     },
     "metadata": {},
     "output_type": "display_data"
    },
    {
     "data": {
      "text/html": [
       " View project at <a href='https://wandb.ai/brianmwigo/DeepLearningHomework1' target=\"_blank\">https://wandb.ai/brianmwigo/DeepLearningHomework1</a>"
      ],
      "text/plain": [
       "<IPython.core.display.HTML object>"
      ]
     },
     "metadata": {},
     "output_type": "display_data"
    },
    {
     "data": {
      "text/html": [
       " View sweep at <a href='https://wandb.ai/brianmwigo/DeepLearningHomework1/sweeps/esqa44ap' target=\"_blank\">https://wandb.ai/brianmwigo/DeepLearningHomework1/sweeps/esqa44ap</a>"
      ],
      "text/plain": [
       "<IPython.core.display.HTML object>"
      ]
     },
     "metadata": {},
     "output_type": "display_data"
    },
    {
     "data": {
      "text/html": [
       " View run at <a href='https://wandb.ai/brianmwigo/DeepLearningHomework1/runs/g7y1z7ac' target=\"_blank\">https://wandb.ai/brianmwigo/DeepLearningHomework1/runs/g7y1z7ac</a>"
      ],
      "text/plain": [
       "<IPython.core.display.HTML object>"
      ]
     },
     "metadata": {},
     "output_type": "display_data"
    },
    {
     "name": "stdout",
     "output_type": "stream",
     "text": [
      "epoch: 0, loss: 7.465e-02, accuracy_train: 0.79, accuracy_val: 0.78, learning rate: 1.000e-03\n",
      "epoch: 1, loss: 4.870e-02, accuracy_train: 0.81, accuracy_val: 0.80, learning rate: 1.000e-03\n",
      "epoch: 2, loss: 4.382e-02, accuracy_train: 0.82, accuracy_val: 0.82, learning rate: 1.000e-03\n",
      "epoch: 3, loss: 4.091e-02, accuracy_train: 0.84, accuracy_val: 0.83, learning rate: 1.000e-03\n",
      "epoch: 4, loss: 3.888e-02, accuracy_train: 0.84, accuracy_val: 0.83, learning rate: 1.000e-03\n",
      "epoch: 5, loss: 3.727e-02, accuracy_train: 0.85, accuracy_val: 0.84, learning rate: 1.000e-03\n",
      "epoch: 6, loss: 3.603e-02, accuracy_train: 0.85, accuracy_val: 0.84, learning rate: 1.000e-03\n",
      "epoch: 7, loss: 3.497e-02, accuracy_train: 0.86, accuracy_val: 0.84, learning rate: 1.000e-03\n",
      "epoch: 8, loss: 3.407e-02, accuracy_train: 0.86, accuracy_val: 0.85, learning rate: 1.000e-03\n",
      "epoch: 9, loss: 3.326e-02, accuracy_train: 0.86, accuracy_val: 0.85, learning rate: 1.000e-03\n"
     ]
    },
    {
     "data": {
      "application/vnd.jupyter.widget-view+json": {
       "model_id": "e7a891fa3e9941d6802bc344bfe332c7",
       "version_major": 2,
       "version_minor": 0
      },
      "text/plain": [
       "VBox(children=(Label(value='0.001 MB of 0.001 MB uploaded\\r'), FloatProgress(value=1.0, max=1.0)))"
      ]
     },
     "metadata": {},
     "output_type": "display_data"
    },
    {
     "data": {
      "text/html": [
       "<style>\n",
       "    table.wandb td:nth-child(1) { padding: 0 10px; text-align: left ; width: auto;} td:nth-child(2) {text-align: left ; width: 100%}\n",
       "    .wandb-row { display: flex; flex-direction: row; flex-wrap: wrap; justify-content: flex-start; width: 100% }\n",
       "    .wandb-col { display: flex; flex-direction: column; flex-basis: 100%; flex: 1; padding: 10px; }\n",
       "    </style>\n",
       "<div class=\"wandb-row\"><div class=\"wandb-col\"><h3>Run history:</h3><br/><table class=\"wandb\"><tr><td>epoch</td><td>▁▂▃▃▄▅▆▆▇█</td></tr><tr><td>loss</td><td>█▅▄▃▃▂▂▁▁▁</td></tr><tr><td>trainingaccuracy</td><td>▁▃▄▅▆▆▇▇██</td></tr><tr><td>validationaccuracy</td><td>▁▃▅▆▆▇▇▇██</td></tr></table><br/></div><div class=\"wandb-col\"><h3>Run summary:</h3><br/><table class=\"wandb\"><tr><td>epoch</td><td>9</td></tr><tr><td>loss</td><td>0.04226</td></tr><tr><td>trainingaccuracy</td><td>0.86472</td></tr><tr><td>validationaccuracy</td><td>0.849</td></tr></table><br/></div></div>"
      ],
      "text/plain": [
       "<IPython.core.display.HTML object>"
      ]
     },
     "metadata": {},
     "output_type": "display_data"
    },
    {
     "data": {
      "text/html": [
       " View run <strong style=\"color:#cdcd00\">devoted-sweep-12</strong> at: <a href='https://wandb.ai/brianmwigo/DeepLearningHomework1/runs/g7y1z7ac' target=\"_blank\">https://wandb.ai/brianmwigo/DeepLearningHomework1/runs/g7y1z7ac</a><br/>Synced 5 W&B file(s), 0 media file(s), 0 artifact file(s) and 0 other file(s)"
      ],
      "text/plain": [
       "<IPython.core.display.HTML object>"
      ]
     },
     "metadata": {},
     "output_type": "display_data"
    },
    {
     "data": {
      "text/html": [
       "Find logs at: <code>./wandb/run-20240229_195818-g7y1z7ac/logs</code>"
      ],
      "text/plain": [
       "<IPython.core.display.HTML object>"
      ]
     },
     "metadata": {},
     "output_type": "display_data"
    },
    {
     "name": "stderr",
     "output_type": "stream",
     "text": [
      "\u001b[34m\u001b[1mwandb\u001b[0m: Agent Starting Run: majxtcmu with config:\n",
      "\u001b[34m\u001b[1mwandb\u001b[0m: \tactivation: relu\n",
      "\u001b[34m\u001b[1mwandb\u001b[0m: \tbatch_size: 64\n",
      "\u001b[34m\u001b[1mwandb\u001b[0m: \tinitializer: xavier\n",
      "\u001b[34m\u001b[1mwandb\u001b[0m: \tlearning_rate: 0.001\n",
      "\u001b[34m\u001b[1mwandb\u001b[0m: \tmax_epochs: 10\n",
      "\u001b[34m\u001b[1mwandb\u001b[0m: \tnum_hidden_neurons: 32\n",
      "\u001b[34m\u001b[1mwandb\u001b[0m: \tnum_layers: 5\n",
      "\u001b[34m\u001b[1mwandb\u001b[0m: \toptimizer: nesterov\n",
      "\u001b[34m\u001b[1mwandb\u001b[0m: \tweight_decay: 0\n"
     ]
    },
    {
     "data": {
      "text/html": [
       "Tracking run with wandb version 0.16.3"
      ],
      "text/plain": [
       "<IPython.core.display.HTML object>"
      ]
     },
     "metadata": {},
     "output_type": "display_data"
    },
    {
     "data": {
      "text/html": [
       "Run data is saved locally in <code>/content/wandb/run-20240229_200748-majxtcmu</code>"
      ],
      "text/plain": [
       "<IPython.core.display.HTML object>"
      ]
     },
     "metadata": {},
     "output_type": "display_data"
    },
    {
     "data": {
      "text/html": [
       "Syncing run <strong><a href='https://wandb.ai/brianmwigo/DeepLearningHomework1/runs/majxtcmu' target=\"_blank\">frosty-sweep-13</a></strong> to <a href='https://wandb.ai/brianmwigo/DeepLearningHomework1' target=\"_blank\">Weights & Biases</a> (<a href='https://wandb.me/run' target=\"_blank\">docs</a>)<br/>Sweep page: <a href='https://wandb.ai/brianmwigo/DeepLearningHomework1/sweeps/esqa44ap' target=\"_blank\">https://wandb.ai/brianmwigo/DeepLearningHomework1/sweeps/esqa44ap</a>"
      ],
      "text/plain": [
       "<IPython.core.display.HTML object>"
      ]
     },
     "metadata": {},
     "output_type": "display_data"
    },
    {
     "data": {
      "text/html": [
       " View project at <a href='https://wandb.ai/brianmwigo/DeepLearningHomework1' target=\"_blank\">https://wandb.ai/brianmwigo/DeepLearningHomework1</a>"
      ],
      "text/plain": [
       "<IPython.core.display.HTML object>"
      ]
     },
     "metadata": {},
     "output_type": "display_data"
    },
    {
     "data": {
      "text/html": [
       " View sweep at <a href='https://wandb.ai/brianmwigo/DeepLearningHomework1/sweeps/esqa44ap' target=\"_blank\">https://wandb.ai/brianmwigo/DeepLearningHomework1/sweeps/esqa44ap</a>"
      ],
      "text/plain": [
       "<IPython.core.display.HTML object>"
      ]
     },
     "metadata": {},
     "output_type": "display_data"
    },
    {
     "data": {
      "text/html": [
       " View run at <a href='https://wandb.ai/brianmwigo/DeepLearningHomework1/runs/majxtcmu' target=\"_blank\">https://wandb.ai/brianmwigo/DeepLearningHomework1/runs/majxtcmu</a>"
      ],
      "text/plain": [
       "<IPython.core.display.HTML object>"
      ]
     },
     "metadata": {},
     "output_type": "display_data"
    },
    {
     "name": "stdout",
     "output_type": "stream",
     "text": [
      "epoch: 0, loss: 1.219e-01, accuracy_train: 0.74, accuracy_val: 0.74, learning rate: 1.000e-03\n",
      "epoch: 1, loss: 6.475e-02, accuracy_train: 0.79, accuracy_val: 0.78, learning rate: 1.000e-03\n",
      "epoch: 2, loss: 5.677e-02, accuracy_train: 0.81, accuracy_val: 0.80, learning rate: 1.000e-03\n",
      "epoch: 3, loss: 5.249e-02, accuracy_train: 0.82, accuracy_val: 0.82, learning rate: 1.000e-03\n",
      "epoch: 4, loss: 4.925e-02, accuracy_train: 0.84, accuracy_val: 0.83, learning rate: 1.000e-03\n",
      "epoch: 5, loss: 4.681e-02, accuracy_train: 0.84, accuracy_val: 0.83, learning rate: 1.000e-03\n",
      "epoch: 6, loss: 4.486e-02, accuracy_train: 0.85, accuracy_val: 0.84, learning rate: 1.000e-03\n",
      "epoch: 7, loss: 4.333e-02, accuracy_train: 0.85, accuracy_val: 0.84, learning rate: 1.000e-03\n",
      "epoch: 8, loss: 4.206e-02, accuracy_train: 0.86, accuracy_val: 0.85, learning rate: 1.000e-03\n",
      "epoch: 9, loss: 4.101e-02, accuracy_train: 0.86, accuracy_val: 0.85, learning rate: 1.000e-03\n"
     ]
    },
    {
     "data": {
      "application/vnd.jupyter.widget-view+json": {
       "model_id": "8143761f24184f0da77d8eba65d318be",
       "version_major": 2,
       "version_minor": 0
      },
      "text/plain": [
       "VBox(children=(Label(value='0.001 MB of 0.001 MB uploaded\\r'), FloatProgress(value=1.0, max=1.0)))"
      ]
     },
     "metadata": {},
     "output_type": "display_data"
    },
    {
     "data": {
      "text/html": [
       "<style>\n",
       "    table.wandb td:nth-child(1) { padding: 0 10px; text-align: left ; width: auto;} td:nth-child(2) {text-align: left ; width: 100%}\n",
       "    .wandb-row { display: flex; flex-direction: row; flex-wrap: wrap; justify-content: flex-start; width: 100% }\n",
       "    .wandb-col { display: flex; flex-direction: column; flex-basis: 100%; flex: 1; padding: 10px; }\n",
       "    </style>\n",
       "<div class=\"wandb-row\"><div class=\"wandb-col\"><h3>Run history:</h3><br/><table class=\"wandb\"><tr><td>epoch</td><td>▁▂▃▃▄▅▆▆▇█</td></tr><tr><td>loss</td><td>█▅▄▃▂▂▂▁▁▁</td></tr><tr><td>trainingaccuracy</td><td>▁▄▅▆▇▇▇▇██</td></tr><tr><td>validationaccuracy</td><td>▁▄▅▆▇▇▇▇██</td></tr></table><br/></div><div class=\"wandb-col\"><h3>Run summary:</h3><br/><table class=\"wandb\"><tr><td>epoch</td><td>9</td></tr><tr><td>loss</td><td>0.05632</td></tr><tr><td>trainingaccuracy</td><td>0.86169</td></tr><tr><td>validationaccuracy</td><td>0.85133</td></tr></table><br/></div></div>"
      ],
      "text/plain": [
       "<IPython.core.display.HTML object>"
      ]
     },
     "metadata": {},
     "output_type": "display_data"
    },
    {
     "data": {
      "text/html": [
       " View run <strong style=\"color:#cdcd00\">frosty-sweep-13</strong> at: <a href='https://wandb.ai/brianmwigo/DeepLearningHomework1/runs/majxtcmu' target=\"_blank\">https://wandb.ai/brianmwigo/DeepLearningHomework1/runs/majxtcmu</a><br/>Synced 5 W&B file(s), 0 media file(s), 0 artifact file(s) and 0 other file(s)"
      ],
      "text/plain": [
       "<IPython.core.display.HTML object>"
      ]
     },
     "metadata": {},
     "output_type": "display_data"
    },
    {
     "data": {
      "text/html": [
       "Find logs at: <code>./wandb/run-20240229_200748-majxtcmu/logs</code>"
      ],
      "text/plain": [
       "<IPython.core.display.HTML object>"
      ]
     },
     "metadata": {},
     "output_type": "display_data"
    },
    {
     "name": "stderr",
     "output_type": "stream",
     "text": [
      "\u001b[34m\u001b[1mwandb\u001b[0m: Agent Starting Run: jk2z2vk3 with config:\n",
      "\u001b[34m\u001b[1mwandb\u001b[0m: \tactivation: relu\n",
      "\u001b[34m\u001b[1mwandb\u001b[0m: \tbatch_size: 32\n",
      "\u001b[34m\u001b[1mwandb\u001b[0m: \tinitializer: xavier\n",
      "\u001b[34m\u001b[1mwandb\u001b[0m: \tlearning_rate: 0.0001\n",
      "\u001b[34m\u001b[1mwandb\u001b[0m: \tmax_epochs: 10\n",
      "\u001b[34m\u001b[1mwandb\u001b[0m: \tnum_hidden_neurons: 64\n",
      "\u001b[34m\u001b[1mwandb\u001b[0m: \tnum_layers: 5\n",
      "\u001b[34m\u001b[1mwandb\u001b[0m: \toptimizer: momentum\n",
      "\u001b[34m\u001b[1mwandb\u001b[0m: \tweight_decay: 0\n"
     ]
    },
    {
     "data": {
      "text/html": [
       "Tracking run with wandb version 0.16.3"
      ],
      "text/plain": [
       "<IPython.core.display.HTML object>"
      ]
     },
     "metadata": {},
     "output_type": "display_data"
    },
    {
     "data": {
      "text/html": [
       "Run data is saved locally in <code>/content/wandb/run-20240229_201710-jk2z2vk3</code>"
      ],
      "text/plain": [
       "<IPython.core.display.HTML object>"
      ]
     },
     "metadata": {},
     "output_type": "display_data"
    },
    {
     "data": {
      "text/html": [
       "Syncing run <strong><a href='https://wandb.ai/brianmwigo/DeepLearningHomework1/runs/jk2z2vk3' target=\"_blank\">swept-sweep-14</a></strong> to <a href='https://wandb.ai/brianmwigo/DeepLearningHomework1' target=\"_blank\">Weights & Biases</a> (<a href='https://wandb.me/run' target=\"_blank\">docs</a>)<br/>Sweep page: <a href='https://wandb.ai/brianmwigo/DeepLearningHomework1/sweeps/esqa44ap' target=\"_blank\">https://wandb.ai/brianmwigo/DeepLearningHomework1/sweeps/esqa44ap</a>"
      ],
      "text/plain": [
       "<IPython.core.display.HTML object>"
      ]
     },
     "metadata": {},
     "output_type": "display_data"
    },
    {
     "data": {
      "text/html": [
       " View project at <a href='https://wandb.ai/brianmwigo/DeepLearningHomework1' target=\"_blank\">https://wandb.ai/brianmwigo/DeepLearningHomework1</a>"
      ],
      "text/plain": [
       "<IPython.core.display.HTML object>"
      ]
     },
     "metadata": {},
     "output_type": "display_data"
    },
    {
     "data": {
      "text/html": [
       " View sweep at <a href='https://wandb.ai/brianmwigo/DeepLearningHomework1/sweeps/esqa44ap' target=\"_blank\">https://wandb.ai/brianmwigo/DeepLearningHomework1/sweeps/esqa44ap</a>"
      ],
      "text/plain": [
       "<IPython.core.display.HTML object>"
      ]
     },
     "metadata": {},
     "output_type": "display_data"
    },
    {
     "data": {
      "text/html": [
       " View run at <a href='https://wandb.ai/brianmwigo/DeepLearningHomework1/runs/jk2z2vk3' target=\"_blank\">https://wandb.ai/brianmwigo/DeepLearningHomework1/runs/jk2z2vk3</a>"
      ],
      "text/plain": [
       "<IPython.core.display.HTML object>"
      ]
     },
     "metadata": {},
     "output_type": "display_data"
    },
    {
     "name": "stdout",
     "output_type": "stream",
     "text": [
      "epoch: 0, loss: 9.510e-02, accuracy_train: 0.80, accuracy_val: 0.80, learning rate: 1.000e-03\n",
      "epoch: 1, loss: 5.331e-02, accuracy_train: 0.83, accuracy_val: 0.82, learning rate: 1.000e-03\n",
      "epoch: 2, loss: 4.757e-02, accuracy_train: 0.84, accuracy_val: 0.83, learning rate: 1.000e-03\n",
      "epoch: 3, loss: 4.466e-02, accuracy_train: 0.85, accuracy_val: 0.84, learning rate: 1.000e-03\n",
      "epoch: 4, loss: 4.266e-02, accuracy_train: 0.86, accuracy_val: 0.84, learning rate: 1.000e-03\n",
      "epoch: 5, loss: 4.111e-02, accuracy_train: 0.86, accuracy_val: 0.85, learning rate: 1.000e-03\n",
      "epoch: 6, loss: 3.983e-02, accuracy_train: 0.86, accuracy_val: 0.85, learning rate: 1.000e-03\n",
      "epoch: 7, loss: 3.873e-02, accuracy_train: 0.87, accuracy_val: 0.85, learning rate: 1.000e-03\n",
      "epoch: 8, loss: 3.778e-02, accuracy_train: 0.87, accuracy_val: 0.86, learning rate: 1.000e-03\n",
      "epoch: 9, loss: 3.693e-02, accuracy_train: 0.87, accuracy_val: 0.86, learning rate: 1.000e-03\n"
     ]
    },
    {
     "data": {
      "application/vnd.jupyter.widget-view+json": {
       "model_id": "850018d45fc44a4088b6ee1710182055",
       "version_major": 2,
       "version_minor": 0
      },
      "text/plain": [
       "VBox(children=(Label(value='0.001 MB of 0.001 MB uploaded\\r'), FloatProgress(value=1.0, max=1.0)))"
      ]
     },
     "metadata": {},
     "output_type": "display_data"
    },
    {
     "data": {
      "text/html": [
       "<style>\n",
       "    table.wandb td:nth-child(1) { padding: 0 10px; text-align: left ; width: auto;} td:nth-child(2) {text-align: left ; width: 100%}\n",
       "    .wandb-row { display: flex; flex-direction: row; flex-wrap: wrap; justify-content: flex-start; width: 100% }\n",
       "    .wandb-col { display: flex; flex-direction: column; flex-basis: 100%; flex: 1; padding: 10px; }\n",
       "    </style>\n",
       "<div class=\"wandb-row\"><div class=\"wandb-col\"><h3>Run history:</h3><br/><table class=\"wandb\"><tr><td>epoch</td><td>▁▂▃▃▄▅▆▆▇█</td></tr><tr><td>loss</td><td>█▅▄▃▂▂▂▁▁▁</td></tr><tr><td>trainingaccuracy</td><td>▁▄▅▆▆▇▇▇██</td></tr><tr><td>validationaccuracy</td><td>▁▄▅▅▆▆▇▇██</td></tr></table><br/></div><div class=\"wandb-col\"><h3>Run summary:</h3><br/><table class=\"wandb\"><tr><td>epoch</td><td>9</td></tr><tr><td>loss</td><td>0.04777</td></tr><tr><td>trainingaccuracy</td><td>0.87141</td></tr><tr><td>validationaccuracy</td><td>0.86</td></tr></table><br/></div></div>"
      ],
      "text/plain": [
       "<IPython.core.display.HTML object>"
      ]
     },
     "metadata": {},
     "output_type": "display_data"
    },
    {
     "data": {
      "text/html": [
       " View run <strong style=\"color:#cdcd00\">swept-sweep-14</strong> at: <a href='https://wandb.ai/brianmwigo/DeepLearningHomework1/runs/jk2z2vk3' target=\"_blank\">https://wandb.ai/brianmwigo/DeepLearningHomework1/runs/jk2z2vk3</a><br/>Synced 5 W&B file(s), 0 media file(s), 0 artifact file(s) and 0 other file(s)"
      ],
      "text/plain": [
       "<IPython.core.display.HTML object>"
      ]
     },
     "metadata": {},
     "output_type": "display_data"
    },
    {
     "data": {
      "text/html": [
       "Find logs at: <code>./wandb/run-20240229_201710-jk2z2vk3/logs</code>"
      ],
      "text/plain": [
       "<IPython.core.display.HTML object>"
      ]
     },
     "metadata": {},
     "output_type": "display_data"
    },
    {
     "name": "stderr",
     "output_type": "stream",
     "text": [
      "\u001b[34m\u001b[1mwandb\u001b[0m: Agent Starting Run: 0j3k97s6 with config:\n",
      "\u001b[34m\u001b[1mwandb\u001b[0m: \tactivation: relu\n",
      "\u001b[34m\u001b[1mwandb\u001b[0m: \tbatch_size: 32\n",
      "\u001b[34m\u001b[1mwandb\u001b[0m: \tinitializer: xavier\n",
      "\u001b[34m\u001b[1mwandb\u001b[0m: \tlearning_rate: 0.001\n",
      "\u001b[34m\u001b[1mwandb\u001b[0m: \tmax_epochs: 10\n",
      "\u001b[34m\u001b[1mwandb\u001b[0m: \tnum_hidden_neurons: 32\n",
      "\u001b[34m\u001b[1mwandb\u001b[0m: \tnum_layers: 5\n",
      "\u001b[34m\u001b[1mwandb\u001b[0m: \toptimizer: momentum\n",
      "\u001b[34m\u001b[1mwandb\u001b[0m: \tweight_decay: 0\n"
     ]
    },
    {
     "data": {
      "text/html": [
       "Tracking run with wandb version 0.16.3"
      ],
      "text/plain": [
       "<IPython.core.display.HTML object>"
      ]
     },
     "metadata": {},
     "output_type": "display_data"
    },
    {
     "data": {
      "text/html": [
       "Run data is saved locally in <code>/content/wandb/run-20240229_202558-0j3k97s6</code>"
      ],
      "text/plain": [
       "<IPython.core.display.HTML object>"
      ]
     },
     "metadata": {},
     "output_type": "display_data"
    },
    {
     "data": {
      "text/html": [
       "Syncing run <strong><a href='https://wandb.ai/brianmwigo/DeepLearningHomework1/runs/0j3k97s6' target=\"_blank\">rural-sweep-15</a></strong> to <a href='https://wandb.ai/brianmwigo/DeepLearningHomework1' target=\"_blank\">Weights & Biases</a> (<a href='https://wandb.me/run' target=\"_blank\">docs</a>)<br/>Sweep page: <a href='https://wandb.ai/brianmwigo/DeepLearningHomework1/sweeps/esqa44ap' target=\"_blank\">https://wandb.ai/brianmwigo/DeepLearningHomework1/sweeps/esqa44ap</a>"
      ],
      "text/plain": [
       "<IPython.core.display.HTML object>"
      ]
     },
     "metadata": {},
     "output_type": "display_data"
    },
    {
     "data": {
      "text/html": [
       " View project at <a href='https://wandb.ai/brianmwigo/DeepLearningHomework1' target=\"_blank\">https://wandb.ai/brianmwigo/DeepLearningHomework1</a>"
      ],
      "text/plain": [
       "<IPython.core.display.HTML object>"
      ]
     },
     "metadata": {},
     "output_type": "display_data"
    },
    {
     "data": {
      "text/html": [
       " View sweep at <a href='https://wandb.ai/brianmwigo/DeepLearningHomework1/sweeps/esqa44ap' target=\"_blank\">https://wandb.ai/brianmwigo/DeepLearningHomework1/sweeps/esqa44ap</a>"
      ],
      "text/plain": [
       "<IPython.core.display.HTML object>"
      ]
     },
     "metadata": {},
     "output_type": "display_data"
    },
    {
     "data": {
      "text/html": [
       " View run at <a href='https://wandb.ai/brianmwigo/DeepLearningHomework1/runs/0j3k97s6' target=\"_blank\">https://wandb.ai/brianmwigo/DeepLearningHomework1/runs/0j3k97s6</a>"
      ],
      "text/plain": [
       "<IPython.core.display.HTML object>"
      ]
     },
     "metadata": {},
     "output_type": "display_data"
    },
    {
     "name": "stdout",
     "output_type": "stream",
     "text": [
      "epoch: 0, loss: 9.192e-02, accuracy_train: 0.80, accuracy_val: 0.79, learning rate: 1.000e-03\n",
      "epoch: 1, loss: 5.212e-02, accuracy_train: 0.82, accuracy_val: 0.81, learning rate: 1.000e-03\n",
      "epoch: 2, loss: 4.706e-02, accuracy_train: 0.83, accuracy_val: 0.82, learning rate: 1.000e-03\n",
      "epoch: 3, loss: 4.442e-02, accuracy_train: 0.84, accuracy_val: 0.83, learning rate: 1.000e-03\n",
      "epoch: 4, loss: 4.261e-02, accuracy_train: 0.85, accuracy_val: 0.84, learning rate: 1.000e-03\n",
      "epoch: 5, loss: 4.123e-02, accuracy_train: 0.85, accuracy_val: 0.84, learning rate: 1.000e-03\n",
      "epoch: 6, loss: 4.009e-02, accuracy_train: 0.86, accuracy_val: 0.84, learning rate: 1.000e-03\n",
      "epoch: 7, loss: 3.910e-02, accuracy_train: 0.86, accuracy_val: 0.85, learning rate: 1.000e-03\n",
      "epoch: 8, loss: 3.819e-02, accuracy_train: 0.86, accuracy_val: 0.85, learning rate: 1.000e-03\n",
      "epoch: 9, loss: 3.740e-02, accuracy_train: 0.87, accuracy_val: 0.85, learning rate: 1.000e-03\n"
     ]
    },
    {
     "data": {
      "application/vnd.jupyter.widget-view+json": {
       "model_id": "64a82fc1388b46b795f7edef97cd2f7d",
       "version_major": 2,
       "version_minor": 0
      },
      "text/plain": [
       "VBox(children=(Label(value='0.001 MB of 0.012 MB uploaded\\r'), FloatProgress(value=0.08821598555719679, max=1.…"
      ]
     },
     "metadata": {},
     "output_type": "display_data"
    },
    {
     "data": {
      "text/html": [
       "<style>\n",
       "    table.wandb td:nth-child(1) { padding: 0 10px; text-align: left ; width: auto;} td:nth-child(2) {text-align: left ; width: 100%}\n",
       "    .wandb-row { display: flex; flex-direction: row; flex-wrap: wrap; justify-content: flex-start; width: 100% }\n",
       "    .wandb-col { display: flex; flex-direction: column; flex-basis: 100%; flex: 1; padding: 10px; }\n",
       "    </style>\n",
       "<div class=\"wandb-row\"><div class=\"wandb-col\"><h3>Run history:</h3><br/><table class=\"wandb\"><tr><td>epoch</td><td>▁▂▃▃▄▅▆▆▇█</td></tr><tr><td>loss</td><td>█▅▄▃▂▂▂▁▁▁</td></tr><tr><td>trainingaccuracy</td><td>▁▃▅▅▆▆▇▇██</td></tr><tr><td>validationaccuracy</td><td>▁▃▅▆▆▇▇▇██</td></tr></table><br/></div><div class=\"wandb-col\"><h3>Run summary:</h3><br/><table class=\"wandb\"><tr><td>epoch</td><td>9</td></tr><tr><td>loss</td><td>0.04741</td></tr><tr><td>trainingaccuracy</td><td>0.86526</td></tr><tr><td>validationaccuracy</td><td>0.85117</td></tr></table><br/></div></div>"
      ],
      "text/plain": [
       "<IPython.core.display.HTML object>"
      ]
     },
     "metadata": {},
     "output_type": "display_data"
    },
    {
     "data": {
      "text/html": [
       " View run <strong style=\"color:#cdcd00\">rural-sweep-15</strong> at: <a href='https://wandb.ai/brianmwigo/DeepLearningHomework1/runs/0j3k97s6' target=\"_blank\">https://wandb.ai/brianmwigo/DeepLearningHomework1/runs/0j3k97s6</a><br/>Synced 5 W&B file(s), 0 media file(s), 0 artifact file(s) and 0 other file(s)"
      ],
      "text/plain": [
       "<IPython.core.display.HTML object>"
      ]
     },
     "metadata": {},
     "output_type": "display_data"
    },
    {
     "data": {
      "text/html": [
       "Find logs at: <code>./wandb/run-20240229_202558-0j3k97s6/logs</code>"
      ],
      "text/plain": [
       "<IPython.core.display.HTML object>"
      ]
     },
     "metadata": {},
     "output_type": "display_data"
    },
    {
     "name": "stderr",
     "output_type": "stream",
     "text": [
      "\u001b[34m\u001b[1mwandb\u001b[0m: Agent Starting Run: x3y68ubl with config:\n",
      "\u001b[34m\u001b[1mwandb\u001b[0m: \tactivation: tanh\n",
      "\u001b[34m\u001b[1mwandb\u001b[0m: \tbatch_size: 16\n",
      "\u001b[34m\u001b[1mwandb\u001b[0m: \tinitializer: random\n",
      "\u001b[34m\u001b[1mwandb\u001b[0m: \tlearning_rate: 0.0001\n",
      "\u001b[34m\u001b[1mwandb\u001b[0m: \tmax_epochs: 10\n",
      "\u001b[34m\u001b[1mwandb\u001b[0m: \tnum_hidden_neurons: 32\n",
      "\u001b[34m\u001b[1mwandb\u001b[0m: \tnum_layers: 5\n",
      "\u001b[34m\u001b[1mwandb\u001b[0m: \toptimizer: nesterov\n",
      "\u001b[34m\u001b[1mwandb\u001b[0m: \tweight_decay: 0\n"
     ]
    },
    {
     "data": {
      "text/html": [
       "Tracking run with wandb version 0.16.3"
      ],
      "text/plain": [
       "<IPython.core.display.HTML object>"
      ]
     },
     "metadata": {},
     "output_type": "display_data"
    },
    {
     "data": {
      "text/html": [
       "Run data is saved locally in <code>/content/wandb/run-20240229_203444-x3y68ubl</code>"
      ],
      "text/plain": [
       "<IPython.core.display.HTML object>"
      ]
     },
     "metadata": {},
     "output_type": "display_data"
    },
    {
     "data": {
      "text/html": [
       "Syncing run <strong><a href='https://wandb.ai/brianmwigo/DeepLearningHomework1/runs/x3y68ubl' target=\"_blank\">grateful-sweep-16</a></strong> to <a href='https://wandb.ai/brianmwigo/DeepLearningHomework1' target=\"_blank\">Weights & Biases</a> (<a href='https://wandb.me/run' target=\"_blank\">docs</a>)<br/>Sweep page: <a href='https://wandb.ai/brianmwigo/DeepLearningHomework1/sweeps/esqa44ap' target=\"_blank\">https://wandb.ai/brianmwigo/DeepLearningHomework1/sweeps/esqa44ap</a>"
      ],
      "text/plain": [
       "<IPython.core.display.HTML object>"
      ]
     },
     "metadata": {},
     "output_type": "display_data"
    },
    {
     "data": {
      "text/html": [
       " View project at <a href='https://wandb.ai/brianmwigo/DeepLearningHomework1' target=\"_blank\">https://wandb.ai/brianmwigo/DeepLearningHomework1</a>"
      ],
      "text/plain": [
       "<IPython.core.display.HTML object>"
      ]
     },
     "metadata": {},
     "output_type": "display_data"
    },
    {
     "data": {
      "text/html": [
       " View sweep at <a href='https://wandb.ai/brianmwigo/DeepLearningHomework1/sweeps/esqa44ap' target=\"_blank\">https://wandb.ai/brianmwigo/DeepLearningHomework1/sweeps/esqa44ap</a>"
      ],
      "text/plain": [
       "<IPython.core.display.HTML object>"
      ]
     },
     "metadata": {},
     "output_type": "display_data"
    },
    {
     "data": {
      "text/html": [
       " View run at <a href='https://wandb.ai/brianmwigo/DeepLearningHomework1/runs/x3y68ubl' target=\"_blank\">https://wandb.ai/brianmwigo/DeepLearningHomework1/runs/x3y68ubl</a>"
      ],
      "text/plain": [
       "<IPython.core.display.HTML object>"
      ]
     },
     "metadata": {},
     "output_type": "display_data"
    },
    {
     "name": "stdout",
     "output_type": "stream",
     "text": [
      "epoch: 0, loss: 1.336e-01, accuracy_train: 0.64, accuracy_val: 0.63, learning rate: 1.000e-03\n",
      "epoch: 1, loss: 9.054e-02, accuracy_train: 0.68, accuracy_val: 0.67, learning rate: 1.000e-03\n",
      "epoch: 2, loss: 8.303e-02, accuracy_train: 0.70, accuracy_val: 0.69, learning rate: 1.000e-03\n",
      "epoch: 3, loss: 7.835e-02, accuracy_train: 0.71, accuracy_val: 0.71, learning rate: 1.000e-03\n",
      "epoch: 4, loss: 7.502e-02, accuracy_train: 0.72, accuracy_val: 0.71, learning rate: 1.000e-03\n",
      "epoch: 5, loss: 7.246e-02, accuracy_train: 0.73, accuracy_val: 0.72, learning rate: 1.000e-03\n",
      "epoch: 6, loss: 7.028e-02, accuracy_train: 0.74, accuracy_val: 0.73, learning rate: 1.000e-03\n",
      "epoch: 7, loss: 6.851e-02, accuracy_train: 0.74, accuracy_val: 0.73, learning rate: 1.000e-03\n",
      "epoch: 8, loss: 6.695e-02, accuracy_train: 0.75, accuracy_val: 0.74, learning rate: 1.000e-03\n",
      "epoch: 9, loss: 6.563e-02, accuracy_train: 0.76, accuracy_val: 0.75, learning rate: 1.000e-03\n"
     ]
    },
    {
     "data": {
      "application/vnd.jupyter.widget-view+json": {
       "model_id": "17b5f7f88da0401c9fd9089d04d06cb5",
       "version_major": 2,
       "version_minor": 0
      },
      "text/plain": [
       "VBox(children=(Label(value='0.001 MB of 0.001 MB uploaded\\r'), FloatProgress(value=1.0, max=1.0)))"
      ]
     },
     "metadata": {},
     "output_type": "display_data"
    },
    {
     "data": {
      "text/html": [
       "<style>\n",
       "    table.wandb td:nth-child(1) { padding: 0 10px; text-align: left ; width: auto;} td:nth-child(2) {text-align: left ; width: 100%}\n",
       "    .wandb-row { display: flex; flex-direction: row; flex-wrap: wrap; justify-content: flex-start; width: 100% }\n",
       "    .wandb-col { display: flex; flex-direction: column; flex-basis: 100%; flex: 1; padding: 10px; }\n",
       "    </style>\n",
       "<div class=\"wandb-row\"><div class=\"wandb-col\"><h3>Run history:</h3><br/><table class=\"wandb\"><tr><td>epoch</td><td>▁▂▃▃▄▅▆▆▇█</td></tr><tr><td>loss</td><td>█▅▄▃▃▂▂▁▁▁</td></tr><tr><td>trainingaccuracy</td><td>▁▃▅▅▆▆▇▇██</td></tr><tr><td>validationaccuracy</td><td>▁▃▅▆▆▆▇▇██</td></tr></table><br/></div><div class=\"wandb-col\"><h3>Run summary:</h3><br/><table class=\"wandb\"><tr><td>epoch</td><td>9</td></tr><tr><td>loss</td><td>0.08043</td></tr><tr><td>trainingaccuracy</td><td>0.75509</td></tr><tr><td>validationaccuracy</td><td>0.7475</td></tr></table><br/></div></div>"
      ],
      "text/plain": [
       "<IPython.core.display.HTML object>"
      ]
     },
     "metadata": {},
     "output_type": "display_data"
    },
    {
     "data": {
      "text/html": [
       " View run <strong style=\"color:#cdcd00\">grateful-sweep-16</strong> at: <a href='https://wandb.ai/brianmwigo/DeepLearningHomework1/runs/x3y68ubl' target=\"_blank\">https://wandb.ai/brianmwigo/DeepLearningHomework1/runs/x3y68ubl</a><br/>Synced 5 W&B file(s), 0 media file(s), 0 artifact file(s) and 0 other file(s)"
      ],
      "text/plain": [
       "<IPython.core.display.HTML object>"
      ]
     },
     "metadata": {},
     "output_type": "display_data"
    },
    {
     "data": {
      "text/html": [
       "Find logs at: <code>./wandb/run-20240229_203444-x3y68ubl/logs</code>"
      ],
      "text/plain": [
       "<IPython.core.display.HTML object>"
      ]
     },
     "metadata": {},
     "output_type": "display_data"
    },
    {
     "name": "stderr",
     "output_type": "stream",
     "text": [
      "\u001b[34m\u001b[1mwandb\u001b[0m: Sweep Agent: Waiting for job.\n",
      "\u001b[34m\u001b[1mwandb\u001b[0m: Job received.\n",
      "\u001b[34m\u001b[1mwandb\u001b[0m: Agent Starting Run: 9dxemw2g with config:\n",
      "\u001b[34m\u001b[1mwandb\u001b[0m: \tactivation: relu\n",
      "\u001b[34m\u001b[1mwandb\u001b[0m: \tbatch_size: 16\n",
      "\u001b[34m\u001b[1mwandb\u001b[0m: \tinitializer: xavier\n",
      "\u001b[34m\u001b[1mwandb\u001b[0m: \tlearning_rate: 0.001\n",
      "\u001b[34m\u001b[1mwandb\u001b[0m: \tmax_epochs: 10\n",
      "\u001b[34m\u001b[1mwandb\u001b[0m: \tnum_hidden_neurons: 128\n",
      "\u001b[34m\u001b[1mwandb\u001b[0m: \tnum_layers: 5\n",
      "\u001b[34m\u001b[1mwandb\u001b[0m: \toptimizer: momentum\n",
      "\u001b[34m\u001b[1mwandb\u001b[0m: \tweight_decay: 0\n"
     ]
    },
    {
     "data": {
      "text/html": [
       "Tracking run with wandb version 0.16.3"
      ],
      "text/plain": [
       "<IPython.core.display.HTML object>"
      ]
     },
     "metadata": {},
     "output_type": "display_data"
    },
    {
     "data": {
      "text/html": [
       "Run data is saved locally in <code>/content/wandb/run-20240229_204431-9dxemw2g</code>"
      ],
      "text/plain": [
       "<IPython.core.display.HTML object>"
      ]
     },
     "metadata": {},
     "output_type": "display_data"
    },
    {
     "data": {
      "text/html": [
       "Syncing run <strong><a href='https://wandb.ai/brianmwigo/DeepLearningHomework1/runs/9dxemw2g' target=\"_blank\">mild-sweep-17</a></strong> to <a href='https://wandb.ai/brianmwigo/DeepLearningHomework1' target=\"_blank\">Weights & Biases</a> (<a href='https://wandb.me/run' target=\"_blank\">docs</a>)<br/>Sweep page: <a href='https://wandb.ai/brianmwigo/DeepLearningHomework1/sweeps/esqa44ap' target=\"_blank\">https://wandb.ai/brianmwigo/DeepLearningHomework1/sweeps/esqa44ap</a>"
      ],
      "text/plain": [
       "<IPython.core.display.HTML object>"
      ]
     },
     "metadata": {},
     "output_type": "display_data"
    },
    {
     "data": {
      "text/html": [
       " View project at <a href='https://wandb.ai/brianmwigo/DeepLearningHomework1' target=\"_blank\">https://wandb.ai/brianmwigo/DeepLearningHomework1</a>"
      ],
      "text/plain": [
       "<IPython.core.display.HTML object>"
      ]
     },
     "metadata": {},
     "output_type": "display_data"
    },
    {
     "data": {
      "text/html": [
       " View sweep at <a href='https://wandb.ai/brianmwigo/DeepLearningHomework1/sweeps/esqa44ap' target=\"_blank\">https://wandb.ai/brianmwigo/DeepLearningHomework1/sweeps/esqa44ap</a>"
      ],
      "text/plain": [
       "<IPython.core.display.HTML object>"
      ]
     },
     "metadata": {},
     "output_type": "display_data"
    },
    {
     "data": {
      "text/html": [
       " View run at <a href='https://wandb.ai/brianmwigo/DeepLearningHomework1/runs/9dxemw2g' target=\"_blank\">https://wandb.ai/brianmwigo/DeepLearningHomework1/runs/9dxemw2g</a>"
      ],
      "text/plain": [
       "<IPython.core.display.HTML object>"
      ]
     },
     "metadata": {},
     "output_type": "display_data"
    },
    {
     "name": "stdout",
     "output_type": "stream",
     "text": [
      "epoch: 0, loss: 7.508e-02, accuracy_train: 0.77, accuracy_val: 0.77, learning rate: 1.000e-03\n",
      "epoch: 1, loss: 4.841e-02, accuracy_train: 0.80, accuracy_val: 0.80, learning rate: 1.000e-03\n",
      "epoch: 2, loss: 4.360e-02, accuracy_train: 0.83, accuracy_val: 0.82, learning rate: 1.000e-03\n",
      "epoch: 3, loss: 4.083e-02, accuracy_train: 0.84, accuracy_val: 0.83, learning rate: 1.000e-03\n",
      "epoch: 4, loss: 3.883e-02, accuracy_train: 0.85, accuracy_val: 0.83, learning rate: 1.000e-03\n",
      "epoch: 5, loss: 3.723e-02, accuracy_train: 0.85, accuracy_val: 0.84, learning rate: 1.000e-03\n",
      "epoch: 6, loss: 3.594e-02, accuracy_train: 0.86, accuracy_val: 0.85, learning rate: 1.000e-03\n",
      "epoch: 7, loss: 3.488e-02, accuracy_train: 0.87, accuracy_val: 0.85, learning rate: 1.000e-03\n",
      "epoch: 8, loss: 3.393e-02, accuracy_train: 0.87, accuracy_val: 0.86, learning rate: 1.000e-03\n",
      "epoch: 9, loss: 3.310e-02, accuracy_train: 0.88, accuracy_val: 0.86, learning rate: 1.000e-03\n"
     ]
    },
    {
     "data": {
      "application/vnd.jupyter.widget-view+json": {
       "model_id": "64843ce0c11444f499f937cf5ff2e4e8",
       "version_major": 2,
       "version_minor": 0
      },
      "text/plain": [
       "VBox(children=(Label(value='0.001 MB of 0.001 MB uploaded\\r'), FloatProgress(value=1.0, max=1.0)))"
      ]
     },
     "metadata": {},
     "output_type": "display_data"
    },
    {
     "data": {
      "text/html": [
       "<style>\n",
       "    table.wandb td:nth-child(1) { padding: 0 10px; text-align: left ; width: auto;} td:nth-child(2) {text-align: left ; width: 100%}\n",
       "    .wandb-row { display: flex; flex-direction: row; flex-wrap: wrap; justify-content: flex-start; width: 100% }\n",
       "    .wandb-col { display: flex; flex-direction: column; flex-basis: 100%; flex: 1; padding: 10px; }\n",
       "    </style>\n",
       "<div class=\"wandb-row\"><div class=\"wandb-col\"><h3>Run history:</h3><br/><table class=\"wandb\"><tr><td>epoch</td><td>▁▂▃▃▄▅▆▆▇█</td></tr><tr><td>loss</td><td>█▅▄▃▃▂▂▁▁▁</td></tr><tr><td>trainingaccuracy</td><td>▁▃▅▆▆▇▇▇██</td></tr><tr><td>validationaccuracy</td><td>▁▃▅▆▆▇▇███</td></tr></table><br/></div><div class=\"wandb-col\"><h3>Run summary:</h3><br/><table class=\"wandb\"><tr><td>epoch</td><td>9</td></tr><tr><td>loss</td><td>0.04218</td></tr><tr><td>trainingaccuracy</td><td>0.87552</td></tr><tr><td>validationaccuracy</td><td>0.859</td></tr></table><br/></div></div>"
      ],
      "text/plain": [
       "<IPython.core.display.HTML object>"
      ]
     },
     "metadata": {},
     "output_type": "display_data"
    },
    {
     "data": {
      "text/html": [
       " View run <strong style=\"color:#cdcd00\">mild-sweep-17</strong> at: <a href='https://wandb.ai/brianmwigo/DeepLearningHomework1/runs/9dxemw2g' target=\"_blank\">https://wandb.ai/brianmwigo/DeepLearningHomework1/runs/9dxemw2g</a><br/>Synced 5 W&B file(s), 0 media file(s), 0 artifact file(s) and 0 other file(s)"
      ],
      "text/plain": [
       "<IPython.core.display.HTML object>"
      ]
     },
     "metadata": {},
     "output_type": "display_data"
    },
    {
     "data": {
      "text/html": [
       "Find logs at: <code>./wandb/run-20240229_204431-9dxemw2g/logs</code>"
      ],
      "text/plain": [
       "<IPython.core.display.HTML object>"
      ]
     },
     "metadata": {},
     "output_type": "display_data"
    },
    {
     "name": "stderr",
     "output_type": "stream",
     "text": [
      "\u001b[34m\u001b[1mwandb\u001b[0m: Agent Starting Run: wieygo2w with config:\n",
      "\u001b[34m\u001b[1mwandb\u001b[0m: \tactivation: relu\n",
      "\u001b[34m\u001b[1mwandb\u001b[0m: \tbatch_size: 16\n",
      "\u001b[34m\u001b[1mwandb\u001b[0m: \tinitializer: xavier\n",
      "\u001b[34m\u001b[1mwandb\u001b[0m: \tlearning_rate: 0.001\n",
      "\u001b[34m\u001b[1mwandb\u001b[0m: \tmax_epochs: 10\n",
      "\u001b[34m\u001b[1mwandb\u001b[0m: \tnum_hidden_neurons: 32\n",
      "\u001b[34m\u001b[1mwandb\u001b[0m: \tnum_layers: 3\n",
      "\u001b[34m\u001b[1mwandb\u001b[0m: \toptimizer: sgd\n",
      "\u001b[34m\u001b[1mwandb\u001b[0m: \tweight_decay: 0\n"
     ]
    },
    {
     "data": {
      "text/html": [
       "Tracking run with wandb version 0.16.3"
      ],
      "text/plain": [
       "<IPython.core.display.HTML object>"
      ]
     },
     "metadata": {},
     "output_type": "display_data"
    },
    {
     "data": {
      "text/html": [
       "Run data is saved locally in <code>/content/wandb/run-20240229_205322-wieygo2w</code>"
      ],
      "text/plain": [
       "<IPython.core.display.HTML object>"
      ]
     },
     "metadata": {},
     "output_type": "display_data"
    },
    {
     "data": {
      "text/html": [
       "Syncing run <strong><a href='https://wandb.ai/brianmwigo/DeepLearningHomework1/runs/wieygo2w' target=\"_blank\">golden-sweep-18</a></strong> to <a href='https://wandb.ai/brianmwigo/DeepLearningHomework1' target=\"_blank\">Weights & Biases</a> (<a href='https://wandb.me/run' target=\"_blank\">docs</a>)<br/>Sweep page: <a href='https://wandb.ai/brianmwigo/DeepLearningHomework1/sweeps/esqa44ap' target=\"_blank\">https://wandb.ai/brianmwigo/DeepLearningHomework1/sweeps/esqa44ap</a>"
      ],
      "text/plain": [
       "<IPython.core.display.HTML object>"
      ]
     },
     "metadata": {},
     "output_type": "display_data"
    },
    {
     "data": {
      "text/html": [
       " View project at <a href='https://wandb.ai/brianmwigo/DeepLearningHomework1' target=\"_blank\">https://wandb.ai/brianmwigo/DeepLearningHomework1</a>"
      ],
      "text/plain": [
       "<IPython.core.display.HTML object>"
      ]
     },
     "metadata": {},
     "output_type": "display_data"
    },
    {
     "data": {
      "text/html": [
       " View sweep at <a href='https://wandb.ai/brianmwigo/DeepLearningHomework1/sweeps/esqa44ap' target=\"_blank\">https://wandb.ai/brianmwigo/DeepLearningHomework1/sweeps/esqa44ap</a>"
      ],
      "text/plain": [
       "<IPython.core.display.HTML object>"
      ]
     },
     "metadata": {},
     "output_type": "display_data"
    },
    {
     "data": {
      "text/html": [
       " View run at <a href='https://wandb.ai/brianmwigo/DeepLearningHomework1/runs/wieygo2w' target=\"_blank\">https://wandb.ai/brianmwigo/DeepLearningHomework1/runs/wieygo2w</a>"
      ],
      "text/plain": [
       "<IPython.core.display.HTML object>"
      ]
     },
     "metadata": {},
     "output_type": "display_data"
    },
    {
     "name": "stdout",
     "output_type": "stream",
     "text": [
      "epoch: 0, loss: 1.749e-01, accuracy_train: 0.66, accuracy_val: 0.66, learning rate: 1.000e-03\n",
      "epoch: 1, loss: 8.329e-02, accuracy_train: 0.75, accuracy_val: 0.75, learning rate: 1.000e-03\n",
      "epoch: 2, loss: 6.595e-02, accuracy_train: 0.78, accuracy_val: 0.77, learning rate: 1.000e-03\n",
      "epoch: 3, loss: 5.874e-02, accuracy_train: 0.80, accuracy_val: 0.79, learning rate: 1.000e-03\n",
      "epoch: 4, loss: 5.457e-02, accuracy_train: 0.81, accuracy_val: 0.80, learning rate: 1.000e-03\n",
      "epoch: 5, loss: 5.179e-02, accuracy_train: 0.82, accuracy_val: 0.81, learning rate: 1.000e-03\n",
      "epoch: 6, loss: 4.981e-02, accuracy_train: 0.82, accuracy_val: 0.81, learning rate: 1.000e-03\n",
      "epoch: 7, loss: 4.830e-02, accuracy_train: 0.83, accuracy_val: 0.82, learning rate: 1.000e-03\n",
      "epoch: 8, loss: 4.708e-02, accuracy_train: 0.83, accuracy_val: 0.82, learning rate: 1.000e-03\n",
      "epoch: 9, loss: 4.604e-02, accuracy_train: 0.84, accuracy_val: 0.83, learning rate: 1.000e-03\n"
     ]
    },
    {
     "data": {
      "application/vnd.jupyter.widget-view+json": {
       "model_id": "7fa08abbc7434297a080795610ce8590",
       "version_major": 2,
       "version_minor": 0
      },
      "text/plain": [
       "VBox(children=(Label(value='0.001 MB of 0.001 MB uploaded\\r'), FloatProgress(value=1.0, max=1.0)))"
      ]
     },
     "metadata": {},
     "output_type": "display_data"
    },
    {
     "data": {
      "text/html": [
       "<style>\n",
       "    table.wandb td:nth-child(1) { padding: 0 10px; text-align: left ; width: auto;} td:nth-child(2) {text-align: left ; width: 100%}\n",
       "    .wandb-row { display: flex; flex-direction: row; flex-wrap: wrap; justify-content: flex-start; width: 100% }\n",
       "    .wandb-col { display: flex; flex-direction: column; flex-basis: 100%; flex: 1; padding: 10px; }\n",
       "    </style>\n",
       "<div class=\"wandb-row\"><div class=\"wandb-col\"><h3>Run history:</h3><br/><table class=\"wandb\"><tr><td>epoch</td><td>▁▂▃▃▄▅▆▆▇█</td></tr><tr><td>loss</td><td>█▅▄▃▂▂▂▁▁▁</td></tr><tr><td>trainingaccuracy</td><td>▁▅▆▆▇▇▇███</td></tr><tr><td>validationaccuracy</td><td>▁▅▆▆▇▇████</td></tr></table><br/></div><div class=\"wandb-col\"><h3>Run summary:</h3><br/><table class=\"wandb\"><tr><td>epoch</td><td>9</td></tr><tr><td>loss</td><td>0.06805</td></tr><tr><td>trainingaccuracy</td><td>0.83609</td></tr><tr><td>validationaccuracy</td><td>0.82533</td></tr></table><br/></div></div>"
      ],
      "text/plain": [
       "<IPython.core.display.HTML object>"
      ]
     },
     "metadata": {},
     "output_type": "display_data"
    },
    {
     "data": {
      "text/html": [
       " View run <strong style=\"color:#cdcd00\">golden-sweep-18</strong> at: <a href='https://wandb.ai/brianmwigo/DeepLearningHomework1/runs/wieygo2w' target=\"_blank\">https://wandb.ai/brianmwigo/DeepLearningHomework1/runs/wieygo2w</a><br/>Synced 5 W&B file(s), 0 media file(s), 0 artifact file(s) and 0 other file(s)"
      ],
      "text/plain": [
       "<IPython.core.display.HTML object>"
      ]
     },
     "metadata": {},
     "output_type": "display_data"
    },
    {
     "data": {
      "text/html": [
       "Find logs at: <code>./wandb/run-20240229_205322-wieygo2w/logs</code>"
      ],
      "text/plain": [
       "<IPython.core.display.HTML object>"
      ]
     },
     "metadata": {},
     "output_type": "display_data"
    },
    {
     "name": "stderr",
     "output_type": "stream",
     "text": [
      "\u001b[34m\u001b[1mwandb\u001b[0m: Agent Starting Run: m9jr9fag with config:\n",
      "\u001b[34m\u001b[1mwandb\u001b[0m: \tactivation: sigmoid\n",
      "\u001b[34m\u001b[1mwandb\u001b[0m: \tbatch_size: 32\n",
      "\u001b[34m\u001b[1mwandb\u001b[0m: \tinitializer: xavier\n",
      "\u001b[34m\u001b[1mwandb\u001b[0m: \tlearning_rate: 0.001\n",
      "\u001b[34m\u001b[1mwandb\u001b[0m: \tmax_epochs: 10\n",
      "\u001b[34m\u001b[1mwandb\u001b[0m: \tnum_hidden_neurons: 64\n",
      "\u001b[34m\u001b[1mwandb\u001b[0m: \tnum_layers: 5\n",
      "\u001b[34m\u001b[1mwandb\u001b[0m: \toptimizer: momentum\n",
      "\u001b[34m\u001b[1mwandb\u001b[0m: \tweight_decay: 0\n"
     ]
    },
    {
     "data": {
      "text/html": [
       "Tracking run with wandb version 0.16.3"
      ],
      "text/plain": [
       "<IPython.core.display.HTML object>"
      ]
     },
     "metadata": {},
     "output_type": "display_data"
    },
    {
     "data": {
      "text/html": [
       "Run data is saved locally in <code>/content/wandb/run-20240229_210207-m9jr9fag</code>"
      ],
      "text/plain": [
       "<IPython.core.display.HTML object>"
      ]
     },
     "metadata": {},
     "output_type": "display_data"
    },
    {
     "data": {
      "text/html": [
       "Syncing run <strong><a href='https://wandb.ai/brianmwigo/DeepLearningHomework1/runs/m9jr9fag' target=\"_blank\">sweet-sweep-19</a></strong> to <a href='https://wandb.ai/brianmwigo/DeepLearningHomework1' target=\"_blank\">Weights & Biases</a> (<a href='https://wandb.me/run' target=\"_blank\">docs</a>)<br/>Sweep page: <a href='https://wandb.ai/brianmwigo/DeepLearningHomework1/sweeps/esqa44ap' target=\"_blank\">https://wandb.ai/brianmwigo/DeepLearningHomework1/sweeps/esqa44ap</a>"
      ],
      "text/plain": [
       "<IPython.core.display.HTML object>"
      ]
     },
     "metadata": {},
     "output_type": "display_data"
    },
    {
     "data": {
      "text/html": [
       " View project at <a href='https://wandb.ai/brianmwigo/DeepLearningHomework1' target=\"_blank\">https://wandb.ai/brianmwigo/DeepLearningHomework1</a>"
      ],
      "text/plain": [
       "<IPython.core.display.HTML object>"
      ]
     },
     "metadata": {},
     "output_type": "display_data"
    },
    {
     "data": {
      "text/html": [
       " View sweep at <a href='https://wandb.ai/brianmwigo/DeepLearningHomework1/sweeps/esqa44ap' target=\"_blank\">https://wandb.ai/brianmwigo/DeepLearningHomework1/sweeps/esqa44ap</a>"
      ],
      "text/plain": [
       "<IPython.core.display.HTML object>"
      ]
     },
     "metadata": {},
     "output_type": "display_data"
    },
    {
     "data": {
      "text/html": [
       " View run at <a href='https://wandb.ai/brianmwigo/DeepLearningHomework1/runs/m9jr9fag' target=\"_blank\">https://wandb.ai/brianmwigo/DeepLearningHomework1/runs/m9jr9fag</a>"
      ],
      "text/plain": [
       "<IPython.core.display.HTML object>"
      ]
     },
     "metadata": {},
     "output_type": "display_data"
    },
    {
     "name": "stdout",
     "output_type": "stream",
     "text": [
      "epoch: 0, loss: 1.024e-01, accuracy_train: 0.77, accuracy_val: 0.76, learning rate: 1.000e-03\n",
      "epoch: 1, loss: 5.620e-02, accuracy_train: 0.82, accuracy_val: 0.81, learning rate: 1.000e-03\n",
      "epoch: 2, loss: 4.855e-02, accuracy_train: 0.84, accuracy_val: 0.83, learning rate: 1.000e-03\n",
      "epoch: 3, loss: 4.497e-02, accuracy_train: 0.84, accuracy_val: 0.83, learning rate: 1.000e-03\n",
      "epoch: 4, loss: 4.271e-02, accuracy_train: 0.85, accuracy_val: 0.84, learning rate: 1.000e-03\n",
      "epoch: 5, loss: 4.105e-02, accuracy_train: 0.85, accuracy_val: 0.84, learning rate: 1.000e-03\n",
      "epoch: 6, loss: 3.980e-02, accuracy_train: 0.86, accuracy_val: 0.85, learning rate: 1.000e-03\n",
      "epoch: 7, loss: 3.871e-02, accuracy_train: 0.86, accuracy_val: 0.85, learning rate: 1.000e-03\n",
      "epoch: 8, loss: 3.778e-02, accuracy_train: 0.87, accuracy_val: 0.85, learning rate: 1.000e-03\n",
      "epoch: 9, loss: 3.691e-02, accuracy_train: 0.87, accuracy_val: 0.86, learning rate: 1.000e-03\n"
     ]
    },
    {
     "data": {
      "application/vnd.jupyter.widget-view+json": {
       "model_id": "f50d2d596a654f9e913ea70e63818294",
       "version_major": 2,
       "version_minor": 0
      },
      "text/plain": [
       "VBox(children=(Label(value='0.001 MB of 0.001 MB uploaded\\r'), FloatProgress(value=1.0, max=1.0)))"
      ]
     },
     "metadata": {},
     "output_type": "display_data"
    },
    {
     "data": {
      "text/html": [
       "<style>\n",
       "    table.wandb td:nth-child(1) { padding: 0 10px; text-align: left ; width: auto;} td:nth-child(2) {text-align: left ; width: 100%}\n",
       "    .wandb-row { display: flex; flex-direction: row; flex-wrap: wrap; justify-content: flex-start; width: 100% }\n",
       "    .wandb-col { display: flex; flex-direction: column; flex-basis: 100%; flex: 1; padding: 10px; }\n",
       "    </style>\n",
       "<div class=\"wandb-row\"><div class=\"wandb-col\"><h3>Run history:</h3><br/><table class=\"wandb\"><tr><td>epoch</td><td>▁▂▃▃▄▅▆▆▇█</td></tr><tr><td>loss</td><td>█▅▄▃▂▂▂▁▁▁</td></tr><tr><td>trainingaccuracy</td><td>▁▄▆▆▇▇▇▇██</td></tr><tr><td>validationaccuracy</td><td>▁▅▆▆▇▇▇▇██</td></tr></table><br/></div><div class=\"wandb-col\"><h3>Run summary:</h3><br/><table class=\"wandb\"><tr><td>epoch</td><td>9</td></tr><tr><td>loss</td><td>0.04891</td></tr><tr><td>trainingaccuracy</td><td>0.87022</td></tr><tr><td>validationaccuracy</td><td>0.85683</td></tr></table><br/></div></div>"
      ],
      "text/plain": [
       "<IPython.core.display.HTML object>"
      ]
     },
     "metadata": {},
     "output_type": "display_data"
    },
    {
     "data": {
      "text/html": [
       " View run <strong style=\"color:#cdcd00\">sweet-sweep-19</strong> at: <a href='https://wandb.ai/brianmwigo/DeepLearningHomework1/runs/m9jr9fag' target=\"_blank\">https://wandb.ai/brianmwigo/DeepLearningHomework1/runs/m9jr9fag</a><br/>Synced 5 W&B file(s), 0 media file(s), 0 artifact file(s) and 0 other file(s)"
      ],
      "text/plain": [
       "<IPython.core.display.HTML object>"
      ]
     },
     "metadata": {},
     "output_type": "display_data"
    },
    {
     "data": {
      "text/html": [
       "Find logs at: <code>./wandb/run-20240229_210207-m9jr9fag/logs</code>"
      ],
      "text/plain": [
       "<IPython.core.display.HTML object>"
      ]
     },
     "metadata": {},
     "output_type": "display_data"
    },
    {
     "name": "stderr",
     "output_type": "stream",
     "text": [
      "\u001b[34m\u001b[1mwandb\u001b[0m: Sweep Agent: Waiting for job.\n",
      "\u001b[34m\u001b[1mwandb\u001b[0m: Job received.\n",
      "\u001b[34m\u001b[1mwandb\u001b[0m: Agent Starting Run: ghzg3ts4 with config:\n",
      "\u001b[34m\u001b[1mwandb\u001b[0m: \tactivation: relu\n",
      "\u001b[34m\u001b[1mwandb\u001b[0m: \tbatch_size: 16\n",
      "\u001b[34m\u001b[1mwandb\u001b[0m: \tinitializer: xavier\n",
      "\u001b[34m\u001b[1mwandb\u001b[0m: \tlearning_rate: 0.001\n",
      "\u001b[34m\u001b[1mwandb\u001b[0m: \tmax_epochs: 10\n",
      "\u001b[34m\u001b[1mwandb\u001b[0m: \tnum_hidden_neurons: 128\n",
      "\u001b[34m\u001b[1mwandb\u001b[0m: \tnum_layers: 5\n",
      "\u001b[34m\u001b[1mwandb\u001b[0m: \toptimizer: momentum\n",
      "\u001b[34m\u001b[1mwandb\u001b[0m: \tweight_decay: 0\n"
     ]
    },
    {
     "data": {
      "text/html": [
       "Tracking run with wandb version 0.16.3"
      ],
      "text/plain": [
       "<IPython.core.display.HTML object>"
      ]
     },
     "metadata": {},
     "output_type": "display_data"
    },
    {
     "data": {
      "text/html": [
       "Run data is saved locally in <code>/content/wandb/run-20240229_211101-ghzg3ts4</code>"
      ],
      "text/plain": [
       "<IPython.core.display.HTML object>"
      ]
     },
     "metadata": {},
     "output_type": "display_data"
    },
    {
     "data": {
      "text/html": [
       "Syncing run <strong><a href='https://wandb.ai/brianmwigo/DeepLearningHomework1/runs/ghzg3ts4' target=\"_blank\">sweepy-sweep-20</a></strong> to <a href='https://wandb.ai/brianmwigo/DeepLearningHomework1' target=\"_blank\">Weights & Biases</a> (<a href='https://wandb.me/run' target=\"_blank\">docs</a>)<br/>Sweep page: <a href='https://wandb.ai/brianmwigo/DeepLearningHomework1/sweeps/esqa44ap' target=\"_blank\">https://wandb.ai/brianmwigo/DeepLearningHomework1/sweeps/esqa44ap</a>"
      ],
      "text/plain": [
       "<IPython.core.display.HTML object>"
      ]
     },
     "metadata": {},
     "output_type": "display_data"
    },
    {
     "data": {
      "text/html": [
       " View project at <a href='https://wandb.ai/brianmwigo/DeepLearningHomework1' target=\"_blank\">https://wandb.ai/brianmwigo/DeepLearningHomework1</a>"
      ],
      "text/plain": [
       "<IPython.core.display.HTML object>"
      ]
     },
     "metadata": {},
     "output_type": "display_data"
    },
    {
     "data": {
      "text/html": [
       " View sweep at <a href='https://wandb.ai/brianmwigo/DeepLearningHomework1/sweeps/esqa44ap' target=\"_blank\">https://wandb.ai/brianmwigo/DeepLearningHomework1/sweeps/esqa44ap</a>"
      ],
      "text/plain": [
       "<IPython.core.display.HTML object>"
      ]
     },
     "metadata": {},
     "output_type": "display_data"
    },
    {
     "data": {
      "text/html": [
       " View run at <a href='https://wandb.ai/brianmwigo/DeepLearningHomework1/runs/ghzg3ts4' target=\"_blank\">https://wandb.ai/brianmwigo/DeepLearningHomework1/runs/ghzg3ts4</a>"
      ],
      "text/plain": [
       "<IPython.core.display.HTML object>"
      ]
     },
     "metadata": {},
     "output_type": "display_data"
    },
    {
     "name": "stdout",
     "output_type": "stream",
     "text": [
      "epoch: 0, loss: 7.704e-02, accuracy_train: 0.77, accuracy_val: 0.77, learning rate: 1.000e-03\n",
      "epoch: 1, loss: 4.780e-02, accuracy_train: 0.80, accuracy_val: 0.79, learning rate: 1.000e-03\n",
      "epoch: 2, loss: 4.282e-02, accuracy_train: 0.82, accuracy_val: 0.81, learning rate: 1.000e-03\n",
      "epoch: 3, loss: 4.000e-02, accuracy_train: 0.84, accuracy_val: 0.83, learning rate: 1.000e-03\n",
      "epoch: 4, loss: 3.800e-02, accuracy_train: 0.85, accuracy_val: 0.84, learning rate: 1.000e-03\n",
      "epoch: 5, loss: 3.644e-02, accuracy_train: 0.86, accuracy_val: 0.85, learning rate: 1.000e-03\n",
      "epoch: 6, loss: 3.514e-02, accuracy_train: 0.87, accuracy_val: 0.86, learning rate: 1.000e-03\n",
      "epoch: 7, loss: 3.408e-02, accuracy_train: 0.87, accuracy_val: 0.86, learning rate: 1.000e-03\n",
      "epoch: 8, loss: 3.315e-02, accuracy_train: 0.88, accuracy_val: 0.87, learning rate: 1.000e-03\n",
      "epoch: 9, loss: 3.237e-02, accuracy_train: 0.88, accuracy_val: 0.87, learning rate: 1.000e-03\n"
     ]
    },
    {
     "data": {
      "application/vnd.jupyter.widget-view+json": {
       "model_id": "16a3fd8b89ef49608e978fc78f5ba559",
       "version_major": 2,
       "version_minor": 0
      },
      "text/plain": [
       "VBox(children=(Label(value='0.001 MB of 0.001 MB uploaded\\r'), FloatProgress(value=1.0, max=1.0)))"
      ]
     },
     "metadata": {},
     "output_type": "display_data"
    },
    {
     "data": {
      "text/html": [
       "<style>\n",
       "    table.wandb td:nth-child(1) { padding: 0 10px; text-align: left ; width: auto;} td:nth-child(2) {text-align: left ; width: 100%}\n",
       "    .wandb-row { display: flex; flex-direction: row; flex-wrap: wrap; justify-content: flex-start; width: 100% }\n",
       "    .wandb-col { display: flex; flex-direction: column; flex-basis: 100%; flex: 1; padding: 10px; }\n",
       "    </style>\n",
       "<div class=\"wandb-row\"><div class=\"wandb-col\"><h3>Run history:</h3><br/><table class=\"wandb\"><tr><td>epoch</td><td>▁▂▃▃▄▅▆▆▇█</td></tr><tr><td>loss</td><td>█▅▄▃▂▂▂▁▁▁</td></tr><tr><td>trainingaccuracy</td><td>▁▃▄▅▆▇▇▇██</td></tr><tr><td>validationaccuracy</td><td>▁▃▄▅▆▇▇███</td></tr></table><br/></div><div class=\"wandb-col\"><h3>Run summary:</h3><br/><table class=\"wandb\"><tr><td>epoch</td><td>9</td></tr><tr><td>loss</td><td>0.04169</td></tr><tr><td>trainingaccuracy</td><td>0.88072</td></tr><tr><td>validationaccuracy</td><td>0.8695</td></tr></table><br/></div></div>"
      ],
      "text/plain": [
       "<IPython.core.display.HTML object>"
      ]
     },
     "metadata": {},
     "output_type": "display_data"
    },
    {
     "data": {
      "text/html": [
       " View run <strong style=\"color:#cdcd00\">sweepy-sweep-20</strong> at: <a href='https://wandb.ai/brianmwigo/DeepLearningHomework1/runs/ghzg3ts4' target=\"_blank\">https://wandb.ai/brianmwigo/DeepLearningHomework1/runs/ghzg3ts4</a><br/>Synced 5 W&B file(s), 0 media file(s), 0 artifact file(s) and 0 other file(s)"
      ],
      "text/plain": [
       "<IPython.core.display.HTML object>"
      ]
     },
     "metadata": {},
     "output_type": "display_data"
    },
    {
     "data": {
      "text/html": [
       "Find logs at: <code>./wandb/run-20240229_211101-ghzg3ts4/logs</code>"
      ],
      "text/plain": [
       "<IPython.core.display.HTML object>"
      ]
     },
     "metadata": {},
     "output_type": "display_data"
    },
    {
     "name": "stderr",
     "output_type": "stream",
     "text": [
      "\u001b[34m\u001b[1mwandb\u001b[0m: Agent Starting Run: nw6eb3ao with config:\n",
      "\u001b[34m\u001b[1mwandb\u001b[0m: \tactivation: tanh\n",
      "\u001b[34m\u001b[1mwandb\u001b[0m: \tbatch_size: 16\n",
      "\u001b[34m\u001b[1mwandb\u001b[0m: \tinitializer: xavier\n",
      "\u001b[34m\u001b[1mwandb\u001b[0m: \tlearning_rate: 0.001\n",
      "\u001b[34m\u001b[1mwandb\u001b[0m: \tmax_epochs: 10\n",
      "\u001b[34m\u001b[1mwandb\u001b[0m: \tnum_hidden_neurons: 64\n",
      "\u001b[34m\u001b[1mwandb\u001b[0m: \tnum_layers: 5\n",
      "\u001b[34m\u001b[1mwandb\u001b[0m: \toptimizer: sgd\n",
      "\u001b[34m\u001b[1mwandb\u001b[0m: \tweight_decay: 0.0005\n"
     ]
    },
    {
     "data": {
      "text/html": [
       "Tracking run with wandb version 0.16.3"
      ],
      "text/plain": [
       "<IPython.core.display.HTML object>"
      ]
     },
     "metadata": {},
     "output_type": "display_data"
    },
    {
     "data": {
      "text/html": [
       "Run data is saved locally in <code>/content/wandb/run-20240229_211956-nw6eb3ao</code>"
      ],
      "text/plain": [
       "<IPython.core.display.HTML object>"
      ]
     },
     "metadata": {},
     "output_type": "display_data"
    },
    {
     "data": {
      "text/html": [
       "Syncing run <strong><a href='https://wandb.ai/brianmwigo/DeepLearningHomework1/runs/nw6eb3ao' target=\"_blank\">whole-sweep-21</a></strong> to <a href='https://wandb.ai/brianmwigo/DeepLearningHomework1' target=\"_blank\">Weights & Biases</a> (<a href='https://wandb.me/run' target=\"_blank\">docs</a>)<br/>Sweep page: <a href='https://wandb.ai/brianmwigo/DeepLearningHomework1/sweeps/esqa44ap' target=\"_blank\">https://wandb.ai/brianmwigo/DeepLearningHomework1/sweeps/esqa44ap</a>"
      ],
      "text/plain": [
       "<IPython.core.display.HTML object>"
      ]
     },
     "metadata": {},
     "output_type": "display_data"
    },
    {
     "data": {
      "text/html": [
       " View project at <a href='https://wandb.ai/brianmwigo/DeepLearningHomework1' target=\"_blank\">https://wandb.ai/brianmwigo/DeepLearningHomework1</a>"
      ],
      "text/plain": [
       "<IPython.core.display.HTML object>"
      ]
     },
     "metadata": {},
     "output_type": "display_data"
    },
    {
     "data": {
      "text/html": [
       " View sweep at <a href='https://wandb.ai/brianmwigo/DeepLearningHomework1/sweeps/esqa44ap' target=\"_blank\">https://wandb.ai/brianmwigo/DeepLearningHomework1/sweeps/esqa44ap</a>"
      ],
      "text/plain": [
       "<IPython.core.display.HTML object>"
      ]
     },
     "metadata": {},
     "output_type": "display_data"
    },
    {
     "data": {
      "text/html": [
       " View run at <a href='https://wandb.ai/brianmwigo/DeepLearningHomework1/runs/nw6eb3ao' target=\"_blank\">https://wandb.ai/brianmwigo/DeepLearningHomework1/runs/nw6eb3ao</a>"
      ],
      "text/plain": [
       "<IPython.core.display.HTML object>"
      ]
     },
     "metadata": {},
     "output_type": "display_data"
    },
    {
     "name": "stdout",
     "output_type": "stream",
     "text": [
      "epoch: 0, loss: 1.648e-01, accuracy_train: 0.68, accuracy_val: 0.67, learning rate: 1.000e-03\n",
      "epoch: 1, loss: 8.205e-02, accuracy_train: 0.74, accuracy_val: 0.74, learning rate: 1.000e-03\n",
      "epoch: 2, loss: 6.720e-02, accuracy_train: 0.77, accuracy_val: 0.76, learning rate: 1.000e-03\n",
      "epoch: 3, loss: 6.088e-02, accuracy_train: 0.79, accuracy_val: 0.78, learning rate: 1.000e-03\n",
      "epoch: 4, loss: 5.686e-02, accuracy_train: 0.80, accuracy_val: 0.79, learning rate: 1.000e-03\n",
      "epoch: 5, loss: 5.406e-02, accuracy_train: 0.81, accuracy_val: 0.80, learning rate: 1.000e-03\n",
      "epoch: 6, loss: 5.204e-02, accuracy_train: 0.81, accuracy_val: 0.80, learning rate: 1.000e-03\n",
      "epoch: 7, loss: 5.050e-02, accuracy_train: 0.82, accuracy_val: 0.81, learning rate: 1.000e-03\n",
      "epoch: 8, loss: 4.924e-02, accuracy_train: 0.82, accuracy_val: 0.81, learning rate: 1.000e-03\n",
      "epoch: 9, loss: 4.815e-02, accuracy_train: 0.83, accuracy_val: 0.82, learning rate: 1.000e-03\n"
     ]
    },
    {
     "data": {
      "application/vnd.jupyter.widget-view+json": {
       "model_id": "d3d1dbc97ed04c4d98002efe7c6edc2c",
       "version_major": 2,
       "version_minor": 0
      },
      "text/plain": [
       "VBox(children=(Label(value='0.001 MB of 0.001 MB uploaded\\r'), FloatProgress(value=1.0, max=1.0)))"
      ]
     },
     "metadata": {},
     "output_type": "display_data"
    },
    {
     "data": {
      "text/html": [
       "<style>\n",
       "    table.wandb td:nth-child(1) { padding: 0 10px; text-align: left ; width: auto;} td:nth-child(2) {text-align: left ; width: 100%}\n",
       "    .wandb-row { display: flex; flex-direction: row; flex-wrap: wrap; justify-content: flex-start; width: 100% }\n",
       "    .wandb-col { display: flex; flex-direction: column; flex-basis: 100%; flex: 1; padding: 10px; }\n",
       "    </style>\n",
       "<div class=\"wandb-row\"><div class=\"wandb-col\"><h3>Run history:</h3><br/><table class=\"wandb\"><tr><td>epoch</td><td>▁▂▃▃▄▅▆▆▇█</td></tr><tr><td>loss</td><td>█▅▄▃▂▂▂▁▁▁</td></tr><tr><td>trainingaccuracy</td><td>▁▄▅▆▇▇▇███</td></tr><tr><td>validationaccuracy</td><td>▁▄▅▆▇▇▇███</td></tr></table><br/></div><div class=\"wandb-col\"><h3>Run summary:</h3><br/><table class=\"wandb\"><tr><td>epoch</td><td>9</td></tr><tr><td>loss</td><td>0.06858</td></tr><tr><td>trainingaccuracy</td><td>0.82743</td></tr><tr><td>validationaccuracy</td><td>0.8165</td></tr></table><br/></div></div>"
      ],
      "text/plain": [
       "<IPython.core.display.HTML object>"
      ]
     },
     "metadata": {},
     "output_type": "display_data"
    },
    {
     "data": {
      "text/html": [
       " View run <strong style=\"color:#cdcd00\">whole-sweep-21</strong> at: <a href='https://wandb.ai/brianmwigo/DeepLearningHomework1/runs/nw6eb3ao' target=\"_blank\">https://wandb.ai/brianmwigo/DeepLearningHomework1/runs/nw6eb3ao</a><br/>Synced 5 W&B file(s), 0 media file(s), 0 artifact file(s) and 0 other file(s)"
      ],
      "text/plain": [
       "<IPython.core.display.HTML object>"
      ]
     },
     "metadata": {},
     "output_type": "display_data"
    },
    {
     "data": {
      "text/html": [
       "Find logs at: <code>./wandb/run-20240229_211956-nw6eb3ao/logs</code>"
      ],
      "text/plain": [
       "<IPython.core.display.HTML object>"
      ]
     },
     "metadata": {},
     "output_type": "display_data"
    },
    {
     "name": "stderr",
     "output_type": "stream",
     "text": [
      "\u001b[34m\u001b[1mwandb\u001b[0m: Sweep Agent: Waiting for job.\n",
      "\u001b[34m\u001b[1mwandb\u001b[0m: Job received.\n",
      "\u001b[34m\u001b[1mwandb\u001b[0m: Agent Starting Run: trcliycf with config:\n",
      "\u001b[34m\u001b[1mwandb\u001b[0m: \tactivation: tanh\n",
      "\u001b[34m\u001b[1mwandb\u001b[0m: \tbatch_size: 16\n",
      "\u001b[34m\u001b[1mwandb\u001b[0m: \tinitializer: xavier\n",
      "\u001b[34m\u001b[1mwandb\u001b[0m: \tlearning_rate: 0.001\n",
      "\u001b[34m\u001b[1mwandb\u001b[0m: \tmax_epochs: 10\n",
      "\u001b[34m\u001b[1mwandb\u001b[0m: \tnum_hidden_neurons: 128\n",
      "\u001b[34m\u001b[1mwandb\u001b[0m: \tnum_layers: 5\n",
      "\u001b[34m\u001b[1mwandb\u001b[0m: \toptimizer: sgd\n",
      "\u001b[34m\u001b[1mwandb\u001b[0m: \tweight_decay: 0\n"
     ]
    },
    {
     "data": {
      "text/html": [
       "Tracking run with wandb version 0.16.3"
      ],
      "text/plain": [
       "<IPython.core.display.HTML object>"
      ]
     },
     "metadata": {},
     "output_type": "display_data"
    },
    {
     "data": {
      "text/html": [
       "Run data is saved locally in <code>/content/wandb/run-20240229_212854-trcliycf</code>"
      ],
      "text/plain": [
       "<IPython.core.display.HTML object>"
      ]
     },
     "metadata": {},
     "output_type": "display_data"
    },
    {
     "data": {
      "text/html": [
       "Syncing run <strong><a href='https://wandb.ai/brianmwigo/DeepLearningHomework1/runs/trcliycf' target=\"_blank\">deft-sweep-22</a></strong> to <a href='https://wandb.ai/brianmwigo/DeepLearningHomework1' target=\"_blank\">Weights & Biases</a> (<a href='https://wandb.me/run' target=\"_blank\">docs</a>)<br/>Sweep page: <a href='https://wandb.ai/brianmwigo/DeepLearningHomework1/sweeps/esqa44ap' target=\"_blank\">https://wandb.ai/brianmwigo/DeepLearningHomework1/sweeps/esqa44ap</a>"
      ],
      "text/plain": [
       "<IPython.core.display.HTML object>"
      ]
     },
     "metadata": {},
     "output_type": "display_data"
    },
    {
     "data": {
      "text/html": [
       " View project at <a href='https://wandb.ai/brianmwigo/DeepLearningHomework1' target=\"_blank\">https://wandb.ai/brianmwigo/DeepLearningHomework1</a>"
      ],
      "text/plain": [
       "<IPython.core.display.HTML object>"
      ]
     },
     "metadata": {},
     "output_type": "display_data"
    },
    {
     "data": {
      "text/html": [
       " View sweep at <a href='https://wandb.ai/brianmwigo/DeepLearningHomework1/sweeps/esqa44ap' target=\"_blank\">https://wandb.ai/brianmwigo/DeepLearningHomework1/sweeps/esqa44ap</a>"
      ],
      "text/plain": [
       "<IPython.core.display.HTML object>"
      ]
     },
     "metadata": {},
     "output_type": "display_data"
    },
    {
     "data": {
      "text/html": [
       " View run at <a href='https://wandb.ai/brianmwigo/DeepLearningHomework1/runs/trcliycf' target=\"_blank\">https://wandb.ai/brianmwigo/DeepLearningHomework1/runs/trcliycf</a>"
      ],
      "text/plain": [
       "<IPython.core.display.HTML object>"
      ]
     },
     "metadata": {},
     "output_type": "display_data"
    },
    {
     "name": "stdout",
     "output_type": "stream",
     "text": [
      "epoch: 0, loss: 1.636e-01, accuracy_train: 0.65, accuracy_val: 0.65, learning rate: 1.000e-03\n",
      "epoch: 1, loss: 8.563e-02, accuracy_train: 0.73, accuracy_val: 0.73, learning rate: 1.000e-03\n",
      "epoch: 2, loss: 6.967e-02, accuracy_train: 0.77, accuracy_val: 0.77, learning rate: 1.000e-03\n",
      "epoch: 3, loss: 6.198e-02, accuracy_train: 0.79, accuracy_val: 0.79, learning rate: 1.000e-03\n",
      "epoch: 4, loss: 5.725e-02, accuracy_train: 0.81, accuracy_val: 0.80, learning rate: 1.000e-03\n",
      "epoch: 5, loss: 5.416e-02, accuracy_train: 0.81, accuracy_val: 0.81, learning rate: 1.000e-03\n",
      "epoch: 6, loss: 5.203e-02, accuracy_train: 0.82, accuracy_val: 0.81, learning rate: 1.000e-03\n",
      "epoch: 7, loss: 5.042e-02, accuracy_train: 0.82, accuracy_val: 0.82, learning rate: 1.000e-03\n",
      "epoch: 8, loss: 4.912e-02, accuracy_train: 0.83, accuracy_val: 0.82, learning rate: 1.000e-03\n",
      "epoch: 9, loss: 4.800e-02, accuracy_train: 0.83, accuracy_val: 0.82, learning rate: 1.000e-03\n"
     ]
    },
    {
     "data": {
      "application/vnd.jupyter.widget-view+json": {
       "model_id": "e66eddafe5c34b4f87c94126fd5761c5",
       "version_major": 2,
       "version_minor": 0
      },
      "text/plain": [
       "VBox(children=(Label(value='0.001 MB of 0.001 MB uploaded\\r'), FloatProgress(value=1.0, max=1.0)))"
      ]
     },
     "metadata": {},
     "output_type": "display_data"
    },
    {
     "data": {
      "text/html": [
       "<style>\n",
       "    table.wandb td:nth-child(1) { padding: 0 10px; text-align: left ; width: auto;} td:nth-child(2) {text-align: left ; width: 100%}\n",
       "    .wandb-row { display: flex; flex-direction: row; flex-wrap: wrap; justify-content: flex-start; width: 100% }\n",
       "    .wandb-col { display: flex; flex-direction: column; flex-basis: 100%; flex: 1; padding: 10px; }\n",
       "    </style>\n",
       "<div class=\"wandb-row\"><div class=\"wandb-col\"><h3>Run history:</h3><br/><table class=\"wandb\"><tr><td>epoch</td><td>▁▂▃▃▄▅▆▆▇█</td></tr><tr><td>loss</td><td>█▅▄▃▂▂▂▁▁▁</td></tr><tr><td>trainingaccuracy</td><td>▁▄▆▇▇▇████</td></tr><tr><td>validationaccuracy</td><td>▁▄▆▇▇█████</td></tr></table><br/></div><div class=\"wandb-col\"><h3>Run summary:</h3><br/><table class=\"wandb\"><tr><td>epoch</td><td>9</td></tr><tr><td>loss</td><td>0.06919</td></tr><tr><td>trainingaccuracy</td><td>0.83044</td></tr><tr><td>validationaccuracy</td><td>0.82333</td></tr></table><br/></div></div>"
      ],
      "text/plain": [
       "<IPython.core.display.HTML object>"
      ]
     },
     "metadata": {},
     "output_type": "display_data"
    },
    {
     "data": {
      "text/html": [
       " View run <strong style=\"color:#cdcd00\">deft-sweep-22</strong> at: <a href='https://wandb.ai/brianmwigo/DeepLearningHomework1/runs/trcliycf' target=\"_blank\">https://wandb.ai/brianmwigo/DeepLearningHomework1/runs/trcliycf</a><br/>Synced 5 W&B file(s), 0 media file(s), 0 artifact file(s) and 0 other file(s)"
      ],
      "text/plain": [
       "<IPython.core.display.HTML object>"
      ]
     },
     "metadata": {},
     "output_type": "display_data"
    },
    {
     "data": {
      "text/html": [
       "Find logs at: <code>./wandb/run-20240229_212854-trcliycf/logs</code>"
      ],
      "text/plain": [
       "<IPython.core.display.HTML object>"
      ]
     },
     "metadata": {},
     "output_type": "display_data"
    },
    {
     "name": "stderr",
     "output_type": "stream",
     "text": [
      "\u001b[34m\u001b[1mwandb\u001b[0m: Agent Starting Run: xtjm881q with config:\n",
      "\u001b[34m\u001b[1mwandb\u001b[0m: \tactivation: sigmoid\n",
      "\u001b[34m\u001b[1mwandb\u001b[0m: \tbatch_size: 16\n",
      "\u001b[34m\u001b[1mwandb\u001b[0m: \tinitializer: xavier\n",
      "\u001b[34m\u001b[1mwandb\u001b[0m: \tlearning_rate: 0.001\n",
      "\u001b[34m\u001b[1mwandb\u001b[0m: \tmax_epochs: 10\n",
      "\u001b[34m\u001b[1mwandb\u001b[0m: \tnum_hidden_neurons: 128\n",
      "\u001b[34m\u001b[1mwandb\u001b[0m: \tnum_layers: 3\n",
      "\u001b[34m\u001b[1mwandb\u001b[0m: \toptimizer: nesterov\n",
      "\u001b[34m\u001b[1mwandb\u001b[0m: \tweight_decay: 0\n"
     ]
    },
    {
     "data": {
      "text/html": [
       "Tracking run with wandb version 0.16.3"
      ],
      "text/plain": [
       "<IPython.core.display.HTML object>"
      ]
     },
     "metadata": {},
     "output_type": "display_data"
    },
    {
     "data": {
      "text/html": [
       "Run data is saved locally in <code>/content/wandb/run-20240229_213750-xtjm881q</code>"
      ],
      "text/plain": [
       "<IPython.core.display.HTML object>"
      ]
     },
     "metadata": {},
     "output_type": "display_data"
    },
    {
     "data": {
      "text/html": [
       "Syncing run <strong><a href='https://wandb.ai/brianmwigo/DeepLearningHomework1/runs/xtjm881q' target=\"_blank\">solar-sweep-23</a></strong> to <a href='https://wandb.ai/brianmwigo/DeepLearningHomework1' target=\"_blank\">Weights & Biases</a> (<a href='https://wandb.me/run' target=\"_blank\">docs</a>)<br/>Sweep page: <a href='https://wandb.ai/brianmwigo/DeepLearningHomework1/sweeps/esqa44ap' target=\"_blank\">https://wandb.ai/brianmwigo/DeepLearningHomework1/sweeps/esqa44ap</a>"
      ],
      "text/plain": [
       "<IPython.core.display.HTML object>"
      ]
     },
     "metadata": {},
     "output_type": "display_data"
    },
    {
     "data": {
      "text/html": [
       " View project at <a href='https://wandb.ai/brianmwigo/DeepLearningHomework1' target=\"_blank\">https://wandb.ai/brianmwigo/DeepLearningHomework1</a>"
      ],
      "text/plain": [
       "<IPython.core.display.HTML object>"
      ]
     },
     "metadata": {},
     "output_type": "display_data"
    },
    {
     "data": {
      "text/html": [
       " View sweep at <a href='https://wandb.ai/brianmwigo/DeepLearningHomework1/sweeps/esqa44ap' target=\"_blank\">https://wandb.ai/brianmwigo/DeepLearningHomework1/sweeps/esqa44ap</a>"
      ],
      "text/plain": [
       "<IPython.core.display.HTML object>"
      ]
     },
     "metadata": {},
     "output_type": "display_data"
    },
    {
     "data": {
      "text/html": [
       " View run at <a href='https://wandb.ai/brianmwigo/DeepLearningHomework1/runs/xtjm881q' target=\"_blank\">https://wandb.ai/brianmwigo/DeepLearningHomework1/runs/xtjm881q</a>"
      ],
      "text/plain": [
       "<IPython.core.display.HTML object>"
      ]
     },
     "metadata": {},
     "output_type": "display_data"
    },
    {
     "name": "stdout",
     "output_type": "stream",
     "text": [
      "epoch: 0, loss: 7.413e-02, accuracy_train: 0.80, accuracy_val: 0.79, learning rate: 1.000e-03\n",
      "epoch: 1, loss: 4.788e-02, accuracy_train: 0.82, accuracy_val: 0.81, learning rate: 1.000e-03\n",
      "epoch: 2, loss: 4.313e-02, accuracy_train: 0.84, accuracy_val: 0.83, learning rate: 1.000e-03\n",
      "epoch: 3, loss: 4.018e-02, accuracy_train: 0.85, accuracy_val: 0.84, learning rate: 1.000e-03\n",
      "epoch: 4, loss: 3.813e-02, accuracy_train: 0.85, accuracy_val: 0.84, learning rate: 1.000e-03\n",
      "epoch: 5, loss: 3.661e-02, accuracy_train: 0.86, accuracy_val: 0.85, learning rate: 1.000e-03\n",
      "epoch: 6, loss: 3.530e-02, accuracy_train: 0.87, accuracy_val: 0.85, learning rate: 1.000e-03\n",
      "epoch: 7, loss: 3.423e-02, accuracy_train: 0.87, accuracy_val: 0.86, learning rate: 1.000e-03\n",
      "epoch: 8, loss: 3.328e-02, accuracy_train: 0.88, accuracy_val: 0.86, learning rate: 1.000e-03\n",
      "epoch: 9, loss: 3.250e-02, accuracy_train: 0.88, accuracy_val: 0.86, learning rate: 1.000e-03\n"
     ]
    },
    {
     "data": {
      "application/vnd.jupyter.widget-view+json": {
       "model_id": "ba86ce21683a4d8f9f719a0769433c3a",
       "version_major": 2,
       "version_minor": 0
      },
      "text/plain": [
       "VBox(children=(Label(value='0.001 MB of 0.011 MB uploaded\\r'), FloatProgress(value=0.09556860651361453, max=1.…"
      ]
     },
     "metadata": {},
     "output_type": "display_data"
    },
    {
     "data": {
      "text/html": [
       "<style>\n",
       "    table.wandb td:nth-child(1) { padding: 0 10px; text-align: left ; width: auto;} td:nth-child(2) {text-align: left ; width: 100%}\n",
       "    .wandb-row { display: flex; flex-direction: row; flex-wrap: wrap; justify-content: flex-start; width: 100% }\n",
       "    .wandb-col { display: flex; flex-direction: column; flex-basis: 100%; flex: 1; padding: 10px; }\n",
       "    </style>\n",
       "<div class=\"wandb-row\"><div class=\"wandb-col\"><h3>Run history:</h3><br/><table class=\"wandb\"><tr><td>epoch</td><td>▁▂▃▃▄▅▆▆▇█</td></tr><tr><td>loss</td><td>█▅▄▃▃▂▂▁▁▁</td></tr><tr><td>trainingaccuracy</td><td>▁▃▅▅▆▇▇███</td></tr><tr><td>validationaccuracy</td><td>▁▃▅▆▆▇▇███</td></tr></table><br/></div><div class=\"wandb-col\"><h3>Run summary:</h3><br/><table class=\"wandb\"><tr><td>epoch</td><td>9</td></tr><tr><td>loss</td><td>0.04154</td></tr><tr><td>trainingaccuracy</td><td>0.8773</td></tr><tr><td>validationaccuracy</td><td>0.8605</td></tr></table><br/></div></div>"
      ],
      "text/plain": [
       "<IPython.core.display.HTML object>"
      ]
     },
     "metadata": {},
     "output_type": "display_data"
    },
    {
     "data": {
      "text/html": [
       " View run <strong style=\"color:#cdcd00\">solar-sweep-23</strong> at: <a href='https://wandb.ai/brianmwigo/DeepLearningHomework1/runs/xtjm881q' target=\"_blank\">https://wandb.ai/brianmwigo/DeepLearningHomework1/runs/xtjm881q</a><br/>Synced 5 W&B file(s), 0 media file(s), 0 artifact file(s) and 0 other file(s)"
      ],
      "text/plain": [
       "<IPython.core.display.HTML object>"
      ]
     },
     "metadata": {},
     "output_type": "display_data"
    },
    {
     "data": {
      "text/html": [
       "Find logs at: <code>./wandb/run-20240229_213750-xtjm881q/logs</code>"
      ],
      "text/plain": [
       "<IPython.core.display.HTML object>"
      ]
     },
     "metadata": {},
     "output_type": "display_data"
    },
    {
     "name": "stderr",
     "output_type": "stream",
     "text": [
      "\u001b[34m\u001b[1mwandb\u001b[0m: Sweep Agent: Waiting for job.\n",
      "\u001b[34m\u001b[1mwandb\u001b[0m: Job received.\n",
      "\u001b[34m\u001b[1mwandb\u001b[0m: Agent Starting Run: dku5lle4 with config:\n",
      "\u001b[34m\u001b[1mwandb\u001b[0m: \tactivation: tanh\n",
      "\u001b[34m\u001b[1mwandb\u001b[0m: \tbatch_size: 64\n",
      "\u001b[34m\u001b[1mwandb\u001b[0m: \tinitializer: xavier\n",
      "\u001b[34m\u001b[1mwandb\u001b[0m: \tlearning_rate: 0.001\n",
      "\u001b[34m\u001b[1mwandb\u001b[0m: \tmax_epochs: 10\n",
      "\u001b[34m\u001b[1mwandb\u001b[0m: \tnum_hidden_neurons: 128\n",
      "\u001b[34m\u001b[1mwandb\u001b[0m: \tnum_layers: 3\n",
      "\u001b[34m\u001b[1mwandb\u001b[0m: \toptimizer: momentum\n",
      "\u001b[34m\u001b[1mwandb\u001b[0m: \tweight_decay: 0\n"
     ]
    },
    {
     "data": {
      "application/vnd.jupyter.widget-view+json": {
       "model_id": "13024cdcf398490895e4497b4f1a6f2a",
       "version_major": 2,
       "version_minor": 0
      },
      "text/plain": [
       "VBox(children=(Label(value='Waiting for wandb.init()...\\r'), FloatProgress(value=0.011113016411117213, max=1.0…"
      ]
     },
     "metadata": {},
     "output_type": "display_data"
    },
    {
     "data": {
      "text/html": [
       "Tracking run with wandb version 0.16.3"
      ],
      "text/plain": [
       "<IPython.core.display.HTML object>"
      ]
     },
     "metadata": {},
     "output_type": "display_data"
    },
    {
     "data": {
      "text/html": [
       "Run data is saved locally in <code>/content/wandb/run-20240229_214734-dku5lle4</code>"
      ],
      "text/plain": [
       "<IPython.core.display.HTML object>"
      ]
     },
     "metadata": {},
     "output_type": "display_data"
    },
    {
     "data": {
      "text/html": [
       "Syncing run <strong><a href='https://wandb.ai/brianmwigo/DeepLearningHomework1/runs/dku5lle4' target=\"_blank\">trim-sweep-24</a></strong> to <a href='https://wandb.ai/brianmwigo/DeepLearningHomework1' target=\"_blank\">Weights & Biases</a> (<a href='https://wandb.me/run' target=\"_blank\">docs</a>)<br/>Sweep page: <a href='https://wandb.ai/brianmwigo/DeepLearningHomework1/sweeps/esqa44ap' target=\"_blank\">https://wandb.ai/brianmwigo/DeepLearningHomework1/sweeps/esqa44ap</a>"
      ],
      "text/plain": [
       "<IPython.core.display.HTML object>"
      ]
     },
     "metadata": {},
     "output_type": "display_data"
    },
    {
     "data": {
      "text/html": [
       " View project at <a href='https://wandb.ai/brianmwigo/DeepLearningHomework1' target=\"_blank\">https://wandb.ai/brianmwigo/DeepLearningHomework1</a>"
      ],
      "text/plain": [
       "<IPython.core.display.HTML object>"
      ]
     },
     "metadata": {},
     "output_type": "display_data"
    },
    {
     "data": {
      "text/html": [
       " View sweep at <a href='https://wandb.ai/brianmwigo/DeepLearningHomework1/sweeps/esqa44ap' target=\"_blank\">https://wandb.ai/brianmwigo/DeepLearningHomework1/sweeps/esqa44ap</a>"
      ],
      "text/plain": [
       "<IPython.core.display.HTML object>"
      ]
     },
     "metadata": {},
     "output_type": "display_data"
    },
    {
     "data": {
      "text/html": [
       " View run at <a href='https://wandb.ai/brianmwigo/DeepLearningHomework1/runs/dku5lle4' target=\"_blank\">https://wandb.ai/brianmwigo/DeepLearningHomework1/runs/dku5lle4</a>"
      ],
      "text/plain": [
       "<IPython.core.display.HTML object>"
      ]
     },
     "metadata": {},
     "output_type": "display_data"
    },
    {
     "name": "stdout",
     "output_type": "stream",
     "text": [
      "epoch: 0, loss: 1.195e-01, accuracy_train: 0.73, accuracy_val: 0.73, learning rate: 1.000e-03\n",
      "epoch: 1, loss: 6.435e-02, accuracy_train: 0.80, accuracy_val: 0.79, learning rate: 1.000e-03\n",
      "epoch: 2, loss: 5.543e-02, accuracy_train: 0.82, accuracy_val: 0.81, learning rate: 1.000e-03\n",
      "epoch: 3, loss: 5.113e-02, accuracy_train: 0.83, accuracy_val: 0.83, learning rate: 1.000e-03\n",
      "epoch: 4, loss: 4.837e-02, accuracy_train: 0.84, accuracy_val: 0.84, learning rate: 1.000e-03\n",
      "epoch: 5, loss: 4.638e-02, accuracy_train: 0.85, accuracy_val: 0.84, learning rate: 1.000e-03\n",
      "epoch: 6, loss: 4.484e-02, accuracy_train: 0.85, accuracy_val: 0.85, learning rate: 1.000e-03\n",
      "epoch: 7, loss: 4.361e-02, accuracy_train: 0.86, accuracy_val: 0.85, learning rate: 1.000e-03\n",
      "epoch: 8, loss: 4.253e-02, accuracy_train: 0.86, accuracy_val: 0.85, learning rate: 1.000e-03\n",
      "epoch: 9, loss: 4.162e-02, accuracy_train: 0.86, accuracy_val: 0.86, learning rate: 1.000e-03\n"
     ]
    },
    {
     "data": {
      "application/vnd.jupyter.widget-view+json": {
       "model_id": "3526aec5225749dd8042dfcc536a6241",
       "version_major": 2,
       "version_minor": 0
      },
      "text/plain": [
       "VBox(children=(Label(value='0.001 MB of 0.001 MB uploaded\\r'), FloatProgress(value=1.0, max=1.0)))"
      ]
     },
     "metadata": {},
     "output_type": "display_data"
    },
    {
     "data": {
      "text/html": [
       "<style>\n",
       "    table.wandb td:nth-child(1) { padding: 0 10px; text-align: left ; width: auto;} td:nth-child(2) {text-align: left ; width: 100%}\n",
       "    .wandb-row { display: flex; flex-direction: row; flex-wrap: wrap; justify-content: flex-start; width: 100% }\n",
       "    .wandb-col { display: flex; flex-direction: column; flex-basis: 100%; flex: 1; padding: 10px; }\n",
       "    </style>\n",
       "<div class=\"wandb-row\"><div class=\"wandb-col\"><h3>Run history:</h3><br/><table class=\"wandb\"><tr><td>epoch</td><td>▁▂▃▃▄▅▆▆▇█</td></tr><tr><td>loss</td><td>█▅▄▃▂▂▂▁▁▁</td></tr><tr><td>trainingaccuracy</td><td>▁▄▆▆▇▇▇███</td></tr><tr><td>validationaccuracy</td><td>▁▄▆▆▇▇▇███</td></tr></table><br/></div><div class=\"wandb-col\"><h3>Run summary:</h3><br/><table class=\"wandb\"><tr><td>epoch</td><td>9</td></tr><tr><td>loss</td><td>0.05578</td></tr><tr><td>trainingaccuracy</td><td>0.86189</td></tr><tr><td>validationaccuracy</td><td>0.85567</td></tr></table><br/></div></div>"
      ],
      "text/plain": [
       "<IPython.core.display.HTML object>"
      ]
     },
     "metadata": {},
     "output_type": "display_data"
    },
    {
     "data": {
      "text/html": [
       " View run <strong style=\"color:#cdcd00\">trim-sweep-24</strong> at: <a href='https://wandb.ai/brianmwigo/DeepLearningHomework1/runs/dku5lle4' target=\"_blank\">https://wandb.ai/brianmwigo/DeepLearningHomework1/runs/dku5lle4</a><br/>Synced 5 W&B file(s), 0 media file(s), 0 artifact file(s) and 0 other file(s)"
      ],
      "text/plain": [
       "<IPython.core.display.HTML object>"
      ]
     },
     "metadata": {},
     "output_type": "display_data"
    },
    {
     "data": {
      "text/html": [
       "Find logs at: <code>./wandb/run-20240229_214734-dku5lle4/logs</code>"
      ],
      "text/plain": [
       "<IPython.core.display.HTML object>"
      ]
     },
     "metadata": {},
     "output_type": "display_data"
    },
    {
     "name": "stderr",
     "output_type": "stream",
     "text": [
      "\u001b[34m\u001b[1mwandb\u001b[0m: Agent Starting Run: f6cbnv72 with config:\n",
      "\u001b[34m\u001b[1mwandb\u001b[0m: \tactivation: tanh\n",
      "\u001b[34m\u001b[1mwandb\u001b[0m: \tbatch_size: 64\n",
      "\u001b[34m\u001b[1mwandb\u001b[0m: \tinitializer: xavier\n",
      "\u001b[34m\u001b[1mwandb\u001b[0m: \tlearning_rate: 0.001\n",
      "\u001b[34m\u001b[1mwandb\u001b[0m: \tmax_epochs: 10\n",
      "\u001b[34m\u001b[1mwandb\u001b[0m: \tnum_hidden_neurons: 128\n",
      "\u001b[34m\u001b[1mwandb\u001b[0m: \tnum_layers: 5\n",
      "\u001b[34m\u001b[1mwandb\u001b[0m: \toptimizer: momentum\n",
      "\u001b[34m\u001b[1mwandb\u001b[0m: \tweight_decay: 0\n"
     ]
    },
    {
     "data": {
      "text/html": [
       "Tracking run with wandb version 0.16.3"
      ],
      "text/plain": [
       "<IPython.core.display.HTML object>"
      ]
     },
     "metadata": {},
     "output_type": "display_data"
    },
    {
     "data": {
      "text/html": [
       "Run data is saved locally in <code>/content/wandb/run-20240229_215635-f6cbnv72</code>"
      ],
      "text/plain": [
       "<IPython.core.display.HTML object>"
      ]
     },
     "metadata": {},
     "output_type": "display_data"
    },
    {
     "data": {
      "text/html": [
       "Syncing run <strong><a href='https://wandb.ai/brianmwigo/DeepLearningHomework1/runs/f6cbnv72' target=\"_blank\">upbeat-sweep-25</a></strong> to <a href='https://wandb.ai/brianmwigo/DeepLearningHomework1' target=\"_blank\">Weights & Biases</a> (<a href='https://wandb.me/run' target=\"_blank\">docs</a>)<br/>Sweep page: <a href='https://wandb.ai/brianmwigo/DeepLearningHomework1/sweeps/esqa44ap' target=\"_blank\">https://wandb.ai/brianmwigo/DeepLearningHomework1/sweeps/esqa44ap</a>"
      ],
      "text/plain": [
       "<IPython.core.display.HTML object>"
      ]
     },
     "metadata": {},
     "output_type": "display_data"
    },
    {
     "data": {
      "text/html": [
       " View project at <a href='https://wandb.ai/brianmwigo/DeepLearningHomework1' target=\"_blank\">https://wandb.ai/brianmwigo/DeepLearningHomework1</a>"
      ],
      "text/plain": [
       "<IPython.core.display.HTML object>"
      ]
     },
     "metadata": {},
     "output_type": "display_data"
    },
    {
     "data": {
      "text/html": [
       " View sweep at <a href='https://wandb.ai/brianmwigo/DeepLearningHomework1/sweeps/esqa44ap' target=\"_blank\">https://wandb.ai/brianmwigo/DeepLearningHomework1/sweeps/esqa44ap</a>"
      ],
      "text/plain": [
       "<IPython.core.display.HTML object>"
      ]
     },
     "metadata": {},
     "output_type": "display_data"
    },
    {
     "data": {
      "text/html": [
       " View run at <a href='https://wandb.ai/brianmwigo/DeepLearningHomework1/runs/f6cbnv72' target=\"_blank\">https://wandb.ai/brianmwigo/DeepLearningHomework1/runs/f6cbnv72</a>"
      ],
      "text/plain": [
       "<IPython.core.display.HTML object>"
      ]
     },
     "metadata": {},
     "output_type": "display_data"
    },
    {
     "name": "stdout",
     "output_type": "stream",
     "text": [
      "epoch: 0, loss: 1.191e-01, accuracy_train: 0.74, accuracy_val: 0.74, learning rate: 1.000e-03\n",
      "epoch: 1, loss: 6.462e-02, accuracy_train: 0.80, accuracy_val: 0.79, learning rate: 1.000e-03\n",
      "epoch: 2, loss: 5.563e-02, accuracy_train: 0.82, accuracy_val: 0.81, learning rate: 1.000e-03\n",
      "epoch: 3, loss: 5.101e-02, accuracy_train: 0.83, accuracy_val: 0.82, learning rate: 1.000e-03\n",
      "epoch: 4, loss: 4.809e-02, accuracy_train: 0.84, accuracy_val: 0.83, learning rate: 1.000e-03\n",
      "epoch: 5, loss: 4.599e-02, accuracy_train: 0.84, accuracy_val: 0.84, learning rate: 1.000e-03\n",
      "epoch: 6, loss: 4.437e-02, accuracy_train: 0.85, accuracy_val: 0.84, learning rate: 1.000e-03\n",
      "epoch: 7, loss: 4.304e-02, accuracy_train: 0.85, accuracy_val: 0.84, learning rate: 1.000e-03\n",
      "epoch: 8, loss: 4.190e-02, accuracy_train: 0.86, accuracy_val: 0.85, learning rate: 1.000e-03\n",
      "epoch: 9, loss: 4.096e-02, accuracy_train: 0.86, accuracy_val: 0.85, learning rate: 1.000e-03\n"
     ]
    },
    {
     "data": {
      "application/vnd.jupyter.widget-view+json": {
       "model_id": "3d3a933863114a68bf0a1ac7baeb7d75",
       "version_major": 2,
       "version_minor": 0
      },
      "text/plain": [
       "VBox(children=(Label(value='0.001 MB of 0.001 MB uploaded\\r'), FloatProgress(value=1.0, max=1.0)))"
      ]
     },
     "metadata": {},
     "output_type": "display_data"
    },
    {
     "data": {
      "text/html": [
       "<style>\n",
       "    table.wandb td:nth-child(1) { padding: 0 10px; text-align: left ; width: auto;} td:nth-child(2) {text-align: left ; width: 100%}\n",
       "    .wandb-row { display: flex; flex-direction: row; flex-wrap: wrap; justify-content: flex-start; width: 100% }\n",
       "    .wandb-col { display: flex; flex-direction: column; flex-basis: 100%; flex: 1; padding: 10px; }\n",
       "    </style>\n",
       "<div class=\"wandb-row\"><div class=\"wandb-col\"><h3>Run history:</h3><br/><table class=\"wandb\"><tr><td>epoch</td><td>▁▂▃▃▄▅▆▆▇█</td></tr><tr><td>loss</td><td>█▅▄▃▂▂▂▁▁▁</td></tr><tr><td>trainingaccuracy</td><td>▁▄▅▆▇▇▇███</td></tr><tr><td>validationaccuracy</td><td>▁▄▅▆▇▇████</td></tr></table><br/></div><div class=\"wandb-col\"><h3>Run summary:</h3><br/><table class=\"wandb\"><tr><td>epoch</td><td>9</td></tr><tr><td>loss</td><td>0.05547</td></tr><tr><td>trainingaccuracy</td><td>0.86148</td></tr><tr><td>validationaccuracy</td><td>0.85017</td></tr></table><br/></div></div>"
      ],
      "text/plain": [
       "<IPython.core.display.HTML object>"
      ]
     },
     "metadata": {},
     "output_type": "display_data"
    },
    {
     "data": {
      "text/html": [
       " View run <strong style=\"color:#cdcd00\">upbeat-sweep-25</strong> at: <a href='https://wandb.ai/brianmwigo/DeepLearningHomework1/runs/f6cbnv72' target=\"_blank\">https://wandb.ai/brianmwigo/DeepLearningHomework1/runs/f6cbnv72</a><br/>Synced 5 W&B file(s), 0 media file(s), 0 artifact file(s) and 0 other file(s)"
      ],
      "text/plain": [
       "<IPython.core.display.HTML object>"
      ]
     },
     "metadata": {},
     "output_type": "display_data"
    },
    {
     "data": {
      "text/html": [
       "Find logs at: <code>./wandb/run-20240229_215635-f6cbnv72/logs</code>"
      ],
      "text/plain": [
       "<IPython.core.display.HTML object>"
      ]
     },
     "metadata": {},
     "output_type": "display_data"
    },
    {
     "name": "stderr",
     "output_type": "stream",
     "text": [
      "\u001b[34m\u001b[1mwandb\u001b[0m: Agent Starting Run: bt13n0rg with config:\n",
      "\u001b[34m\u001b[1mwandb\u001b[0m: \tactivation: relu\n",
      "\u001b[34m\u001b[1mwandb\u001b[0m: \tbatch_size: 32\n",
      "\u001b[34m\u001b[1mwandb\u001b[0m: \tinitializer: xavier\n",
      "\u001b[34m\u001b[1mwandb\u001b[0m: \tlearning_rate: 0.001\n",
      "\u001b[34m\u001b[1mwandb\u001b[0m: \tmax_epochs: 10\n",
      "\u001b[34m\u001b[1mwandb\u001b[0m: \tnum_hidden_neurons: 128\n",
      "\u001b[34m\u001b[1mwandb\u001b[0m: \tnum_layers: 5\n",
      "\u001b[34m\u001b[1mwandb\u001b[0m: \toptimizer: nesterov\n",
      "\u001b[34m\u001b[1mwandb\u001b[0m: \tweight_decay: 0\n"
     ]
    },
    {
     "data": {
      "text/html": [
       "Tracking run with wandb version 0.16.3"
      ],
      "text/plain": [
       "<IPython.core.display.HTML object>"
      ]
     },
     "metadata": {},
     "output_type": "display_data"
    },
    {
     "data": {
      "text/html": [
       "Run data is saved locally in <code>/content/wandb/run-20240229_220528-bt13n0rg</code>"
      ],
      "text/plain": [
       "<IPython.core.display.HTML object>"
      ]
     },
     "metadata": {},
     "output_type": "display_data"
    },
    {
     "data": {
      "text/html": [
       "Syncing run <strong><a href='https://wandb.ai/brianmwigo/DeepLearningHomework1/runs/bt13n0rg' target=\"_blank\">wise-sweep-26</a></strong> to <a href='https://wandb.ai/brianmwigo/DeepLearningHomework1' target=\"_blank\">Weights & Biases</a> (<a href='https://wandb.me/run' target=\"_blank\">docs</a>)<br/>Sweep page: <a href='https://wandb.ai/brianmwigo/DeepLearningHomework1/sweeps/esqa44ap' target=\"_blank\">https://wandb.ai/brianmwigo/DeepLearningHomework1/sweeps/esqa44ap</a>"
      ],
      "text/plain": [
       "<IPython.core.display.HTML object>"
      ]
     },
     "metadata": {},
     "output_type": "display_data"
    },
    {
     "data": {
      "text/html": [
       " View project at <a href='https://wandb.ai/brianmwigo/DeepLearningHomework1' target=\"_blank\">https://wandb.ai/brianmwigo/DeepLearningHomework1</a>"
      ],
      "text/plain": [
       "<IPython.core.display.HTML object>"
      ]
     },
     "metadata": {},
     "output_type": "display_data"
    },
    {
     "data": {
      "text/html": [
       " View sweep at <a href='https://wandb.ai/brianmwigo/DeepLearningHomework1/sweeps/esqa44ap' target=\"_blank\">https://wandb.ai/brianmwigo/DeepLearningHomework1/sweeps/esqa44ap</a>"
      ],
      "text/plain": [
       "<IPython.core.display.HTML object>"
      ]
     },
     "metadata": {},
     "output_type": "display_data"
    },
    {
     "data": {
      "text/html": [
       " View run at <a href='https://wandb.ai/brianmwigo/DeepLearningHomework1/runs/bt13n0rg' target=\"_blank\">https://wandb.ai/brianmwigo/DeepLearningHomework1/runs/bt13n0rg</a>"
      ],
      "text/plain": [
       "<IPython.core.display.HTML object>"
      ]
     },
     "metadata": {},
     "output_type": "display_data"
    },
    {
     "name": "stdout",
     "output_type": "stream",
     "text": [
      "epoch: 0, loss: 9.089e-02, accuracy_train: 0.78, accuracy_val: 0.77, learning rate: 1.000e-03\n",
      "epoch: 1, loss: 5.358e-02, accuracy_train: 0.81, accuracy_val: 0.81, learning rate: 1.000e-03\n",
      "epoch: 2, loss: 4.788e-02, accuracy_train: 0.83, accuracy_val: 0.82, learning rate: 1.000e-03\n",
      "epoch: 3, loss: 4.473e-02, accuracy_train: 0.84, accuracy_val: 0.83, learning rate: 1.000e-03\n",
      "epoch: 4, loss: 4.237e-02, accuracy_train: 0.85, accuracy_val: 0.84, learning rate: 1.000e-03\n",
      "epoch: 5, loss: 4.068e-02, accuracy_train: 0.85, accuracy_val: 0.84, learning rate: 1.000e-03\n",
      "epoch: 6, loss: 3.928e-02, accuracy_train: 0.86, accuracy_val: 0.84, learning rate: 1.000e-03\n",
      "epoch: 7, loss: 3.816e-02, accuracy_train: 0.86, accuracy_val: 0.85, learning rate: 1.000e-03\n",
      "epoch: 8, loss: 3.716e-02, accuracy_train: 0.87, accuracy_val: 0.85, learning rate: 1.000e-03\n",
      "epoch: 9, loss: 3.637e-02, accuracy_train: 0.87, accuracy_val: 0.85, learning rate: 1.000e-03\n"
     ]
    },
    {
     "data": {
      "application/vnd.jupyter.widget-view+json": {
       "model_id": "ce41ae688c2c4913b595a49d9c3da6c3",
       "version_major": 2,
       "version_minor": 0
      },
      "text/plain": [
       "VBox(children=(Label(value='0.001 MB of 0.001 MB uploaded\\r'), FloatProgress(value=1.0, max=1.0)))"
      ]
     },
     "metadata": {},
     "output_type": "display_data"
    },
    {
     "data": {
      "text/html": [
       "<style>\n",
       "    table.wandb td:nth-child(1) { padding: 0 10px; text-align: left ; width: auto;} td:nth-child(2) {text-align: left ; width: 100%}\n",
       "    .wandb-row { display: flex; flex-direction: row; flex-wrap: wrap; justify-content: flex-start; width: 100% }\n",
       "    .wandb-col { display: flex; flex-direction: column; flex-basis: 100%; flex: 1; padding: 10px; }\n",
       "    </style>\n",
       "<div class=\"wandb-row\"><div class=\"wandb-col\"><h3>Run history:</h3><br/><table class=\"wandb\"><tr><td>epoch</td><td>▁▂▃▃▄▅▆▆▇█</td></tr><tr><td>loss</td><td>█▅▄▃▂▂▂▁▁▁</td></tr><tr><td>trainingaccuracy</td><td>▁▄▅▆▆▇▇▇██</td></tr><tr><td>validationaccuracy</td><td>▁▄▆▆▇▇▇███</td></tr></table><br/></div><div class=\"wandb-col\"><h3>Run summary:</h3><br/><table class=\"wandb\"><tr><td>epoch</td><td>9</td></tr><tr><td>loss</td><td>0.04711</td></tr><tr><td>trainingaccuracy</td><td>0.86874</td></tr><tr><td>validationaccuracy</td><td>0.853</td></tr></table><br/></div></div>"
      ],
      "text/plain": [
       "<IPython.core.display.HTML object>"
      ]
     },
     "metadata": {},
     "output_type": "display_data"
    },
    {
     "data": {
      "text/html": [
       " View run <strong style=\"color:#cdcd00\">wise-sweep-26</strong> at: <a href='https://wandb.ai/brianmwigo/DeepLearningHomework1/runs/bt13n0rg' target=\"_blank\">https://wandb.ai/brianmwigo/DeepLearningHomework1/runs/bt13n0rg</a><br/>Synced 5 W&B file(s), 0 media file(s), 0 artifact file(s) and 0 other file(s)"
      ],
      "text/plain": [
       "<IPython.core.display.HTML object>"
      ]
     },
     "metadata": {},
     "output_type": "display_data"
    },
    {
     "data": {
      "text/html": [
       "Find logs at: <code>./wandb/run-20240229_220528-bt13n0rg/logs</code>"
      ],
      "text/plain": [
       "<IPython.core.display.HTML object>"
      ]
     },
     "metadata": {},
     "output_type": "display_data"
    },
    {
     "name": "stderr",
     "output_type": "stream",
     "text": [
      "\u001b[34m\u001b[1mwandb\u001b[0m: Agent Starting Run: dizq4nw3 with config:\n",
      "\u001b[34m\u001b[1mwandb\u001b[0m: \tactivation: tanh\n",
      "\u001b[34m\u001b[1mwandb\u001b[0m: \tbatch_size: 16\n",
      "\u001b[34m\u001b[1mwandb\u001b[0m: \tinitializer: xavier\n",
      "\u001b[34m\u001b[1mwandb\u001b[0m: \tlearning_rate: 0.001\n",
      "\u001b[34m\u001b[1mwandb\u001b[0m: \tmax_epochs: 10\n",
      "\u001b[34m\u001b[1mwandb\u001b[0m: \tnum_hidden_neurons: 128\n",
      "\u001b[34m\u001b[1mwandb\u001b[0m: \tnum_layers: 3\n",
      "\u001b[34m\u001b[1mwandb\u001b[0m: \toptimizer: nesterov\n",
      "\u001b[34m\u001b[1mwandb\u001b[0m: \tweight_decay: 0\n"
     ]
    },
    {
     "data": {
      "text/html": [
       "Tracking run with wandb version 0.16.3"
      ],
      "text/plain": [
       "<IPython.core.display.HTML object>"
      ]
     },
     "metadata": {},
     "output_type": "display_data"
    },
    {
     "data": {
      "text/html": [
       "Run data is saved locally in <code>/content/wandb/run-20240229_221500-dizq4nw3</code>"
      ],
      "text/plain": [
       "<IPython.core.display.HTML object>"
      ]
     },
     "metadata": {},
     "output_type": "display_data"
    },
    {
     "data": {
      "text/html": [
       "Syncing run <strong><a href='https://wandb.ai/brianmwigo/DeepLearningHomework1/runs/dizq4nw3' target=\"_blank\">icy-sweep-27</a></strong> to <a href='https://wandb.ai/brianmwigo/DeepLearningHomework1' target=\"_blank\">Weights & Biases</a> (<a href='https://wandb.me/run' target=\"_blank\">docs</a>)<br/>Sweep page: <a href='https://wandb.ai/brianmwigo/DeepLearningHomework1/sweeps/esqa44ap' target=\"_blank\">https://wandb.ai/brianmwigo/DeepLearningHomework1/sweeps/esqa44ap</a>"
      ],
      "text/plain": [
       "<IPython.core.display.HTML object>"
      ]
     },
     "metadata": {},
     "output_type": "display_data"
    },
    {
     "data": {
      "text/html": [
       " View project at <a href='https://wandb.ai/brianmwigo/DeepLearningHomework1' target=\"_blank\">https://wandb.ai/brianmwigo/DeepLearningHomework1</a>"
      ],
      "text/plain": [
       "<IPython.core.display.HTML object>"
      ]
     },
     "metadata": {},
     "output_type": "display_data"
    },
    {
     "data": {
      "text/html": [
       " View sweep at <a href='https://wandb.ai/brianmwigo/DeepLearningHomework1/sweeps/esqa44ap' target=\"_blank\">https://wandb.ai/brianmwigo/DeepLearningHomework1/sweeps/esqa44ap</a>"
      ],
      "text/plain": [
       "<IPython.core.display.HTML object>"
      ]
     },
     "metadata": {},
     "output_type": "display_data"
    },
    {
     "data": {
      "text/html": [
       " View run at <a href='https://wandb.ai/brianmwigo/DeepLearningHomework1/runs/dizq4nw3' target=\"_blank\">https://wandb.ai/brianmwigo/DeepLearningHomework1/runs/dizq4nw3</a>"
      ],
      "text/plain": [
       "<IPython.core.display.HTML object>"
      ]
     },
     "metadata": {},
     "output_type": "display_data"
    },
    {
     "name": "stdout",
     "output_type": "stream",
     "text": [
      "epoch: 0, loss: 7.428e-02, accuracy_train: 0.79, accuracy_val: 0.78, learning rate: 1.000e-03\n",
      "epoch: 1, loss: 4.743e-02, accuracy_train: 0.80, accuracy_val: 0.79, learning rate: 1.000e-03\n",
      "epoch: 2, loss: 4.299e-02, accuracy_train: 0.82, accuracy_val: 0.81, learning rate: 1.000e-03\n",
      "epoch: 3, loss: 4.044e-02, accuracy_train: 0.83, accuracy_val: 0.82, learning rate: 1.000e-03\n",
      "epoch: 4, loss: 3.857e-02, accuracy_train: 0.84, accuracy_val: 0.83, learning rate: 1.000e-03\n",
      "epoch: 5, loss: 3.708e-02, accuracy_train: 0.85, accuracy_val: 0.84, learning rate: 1.000e-03\n",
      "epoch: 6, loss: 3.587e-02, accuracy_train: 0.85, accuracy_val: 0.84, learning rate: 1.000e-03\n",
      "epoch: 7, loss: 3.488e-02, accuracy_train: 0.86, accuracy_val: 0.85, learning rate: 1.000e-03\n",
      "epoch: 8, loss: 3.397e-02, accuracy_train: 0.86, accuracy_val: 0.85, learning rate: 1.000e-03\n",
      "epoch: 9, loss: 3.321e-02, accuracy_train: 0.87, accuracy_val: 0.86, learning rate: 1.000e-03\n"
     ]
    },
    {
     "data": {
      "application/vnd.jupyter.widget-view+json": {
       "model_id": "788c6203de924bec8c9d7a4add29dac0",
       "version_major": 2,
       "version_minor": 0
      },
      "text/plain": [
       "VBox(children=(Label(value='0.012 MB of 0.012 MB uploaded\\r'), FloatProgress(value=1.0, max=1.0)))"
      ]
     },
     "metadata": {},
     "output_type": "display_data"
    },
    {
     "data": {
      "text/html": [
       "<style>\n",
       "    table.wandb td:nth-child(1) { padding: 0 10px; text-align: left ; width: auto;} td:nth-child(2) {text-align: left ; width: 100%}\n",
       "    .wandb-row { display: flex; flex-direction: row; flex-wrap: wrap; justify-content: flex-start; width: 100% }\n",
       "    .wandb-col { display: flex; flex-direction: column; flex-basis: 100%; flex: 1; padding: 10px; }\n",
       "    </style>\n",
       "<div class=\"wandb-row\"><div class=\"wandb-col\"><h3>Run history:</h3><br/><table class=\"wandb\"><tr><td>epoch</td><td>▁▂▃▃▄▅▆▆▇█</td></tr><tr><td>loss</td><td>█▅▄▃▂▂▂▁▁▁</td></tr><tr><td>trainingaccuracy</td><td>▁▂▄▅▆▆▇▇██</td></tr><tr><td>validationaccuracy</td><td>▁▃▄▅▆▇▇▇██</td></tr></table><br/></div><div class=\"wandb-col\"><h3>Run summary:</h3><br/><table class=\"wandb\"><tr><td>epoch</td><td>9</td></tr><tr><td>loss</td><td>0.04187</td></tr><tr><td>trainingaccuracy</td><td>0.8673</td></tr><tr><td>validationaccuracy</td><td>0.85717</td></tr></table><br/></div></div>"
      ],
      "text/plain": [
       "<IPython.core.display.HTML object>"
      ]
     },
     "metadata": {},
     "output_type": "display_data"
    },
    {
     "data": {
      "text/html": [
       " View run <strong style=\"color:#cdcd00\">icy-sweep-27</strong> at: <a href='https://wandb.ai/brianmwigo/DeepLearningHomework1/runs/dizq4nw3' target=\"_blank\">https://wandb.ai/brianmwigo/DeepLearningHomework1/runs/dizq4nw3</a><br/>Synced 5 W&B file(s), 0 media file(s), 0 artifact file(s) and 0 other file(s)"
      ],
      "text/plain": [
       "<IPython.core.display.HTML object>"
      ]
     },
     "metadata": {},
     "output_type": "display_data"
    },
    {
     "data": {
      "text/html": [
       "Find logs at: <code>./wandb/run-20240229_221500-dizq4nw3/logs</code>"
      ],
      "text/plain": [
       "<IPython.core.display.HTML object>"
      ]
     },
     "metadata": {},
     "output_type": "display_data"
    },
    {
     "name": "stderr",
     "output_type": "stream",
     "text": [
      "\u001b[34m\u001b[1mwandb\u001b[0m: Agent Starting Run: 5p6oyyvs with config:\n",
      "\u001b[34m\u001b[1mwandb\u001b[0m: \tactivation: tanh\n",
      "\u001b[34m\u001b[1mwandb\u001b[0m: \tbatch_size: 32\n",
      "\u001b[34m\u001b[1mwandb\u001b[0m: \tinitializer: xavier\n",
      "\u001b[34m\u001b[1mwandb\u001b[0m: \tlearning_rate: 0.001\n",
      "\u001b[34m\u001b[1mwandb\u001b[0m: \tmax_epochs: 10\n",
      "\u001b[34m\u001b[1mwandb\u001b[0m: \tnum_hidden_neurons: 128\n",
      "\u001b[34m\u001b[1mwandb\u001b[0m: \tnum_layers: 3\n",
      "\u001b[34m\u001b[1mwandb\u001b[0m: \toptimizer: nesterov\n",
      "\u001b[34m\u001b[1mwandb\u001b[0m: \tweight_decay: 0\n"
     ]
    },
    {
     "data": {
      "text/html": [
       "Tracking run with wandb version 0.16.3"
      ],
      "text/plain": [
       "<IPython.core.display.HTML object>"
      ]
     },
     "metadata": {},
     "output_type": "display_data"
    },
    {
     "data": {
      "text/html": [
       "Run data is saved locally in <code>/content/wandb/run-20240229_222444-5p6oyyvs</code>"
      ],
      "text/plain": [
       "<IPython.core.display.HTML object>"
      ]
     },
     "metadata": {},
     "output_type": "display_data"
    },
    {
     "data": {
      "text/html": [
       "Syncing run <strong><a href='https://wandb.ai/brianmwigo/DeepLearningHomework1/runs/5p6oyyvs' target=\"_blank\">hopeful-sweep-28</a></strong> to <a href='https://wandb.ai/brianmwigo/DeepLearningHomework1' target=\"_blank\">Weights & Biases</a> (<a href='https://wandb.me/run' target=\"_blank\">docs</a>)<br/>Sweep page: <a href='https://wandb.ai/brianmwigo/DeepLearningHomework1/sweeps/esqa44ap' target=\"_blank\">https://wandb.ai/brianmwigo/DeepLearningHomework1/sweeps/esqa44ap</a>"
      ],
      "text/plain": [
       "<IPython.core.display.HTML object>"
      ]
     },
     "metadata": {},
     "output_type": "display_data"
    },
    {
     "data": {
      "text/html": [
       " View project at <a href='https://wandb.ai/brianmwigo/DeepLearningHomework1' target=\"_blank\">https://wandb.ai/brianmwigo/DeepLearningHomework1</a>"
      ],
      "text/plain": [
       "<IPython.core.display.HTML object>"
      ]
     },
     "metadata": {},
     "output_type": "display_data"
    },
    {
     "data": {
      "text/html": [
       " View sweep at <a href='https://wandb.ai/brianmwigo/DeepLearningHomework1/sweeps/esqa44ap' target=\"_blank\">https://wandb.ai/brianmwigo/DeepLearningHomework1/sweeps/esqa44ap</a>"
      ],
      "text/plain": [
       "<IPython.core.display.HTML object>"
      ]
     },
     "metadata": {},
     "output_type": "display_data"
    },
    {
     "data": {
      "text/html": [
       " View run at <a href='https://wandb.ai/brianmwigo/DeepLearningHomework1/runs/5p6oyyvs' target=\"_blank\">https://wandb.ai/brianmwigo/DeepLearningHomework1/runs/5p6oyyvs</a>"
      ],
      "text/plain": [
       "<IPython.core.display.HTML object>"
      ]
     },
     "metadata": {},
     "output_type": "display_data"
    },
    {
     "name": "stdout",
     "output_type": "stream",
     "text": [
      "epoch: 0, loss: 9.352e-02, accuracy_train: 0.79, accuracy_val: 0.78, learning rate: 1.000e-03\n",
      "epoch: 1, loss: 5.287e-02, accuracy_train: 0.82, accuracy_val: 0.82, learning rate: 1.000e-03\n",
      "epoch: 2, loss: 4.721e-02, accuracy_train: 0.83, accuracy_val: 0.83, learning rate: 1.000e-03\n",
      "epoch: 3, loss: 4.431e-02, accuracy_train: 0.84, accuracy_val: 0.83, learning rate: 1.000e-03\n",
      "epoch: 4, loss: 4.231e-02, accuracy_train: 0.85, accuracy_val: 0.84, learning rate: 1.000e-03\n",
      "epoch: 5, loss: 4.094e-02, accuracy_train: 0.86, accuracy_val: 0.85, learning rate: 1.000e-03\n",
      "epoch: 6, loss: 3.975e-02, accuracy_train: 0.86, accuracy_val: 0.85, learning rate: 1.000e-03\n",
      "epoch: 7, loss: 3.879e-02, accuracy_train: 0.87, accuracy_val: 0.85, learning rate: 1.000e-03\n",
      "epoch: 8, loss: 3.789e-02, accuracy_train: 0.87, accuracy_val: 0.86, learning rate: 1.000e-03\n",
      "epoch: 9, loss: 3.715e-02, accuracy_train: 0.87, accuracy_val: 0.86, learning rate: 1.000e-03\n"
     ]
    },
    {
     "data": {
      "application/vnd.jupyter.widget-view+json": {
       "model_id": "cd5323c4e3314b82a06bd95e1d562b98",
       "version_major": 2,
       "version_minor": 0
      },
      "text/plain": [
       "VBox(children=(Label(value='0.012 MB of 0.012 MB uploaded\\r'), FloatProgress(value=1.0, max=1.0)))"
      ]
     },
     "metadata": {},
     "output_type": "display_data"
    },
    {
     "data": {
      "text/html": [
       "<style>\n",
       "    table.wandb td:nth-child(1) { padding: 0 10px; text-align: left ; width: auto;} td:nth-child(2) {text-align: left ; width: 100%}\n",
       "    .wandb-row { display: flex; flex-direction: row; flex-wrap: wrap; justify-content: flex-start; width: 100% }\n",
       "    .wandb-col { display: flex; flex-direction: column; flex-basis: 100%; flex: 1; padding: 10px; }\n",
       "    </style>\n",
       "<div class=\"wandb-row\"><div class=\"wandb-col\"><h3>Run history:</h3><br/><table class=\"wandb\"><tr><td>epoch</td><td>▁▂▃▃▄▅▆▆▇█</td></tr><tr><td>loss</td><td>█▅▄▃▂▂▂▁▁▁</td></tr><tr><td>trainingaccuracy</td><td>▁▃▅▆▆▇▇███</td></tr><tr><td>validationaccuracy</td><td>▁▄▅▆▆▇▇███</td></tr></table><br/></div><div class=\"wandb-col\"><h3>Run summary:</h3><br/><table class=\"wandb\"><tr><td>epoch</td><td>9</td></tr><tr><td>loss</td><td>0.04747</td></tr><tr><td>trainingaccuracy</td><td>0.87048</td></tr><tr><td>validationaccuracy</td><td>0.85733</td></tr></table><br/></div></div>"
      ],
      "text/plain": [
       "<IPython.core.display.HTML object>"
      ]
     },
     "metadata": {},
     "output_type": "display_data"
    },
    {
     "data": {
      "text/html": [
       " View run <strong style=\"color:#cdcd00\">hopeful-sweep-28</strong> at: <a href='https://wandb.ai/brianmwigo/DeepLearningHomework1/runs/5p6oyyvs' target=\"_blank\">https://wandb.ai/brianmwigo/DeepLearningHomework1/runs/5p6oyyvs</a><br/>Synced 5 W&B file(s), 0 media file(s), 0 artifact file(s) and 0 other file(s)"
      ],
      "text/plain": [
       "<IPython.core.display.HTML object>"
      ]
     },
     "metadata": {},
     "output_type": "display_data"
    },
    {
     "data": {
      "text/html": [
       "Find logs at: <code>./wandb/run-20240229_222444-5p6oyyvs/logs</code>"
      ],
      "text/plain": [
       "<IPython.core.display.HTML object>"
      ]
     },
     "metadata": {},
     "output_type": "display_data"
    },
    {
     "name": "stderr",
     "output_type": "stream",
     "text": [
      "\u001b[34m\u001b[1mwandb\u001b[0m: Agent Starting Run: pcxbw94f with config:\n",
      "\u001b[34m\u001b[1mwandb\u001b[0m: \tactivation: sigmoid\n",
      "\u001b[34m\u001b[1mwandb\u001b[0m: \tbatch_size: 64\n",
      "\u001b[34m\u001b[1mwandb\u001b[0m: \tinitializer: xavier\n",
      "\u001b[34m\u001b[1mwandb\u001b[0m: \tlearning_rate: 0.001\n",
      "\u001b[34m\u001b[1mwandb\u001b[0m: \tmax_epochs: 10\n",
      "\u001b[34m\u001b[1mwandb\u001b[0m: \tnum_hidden_neurons: 64\n",
      "\u001b[34m\u001b[1mwandb\u001b[0m: \tnum_layers: 5\n",
      "\u001b[34m\u001b[1mwandb\u001b[0m: \toptimizer: momentum\n",
      "\u001b[34m\u001b[1mwandb\u001b[0m: \tweight_decay: 0\n"
     ]
    },
    {
     "data": {
      "text/html": [
       "Tracking run with wandb version 0.16.3"
      ],
      "text/plain": [
       "<IPython.core.display.HTML object>"
      ]
     },
     "metadata": {},
     "output_type": "display_data"
    },
    {
     "data": {
      "text/html": [
       "Run data is saved locally in <code>/content/wandb/run-20240229_223420-pcxbw94f</code>"
      ],
      "text/plain": [
       "<IPython.core.display.HTML object>"
      ]
     },
     "metadata": {},
     "output_type": "display_data"
    },
    {
     "data": {
      "text/html": [
       "Syncing run <strong><a href='https://wandb.ai/brianmwigo/DeepLearningHomework1/runs/pcxbw94f' target=\"_blank\">happy-sweep-29</a></strong> to <a href='https://wandb.ai/brianmwigo/DeepLearningHomework1' target=\"_blank\">Weights & Biases</a> (<a href='https://wandb.me/run' target=\"_blank\">docs</a>)<br/>Sweep page: <a href='https://wandb.ai/brianmwigo/DeepLearningHomework1/sweeps/esqa44ap' target=\"_blank\">https://wandb.ai/brianmwigo/DeepLearningHomework1/sweeps/esqa44ap</a>"
      ],
      "text/plain": [
       "<IPython.core.display.HTML object>"
      ]
     },
     "metadata": {},
     "output_type": "display_data"
    },
    {
     "data": {
      "text/html": [
       " View project at <a href='https://wandb.ai/brianmwigo/DeepLearningHomework1' target=\"_blank\">https://wandb.ai/brianmwigo/DeepLearningHomework1</a>"
      ],
      "text/plain": [
       "<IPython.core.display.HTML object>"
      ]
     },
     "metadata": {},
     "output_type": "display_data"
    },
    {
     "data": {
      "text/html": [
       " View sweep at <a href='https://wandb.ai/brianmwigo/DeepLearningHomework1/sweeps/esqa44ap' target=\"_blank\">https://wandb.ai/brianmwigo/DeepLearningHomework1/sweeps/esqa44ap</a>"
      ],
      "text/plain": [
       "<IPython.core.display.HTML object>"
      ]
     },
     "metadata": {},
     "output_type": "display_data"
    },
    {
     "data": {
      "text/html": [
       " View run at <a href='https://wandb.ai/brianmwigo/DeepLearningHomework1/runs/pcxbw94f' target=\"_blank\">https://wandb.ai/brianmwigo/DeepLearningHomework1/runs/pcxbw94f</a>"
      ],
      "text/plain": [
       "<IPython.core.display.HTML object>"
      ]
     },
     "metadata": {},
     "output_type": "display_data"
    },
    {
     "name": "stdout",
     "output_type": "stream",
     "text": [
      "epoch: 0, loss: 1.155e-01, accuracy_train: 0.76, accuracy_val: 0.76, learning rate: 1.000e-03\n",
      "epoch: 1, loss: 6.199e-02, accuracy_train: 0.81, accuracy_val: 0.81, learning rate: 1.000e-03\n",
      "epoch: 2, loss: 5.394e-02, accuracy_train: 0.82, accuracy_val: 0.82, learning rate: 1.000e-03\n",
      "epoch: 3, loss: 5.013e-02, accuracy_train: 0.83, accuracy_val: 0.83, learning rate: 1.000e-03\n",
      "epoch: 4, loss: 4.755e-02, accuracy_train: 0.84, accuracy_val: 0.84, learning rate: 1.000e-03\n",
      "epoch: 5, loss: 4.576e-02, accuracy_train: 0.85, accuracy_val: 0.84, learning rate: 1.000e-03\n",
      "epoch: 6, loss: 4.448e-02, accuracy_train: 0.85, accuracy_val: 0.84, learning rate: 1.000e-03\n",
      "epoch: 7, loss: 4.341e-02, accuracy_train: 0.85, accuracy_val: 0.84, learning rate: 1.000e-03\n",
      "epoch: 8, loss: 4.250e-02, accuracy_train: 0.86, accuracy_val: 0.85, learning rate: 1.000e-03\n",
      "epoch: 9, loss: 4.170e-02, accuracy_train: 0.86, accuracy_val: 0.85, learning rate: 1.000e-03\n"
     ]
    },
    {
     "data": {
      "application/vnd.jupyter.widget-view+json": {
       "model_id": "b3b152c8d2a54f9f90adbe0fb866410d",
       "version_major": 2,
       "version_minor": 0
      },
      "text/plain": [
       "VBox(children=(Label(value='0.001 MB of 0.001 MB uploaded\\r'), FloatProgress(value=1.0, max=1.0)))"
      ]
     },
     "metadata": {},
     "output_type": "display_data"
    },
    {
     "data": {
      "text/html": [
       "<style>\n",
       "    table.wandb td:nth-child(1) { padding: 0 10px; text-align: left ; width: auto;} td:nth-child(2) {text-align: left ; width: 100%}\n",
       "    .wandb-row { display: flex; flex-direction: row; flex-wrap: wrap; justify-content: flex-start; width: 100% }\n",
       "    .wandb-col { display: flex; flex-direction: column; flex-basis: 100%; flex: 1; padding: 10px; }\n",
       "    </style>\n",
       "<div class=\"wandb-row\"><div class=\"wandb-col\"><h3>Run history:</h3><br/><table class=\"wandb\"><tr><td>epoch</td><td>▁▂▃▃▄▅▆▆▇█</td></tr><tr><td>loss</td><td>█▅▄▃▂▂▂▁▁▁</td></tr><tr><td>trainingaccuracy</td><td>▁▄▅▆▇▇▇███</td></tr><tr><td>validationaccuracy</td><td>▁▅▅▆▇▇▇███</td></tr></table><br/></div><div class=\"wandb-col\"><h3>Run summary:</h3><br/><table class=\"wandb\"><tr><td>epoch</td><td>9</td></tr><tr><td>loss</td><td>0.0547</td></tr><tr><td>trainingaccuracy</td><td>0.86107</td></tr><tr><td>validationaccuracy</td><td>0.85117</td></tr></table><br/></div></div>"
      ],
      "text/plain": [
       "<IPython.core.display.HTML object>"
      ]
     },
     "metadata": {},
     "output_type": "display_data"
    },
    {
     "data": {
      "text/html": [
       " View run <strong style=\"color:#cdcd00\">happy-sweep-29</strong> at: <a href='https://wandb.ai/brianmwigo/DeepLearningHomework1/runs/pcxbw94f' target=\"_blank\">https://wandb.ai/brianmwigo/DeepLearningHomework1/runs/pcxbw94f</a><br/>Synced 5 W&B file(s), 0 media file(s), 0 artifact file(s) and 0 other file(s)"
      ],
      "text/plain": [
       "<IPython.core.display.HTML object>"
      ]
     },
     "metadata": {},
     "output_type": "display_data"
    },
    {
     "data": {
      "text/html": [
       "Find logs at: <code>./wandb/run-20240229_223420-pcxbw94f/logs</code>"
      ],
      "text/plain": [
       "<IPython.core.display.HTML object>"
      ]
     },
     "metadata": {},
     "output_type": "display_data"
    },
    {
     "name": "stderr",
     "output_type": "stream",
     "text": [
      "\u001b[34m\u001b[1mwandb\u001b[0m: Agent Starting Run: 6g77nyt1 with config:\n",
      "\u001b[34m\u001b[1mwandb\u001b[0m: \tactivation: sigmoid\n",
      "\u001b[34m\u001b[1mwandb\u001b[0m: \tbatch_size: 32\n",
      "\u001b[34m\u001b[1mwandb\u001b[0m: \tinitializer: xavier\n",
      "\u001b[34m\u001b[1mwandb\u001b[0m: \tlearning_rate: 0.001\n",
      "\u001b[34m\u001b[1mwandb\u001b[0m: \tmax_epochs: 10\n",
      "\u001b[34m\u001b[1mwandb\u001b[0m: \tnum_hidden_neurons: 128\n",
      "\u001b[34m\u001b[1mwandb\u001b[0m: \tnum_layers: 3\n",
      "\u001b[34m\u001b[1mwandb\u001b[0m: \toptimizer: nesterov\n",
      "\u001b[34m\u001b[1mwandb\u001b[0m: \tweight_decay: 0\n"
     ]
    },
    {
     "data": {
      "text/html": [
       "Tracking run with wandb version 0.16.3"
      ],
      "text/plain": [
       "<IPython.core.display.HTML object>"
      ]
     },
     "metadata": {},
     "output_type": "display_data"
    },
    {
     "data": {
      "text/html": [
       "Run data is saved locally in <code>/content/wandb/run-20240229_224309-6g77nyt1</code>"
      ],
      "text/plain": [
       "<IPython.core.display.HTML object>"
      ]
     },
     "metadata": {},
     "output_type": "display_data"
    },
    {
     "data": {
      "text/html": [
       "Syncing run <strong><a href='https://wandb.ai/brianmwigo/DeepLearningHomework1/runs/6g77nyt1' target=\"_blank\">visionary-sweep-30</a></strong> to <a href='https://wandb.ai/brianmwigo/DeepLearningHomework1' target=\"_blank\">Weights & Biases</a> (<a href='https://wandb.me/run' target=\"_blank\">docs</a>)<br/>Sweep page: <a href='https://wandb.ai/brianmwigo/DeepLearningHomework1/sweeps/esqa44ap' target=\"_blank\">https://wandb.ai/brianmwigo/DeepLearningHomework1/sweeps/esqa44ap</a>"
      ],
      "text/plain": [
       "<IPython.core.display.HTML object>"
      ]
     },
     "metadata": {},
     "output_type": "display_data"
    },
    {
     "data": {
      "text/html": [
       " View project at <a href='https://wandb.ai/brianmwigo/DeepLearningHomework1' target=\"_blank\">https://wandb.ai/brianmwigo/DeepLearningHomework1</a>"
      ],
      "text/plain": [
       "<IPython.core.display.HTML object>"
      ]
     },
     "metadata": {},
     "output_type": "display_data"
    },
    {
     "data": {
      "text/html": [
       " View sweep at <a href='https://wandb.ai/brianmwigo/DeepLearningHomework1/sweeps/esqa44ap' target=\"_blank\">https://wandb.ai/brianmwigo/DeepLearningHomework1/sweeps/esqa44ap</a>"
      ],
      "text/plain": [
       "<IPython.core.display.HTML object>"
      ]
     },
     "metadata": {},
     "output_type": "display_data"
    },
    {
     "data": {
      "text/html": [
       " View run at <a href='https://wandb.ai/brianmwigo/DeepLearningHomework1/runs/6g77nyt1' target=\"_blank\">https://wandb.ai/brianmwigo/DeepLearningHomework1/runs/6g77nyt1</a>"
      ],
      "text/plain": [
       "<IPython.core.display.HTML object>"
      ]
     },
     "metadata": {},
     "output_type": "display_data"
    },
    {
     "name": "stdout",
     "output_type": "stream",
     "text": [
      "epoch: 0, loss: 1.026e-01, accuracy_train: 0.76, accuracy_val: 0.75, learning rate: 1.000e-03\n",
      "epoch: 1, loss: 5.584e-02, accuracy_train: 0.81, accuracy_val: 0.80, learning rate: 1.000e-03\n",
      "epoch: 2, loss: 4.831e-02, accuracy_train: 0.82, accuracy_val: 0.81, learning rate: 1.000e-03\n",
      "epoch: 3, loss: 4.489e-02, accuracy_train: 0.83, accuracy_val: 0.82, learning rate: 1.000e-03\n",
      "epoch: 4, loss: 4.252e-02, accuracy_train: 0.84, accuracy_val: 0.83, learning rate: 1.000e-03\n",
      "epoch: 5, loss: 4.089e-02, accuracy_train: 0.85, accuracy_val: 0.84, learning rate: 1.000e-03\n",
      "epoch: 6, loss: 3.953e-02, accuracy_train: 0.86, accuracy_val: 0.84, learning rate: 1.000e-03\n",
      "epoch: 7, loss: 3.847e-02, accuracy_train: 0.86, accuracy_val: 0.84, learning rate: 1.000e-03\n",
      "epoch: 8, loss: 3.751e-02, accuracy_train: 0.86, accuracy_val: 0.85, learning rate: 1.000e-03\n",
      "epoch: 9, loss: 3.673e-02, accuracy_train: 0.86, accuracy_val: 0.85, learning rate: 1.000e-03\n"
     ]
    },
    {
     "data": {
      "application/vnd.jupyter.widget-view+json": {
       "model_id": "1aee772947b0492aa4bd3dae8ce8cc62",
       "version_major": 2,
       "version_minor": 0
      },
      "text/plain": [
       "VBox(children=(Label(value='0.001 MB of 0.012 MB uploaded\\r'), FloatProgress(value=0.08819906380881991, max=1.…"
      ]
     },
     "metadata": {},
     "output_type": "display_data"
    },
    {
     "data": {
      "text/html": [
       "<style>\n",
       "    table.wandb td:nth-child(1) { padding: 0 10px; text-align: left ; width: auto;} td:nth-child(2) {text-align: left ; width: 100%}\n",
       "    .wandb-row { display: flex; flex-direction: row; flex-wrap: wrap; justify-content: flex-start; width: 100% }\n",
       "    .wandb-col { display: flex; flex-direction: column; flex-basis: 100%; flex: 1; padding: 10px; }\n",
       "    </style>\n",
       "<div class=\"wandb-row\"><div class=\"wandb-col\"><h3>Run history:</h3><br/><table class=\"wandb\"><tr><td>epoch</td><td>▁▂▃▃▄▅▆▆▇█</td></tr><tr><td>loss</td><td>█▅▄▃▂▂▂▁▁▁</td></tr><tr><td>trainingaccuracy</td><td>▁▄▅▆▇▇▇▇██</td></tr><tr><td>validationaccuracy</td><td>▁▄▅▆▇▇▇▇██</td></tr></table><br/></div><div class=\"wandb-col\"><h3>Run summary:</h3><br/><table class=\"wandb\"><tr><td>epoch</td><td>9</td></tr><tr><td>loss</td><td>0.04873</td></tr><tr><td>trainingaccuracy</td><td>0.86459</td></tr><tr><td>validationaccuracy</td><td>0.8535</td></tr></table><br/></div></div>"
      ],
      "text/plain": [
       "<IPython.core.display.HTML object>"
      ]
     },
     "metadata": {},
     "output_type": "display_data"
    },
    {
     "data": {
      "text/html": [
       " View run <strong style=\"color:#cdcd00\">visionary-sweep-30</strong> at: <a href='https://wandb.ai/brianmwigo/DeepLearningHomework1/runs/6g77nyt1' target=\"_blank\">https://wandb.ai/brianmwigo/DeepLearningHomework1/runs/6g77nyt1</a><br/>Synced 5 W&B file(s), 0 media file(s), 0 artifact file(s) and 0 other file(s)"
      ],
      "text/plain": [
       "<IPython.core.display.HTML object>"
      ]
     },
     "metadata": {},
     "output_type": "display_data"
    },
    {
     "data": {
      "text/html": [
       "Find logs at: <code>./wandb/run-20240229_224309-6g77nyt1/logs</code>"
      ],
      "text/plain": [
       "<IPython.core.display.HTML object>"
      ]
     },
     "metadata": {},
     "output_type": "display_data"
    },
    {
     "name": "stderr",
     "output_type": "stream",
     "text": [
      "\u001b[34m\u001b[1mwandb\u001b[0m: Agent Starting Run: vf0y0m3w with config:\n",
      "\u001b[34m\u001b[1mwandb\u001b[0m: \tactivation: tanh\n",
      "\u001b[34m\u001b[1mwandb\u001b[0m: \tbatch_size: 16\n",
      "\u001b[34m\u001b[1mwandb\u001b[0m: \tinitializer: xavier\n",
      "\u001b[34m\u001b[1mwandb\u001b[0m: \tlearning_rate: 0.001\n",
      "\u001b[34m\u001b[1mwandb\u001b[0m: \tmax_epochs: 10\n",
      "\u001b[34m\u001b[1mwandb\u001b[0m: \tnum_hidden_neurons: 32\n",
      "\u001b[34m\u001b[1mwandb\u001b[0m: \tnum_layers: 3\n",
      "\u001b[34m\u001b[1mwandb\u001b[0m: \toptimizer: nesterov\n",
      "\u001b[34m\u001b[1mwandb\u001b[0m: \tweight_decay: 0\n"
     ]
    },
    {
     "data": {
      "text/html": [
       "Tracking run with wandb version 0.16.3"
      ],
      "text/plain": [
       "<IPython.core.display.HTML object>"
      ]
     },
     "metadata": {},
     "output_type": "display_data"
    },
    {
     "data": {
      "text/html": [
       "Run data is saved locally in <code>/content/wandb/run-20240229_225234-vf0y0m3w</code>"
      ],
      "text/plain": [
       "<IPython.core.display.HTML object>"
      ]
     },
     "metadata": {},
     "output_type": "display_data"
    },
    {
     "data": {
      "text/html": [
       "Syncing run <strong><a href='https://wandb.ai/brianmwigo/DeepLearningHomework1/runs/vf0y0m3w' target=\"_blank\">genial-sweep-31</a></strong> to <a href='https://wandb.ai/brianmwigo/DeepLearningHomework1' target=\"_blank\">Weights & Biases</a> (<a href='https://wandb.me/run' target=\"_blank\">docs</a>)<br/>Sweep page: <a href='https://wandb.ai/brianmwigo/DeepLearningHomework1/sweeps/esqa44ap' target=\"_blank\">https://wandb.ai/brianmwigo/DeepLearningHomework1/sweeps/esqa44ap</a>"
      ],
      "text/plain": [
       "<IPython.core.display.HTML object>"
      ]
     },
     "metadata": {},
     "output_type": "display_data"
    },
    {
     "data": {
      "text/html": [
       " View project at <a href='https://wandb.ai/brianmwigo/DeepLearningHomework1' target=\"_blank\">https://wandb.ai/brianmwigo/DeepLearningHomework1</a>"
      ],
      "text/plain": [
       "<IPython.core.display.HTML object>"
      ]
     },
     "metadata": {},
     "output_type": "display_data"
    },
    {
     "data": {
      "text/html": [
       " View sweep at <a href='https://wandb.ai/brianmwigo/DeepLearningHomework1/sweeps/esqa44ap' target=\"_blank\">https://wandb.ai/brianmwigo/DeepLearningHomework1/sweeps/esqa44ap</a>"
      ],
      "text/plain": [
       "<IPython.core.display.HTML object>"
      ]
     },
     "metadata": {},
     "output_type": "display_data"
    },
    {
     "data": {
      "text/html": [
       " View run at <a href='https://wandb.ai/brianmwigo/DeepLearningHomework1/runs/vf0y0m3w' target=\"_blank\">https://wandb.ai/brianmwigo/DeepLearningHomework1/runs/vf0y0m3w</a>"
      ],
      "text/plain": [
       "<IPython.core.display.HTML object>"
      ]
     },
     "metadata": {},
     "output_type": "display_data"
    },
    {
     "name": "stdout",
     "output_type": "stream",
     "text": [
      "epoch: 0, loss: 7.923e-02, accuracy_train: 0.80, accuracy_val: 0.79, learning rate: 1.000e-03\n",
      "epoch: 1, loss: 4.947e-02, accuracy_train: 0.82, accuracy_val: 0.81, learning rate: 1.000e-03\n",
      "epoch: 2, loss: 4.485e-02, accuracy_train: 0.83, accuracy_val: 0.83, learning rate: 1.000e-03\n",
      "epoch: 3, loss: 4.203e-02, accuracy_train: 0.84, accuracy_val: 0.83, learning rate: 1.000e-03\n",
      "epoch: 4, loss: 3.987e-02, accuracy_train: 0.85, accuracy_val: 0.84, learning rate: 1.000e-03\n",
      "epoch: 5, loss: 3.817e-02, accuracy_train: 0.85, accuracy_val: 0.85, learning rate: 1.000e-03\n",
      "epoch: 6, loss: 3.685e-02, accuracy_train: 0.86, accuracy_val: 0.85, learning rate: 1.000e-03\n",
      "epoch: 7, loss: 3.576e-02, accuracy_train: 0.87, accuracy_val: 0.85, learning rate: 1.000e-03\n",
      "epoch: 8, loss: 3.483e-02, accuracy_train: 0.87, accuracy_val: 0.85, learning rate: 1.000e-03\n",
      "epoch: 9, loss: 3.404e-02, accuracy_train: 0.87, accuracy_val: 0.86, learning rate: 1.000e-03\n"
     ]
    },
    {
     "data": {
      "application/vnd.jupyter.widget-view+json": {
       "model_id": "7b8a438617d4483aa413c2b65a8df221",
       "version_major": 2,
       "version_minor": 0
      },
      "text/plain": [
       "VBox(children=(Label(value='0.001 MB of 0.011 MB uploaded\\r'), FloatProgress(value=0.09558104383391126, max=1.…"
      ]
     },
     "metadata": {},
     "output_type": "display_data"
    },
    {
     "data": {
      "text/html": [
       "<style>\n",
       "    table.wandb td:nth-child(1) { padding: 0 10px; text-align: left ; width: auto;} td:nth-child(2) {text-align: left ; width: 100%}\n",
       "    .wandb-row { display: flex; flex-direction: row; flex-wrap: wrap; justify-content: flex-start; width: 100% }\n",
       "    .wandb-col { display: flex; flex-direction: column; flex-basis: 100%; flex: 1; padding: 10px; }\n",
       "    </style>\n",
       "<div class=\"wandb-row\"><div class=\"wandb-col\"><h3>Run history:</h3><br/><table class=\"wandb\"><tr><td>epoch</td><td>▁▂▃▃▄▅▆▆▇█</td></tr><tr><td>loss</td><td>█▅▄▃▂▂▂▁▁▁</td></tr><tr><td>trainingaccuracy</td><td>▁▃▄▅▆▆▇███</td></tr><tr><td>validationaccuracy</td><td>▁▃▅▅▆▇████</td></tr></table><br/></div><div class=\"wandb-col\"><h3>Run summary:</h3><br/><table class=\"wandb\"><tr><td>epoch</td><td>9</td></tr><tr><td>loss</td><td>0.04351</td></tr><tr><td>trainingaccuracy</td><td>0.8717</td></tr><tr><td>validationaccuracy</td><td>0.85667</td></tr></table><br/></div></div>"
      ],
      "text/plain": [
       "<IPython.core.display.HTML object>"
      ]
     },
     "metadata": {},
     "output_type": "display_data"
    },
    {
     "data": {
      "text/html": [
       " View run <strong style=\"color:#cdcd00\">genial-sweep-31</strong> at: <a href='https://wandb.ai/brianmwigo/DeepLearningHomework1/runs/vf0y0m3w' target=\"_blank\">https://wandb.ai/brianmwigo/DeepLearningHomework1/runs/vf0y0m3w</a><br/>Synced 5 W&B file(s), 0 media file(s), 0 artifact file(s) and 0 other file(s)"
      ],
      "text/plain": [
       "<IPython.core.display.HTML object>"
      ]
     },
     "metadata": {},
     "output_type": "display_data"
    },
    {
     "data": {
      "text/html": [
       "Find logs at: <code>./wandb/run-20240229_225234-vf0y0m3w/logs</code>"
      ],
      "text/plain": [
       "<IPython.core.display.HTML object>"
      ]
     },
     "metadata": {},
     "output_type": "display_data"
    },
    {
     "name": "stderr",
     "output_type": "stream",
     "text": [
      "\u001b[34m\u001b[1mwandb\u001b[0m: Agent Starting Run: 9uafbvtj with config:\n",
      "\u001b[34m\u001b[1mwandb\u001b[0m: \tactivation: tanh\n",
      "\u001b[34m\u001b[1mwandb\u001b[0m: \tbatch_size: 64\n",
      "\u001b[34m\u001b[1mwandb\u001b[0m: \tinitializer: xavier\n",
      "\u001b[34m\u001b[1mwandb\u001b[0m: \tlearning_rate: 0.001\n",
      "\u001b[34m\u001b[1mwandb\u001b[0m: \tmax_epochs: 10\n",
      "\u001b[34m\u001b[1mwandb\u001b[0m: \tnum_hidden_neurons: 128\n",
      "\u001b[34m\u001b[1mwandb\u001b[0m: \tnum_layers: 3\n",
      "\u001b[34m\u001b[1mwandb\u001b[0m: \toptimizer: momentum\n",
      "\u001b[34m\u001b[1mwandb\u001b[0m: \tweight_decay: 0\n"
     ]
    },
    {
     "data": {
      "text/html": [
       "Tracking run with wandb version 0.16.3"
      ],
      "text/plain": [
       "<IPython.core.display.HTML object>"
      ]
     },
     "metadata": {},
     "output_type": "display_data"
    },
    {
     "data": {
      "text/html": [
       "Run data is saved locally in <code>/content/wandb/run-20240229_230207-9uafbvtj</code>"
      ],
      "text/plain": [
       "<IPython.core.display.HTML object>"
      ]
     },
     "metadata": {},
     "output_type": "display_data"
    },
    {
     "data": {
      "text/html": [
       "Syncing run <strong><a href='https://wandb.ai/brianmwigo/DeepLearningHomework1/runs/9uafbvtj' target=\"_blank\">prime-sweep-32</a></strong> to <a href='https://wandb.ai/brianmwigo/DeepLearningHomework1' target=\"_blank\">Weights & Biases</a> (<a href='https://wandb.me/run' target=\"_blank\">docs</a>)<br/>Sweep page: <a href='https://wandb.ai/brianmwigo/DeepLearningHomework1/sweeps/esqa44ap' target=\"_blank\">https://wandb.ai/brianmwigo/DeepLearningHomework1/sweeps/esqa44ap</a>"
      ],
      "text/plain": [
       "<IPython.core.display.HTML object>"
      ]
     },
     "metadata": {},
     "output_type": "display_data"
    },
    {
     "data": {
      "text/html": [
       " View project at <a href='https://wandb.ai/brianmwigo/DeepLearningHomework1' target=\"_blank\">https://wandb.ai/brianmwigo/DeepLearningHomework1</a>"
      ],
      "text/plain": [
       "<IPython.core.display.HTML object>"
      ]
     },
     "metadata": {},
     "output_type": "display_data"
    },
    {
     "data": {
      "text/html": [
       " View sweep at <a href='https://wandb.ai/brianmwigo/DeepLearningHomework1/sweeps/esqa44ap' target=\"_blank\">https://wandb.ai/brianmwigo/DeepLearningHomework1/sweeps/esqa44ap</a>"
      ],
      "text/plain": [
       "<IPython.core.display.HTML object>"
      ]
     },
     "metadata": {},
     "output_type": "display_data"
    },
    {
     "data": {
      "text/html": [
       " View run at <a href='https://wandb.ai/brianmwigo/DeepLearningHomework1/runs/9uafbvtj' target=\"_blank\">https://wandb.ai/brianmwigo/DeepLearningHomework1/runs/9uafbvtj</a>"
      ],
      "text/plain": [
       "<IPython.core.display.HTML object>"
      ]
     },
     "metadata": {},
     "output_type": "display_data"
    },
    {
     "name": "stdout",
     "output_type": "stream",
     "text": [
      "epoch: 0, loss: 1.185e-01, accuracy_train: 0.74, accuracy_val: 0.73, learning rate: 1.000e-03\n",
      "epoch: 1, loss: 6.382e-02, accuracy_train: 0.80, accuracy_val: 0.80, learning rate: 1.000e-03\n",
      "epoch: 2, loss: 5.478e-02, accuracy_train: 0.82, accuracy_val: 0.82, learning rate: 1.000e-03\n",
      "epoch: 3, loss: 5.025e-02, accuracy_train: 0.83, accuracy_val: 0.83, learning rate: 1.000e-03\n",
      "epoch: 4, loss: 4.755e-02, accuracy_train: 0.84, accuracy_val: 0.84, learning rate: 1.000e-03\n",
      "epoch: 5, loss: 4.567e-02, accuracy_train: 0.85, accuracy_val: 0.84, learning rate: 1.000e-03\n",
      "epoch: 6, loss: 4.424e-02, accuracy_train: 0.85, accuracy_val: 0.85, learning rate: 1.000e-03\n",
      "epoch: 7, loss: 4.305e-02, accuracy_train: 0.86, accuracy_val: 0.85, learning rate: 1.000e-03\n",
      "epoch: 8, loss: 4.200e-02, accuracy_train: 0.86, accuracy_val: 0.85, learning rate: 1.000e-03\n",
      "epoch: 9, loss: 4.107e-02, accuracy_train: 0.86, accuracy_val: 0.85, learning rate: 1.000e-03\n"
     ]
    },
    {
     "data": {
      "application/vnd.jupyter.widget-view+json": {
       "model_id": "1837c06a94da4242b96772f97b9faf84",
       "version_major": 2,
       "version_minor": 0
      },
      "text/plain": [
       "VBox(children=(Label(value='0.001 MB of 0.001 MB uploaded\\r'), FloatProgress(value=1.0, max=1.0)))"
      ]
     },
     "metadata": {},
     "output_type": "display_data"
    },
    {
     "data": {
      "text/html": [
       "<style>\n",
       "    table.wandb td:nth-child(1) { padding: 0 10px; text-align: left ; width: auto;} td:nth-child(2) {text-align: left ; width: 100%}\n",
       "    .wandb-row { display: flex; flex-direction: row; flex-wrap: wrap; justify-content: flex-start; width: 100% }\n",
       "    .wandb-col { display: flex; flex-direction: column; flex-basis: 100%; flex: 1; padding: 10px; }\n",
       "    </style>\n",
       "<div class=\"wandb-row\"><div class=\"wandb-col\"><h3>Run history:</h3><br/><table class=\"wandb\"><tr><td>epoch</td><td>▁▂▃▃▄▅▆▆▇█</td></tr><tr><td>loss</td><td>█▅▄▃▂▂▂▁▁▁</td></tr><tr><td>trainingaccuracy</td><td>▁▅▆▆▇▇▇███</td></tr><tr><td>validationaccuracy</td><td>▁▅▆▇▇▇████</td></tr></table><br/></div><div class=\"wandb-col\"><h3>Run summary:</h3><br/><table class=\"wandb\"><tr><td>epoch</td><td>9</td></tr><tr><td>loss</td><td>0.0551</td></tr><tr><td>trainingaccuracy</td><td>0.86126</td></tr><tr><td>validationaccuracy</td><td>0.854</td></tr></table><br/></div></div>"
      ],
      "text/plain": [
       "<IPython.core.display.HTML object>"
      ]
     },
     "metadata": {},
     "output_type": "display_data"
    },
    {
     "data": {
      "text/html": [
       " View run <strong style=\"color:#cdcd00\">prime-sweep-32</strong> at: <a href='https://wandb.ai/brianmwigo/DeepLearningHomework1/runs/9uafbvtj' target=\"_blank\">https://wandb.ai/brianmwigo/DeepLearningHomework1/runs/9uafbvtj</a><br/>Synced 5 W&B file(s), 0 media file(s), 0 artifact file(s) and 0 other file(s)"
      ],
      "text/plain": [
       "<IPython.core.display.HTML object>"
      ]
     },
     "metadata": {},
     "output_type": "display_data"
    },
    {
     "data": {
      "text/html": [
       "Find logs at: <code>./wandb/run-20240229_230207-9uafbvtj/logs</code>"
      ],
      "text/plain": [
       "<IPython.core.display.HTML object>"
      ]
     },
     "metadata": {},
     "output_type": "display_data"
    },
    {
     "name": "stderr",
     "output_type": "stream",
     "text": [
      "\u001b[34m\u001b[1mwandb\u001b[0m: Agent Starting Run: 2att6wtg with config:\n",
      "\u001b[34m\u001b[1mwandb\u001b[0m: \tactivation: sigmoid\n",
      "\u001b[34m\u001b[1mwandb\u001b[0m: \tbatch_size: 16\n",
      "\u001b[34m\u001b[1mwandb\u001b[0m: \tinitializer: xavier\n",
      "\u001b[34m\u001b[1mwandb\u001b[0m: \tlearning_rate: 0.001\n",
      "\u001b[34m\u001b[1mwandb\u001b[0m: \tmax_epochs: 10\n",
      "\u001b[34m\u001b[1mwandb\u001b[0m: \tnum_hidden_neurons: 32\n",
      "\u001b[34m\u001b[1mwandb\u001b[0m: \tnum_layers: 3\n",
      "\u001b[34m\u001b[1mwandb\u001b[0m: \toptimizer: momentum\n",
      "\u001b[34m\u001b[1mwandb\u001b[0m: \tweight_decay: 0.0005\n"
     ]
    },
    {
     "data": {
      "text/html": [
       "Tracking run with wandb version 0.16.3"
      ],
      "text/plain": [
       "<IPython.core.display.HTML object>"
      ]
     },
     "metadata": {},
     "output_type": "display_data"
    },
    {
     "data": {
      "text/html": [
       "Run data is saved locally in <code>/content/wandb/run-20240229_231047-2att6wtg</code>"
      ],
      "text/plain": [
       "<IPython.core.display.HTML object>"
      ]
     },
     "metadata": {},
     "output_type": "display_data"
    },
    {
     "data": {
      "text/html": [
       "Syncing run <strong><a href='https://wandb.ai/brianmwigo/DeepLearningHomework1/runs/2att6wtg' target=\"_blank\">atomic-sweep-33</a></strong> to <a href='https://wandb.ai/brianmwigo/DeepLearningHomework1' target=\"_blank\">Weights & Biases</a> (<a href='https://wandb.me/run' target=\"_blank\">docs</a>)<br/>Sweep page: <a href='https://wandb.ai/brianmwigo/DeepLearningHomework1/sweeps/esqa44ap' target=\"_blank\">https://wandb.ai/brianmwigo/DeepLearningHomework1/sweeps/esqa44ap</a>"
      ],
      "text/plain": [
       "<IPython.core.display.HTML object>"
      ]
     },
     "metadata": {},
     "output_type": "display_data"
    },
    {
     "data": {
      "text/html": [
       " View project at <a href='https://wandb.ai/brianmwigo/DeepLearningHomework1' target=\"_blank\">https://wandb.ai/brianmwigo/DeepLearningHomework1</a>"
      ],
      "text/plain": [
       "<IPython.core.display.HTML object>"
      ]
     },
     "metadata": {},
     "output_type": "display_data"
    },
    {
     "data": {
      "text/html": [
       " View sweep at <a href='https://wandb.ai/brianmwigo/DeepLearningHomework1/sweeps/esqa44ap' target=\"_blank\">https://wandb.ai/brianmwigo/DeepLearningHomework1/sweeps/esqa44ap</a>"
      ],
      "text/plain": [
       "<IPython.core.display.HTML object>"
      ]
     },
     "metadata": {},
     "output_type": "display_data"
    },
    {
     "data": {
      "text/html": [
       " View run at <a href='https://wandb.ai/brianmwigo/DeepLearningHomework1/runs/2att6wtg' target=\"_blank\">https://wandb.ai/brianmwigo/DeepLearningHomework1/runs/2att6wtg</a>"
      ],
      "text/plain": [
       "<IPython.core.display.HTML object>"
      ]
     },
     "metadata": {},
     "output_type": "display_data"
    },
    {
     "name": "stdout",
     "output_type": "stream",
     "text": [
      "epoch: 0, loss: 7.517e-02, accuracy_train: 0.79, accuracy_val: 0.78, learning rate: 1.000e-03\n",
      "epoch: 1, loss: 4.837e-02, accuracy_train: 0.81, accuracy_val: 0.81, learning rate: 1.000e-03\n",
      "epoch: 2, loss: 4.364e-02, accuracy_train: 0.83, accuracy_val: 0.83, learning rate: 1.000e-03\n",
      "epoch: 3, loss: 4.084e-02, accuracy_train: 0.84, accuracy_val: 0.83, learning rate: 1.000e-03\n",
      "epoch: 4, loss: 3.895e-02, accuracy_train: 0.85, accuracy_val: 0.84, learning rate: 1.000e-03\n",
      "epoch: 5, loss: 3.751e-02, accuracy_train: 0.86, accuracy_val: 0.85, learning rate: 1.000e-03\n",
      "epoch: 6, loss: 3.633e-02, accuracy_train: 0.86, accuracy_val: 0.85, learning rate: 1.000e-03\n",
      "epoch: 7, loss: 3.527e-02, accuracy_train: 0.86, accuracy_val: 0.85, learning rate: 1.000e-03\n",
      "epoch: 8, loss: 3.435e-02, accuracy_train: 0.87, accuracy_val: 0.85, learning rate: 1.000e-03\n",
      "epoch: 9, loss: 3.354e-02, accuracy_train: 0.87, accuracy_val: 0.85, learning rate: 1.000e-03\n"
     ]
    },
    {
     "data": {
      "application/vnd.jupyter.widget-view+json": {
       "model_id": "0fd576a5e0cf4e9d92e5d76bddd2d5f6",
       "version_major": 2,
       "version_minor": 0
      },
      "text/plain": [
       "VBox(children=(Label(value='0.001 MB of 0.001 MB uploaded\\r'), FloatProgress(value=1.0, max=1.0)))"
      ]
     },
     "metadata": {},
     "output_type": "display_data"
    },
    {
     "data": {
      "text/html": [
       "<style>\n",
       "    table.wandb td:nth-child(1) { padding: 0 10px; text-align: left ; width: auto;} td:nth-child(2) {text-align: left ; width: 100%}\n",
       "    .wandb-row { display: flex; flex-direction: row; flex-wrap: wrap; justify-content: flex-start; width: 100% }\n",
       "    .wandb-col { display: flex; flex-direction: column; flex-basis: 100%; flex: 1; padding: 10px; }\n",
       "    </style>\n",
       "<div class=\"wandb-row\"><div class=\"wandb-col\"><h3>Run history:</h3><br/><table class=\"wandb\"><tr><td>epoch</td><td>▁▂▃▃▄▅▆▆▇█</td></tr><tr><td>loss</td><td>█▅▄▃▂▂▂▁▁▁</td></tr><tr><td>trainingaccuracy</td><td>▁▃▅▆▆▇▇███</td></tr><tr><td>validationaccuracy</td><td>▁▄▆▆▆▇▇███</td></tr></table><br/></div><div class=\"wandb-col\"><h3>Run summary:</h3><br/><table class=\"wandb\"><tr><td>epoch</td><td>9</td></tr><tr><td>loss</td><td>0.0424</td></tr><tr><td>trainingaccuracy</td><td>0.86817</td></tr><tr><td>validationaccuracy</td><td>0.853</td></tr></table><br/></div></div>"
      ],
      "text/plain": [
       "<IPython.core.display.HTML object>"
      ]
     },
     "metadata": {},
     "output_type": "display_data"
    },
    {
     "data": {
      "text/html": [
       " View run <strong style=\"color:#cdcd00\">atomic-sweep-33</strong> at: <a href='https://wandb.ai/brianmwigo/DeepLearningHomework1/runs/2att6wtg' target=\"_blank\">https://wandb.ai/brianmwigo/DeepLearningHomework1/runs/2att6wtg</a><br/>Synced 5 W&B file(s), 0 media file(s), 0 artifact file(s) and 0 other file(s)"
      ],
      "text/plain": [
       "<IPython.core.display.HTML object>"
      ]
     },
     "metadata": {},
     "output_type": "display_data"
    },
    {
     "data": {
      "text/html": [
       "Find logs at: <code>./wandb/run-20240229_231047-2att6wtg/logs</code>"
      ],
      "text/plain": [
       "<IPython.core.display.HTML object>"
      ]
     },
     "metadata": {},
     "output_type": "display_data"
    },
    {
     "name": "stderr",
     "output_type": "stream",
     "text": [
      "\u001b[34m\u001b[1mwandb\u001b[0m: Sweep Agent: Waiting for job.\n",
      "\u001b[34m\u001b[1mwandb\u001b[0m: Job received.\n",
      "\u001b[34m\u001b[1mwandb\u001b[0m: Agent Starting Run: 0v0s2h8t with config:\n",
      "\u001b[34m\u001b[1mwandb\u001b[0m: \tactivation: sigmoid\n",
      "\u001b[34m\u001b[1mwandb\u001b[0m: \tbatch_size: 32\n",
      "\u001b[34m\u001b[1mwandb\u001b[0m: \tinitializer: xavier\n",
      "\u001b[34m\u001b[1mwandb\u001b[0m: \tlearning_rate: 0.001\n",
      "\u001b[34m\u001b[1mwandb\u001b[0m: \tmax_epochs: 10\n",
      "\u001b[34m\u001b[1mwandb\u001b[0m: \tnum_hidden_neurons: 32\n",
      "\u001b[34m\u001b[1mwandb\u001b[0m: \tnum_layers: 3\n",
      "\u001b[34m\u001b[1mwandb\u001b[0m: \toptimizer: nesterov\n",
      "\u001b[34m\u001b[1mwandb\u001b[0m: \tweight_decay: 0.0005\n"
     ]
    },
    {
     "data": {
      "text/html": [
       "Tracking run with wandb version 0.16.3"
      ],
      "text/plain": [
       "<IPython.core.display.HTML object>"
      ]
     },
     "metadata": {},
     "output_type": "display_data"
    },
    {
     "data": {
      "text/html": [
       "Run data is saved locally in <code>/content/wandb/run-20240229_231945-0v0s2h8t</code>"
      ],
      "text/plain": [
       "<IPython.core.display.HTML object>"
      ]
     },
     "metadata": {},
     "output_type": "display_data"
    },
    {
     "data": {
      "text/html": [
       "Syncing run <strong><a href='https://wandb.ai/brianmwigo/DeepLearningHomework1/runs/0v0s2h8t' target=\"_blank\">playful-sweep-34</a></strong> to <a href='https://wandb.ai/brianmwigo/DeepLearningHomework1' target=\"_blank\">Weights & Biases</a> (<a href='https://wandb.me/run' target=\"_blank\">docs</a>)<br/>Sweep page: <a href='https://wandb.ai/brianmwigo/DeepLearningHomework1/sweeps/esqa44ap' target=\"_blank\">https://wandb.ai/brianmwigo/DeepLearningHomework1/sweeps/esqa44ap</a>"
      ],
      "text/plain": [
       "<IPython.core.display.HTML object>"
      ]
     },
     "metadata": {},
     "output_type": "display_data"
    },
    {
     "data": {
      "text/html": [
       " View project at <a href='https://wandb.ai/brianmwigo/DeepLearningHomework1' target=\"_blank\">https://wandb.ai/brianmwigo/DeepLearningHomework1</a>"
      ],
      "text/plain": [
       "<IPython.core.display.HTML object>"
      ]
     },
     "metadata": {},
     "output_type": "display_data"
    },
    {
     "data": {
      "text/html": [
       " View sweep at <a href='https://wandb.ai/brianmwigo/DeepLearningHomework1/sweeps/esqa44ap' target=\"_blank\">https://wandb.ai/brianmwigo/DeepLearningHomework1/sweeps/esqa44ap</a>"
      ],
      "text/plain": [
       "<IPython.core.display.HTML object>"
      ]
     },
     "metadata": {},
     "output_type": "display_data"
    },
    {
     "data": {
      "text/html": [
       " View run at <a href='https://wandb.ai/brianmwigo/DeepLearningHomework1/runs/0v0s2h8t' target=\"_blank\">https://wandb.ai/brianmwigo/DeepLearningHomework1/runs/0v0s2h8t</a>"
      ],
      "text/plain": [
       "<IPython.core.display.HTML object>"
      ]
     },
     "metadata": {},
     "output_type": "display_data"
    },
    {
     "name": "stdout",
     "output_type": "stream",
     "text": [
      "epoch: 0, loss: 8.910e-02, accuracy_train: 0.78, accuracy_val: 0.77, learning rate: 1.000e-03\n",
      "epoch: 1, loss: 5.287e-02, accuracy_train: 0.82, accuracy_val: 0.81, learning rate: 1.000e-03\n",
      "epoch: 2, loss: 4.731e-02, accuracy_train: 0.83, accuracy_val: 0.83, learning rate: 1.000e-03\n",
      "epoch: 3, loss: 4.454e-02, accuracy_train: 0.84, accuracy_val: 0.83, learning rate: 1.000e-03\n",
      "epoch: 4, loss: 4.258e-02, accuracy_train: 0.85, accuracy_val: 0.84, learning rate: 1.000e-03\n",
      "epoch: 5, loss: 4.113e-02, accuracy_train: 0.85, accuracy_val: 0.84, learning rate: 1.000e-03\n",
      "epoch: 6, loss: 3.983e-02, accuracy_train: 0.86, accuracy_val: 0.85, learning rate: 1.000e-03\n",
      "epoch: 7, loss: 3.875e-02, accuracy_train: 0.86, accuracy_val: 0.85, learning rate: 1.000e-03\n",
      "epoch: 8, loss: 3.774e-02, accuracy_train: 0.87, accuracy_val: 0.85, learning rate: 1.000e-03\n",
      "epoch: 9, loss: 3.690e-02, accuracy_train: 0.87, accuracy_val: 0.86, learning rate: 1.000e-03\n"
     ]
    },
    {
     "data": {
      "application/vnd.jupyter.widget-view+json": {
       "model_id": "a71e9f0f6a594a4c999de0d5cbce91c0",
       "version_major": 2,
       "version_minor": 0
      },
      "text/plain": [
       "VBox(children=(Label(value='0.001 MB of 0.001 MB uploaded\\r'), FloatProgress(value=1.0, max=1.0)))"
      ]
     },
     "metadata": {},
     "output_type": "display_data"
    },
    {
     "data": {
      "text/html": [
       "<style>\n",
       "    table.wandb td:nth-child(1) { padding: 0 10px; text-align: left ; width: auto;} td:nth-child(2) {text-align: left ; width: 100%}\n",
       "    .wandb-row { display: flex; flex-direction: row; flex-wrap: wrap; justify-content: flex-start; width: 100% }\n",
       "    .wandb-col { display: flex; flex-direction: column; flex-basis: 100%; flex: 1; padding: 10px; }\n",
       "    </style>\n",
       "<div class=\"wandb-row\"><div class=\"wandb-col\"><h3>Run history:</h3><br/><table class=\"wandb\"><tr><td>epoch</td><td>▁▂▃▃▄▅▆▆▇█</td></tr><tr><td>loss</td><td>█▅▄▃▂▂▂▁▁▁</td></tr><tr><td>trainingaccuracy</td><td>▁▄▅▆▆▇▇▇██</td></tr><tr><td>validationaccuracy</td><td>▁▄▆▆▇▇▇███</td></tr></table><br/></div><div class=\"wandb-col\"><h3>Run summary:</h3><br/><table class=\"wandb\"><tr><td>epoch</td><td>9</td></tr><tr><td>loss</td><td>0.04708</td></tr><tr><td>trainingaccuracy</td><td>0.86769</td></tr><tr><td>validationaccuracy</td><td>0.8555</td></tr></table><br/></div></div>"
      ],
      "text/plain": [
       "<IPython.core.display.HTML object>"
      ]
     },
     "metadata": {},
     "output_type": "display_data"
    },
    {
     "data": {
      "text/html": [
       " View run <strong style=\"color:#cdcd00\">playful-sweep-34</strong> at: <a href='https://wandb.ai/brianmwigo/DeepLearningHomework1/runs/0v0s2h8t' target=\"_blank\">https://wandb.ai/brianmwigo/DeepLearningHomework1/runs/0v0s2h8t</a><br/>Synced 5 W&B file(s), 0 media file(s), 0 artifact file(s) and 0 other file(s)"
      ],
      "text/plain": [
       "<IPython.core.display.HTML object>"
      ]
     },
     "metadata": {},
     "output_type": "display_data"
    },
    {
     "data": {
      "text/html": [
       "Find logs at: <code>./wandb/run-20240229_231945-0v0s2h8t/logs</code>"
      ],
      "text/plain": [
       "<IPython.core.display.HTML object>"
      ]
     },
     "metadata": {},
     "output_type": "display_data"
    },
    {
     "name": "stderr",
     "output_type": "stream",
     "text": [
      "\u001b[34m\u001b[1mwandb\u001b[0m: Agent Starting Run: n2qpncfp with config:\n",
      "\u001b[34m\u001b[1mwandb\u001b[0m: \tactivation: sigmoid\n",
      "\u001b[34m\u001b[1mwandb\u001b[0m: \tbatch_size: 64\n",
      "\u001b[34m\u001b[1mwandb\u001b[0m: \tinitializer: xavier\n",
      "\u001b[34m\u001b[1mwandb\u001b[0m: \tlearning_rate: 0.001\n",
      "\u001b[34m\u001b[1mwandb\u001b[0m: \tmax_epochs: 10\n",
      "\u001b[34m\u001b[1mwandb\u001b[0m: \tnum_hidden_neurons: 32\n",
      "\u001b[34m\u001b[1mwandb\u001b[0m: \tnum_layers: 5\n",
      "\u001b[34m\u001b[1mwandb\u001b[0m: \toptimizer: nesterov\n",
      "\u001b[34m\u001b[1mwandb\u001b[0m: \tweight_decay: 0\n"
     ]
    },
    {
     "data": {
      "text/html": [
       "Tracking run with wandb version 0.16.3"
      ],
      "text/plain": [
       "<IPython.core.display.HTML object>"
      ]
     },
     "metadata": {},
     "output_type": "display_data"
    },
    {
     "data": {
      "text/html": [
       "Run data is saved locally in <code>/content/wandb/run-20240229_232928-n2qpncfp</code>"
      ],
      "text/plain": [
       "<IPython.core.display.HTML object>"
      ]
     },
     "metadata": {},
     "output_type": "display_data"
    },
    {
     "data": {
      "text/html": [
       "Syncing run <strong><a href='https://wandb.ai/brianmwigo/DeepLearningHomework1/runs/n2qpncfp' target=\"_blank\">feasible-sweep-35</a></strong> to <a href='https://wandb.ai/brianmwigo/DeepLearningHomework1' target=\"_blank\">Weights & Biases</a> (<a href='https://wandb.me/run' target=\"_blank\">docs</a>)<br/>Sweep page: <a href='https://wandb.ai/brianmwigo/DeepLearningHomework1/sweeps/esqa44ap' target=\"_blank\">https://wandb.ai/brianmwigo/DeepLearningHomework1/sweeps/esqa44ap</a>"
      ],
      "text/plain": [
       "<IPython.core.display.HTML object>"
      ]
     },
     "metadata": {},
     "output_type": "display_data"
    },
    {
     "data": {
      "text/html": [
       " View project at <a href='https://wandb.ai/brianmwigo/DeepLearningHomework1' target=\"_blank\">https://wandb.ai/brianmwigo/DeepLearningHomework1</a>"
      ],
      "text/plain": [
       "<IPython.core.display.HTML object>"
      ]
     },
     "metadata": {},
     "output_type": "display_data"
    },
    {
     "data": {
      "text/html": [
       " View sweep at <a href='https://wandb.ai/brianmwigo/DeepLearningHomework1/sweeps/esqa44ap' target=\"_blank\">https://wandb.ai/brianmwigo/DeepLearningHomework1/sweeps/esqa44ap</a>"
      ],
      "text/plain": [
       "<IPython.core.display.HTML object>"
      ]
     },
     "metadata": {},
     "output_type": "display_data"
    },
    {
     "data": {
      "text/html": [
       " View run at <a href='https://wandb.ai/brianmwigo/DeepLearningHomework1/runs/n2qpncfp' target=\"_blank\">https://wandb.ai/brianmwigo/DeepLearningHomework1/runs/n2qpncfp</a>"
      ],
      "text/plain": [
       "<IPython.core.display.HTML object>"
      ]
     },
     "metadata": {},
     "output_type": "display_data"
    },
    {
     "name": "stdout",
     "output_type": "stream",
     "text": [
      "epoch: 0, loss: 1.093e-01, accuracy_train: 0.76, accuracy_val: 0.75, learning rate: 1.000e-03\n",
      "epoch: 1, loss: 6.201e-02, accuracy_train: 0.81, accuracy_val: 0.80, learning rate: 1.000e-03\n",
      "epoch: 2, loss: 5.289e-02, accuracy_train: 0.83, accuracy_val: 0.82, learning rate: 1.000e-03\n",
      "epoch: 3, loss: 4.875e-02, accuracy_train: 0.84, accuracy_val: 0.83, learning rate: 1.000e-03\n",
      "epoch: 4, loss: 4.645e-02, accuracy_train: 0.85, accuracy_val: 0.84, learning rate: 1.000e-03\n",
      "epoch: 5, loss: 4.485e-02, accuracy_train: 0.85, accuracy_val: 0.84, learning rate: 1.000e-03\n",
      "epoch: 6, loss: 4.358e-02, accuracy_train: 0.85, accuracy_val: 0.84, learning rate: 1.000e-03\n",
      "epoch: 7, loss: 4.255e-02, accuracy_train: 0.86, accuracy_val: 0.85, learning rate: 1.000e-03\n",
      "epoch: 8, loss: 4.165e-02, accuracy_train: 0.86, accuracy_val: 0.85, learning rate: 1.000e-03\n",
      "epoch: 9, loss: 4.083e-02, accuracy_train: 0.86, accuracy_val: 0.85, learning rate: 1.000e-03\n"
     ]
    },
    {
     "data": {
      "application/vnd.jupyter.widget-view+json": {
       "model_id": "1db83aea4fd946e2bac1f982399a2d7e",
       "version_major": 2,
       "version_minor": 0
      },
      "text/plain": [
       "VBox(children=(Label(value='0.001 MB of 0.012 MB uploaded\\r'), FloatProgress(value=0.08830294069328076, max=1.…"
      ]
     },
     "metadata": {},
     "output_type": "display_data"
    },
    {
     "data": {
      "text/html": [
       "<style>\n",
       "    table.wandb td:nth-child(1) { padding: 0 10px; text-align: left ; width: auto;} td:nth-child(2) {text-align: left ; width: 100%}\n",
       "    .wandb-row { display: flex; flex-direction: row; flex-wrap: wrap; justify-content: flex-start; width: 100% }\n",
       "    .wandb-col { display: flex; flex-direction: column; flex-basis: 100%; flex: 1; padding: 10px; }\n",
       "    </style>\n",
       "<div class=\"wandb-row\"><div class=\"wandb-col\"><h3>Run history:</h3><br/><table class=\"wandb\"><tr><td>epoch</td><td>▁▂▃▃▄▅▆▆▇█</td></tr><tr><td>loss</td><td>█▅▄▃▂▂▂▁▁▁</td></tr><tr><td>trainingaccuracy</td><td>▁▅▆▆▇▇▇███</td></tr><tr><td>validationaccuracy</td><td>▁▅▆▆▇▇▇▇██</td></tr></table><br/></div><div class=\"wandb-col\"><h3>Run summary:</h3><br/><table class=\"wandb\"><tr><td>epoch</td><td>9</td></tr><tr><td>loss</td><td>0.05329</td></tr><tr><td>trainingaccuracy</td><td>0.86219</td></tr><tr><td>validationaccuracy</td><td>0.855</td></tr></table><br/></div></div>"
      ],
      "text/plain": [
       "<IPython.core.display.HTML object>"
      ]
     },
     "metadata": {},
     "output_type": "display_data"
    },
    {
     "data": {
      "text/html": [
       " View run <strong style=\"color:#cdcd00\">feasible-sweep-35</strong> at: <a href='https://wandb.ai/brianmwigo/DeepLearningHomework1/runs/n2qpncfp' target=\"_blank\">https://wandb.ai/brianmwigo/DeepLearningHomework1/runs/n2qpncfp</a><br/>Synced 5 W&B file(s), 0 media file(s), 0 artifact file(s) and 0 other file(s)"
      ],
      "text/plain": [
       "<IPython.core.display.HTML object>"
      ]
     },
     "metadata": {},
     "output_type": "display_data"
    },
    {
     "data": {
      "text/html": [
       "Find logs at: <code>./wandb/run-20240229_232928-n2qpncfp/logs</code>"
      ],
      "text/plain": [
       "<IPython.core.display.HTML object>"
      ]
     },
     "metadata": {},
     "output_type": "display_data"
    },
    {
     "name": "stderr",
     "output_type": "stream",
     "text": [
      "\u001b[34m\u001b[1mwandb\u001b[0m: Agent Starting Run: t61ow6ay with config:\n",
      "\u001b[34m\u001b[1mwandb\u001b[0m: \tactivation: sigmoid\n",
      "\u001b[34m\u001b[1mwandb\u001b[0m: \tbatch_size: 64\n",
      "\u001b[34m\u001b[1mwandb\u001b[0m: \tinitializer: xavier\n",
      "\u001b[34m\u001b[1mwandb\u001b[0m: \tlearning_rate: 0.001\n",
      "\u001b[34m\u001b[1mwandb\u001b[0m: \tmax_epochs: 10\n",
      "\u001b[34m\u001b[1mwandb\u001b[0m: \tnum_hidden_neurons: 64\n",
      "\u001b[34m\u001b[1mwandb\u001b[0m: \tnum_layers: 5\n",
      "\u001b[34m\u001b[1mwandb\u001b[0m: \toptimizer: momentum\n",
      "\u001b[34m\u001b[1mwandb\u001b[0m: \tweight_decay: 0\n"
     ]
    },
    {
     "data": {
      "text/html": [
       "Tracking run with wandb version 0.16.3"
      ],
      "text/plain": [
       "<IPython.core.display.HTML object>"
      ]
     },
     "metadata": {},
     "output_type": "display_data"
    },
    {
     "data": {
      "text/html": [
       "Run data is saved locally in <code>/content/wandb/run-20240229_233859-t61ow6ay</code>"
      ],
      "text/plain": [
       "<IPython.core.display.HTML object>"
      ]
     },
     "metadata": {},
     "output_type": "display_data"
    },
    {
     "data": {
      "text/html": [
       "Syncing run <strong><a href='https://wandb.ai/brianmwigo/DeepLearningHomework1/runs/t61ow6ay' target=\"_blank\">rich-sweep-36</a></strong> to <a href='https://wandb.ai/brianmwigo/DeepLearningHomework1' target=\"_blank\">Weights & Biases</a> (<a href='https://wandb.me/run' target=\"_blank\">docs</a>)<br/>Sweep page: <a href='https://wandb.ai/brianmwigo/DeepLearningHomework1/sweeps/esqa44ap' target=\"_blank\">https://wandb.ai/brianmwigo/DeepLearningHomework1/sweeps/esqa44ap</a>"
      ],
      "text/plain": [
       "<IPython.core.display.HTML object>"
      ]
     },
     "metadata": {},
     "output_type": "display_data"
    },
    {
     "data": {
      "text/html": [
       " View project at <a href='https://wandb.ai/brianmwigo/DeepLearningHomework1' target=\"_blank\">https://wandb.ai/brianmwigo/DeepLearningHomework1</a>"
      ],
      "text/plain": [
       "<IPython.core.display.HTML object>"
      ]
     },
     "metadata": {},
     "output_type": "display_data"
    },
    {
     "data": {
      "text/html": [
       " View sweep at <a href='https://wandb.ai/brianmwigo/DeepLearningHomework1/sweeps/esqa44ap' target=\"_blank\">https://wandb.ai/brianmwigo/DeepLearningHomework1/sweeps/esqa44ap</a>"
      ],
      "text/plain": [
       "<IPython.core.display.HTML object>"
      ]
     },
     "metadata": {},
     "output_type": "display_data"
    },
    {
     "data": {
      "text/html": [
       " View run at <a href='https://wandb.ai/brianmwigo/DeepLearningHomework1/runs/t61ow6ay' target=\"_blank\">https://wandb.ai/brianmwigo/DeepLearningHomework1/runs/t61ow6ay</a>"
      ],
      "text/plain": [
       "<IPython.core.display.HTML object>"
      ]
     },
     "metadata": {},
     "output_type": "display_data"
    },
    {
     "name": "stdout",
     "output_type": "stream",
     "text": [
      "epoch: 0, loss: 1.206e-01, accuracy_train: 0.73, accuracy_val: 0.72, learning rate: 1.000e-03\n",
      "epoch: 1, loss: 6.498e-02, accuracy_train: 0.80, accuracy_val: 0.79, learning rate: 1.000e-03\n",
      "epoch: 2, loss: 5.556e-02, accuracy_train: 0.82, accuracy_val: 0.81, learning rate: 1.000e-03\n",
      "epoch: 3, loss: 5.106e-02, accuracy_train: 0.83, accuracy_val: 0.81, learning rate: 1.000e-03\n",
      "epoch: 4, loss: 4.833e-02, accuracy_train: 0.84, accuracy_val: 0.82, learning rate: 1.000e-03\n",
      "epoch: 5, loss: 4.643e-02, accuracy_train: 0.85, accuracy_val: 0.83, learning rate: 1.000e-03\n",
      "epoch: 6, loss: 4.491e-02, accuracy_train: 0.85, accuracy_val: 0.84, learning rate: 1.000e-03\n",
      "epoch: 7, loss: 4.363e-02, accuracy_train: 0.85, accuracy_val: 0.84, learning rate: 1.000e-03\n",
      "epoch: 8, loss: 4.255e-02, accuracy_train: 0.86, accuracy_val: 0.85, learning rate: 1.000e-03\n",
      "epoch: 9, loss: 4.162e-02, accuracy_train: 0.86, accuracy_val: 0.85, learning rate: 1.000e-03\n"
     ]
    },
    {
     "data": {
      "application/vnd.jupyter.widget-view+json": {
       "model_id": "6dd5a8d1bbec4ad68ba76ef01376a710",
       "version_major": 2,
       "version_minor": 0
      },
      "text/plain": [
       "VBox(children=(Label(value='0.001 MB of 0.001 MB uploaded\\r'), FloatProgress(value=1.0, max=1.0)))"
      ]
     },
     "metadata": {},
     "output_type": "display_data"
    },
    {
     "data": {
      "text/html": [
       "<style>\n",
       "    table.wandb td:nth-child(1) { padding: 0 10px; text-align: left ; width: auto;} td:nth-child(2) {text-align: left ; width: 100%}\n",
       "    .wandb-row { display: flex; flex-direction: row; flex-wrap: wrap; justify-content: flex-start; width: 100% }\n",
       "    .wandb-col { display: flex; flex-direction: column; flex-basis: 100%; flex: 1; padding: 10px; }\n",
       "    </style>\n",
       "<div class=\"wandb-row\"><div class=\"wandb-col\"><h3>Run history:</h3><br/><table class=\"wandb\"><tr><td>epoch</td><td>▁▂▃▃▄▅▆▆▇█</td></tr><tr><td>loss</td><td>█▅▄▃▂▂▂▁▁▁</td></tr><tr><td>trainingaccuracy</td><td>▁▅▆▆▇▇▇███</td></tr><tr><td>validationaccuracy</td><td>▁▅▆▆▇▇▇▇██</td></tr></table><br/></div><div class=\"wandb-col\"><h3>Run summary:</h3><br/><table class=\"wandb\"><tr><td>epoch</td><td>9</td></tr><tr><td>loss</td><td>0.05596</td></tr><tr><td>trainingaccuracy</td><td>0.86107</td></tr><tr><td>validationaccuracy</td><td>0.852</td></tr></table><br/></div></div>"
      ],
      "text/plain": [
       "<IPython.core.display.HTML object>"
      ]
     },
     "metadata": {},
     "output_type": "display_data"
    },
    {
     "data": {
      "text/html": [
       " View run <strong style=\"color:#cdcd00\">rich-sweep-36</strong> at: <a href='https://wandb.ai/brianmwigo/DeepLearningHomework1/runs/t61ow6ay' target=\"_blank\">https://wandb.ai/brianmwigo/DeepLearningHomework1/runs/t61ow6ay</a><br/>Synced 5 W&B file(s), 0 media file(s), 0 artifact file(s) and 0 other file(s)"
      ],
      "text/plain": [
       "<IPython.core.display.HTML object>"
      ]
     },
     "metadata": {},
     "output_type": "display_data"
    },
    {
     "data": {
      "text/html": [
       "Find logs at: <code>./wandb/run-20240229_233859-t61ow6ay/logs</code>"
      ],
      "text/plain": [
       "<IPython.core.display.HTML object>"
      ]
     },
     "metadata": {},
     "output_type": "display_data"
    },
    {
     "name": "stderr",
     "output_type": "stream",
     "text": [
      "\u001b[34m\u001b[1mwandb\u001b[0m: Sweep Agent: Waiting for job.\n",
      "\u001b[34m\u001b[1mwandb\u001b[0m: Job received.\n",
      "\u001b[34m\u001b[1mwandb\u001b[0m: Agent Starting Run: waqvf8uj with config:\n",
      "\u001b[34m\u001b[1mwandb\u001b[0m: \tactivation: sigmoid\n",
      "\u001b[34m\u001b[1mwandb\u001b[0m: \tbatch_size: 16\n",
      "\u001b[34m\u001b[1mwandb\u001b[0m: \tinitializer: xavier\n",
      "\u001b[34m\u001b[1mwandb\u001b[0m: \tlearning_rate: 0.001\n",
      "\u001b[34m\u001b[1mwandb\u001b[0m: \tmax_epochs: 10\n",
      "\u001b[34m\u001b[1mwandb\u001b[0m: \tnum_hidden_neurons: 128\n",
      "\u001b[34m\u001b[1mwandb\u001b[0m: \tnum_layers: 3\n",
      "\u001b[34m\u001b[1mwandb\u001b[0m: \toptimizer: nesterov\n",
      "\u001b[34m\u001b[1mwandb\u001b[0m: \tweight_decay: 0\n"
     ]
    },
    {
     "data": {
      "text/html": [
       "Tracking run with wandb version 0.16.3"
      ],
      "text/plain": [
       "<IPython.core.display.HTML object>"
      ]
     },
     "metadata": {},
     "output_type": "display_data"
    },
    {
     "data": {
      "text/html": [
       "Run data is saved locally in <code>/content/wandb/run-20240229_234757-waqvf8uj</code>"
      ],
      "text/plain": [
       "<IPython.core.display.HTML object>"
      ]
     },
     "metadata": {},
     "output_type": "display_data"
    },
    {
     "data": {
      "text/html": [
       "Syncing run <strong><a href='https://wandb.ai/brianmwigo/DeepLearningHomework1/runs/waqvf8uj' target=\"_blank\">whole-sweep-37</a></strong> to <a href='https://wandb.ai/brianmwigo/DeepLearningHomework1' target=\"_blank\">Weights & Biases</a> (<a href='https://wandb.me/run' target=\"_blank\">docs</a>)<br/>Sweep page: <a href='https://wandb.ai/brianmwigo/DeepLearningHomework1/sweeps/esqa44ap' target=\"_blank\">https://wandb.ai/brianmwigo/DeepLearningHomework1/sweeps/esqa44ap</a>"
      ],
      "text/plain": [
       "<IPython.core.display.HTML object>"
      ]
     },
     "metadata": {},
     "output_type": "display_data"
    },
    {
     "data": {
      "text/html": [
       " View project at <a href='https://wandb.ai/brianmwigo/DeepLearningHomework1' target=\"_blank\">https://wandb.ai/brianmwigo/DeepLearningHomework1</a>"
      ],
      "text/plain": [
       "<IPython.core.display.HTML object>"
      ]
     },
     "metadata": {},
     "output_type": "display_data"
    },
    {
     "data": {
      "text/html": [
       " View sweep at <a href='https://wandb.ai/brianmwigo/DeepLearningHomework1/sweeps/esqa44ap' target=\"_blank\">https://wandb.ai/brianmwigo/DeepLearningHomework1/sweeps/esqa44ap</a>"
      ],
      "text/plain": [
       "<IPython.core.display.HTML object>"
      ]
     },
     "metadata": {},
     "output_type": "display_data"
    },
    {
     "data": {
      "text/html": [
       " View run at <a href='https://wandb.ai/brianmwigo/DeepLearningHomework1/runs/waqvf8uj' target=\"_blank\">https://wandb.ai/brianmwigo/DeepLearningHomework1/runs/waqvf8uj</a>"
      ],
      "text/plain": [
       "<IPython.core.display.HTML object>"
      ]
     },
     "metadata": {},
     "output_type": "display_data"
    },
    {
     "name": "stdout",
     "output_type": "stream",
     "text": [
      "epoch: 0, loss: 7.508e-02, accuracy_train: 0.79, accuracy_val: 0.78, learning rate: 1.000e-03\n",
      "epoch: 1, loss: 4.778e-02, accuracy_train: 0.81, accuracy_val: 0.80, learning rate: 1.000e-03\n",
      "epoch: 2, loss: 4.347e-02, accuracy_train: 0.82, accuracy_val: 0.81, learning rate: 1.000e-03\n",
      "epoch: 3, loss: 4.075e-02, accuracy_train: 0.83, accuracy_val: 0.82, learning rate: 1.000e-03\n",
      "epoch: 4, loss: 3.875e-02, accuracy_train: 0.84, accuracy_val: 0.83, learning rate: 1.000e-03\n",
      "epoch: 5, loss: 3.716e-02, accuracy_train: 0.85, accuracy_val: 0.84, learning rate: 1.000e-03\n",
      "epoch: 6, loss: 3.582e-02, accuracy_train: 0.85, accuracy_val: 0.84, learning rate: 1.000e-03\n",
      "epoch: 7, loss: 3.470e-02, accuracy_train: 0.86, accuracy_val: 0.85, learning rate: 1.000e-03\n",
      "epoch: 8, loss: 3.372e-02, accuracy_train: 0.87, accuracy_val: 0.85, learning rate: 1.000e-03\n",
      "epoch: 9, loss: 3.289e-02, accuracy_train: 0.87, accuracy_val: 0.86, learning rate: 1.000e-03\n"
     ]
    },
    {
     "data": {
      "application/vnd.jupyter.widget-view+json": {
       "model_id": "018790b6b75446c59e20cd85d269f93d",
       "version_major": 2,
       "version_minor": 0
      },
      "text/plain": [
       "VBox(children=(Label(value='0.001 MB of 0.001 MB uploaded\\r'), FloatProgress(value=1.0, max=1.0)))"
      ]
     },
     "metadata": {},
     "output_type": "display_data"
    },
    {
     "data": {
      "text/html": [
       "<style>\n",
       "    table.wandb td:nth-child(1) { padding: 0 10px; text-align: left ; width: auto;} td:nth-child(2) {text-align: left ; width: 100%}\n",
       "    .wandb-row { display: flex; flex-direction: row; flex-wrap: wrap; justify-content: flex-start; width: 100% }\n",
       "    .wandb-col { display: flex; flex-direction: column; flex-basis: 100%; flex: 1; padding: 10px; }\n",
       "    </style>\n",
       "<div class=\"wandb-row\"><div class=\"wandb-col\"><h3>Run history:</h3><br/><table class=\"wandb\"><tr><td>epoch</td><td>▁▂▃▃▄▅▆▆▇█</td></tr><tr><td>loss</td><td>█▅▄▃▃▂▂▁▁▁</td></tr><tr><td>trainingaccuracy</td><td>▁▃▄▅▅▆▆▇██</td></tr><tr><td>validationaccuracy</td><td>▁▂▄▅▅▆▇▇██</td></tr></table><br/></div><div class=\"wandb-col\"><h3>Run summary:</h3><br/><table class=\"wandb\"><tr><td>epoch</td><td>9</td></tr><tr><td>loss</td><td>0.04201</td></tr><tr><td>trainingaccuracy</td><td>0.87196</td></tr><tr><td>validationaccuracy</td><td>0.8585</td></tr></table><br/></div></div>"
      ],
      "text/plain": [
       "<IPython.core.display.HTML object>"
      ]
     },
     "metadata": {},
     "output_type": "display_data"
    },
    {
     "data": {
      "text/html": [
       " View run <strong style=\"color:#cdcd00\">whole-sweep-37</strong> at: <a href='https://wandb.ai/brianmwigo/DeepLearningHomework1/runs/waqvf8uj' target=\"_blank\">https://wandb.ai/brianmwigo/DeepLearningHomework1/runs/waqvf8uj</a><br/>Synced 5 W&B file(s), 0 media file(s), 0 artifact file(s) and 0 other file(s)"
      ],
      "text/plain": [
       "<IPython.core.display.HTML object>"
      ]
     },
     "metadata": {},
     "output_type": "display_data"
    },
    {
     "data": {
      "text/html": [
       "Find logs at: <code>./wandb/run-20240229_234757-waqvf8uj/logs</code>"
      ],
      "text/plain": [
       "<IPython.core.display.HTML object>"
      ]
     },
     "metadata": {},
     "output_type": "display_data"
    },
    {
     "name": "stderr",
     "output_type": "stream",
     "text": [
      "\u001b[34m\u001b[1mwandb\u001b[0m: Agent Starting Run: ycb03nvv with config:\n",
      "\u001b[34m\u001b[1mwandb\u001b[0m: \tactivation: sigmoid\n",
      "\u001b[34m\u001b[1mwandb\u001b[0m: \tbatch_size: 32\n",
      "\u001b[34m\u001b[1mwandb\u001b[0m: \tinitializer: xavier\n",
      "\u001b[34m\u001b[1mwandb\u001b[0m: \tlearning_rate: 0.001\n",
      "\u001b[34m\u001b[1mwandb\u001b[0m: \tmax_epochs: 10\n",
      "\u001b[34m\u001b[1mwandb\u001b[0m: \tnum_hidden_neurons: 32\n",
      "\u001b[34m\u001b[1mwandb\u001b[0m: \tnum_layers: 3\n",
      "\u001b[34m\u001b[1mwandb\u001b[0m: \toptimizer: nesterov\n",
      "\u001b[34m\u001b[1mwandb\u001b[0m: \tweight_decay: 0.5\n"
     ]
    },
    {
     "data": {
      "text/html": [
       "Tracking run with wandb version 0.16.3"
      ],
      "text/plain": [
       "<IPython.core.display.HTML object>"
      ]
     },
     "metadata": {},
     "output_type": "display_data"
    },
    {
     "data": {
      "text/html": [
       "Run data is saved locally in <code>/content/wandb/run-20240229_235745-ycb03nvv</code>"
      ],
      "text/plain": [
       "<IPython.core.display.HTML object>"
      ]
     },
     "metadata": {},
     "output_type": "display_data"
    },
    {
     "data": {
      "text/html": [
       "Syncing run <strong><a href='https://wandb.ai/brianmwigo/DeepLearningHomework1/runs/ycb03nvv' target=\"_blank\">magic-sweep-2</a></strong> to <a href='https://wandb.ai/brianmwigo/DeepLearningHomework1' target=\"_blank\">Weights & Biases</a> (<a href='https://wandb.me/run' target=\"_blank\">docs</a>)<br/>Sweep page: <a href='https://wandb.ai/brianmwigo/DeepLearningHomework1/sweeps/esqa44ap' target=\"_blank\">https://wandb.ai/brianmwigo/DeepLearningHomework1/sweeps/esqa44ap</a>"
      ],
      "text/plain": [
       "<IPython.core.display.HTML object>"
      ]
     },
     "metadata": {},
     "output_type": "display_data"
    },
    {
     "data": {
      "text/html": [
       " View project at <a href='https://wandb.ai/brianmwigo/DeepLearningHomework1' target=\"_blank\">https://wandb.ai/brianmwigo/DeepLearningHomework1</a>"
      ],
      "text/plain": [
       "<IPython.core.display.HTML object>"
      ]
     },
     "metadata": {},
     "output_type": "display_data"
    },
    {
     "data": {
      "text/html": [
       " View sweep at <a href='https://wandb.ai/brianmwigo/DeepLearningHomework1/sweeps/esqa44ap' target=\"_blank\">https://wandb.ai/brianmwigo/DeepLearningHomework1/sweeps/esqa44ap</a>"
      ],
      "text/plain": [
       "<IPython.core.display.HTML object>"
      ]
     },
     "metadata": {},
     "output_type": "display_data"
    },
    {
     "data": {
      "text/html": [
       " View run at <a href='https://wandb.ai/brianmwigo/DeepLearningHomework1/runs/ycb03nvv' target=\"_blank\">https://wandb.ai/brianmwigo/DeepLearningHomework1/runs/ycb03nvv</a>"
      ],
      "text/plain": [
       "<IPython.core.display.HTML object>"
      ]
     },
     "metadata": {},
     "output_type": "display_data"
    },
    {
     "name": "stdout",
     "output_type": "stream",
     "text": [
      "epoch: 0, loss: 8.714e-02, accuracy_train: 0.78, accuracy_val: 0.77, learning rate: 1.000e-03\n",
      "epoch: 1, loss: 5.232e-02, accuracy_train: 0.82, accuracy_val: 0.81, learning rate: 1.000e-03\n",
      "epoch: 2, loss: 4.683e-02, accuracy_train: 0.83, accuracy_val: 0.82, learning rate: 1.000e-03\n",
      "epoch: 3, loss: 4.403e-02, accuracy_train: 0.84, accuracy_val: 0.83, learning rate: 1.000e-03\n",
      "epoch: 4, loss: 4.201e-02, accuracy_train: 0.85, accuracy_val: 0.84, learning rate: 1.000e-03\n",
      "epoch: 5, loss: 4.053e-02, accuracy_train: 0.85, accuracy_val: 0.84, learning rate: 1.000e-03\n",
      "epoch: 6, loss: 3.923e-02, accuracy_train: 0.86, accuracy_val: 0.85, learning rate: 1.000e-03\n",
      "epoch: 7, loss: 3.817e-02, accuracy_train: 0.86, accuracy_val: 0.85, learning rate: 1.000e-03\n",
      "epoch: 8, loss: 3.720e-02, accuracy_train: 0.87, accuracy_val: 0.85, learning rate: 1.000e-03\n",
      "epoch: 9, loss: 3.638e-02, accuracy_train: 0.87, accuracy_val: 0.85, learning rate: 1.000e-03\n"
     ]
    },
    {
     "data": {
      "application/vnd.jupyter.widget-view+json": {
       "model_id": "1b016b8091b64ec4bc05161c97343914",
       "version_major": 2,
       "version_minor": 0
      },
      "text/plain": [
       "VBox(children=(Label(value='0.001 MB of 0.011 MB uploaded\\r'), FloatProgress(value=0.09565759031856202, max=1.…"
      ]
     },
     "metadata": {},
     "output_type": "display_data"
    },
    {
     "data": {
      "text/html": [
       "<style>\n",
       "    table.wandb td:nth-child(1) { padding: 0 10px; text-align: left ; width: auto;} td:nth-child(2) {text-align: left ; width: 100%}\n",
       "    .wandb-row { display: flex; flex-direction: row; flex-wrap: wrap; justify-content: flex-start; width: 100% }\n",
       "    .wandb-col { display: flex; flex-direction: column; flex-basis: 100%; flex: 1; padding: 10px; }\n",
       "    </style>\n",
       "<div class=\"wandb-row\"><div class=\"wandb-col\"><h3>Run history:</h3><br/><table class=\"wandb\"><tr><td>epoch</td><td>▁▂▃▃▄▅▆▆▇█</td></tr><tr><td>loss</td><td>█▅▄▃▂▂▂▁▁▁</td></tr><tr><td>trainingaccuracy</td><td>▁▄▅▆▇▇▇███</td></tr><tr><td>validationaccuracy</td><td>▁▄▅▆▇▇████</td></tr></table><br/></div><div class=\"wandb-col\"><h3>Run summary:</h3><br/><table class=\"wandb\"><tr><td>epoch</td><td>9</td></tr><tr><td>loss</td><td>0.04638</td></tr><tr><td>trainingaccuracy</td><td>0.86815</td></tr><tr><td>validationaccuracy</td><td>0.8545</td></tr></table><br/></div></div>"
      ],
      "text/plain": [
       "<IPython.core.display.HTML object>"
      ]
     },
     "metadata": {},
     "output_type": "display_data"
    },
    {
     "data": {
      "text/html": [
       " View run <strong style=\"color:#cdcd00\">magic-sweep-2</strong> at: <a href='https://wandb.ai/brianmwigo/DeepLearningHomework1/runs/ycb03nvv' target=\"_blank\">https://wandb.ai/brianmwigo/DeepLearningHomework1/runs/ycb03nvv</a><br/>Synced 5 W&B file(s), 0 media file(s), 0 artifact file(s) and 0 other file(s)"
      ],
      "text/plain": [
       "<IPython.core.display.HTML object>"
      ]
     },
     "metadata": {},
     "output_type": "display_data"
    },
    {
     "data": {
      "text/html": [
       "Find logs at: <code>./wandb/run-20240229_235745-ycb03nvv/logs</code>"
      ],
      "text/plain": [
       "<IPython.core.display.HTML object>"
      ]
     },
     "metadata": {},
     "output_type": "display_data"
    },
    {
     "name": "stderr",
     "output_type": "stream",
     "text": [
      "\u001b[34m\u001b[1mwandb\u001b[0m: Agent Starting Run: exs7jo1i with config:\n",
      "\u001b[34m\u001b[1mwandb\u001b[0m: \tactivation: sigmoid\n",
      "\u001b[34m\u001b[1mwandb\u001b[0m: \tbatch_size: 16\n",
      "\u001b[34m\u001b[1mwandb\u001b[0m: \tinitializer: xavier\n",
      "\u001b[34m\u001b[1mwandb\u001b[0m: \tlearning_rate: 0.001\n",
      "\u001b[34m\u001b[1mwandb\u001b[0m: \tmax_epochs: 10\n",
      "\u001b[34m\u001b[1mwandb\u001b[0m: \tnum_hidden_neurons: 64\n",
      "\u001b[34m\u001b[1mwandb\u001b[0m: \tnum_layers: 3\n",
      "\u001b[34m\u001b[1mwandb\u001b[0m: \toptimizer: momentum\n",
      "\u001b[34m\u001b[1mwandb\u001b[0m: \tweight_decay: 0\n"
     ]
    },
    {
     "data": {
      "text/html": [
       "Tracking run with wandb version 0.16.3"
      ],
      "text/plain": [
       "<IPython.core.display.HTML object>"
      ]
     },
     "metadata": {},
     "output_type": "display_data"
    },
    {
     "data": {
      "text/html": [
       "Run data is saved locally in <code>/content/wandb/run-20240301_000719-exs7jo1i</code>"
      ],
      "text/plain": [
       "<IPython.core.display.HTML object>"
      ]
     },
     "metadata": {},
     "output_type": "display_data"
    },
    {
     "data": {
      "text/html": [
       "Syncing run <strong><a href='https://wandb.ai/brianmwigo/DeepLearningHomework1/runs/exs7jo1i' target=\"_blank\">drawn-sweep-3</a></strong> to <a href='https://wandb.ai/brianmwigo/DeepLearningHomework1' target=\"_blank\">Weights & Biases</a> (<a href='https://wandb.me/run' target=\"_blank\">docs</a>)<br/>Sweep page: <a href='https://wandb.ai/brianmwigo/DeepLearningHomework1/sweeps/esqa44ap' target=\"_blank\">https://wandb.ai/brianmwigo/DeepLearningHomework1/sweeps/esqa44ap</a>"
      ],
      "text/plain": [
       "<IPython.core.display.HTML object>"
      ]
     },
     "metadata": {},
     "output_type": "display_data"
    },
    {
     "data": {
      "text/html": [
       " View project at <a href='https://wandb.ai/brianmwigo/DeepLearningHomework1' target=\"_blank\">https://wandb.ai/brianmwigo/DeepLearningHomework1</a>"
      ],
      "text/plain": [
       "<IPython.core.display.HTML object>"
      ]
     },
     "metadata": {},
     "output_type": "display_data"
    },
    {
     "data": {
      "text/html": [
       " View sweep at <a href='https://wandb.ai/brianmwigo/DeepLearningHomework1/sweeps/esqa44ap' target=\"_blank\">https://wandb.ai/brianmwigo/DeepLearningHomework1/sweeps/esqa44ap</a>"
      ],
      "text/plain": [
       "<IPython.core.display.HTML object>"
      ]
     },
     "metadata": {},
     "output_type": "display_data"
    },
    {
     "data": {
      "text/html": [
       " View run at <a href='https://wandb.ai/brianmwigo/DeepLearningHomework1/runs/exs7jo1i' target=\"_blank\">https://wandb.ai/brianmwigo/DeepLearningHomework1/runs/exs7jo1i</a>"
      ],
      "text/plain": [
       "<IPython.core.display.HTML object>"
      ]
     },
     "metadata": {},
     "output_type": "display_data"
    },
    {
     "name": "stdout",
     "output_type": "stream",
     "text": [
      "epoch: 0, loss: 7.186e-02, accuracy_train: 0.78, accuracy_val: 0.77, learning rate: 1.000e-03\n",
      "epoch: 1, loss: 4.867e-02, accuracy_train: 0.80, accuracy_val: 0.79, learning rate: 1.000e-03\n",
      "epoch: 2, loss: 4.393e-02, accuracy_train: 0.83, accuracy_val: 0.82, learning rate: 1.000e-03\n",
      "epoch: 3, loss: 4.100e-02, accuracy_train: 0.84, accuracy_val: 0.83, learning rate: 1.000e-03\n",
      "epoch: 4, loss: 3.904e-02, accuracy_train: 0.85, accuracy_val: 0.84, learning rate: 1.000e-03\n",
      "epoch: 5, loss: 3.757e-02, accuracy_train: 0.85, accuracy_val: 0.84, learning rate: 1.000e-03\n",
      "epoch: 6, loss: 3.634e-02, accuracy_train: 0.86, accuracy_val: 0.85, learning rate: 1.000e-03\n",
      "epoch: 7, loss: 3.537e-02, accuracy_train: 0.86, accuracy_val: 0.85, learning rate: 1.000e-03\n",
      "epoch: 8, loss: 3.453e-02, accuracy_train: 0.86, accuracy_val: 0.85, learning rate: 1.000e-03\n",
      "epoch: 9, loss: 3.378e-02, accuracy_train: 0.87, accuracy_val: 0.85, learning rate: 1.000e-03\n"
     ]
    },
    {
     "data": {
      "application/vnd.jupyter.widget-view+json": {
       "model_id": "1436aac68f004bf8ace7c1e9dff23e36",
       "version_major": 2,
       "version_minor": 0
      },
      "text/plain": [
       "VBox(children=(Label(value='0.001 MB of 0.001 MB uploaded\\r'), FloatProgress(value=1.0, max=1.0)))"
      ]
     },
     "metadata": {},
     "output_type": "display_data"
    },
    {
     "data": {
      "text/html": [
       "<style>\n",
       "    table.wandb td:nth-child(1) { padding: 0 10px; text-align: left ; width: auto;} td:nth-child(2) {text-align: left ; width: 100%}\n",
       "    .wandb-row { display: flex; flex-direction: row; flex-wrap: wrap; justify-content: flex-start; width: 100% }\n",
       "    .wandb-col { display: flex; flex-direction: column; flex-basis: 100%; flex: 1; padding: 10px; }\n",
       "    </style>\n",
       "<div class=\"wandb-row\"><div class=\"wandb-col\"><h3>Run history:</h3><br/><table class=\"wandb\"><tr><td>epoch</td><td>▁▂▃▃▄▅▆▆▇█</td></tr><tr><td>loss</td><td>█▅▄▃▃▂▂▁▁▁</td></tr><tr><td>trainingaccuracy</td><td>▁▃▅▆▇▇████</td></tr><tr><td>validationaccuracy</td><td>▁▃▅▆▇▇████</td></tr></table><br/></div><div class=\"wandb-col\"><h3>Run summary:</h3><br/><table class=\"wandb\"><tr><td>epoch</td><td>9</td></tr><tr><td>loss</td><td>0.04221</td></tr><tr><td>trainingaccuracy</td><td>0.86611</td></tr><tr><td>validationaccuracy</td><td>0.85417</td></tr></table><br/></div></div>"
      ],
      "text/plain": [
       "<IPython.core.display.HTML object>"
      ]
     },
     "metadata": {},
     "output_type": "display_data"
    },
    {
     "data": {
      "text/html": [
       " View run <strong style=\"color:#cdcd00\">drawn-sweep-3</strong> at: <a href='https://wandb.ai/brianmwigo/DeepLearningHomework1/runs/exs7jo1i' target=\"_blank\">https://wandb.ai/brianmwigo/DeepLearningHomework1/runs/exs7jo1i</a><br/>Synced 5 W&B file(s), 0 media file(s), 0 artifact file(s) and 0 other file(s)"
      ],
      "text/plain": [
       "<IPython.core.display.HTML object>"
      ]
     },
     "metadata": {},
     "output_type": "display_data"
    },
    {
     "data": {
      "text/html": [
       "Find logs at: <code>./wandb/run-20240301_000719-exs7jo1i/logs</code>"
      ],
      "text/plain": [
       "<IPython.core.display.HTML object>"
      ]
     },
     "metadata": {},
     "output_type": "display_data"
    },
    {
     "name": "stderr",
     "output_type": "stream",
     "text": [
      "\u001b[34m\u001b[1mwandb\u001b[0m: Agent Starting Run: 3vj546ux with config:\n",
      "\u001b[34m\u001b[1mwandb\u001b[0m: \tactivation: sigmoid\n",
      "\u001b[34m\u001b[1mwandb\u001b[0m: \tbatch_size: 16\n",
      "\u001b[34m\u001b[1mwandb\u001b[0m: \tinitializer: xavier\n",
      "\u001b[34m\u001b[1mwandb\u001b[0m: \tlearning_rate: 0.001\n",
      "\u001b[34m\u001b[1mwandb\u001b[0m: \tmax_epochs: 10\n",
      "\u001b[34m\u001b[1mwandb\u001b[0m: \tnum_hidden_neurons: 32\n",
      "\u001b[34m\u001b[1mwandb\u001b[0m: \tnum_layers: 3\n",
      "\u001b[34m\u001b[1mwandb\u001b[0m: \toptimizer: nesterov\n",
      "\u001b[34m\u001b[1mwandb\u001b[0m: \tweight_decay: 0.5\n"
     ]
    },
    {
     "data": {
      "text/html": [
       "Tracking run with wandb version 0.16.3"
      ],
      "text/plain": [
       "<IPython.core.display.HTML object>"
      ]
     },
     "metadata": {},
     "output_type": "display_data"
    },
    {
     "data": {
      "text/html": [
       "Run data is saved locally in <code>/content/wandb/run-20240301_001619-3vj546ux</code>"
      ],
      "text/plain": [
       "<IPython.core.display.HTML object>"
      ]
     },
     "metadata": {},
     "output_type": "display_data"
    },
    {
     "data": {
      "text/html": [
       "Syncing run <strong><a href='https://wandb.ai/brianmwigo/DeepLearningHomework1/runs/3vj546ux' target=\"_blank\">sweet-sweep-4</a></strong> to <a href='https://wandb.ai/brianmwigo/DeepLearningHomework1' target=\"_blank\">Weights & Biases</a> (<a href='https://wandb.me/run' target=\"_blank\">docs</a>)<br/>Sweep page: <a href='https://wandb.ai/brianmwigo/DeepLearningHomework1/sweeps/esqa44ap' target=\"_blank\">https://wandb.ai/brianmwigo/DeepLearningHomework1/sweeps/esqa44ap</a>"
      ],
      "text/plain": [
       "<IPython.core.display.HTML object>"
      ]
     },
     "metadata": {},
     "output_type": "display_data"
    },
    {
     "data": {
      "text/html": [
       " View project at <a href='https://wandb.ai/brianmwigo/DeepLearningHomework1' target=\"_blank\">https://wandb.ai/brianmwigo/DeepLearningHomework1</a>"
      ],
      "text/plain": [
       "<IPython.core.display.HTML object>"
      ]
     },
     "metadata": {},
     "output_type": "display_data"
    },
    {
     "data": {
      "text/html": [
       " View sweep at <a href='https://wandb.ai/brianmwigo/DeepLearningHomework1/sweeps/esqa44ap' target=\"_blank\">https://wandb.ai/brianmwigo/DeepLearningHomework1/sweeps/esqa44ap</a>"
      ],
      "text/plain": [
       "<IPython.core.display.HTML object>"
      ]
     },
     "metadata": {},
     "output_type": "display_data"
    },
    {
     "data": {
      "text/html": [
       " View run at <a href='https://wandb.ai/brianmwigo/DeepLearningHomework1/runs/3vj546ux' target=\"_blank\">https://wandb.ai/brianmwigo/DeepLearningHomework1/runs/3vj546ux</a>"
      ],
      "text/plain": [
       "<IPython.core.display.HTML object>"
      ]
     },
     "metadata": {},
     "output_type": "display_data"
    },
    {
     "name": "stdout",
     "output_type": "stream",
     "text": [
      "epoch: 0, loss: 7.671e-02, accuracy_train: 0.80, accuracy_val: 0.78, learning rate: 1.000e-03\n",
      "epoch: 1, loss: 4.707e-02, accuracy_train: 0.81, accuracy_val: 0.81, learning rate: 1.000e-03\n",
      "epoch: 2, loss: 4.244e-02, accuracy_train: 0.83, accuracy_val: 0.82, learning rate: 1.000e-03\n",
      "epoch: 3, loss: 3.975e-02, accuracy_train: 0.85, accuracy_val: 0.83, learning rate: 1.000e-03\n",
      "epoch: 4, loss: 3.789e-02, accuracy_train: 0.85, accuracy_val: 0.84, learning rate: 1.000e-03\n",
      "epoch: 5, loss: 3.645e-02, accuracy_train: 0.86, accuracy_val: 0.85, learning rate: 1.000e-03\n",
      "epoch: 6, loss: 3.535e-02, accuracy_train: 0.86, accuracy_val: 0.85, learning rate: 1.000e-03\n",
      "epoch: 7, loss: 3.429e-02, accuracy_train: 0.87, accuracy_val: 0.85, learning rate: 1.000e-03\n",
      "epoch: 8, loss: 3.345e-02, accuracy_train: 0.87, accuracy_val: 0.86, learning rate: 1.000e-03\n",
      "epoch: 9, loss: 3.268e-02, accuracy_train: 0.87, accuracy_val: 0.86, learning rate: 1.000e-03\n"
     ]
    },
    {
     "data": {
      "application/vnd.jupyter.widget-view+json": {
       "model_id": "75ca4db67b9749578a57be0caf00571b",
       "version_major": 2,
       "version_minor": 0
      },
      "text/plain": [
       "VBox(children=(Label(value='0.001 MB of 0.001 MB uploaded\\r'), FloatProgress(value=1.0, max=1.0)))"
      ]
     },
     "metadata": {},
     "output_type": "display_data"
    },
    {
     "data": {
      "text/html": [
       "<style>\n",
       "    table.wandb td:nth-child(1) { padding: 0 10px; text-align: left ; width: auto;} td:nth-child(2) {text-align: left ; width: 100%}\n",
       "    .wandb-row { display: flex; flex-direction: row; flex-wrap: wrap; justify-content: flex-start; width: 100% }\n",
       "    .wandb-col { display: flex; flex-direction: column; flex-basis: 100%; flex: 1; padding: 10px; }\n",
       "    </style>\n",
       "<div class=\"wandb-row\"><div class=\"wandb-col\"><h3>Run history:</h3><br/><table class=\"wandb\"><tr><td>epoch</td><td>▁▂▃▃▄▅▆▆▇█</td></tr><tr><td>loss</td><td>█▅▄▃▂▂▂▁▁▁</td></tr><tr><td>trainingaccuracy</td><td>▁▃▄▆▆▇▇▇██</td></tr><tr><td>validationaccuracy</td><td>▁▃▅▆▆▇▇▇██</td></tr></table><br/></div><div class=\"wandb-col\"><h3>Run summary:</h3><br/><table class=\"wandb\"><tr><td>epoch</td><td>9</td></tr><tr><td>loss</td><td>0.04161</td></tr><tr><td>trainingaccuracy</td><td>0.87393</td></tr><tr><td>validationaccuracy</td><td>0.86033</td></tr></table><br/></div></div>"
      ],
      "text/plain": [
       "<IPython.core.display.HTML object>"
      ]
     },
     "metadata": {},
     "output_type": "display_data"
    },
    {
     "data": {
      "text/html": [
       " View run <strong style=\"color:#cdcd00\">sweet-sweep-4</strong> at: <a href='https://wandb.ai/brianmwigo/DeepLearningHomework1/runs/3vj546ux' target=\"_blank\">https://wandb.ai/brianmwigo/DeepLearningHomework1/runs/3vj546ux</a><br/>Synced 5 W&B file(s), 0 media file(s), 0 artifact file(s) and 0 other file(s)"
      ],
      "text/plain": [
       "<IPython.core.display.HTML object>"
      ]
     },
     "metadata": {},
     "output_type": "display_data"
    },
    {
     "data": {
      "text/html": [
       "Find logs at: <code>./wandb/run-20240301_001619-3vj546ux/logs</code>"
      ],
      "text/plain": [
       "<IPython.core.display.HTML object>"
      ]
     },
     "metadata": {},
     "output_type": "display_data"
    },
    {
     "name": "stderr",
     "output_type": "stream",
     "text": [
      "\u001b[34m\u001b[1mwandb\u001b[0m: Agent Starting Run: iawu3uhv with config:\n",
      "\u001b[34m\u001b[1mwandb\u001b[0m: \tactivation: sigmoid\n",
      "\u001b[34m\u001b[1mwandb\u001b[0m: \tbatch_size: 16\n",
      "\u001b[34m\u001b[1mwandb\u001b[0m: \tinitializer: xavier\n",
      "\u001b[34m\u001b[1mwandb\u001b[0m: \tlearning_rate: 0.001\n",
      "\u001b[34m\u001b[1mwandb\u001b[0m: \tmax_epochs: 10\n",
      "\u001b[34m\u001b[1mwandb\u001b[0m: \tnum_hidden_neurons: 64\n",
      "\u001b[34m\u001b[1mwandb\u001b[0m: \tnum_layers: 3\n",
      "\u001b[34m\u001b[1mwandb\u001b[0m: \toptimizer: nesterov\n",
      "\u001b[34m\u001b[1mwandb\u001b[0m: \tweight_decay: 0\n"
     ]
    },
    {
     "data": {
      "text/html": [
       "Tracking run with wandb version 0.16.3"
      ],
      "text/plain": [
       "<IPython.core.display.HTML object>"
      ]
     },
     "metadata": {},
     "output_type": "display_data"
    },
    {
     "data": {
      "text/html": [
       "Run data is saved locally in <code>/content/wandb/run-20240301_002600-iawu3uhv</code>"
      ],
      "text/plain": [
       "<IPython.core.display.HTML object>"
      ]
     },
     "metadata": {},
     "output_type": "display_data"
    },
    {
     "data": {
      "text/html": [
       "Syncing run <strong><a href='https://wandb.ai/brianmwigo/DeepLearningHomework1/runs/iawu3uhv' target=\"_blank\">glorious-sweep-5</a></strong> to <a href='https://wandb.ai/brianmwigo/DeepLearningHomework1' target=\"_blank\">Weights & Biases</a> (<a href='https://wandb.me/run' target=\"_blank\">docs</a>)<br/>Sweep page: <a href='https://wandb.ai/brianmwigo/DeepLearningHomework1/sweeps/esqa44ap' target=\"_blank\">https://wandb.ai/brianmwigo/DeepLearningHomework1/sweeps/esqa44ap</a>"
      ],
      "text/plain": [
       "<IPython.core.display.HTML object>"
      ]
     },
     "metadata": {},
     "output_type": "display_data"
    },
    {
     "data": {
      "text/html": [
       " View project at <a href='https://wandb.ai/brianmwigo/DeepLearningHomework1' target=\"_blank\">https://wandb.ai/brianmwigo/DeepLearningHomework1</a>"
      ],
      "text/plain": [
       "<IPython.core.display.HTML object>"
      ]
     },
     "metadata": {},
     "output_type": "display_data"
    },
    {
     "data": {
      "text/html": [
       " View sweep at <a href='https://wandb.ai/brianmwigo/DeepLearningHomework1/sweeps/esqa44ap' target=\"_blank\">https://wandb.ai/brianmwigo/DeepLearningHomework1/sweeps/esqa44ap</a>"
      ],
      "text/plain": [
       "<IPython.core.display.HTML object>"
      ]
     },
     "metadata": {},
     "output_type": "display_data"
    },
    {
     "data": {
      "text/html": [
       " View run at <a href='https://wandb.ai/brianmwigo/DeepLearningHomework1/runs/iawu3uhv' target=\"_blank\">https://wandb.ai/brianmwigo/DeepLearningHomework1/runs/iawu3uhv</a>"
      ],
      "text/plain": [
       "<IPython.core.display.HTML object>"
      ]
     },
     "metadata": {},
     "output_type": "display_data"
    },
    {
     "name": "stdout",
     "output_type": "stream",
     "text": [
      "epoch: 0, loss: 7.651e-02, accuracy_train: 0.79, accuracy_val: 0.79, learning rate: 1.000e-03\n",
      "epoch: 1, loss: 4.761e-02, accuracy_train: 0.81, accuracy_val: 0.81, learning rate: 1.000e-03\n",
      "epoch: 2, loss: 4.292e-02, accuracy_train: 0.83, accuracy_val: 0.82, learning rate: 1.000e-03\n",
      "epoch: 3, loss: 4.014e-02, accuracy_train: 0.85, accuracy_val: 0.84, learning rate: 1.000e-03\n",
      "epoch: 4, loss: 3.819e-02, accuracy_train: 0.86, accuracy_val: 0.85, learning rate: 1.000e-03\n",
      "epoch: 5, loss: 3.675e-02, accuracy_train: 0.86, accuracy_val: 0.85, learning rate: 1.000e-03\n",
      "epoch: 6, loss: 3.557e-02, accuracy_train: 0.87, accuracy_val: 0.86, learning rate: 1.000e-03\n",
      "epoch: 7, loss: 3.461e-02, accuracy_train: 0.87, accuracy_val: 0.86, learning rate: 1.000e-03\n",
      "epoch: 8, loss: 3.377e-02, accuracy_train: 0.87, accuracy_val: 0.86, learning rate: 1.000e-03\n",
      "epoch: 9, loss: 3.306e-02, accuracy_train: 0.88, accuracy_val: 0.86, learning rate: 1.000e-03\n"
     ]
    },
    {
     "data": {
      "application/vnd.jupyter.widget-view+json": {
       "model_id": "e0f5676f227d44e29b4ce3ff4d0887f9",
       "version_major": 2,
       "version_minor": 0
      },
      "text/plain": [
       "VBox(children=(Label(value='0.001 MB of 0.001 MB uploaded\\r'), FloatProgress(value=1.0, max=1.0)))"
      ]
     },
     "metadata": {},
     "output_type": "display_data"
    },
    {
     "data": {
      "text/html": [
       "<style>\n",
       "    table.wandb td:nth-child(1) { padding: 0 10px; text-align: left ; width: auto;} td:nth-child(2) {text-align: left ; width: 100%}\n",
       "    .wandb-row { display: flex; flex-direction: row; flex-wrap: wrap; justify-content: flex-start; width: 100% }\n",
       "    .wandb-col { display: flex; flex-direction: column; flex-basis: 100%; flex: 1; padding: 10px; }\n",
       "    </style>\n",
       "<div class=\"wandb-row\"><div class=\"wandb-col\"><h3>Run history:</h3><br/><table class=\"wandb\"><tr><td>epoch</td><td>▁▂▃▃▄▅▆▆▇█</td></tr><tr><td>loss</td><td>█▅▄▃▂▂▂▁▁▁</td></tr><tr><td>trainingaccuracy</td><td>▁▃▄▆▆▇▇███</td></tr><tr><td>validationaccuracy</td><td>▁▃▄▆▆▇▇▇██</td></tr></table><br/></div><div class=\"wandb-col\"><h3>Run summary:</h3><br/><table class=\"wandb\"><tr><td>epoch</td><td>9</td></tr><tr><td>loss</td><td>0.04191</td></tr><tr><td>trainingaccuracy</td><td>0.87643</td></tr><tr><td>validationaccuracy</td><td>0.86317</td></tr></table><br/></div></div>"
      ],
      "text/plain": [
       "<IPython.core.display.HTML object>"
      ]
     },
     "metadata": {},
     "output_type": "display_data"
    },
    {
     "data": {
      "text/html": [
       " View run <strong style=\"color:#cdcd00\">glorious-sweep-5</strong> at: <a href='https://wandb.ai/brianmwigo/DeepLearningHomework1/runs/iawu3uhv' target=\"_blank\">https://wandb.ai/brianmwigo/DeepLearningHomework1/runs/iawu3uhv</a><br/>Synced 5 W&B file(s), 0 media file(s), 0 artifact file(s) and 0 other file(s)"
      ],
      "text/plain": [
       "<IPython.core.display.HTML object>"
      ]
     },
     "metadata": {},
     "output_type": "display_data"
    },
    {
     "data": {
      "text/html": [
       "Find logs at: <code>./wandb/run-20240301_002600-iawu3uhv/logs</code>"
      ],
      "text/plain": [
       "<IPython.core.display.HTML object>"
      ]
     },
     "metadata": {},
     "output_type": "display_data"
    },
    {
     "name": "stderr",
     "output_type": "stream",
     "text": [
      "\u001b[34m\u001b[1mwandb\u001b[0m: Agent Starting Run: syug10m3 with config:\n",
      "\u001b[34m\u001b[1mwandb\u001b[0m: \tactivation: tanh\n",
      "\u001b[34m\u001b[1mwandb\u001b[0m: \tbatch_size: 64\n",
      "\u001b[34m\u001b[1mwandb\u001b[0m: \tinitializer: xavier\n",
      "\u001b[34m\u001b[1mwandb\u001b[0m: \tlearning_rate: 0.001\n",
      "\u001b[34m\u001b[1mwandb\u001b[0m: \tmax_epochs: 10\n",
      "\u001b[34m\u001b[1mwandb\u001b[0m: \tnum_hidden_neurons: 32\n",
      "\u001b[34m\u001b[1mwandb\u001b[0m: \tnum_layers: 5\n",
      "\u001b[34m\u001b[1mwandb\u001b[0m: \toptimizer: nesterov\n",
      "\u001b[34m\u001b[1mwandb\u001b[0m: \tweight_decay: 0\n"
     ]
    },
    {
     "data": {
      "text/html": [
       "Tracking run with wandb version 0.16.3"
      ],
      "text/plain": [
       "<IPython.core.display.HTML object>"
      ]
     },
     "metadata": {},
     "output_type": "display_data"
    },
    {
     "data": {
      "text/html": [
       "Run data is saved locally in <code>/content/wandb/run-20240301_003547-syug10m3</code>"
      ],
      "text/plain": [
       "<IPython.core.display.HTML object>"
      ]
     },
     "metadata": {},
     "output_type": "display_data"
    },
    {
     "data": {
      "text/html": [
       "Syncing run <strong><a href='https://wandb.ai/brianmwigo/DeepLearningHomework1/runs/syug10m3' target=\"_blank\">radiant-sweep-6</a></strong> to <a href='https://wandb.ai/brianmwigo/DeepLearningHomework1' target=\"_blank\">Weights & Biases</a> (<a href='https://wandb.me/run' target=\"_blank\">docs</a>)<br/>Sweep page: <a href='https://wandb.ai/brianmwigo/DeepLearningHomework1/sweeps/esqa44ap' target=\"_blank\">https://wandb.ai/brianmwigo/DeepLearningHomework1/sweeps/esqa44ap</a>"
      ],
      "text/plain": [
       "<IPython.core.display.HTML object>"
      ]
     },
     "metadata": {},
     "output_type": "display_data"
    },
    {
     "data": {
      "text/html": [
       " View project at <a href='https://wandb.ai/brianmwigo/DeepLearningHomework1' target=\"_blank\">https://wandb.ai/brianmwigo/DeepLearningHomework1</a>"
      ],
      "text/plain": [
       "<IPython.core.display.HTML object>"
      ]
     },
     "metadata": {},
     "output_type": "display_data"
    },
    {
     "data": {
      "text/html": [
       " View sweep at <a href='https://wandb.ai/brianmwigo/DeepLearningHomework1/sweeps/esqa44ap' target=\"_blank\">https://wandb.ai/brianmwigo/DeepLearningHomework1/sweeps/esqa44ap</a>"
      ],
      "text/plain": [
       "<IPython.core.display.HTML object>"
      ]
     },
     "metadata": {},
     "output_type": "display_data"
    },
    {
     "data": {
      "text/html": [
       " View run at <a href='https://wandb.ai/brianmwigo/DeepLearningHomework1/runs/syug10m3' target=\"_blank\">https://wandb.ai/brianmwigo/DeepLearningHomework1/runs/syug10m3</a>"
      ],
      "text/plain": [
       "<IPython.core.display.HTML object>"
      ]
     },
     "metadata": {},
     "output_type": "display_data"
    },
    {
     "name": "stdout",
     "output_type": "stream",
     "text": [
      "epoch: 0, loss: 1.134e-01, accuracy_train: 0.72, accuracy_val: 0.71, learning rate: 1.000e-03\n",
      "epoch: 1, loss: 6.532e-02, accuracy_train: 0.80, accuracy_val: 0.79, learning rate: 1.000e-03\n",
      "epoch: 2, loss: 5.538e-02, accuracy_train: 0.82, accuracy_val: 0.81, learning rate: 1.000e-03\n",
      "epoch: 3, loss: 5.079e-02, accuracy_train: 0.83, accuracy_val: 0.82, learning rate: 1.000e-03\n",
      "epoch: 4, loss: 4.819e-02, accuracy_train: 0.84, accuracy_val: 0.83, learning rate: 1.000e-03\n",
      "epoch: 5, loss: 4.641e-02, accuracy_train: 0.84, accuracy_val: 0.83, learning rate: 1.000e-03\n",
      "epoch: 6, loss: 4.502e-02, accuracy_train: 0.85, accuracy_val: 0.83, learning rate: 1.000e-03\n",
      "epoch: 7, loss: 4.386e-02, accuracy_train: 0.85, accuracy_val: 0.83, learning rate: 1.000e-03\n",
      "epoch: 8, loss: 4.281e-02, accuracy_train: 0.86, accuracy_val: 0.84, learning rate: 1.000e-03\n",
      "epoch: 9, loss: 4.184e-02, accuracy_train: 0.86, accuracy_val: 0.84, learning rate: 1.000e-03\n"
     ]
    },
    {
     "data": {
      "application/vnd.jupyter.widget-view+json": {
       "model_id": "8764a82017104dae99496ff52c14af48",
       "version_major": 2,
       "version_minor": 0
      },
      "text/plain": [
       "VBox(children=(Label(value='0.001 MB of 0.001 MB uploaded\\r'), FloatProgress(value=1.0, max=1.0)))"
      ]
     },
     "metadata": {},
     "output_type": "display_data"
    },
    {
     "data": {
      "text/html": [
       "<style>\n",
       "    table.wandb td:nth-child(1) { padding: 0 10px; text-align: left ; width: auto;} td:nth-child(2) {text-align: left ; width: 100%}\n",
       "    .wandb-row { display: flex; flex-direction: row; flex-wrap: wrap; justify-content: flex-start; width: 100% }\n",
       "    .wandb-col { display: flex; flex-direction: column; flex-basis: 100%; flex: 1; padding: 10px; }\n",
       "    </style>\n",
       "<div class=\"wandb-row\"><div class=\"wandb-col\"><h3>Run history:</h3><br/><table class=\"wandb\"><tr><td>epoch</td><td>▁▂▃▃▄▅▆▆▇█</td></tr><tr><td>loss</td><td>█▅▄▃▂▂▂▁▁▁</td></tr><tr><td>trainingaccuracy</td><td>▁▅▆▇▇▇▇███</td></tr><tr><td>validationaccuracy</td><td>▁▅▆▇▇▇▇▇██</td></tr></table><br/></div><div class=\"wandb-col\"><h3>Run summary:</h3><br/><table class=\"wandb\"><tr><td>epoch</td><td>9</td></tr><tr><td>loss</td><td>0.05531</td></tr><tr><td>trainingaccuracy</td><td>0.85811</td></tr><tr><td>validationaccuracy</td><td>0.845</td></tr></table><br/></div></div>"
      ],
      "text/plain": [
       "<IPython.core.display.HTML object>"
      ]
     },
     "metadata": {},
     "output_type": "display_data"
    },
    {
     "data": {
      "text/html": [
       " View run <strong style=\"color:#cdcd00\">radiant-sweep-6</strong> at: <a href='https://wandb.ai/brianmwigo/DeepLearningHomework1/runs/syug10m3' target=\"_blank\">https://wandb.ai/brianmwigo/DeepLearningHomework1/runs/syug10m3</a><br/>Synced 5 W&B file(s), 0 media file(s), 0 artifact file(s) and 0 other file(s)"
      ],
      "text/plain": [
       "<IPython.core.display.HTML object>"
      ]
     },
     "metadata": {},
     "output_type": "display_data"
    },
    {
     "data": {
      "text/html": [
       "Find logs at: <code>./wandb/run-20240301_003547-syug10m3/logs</code>"
      ],
      "text/plain": [
       "<IPython.core.display.HTML object>"
      ]
     },
     "metadata": {},
     "output_type": "display_data"
    },
    {
     "name": "stderr",
     "output_type": "stream",
     "text": [
      "\u001b[34m\u001b[1mwandb\u001b[0m: Agent Starting Run: z0ft9iai with config:\n",
      "\u001b[34m\u001b[1mwandb\u001b[0m: \tactivation: sigmoid\n",
      "\u001b[34m\u001b[1mwandb\u001b[0m: \tbatch_size: 16\n",
      "\u001b[34m\u001b[1mwandb\u001b[0m: \tinitializer: xavier\n",
      "\u001b[34m\u001b[1mwandb\u001b[0m: \tlearning_rate: 0.001\n",
      "\u001b[34m\u001b[1mwandb\u001b[0m: \tmax_epochs: 10\n",
      "\u001b[34m\u001b[1mwandb\u001b[0m: \tnum_hidden_neurons: 128\n",
      "\u001b[34m\u001b[1mwandb\u001b[0m: \tnum_layers: 3\n",
      "\u001b[34m\u001b[1mwandb\u001b[0m: \toptimizer: nesterov\n",
      "\u001b[34m\u001b[1mwandb\u001b[0m: \tweight_decay: 0.5\n"
     ]
    },
    {
     "data": {
      "text/html": [
       "Tracking run with wandb version 0.16.3"
      ],
      "text/plain": [
       "<IPython.core.display.HTML object>"
      ]
     },
     "metadata": {},
     "output_type": "display_data"
    },
    {
     "data": {
      "text/html": [
       "Run data is saved locally in <code>/content/wandb/run-20240301_004520-z0ft9iai</code>"
      ],
      "text/plain": [
       "<IPython.core.display.HTML object>"
      ]
     },
     "metadata": {},
     "output_type": "display_data"
    },
    {
     "data": {
      "text/html": [
       "Syncing run <strong><a href='https://wandb.ai/brianmwigo/DeepLearningHomework1/runs/z0ft9iai' target=\"_blank\">smart-sweep-7</a></strong> to <a href='https://wandb.ai/brianmwigo/DeepLearningHomework1' target=\"_blank\">Weights & Biases</a> (<a href='https://wandb.me/run' target=\"_blank\">docs</a>)<br/>Sweep page: <a href='https://wandb.ai/brianmwigo/DeepLearningHomework1/sweeps/esqa44ap' target=\"_blank\">https://wandb.ai/brianmwigo/DeepLearningHomework1/sweeps/esqa44ap</a>"
      ],
      "text/plain": [
       "<IPython.core.display.HTML object>"
      ]
     },
     "metadata": {},
     "output_type": "display_data"
    },
    {
     "data": {
      "text/html": [
       " View project at <a href='https://wandb.ai/brianmwigo/DeepLearningHomework1' target=\"_blank\">https://wandb.ai/brianmwigo/DeepLearningHomework1</a>"
      ],
      "text/plain": [
       "<IPython.core.display.HTML object>"
      ]
     },
     "metadata": {},
     "output_type": "display_data"
    },
    {
     "data": {
      "text/html": [
       " View sweep at <a href='https://wandb.ai/brianmwigo/DeepLearningHomework1/sweeps/esqa44ap' target=\"_blank\">https://wandb.ai/brianmwigo/DeepLearningHomework1/sweeps/esqa44ap</a>"
      ],
      "text/plain": [
       "<IPython.core.display.HTML object>"
      ]
     },
     "metadata": {},
     "output_type": "display_data"
    },
    {
     "data": {
      "text/html": [
       " View run at <a href='https://wandb.ai/brianmwigo/DeepLearningHomework1/runs/z0ft9iai' target=\"_blank\">https://wandb.ai/brianmwigo/DeepLearningHomework1/runs/z0ft9iai</a>"
      ],
      "text/plain": [
       "<IPython.core.display.HTML object>"
      ]
     },
     "metadata": {},
     "output_type": "display_data"
    },
    {
     "name": "stdout",
     "output_type": "stream",
     "text": [
      "epoch: 0, loss: 7.316e-02, accuracy_train: 0.80, accuracy_val: 0.79, learning rate: 1.000e-03\n",
      "epoch: 1, loss: 4.757e-02, accuracy_train: 0.82, accuracy_val: 0.81, learning rate: 1.000e-03\n",
      "epoch: 2, loss: 4.288e-02, accuracy_train: 0.83, accuracy_val: 0.83, learning rate: 1.000e-03\n",
      "epoch: 3, loss: 4.029e-02, accuracy_train: 0.85, accuracy_val: 0.84, learning rate: 1.000e-03\n",
      "epoch: 4, loss: 3.847e-02, accuracy_train: 0.85, accuracy_val: 0.84, learning rate: 1.000e-03\n",
      "epoch: 5, loss: 3.704e-02, accuracy_train: 0.86, accuracy_val: 0.85, learning rate: 1.000e-03\n",
      "epoch: 6, loss: 3.582e-02, accuracy_train: 0.87, accuracy_val: 0.86, learning rate: 1.000e-03\n",
      "epoch: 7, loss: 3.486e-02, accuracy_train: 0.87, accuracy_val: 0.86, learning rate: 1.000e-03\n",
      "epoch: 8, loss: 3.397e-02, accuracy_train: 0.87, accuracy_val: 0.87, learning rate: 1.000e-03\n",
      "epoch: 9, loss: 3.318e-02, accuracy_train: 0.88, accuracy_val: 0.87, learning rate: 1.000e-03\n"
     ]
    },
    {
     "data": {
      "application/vnd.jupyter.widget-view+json": {
       "model_id": "845a790608ba495d86e50bfdb637e3a2",
       "version_major": 2,
       "version_minor": 0
      },
      "text/plain": [
       "VBox(children=(Label(value='0.012 MB of 0.012 MB uploaded\\r'), FloatProgress(value=1.0, max=1.0)))"
      ]
     },
     "metadata": {},
     "output_type": "display_data"
    },
    {
     "data": {
      "text/html": [
       "<style>\n",
       "    table.wandb td:nth-child(1) { padding: 0 10px; text-align: left ; width: auto;} td:nth-child(2) {text-align: left ; width: 100%}\n",
       "    .wandb-row { display: flex; flex-direction: row; flex-wrap: wrap; justify-content: flex-start; width: 100% }\n",
       "    .wandb-col { display: flex; flex-direction: column; flex-basis: 100%; flex: 1; padding: 10px; }\n",
       "    </style>\n",
       "<div class=\"wandb-row\"><div class=\"wandb-col\"><h3>Run history:</h3><br/><table class=\"wandb\"><tr><td>epoch</td><td>▁▂▃▃▄▅▆▆▇█</td></tr><tr><td>loss</td><td>█▅▄▃▃▂▂▁▁▁</td></tr><tr><td>trainingaccuracy</td><td>▁▃▄▅▆▇▇▇██</td></tr><tr><td>validationaccuracy</td><td>▁▃▄▅▆▇▇▇██</td></tr></table><br/></div><div class=\"wandb-col\"><h3>Run summary:</h3><br/><table class=\"wandb\"><tr><td>epoch</td><td>9</td></tr><tr><td>loss</td><td>0.04172</td></tr><tr><td>trainingaccuracy</td><td>0.87637</td></tr><tr><td>validationaccuracy</td><td>0.86633</td></tr></table><br/></div></div>"
      ],
      "text/plain": [
       "<IPython.core.display.HTML object>"
      ]
     },
     "metadata": {},
     "output_type": "display_data"
    },
    {
     "data": {
      "text/html": [
       " View run <strong style=\"color:#cdcd00\">smart-sweep-7</strong> at: <a href='https://wandb.ai/brianmwigo/DeepLearningHomework1/runs/z0ft9iai' target=\"_blank\">https://wandb.ai/brianmwigo/DeepLearningHomework1/runs/z0ft9iai</a><br/>Synced 5 W&B file(s), 0 media file(s), 0 artifact file(s) and 0 other file(s)"
      ],
      "text/plain": [
       "<IPython.core.display.HTML object>"
      ]
     },
     "metadata": {},
     "output_type": "display_data"
    },
    {
     "data": {
      "text/html": [
       "Find logs at: <code>./wandb/run-20240301_004520-z0ft9iai/logs</code>"
      ],
      "text/plain": [
       "<IPython.core.display.HTML object>"
      ]
     },
     "metadata": {},
     "output_type": "display_data"
    },
    {
     "name": "stderr",
     "output_type": "stream",
     "text": [
      "\u001b[34m\u001b[1mwandb\u001b[0m: Agent Starting Run: n0kar6n5 with config:\n",
      "\u001b[34m\u001b[1mwandb\u001b[0m: \tactivation: relu\n",
      "\u001b[34m\u001b[1mwandb\u001b[0m: \tbatch_size: 32\n",
      "\u001b[34m\u001b[1mwandb\u001b[0m: \tinitializer: xavier\n",
      "\u001b[34m\u001b[1mwandb\u001b[0m: \tlearning_rate: 0.001\n",
      "\u001b[34m\u001b[1mwandb\u001b[0m: \tmax_epochs: 10\n",
      "\u001b[34m\u001b[1mwandb\u001b[0m: \tnum_hidden_neurons: 64\n",
      "\u001b[34m\u001b[1mwandb\u001b[0m: \tnum_layers: 3\n",
      "\u001b[34m\u001b[1mwandb\u001b[0m: \toptimizer: momentum\n",
      "\u001b[34m\u001b[1mwandb\u001b[0m: \tweight_decay: 0.5\n"
     ]
    },
    {
     "data": {
      "text/html": [
       "Tracking run with wandb version 0.16.3"
      ],
      "text/plain": [
       "<IPython.core.display.HTML object>"
      ]
     },
     "metadata": {},
     "output_type": "display_data"
    },
    {
     "data": {
      "text/html": [
       "Run data is saved locally in <code>/content/wandb/run-20240301_005500-n0kar6n5</code>"
      ],
      "text/plain": [
       "<IPython.core.display.HTML object>"
      ]
     },
     "metadata": {},
     "output_type": "display_data"
    },
    {
     "data": {
      "text/html": [
       "Syncing run <strong><a href='https://wandb.ai/brianmwigo/DeepLearningHomework1/runs/n0kar6n5' target=\"_blank\">fluent-sweep-8</a></strong> to <a href='https://wandb.ai/brianmwigo/DeepLearningHomework1' target=\"_blank\">Weights & Biases</a> (<a href='https://wandb.me/run' target=\"_blank\">docs</a>)<br/>Sweep page: <a href='https://wandb.ai/brianmwigo/DeepLearningHomework1/sweeps/esqa44ap' target=\"_blank\">https://wandb.ai/brianmwigo/DeepLearningHomework1/sweeps/esqa44ap</a>"
      ],
      "text/plain": [
       "<IPython.core.display.HTML object>"
      ]
     },
     "metadata": {},
     "output_type": "display_data"
    },
    {
     "data": {
      "text/html": [
       " View project at <a href='https://wandb.ai/brianmwigo/DeepLearningHomework1' target=\"_blank\">https://wandb.ai/brianmwigo/DeepLearningHomework1</a>"
      ],
      "text/plain": [
       "<IPython.core.display.HTML object>"
      ]
     },
     "metadata": {},
     "output_type": "display_data"
    },
    {
     "data": {
      "text/html": [
       " View sweep at <a href='https://wandb.ai/brianmwigo/DeepLearningHomework1/sweeps/esqa44ap' target=\"_blank\">https://wandb.ai/brianmwigo/DeepLearningHomework1/sweeps/esqa44ap</a>"
      ],
      "text/plain": [
       "<IPython.core.display.HTML object>"
      ]
     },
     "metadata": {},
     "output_type": "display_data"
    },
    {
     "data": {
      "text/html": [
       " View run at <a href='https://wandb.ai/brianmwigo/DeepLearningHomework1/runs/n0kar6n5' target=\"_blank\">https://wandb.ai/brianmwigo/DeepLearningHomework1/runs/n0kar6n5</a>"
      ],
      "text/plain": [
       "<IPython.core.display.HTML object>"
      ]
     },
     "metadata": {},
     "output_type": "display_data"
    },
    {
     "name": "stdout",
     "output_type": "stream",
     "text": [
      "epoch: 0, loss: 9.351e-02, accuracy_train: 0.79, accuracy_val: 0.78, learning rate: 1.000e-03\n",
      "epoch: 1, loss: 5.366e-02, accuracy_train: 0.82, accuracy_val: 0.81, learning rate: 1.000e-03\n",
      "epoch: 2, loss: 4.757e-02, accuracy_train: 0.83, accuracy_val: 0.83, learning rate: 1.000e-03\n",
      "epoch: 3, loss: 4.456e-02, accuracy_train: 0.84, accuracy_val: 0.83, learning rate: 1.000e-03\n",
      "epoch: 4, loss: 4.255e-02, accuracy_train: 0.85, accuracy_val: 0.84, learning rate: 1.000e-03\n",
      "epoch: 5, loss: 4.094e-02, accuracy_train: 0.85, accuracy_val: 0.84, learning rate: 1.000e-03\n",
      "epoch: 6, loss: 3.966e-02, accuracy_train: 0.86, accuracy_val: 0.85, learning rate: 1.000e-03\n",
      "epoch: 7, loss: 3.849e-02, accuracy_train: 0.86, accuracy_val: 0.85, learning rate: 1.000e-03\n",
      "epoch: 8, loss: 3.754e-02, accuracy_train: 0.87, accuracy_val: 0.86, learning rate: 1.000e-03\n",
      "epoch: 9, loss: 3.672e-02, accuracy_train: 0.87, accuracy_val: 0.85, learning rate: 1.000e-03\n"
     ]
    },
    {
     "data": {
      "application/vnd.jupyter.widget-view+json": {
       "model_id": "420f1a7f96c24914b7c0e91c4f891df2",
       "version_major": 2,
       "version_minor": 0
      },
      "text/plain": [
       "VBox(children=(Label(value='0.001 MB of 0.011 MB uploaded\\r'), FloatProgress(value=0.09561114573132734, max=1.…"
      ]
     },
     "metadata": {},
     "output_type": "display_data"
    },
    {
     "data": {
      "text/html": [
       "<style>\n",
       "    table.wandb td:nth-child(1) { padding: 0 10px; text-align: left ; width: auto;} td:nth-child(2) {text-align: left ; width: 100%}\n",
       "    .wandb-row { display: flex; flex-direction: row; flex-wrap: wrap; justify-content: flex-start; width: 100% }\n",
       "    .wandb-col { display: flex; flex-direction: column; flex-basis: 100%; flex: 1; padding: 10px; }\n",
       "    </style>\n",
       "<div class=\"wandb-row\"><div class=\"wandb-col\"><h3>Run history:</h3><br/><table class=\"wandb\"><tr><td>epoch</td><td>▁▂▃▃▄▅▆▆▇█</td></tr><tr><td>loss</td><td>█▅▄▃▂▂▂▁▁▁</td></tr><tr><td>trainingaccuracy</td><td>▁▄▅▆▆▇▇███</td></tr><tr><td>validationaccuracy</td><td>▁▄▅▆▆▇▇▇██</td></tr></table><br/></div><div class=\"wandb-col\"><h3>Run summary:</h3><br/><table class=\"wandb\"><tr><td>epoch</td><td>9</td></tr><tr><td>loss</td><td>0.04752</td></tr><tr><td>trainingaccuracy</td><td>0.86735</td></tr><tr><td>validationaccuracy</td><td>0.853</td></tr></table><br/></div></div>"
      ],
      "text/plain": [
       "<IPython.core.display.HTML object>"
      ]
     },
     "metadata": {},
     "output_type": "display_data"
    },
    {
     "data": {
      "text/html": [
       " View run <strong style=\"color:#cdcd00\">fluent-sweep-8</strong> at: <a href='https://wandb.ai/brianmwigo/DeepLearningHomework1/runs/n0kar6n5' target=\"_blank\">https://wandb.ai/brianmwigo/DeepLearningHomework1/runs/n0kar6n5</a><br/>Synced 5 W&B file(s), 0 media file(s), 0 artifact file(s) and 0 other file(s)"
      ],
      "text/plain": [
       "<IPython.core.display.HTML object>"
      ]
     },
     "metadata": {},
     "output_type": "display_data"
    },
    {
     "data": {
      "text/html": [
       "Find logs at: <code>./wandb/run-20240301_005500-n0kar6n5/logs</code>"
      ],
      "text/plain": [
       "<IPython.core.display.HTML object>"
      ]
     },
     "metadata": {},
     "output_type": "display_data"
    },
    {
     "name": "stderr",
     "output_type": "stream",
     "text": [
      "\u001b[34m\u001b[1mwandb\u001b[0m: Agent Starting Run: bj7pz19u with config:\n",
      "\u001b[34m\u001b[1mwandb\u001b[0m: \tactivation: tanh\n",
      "\u001b[34m\u001b[1mwandb\u001b[0m: \tbatch_size: 64\n",
      "\u001b[34m\u001b[1mwandb\u001b[0m: \tinitializer: xavier\n",
      "\u001b[34m\u001b[1mwandb\u001b[0m: \tlearning_rate: 0.001\n",
      "\u001b[34m\u001b[1mwandb\u001b[0m: \tmax_epochs: 10\n",
      "\u001b[34m\u001b[1mwandb\u001b[0m: \tnum_hidden_neurons: 32\n",
      "\u001b[34m\u001b[1mwandb\u001b[0m: \tnum_layers: 3\n",
      "\u001b[34m\u001b[1mwandb\u001b[0m: \toptimizer: momentum\n",
      "\u001b[34m\u001b[1mwandb\u001b[0m: \tweight_decay: 0.5\n"
     ]
    },
    {
     "data": {
      "text/html": [
       "Tracking run with wandb version 0.16.3"
      ],
      "text/plain": [
       "<IPython.core.display.HTML object>"
      ]
     },
     "metadata": {},
     "output_type": "display_data"
    },
    {
     "data": {
      "text/html": [
       "Run data is saved locally in <code>/content/wandb/run-20240301_010345-bj7pz19u</code>"
      ],
      "text/plain": [
       "<IPython.core.display.HTML object>"
      ]
     },
     "metadata": {},
     "output_type": "display_data"
    },
    {
     "data": {
      "text/html": [
       "Syncing run <strong><a href='https://wandb.ai/brianmwigo/DeepLearningHomework1/runs/bj7pz19u' target=\"_blank\">true-sweep-9</a></strong> to <a href='https://wandb.ai/brianmwigo/DeepLearningHomework1' target=\"_blank\">Weights & Biases</a> (<a href='https://wandb.me/run' target=\"_blank\">docs</a>)<br/>Sweep page: <a href='https://wandb.ai/brianmwigo/DeepLearningHomework1/sweeps/esqa44ap' target=\"_blank\">https://wandb.ai/brianmwigo/DeepLearningHomework1/sweeps/esqa44ap</a>"
      ],
      "text/plain": [
       "<IPython.core.display.HTML object>"
      ]
     },
     "metadata": {},
     "output_type": "display_data"
    },
    {
     "data": {
      "text/html": [
       " View project at <a href='https://wandb.ai/brianmwigo/DeepLearningHomework1' target=\"_blank\">https://wandb.ai/brianmwigo/DeepLearningHomework1</a>"
      ],
      "text/plain": [
       "<IPython.core.display.HTML object>"
      ]
     },
     "metadata": {},
     "output_type": "display_data"
    },
    {
     "data": {
      "text/html": [
       " View sweep at <a href='https://wandb.ai/brianmwigo/DeepLearningHomework1/sweeps/esqa44ap' target=\"_blank\">https://wandb.ai/brianmwigo/DeepLearningHomework1/sweeps/esqa44ap</a>"
      ],
      "text/plain": [
       "<IPython.core.display.HTML object>"
      ]
     },
     "metadata": {},
     "output_type": "display_data"
    },
    {
     "data": {
      "text/html": [
       " View run at <a href='https://wandb.ai/brianmwigo/DeepLearningHomework1/runs/bj7pz19u' target=\"_blank\">https://wandb.ai/brianmwigo/DeepLearningHomework1/runs/bj7pz19u</a>"
      ],
      "text/plain": [
       "<IPython.core.display.HTML object>"
      ]
     },
     "metadata": {},
     "output_type": "display_data"
    },
    {
     "name": "stdout",
     "output_type": "stream",
     "text": [
      "epoch: 0, loss: 1.106e-01, accuracy_train: 0.74, accuracy_val: 0.74, learning rate: 1.000e-03\n",
      "epoch: 1, loss: 6.417e-02, accuracy_train: 0.80, accuracy_val: 0.80, learning rate: 1.000e-03\n",
      "epoch: 2, loss: 5.509e-02, accuracy_train: 0.82, accuracy_val: 0.82, learning rate: 1.000e-03\n",
      "epoch: 3, loss: 5.055e-02, accuracy_train: 0.83, accuracy_val: 0.83, learning rate: 1.000e-03\n",
      "epoch: 4, loss: 4.786e-02, accuracy_train: 0.84, accuracy_val: 0.83, learning rate: 1.000e-03\n",
      "epoch: 5, loss: 4.603e-02, accuracy_train: 0.85, accuracy_val: 0.84, learning rate: 1.000e-03\n",
      "epoch: 6, loss: 4.466e-02, accuracy_train: 0.85, accuracy_val: 0.84, learning rate: 1.000e-03\n",
      "epoch: 7, loss: 4.353e-02, accuracy_train: 0.85, accuracy_val: 0.85, learning rate: 1.000e-03\n",
      "epoch: 8, loss: 4.253e-02, accuracy_train: 0.86, accuracy_val: 0.85, learning rate: 1.000e-03\n",
      "epoch: 9, loss: 4.164e-02, accuracy_train: 0.86, accuracy_val: 0.85, learning rate: 1.000e-03\n"
     ]
    },
    {
     "data": {
      "application/vnd.jupyter.widget-view+json": {
       "model_id": "7d2adefc56d64a36b8f2c2d5cae13b23",
       "version_major": 2,
       "version_minor": 0
      },
      "text/plain": [
       "VBox(children=(Label(value='0.001 MB of 0.001 MB uploaded\\r'), FloatProgress(value=1.0, max=1.0)))"
      ]
     },
     "metadata": {},
     "output_type": "display_data"
    },
    {
     "data": {
      "text/html": [
       "<style>\n",
       "    table.wandb td:nth-child(1) { padding: 0 10px; text-align: left ; width: auto;} td:nth-child(2) {text-align: left ; width: 100%}\n",
       "    .wandb-row { display: flex; flex-direction: row; flex-wrap: wrap; justify-content: flex-start; width: 100% }\n",
       "    .wandb-col { display: flex; flex-direction: column; flex-basis: 100%; flex: 1; padding: 10px; }\n",
       "    </style>\n",
       "<div class=\"wandb-row\"><div class=\"wandb-col\"><h3>Run history:</h3><br/><table class=\"wandb\"><tr><td>epoch</td><td>▁▂▃▃▄▅▆▆▇█</td></tr><tr><td>loss</td><td>█▅▄▃▂▂▂▁▁▁</td></tr><tr><td>trainingaccuracy</td><td>▁▅▆▇▇▇▇███</td></tr><tr><td>validationaccuracy</td><td>▁▅▆▇▇▇████</td></tr></table><br/></div><div class=\"wandb-col\"><h3>Run summary:</h3><br/><table class=\"wandb\"><tr><td>epoch</td><td>9</td></tr><tr><td>loss</td><td>0.05466</td></tr><tr><td>trainingaccuracy</td><td>0.85846</td></tr><tr><td>validationaccuracy</td><td>0.8485</td></tr></table><br/></div></div>"
      ],
      "text/plain": [
       "<IPython.core.display.HTML object>"
      ]
     },
     "metadata": {},
     "output_type": "display_data"
    },
    {
     "data": {
      "text/html": [
       " View run <strong style=\"color:#cdcd00\">true-sweep-9</strong> at: <a href='https://wandb.ai/brianmwigo/DeepLearningHomework1/runs/bj7pz19u' target=\"_blank\">https://wandb.ai/brianmwigo/DeepLearningHomework1/runs/bj7pz19u</a><br/>Synced 5 W&B file(s), 0 media file(s), 0 artifact file(s) and 0 other file(s)"
      ],
      "text/plain": [
       "<IPython.core.display.HTML object>"
      ]
     },
     "metadata": {},
     "output_type": "display_data"
    },
    {
     "data": {
      "text/html": [
       "Find logs at: <code>./wandb/run-20240301_010345-bj7pz19u/logs</code>"
      ],
      "text/plain": [
       "<IPython.core.display.HTML object>"
      ]
     },
     "metadata": {},
     "output_type": "display_data"
    },
    {
     "name": "stderr",
     "output_type": "stream",
     "text": [
      "\u001b[34m\u001b[1mwandb\u001b[0m: Sweep Agent: Waiting for job.\n",
      "\u001b[34m\u001b[1mwandb\u001b[0m: Job received.\n",
      "\u001b[34m\u001b[1mwandb\u001b[0m: Agent Starting Run: ly9f4a1v with config:\n",
      "\u001b[34m\u001b[1mwandb\u001b[0m: \tactivation: sigmoid\n",
      "\u001b[34m\u001b[1mwandb\u001b[0m: \tbatch_size: 16\n",
      "\u001b[34m\u001b[1mwandb\u001b[0m: \tinitializer: xavier\n",
      "\u001b[34m\u001b[1mwandb\u001b[0m: \tlearning_rate: 0.001\n",
      "\u001b[34m\u001b[1mwandb\u001b[0m: \tmax_epochs: 10\n",
      "\u001b[34m\u001b[1mwandb\u001b[0m: \tnum_hidden_neurons: 64\n",
      "\u001b[34m\u001b[1mwandb\u001b[0m: \tnum_layers: 3\n",
      "\u001b[34m\u001b[1mwandb\u001b[0m: \toptimizer: nesterov\n",
      "\u001b[34m\u001b[1mwandb\u001b[0m: \tweight_decay: 0.0005\n"
     ]
    },
    {
     "data": {
      "text/html": [
       "Tracking run with wandb version 0.16.3"
      ],
      "text/plain": [
       "<IPython.core.display.HTML object>"
      ]
     },
     "metadata": {},
     "output_type": "display_data"
    },
    {
     "data": {
      "text/html": [
       "Run data is saved locally in <code>/content/wandb/run-20240301_011237-ly9f4a1v</code>"
      ],
      "text/plain": [
       "<IPython.core.display.HTML object>"
      ]
     },
     "metadata": {},
     "output_type": "display_data"
    },
    {
     "data": {
      "text/html": [
       "Syncing run <strong><a href='https://wandb.ai/brianmwigo/DeepLearningHomework1/runs/ly9f4a1v' target=\"_blank\">efficient-sweep-10</a></strong> to <a href='https://wandb.ai/brianmwigo/DeepLearningHomework1' target=\"_blank\">Weights & Biases</a> (<a href='https://wandb.me/run' target=\"_blank\">docs</a>)<br/>Sweep page: <a href='https://wandb.ai/brianmwigo/DeepLearningHomework1/sweeps/esqa44ap' target=\"_blank\">https://wandb.ai/brianmwigo/DeepLearningHomework1/sweeps/esqa44ap</a>"
      ],
      "text/plain": [
       "<IPython.core.display.HTML object>"
      ]
     },
     "metadata": {},
     "output_type": "display_data"
    },
    {
     "data": {
      "text/html": [
       " View project at <a href='https://wandb.ai/brianmwigo/DeepLearningHomework1' target=\"_blank\">https://wandb.ai/brianmwigo/DeepLearningHomework1</a>"
      ],
      "text/plain": [
       "<IPython.core.display.HTML object>"
      ]
     },
     "metadata": {},
     "output_type": "display_data"
    },
    {
     "data": {
      "text/html": [
       " View sweep at <a href='https://wandb.ai/brianmwigo/DeepLearningHomework1/sweeps/esqa44ap' target=\"_blank\">https://wandb.ai/brianmwigo/DeepLearningHomework1/sweeps/esqa44ap</a>"
      ],
      "text/plain": [
       "<IPython.core.display.HTML object>"
      ]
     },
     "metadata": {},
     "output_type": "display_data"
    },
    {
     "data": {
      "text/html": [
       " View run at <a href='https://wandb.ai/brianmwigo/DeepLearningHomework1/runs/ly9f4a1v' target=\"_blank\">https://wandb.ai/brianmwigo/DeepLearningHomework1/runs/ly9f4a1v</a>"
      ],
      "text/plain": [
       "<IPython.core.display.HTML object>"
      ]
     },
     "metadata": {},
     "output_type": "display_data"
    },
    {
     "name": "stdout",
     "output_type": "stream",
     "text": [
      "epoch: 0, loss: 7.553e-02, accuracy_train: 0.80, accuracy_val: 0.80, learning rate: 1.000e-03\n",
      "epoch: 1, loss: 4.760e-02, accuracy_train: 0.82, accuracy_val: 0.81, learning rate: 1.000e-03\n",
      "epoch: 2, loss: 4.277e-02, accuracy_train: 0.83, accuracy_val: 0.82, learning rate: 1.000e-03\n",
      "epoch: 3, loss: 4.022e-02, accuracy_train: 0.84, accuracy_val: 0.83, learning rate: 1.000e-03\n"
     ]
    }
   ],
   "source": [
    "wandb.agent(sweep_id, train, count = 100)"
   ]
  }
 ],
 "metadata": {
  "colab": {
   "provenance": []
  },
  "environment": {
   "kernel": "conda-env-pytorch-pytorch",
   "name": "workbench-notebooks.m118",
   "type": "gcloud",
   "uri": "us-docker.pkg.dev/deeplearning-platform-release/gcr.io/workbench-notebooks:m118"
  },
  "kernelspec": {
   "display_name": "PyTorch 1-13 (Local)",
   "language": "python",
   "name": "conda-env-pytorch-pytorch"
  },
  "language_info": {
   "codemirror_mode": {
    "name": "ipython",
    "version": 3
   },
   "file_extension": ".py",
   "mimetype": "text/x-python",
   "name": "python",
   "nbconvert_exporter": "python",
   "pygments_lexer": "ipython3",
   "version": "3.10.13"
  },
  "widgets": {
   "application/vnd.jupyter.widget-state+json": {
    "00395132580b4d94abd935093a7a3a91": {
     "model_module": "@jupyter-widgets/controls",
     "model_module_version": "1.5.0",
     "model_name": "LabelModel",
     "state": {
      "_dom_classes": [],
      "_model_module": "@jupyter-widgets/controls",
      "_model_module_version": "1.5.0",
      "_model_name": "LabelModel",
      "_view_count": null,
      "_view_module": "@jupyter-widgets/controls",
      "_view_module_version": "1.5.0",
      "_view_name": "LabelView",
      "description": "",
      "description_tooltip": null,
      "layout": "IPY_MODEL_07029f2250074ee59725d3b2bcd5907f",
      "placeholder": "​",
      "style": "IPY_MODEL_6b59feac8af148b5bdfcea27b57a4a6b",
      "value": "0.012 MB of 0.012 MB uploaded\r"
     }
    },
    "009e74d38c6343c79f372230442f98a9": {
     "model_module": "@jupyter-widgets/controls",
     "model_module_version": "1.5.0",
     "model_name": "DescriptionStyleModel",
     "state": {
      "_model_module": "@jupyter-widgets/controls",
      "_model_module_version": "1.5.0",
      "_model_name": "DescriptionStyleModel",
      "_view_count": null,
      "_view_module": "@jupyter-widgets/base",
      "_view_module_version": "1.2.0",
      "_view_name": "StyleView",
      "description_width": ""
     }
    },
    "0146406750cc4bfa9d4a051a44b22d21": {
     "model_module": "@jupyter-widgets/base",
     "model_module_version": "1.2.0",
     "model_name": "LayoutModel",
     "state": {
      "_model_module": "@jupyter-widgets/base",
      "_model_module_version": "1.2.0",
      "_model_name": "LayoutModel",
      "_view_count": null,
      "_view_module": "@jupyter-widgets/base",
      "_view_module_version": "1.2.0",
      "_view_name": "LayoutView",
      "align_content": null,
      "align_items": null,
      "align_self": null,
      "border": null,
      "bottom": null,
      "display": null,
      "flex": null,
      "flex_flow": null,
      "grid_area": null,
      "grid_auto_columns": null,
      "grid_auto_flow": null,
      "grid_auto_rows": null,
      "grid_column": null,
      "grid_gap": null,
      "grid_row": null,
      "grid_template_areas": null,
      "grid_template_columns": null,
      "grid_template_rows": null,
      "height": null,
      "justify_content": null,
      "justify_items": null,
      "left": null,
      "margin": null,
      "max_height": null,
      "max_width": null,
      "min_height": null,
      "min_width": null,
      "object_fit": null,
      "object_position": null,
      "order": null,
      "overflow": null,
      "overflow_x": null,
      "overflow_y": null,
      "padding": null,
      "right": null,
      "top": null,
      "visibility": null,
      "width": null
     }
    },
    "0162abf8b659438699f962a9e600b5ce": {
     "model_module": "@jupyter-widgets/controls",
     "model_module_version": "1.5.0",
     "model_name": "LabelModel",
     "state": {
      "_dom_classes": [],
      "_model_module": "@jupyter-widgets/controls",
      "_model_module_version": "1.5.0",
      "_model_name": "LabelModel",
      "_view_count": null,
      "_view_module": "@jupyter-widgets/controls",
      "_view_module_version": "1.5.0",
      "_view_name": "LabelView",
      "description": "",
      "description_tooltip": null,
      "layout": "IPY_MODEL_544dbfcfed9545f4801a36c9309bfc28",
      "placeholder": "​",
      "style": "IPY_MODEL_5b89bf9b0d774f0a814daca525346b5a",
      "value": "0.012 MB of 0.012 MB uploaded\r"
     }
    },
    "018790b6b75446c59e20cd85d269f93d": {
     "model_module": "@jupyter-widgets/controls",
     "model_module_version": "1.5.0",
     "model_name": "VBoxModel",
     "state": {
      "_dom_classes": [],
      "_model_module": "@jupyter-widgets/controls",
      "_model_module_version": "1.5.0",
      "_model_name": "VBoxModel",
      "_view_count": null,
      "_view_module": "@jupyter-widgets/controls",
      "_view_module_version": "1.5.0",
      "_view_name": "VBoxView",
      "box_style": "",
      "children": [
       "IPY_MODEL_9757270b87724373a76ca75bdeecd243",
       "IPY_MODEL_5f72fa62532e45f7952fab0b1eaf7025"
      ],
      "layout": "IPY_MODEL_073a5f774ddf4c64b22848b696783901"
     }
    },
    "0199dfb7024841cf8ba420d281d2fa44": {
     "model_module": "@jupyter-widgets/controls",
     "model_module_version": "1.5.0",
     "model_name": "VBoxModel",
     "state": {
      "_dom_classes": [],
      "_model_module": "@jupyter-widgets/controls",
      "_model_module_version": "1.5.0",
      "_model_name": "VBoxModel",
      "_view_count": null,
      "_view_module": "@jupyter-widgets/controls",
      "_view_module_version": "1.5.0",
      "_view_name": "VBoxView",
      "box_style": "",
      "children": [
       "IPY_MODEL_1e6d342f1f3b463298b12947e17e4a61",
       "IPY_MODEL_516b24fa5a9049df9904a67a5c4ab168"
      ],
      "layout": "IPY_MODEL_b21b479bd8894e86a9b60f3570c8b70c"
     }
    },
    "044f9dc3b85a452fbca31b9dcce54bd3": {
     "model_module": "@jupyter-widgets/controls",
     "model_module_version": "1.5.0",
     "model_name": "FloatProgressModel",
     "state": {
      "_dom_classes": [],
      "_model_module": "@jupyter-widgets/controls",
      "_model_module_version": "1.5.0",
      "_model_name": "FloatProgressModel",
      "_view_count": null,
      "_view_module": "@jupyter-widgets/controls",
      "_view_module_version": "1.5.0",
      "_view_name": "ProgressView",
      "bar_style": "",
      "description": "",
      "description_tooltip": null,
      "layout": "IPY_MODEL_a5c94641196d4f38ab54cc5e83017773",
      "max": 1,
      "min": 0,
      "orientation": "horizontal",
      "style": "IPY_MODEL_fa87739e97f7409397913bfb603ddeee",
      "value": 1
     }
    },
    "055edbde7ade4d159449379f599829e4": {
     "model_module": "@jupyter-widgets/base",
     "model_module_version": "1.2.0",
     "model_name": "LayoutModel",
     "state": {
      "_model_module": "@jupyter-widgets/base",
      "_model_module_version": "1.2.0",
      "_model_name": "LayoutModel",
      "_view_count": null,
      "_view_module": "@jupyter-widgets/base",
      "_view_module_version": "1.2.0",
      "_view_name": "LayoutView",
      "align_content": null,
      "align_items": null,
      "align_self": null,
      "border": null,
      "bottom": null,
      "display": null,
      "flex": null,
      "flex_flow": null,
      "grid_area": null,
      "grid_auto_columns": null,
      "grid_auto_flow": null,
      "grid_auto_rows": null,
      "grid_column": null,
      "grid_gap": null,
      "grid_row": null,
      "grid_template_areas": null,
      "grid_template_columns": null,
      "grid_template_rows": null,
      "height": null,
      "justify_content": null,
      "justify_items": null,
      "left": null,
      "margin": null,
      "max_height": null,
      "max_width": null,
      "min_height": null,
      "min_width": null,
      "object_fit": null,
      "object_position": null,
      "order": null,
      "overflow": null,
      "overflow_x": null,
      "overflow_y": null,
      "padding": null,
      "right": null,
      "top": null,
      "visibility": null,
      "width": null
     }
    },
    "06e38c6d30bf4b8daa7ff8b1b0e0b84a": {
     "model_module": "@jupyter-widgets/controls",
     "model_module_version": "1.5.0",
     "model_name": "LabelModel",
     "state": {
      "_dom_classes": [],
      "_model_module": "@jupyter-widgets/controls",
      "_model_module_version": "1.5.0",
      "_model_name": "LabelModel",
      "_view_count": null,
      "_view_module": "@jupyter-widgets/controls",
      "_view_module_version": "1.5.0",
      "_view_name": "LabelView",
      "description": "",
      "description_tooltip": null,
      "layout": "IPY_MODEL_d27b332b61264cddbce351eacedfe557",
      "placeholder": "​",
      "style": "IPY_MODEL_5a53006c6f294f61932feaf2074b2a44",
      "value": "0.011 MB of 0.011 MB uploaded\r"
     }
    },
    "07029f2250074ee59725d3b2bcd5907f": {
     "model_module": "@jupyter-widgets/base",
     "model_module_version": "1.2.0",
     "model_name": "LayoutModel",
     "state": {
      "_model_module": "@jupyter-widgets/base",
      "_model_module_version": "1.2.0",
      "_model_name": "LayoutModel",
      "_view_count": null,
      "_view_module": "@jupyter-widgets/base",
      "_view_module_version": "1.2.0",
      "_view_name": "LayoutView",
      "align_content": null,
      "align_items": null,
      "align_self": null,
      "border": null,
      "bottom": null,
      "display": null,
      "flex": null,
      "flex_flow": null,
      "grid_area": null,
      "grid_auto_columns": null,
      "grid_auto_flow": null,
      "grid_auto_rows": null,
      "grid_column": null,
      "grid_gap": null,
      "grid_row": null,
      "grid_template_areas": null,
      "grid_template_columns": null,
      "grid_template_rows": null,
      "height": null,
      "justify_content": null,
      "justify_items": null,
      "left": null,
      "margin": null,
      "max_height": null,
      "max_width": null,
      "min_height": null,
      "min_width": null,
      "object_fit": null,
      "object_position": null,
      "order": null,
      "overflow": null,
      "overflow_x": null,
      "overflow_y": null,
      "padding": null,
      "right": null,
      "top": null,
      "visibility": null,
      "width": null
     }
    },
    "073a5f774ddf4c64b22848b696783901": {
     "model_module": "@jupyter-widgets/base",
     "model_module_version": "1.2.0",
     "model_name": "LayoutModel",
     "state": {
      "_model_module": "@jupyter-widgets/base",
      "_model_module_version": "1.2.0",
      "_model_name": "LayoutModel",
      "_view_count": null,
      "_view_module": "@jupyter-widgets/base",
      "_view_module_version": "1.2.0",
      "_view_name": "LayoutView",
      "align_content": null,
      "align_items": null,
      "align_self": null,
      "border": null,
      "bottom": null,
      "display": null,
      "flex": null,
      "flex_flow": null,
      "grid_area": null,
      "grid_auto_columns": null,
      "grid_auto_flow": null,
      "grid_auto_rows": null,
      "grid_column": null,
      "grid_gap": null,
      "grid_row": null,
      "grid_template_areas": null,
      "grid_template_columns": null,
      "grid_template_rows": null,
      "height": null,
      "justify_content": null,
      "justify_items": null,
      "left": null,
      "margin": null,
      "max_height": null,
      "max_width": null,
      "min_height": null,
      "min_width": null,
      "object_fit": null,
      "object_position": null,
      "order": null,
      "overflow": null,
      "overflow_x": null,
      "overflow_y": null,
      "padding": null,
      "right": null,
      "top": null,
      "visibility": null,
      "width": null
     }
    },
    "0752da480fce4700813719e3617a7e37": {
     "model_module": "@jupyter-widgets/base",
     "model_module_version": "1.2.0",
     "model_name": "LayoutModel",
     "state": {
      "_model_module": "@jupyter-widgets/base",
      "_model_module_version": "1.2.0",
      "_model_name": "LayoutModel",
      "_view_count": null,
      "_view_module": "@jupyter-widgets/base",
      "_view_module_version": "1.2.0",
      "_view_name": "LayoutView",
      "align_content": null,
      "align_items": null,
      "align_self": null,
      "border": null,
      "bottom": null,
      "display": null,
      "flex": null,
      "flex_flow": null,
      "grid_area": null,
      "grid_auto_columns": null,
      "grid_auto_flow": null,
      "grid_auto_rows": null,
      "grid_column": null,
      "grid_gap": null,
      "grid_row": null,
      "grid_template_areas": null,
      "grid_template_columns": null,
      "grid_template_rows": null,
      "height": null,
      "justify_content": null,
      "justify_items": null,
      "left": null,
      "margin": null,
      "max_height": null,
      "max_width": null,
      "min_height": null,
      "min_width": null,
      "object_fit": null,
      "object_position": null,
      "order": null,
      "overflow": null,
      "overflow_x": null,
      "overflow_y": null,
      "padding": null,
      "right": null,
      "top": null,
      "visibility": null,
      "width": null
     }
    },
    "084b7c7c0048418caf620e0c482daf00": {
     "model_module": "@jupyter-widgets/base",
     "model_module_version": "1.2.0",
     "model_name": "LayoutModel",
     "state": {
      "_model_module": "@jupyter-widgets/base",
      "_model_module_version": "1.2.0",
      "_model_name": "LayoutModel",
      "_view_count": null,
      "_view_module": "@jupyter-widgets/base",
      "_view_module_version": "1.2.0",
      "_view_name": "LayoutView",
      "align_content": null,
      "align_items": null,
      "align_self": null,
      "border": null,
      "bottom": null,
      "display": null,
      "flex": null,
      "flex_flow": null,
      "grid_area": null,
      "grid_auto_columns": null,
      "grid_auto_flow": null,
      "grid_auto_rows": null,
      "grid_column": null,
      "grid_gap": null,
      "grid_row": null,
      "grid_template_areas": null,
      "grid_template_columns": null,
      "grid_template_rows": null,
      "height": null,
      "justify_content": null,
      "justify_items": null,
      "left": null,
      "margin": null,
      "max_height": null,
      "max_width": null,
      "min_height": null,
      "min_width": null,
      "object_fit": null,
      "object_position": null,
      "order": null,
      "overflow": null,
      "overflow_x": null,
      "overflow_y": null,
      "padding": null,
      "right": null,
      "top": null,
      "visibility": null,
      "width": null
     }
    },
    "0929443b9089410ba16ed0ff6830a6e7": {
     "model_module": "@jupyter-widgets/base",
     "model_module_version": "1.2.0",
     "model_name": "LayoutModel",
     "state": {
      "_model_module": "@jupyter-widgets/base",
      "_model_module_version": "1.2.0",
      "_model_name": "LayoutModel",
      "_view_count": null,
      "_view_module": "@jupyter-widgets/base",
      "_view_module_version": "1.2.0",
      "_view_name": "LayoutView",
      "align_content": null,
      "align_items": null,
      "align_self": null,
      "border": null,
      "bottom": null,
      "display": null,
      "flex": null,
      "flex_flow": null,
      "grid_area": null,
      "grid_auto_columns": null,
      "grid_auto_flow": null,
      "grid_auto_rows": null,
      "grid_column": null,
      "grid_gap": null,
      "grid_row": null,
      "grid_template_areas": null,
      "grid_template_columns": null,
      "grid_template_rows": null,
      "height": null,
      "justify_content": null,
      "justify_items": null,
      "left": null,
      "margin": null,
      "max_height": null,
      "max_width": null,
      "min_height": null,
      "min_width": null,
      "object_fit": null,
      "object_position": null,
      "order": null,
      "overflow": null,
      "overflow_x": null,
      "overflow_y": null,
      "padding": null,
      "right": null,
      "top": null,
      "visibility": null,
      "width": null
     }
    },
    "094a901abb65467daaa839975d85f260": {
     "model_module": "@jupyter-widgets/controls",
     "model_module_version": "1.5.0",
     "model_name": "LabelModel",
     "state": {
      "_dom_classes": [],
      "_model_module": "@jupyter-widgets/controls",
      "_model_module_version": "1.5.0",
      "_model_name": "LabelModel",
      "_view_count": null,
      "_view_module": "@jupyter-widgets/controls",
      "_view_module_version": "1.5.0",
      "_view_name": "LabelView",
      "description": "",
      "description_tooltip": null,
      "layout": "IPY_MODEL_9c98ae152a2e4848ba74913a1cc129a8",
      "placeholder": "​",
      "style": "IPY_MODEL_9673e77a8f4a420faf470732be35680c",
      "value": "0.012 MB of 0.012 MB uploaded\r"
     }
    },
    "098de8ddd35248729bb467473dd302b7": {
     "model_module": "@jupyter-widgets/controls",
     "model_module_version": "1.5.0",
     "model_name": "ProgressStyleModel",
     "state": {
      "_model_module": "@jupyter-widgets/controls",
      "_model_module_version": "1.5.0",
      "_model_name": "ProgressStyleModel",
      "_view_count": null,
      "_view_module": "@jupyter-widgets/base",
      "_view_module_version": "1.2.0",
      "_view_name": "StyleView",
      "bar_color": null,
      "description_width": ""
     }
    },
    "0a0999d0e7d0452fb58bb8ed8194cb53": {
     "model_module": "@jupyter-widgets/controls",
     "model_module_version": "1.5.0",
     "model_name": "DescriptionStyleModel",
     "state": {
      "_model_module": "@jupyter-widgets/controls",
      "_model_module_version": "1.5.0",
      "_model_name": "DescriptionStyleModel",
      "_view_count": null,
      "_view_module": "@jupyter-widgets/base",
      "_view_module_version": "1.2.0",
      "_view_name": "StyleView",
      "description_width": ""
     }
    },
    "0adb3a250bc24f06a2d89ea7782db9f0": {
     "model_module": "@jupyter-widgets/base",
     "model_module_version": "1.2.0",
     "model_name": "LayoutModel",
     "state": {
      "_model_module": "@jupyter-widgets/base",
      "_model_module_version": "1.2.0",
      "_model_name": "LayoutModel",
      "_view_count": null,
      "_view_module": "@jupyter-widgets/base",
      "_view_module_version": "1.2.0",
      "_view_name": "LayoutView",
      "align_content": null,
      "align_items": null,
      "align_self": null,
      "border": null,
      "bottom": null,
      "display": null,
      "flex": null,
      "flex_flow": null,
      "grid_area": null,
      "grid_auto_columns": null,
      "grid_auto_flow": null,
      "grid_auto_rows": null,
      "grid_column": null,
      "grid_gap": null,
      "grid_row": null,
      "grid_template_areas": null,
      "grid_template_columns": null,
      "grid_template_rows": null,
      "height": null,
      "justify_content": null,
      "justify_items": null,
      "left": null,
      "margin": null,
      "max_height": null,
      "max_width": null,
      "min_height": null,
      "min_width": null,
      "object_fit": null,
      "object_position": null,
      "order": null,
      "overflow": null,
      "overflow_x": null,
      "overflow_y": null,
      "padding": null,
      "right": null,
      "top": null,
      "visibility": null,
      "width": null
     }
    },
    "0d6661ab51c4425b9b36f2e8c937c664": {
     "model_module": "@jupyter-widgets/controls",
     "model_module_version": "1.5.0",
     "model_name": "ProgressStyleModel",
     "state": {
      "_model_module": "@jupyter-widgets/controls",
      "_model_module_version": "1.5.0",
      "_model_name": "ProgressStyleModel",
      "_view_count": null,
      "_view_module": "@jupyter-widgets/base",
      "_view_module_version": "1.2.0",
      "_view_name": "StyleView",
      "bar_color": null,
      "description_width": ""
     }
    },
    "0e2ac107b968469c977601045e5e5ba0": {
     "model_module": "@jupyter-widgets/base",
     "model_module_version": "1.2.0",
     "model_name": "LayoutModel",
     "state": {
      "_model_module": "@jupyter-widgets/base",
      "_model_module_version": "1.2.0",
      "_model_name": "LayoutModel",
      "_view_count": null,
      "_view_module": "@jupyter-widgets/base",
      "_view_module_version": "1.2.0",
      "_view_name": "LayoutView",
      "align_content": null,
      "align_items": null,
      "align_self": null,
      "border": null,
      "bottom": null,
      "display": null,
      "flex": null,
      "flex_flow": null,
      "grid_area": null,
      "grid_auto_columns": null,
      "grid_auto_flow": null,
      "grid_auto_rows": null,
      "grid_column": null,
      "grid_gap": null,
      "grid_row": null,
      "grid_template_areas": null,
      "grid_template_columns": null,
      "grid_template_rows": null,
      "height": null,
      "justify_content": null,
      "justify_items": null,
      "left": null,
      "margin": null,
      "max_height": null,
      "max_width": null,
      "min_height": null,
      "min_width": null,
      "object_fit": null,
      "object_position": null,
      "order": null,
      "overflow": null,
      "overflow_x": null,
      "overflow_y": null,
      "padding": null,
      "right": null,
      "top": null,
      "visibility": null,
      "width": null
     }
    },
    "0e506c25b6534a2bbe39914c54c54401": {
     "model_module": "@jupyter-widgets/controls",
     "model_module_version": "1.5.0",
     "model_name": "DescriptionStyleModel",
     "state": {
      "_model_module": "@jupyter-widgets/controls",
      "_model_module_version": "1.5.0",
      "_model_name": "DescriptionStyleModel",
      "_view_count": null,
      "_view_module": "@jupyter-widgets/base",
      "_view_module_version": "1.2.0",
      "_view_name": "StyleView",
      "description_width": ""
     }
    },
    "0f8c3fae4a4042cb929e73a1afae0875": {
     "model_module": "@jupyter-widgets/base",
     "model_module_version": "1.2.0",
     "model_name": "LayoutModel",
     "state": {
      "_model_module": "@jupyter-widgets/base",
      "_model_module_version": "1.2.0",
      "_model_name": "LayoutModel",
      "_view_count": null,
      "_view_module": "@jupyter-widgets/base",
      "_view_module_version": "1.2.0",
      "_view_name": "LayoutView",
      "align_content": null,
      "align_items": null,
      "align_self": null,
      "border": null,
      "bottom": null,
      "display": null,
      "flex": null,
      "flex_flow": null,
      "grid_area": null,
      "grid_auto_columns": null,
      "grid_auto_flow": null,
      "grid_auto_rows": null,
      "grid_column": null,
      "grid_gap": null,
      "grid_row": null,
      "grid_template_areas": null,
      "grid_template_columns": null,
      "grid_template_rows": null,
      "height": null,
      "justify_content": null,
      "justify_items": null,
      "left": null,
      "margin": null,
      "max_height": null,
      "max_width": null,
      "min_height": null,
      "min_width": null,
      "object_fit": null,
      "object_position": null,
      "order": null,
      "overflow": null,
      "overflow_x": null,
      "overflow_y": null,
      "padding": null,
      "right": null,
      "top": null,
      "visibility": null,
      "width": null
     }
    },
    "0fd576a5e0cf4e9d92e5d76bddd2d5f6": {
     "model_module": "@jupyter-widgets/controls",
     "model_module_version": "1.5.0",
     "model_name": "VBoxModel",
     "state": {
      "_dom_classes": [],
      "_model_module": "@jupyter-widgets/controls",
      "_model_module_version": "1.5.0",
      "_model_name": "VBoxModel",
      "_view_count": null,
      "_view_module": "@jupyter-widgets/controls",
      "_view_module_version": "1.5.0",
      "_view_name": "VBoxView",
      "box_style": "",
      "children": [
       "IPY_MODEL_2a61e8df306a44198c5cf3a7dfee84d1",
       "IPY_MODEL_7010de40a1a94792b31229561fadfc5a"
      ],
      "layout": "IPY_MODEL_1fb52c716eed4a1ea38ff986d3fda834"
     }
    },
    "101e3ae08e384b9ab709e4254783812d": {
     "model_module": "@jupyter-widgets/controls",
     "model_module_version": "1.5.0",
     "model_name": "DescriptionStyleModel",
     "state": {
      "_model_module": "@jupyter-widgets/controls",
      "_model_module_version": "1.5.0",
      "_model_name": "DescriptionStyleModel",
      "_view_count": null,
      "_view_module": "@jupyter-widgets/base",
      "_view_module_version": "1.2.0",
      "_view_name": "StyleView",
      "description_width": ""
     }
    },
    "102eaddb01a74bf88552881fd596ea64": {
     "model_module": "@jupyter-widgets/base",
     "model_module_version": "1.2.0",
     "model_name": "LayoutModel",
     "state": {
      "_model_module": "@jupyter-widgets/base",
      "_model_module_version": "1.2.0",
      "_model_name": "LayoutModel",
      "_view_count": null,
      "_view_module": "@jupyter-widgets/base",
      "_view_module_version": "1.2.0",
      "_view_name": "LayoutView",
      "align_content": null,
      "align_items": null,
      "align_self": null,
      "border": null,
      "bottom": null,
      "display": null,
      "flex": null,
      "flex_flow": null,
      "grid_area": null,
      "grid_auto_columns": null,
      "grid_auto_flow": null,
      "grid_auto_rows": null,
      "grid_column": null,
      "grid_gap": null,
      "grid_row": null,
      "grid_template_areas": null,
      "grid_template_columns": null,
      "grid_template_rows": null,
      "height": null,
      "justify_content": null,
      "justify_items": null,
      "left": null,
      "margin": null,
      "max_height": null,
      "max_width": null,
      "min_height": null,
      "min_width": null,
      "object_fit": null,
      "object_position": null,
      "order": null,
      "overflow": null,
      "overflow_x": null,
      "overflow_y": null,
      "padding": null,
      "right": null,
      "top": null,
      "visibility": null,
      "width": null
     }
    },
    "11ec17c4785041c3872d4688cac2c915": {
     "model_module": "@jupyter-widgets/controls",
     "model_module_version": "1.5.0",
     "model_name": "VBoxModel",
     "state": {
      "_dom_classes": [],
      "_model_module": "@jupyter-widgets/controls",
      "_model_module_version": "1.5.0",
      "_model_name": "VBoxModel",
      "_view_count": null,
      "_view_module": "@jupyter-widgets/controls",
      "_view_module_version": "1.5.0",
      "_view_name": "VBoxView",
      "box_style": "",
      "children": [
       "IPY_MODEL_d8e07460031844aa95d88e443034d5f4",
       "IPY_MODEL_81b071145e994d1f9103d762b6b19549"
      ],
      "layout": "IPY_MODEL_78859469637241dbaf1fe7d37bd1f090"
     }
    },
    "12556e31ee734aba915de1d6416dda26": {
     "model_module": "@jupyter-widgets/controls",
     "model_module_version": "1.5.0",
     "model_name": "LabelModel",
     "state": {
      "_dom_classes": [],
      "_model_module": "@jupyter-widgets/controls",
      "_model_module_version": "1.5.0",
      "_model_name": "LabelModel",
      "_view_count": null,
      "_view_module": "@jupyter-widgets/controls",
      "_view_module_version": "1.5.0",
      "_view_name": "LabelView",
      "description": "",
      "description_tooltip": null,
      "layout": "IPY_MODEL_b44e892018174182bb94c40ae89b17e8",
      "placeholder": "​",
      "style": "IPY_MODEL_a4c08b1acf3644c7826ccc3f0e7c953d",
      "value": "0.012 MB of 0.012 MB uploaded\r"
     }
    },
    "12aa20073f7441b6b21deabde7064cbc": {
     "model_module": "@jupyter-widgets/controls",
     "model_module_version": "1.5.0",
     "model_name": "DescriptionStyleModel",
     "state": {
      "_model_module": "@jupyter-widgets/controls",
      "_model_module_version": "1.5.0",
      "_model_name": "DescriptionStyleModel",
      "_view_count": null,
      "_view_module": "@jupyter-widgets/base",
      "_view_module_version": "1.2.0",
      "_view_name": "StyleView",
      "description_width": ""
     }
    },
    "13024cdcf398490895e4497b4f1a6f2a": {
     "model_module": "@jupyter-widgets/controls",
     "model_module_version": "1.5.0",
     "model_name": "VBoxModel",
     "state": {
      "_dom_classes": [],
      "_model_module": "@jupyter-widgets/controls",
      "_model_module_version": "1.5.0",
      "_model_name": "VBoxModel",
      "_view_count": null,
      "_view_module": "@jupyter-widgets/controls",
      "_view_module_version": "1.5.0",
      "_view_name": "VBoxView",
      "box_style": "",
      "children": [
       "IPY_MODEL_a6fbd771efb4483388eb8f3bd34b0d9e",
       "IPY_MODEL_776b516bd1594248b112da7cd3b2ea34"
      ],
      "layout": "IPY_MODEL_1e6720030040448aaa21feb704693557"
     }
    },
    "141495330fbb4849bed8c79db6dd88b0": {
     "model_module": "@jupyter-widgets/base",
     "model_module_version": "1.2.0",
     "model_name": "LayoutModel",
     "state": {
      "_model_module": "@jupyter-widgets/base",
      "_model_module_version": "1.2.0",
      "_model_name": "LayoutModel",
      "_view_count": null,
      "_view_module": "@jupyter-widgets/base",
      "_view_module_version": "1.2.0",
      "_view_name": "LayoutView",
      "align_content": null,
      "align_items": null,
      "align_self": null,
      "border": null,
      "bottom": null,
      "display": null,
      "flex": null,
      "flex_flow": null,
      "grid_area": null,
      "grid_auto_columns": null,
      "grid_auto_flow": null,
      "grid_auto_rows": null,
      "grid_column": null,
      "grid_gap": null,
      "grid_row": null,
      "grid_template_areas": null,
      "grid_template_columns": null,
      "grid_template_rows": null,
      "height": null,
      "justify_content": null,
      "justify_items": null,
      "left": null,
      "margin": null,
      "max_height": null,
      "max_width": null,
      "min_height": null,
      "min_width": null,
      "object_fit": null,
      "object_position": null,
      "order": null,
      "overflow": null,
      "overflow_x": null,
      "overflow_y": null,
      "padding": null,
      "right": null,
      "top": null,
      "visibility": null,
      "width": null
     }
    },
    "1436aac68f004bf8ace7c1e9dff23e36": {
     "model_module": "@jupyter-widgets/controls",
     "model_module_version": "1.5.0",
     "model_name": "VBoxModel",
     "state": {
      "_dom_classes": [],
      "_model_module": "@jupyter-widgets/controls",
      "_model_module_version": "1.5.0",
      "_model_name": "VBoxModel",
      "_view_count": null,
      "_view_module": "@jupyter-widgets/controls",
      "_view_module_version": "1.5.0",
      "_view_name": "VBoxView",
      "box_style": "",
      "children": [
       "IPY_MODEL_00395132580b4d94abd935093a7a3a91",
       "IPY_MODEL_f37dbda5cb874fc5885e1ce2803f04f6"
      ],
      "layout": "IPY_MODEL_dd01340406bb41879c00e11a90273dd3"
     }
    },
    "148114dee58e4dc28ff1cd7b3bf0da4a": {
     "model_module": "@jupyter-widgets/base",
     "model_module_version": "1.2.0",
     "model_name": "LayoutModel",
     "state": {
      "_model_module": "@jupyter-widgets/base",
      "_model_module_version": "1.2.0",
      "_model_name": "LayoutModel",
      "_view_count": null,
      "_view_module": "@jupyter-widgets/base",
      "_view_module_version": "1.2.0",
      "_view_name": "LayoutView",
      "align_content": null,
      "align_items": null,
      "align_self": null,
      "border": null,
      "bottom": null,
      "display": null,
      "flex": null,
      "flex_flow": null,
      "grid_area": null,
      "grid_auto_columns": null,
      "grid_auto_flow": null,
      "grid_auto_rows": null,
      "grid_column": null,
      "grid_gap": null,
      "grid_row": null,
      "grid_template_areas": null,
      "grid_template_columns": null,
      "grid_template_rows": null,
      "height": null,
      "justify_content": null,
      "justify_items": null,
      "left": null,
      "margin": null,
      "max_height": null,
      "max_width": null,
      "min_height": null,
      "min_width": null,
      "object_fit": null,
      "object_position": null,
      "order": null,
      "overflow": null,
      "overflow_x": null,
      "overflow_y": null,
      "padding": null,
      "right": null,
      "top": null,
      "visibility": null,
      "width": null
     }
    },
    "153b69299f884e8fbb726c6b3a556215": {
     "model_module": "@jupyter-widgets/base",
     "model_module_version": "1.2.0",
     "model_name": "LayoutModel",
     "state": {
      "_model_module": "@jupyter-widgets/base",
      "_model_module_version": "1.2.0",
      "_model_name": "LayoutModel",
      "_view_count": null,
      "_view_module": "@jupyter-widgets/base",
      "_view_module_version": "1.2.0",
      "_view_name": "LayoutView",
      "align_content": null,
      "align_items": null,
      "align_self": null,
      "border": null,
      "bottom": null,
      "display": null,
      "flex": null,
      "flex_flow": null,
      "grid_area": null,
      "grid_auto_columns": null,
      "grid_auto_flow": null,
      "grid_auto_rows": null,
      "grid_column": null,
      "grid_gap": null,
      "grid_row": null,
      "grid_template_areas": null,
      "grid_template_columns": null,
      "grid_template_rows": null,
      "height": null,
      "justify_content": null,
      "justify_items": null,
      "left": null,
      "margin": null,
      "max_height": null,
      "max_width": null,
      "min_height": null,
      "min_width": null,
      "object_fit": null,
      "object_position": null,
      "order": null,
      "overflow": null,
      "overflow_x": null,
      "overflow_y": null,
      "padding": null,
      "right": null,
      "top": null,
      "visibility": null,
      "width": null
     }
    },
    "160bc716e2d54ab6bad3bb5de50dbaf9": {
     "model_module": "@jupyter-widgets/base",
     "model_module_version": "1.2.0",
     "model_name": "LayoutModel",
     "state": {
      "_model_module": "@jupyter-widgets/base",
      "_model_module_version": "1.2.0",
      "_model_name": "LayoutModel",
      "_view_count": null,
      "_view_module": "@jupyter-widgets/base",
      "_view_module_version": "1.2.0",
      "_view_name": "LayoutView",
      "align_content": null,
      "align_items": null,
      "align_self": null,
      "border": null,
      "bottom": null,
      "display": null,
      "flex": null,
      "flex_flow": null,
      "grid_area": null,
      "grid_auto_columns": null,
      "grid_auto_flow": null,
      "grid_auto_rows": null,
      "grid_column": null,
      "grid_gap": null,
      "grid_row": null,
      "grid_template_areas": null,
      "grid_template_columns": null,
      "grid_template_rows": null,
      "height": null,
      "justify_content": null,
      "justify_items": null,
      "left": null,
      "margin": null,
      "max_height": null,
      "max_width": null,
      "min_height": null,
      "min_width": null,
      "object_fit": null,
      "object_position": null,
      "order": null,
      "overflow": null,
      "overflow_x": null,
      "overflow_y": null,
      "padding": null,
      "right": null,
      "top": null,
      "visibility": null,
      "width": null
     }
    },
    "164e161de0934180bc2e55e7910a9eec": {
     "model_module": "@jupyter-widgets/base",
     "model_module_version": "1.2.0",
     "model_name": "LayoutModel",
     "state": {
      "_model_module": "@jupyter-widgets/base",
      "_model_module_version": "1.2.0",
      "_model_name": "LayoutModel",
      "_view_count": null,
      "_view_module": "@jupyter-widgets/base",
      "_view_module_version": "1.2.0",
      "_view_name": "LayoutView",
      "align_content": null,
      "align_items": null,
      "align_self": null,
      "border": null,
      "bottom": null,
      "display": null,
      "flex": null,
      "flex_flow": null,
      "grid_area": null,
      "grid_auto_columns": null,
      "grid_auto_flow": null,
      "grid_auto_rows": null,
      "grid_column": null,
      "grid_gap": null,
      "grid_row": null,
      "grid_template_areas": null,
      "grid_template_columns": null,
      "grid_template_rows": null,
      "height": null,
      "justify_content": null,
      "justify_items": null,
      "left": null,
      "margin": null,
      "max_height": null,
      "max_width": null,
      "min_height": null,
      "min_width": null,
      "object_fit": null,
      "object_position": null,
      "order": null,
      "overflow": null,
      "overflow_x": null,
      "overflow_y": null,
      "padding": null,
      "right": null,
      "top": null,
      "visibility": null,
      "width": null
     }
    },
    "16a3fd8b89ef49608e978fc78f5ba559": {
     "model_module": "@jupyter-widgets/controls",
     "model_module_version": "1.5.0",
     "model_name": "VBoxModel",
     "state": {
      "_dom_classes": [],
      "_model_module": "@jupyter-widgets/controls",
      "_model_module_version": "1.5.0",
      "_model_name": "VBoxModel",
      "_view_count": null,
      "_view_module": "@jupyter-widgets/controls",
      "_view_module_version": "1.5.0",
      "_view_name": "VBoxView",
      "box_style": "",
      "children": [
       "IPY_MODEL_91f1fa58a42a4c3893a7684785305b71",
       "IPY_MODEL_5cc5e10529494d9b90143522b5b6629f"
      ],
      "layout": "IPY_MODEL_9d9f3358b7de4ce7b4c28165e33244d9"
     }
    },
    "1724d0c9c5f3404f9f27008cd7fb3400": {
     "model_module": "@jupyter-widgets/controls",
     "model_module_version": "1.5.0",
     "model_name": "ProgressStyleModel",
     "state": {
      "_model_module": "@jupyter-widgets/controls",
      "_model_module_version": "1.5.0",
      "_model_name": "ProgressStyleModel",
      "_view_count": null,
      "_view_module": "@jupyter-widgets/base",
      "_view_module_version": "1.2.0",
      "_view_name": "StyleView",
      "bar_color": null,
      "description_width": ""
     }
    },
    "176773fcdb9a43e484920ca96cdcc6ab": {
     "model_module": "@jupyter-widgets/controls",
     "model_module_version": "1.5.0",
     "model_name": "ProgressStyleModel",
     "state": {
      "_model_module": "@jupyter-widgets/controls",
      "_model_module_version": "1.5.0",
      "_model_name": "ProgressStyleModel",
      "_view_count": null,
      "_view_module": "@jupyter-widgets/base",
      "_view_module_version": "1.2.0",
      "_view_name": "StyleView",
      "bar_color": null,
      "description_width": ""
     }
    },
    "17b5f7f88da0401c9fd9089d04d06cb5": {
     "model_module": "@jupyter-widgets/controls",
     "model_module_version": "1.5.0",
     "model_name": "VBoxModel",
     "state": {
      "_dom_classes": [],
      "_model_module": "@jupyter-widgets/controls",
      "_model_module_version": "1.5.0",
      "_model_name": "VBoxModel",
      "_view_count": null,
      "_view_module": "@jupyter-widgets/controls",
      "_view_module_version": "1.5.0",
      "_view_name": "VBoxView",
      "box_style": "",
      "children": [
       "IPY_MODEL_c0080b0ea7144283a6a229cb38732094",
       "IPY_MODEL_786cdc6a2e3e4d1e863dcb56da5a9597"
      ],
      "layout": "IPY_MODEL_739288be04884c809be5f5242b1e8e6d"
     }
    },
    "1837c06a94da4242b96772f97b9faf84": {
     "model_module": "@jupyter-widgets/controls",
     "model_module_version": "1.5.0",
     "model_name": "VBoxModel",
     "state": {
      "_dom_classes": [],
      "_model_module": "@jupyter-widgets/controls",
      "_model_module_version": "1.5.0",
      "_model_name": "VBoxModel",
      "_view_count": null,
      "_view_module": "@jupyter-widgets/controls",
      "_view_module_version": "1.5.0",
      "_view_name": "VBoxView",
      "box_style": "",
      "children": [
       "IPY_MODEL_ca729e95ac504cfca970856f5c8a73e2",
       "IPY_MODEL_044f9dc3b85a452fbca31b9dcce54bd3"
      ],
      "layout": "IPY_MODEL_4e94602d385f48bcabefb0e727f2b856"
     }
    },
    "1aee772947b0492aa4bd3dae8ce8cc62": {
     "model_module": "@jupyter-widgets/controls",
     "model_module_version": "1.5.0",
     "model_name": "VBoxModel",
     "state": {
      "_dom_classes": [],
      "_model_module": "@jupyter-widgets/controls",
      "_model_module_version": "1.5.0",
      "_model_name": "VBoxModel",
      "_view_count": null,
      "_view_module": "@jupyter-widgets/controls",
      "_view_module_version": "1.5.0",
      "_view_name": "VBoxView",
      "box_style": "",
      "children": [
       "IPY_MODEL_9776d1584821492aabdbd20fc886e25d",
       "IPY_MODEL_55abf0fea8e846c3869d06ba0febf4ba"
      ],
      "layout": "IPY_MODEL_1c0774fb29dd4d178bfa3b66400a7df6"
     }
    },
    "1b016b8091b64ec4bc05161c97343914": {
     "model_module": "@jupyter-widgets/controls",
     "model_module_version": "1.5.0",
     "model_name": "VBoxModel",
     "state": {
      "_dom_classes": [],
      "_model_module": "@jupyter-widgets/controls",
      "_model_module_version": "1.5.0",
      "_model_name": "VBoxModel",
      "_view_count": null,
      "_view_module": "@jupyter-widgets/controls",
      "_view_module_version": "1.5.0",
      "_view_name": "VBoxView",
      "box_style": "",
      "children": [
       "IPY_MODEL_5754032bac714180bfa7ed133fc23ca8",
       "IPY_MODEL_d2f6e02920134d6d859124f2b9dbcf51"
      ],
      "layout": "IPY_MODEL_a2eec7bb6db142c18d6aada2bc690b38"
     }
    },
    "1c0774fb29dd4d178bfa3b66400a7df6": {
     "model_module": "@jupyter-widgets/base",
     "model_module_version": "1.2.0",
     "model_name": "LayoutModel",
     "state": {
      "_model_module": "@jupyter-widgets/base",
      "_model_module_version": "1.2.0",
      "_model_name": "LayoutModel",
      "_view_count": null,
      "_view_module": "@jupyter-widgets/base",
      "_view_module_version": "1.2.0",
      "_view_name": "LayoutView",
      "align_content": null,
      "align_items": null,
      "align_self": null,
      "border": null,
      "bottom": null,
      "display": null,
      "flex": null,
      "flex_flow": null,
      "grid_area": null,
      "grid_auto_columns": null,
      "grid_auto_flow": null,
      "grid_auto_rows": null,
      "grid_column": null,
      "grid_gap": null,
      "grid_row": null,
      "grid_template_areas": null,
      "grid_template_columns": null,
      "grid_template_rows": null,
      "height": null,
      "justify_content": null,
      "justify_items": null,
      "left": null,
      "margin": null,
      "max_height": null,
      "max_width": null,
      "min_height": null,
      "min_width": null,
      "object_fit": null,
      "object_position": null,
      "order": null,
      "overflow": null,
      "overflow_x": null,
      "overflow_y": null,
      "padding": null,
      "right": null,
      "top": null,
      "visibility": null,
      "width": null
     }
    },
    "1cd9b7125b524c678ba7d755e3dc797c": {
     "model_module": "@jupyter-widgets/base",
     "model_module_version": "1.2.0",
     "model_name": "LayoutModel",
     "state": {
      "_model_module": "@jupyter-widgets/base",
      "_model_module_version": "1.2.0",
      "_model_name": "LayoutModel",
      "_view_count": null,
      "_view_module": "@jupyter-widgets/base",
      "_view_module_version": "1.2.0",
      "_view_name": "LayoutView",
      "align_content": null,
      "align_items": null,
      "align_self": null,
      "border": null,
      "bottom": null,
      "display": null,
      "flex": null,
      "flex_flow": null,
      "grid_area": null,
      "grid_auto_columns": null,
      "grid_auto_flow": null,
      "grid_auto_rows": null,
      "grid_column": null,
      "grid_gap": null,
      "grid_row": null,
      "grid_template_areas": null,
      "grid_template_columns": null,
      "grid_template_rows": null,
      "height": null,
      "justify_content": null,
      "justify_items": null,
      "left": null,
      "margin": null,
      "max_height": null,
      "max_width": null,
      "min_height": null,
      "min_width": null,
      "object_fit": null,
      "object_position": null,
      "order": null,
      "overflow": null,
      "overflow_x": null,
      "overflow_y": null,
      "padding": null,
      "right": null,
      "top": null,
      "visibility": null,
      "width": null
     }
    },
    "1db83aea4fd946e2bac1f982399a2d7e": {
     "model_module": "@jupyter-widgets/controls",
     "model_module_version": "1.5.0",
     "model_name": "VBoxModel",
     "state": {
      "_dom_classes": [],
      "_model_module": "@jupyter-widgets/controls",
      "_model_module_version": "1.5.0",
      "_model_name": "VBoxModel",
      "_view_count": null,
      "_view_module": "@jupyter-widgets/controls",
      "_view_module_version": "1.5.0",
      "_view_name": "VBoxView",
      "box_style": "",
      "children": [
       "IPY_MODEL_b4d73619ec394f0a8c77c9bd6a13302f",
       "IPY_MODEL_dafbddd976f240409b033aa3616a88e3"
      ],
      "layout": "IPY_MODEL_a6700dda685449a5bcf21cbfde553f9a"
     }
    },
    "1e6720030040448aaa21feb704693557": {
     "model_module": "@jupyter-widgets/base",
     "model_module_version": "1.2.0",
     "model_name": "LayoutModel",
     "state": {
      "_model_module": "@jupyter-widgets/base",
      "_model_module_version": "1.2.0",
      "_model_name": "LayoutModel",
      "_view_count": null,
      "_view_module": "@jupyter-widgets/base",
      "_view_module_version": "1.2.0",
      "_view_name": "LayoutView",
      "align_content": null,
      "align_items": null,
      "align_self": null,
      "border": null,
      "bottom": null,
      "display": null,
      "flex": null,
      "flex_flow": null,
      "grid_area": null,
      "grid_auto_columns": null,
      "grid_auto_flow": null,
      "grid_auto_rows": null,
      "grid_column": null,
      "grid_gap": null,
      "grid_row": null,
      "grid_template_areas": null,
      "grid_template_columns": null,
      "grid_template_rows": null,
      "height": null,
      "justify_content": null,
      "justify_items": null,
      "left": null,
      "margin": null,
      "max_height": null,
      "max_width": null,
      "min_height": null,
      "min_width": null,
      "object_fit": null,
      "object_position": null,
      "order": null,
      "overflow": null,
      "overflow_x": null,
      "overflow_y": null,
      "padding": null,
      "right": null,
      "top": null,
      "visibility": null,
      "width": null
     }
    },
    "1e6d342f1f3b463298b12947e17e4a61": {
     "model_module": "@jupyter-widgets/controls",
     "model_module_version": "1.5.0",
     "model_name": "LabelModel",
     "state": {
      "_dom_classes": [],
      "_model_module": "@jupyter-widgets/controls",
      "_model_module_version": "1.5.0",
      "_model_name": "LabelModel",
      "_view_count": null,
      "_view_module": "@jupyter-widgets/controls",
      "_view_module_version": "1.5.0",
      "_view_name": "LabelView",
      "description": "",
      "description_tooltip": null,
      "layout": "IPY_MODEL_86348e671cee483aa53f58c036846aef",
      "placeholder": "​",
      "style": "IPY_MODEL_6aab02d0ae024caa9ff5d41797a7b350",
      "value": "0.012 MB of 0.012 MB uploaded\r"
     }
    },
    "1f12a85c74ff4a9dab56e0c10cb6b1cd": {
     "model_module": "@jupyter-widgets/controls",
     "model_module_version": "1.5.0",
     "model_name": "VBoxModel",
     "state": {
      "_dom_classes": [],
      "_model_module": "@jupyter-widgets/controls",
      "_model_module_version": "1.5.0",
      "_model_name": "VBoxModel",
      "_view_count": null,
      "_view_module": "@jupyter-widgets/controls",
      "_view_module_version": "1.5.0",
      "_view_name": "VBoxView",
      "box_style": "",
      "children": [
       "IPY_MODEL_8506802723604a6da720fd3def392105",
       "IPY_MODEL_e61f57fc6bde45018836fbb1aaac6713"
      ],
      "layout": "IPY_MODEL_084b7c7c0048418caf620e0c482daf00"
     }
    },
    "1f2c0944a233446da7e81bc6156af9c4": {
     "model_module": "@jupyter-widgets/controls",
     "model_module_version": "1.5.0",
     "model_name": "FloatProgressModel",
     "state": {
      "_dom_classes": [],
      "_model_module": "@jupyter-widgets/controls",
      "_model_module_version": "1.5.0",
      "_model_name": "FloatProgressModel",
      "_view_count": null,
      "_view_module": "@jupyter-widgets/controls",
      "_view_module_version": "1.5.0",
      "_view_name": "ProgressView",
      "bar_style": "",
      "description": "",
      "description_tooltip": null,
      "layout": "IPY_MODEL_40ce6d02f334404aa437f3d521ae09fc",
      "max": 1,
      "min": 0,
      "orientation": "horizontal",
      "style": "IPY_MODEL_d55585a6c4594c3f9d78c5bc5a3a8dd1",
      "value": 1
     }
    },
    "1fb52c716eed4a1ea38ff986d3fda834": {
     "model_module": "@jupyter-widgets/base",
     "model_module_version": "1.2.0",
     "model_name": "LayoutModel",
     "state": {
      "_model_module": "@jupyter-widgets/base",
      "_model_module_version": "1.2.0",
      "_model_name": "LayoutModel",
      "_view_count": null,
      "_view_module": "@jupyter-widgets/base",
      "_view_module_version": "1.2.0",
      "_view_name": "LayoutView",
      "align_content": null,
      "align_items": null,
      "align_self": null,
      "border": null,
      "bottom": null,
      "display": null,
      "flex": null,
      "flex_flow": null,
      "grid_area": null,
      "grid_auto_columns": null,
      "grid_auto_flow": null,
      "grid_auto_rows": null,
      "grid_column": null,
      "grid_gap": null,
      "grid_row": null,
      "grid_template_areas": null,
      "grid_template_columns": null,
      "grid_template_rows": null,
      "height": null,
      "justify_content": null,
      "justify_items": null,
      "left": null,
      "margin": null,
      "max_height": null,
      "max_width": null,
      "min_height": null,
      "min_width": null,
      "object_fit": null,
      "object_position": null,
      "order": null,
      "overflow": null,
      "overflow_x": null,
      "overflow_y": null,
      "padding": null,
      "right": null,
      "top": null,
      "visibility": null,
      "width": null
     }
    },
    "22fe4458e61246e99417293b218f8a06": {
     "model_module": "@jupyter-widgets/base",
     "model_module_version": "1.2.0",
     "model_name": "LayoutModel",
     "state": {
      "_model_module": "@jupyter-widgets/base",
      "_model_module_version": "1.2.0",
      "_model_name": "LayoutModel",
      "_view_count": null,
      "_view_module": "@jupyter-widgets/base",
      "_view_module_version": "1.2.0",
      "_view_name": "LayoutView",
      "align_content": null,
      "align_items": null,
      "align_self": null,
      "border": null,
      "bottom": null,
      "display": null,
      "flex": null,
      "flex_flow": null,
      "grid_area": null,
      "grid_auto_columns": null,
      "grid_auto_flow": null,
      "grid_auto_rows": null,
      "grid_column": null,
      "grid_gap": null,
      "grid_row": null,
      "grid_template_areas": null,
      "grid_template_columns": null,
      "grid_template_rows": null,
      "height": null,
      "justify_content": null,
      "justify_items": null,
      "left": null,
      "margin": null,
      "max_height": null,
      "max_width": null,
      "min_height": null,
      "min_width": null,
      "object_fit": null,
      "object_position": null,
      "order": null,
      "overflow": null,
      "overflow_x": null,
      "overflow_y": null,
      "padding": null,
      "right": null,
      "top": null,
      "visibility": null,
      "width": null
     }
    },
    "23bff8dc5a8a48b584ac93d6f9eb19f0": {
     "model_module": "@jupyter-widgets/base",
     "model_module_version": "1.2.0",
     "model_name": "LayoutModel",
     "state": {
      "_model_module": "@jupyter-widgets/base",
      "_model_module_version": "1.2.0",
      "_model_name": "LayoutModel",
      "_view_count": null,
      "_view_module": "@jupyter-widgets/base",
      "_view_module_version": "1.2.0",
      "_view_name": "LayoutView",
      "align_content": null,
      "align_items": null,
      "align_self": null,
      "border": null,
      "bottom": null,
      "display": null,
      "flex": null,
      "flex_flow": null,
      "grid_area": null,
      "grid_auto_columns": null,
      "grid_auto_flow": null,
      "grid_auto_rows": null,
      "grid_column": null,
      "grid_gap": null,
      "grid_row": null,
      "grid_template_areas": null,
      "grid_template_columns": null,
      "grid_template_rows": null,
      "height": null,
      "justify_content": null,
      "justify_items": null,
      "left": null,
      "margin": null,
      "max_height": null,
      "max_width": null,
      "min_height": null,
      "min_width": null,
      "object_fit": null,
      "object_position": null,
      "order": null,
      "overflow": null,
      "overflow_x": null,
      "overflow_y": null,
      "padding": null,
      "right": null,
      "top": null,
      "visibility": null,
      "width": null
     }
    },
    "2489ed47ffe44123afc5f1ce9b198620": {
     "model_module": "@jupyter-widgets/controls",
     "model_module_version": "1.5.0",
     "model_name": "FloatProgressModel",
     "state": {
      "_dom_classes": [],
      "_model_module": "@jupyter-widgets/controls",
      "_model_module_version": "1.5.0",
      "_model_name": "FloatProgressModel",
      "_view_count": null,
      "_view_module": "@jupyter-widgets/controls",
      "_view_module_version": "1.5.0",
      "_view_name": "ProgressView",
      "bar_style": "",
      "description": "",
      "description_tooltip": null,
      "layout": "IPY_MODEL_0146406750cc4bfa9d4a051a44b22d21",
      "max": 1,
      "min": 0,
      "orientation": "horizontal",
      "style": "IPY_MODEL_a1bbbb0e98954595b06adb9a129d5d9e",
      "value": 1
     }
    },
    "24e6d7b2236343a492447e5cfaabe3ee": {
     "model_module": "@jupyter-widgets/controls",
     "model_module_version": "1.5.0",
     "model_name": "LabelModel",
     "state": {
      "_dom_classes": [],
      "_model_module": "@jupyter-widgets/controls",
      "_model_module_version": "1.5.0",
      "_model_name": "LabelModel",
      "_view_count": null,
      "_view_module": "@jupyter-widgets/controls",
      "_view_module_version": "1.5.0",
      "_view_name": "LabelView",
      "description": "",
      "description_tooltip": null,
      "layout": "IPY_MODEL_bde29a59e595477e8b7e5cbd08adbefa",
      "placeholder": "​",
      "style": "IPY_MODEL_291e21ebdce042d6ad621af5232005b6",
      "value": "0.012 MB of 0.012 MB uploaded\r"
     }
    },
    "24f16ca58bcb42ec9bbd820ad82ee336": {
     "model_module": "@jupyter-widgets/controls",
     "model_module_version": "1.5.0",
     "model_name": "LabelModel",
     "state": {
      "_dom_classes": [],
      "_model_module": "@jupyter-widgets/controls",
      "_model_module_version": "1.5.0",
      "_model_name": "LabelModel",
      "_view_count": null,
      "_view_module": "@jupyter-widgets/controls",
      "_view_module_version": "1.5.0",
      "_view_name": "LabelView",
      "description": "",
      "description_tooltip": null,
      "layout": "IPY_MODEL_ea43f66b739a48bbafee83b3920f1775",
      "placeholder": "​",
      "style": "IPY_MODEL_7476068006dc456b9769fa59aee7a44d",
      "value": "0.012 MB of 0.012 MB uploaded\r"
     }
    },
    "2504a95dbb16459facbb645d697a5908": {
     "model_module": "@jupyter-widgets/base",
     "model_module_version": "1.2.0",
     "model_name": "LayoutModel",
     "state": {
      "_model_module": "@jupyter-widgets/base",
      "_model_module_version": "1.2.0",
      "_model_name": "LayoutModel",
      "_view_count": null,
      "_view_module": "@jupyter-widgets/base",
      "_view_module_version": "1.2.0",
      "_view_name": "LayoutView",
      "align_content": null,
      "align_items": null,
      "align_self": null,
      "border": null,
      "bottom": null,
      "display": null,
      "flex": null,
      "flex_flow": null,
      "grid_area": null,
      "grid_auto_columns": null,
      "grid_auto_flow": null,
      "grid_auto_rows": null,
      "grid_column": null,
      "grid_gap": null,
      "grid_row": null,
      "grid_template_areas": null,
      "grid_template_columns": null,
      "grid_template_rows": null,
      "height": null,
      "justify_content": null,
      "justify_items": null,
      "left": null,
      "margin": null,
      "max_height": null,
      "max_width": null,
      "min_height": null,
      "min_width": null,
      "object_fit": null,
      "object_position": null,
      "order": null,
      "overflow": null,
      "overflow_x": null,
      "overflow_y": null,
      "padding": null,
      "right": null,
      "top": null,
      "visibility": null,
      "width": null
     }
    },
    "250e795174f440c9a111dca61f512a05": {
     "model_module": "@jupyter-widgets/base",
     "model_module_version": "1.2.0",
     "model_name": "LayoutModel",
     "state": {
      "_model_module": "@jupyter-widgets/base",
      "_model_module_version": "1.2.0",
      "_model_name": "LayoutModel",
      "_view_count": null,
      "_view_module": "@jupyter-widgets/base",
      "_view_module_version": "1.2.0",
      "_view_name": "LayoutView",
      "align_content": null,
      "align_items": null,
      "align_self": null,
      "border": null,
      "bottom": null,
      "display": null,
      "flex": null,
      "flex_flow": null,
      "grid_area": null,
      "grid_auto_columns": null,
      "grid_auto_flow": null,
      "grid_auto_rows": null,
      "grid_column": null,
      "grid_gap": null,
      "grid_row": null,
      "grid_template_areas": null,
      "grid_template_columns": null,
      "grid_template_rows": null,
      "height": null,
      "justify_content": null,
      "justify_items": null,
      "left": null,
      "margin": null,
      "max_height": null,
      "max_width": null,
      "min_height": null,
      "min_width": null,
      "object_fit": null,
      "object_position": null,
      "order": null,
      "overflow": null,
      "overflow_x": null,
      "overflow_y": null,
      "padding": null,
      "right": null,
      "top": null,
      "visibility": null,
      "width": null
     }
    },
    "252a6f3d897843dca389f9e8bcc0c371": {
     "model_module": "@jupyter-widgets/controls",
     "model_module_version": "1.5.0",
     "model_name": "DescriptionStyleModel",
     "state": {
      "_model_module": "@jupyter-widgets/controls",
      "_model_module_version": "1.5.0",
      "_model_name": "DescriptionStyleModel",
      "_view_count": null,
      "_view_module": "@jupyter-widgets/base",
      "_view_module_version": "1.2.0",
      "_view_name": "StyleView",
      "description_width": ""
     }
    },
    "25a61b57254a4f7a8cace8a5b6f1bbbe": {
     "model_module": "@jupyter-widgets/base",
     "model_module_version": "1.2.0",
     "model_name": "LayoutModel",
     "state": {
      "_model_module": "@jupyter-widgets/base",
      "_model_module_version": "1.2.0",
      "_model_name": "LayoutModel",
      "_view_count": null,
      "_view_module": "@jupyter-widgets/base",
      "_view_module_version": "1.2.0",
      "_view_name": "LayoutView",
      "align_content": null,
      "align_items": null,
      "align_self": null,
      "border": null,
      "bottom": null,
      "display": null,
      "flex": null,
      "flex_flow": null,
      "grid_area": null,
      "grid_auto_columns": null,
      "grid_auto_flow": null,
      "grid_auto_rows": null,
      "grid_column": null,
      "grid_gap": null,
      "grid_row": null,
      "grid_template_areas": null,
      "grid_template_columns": null,
      "grid_template_rows": null,
      "height": null,
      "justify_content": null,
      "justify_items": null,
      "left": null,
      "margin": null,
      "max_height": null,
      "max_width": null,
      "min_height": null,
      "min_width": null,
      "object_fit": null,
      "object_position": null,
      "order": null,
      "overflow": null,
      "overflow_x": null,
      "overflow_y": null,
      "padding": null,
      "right": null,
      "top": null,
      "visibility": null,
      "width": null
     }
    },
    "25e53aff95ea41f88ef4bfc6b88e040c": {
     "model_module": "@jupyter-widgets/base",
     "model_module_version": "1.2.0",
     "model_name": "LayoutModel",
     "state": {
      "_model_module": "@jupyter-widgets/base",
      "_model_module_version": "1.2.0",
      "_model_name": "LayoutModel",
      "_view_count": null,
      "_view_module": "@jupyter-widgets/base",
      "_view_module_version": "1.2.0",
      "_view_name": "LayoutView",
      "align_content": null,
      "align_items": null,
      "align_self": null,
      "border": null,
      "bottom": null,
      "display": null,
      "flex": null,
      "flex_flow": null,
      "grid_area": null,
      "grid_auto_columns": null,
      "grid_auto_flow": null,
      "grid_auto_rows": null,
      "grid_column": null,
      "grid_gap": null,
      "grid_row": null,
      "grid_template_areas": null,
      "grid_template_columns": null,
      "grid_template_rows": null,
      "height": null,
      "justify_content": null,
      "justify_items": null,
      "left": null,
      "margin": null,
      "max_height": null,
      "max_width": null,
      "min_height": null,
      "min_width": null,
      "object_fit": null,
      "object_position": null,
      "order": null,
      "overflow": null,
      "overflow_x": null,
      "overflow_y": null,
      "padding": null,
      "right": null,
      "top": null,
      "visibility": null,
      "width": null
     }
    },
    "2804848552c44e0d95ddfaba7d6b5526": {
     "model_module": "@jupyter-widgets/controls",
     "model_module_version": "1.5.0",
     "model_name": "ProgressStyleModel",
     "state": {
      "_model_module": "@jupyter-widgets/controls",
      "_model_module_version": "1.5.0",
      "_model_name": "ProgressStyleModel",
      "_view_count": null,
      "_view_module": "@jupyter-widgets/base",
      "_view_module_version": "1.2.0",
      "_view_name": "StyleView",
      "bar_color": null,
      "description_width": ""
     }
    },
    "28a321d0a043475daaba31110e31681f": {
     "model_module": "@jupyter-widgets/base",
     "model_module_version": "1.2.0",
     "model_name": "LayoutModel",
     "state": {
      "_model_module": "@jupyter-widgets/base",
      "_model_module_version": "1.2.0",
      "_model_name": "LayoutModel",
      "_view_count": null,
      "_view_module": "@jupyter-widgets/base",
      "_view_module_version": "1.2.0",
      "_view_name": "LayoutView",
      "align_content": null,
      "align_items": null,
      "align_self": null,
      "border": null,
      "bottom": null,
      "display": null,
      "flex": null,
      "flex_flow": null,
      "grid_area": null,
      "grid_auto_columns": null,
      "grid_auto_flow": null,
      "grid_auto_rows": null,
      "grid_column": null,
      "grid_gap": null,
      "grid_row": null,
      "grid_template_areas": null,
      "grid_template_columns": null,
      "grid_template_rows": null,
      "height": null,
      "justify_content": null,
      "justify_items": null,
      "left": null,
      "margin": null,
      "max_height": null,
      "max_width": null,
      "min_height": null,
      "min_width": null,
      "object_fit": null,
      "object_position": null,
      "order": null,
      "overflow": null,
      "overflow_x": null,
      "overflow_y": null,
      "padding": null,
      "right": null,
      "top": null,
      "visibility": null,
      "width": null
     }
    },
    "291e21ebdce042d6ad621af5232005b6": {
     "model_module": "@jupyter-widgets/controls",
     "model_module_version": "1.5.0",
     "model_name": "DescriptionStyleModel",
     "state": {
      "_model_module": "@jupyter-widgets/controls",
      "_model_module_version": "1.5.0",
      "_model_name": "DescriptionStyleModel",
      "_view_count": null,
      "_view_module": "@jupyter-widgets/base",
      "_view_module_version": "1.2.0",
      "_view_name": "StyleView",
      "description_width": ""
     }
    },
    "294b51253b5147a68dbd18564815173d": {
     "model_module": "@jupyter-widgets/controls",
     "model_module_version": "1.5.0",
     "model_name": "ProgressStyleModel",
     "state": {
      "_model_module": "@jupyter-widgets/controls",
      "_model_module_version": "1.5.0",
      "_model_name": "ProgressStyleModel",
      "_view_count": null,
      "_view_module": "@jupyter-widgets/base",
      "_view_module_version": "1.2.0",
      "_view_name": "StyleView",
      "bar_color": null,
      "description_width": ""
     }
    },
    "2979305e0399481eb884ce592749b18f": {
     "model_module": "@jupyter-widgets/controls",
     "model_module_version": "1.5.0",
     "model_name": "FloatProgressModel",
     "state": {
      "_dom_classes": [],
      "_model_module": "@jupyter-widgets/controls",
      "_model_module_version": "1.5.0",
      "_model_name": "FloatProgressModel",
      "_view_count": null,
      "_view_module": "@jupyter-widgets/controls",
      "_view_module_version": "1.5.0",
      "_view_name": "ProgressView",
      "bar_style": "",
      "description": "",
      "description_tooltip": null,
      "layout": "IPY_MODEL_ffbe26106dcf476f806f6987042a2b38",
      "max": 1,
      "min": 0,
      "orientation": "horizontal",
      "style": "IPY_MODEL_a674318c2a09417a8ee79f7be70121f5",
      "value": 1
     }
    },
    "29e5618631bf4b459916cda8ba78f319": {
     "model_module": "@jupyter-widgets/controls",
     "model_module_version": "1.5.0",
     "model_name": "FloatProgressModel",
     "state": {
      "_dom_classes": [],
      "_model_module": "@jupyter-widgets/controls",
      "_model_module_version": "1.5.0",
      "_model_name": "FloatProgressModel",
      "_view_count": null,
      "_view_module": "@jupyter-widgets/controls",
      "_view_module_version": "1.5.0",
      "_view_name": "ProgressView",
      "bar_style": "",
      "description": "",
      "description_tooltip": null,
      "layout": "IPY_MODEL_73f545afa76a4bc880890559dfb2bcff",
      "max": 1,
      "min": 0,
      "orientation": "horizontal",
      "style": "IPY_MODEL_8bed13cab6e94899ba41fc4fc7238eda",
      "value": 1
     }
    },
    "2a61e8df306a44198c5cf3a7dfee84d1": {
     "model_module": "@jupyter-widgets/controls",
     "model_module_version": "1.5.0",
     "model_name": "LabelModel",
     "state": {
      "_dom_classes": [],
      "_model_module": "@jupyter-widgets/controls",
      "_model_module_version": "1.5.0",
      "_model_name": "LabelModel",
      "_view_count": null,
      "_view_module": "@jupyter-widgets/controls",
      "_view_module_version": "1.5.0",
      "_view_name": "LabelView",
      "description": "",
      "description_tooltip": null,
      "layout": "IPY_MODEL_d2a26aca3ee14c0c8af331e65f57f794",
      "placeholder": "​",
      "style": "IPY_MODEL_e4572f7c365d4ab8a4d4eab789d9f4b1",
      "value": "0.012 MB of 0.012 MB uploaded\r"
     }
    },
    "2a6a3e3112bd4b46b76d2bca0b9304aa": {
     "model_module": "@jupyter-widgets/controls",
     "model_module_version": "1.5.0",
     "model_name": "FloatProgressModel",
     "state": {
      "_dom_classes": [],
      "_model_module": "@jupyter-widgets/controls",
      "_model_module_version": "1.5.0",
      "_model_name": "FloatProgressModel",
      "_view_count": null,
      "_view_module": "@jupyter-widgets/controls",
      "_view_module_version": "1.5.0",
      "_view_name": "ProgressView",
      "bar_style": "",
      "description": "",
      "description_tooltip": null,
      "layout": "IPY_MODEL_d347e597466043579164d667dca3900a",
      "max": 1,
      "min": 0,
      "orientation": "horizontal",
      "style": "IPY_MODEL_2df60073f7db4ca1b326789f197f6957",
      "value": 1
     }
    },
    "2ae280a29a8e498a9c29725553286c62": {
     "model_module": "@jupyter-widgets/controls",
     "model_module_version": "1.5.0",
     "model_name": "VBoxModel",
     "state": {
      "_dom_classes": [],
      "_model_module": "@jupyter-widgets/controls",
      "_model_module_version": "1.5.0",
      "_model_name": "VBoxModel",
      "_view_count": null,
      "_view_module": "@jupyter-widgets/controls",
      "_view_module_version": "1.5.0",
      "_view_name": "VBoxView",
      "box_style": "",
      "children": [
       "IPY_MODEL_67c96a927d264d9d89f9a2033c23be00",
       "IPY_MODEL_876de09e7e544f66b04d5de77cf3e6c4"
      ],
      "layout": "IPY_MODEL_2e11c5cee43547c196f5aba03e6440cc"
     }
    },
    "2bccf0fe4c154e7b9484b4f5832c8804": {
     "model_module": "@jupyter-widgets/controls",
     "model_module_version": "1.5.0",
     "model_name": "FloatProgressModel",
     "state": {
      "_dom_classes": [],
      "_model_module": "@jupyter-widgets/controls",
      "_model_module_version": "1.5.0",
      "_model_name": "FloatProgressModel",
      "_view_count": null,
      "_view_module": "@jupyter-widgets/controls",
      "_view_module_version": "1.5.0",
      "_view_name": "ProgressView",
      "bar_style": "",
      "description": "",
      "description_tooltip": null,
      "layout": "IPY_MODEL_816c030c9ac740d2a26a4a0e1c9b6028",
      "max": 1,
      "min": 0,
      "orientation": "horizontal",
      "style": "IPY_MODEL_098de8ddd35248729bb467473dd302b7",
      "value": 1
     }
    },
    "2c046926c94040f0bfded90830c0391c": {
     "model_module": "@jupyter-widgets/base",
     "model_module_version": "1.2.0",
     "model_name": "LayoutModel",
     "state": {
      "_model_module": "@jupyter-widgets/base",
      "_model_module_version": "1.2.0",
      "_model_name": "LayoutModel",
      "_view_count": null,
      "_view_module": "@jupyter-widgets/base",
      "_view_module_version": "1.2.0",
      "_view_name": "LayoutView",
      "align_content": null,
      "align_items": null,
      "align_self": null,
      "border": null,
      "bottom": null,
      "display": null,
      "flex": null,
      "flex_flow": null,
      "grid_area": null,
      "grid_auto_columns": null,
      "grid_auto_flow": null,
      "grid_auto_rows": null,
      "grid_column": null,
      "grid_gap": null,
      "grid_row": null,
      "grid_template_areas": null,
      "grid_template_columns": null,
      "grid_template_rows": null,
      "height": null,
      "justify_content": null,
      "justify_items": null,
      "left": null,
      "margin": null,
      "max_height": null,
      "max_width": null,
      "min_height": null,
      "min_width": null,
      "object_fit": null,
      "object_position": null,
      "order": null,
      "overflow": null,
      "overflow_x": null,
      "overflow_y": null,
      "padding": null,
      "right": null,
      "top": null,
      "visibility": null,
      "width": null
     }
    },
    "2c46e1433da447c9b1aff64973f2d4a6": {
     "model_module": "@jupyter-widgets/base",
     "model_module_version": "1.2.0",
     "model_name": "LayoutModel",
     "state": {
      "_model_module": "@jupyter-widgets/base",
      "_model_module_version": "1.2.0",
      "_model_name": "LayoutModel",
      "_view_count": null,
      "_view_module": "@jupyter-widgets/base",
      "_view_module_version": "1.2.0",
      "_view_name": "LayoutView",
      "align_content": null,
      "align_items": null,
      "align_self": null,
      "border": null,
      "bottom": null,
      "display": null,
      "flex": null,
      "flex_flow": null,
      "grid_area": null,
      "grid_auto_columns": null,
      "grid_auto_flow": null,
      "grid_auto_rows": null,
      "grid_column": null,
      "grid_gap": null,
      "grid_row": null,
      "grid_template_areas": null,
      "grid_template_columns": null,
      "grid_template_rows": null,
      "height": null,
      "justify_content": null,
      "justify_items": null,
      "left": null,
      "margin": null,
      "max_height": null,
      "max_width": null,
      "min_height": null,
      "min_width": null,
      "object_fit": null,
      "object_position": null,
      "order": null,
      "overflow": null,
      "overflow_x": null,
      "overflow_y": null,
      "padding": null,
      "right": null,
      "top": null,
      "visibility": null,
      "width": null
     }
    },
    "2d093d774a4f4873842e780081510436": {
     "model_module": "@jupyter-widgets/base",
     "model_module_version": "1.2.0",
     "model_name": "LayoutModel",
     "state": {
      "_model_module": "@jupyter-widgets/base",
      "_model_module_version": "1.2.0",
      "_model_name": "LayoutModel",
      "_view_count": null,
      "_view_module": "@jupyter-widgets/base",
      "_view_module_version": "1.2.0",
      "_view_name": "LayoutView",
      "align_content": null,
      "align_items": null,
      "align_self": null,
      "border": null,
      "bottom": null,
      "display": null,
      "flex": null,
      "flex_flow": null,
      "grid_area": null,
      "grid_auto_columns": null,
      "grid_auto_flow": null,
      "grid_auto_rows": null,
      "grid_column": null,
      "grid_gap": null,
      "grid_row": null,
      "grid_template_areas": null,
      "grid_template_columns": null,
      "grid_template_rows": null,
      "height": null,
      "justify_content": null,
      "justify_items": null,
      "left": null,
      "margin": null,
      "max_height": null,
      "max_width": null,
      "min_height": null,
      "min_width": null,
      "object_fit": null,
      "object_position": null,
      "order": null,
      "overflow": null,
      "overflow_x": null,
      "overflow_y": null,
      "padding": null,
      "right": null,
      "top": null,
      "visibility": null,
      "width": null
     }
    },
    "2d2887da8edf49138087cfbdfda987b6": {
     "model_module": "@jupyter-widgets/controls",
     "model_module_version": "1.5.0",
     "model_name": "ProgressStyleModel",
     "state": {
      "_model_module": "@jupyter-widgets/controls",
      "_model_module_version": "1.5.0",
      "_model_name": "ProgressStyleModel",
      "_view_count": null,
      "_view_module": "@jupyter-widgets/base",
      "_view_module_version": "1.2.0",
      "_view_name": "StyleView",
      "bar_color": null,
      "description_width": ""
     }
    },
    "2d68f19800544cd3ab0b922b0ef7a9d4": {
     "model_module": "@jupyter-widgets/controls",
     "model_module_version": "1.5.0",
     "model_name": "LabelModel",
     "state": {
      "_dom_classes": [],
      "_model_module": "@jupyter-widgets/controls",
      "_model_module_version": "1.5.0",
      "_model_name": "LabelModel",
      "_view_count": null,
      "_view_module": "@jupyter-widgets/controls",
      "_view_module_version": "1.5.0",
      "_view_name": "LabelView",
      "description": "",
      "description_tooltip": null,
      "layout": "IPY_MODEL_2d093d774a4f4873842e780081510436",
      "placeholder": "​",
      "style": "IPY_MODEL_80cd08c2cc48491b97a9af035071ab44",
      "value": "0.012 MB of 0.012 MB uploaded\r"
     }
    },
    "2df60073f7db4ca1b326789f197f6957": {
     "model_module": "@jupyter-widgets/controls",
     "model_module_version": "1.5.0",
     "model_name": "ProgressStyleModel",
     "state": {
      "_model_module": "@jupyter-widgets/controls",
      "_model_module_version": "1.5.0",
      "_model_name": "ProgressStyleModel",
      "_view_count": null,
      "_view_module": "@jupyter-widgets/base",
      "_view_module_version": "1.2.0",
      "_view_name": "StyleView",
      "bar_color": null,
      "description_width": ""
     }
    },
    "2e11c5cee43547c196f5aba03e6440cc": {
     "model_module": "@jupyter-widgets/base",
     "model_module_version": "1.2.0",
     "model_name": "LayoutModel",
     "state": {
      "_model_module": "@jupyter-widgets/base",
      "_model_module_version": "1.2.0",
      "_model_name": "LayoutModel",
      "_view_count": null,
      "_view_module": "@jupyter-widgets/base",
      "_view_module_version": "1.2.0",
      "_view_name": "LayoutView",
      "align_content": null,
      "align_items": null,
      "align_self": null,
      "border": null,
      "bottom": null,
      "display": null,
      "flex": null,
      "flex_flow": null,
      "grid_area": null,
      "grid_auto_columns": null,
      "grid_auto_flow": null,
      "grid_auto_rows": null,
      "grid_column": null,
      "grid_gap": null,
      "grid_row": null,
      "grid_template_areas": null,
      "grid_template_columns": null,
      "grid_template_rows": null,
      "height": null,
      "justify_content": null,
      "justify_items": null,
      "left": null,
      "margin": null,
      "max_height": null,
      "max_width": null,
      "min_height": null,
      "min_width": null,
      "object_fit": null,
      "object_position": null,
      "order": null,
      "overflow": null,
      "overflow_x": null,
      "overflow_y": null,
      "padding": null,
      "right": null,
      "top": null,
      "visibility": null,
      "width": null
     }
    },
    "2ed326ccc98d44e0a2a445d0ad2ba88e": {
     "model_module": "@jupyter-widgets/controls",
     "model_module_version": "1.5.0",
     "model_name": "FloatProgressModel",
     "state": {
      "_dom_classes": [],
      "_model_module": "@jupyter-widgets/controls",
      "_model_module_version": "1.5.0",
      "_model_name": "FloatProgressModel",
      "_view_count": null,
      "_view_module": "@jupyter-widgets/controls",
      "_view_module_version": "1.5.0",
      "_view_name": "ProgressView",
      "bar_style": "",
      "description": "",
      "description_tooltip": null,
      "layout": "IPY_MODEL_8135a6521e644113a4a1c32aa0f13b39",
      "max": 1,
      "min": 0,
      "orientation": "horizontal",
      "style": "IPY_MODEL_efea0e2833c549139fa8e1648ed0e249",
      "value": 1
     }
    },
    "2ed495c7a7c54ab8a0ffdf62eb327ea1": {
     "model_module": "@jupyter-widgets/controls",
     "model_module_version": "1.5.0",
     "model_name": "ProgressStyleModel",
     "state": {
      "_model_module": "@jupyter-widgets/controls",
      "_model_module_version": "1.5.0",
      "_model_name": "ProgressStyleModel",
      "_view_count": null,
      "_view_module": "@jupyter-widgets/base",
      "_view_module_version": "1.2.0",
      "_view_name": "StyleView",
      "bar_color": null,
      "description_width": ""
     }
    },
    "2ff1c9ec096842a5b96d899a62f026f7": {
     "model_module": "@jupyter-widgets/base",
     "model_module_version": "1.2.0",
     "model_name": "LayoutModel",
     "state": {
      "_model_module": "@jupyter-widgets/base",
      "_model_module_version": "1.2.0",
      "_model_name": "LayoutModel",
      "_view_count": null,
      "_view_module": "@jupyter-widgets/base",
      "_view_module_version": "1.2.0",
      "_view_name": "LayoutView",
      "align_content": null,
      "align_items": null,
      "align_self": null,
      "border": null,
      "bottom": null,
      "display": null,
      "flex": null,
      "flex_flow": null,
      "grid_area": null,
      "grid_auto_columns": null,
      "grid_auto_flow": null,
      "grid_auto_rows": null,
      "grid_column": null,
      "grid_gap": null,
      "grid_row": null,
      "grid_template_areas": null,
      "grid_template_columns": null,
      "grid_template_rows": null,
      "height": null,
      "justify_content": null,
      "justify_items": null,
      "left": null,
      "margin": null,
      "max_height": null,
      "max_width": null,
      "min_height": null,
      "min_width": null,
      "object_fit": null,
      "object_position": null,
      "order": null,
      "overflow": null,
      "overflow_x": null,
      "overflow_y": null,
      "padding": null,
      "right": null,
      "top": null,
      "visibility": null,
      "width": null
     }
    },
    "2ffd2e601ff74b70a1ac5036fd8699c5": {
     "model_module": "@jupyter-widgets/base",
     "model_module_version": "1.2.0",
     "model_name": "LayoutModel",
     "state": {
      "_model_module": "@jupyter-widgets/base",
      "_model_module_version": "1.2.0",
      "_model_name": "LayoutModel",
      "_view_count": null,
      "_view_module": "@jupyter-widgets/base",
      "_view_module_version": "1.2.0",
      "_view_name": "LayoutView",
      "align_content": null,
      "align_items": null,
      "align_self": null,
      "border": null,
      "bottom": null,
      "display": null,
      "flex": null,
      "flex_flow": null,
      "grid_area": null,
      "grid_auto_columns": null,
      "grid_auto_flow": null,
      "grid_auto_rows": null,
      "grid_column": null,
      "grid_gap": null,
      "grid_row": null,
      "grid_template_areas": null,
      "grid_template_columns": null,
      "grid_template_rows": null,
      "height": null,
      "justify_content": null,
      "justify_items": null,
      "left": null,
      "margin": null,
      "max_height": null,
      "max_width": null,
      "min_height": null,
      "min_width": null,
      "object_fit": null,
      "object_position": null,
      "order": null,
      "overflow": null,
      "overflow_x": null,
      "overflow_y": null,
      "padding": null,
      "right": null,
      "top": null,
      "visibility": null,
      "width": null
     }
    },
    "3045efdb18db4841a988bfa1db38d8e8": {
     "model_module": "@jupyter-widgets/controls",
     "model_module_version": "1.5.0",
     "model_name": "ProgressStyleModel",
     "state": {
      "_model_module": "@jupyter-widgets/controls",
      "_model_module_version": "1.5.0",
      "_model_name": "ProgressStyleModel",
      "_view_count": null,
      "_view_module": "@jupyter-widgets/base",
      "_view_module_version": "1.2.0",
      "_view_name": "StyleView",
      "bar_color": null,
      "description_width": ""
     }
    },
    "30466cdd2a844ac3b8d7c044c040880f": {
     "model_module": "@jupyter-widgets/base",
     "model_module_version": "1.2.0",
     "model_name": "LayoutModel",
     "state": {
      "_model_module": "@jupyter-widgets/base",
      "_model_module_version": "1.2.0",
      "_model_name": "LayoutModel",
      "_view_count": null,
      "_view_module": "@jupyter-widgets/base",
      "_view_module_version": "1.2.0",
      "_view_name": "LayoutView",
      "align_content": null,
      "align_items": null,
      "align_self": null,
      "border": null,
      "bottom": null,
      "display": null,
      "flex": null,
      "flex_flow": null,
      "grid_area": null,
      "grid_auto_columns": null,
      "grid_auto_flow": null,
      "grid_auto_rows": null,
      "grid_column": null,
      "grid_gap": null,
      "grid_row": null,
      "grid_template_areas": null,
      "grid_template_columns": null,
      "grid_template_rows": null,
      "height": null,
      "justify_content": null,
      "justify_items": null,
      "left": null,
      "margin": null,
      "max_height": null,
      "max_width": null,
      "min_height": null,
      "min_width": null,
      "object_fit": null,
      "object_position": null,
      "order": null,
      "overflow": null,
      "overflow_x": null,
      "overflow_y": null,
      "padding": null,
      "right": null,
      "top": null,
      "visibility": null,
      "width": null
     }
    },
    "304f9192f84745ee814dffca4eab1fed": {
     "model_module": "@jupyter-widgets/controls",
     "model_module_version": "1.5.0",
     "model_name": "LabelModel",
     "state": {
      "_dom_classes": [],
      "_model_module": "@jupyter-widgets/controls",
      "_model_module_version": "1.5.0",
      "_model_name": "LabelModel",
      "_view_count": null,
      "_view_module": "@jupyter-widgets/controls",
      "_view_module_version": "1.5.0",
      "_view_name": "LabelView",
      "description": "",
      "description_tooltip": null,
      "layout": "IPY_MODEL_c42c6fe09bd24118a62bc6b069d13f80",
      "placeholder": "​",
      "style": "IPY_MODEL_8b73fa5fa0444f55bbed637a13d0bf6d",
      "value": "0.012 MB of 0.012 MB uploaded\r"
     }
    },
    "30a887a8c540407ea956c761ba6ab747": {
     "model_module": "@jupyter-widgets/base",
     "model_module_version": "1.2.0",
     "model_name": "LayoutModel",
     "state": {
      "_model_module": "@jupyter-widgets/base",
      "_model_module_version": "1.2.0",
      "_model_name": "LayoutModel",
      "_view_count": null,
      "_view_module": "@jupyter-widgets/base",
      "_view_module_version": "1.2.0",
      "_view_name": "LayoutView",
      "align_content": null,
      "align_items": null,
      "align_self": null,
      "border": null,
      "bottom": null,
      "display": null,
      "flex": null,
      "flex_flow": null,
      "grid_area": null,
      "grid_auto_columns": null,
      "grid_auto_flow": null,
      "grid_auto_rows": null,
      "grid_column": null,
      "grid_gap": null,
      "grid_row": null,
      "grid_template_areas": null,
      "grid_template_columns": null,
      "grid_template_rows": null,
      "height": null,
      "justify_content": null,
      "justify_items": null,
      "left": null,
      "margin": null,
      "max_height": null,
      "max_width": null,
      "min_height": null,
      "min_width": null,
      "object_fit": null,
      "object_position": null,
      "order": null,
      "overflow": null,
      "overflow_x": null,
      "overflow_y": null,
      "padding": null,
      "right": null,
      "top": null,
      "visibility": null,
      "width": null
     }
    },
    "33879966d32246988c008bbc8674aa87": {
     "model_module": "@jupyter-widgets/base",
     "model_module_version": "1.2.0",
     "model_name": "LayoutModel",
     "state": {
      "_model_module": "@jupyter-widgets/base",
      "_model_module_version": "1.2.0",
      "_model_name": "LayoutModel",
      "_view_count": null,
      "_view_module": "@jupyter-widgets/base",
      "_view_module_version": "1.2.0",
      "_view_name": "LayoutView",
      "align_content": null,
      "align_items": null,
      "align_self": null,
      "border": null,
      "bottom": null,
      "display": null,
      "flex": null,
      "flex_flow": null,
      "grid_area": null,
      "grid_auto_columns": null,
      "grid_auto_flow": null,
      "grid_auto_rows": null,
      "grid_column": null,
      "grid_gap": null,
      "grid_row": null,
      "grid_template_areas": null,
      "grid_template_columns": null,
      "grid_template_rows": null,
      "height": null,
      "justify_content": null,
      "justify_items": null,
      "left": null,
      "margin": null,
      "max_height": null,
      "max_width": null,
      "min_height": null,
      "min_width": null,
      "object_fit": null,
      "object_position": null,
      "order": null,
      "overflow": null,
      "overflow_x": null,
      "overflow_y": null,
      "padding": null,
      "right": null,
      "top": null,
      "visibility": null,
      "width": null
     }
    },
    "339e42711df04a3dbca864641e1f1587": {
     "model_module": "@jupyter-widgets/base",
     "model_module_version": "1.2.0",
     "model_name": "LayoutModel",
     "state": {
      "_model_module": "@jupyter-widgets/base",
      "_model_module_version": "1.2.0",
      "_model_name": "LayoutModel",
      "_view_count": null,
      "_view_module": "@jupyter-widgets/base",
      "_view_module_version": "1.2.0",
      "_view_name": "LayoutView",
      "align_content": null,
      "align_items": null,
      "align_self": null,
      "border": null,
      "bottom": null,
      "display": null,
      "flex": null,
      "flex_flow": null,
      "grid_area": null,
      "grid_auto_columns": null,
      "grid_auto_flow": null,
      "grid_auto_rows": null,
      "grid_column": null,
      "grid_gap": null,
      "grid_row": null,
      "grid_template_areas": null,
      "grid_template_columns": null,
      "grid_template_rows": null,
      "height": null,
      "justify_content": null,
      "justify_items": null,
      "left": null,
      "margin": null,
      "max_height": null,
      "max_width": null,
      "min_height": null,
      "min_width": null,
      "object_fit": null,
      "object_position": null,
      "order": null,
      "overflow": null,
      "overflow_x": null,
      "overflow_y": null,
      "padding": null,
      "right": null,
      "top": null,
      "visibility": null,
      "width": null
     }
    },
    "340d34ea15cb43f79ca812a8aee85ff7": {
     "model_module": "@jupyter-widgets/base",
     "model_module_version": "1.2.0",
     "model_name": "LayoutModel",
     "state": {
      "_model_module": "@jupyter-widgets/base",
      "_model_module_version": "1.2.0",
      "_model_name": "LayoutModel",
      "_view_count": null,
      "_view_module": "@jupyter-widgets/base",
      "_view_module_version": "1.2.0",
      "_view_name": "LayoutView",
      "align_content": null,
      "align_items": null,
      "align_self": null,
      "border": null,
      "bottom": null,
      "display": null,
      "flex": null,
      "flex_flow": null,
      "grid_area": null,
      "grid_auto_columns": null,
      "grid_auto_flow": null,
      "grid_auto_rows": null,
      "grid_column": null,
      "grid_gap": null,
      "grid_row": null,
      "grid_template_areas": null,
      "grid_template_columns": null,
      "grid_template_rows": null,
      "height": null,
      "justify_content": null,
      "justify_items": null,
      "left": null,
      "margin": null,
      "max_height": null,
      "max_width": null,
      "min_height": null,
      "min_width": null,
      "object_fit": null,
      "object_position": null,
      "order": null,
      "overflow": null,
      "overflow_x": null,
      "overflow_y": null,
      "padding": null,
      "right": null,
      "top": null,
      "visibility": null,
      "width": null
     }
    },
    "34472ae9bc834932976c2896b2e05251": {
     "model_module": "@jupyter-widgets/controls",
     "model_module_version": "1.5.0",
     "model_name": "ProgressStyleModel",
     "state": {
      "_model_module": "@jupyter-widgets/controls",
      "_model_module_version": "1.5.0",
      "_model_name": "ProgressStyleModel",
      "_view_count": null,
      "_view_module": "@jupyter-widgets/base",
      "_view_module_version": "1.2.0",
      "_view_name": "StyleView",
      "bar_color": null,
      "description_width": ""
     }
    },
    "3526aec5225749dd8042dfcc536a6241": {
     "model_module": "@jupyter-widgets/controls",
     "model_module_version": "1.5.0",
     "model_name": "VBoxModel",
     "state": {
      "_dom_classes": [],
      "_model_module": "@jupyter-widgets/controls",
      "_model_module_version": "1.5.0",
      "_model_name": "VBoxModel",
      "_view_count": null,
      "_view_module": "@jupyter-widgets/controls",
      "_view_module_version": "1.5.0",
      "_view_name": "VBoxView",
      "box_style": "",
      "children": [
       "IPY_MODEL_856c59e8424741668b08e9edfc1f2c94",
       "IPY_MODEL_c620f71d4d0f41408a4b3458b5056d6e"
      ],
      "layout": "IPY_MODEL_d6487f4715c54c7a9f39135ac8dd2f6d"
     }
    },
    "35aef37b57f34996b0978ffda8b782a8": {
     "model_module": "@jupyter-widgets/controls",
     "model_module_version": "1.5.0",
     "model_name": "LabelModel",
     "state": {
      "_dom_classes": [],
      "_model_module": "@jupyter-widgets/controls",
      "_model_module_version": "1.5.0",
      "_model_name": "LabelModel",
      "_view_count": null,
      "_view_module": "@jupyter-widgets/controls",
      "_view_module_version": "1.5.0",
      "_view_name": "LabelView",
      "description": "",
      "description_tooltip": null,
      "layout": "IPY_MODEL_340d34ea15cb43f79ca812a8aee85ff7",
      "placeholder": "​",
      "style": "IPY_MODEL_7db8eee96805492cb919bc68bae7a6ed",
      "value": "0.012 MB of 0.012 MB uploaded\r"
     }
    },
    "36e617ad6b2c4457956656d27a1284a3": {
     "model_module": "@jupyter-widgets/base",
     "model_module_version": "1.2.0",
     "model_name": "LayoutModel",
     "state": {
      "_model_module": "@jupyter-widgets/base",
      "_model_module_version": "1.2.0",
      "_model_name": "LayoutModel",
      "_view_count": null,
      "_view_module": "@jupyter-widgets/base",
      "_view_module_version": "1.2.0",
      "_view_name": "LayoutView",
      "align_content": null,
      "align_items": null,
      "align_self": null,
      "border": null,
      "bottom": null,
      "display": null,
      "flex": null,
      "flex_flow": null,
      "grid_area": null,
      "grid_auto_columns": null,
      "grid_auto_flow": null,
      "grid_auto_rows": null,
      "grid_column": null,
      "grid_gap": null,
      "grid_row": null,
      "grid_template_areas": null,
      "grid_template_columns": null,
      "grid_template_rows": null,
      "height": null,
      "justify_content": null,
      "justify_items": null,
      "left": null,
      "margin": null,
      "max_height": null,
      "max_width": null,
      "min_height": null,
      "min_width": null,
      "object_fit": null,
      "object_position": null,
      "order": null,
      "overflow": null,
      "overflow_x": null,
      "overflow_y": null,
      "padding": null,
      "right": null,
      "top": null,
      "visibility": null,
      "width": null
     }
    },
    "37114f46da3847739fae590ed40aea12": {
     "model_module": "@jupyter-widgets/controls",
     "model_module_version": "1.5.0",
     "model_name": "FloatProgressModel",
     "state": {
      "_dom_classes": [],
      "_model_module": "@jupyter-widgets/controls",
      "_model_module_version": "1.5.0",
      "_model_name": "FloatProgressModel",
      "_view_count": null,
      "_view_module": "@jupyter-widgets/controls",
      "_view_module_version": "1.5.0",
      "_view_name": "ProgressView",
      "bar_style": "",
      "description": "",
      "description_tooltip": null,
      "layout": "IPY_MODEL_2c046926c94040f0bfded90830c0391c",
      "max": 1,
      "min": 0,
      "orientation": "horizontal",
      "style": "IPY_MODEL_6c73d7ad43ae4ce09f451c43643ab08f",
      "value": 1
     }
    },
    "372aef90a60d4697aee32728c4db9107": {
     "model_module": "@jupyter-widgets/controls",
     "model_module_version": "1.5.0",
     "model_name": "LabelModel",
     "state": {
      "_dom_classes": [],
      "_model_module": "@jupyter-widgets/controls",
      "_model_module_version": "1.5.0",
      "_model_name": "LabelModel",
      "_view_count": null,
      "_view_module": "@jupyter-widgets/controls",
      "_view_module_version": "1.5.0",
      "_view_name": "LabelView",
      "description": "",
      "description_tooltip": null,
      "layout": "IPY_MODEL_055edbde7ade4d159449379f599829e4",
      "placeholder": "​",
      "style": "IPY_MODEL_dcc29847c76d45e18e7f7fcb8136c7e9",
      "value": "0.012 MB of 0.012 MB uploaded\r"
     }
    },
    "3768a7369f0e48b8acfaf2becb15fe10": {
     "model_module": "@jupyter-widgets/base",
     "model_module_version": "1.2.0",
     "model_name": "LayoutModel",
     "state": {
      "_model_module": "@jupyter-widgets/base",
      "_model_module_version": "1.2.0",
      "_model_name": "LayoutModel",
      "_view_count": null,
      "_view_module": "@jupyter-widgets/base",
      "_view_module_version": "1.2.0",
      "_view_name": "LayoutView",
      "align_content": null,
      "align_items": null,
      "align_self": null,
      "border": null,
      "bottom": null,
      "display": null,
      "flex": null,
      "flex_flow": null,
      "grid_area": null,
      "grid_auto_columns": null,
      "grid_auto_flow": null,
      "grid_auto_rows": null,
      "grid_column": null,
      "grid_gap": null,
      "grid_row": null,
      "grid_template_areas": null,
      "grid_template_columns": null,
      "grid_template_rows": null,
      "height": null,
      "justify_content": null,
      "justify_items": null,
      "left": null,
      "margin": null,
      "max_height": null,
      "max_width": null,
      "min_height": null,
      "min_width": null,
      "object_fit": null,
      "object_position": null,
      "order": null,
      "overflow": null,
      "overflow_x": null,
      "overflow_y": null,
      "padding": null,
      "right": null,
      "top": null,
      "visibility": null,
      "width": null
     }
    },
    "3847f4bf9ed449a8bde921e18078b4cc": {
     "model_module": "@jupyter-widgets/controls",
     "model_module_version": "1.5.0",
     "model_name": "ProgressStyleModel",
     "state": {
      "_model_module": "@jupyter-widgets/controls",
      "_model_module_version": "1.5.0",
      "_model_name": "ProgressStyleModel",
      "_view_count": null,
      "_view_module": "@jupyter-widgets/base",
      "_view_module_version": "1.2.0",
      "_view_name": "StyleView",
      "bar_color": null,
      "description_width": ""
     }
    },
    "39103856d3094124bcde8f29be7a346e": {
     "model_module": "@jupyter-widgets/base",
     "model_module_version": "1.2.0",
     "model_name": "LayoutModel",
     "state": {
      "_model_module": "@jupyter-widgets/base",
      "_model_module_version": "1.2.0",
      "_model_name": "LayoutModel",
      "_view_count": null,
      "_view_module": "@jupyter-widgets/base",
      "_view_module_version": "1.2.0",
      "_view_name": "LayoutView",
      "align_content": null,
      "align_items": null,
      "align_self": null,
      "border": null,
      "bottom": null,
      "display": null,
      "flex": null,
      "flex_flow": null,
      "grid_area": null,
      "grid_auto_columns": null,
      "grid_auto_flow": null,
      "grid_auto_rows": null,
      "grid_column": null,
      "grid_gap": null,
      "grid_row": null,
      "grid_template_areas": null,
      "grid_template_columns": null,
      "grid_template_rows": null,
      "height": null,
      "justify_content": null,
      "justify_items": null,
      "left": null,
      "margin": null,
      "max_height": null,
      "max_width": null,
      "min_height": null,
      "min_width": null,
      "object_fit": null,
      "object_position": null,
      "order": null,
      "overflow": null,
      "overflow_x": null,
      "overflow_y": null,
      "padding": null,
      "right": null,
      "top": null,
      "visibility": null,
      "width": null
     }
    },
    "3a87104ca89146d19d705206193e4610": {
     "model_module": "@jupyter-widgets/base",
     "model_module_version": "1.2.0",
     "model_name": "LayoutModel",
     "state": {
      "_model_module": "@jupyter-widgets/base",
      "_model_module_version": "1.2.0",
      "_model_name": "LayoutModel",
      "_view_count": null,
      "_view_module": "@jupyter-widgets/base",
      "_view_module_version": "1.2.0",
      "_view_name": "LayoutView",
      "align_content": null,
      "align_items": null,
      "align_self": null,
      "border": null,
      "bottom": null,
      "display": null,
      "flex": null,
      "flex_flow": null,
      "grid_area": null,
      "grid_auto_columns": null,
      "grid_auto_flow": null,
      "grid_auto_rows": null,
      "grid_column": null,
      "grid_gap": null,
      "grid_row": null,
      "grid_template_areas": null,
      "grid_template_columns": null,
      "grid_template_rows": null,
      "height": null,
      "justify_content": null,
      "justify_items": null,
      "left": null,
      "margin": null,
      "max_height": null,
      "max_width": null,
      "min_height": null,
      "min_width": null,
      "object_fit": null,
      "object_position": null,
      "order": null,
      "overflow": null,
      "overflow_x": null,
      "overflow_y": null,
      "padding": null,
      "right": null,
      "top": null,
      "visibility": null,
      "width": null
     }
    },
    "3bd69e533f484fca895648fa8ce1dc07": {
     "model_module": "@jupyter-widgets/controls",
     "model_module_version": "1.5.0",
     "model_name": "ProgressStyleModel",
     "state": {
      "_model_module": "@jupyter-widgets/controls",
      "_model_module_version": "1.5.0",
      "_model_name": "ProgressStyleModel",
      "_view_count": null,
      "_view_module": "@jupyter-widgets/base",
      "_view_module_version": "1.2.0",
      "_view_name": "StyleView",
      "bar_color": null,
      "description_width": ""
     }
    },
    "3c5bd2a8a0e54e88bb10fa4d464645f8": {
     "model_module": "@jupyter-widgets/controls",
     "model_module_version": "1.5.0",
     "model_name": "LabelModel",
     "state": {
      "_dom_classes": [],
      "_model_module": "@jupyter-widgets/controls",
      "_model_module_version": "1.5.0",
      "_model_name": "LabelModel",
      "_view_count": null,
      "_view_module": "@jupyter-widgets/controls",
      "_view_module_version": "1.5.0",
      "_view_name": "LabelView",
      "description": "",
      "description_tooltip": null,
      "layout": "IPY_MODEL_f21b63ef45454bbd892904962a1ded1c",
      "placeholder": "​",
      "style": "IPY_MODEL_101e3ae08e384b9ab709e4254783812d",
      "value": "0.012 MB of 0.012 MB uploaded\r"
     }
    },
    "3cedf5bedca0414bbe63d7d2efd1508e": {
     "model_module": "@jupyter-widgets/controls",
     "model_module_version": "1.5.0",
     "model_name": "FloatProgressModel",
     "state": {
      "_dom_classes": [],
      "_model_module": "@jupyter-widgets/controls",
      "_model_module_version": "1.5.0",
      "_model_name": "FloatProgressModel",
      "_view_count": null,
      "_view_module": "@jupyter-widgets/controls",
      "_view_module_version": "1.5.0",
      "_view_name": "ProgressView",
      "bar_style": "",
      "description": "",
      "description_tooltip": null,
      "layout": "IPY_MODEL_5ae66d90c1f34696a8a3d8add02b7d75",
      "max": 1,
      "min": 0,
      "orientation": "horizontal",
      "style": "IPY_MODEL_34472ae9bc834932976c2896b2e05251",
      "value": 1
     }
    },
    "3d18121ea6374a268df30735450e04fd": {
     "model_module": "@jupyter-widgets/base",
     "model_module_version": "1.2.0",
     "model_name": "LayoutModel",
     "state": {
      "_model_module": "@jupyter-widgets/base",
      "_model_module_version": "1.2.0",
      "_model_name": "LayoutModel",
      "_view_count": null,
      "_view_module": "@jupyter-widgets/base",
      "_view_module_version": "1.2.0",
      "_view_name": "LayoutView",
      "align_content": null,
      "align_items": null,
      "align_self": null,
      "border": null,
      "bottom": null,
      "display": null,
      "flex": null,
      "flex_flow": null,
      "grid_area": null,
      "grid_auto_columns": null,
      "grid_auto_flow": null,
      "grid_auto_rows": null,
      "grid_column": null,
      "grid_gap": null,
      "grid_row": null,
      "grid_template_areas": null,
      "grid_template_columns": null,
      "grid_template_rows": null,
      "height": null,
      "justify_content": null,
      "justify_items": null,
      "left": null,
      "margin": null,
      "max_height": null,
      "max_width": null,
      "min_height": null,
      "min_width": null,
      "object_fit": null,
      "object_position": null,
      "order": null,
      "overflow": null,
      "overflow_x": null,
      "overflow_y": null,
      "padding": null,
      "right": null,
      "top": null,
      "visibility": null,
      "width": null
     }
    },
    "3d3a933863114a68bf0a1ac7baeb7d75": {
     "model_module": "@jupyter-widgets/controls",
     "model_module_version": "1.5.0",
     "model_name": "VBoxModel",
     "state": {
      "_dom_classes": [],
      "_model_module": "@jupyter-widgets/controls",
      "_model_module_version": "1.5.0",
      "_model_name": "VBoxModel",
      "_view_count": null,
      "_view_module": "@jupyter-widgets/controls",
      "_view_module_version": "1.5.0",
      "_view_name": "VBoxView",
      "box_style": "",
      "children": [
       "IPY_MODEL_2d68f19800544cd3ab0b922b0ef7a9d4",
       "IPY_MODEL_ee52e76d2f9049f6adcdf301792090e2"
      ],
      "layout": "IPY_MODEL_0adb3a250bc24f06a2d89ea7782db9f0"
     }
    },
    "3f49338348f64e4f917dbe3c24190997": {
     "model_module": "@jupyter-widgets/base",
     "model_module_version": "1.2.0",
     "model_name": "LayoutModel",
     "state": {
      "_model_module": "@jupyter-widgets/base",
      "_model_module_version": "1.2.0",
      "_model_name": "LayoutModel",
      "_view_count": null,
      "_view_module": "@jupyter-widgets/base",
      "_view_module_version": "1.2.0",
      "_view_name": "LayoutView",
      "align_content": null,
      "align_items": null,
      "align_self": null,
      "border": null,
      "bottom": null,
      "display": null,
      "flex": null,
      "flex_flow": null,
      "grid_area": null,
      "grid_auto_columns": null,
      "grid_auto_flow": null,
      "grid_auto_rows": null,
      "grid_column": null,
      "grid_gap": null,
      "grid_row": null,
      "grid_template_areas": null,
      "grid_template_columns": null,
      "grid_template_rows": null,
      "height": null,
      "justify_content": null,
      "justify_items": null,
      "left": null,
      "margin": null,
      "max_height": null,
      "max_width": null,
      "min_height": null,
      "min_width": null,
      "object_fit": null,
      "object_position": null,
      "order": null,
      "overflow": null,
      "overflow_x": null,
      "overflow_y": null,
      "padding": null,
      "right": null,
      "top": null,
      "visibility": null,
      "width": null
     }
    },
    "400032efd02c4b36bfb8426ec40c5316": {
     "model_module": "@jupyter-widgets/base",
     "model_module_version": "1.2.0",
     "model_name": "LayoutModel",
     "state": {
      "_model_module": "@jupyter-widgets/base",
      "_model_module_version": "1.2.0",
      "_model_name": "LayoutModel",
      "_view_count": null,
      "_view_module": "@jupyter-widgets/base",
      "_view_module_version": "1.2.0",
      "_view_name": "LayoutView",
      "align_content": null,
      "align_items": null,
      "align_self": null,
      "border": null,
      "bottom": null,
      "display": null,
      "flex": null,
      "flex_flow": null,
      "grid_area": null,
      "grid_auto_columns": null,
      "grid_auto_flow": null,
      "grid_auto_rows": null,
      "grid_column": null,
      "grid_gap": null,
      "grid_row": null,
      "grid_template_areas": null,
      "grid_template_columns": null,
      "grid_template_rows": null,
      "height": null,
      "justify_content": null,
      "justify_items": null,
      "left": null,
      "margin": null,
      "max_height": null,
      "max_width": null,
      "min_height": null,
      "min_width": null,
      "object_fit": null,
      "object_position": null,
      "order": null,
      "overflow": null,
      "overflow_x": null,
      "overflow_y": null,
      "padding": null,
      "right": null,
      "top": null,
      "visibility": null,
      "width": null
     }
    },
    "40ce6d02f334404aa437f3d521ae09fc": {
     "model_module": "@jupyter-widgets/base",
     "model_module_version": "1.2.0",
     "model_name": "LayoutModel",
     "state": {
      "_model_module": "@jupyter-widgets/base",
      "_model_module_version": "1.2.0",
      "_model_name": "LayoutModel",
      "_view_count": null,
      "_view_module": "@jupyter-widgets/base",
      "_view_module_version": "1.2.0",
      "_view_name": "LayoutView",
      "align_content": null,
      "align_items": null,
      "align_self": null,
      "border": null,
      "bottom": null,
      "display": null,
      "flex": null,
      "flex_flow": null,
      "grid_area": null,
      "grid_auto_columns": null,
      "grid_auto_flow": null,
      "grid_auto_rows": null,
      "grid_column": null,
      "grid_gap": null,
      "grid_row": null,
      "grid_template_areas": null,
      "grid_template_columns": null,
      "grid_template_rows": null,
      "height": null,
      "justify_content": null,
      "justify_items": null,
      "left": null,
      "margin": null,
      "max_height": null,
      "max_width": null,
      "min_height": null,
      "min_width": null,
      "object_fit": null,
      "object_position": null,
      "order": null,
      "overflow": null,
      "overflow_x": null,
      "overflow_y": null,
      "padding": null,
      "right": null,
      "top": null,
      "visibility": null,
      "width": null
     }
    },
    "420f1a7f96c24914b7c0e91c4f891df2": {
     "model_module": "@jupyter-widgets/controls",
     "model_module_version": "1.5.0",
     "model_name": "VBoxModel",
     "state": {
      "_dom_classes": [],
      "_model_module": "@jupyter-widgets/controls",
      "_model_module_version": "1.5.0",
      "_model_name": "VBoxModel",
      "_view_count": null,
      "_view_module": "@jupyter-widgets/controls",
      "_view_module_version": "1.5.0",
      "_view_name": "VBoxView",
      "box_style": "",
      "children": [
       "IPY_MODEL_551c4d3b23784fc4aa0b838139453822",
       "IPY_MODEL_5677fbfd6f894134852dcdbbe5f1c072"
      ],
      "layout": "IPY_MODEL_30466cdd2a844ac3b8d7c044c040880f"
     }
    },
    "4688bdfd68ca45c2b079c04ddc010c5c": {
     "model_module": "@jupyter-widgets/base",
     "model_module_version": "1.2.0",
     "model_name": "LayoutModel",
     "state": {
      "_model_module": "@jupyter-widgets/base",
      "_model_module_version": "1.2.0",
      "_model_name": "LayoutModel",
      "_view_count": null,
      "_view_module": "@jupyter-widgets/base",
      "_view_module_version": "1.2.0",
      "_view_name": "LayoutView",
      "align_content": null,
      "align_items": null,
      "align_self": null,
      "border": null,
      "bottom": null,
      "display": null,
      "flex": null,
      "flex_flow": null,
      "grid_area": null,
      "grid_auto_columns": null,
      "grid_auto_flow": null,
      "grid_auto_rows": null,
      "grid_column": null,
      "grid_gap": null,
      "grid_row": null,
      "grid_template_areas": null,
      "grid_template_columns": null,
      "grid_template_rows": null,
      "height": null,
      "justify_content": null,
      "justify_items": null,
      "left": null,
      "margin": null,
      "max_height": null,
      "max_width": null,
      "min_height": null,
      "min_width": null,
      "object_fit": null,
      "object_position": null,
      "order": null,
      "overflow": null,
      "overflow_x": null,
      "overflow_y": null,
      "padding": null,
      "right": null,
      "top": null,
      "visibility": null,
      "width": null
     }
    },
    "469f65f262754dbeb502a6c2fc5eb644": {
     "model_module": "@jupyter-widgets/base",
     "model_module_version": "1.2.0",
     "model_name": "LayoutModel",
     "state": {
      "_model_module": "@jupyter-widgets/base",
      "_model_module_version": "1.2.0",
      "_model_name": "LayoutModel",
      "_view_count": null,
      "_view_module": "@jupyter-widgets/base",
      "_view_module_version": "1.2.0",
      "_view_name": "LayoutView",
      "align_content": null,
      "align_items": null,
      "align_self": null,
      "border": null,
      "bottom": null,
      "display": null,
      "flex": null,
      "flex_flow": null,
      "grid_area": null,
      "grid_auto_columns": null,
      "grid_auto_flow": null,
      "grid_auto_rows": null,
      "grid_column": null,
      "grid_gap": null,
      "grid_row": null,
      "grid_template_areas": null,
      "grid_template_columns": null,
      "grid_template_rows": null,
      "height": null,
      "justify_content": null,
      "justify_items": null,
      "left": null,
      "margin": null,
      "max_height": null,
      "max_width": null,
      "min_height": null,
      "min_width": null,
      "object_fit": null,
      "object_position": null,
      "order": null,
      "overflow": null,
      "overflow_x": null,
      "overflow_y": null,
      "padding": null,
      "right": null,
      "top": null,
      "visibility": null,
      "width": null
     }
    },
    "46cb446a60f748aaaf53e45c320f198a": {
     "model_module": "@jupyter-widgets/controls",
     "model_module_version": "1.5.0",
     "model_name": "ProgressStyleModel",
     "state": {
      "_model_module": "@jupyter-widgets/controls",
      "_model_module_version": "1.5.0",
      "_model_name": "ProgressStyleModel",
      "_view_count": null,
      "_view_module": "@jupyter-widgets/base",
      "_view_module_version": "1.2.0",
      "_view_name": "StyleView",
      "bar_color": null,
      "description_width": ""
     }
    },
    "47d166d525874057b65e264d26b2e28e": {
     "model_module": "@jupyter-widgets/controls",
     "model_module_version": "1.5.0",
     "model_name": "FloatProgressModel",
     "state": {
      "_dom_classes": [],
      "_model_module": "@jupyter-widgets/controls",
      "_model_module_version": "1.5.0",
      "_model_name": "FloatProgressModel",
      "_view_count": null,
      "_view_module": "@jupyter-widgets/controls",
      "_view_module_version": "1.5.0",
      "_view_name": "ProgressView",
      "bar_style": "",
      "description": "",
      "description_tooltip": null,
      "layout": "IPY_MODEL_706c057827894e398fc861509961ecab",
      "max": 1,
      "min": 0,
      "orientation": "horizontal",
      "style": "IPY_MODEL_d41cabb04d5b48f4a50a5be0187f02d1",
      "value": 1
     }
    },
    "47e76e5237d4422c81b102c1d6d58523": {
     "model_module": "@jupyter-widgets/controls",
     "model_module_version": "1.5.0",
     "model_name": "LabelModel",
     "state": {
      "_dom_classes": [],
      "_model_module": "@jupyter-widgets/controls",
      "_model_module_version": "1.5.0",
      "_model_name": "LabelModel",
      "_view_count": null,
      "_view_module": "@jupyter-widgets/controls",
      "_view_module_version": "1.5.0",
      "_view_name": "LabelView",
      "description": "",
      "description_tooltip": null,
      "layout": "IPY_MODEL_0929443b9089410ba16ed0ff6830a6e7",
      "placeholder": "​",
      "style": "IPY_MODEL_c16cb3f1190d4ef59a461efc76ab213f",
      "value": "0.012 MB of 0.012 MB uploaded\r"
     }
    },
    "4c6b31e52818467597af9d26c349307b": {
     "model_module": "@jupyter-widgets/base",
     "model_module_version": "1.2.0",
     "model_name": "LayoutModel",
     "state": {
      "_model_module": "@jupyter-widgets/base",
      "_model_module_version": "1.2.0",
      "_model_name": "LayoutModel",
      "_view_count": null,
      "_view_module": "@jupyter-widgets/base",
      "_view_module_version": "1.2.0",
      "_view_name": "LayoutView",
      "align_content": null,
      "align_items": null,
      "align_self": null,
      "border": null,
      "bottom": null,
      "display": null,
      "flex": null,
      "flex_flow": null,
      "grid_area": null,
      "grid_auto_columns": null,
      "grid_auto_flow": null,
      "grid_auto_rows": null,
      "grid_column": null,
      "grid_gap": null,
      "grid_row": null,
      "grid_template_areas": null,
      "grid_template_columns": null,
      "grid_template_rows": null,
      "height": null,
      "justify_content": null,
      "justify_items": null,
      "left": null,
      "margin": null,
      "max_height": null,
      "max_width": null,
      "min_height": null,
      "min_width": null,
      "object_fit": null,
      "object_position": null,
      "order": null,
      "overflow": null,
      "overflow_x": null,
      "overflow_y": null,
      "padding": null,
      "right": null,
      "top": null,
      "visibility": null,
      "width": null
     }
    },
    "4d67e137bd7e4e0b92fa26a021e6be92": {
     "model_module": "@jupyter-widgets/base",
     "model_module_version": "1.2.0",
     "model_name": "LayoutModel",
     "state": {
      "_model_module": "@jupyter-widgets/base",
      "_model_module_version": "1.2.0",
      "_model_name": "LayoutModel",
      "_view_count": null,
      "_view_module": "@jupyter-widgets/base",
      "_view_module_version": "1.2.0",
      "_view_name": "LayoutView",
      "align_content": null,
      "align_items": null,
      "align_self": null,
      "border": null,
      "bottom": null,
      "display": null,
      "flex": null,
      "flex_flow": null,
      "grid_area": null,
      "grid_auto_columns": null,
      "grid_auto_flow": null,
      "grid_auto_rows": null,
      "grid_column": null,
      "grid_gap": null,
      "grid_row": null,
      "grid_template_areas": null,
      "grid_template_columns": null,
      "grid_template_rows": null,
      "height": null,
      "justify_content": null,
      "justify_items": null,
      "left": null,
      "margin": null,
      "max_height": null,
      "max_width": null,
      "min_height": null,
      "min_width": null,
      "object_fit": null,
      "object_position": null,
      "order": null,
      "overflow": null,
      "overflow_x": null,
      "overflow_y": null,
      "padding": null,
      "right": null,
      "top": null,
      "visibility": null,
      "width": null
     }
    },
    "4e5b8941712945bdb8ded5b7f5f82cb8": {
     "model_module": "@jupyter-widgets/controls",
     "model_module_version": "1.5.0",
     "model_name": "DescriptionStyleModel",
     "state": {
      "_model_module": "@jupyter-widgets/controls",
      "_model_module_version": "1.5.0",
      "_model_name": "DescriptionStyleModel",
      "_view_count": null,
      "_view_module": "@jupyter-widgets/base",
      "_view_module_version": "1.2.0",
      "_view_name": "StyleView",
      "description_width": ""
     }
    },
    "4e94602d385f48bcabefb0e727f2b856": {
     "model_module": "@jupyter-widgets/base",
     "model_module_version": "1.2.0",
     "model_name": "LayoutModel",
     "state": {
      "_model_module": "@jupyter-widgets/base",
      "_model_module_version": "1.2.0",
      "_model_name": "LayoutModel",
      "_view_count": null,
      "_view_module": "@jupyter-widgets/base",
      "_view_module_version": "1.2.0",
      "_view_name": "LayoutView",
      "align_content": null,
      "align_items": null,
      "align_self": null,
      "border": null,
      "bottom": null,
      "display": null,
      "flex": null,
      "flex_flow": null,
      "grid_area": null,
      "grid_auto_columns": null,
      "grid_auto_flow": null,
      "grid_auto_rows": null,
      "grid_column": null,
      "grid_gap": null,
      "grid_row": null,
      "grid_template_areas": null,
      "grid_template_columns": null,
      "grid_template_rows": null,
      "height": null,
      "justify_content": null,
      "justify_items": null,
      "left": null,
      "margin": null,
      "max_height": null,
      "max_width": null,
      "min_height": null,
      "min_width": null,
      "object_fit": null,
      "object_position": null,
      "order": null,
      "overflow": null,
      "overflow_x": null,
      "overflow_y": null,
      "padding": null,
      "right": null,
      "top": null,
      "visibility": null,
      "width": null
     }
    },
    "4f16393194ee4fa49cd6f00ab5317baf": {
     "model_module": "@jupyter-widgets/base",
     "model_module_version": "1.2.0",
     "model_name": "LayoutModel",
     "state": {
      "_model_module": "@jupyter-widgets/base",
      "_model_module_version": "1.2.0",
      "_model_name": "LayoutModel",
      "_view_count": null,
      "_view_module": "@jupyter-widgets/base",
      "_view_module_version": "1.2.0",
      "_view_name": "LayoutView",
      "align_content": null,
      "align_items": null,
      "align_self": null,
      "border": null,
      "bottom": null,
      "display": null,
      "flex": null,
      "flex_flow": null,
      "grid_area": null,
      "grid_auto_columns": null,
      "grid_auto_flow": null,
      "grid_auto_rows": null,
      "grid_column": null,
      "grid_gap": null,
      "grid_row": null,
      "grid_template_areas": null,
      "grid_template_columns": null,
      "grid_template_rows": null,
      "height": null,
      "justify_content": null,
      "justify_items": null,
      "left": null,
      "margin": null,
      "max_height": null,
      "max_width": null,
      "min_height": null,
      "min_width": null,
      "object_fit": null,
      "object_position": null,
      "order": null,
      "overflow": null,
      "overflow_x": null,
      "overflow_y": null,
      "padding": null,
      "right": null,
      "top": null,
      "visibility": null,
      "width": null
     }
    },
    "4f17dcf5a37047b48e812a75ef5fc77e": {
     "model_module": "@jupyter-widgets/controls",
     "model_module_version": "1.5.0",
     "model_name": "ProgressStyleModel",
     "state": {
      "_model_module": "@jupyter-widgets/controls",
      "_model_module_version": "1.5.0",
      "_model_name": "ProgressStyleModel",
      "_view_count": null,
      "_view_module": "@jupyter-widgets/base",
      "_view_module_version": "1.2.0",
      "_view_name": "StyleView",
      "bar_color": null,
      "description_width": ""
     }
    },
    "4f181b94f2ff404eb8c8a8fdb706c74e": {
     "model_module": "@jupyter-widgets/base",
     "model_module_version": "1.2.0",
     "model_name": "LayoutModel",
     "state": {
      "_model_module": "@jupyter-widgets/base",
      "_model_module_version": "1.2.0",
      "_model_name": "LayoutModel",
      "_view_count": null,
      "_view_module": "@jupyter-widgets/base",
      "_view_module_version": "1.2.0",
      "_view_name": "LayoutView",
      "align_content": null,
      "align_items": null,
      "align_self": null,
      "border": null,
      "bottom": null,
      "display": null,
      "flex": null,
      "flex_flow": null,
      "grid_area": null,
      "grid_auto_columns": null,
      "grid_auto_flow": null,
      "grid_auto_rows": null,
      "grid_column": null,
      "grid_gap": null,
      "grid_row": null,
      "grid_template_areas": null,
      "grid_template_columns": null,
      "grid_template_rows": null,
      "height": null,
      "justify_content": null,
      "justify_items": null,
      "left": null,
      "margin": null,
      "max_height": null,
      "max_width": null,
      "min_height": null,
      "min_width": null,
      "object_fit": null,
      "object_position": null,
      "order": null,
      "overflow": null,
      "overflow_x": null,
      "overflow_y": null,
      "padding": null,
      "right": null,
      "top": null,
      "visibility": null,
      "width": null
     }
    },
    "505c91a410a0485dbc2a2e85864f2242": {
     "model_module": "@jupyter-widgets/base",
     "model_module_version": "1.2.0",
     "model_name": "LayoutModel",
     "state": {
      "_model_module": "@jupyter-widgets/base",
      "_model_module_version": "1.2.0",
      "_model_name": "LayoutModel",
      "_view_count": null,
      "_view_module": "@jupyter-widgets/base",
      "_view_module_version": "1.2.0",
      "_view_name": "LayoutView",
      "align_content": null,
      "align_items": null,
      "align_self": null,
      "border": null,
      "bottom": null,
      "display": null,
      "flex": null,
      "flex_flow": null,
      "grid_area": null,
      "grid_auto_columns": null,
      "grid_auto_flow": null,
      "grid_auto_rows": null,
      "grid_column": null,
      "grid_gap": null,
      "grid_row": null,
      "grid_template_areas": null,
      "grid_template_columns": null,
      "grid_template_rows": null,
      "height": null,
      "justify_content": null,
      "justify_items": null,
      "left": null,
      "margin": null,
      "max_height": null,
      "max_width": null,
      "min_height": null,
      "min_width": null,
      "object_fit": null,
      "object_position": null,
      "order": null,
      "overflow": null,
      "overflow_x": null,
      "overflow_y": null,
      "padding": null,
      "right": null,
      "top": null,
      "visibility": null,
      "width": null
     }
    },
    "5118bae1cdcf4ef790e310b79379069a": {
     "model_module": "@jupyter-widgets/controls",
     "model_module_version": "1.5.0",
     "model_name": "ProgressStyleModel",
     "state": {
      "_model_module": "@jupyter-widgets/controls",
      "_model_module_version": "1.5.0",
      "_model_name": "ProgressStyleModel",
      "_view_count": null,
      "_view_module": "@jupyter-widgets/base",
      "_view_module_version": "1.2.0",
      "_view_name": "StyleView",
      "bar_color": null,
      "description_width": ""
     }
    },
    "511e2c8676f14d7bb936901a1a08d91c": {
     "model_module": "@jupyter-widgets/controls",
     "model_module_version": "1.5.0",
     "model_name": "DescriptionStyleModel",
     "state": {
      "_model_module": "@jupyter-widgets/controls",
      "_model_module_version": "1.5.0",
      "_model_name": "DescriptionStyleModel",
      "_view_count": null,
      "_view_module": "@jupyter-widgets/base",
      "_view_module_version": "1.2.0",
      "_view_name": "StyleView",
      "description_width": ""
     }
    },
    "516b24fa5a9049df9904a67a5c4ab168": {
     "model_module": "@jupyter-widgets/controls",
     "model_module_version": "1.5.0",
     "model_name": "FloatProgressModel",
     "state": {
      "_dom_classes": [],
      "_model_module": "@jupyter-widgets/controls",
      "_model_module_version": "1.5.0",
      "_model_name": "FloatProgressModel",
      "_view_count": null,
      "_view_module": "@jupyter-widgets/controls",
      "_view_module_version": "1.5.0",
      "_view_name": "ProgressView",
      "bar_style": "",
      "description": "",
      "description_tooltip": null,
      "layout": "IPY_MODEL_ceb471dd4ab44feb91e9fe7bf859d82e",
      "max": 1,
      "min": 0,
      "orientation": "horizontal",
      "style": "IPY_MODEL_5118bae1cdcf4ef790e310b79379069a",
      "value": 1
     }
    },
    "51b5f8b6d8c24f58ac3296acb39de9ec": {
     "model_module": "@jupyter-widgets/controls",
     "model_module_version": "1.5.0",
     "model_name": "DescriptionStyleModel",
     "state": {
      "_model_module": "@jupyter-widgets/controls",
      "_model_module_version": "1.5.0",
      "_model_name": "DescriptionStyleModel",
      "_view_count": null,
      "_view_module": "@jupyter-widgets/base",
      "_view_module_version": "1.2.0",
      "_view_name": "StyleView",
      "description_width": ""
     }
    },
    "52b3c07ae0bb4ac9a4af66dee6a6b842": {
     "model_module": "@jupyter-widgets/controls",
     "model_module_version": "1.5.0",
     "model_name": "LabelModel",
     "state": {
      "_dom_classes": [],
      "_model_module": "@jupyter-widgets/controls",
      "_model_module_version": "1.5.0",
      "_model_name": "LabelModel",
      "_view_count": null,
      "_view_module": "@jupyter-widgets/controls",
      "_view_module_version": "1.5.0",
      "_view_name": "LabelView",
      "description": "",
      "description_tooltip": null,
      "layout": "IPY_MODEL_b0fa15b8563544558f58710ff3c82590",
      "placeholder": "​",
      "style": "IPY_MODEL_b4f784aa36194ef68c01e58b11d6f9e5",
      "value": "0.011 MB of 0.011 MB uploaded\r"
     }
    },
    "5313ced4ee41471db4561011e8bf172f": {
     "model_module": "@jupyter-widgets/controls",
     "model_module_version": "1.5.0",
     "model_name": "DescriptionStyleModel",
     "state": {
      "_model_module": "@jupyter-widgets/controls",
      "_model_module_version": "1.5.0",
      "_model_name": "DescriptionStyleModel",
      "_view_count": null,
      "_view_module": "@jupyter-widgets/base",
      "_view_module_version": "1.2.0",
      "_view_name": "StyleView",
      "description_width": ""
     }
    },
    "53a8af38536f4a718ebb050d8cfd0e82": {
     "model_module": "@jupyter-widgets/controls",
     "model_module_version": "1.5.0",
     "model_name": "VBoxModel",
     "state": {
      "_dom_classes": [],
      "_model_module": "@jupyter-widgets/controls",
      "_model_module_version": "1.5.0",
      "_model_name": "VBoxModel",
      "_view_count": null,
      "_view_module": "@jupyter-widgets/controls",
      "_view_module_version": "1.5.0",
      "_view_name": "VBoxView",
      "box_style": "",
      "children": [
       "IPY_MODEL_9c0175399eac4bb09d63c1e4a0fe4606",
       "IPY_MODEL_e2d2fe5eb377404c90239f2b86542da1"
      ],
      "layout": "IPY_MODEL_c68ca0916cdb4d758041ad06083b3e07"
     }
    },
    "543675083c124817b435afe12ff95fea": {
     "model_module": "@jupyter-widgets/base",
     "model_module_version": "1.2.0",
     "model_name": "LayoutModel",
     "state": {
      "_model_module": "@jupyter-widgets/base",
      "_model_module_version": "1.2.0",
      "_model_name": "LayoutModel",
      "_view_count": null,
      "_view_module": "@jupyter-widgets/base",
      "_view_module_version": "1.2.0",
      "_view_name": "LayoutView",
      "align_content": null,
      "align_items": null,
      "align_self": null,
      "border": null,
      "bottom": null,
      "display": null,
      "flex": null,
      "flex_flow": null,
      "grid_area": null,
      "grid_auto_columns": null,
      "grid_auto_flow": null,
      "grid_auto_rows": null,
      "grid_column": null,
      "grid_gap": null,
      "grid_row": null,
      "grid_template_areas": null,
      "grid_template_columns": null,
      "grid_template_rows": null,
      "height": null,
      "justify_content": null,
      "justify_items": null,
      "left": null,
      "margin": null,
      "max_height": null,
      "max_width": null,
      "min_height": null,
      "min_width": null,
      "object_fit": null,
      "object_position": null,
      "order": null,
      "overflow": null,
      "overflow_x": null,
      "overflow_y": null,
      "padding": null,
      "right": null,
      "top": null,
      "visibility": null,
      "width": null
     }
    },
    "543aa2d0ff7a45ccb8cce56b60f9675e": {
     "model_module": "@jupyter-widgets/controls",
     "model_module_version": "1.5.0",
     "model_name": "FloatProgressModel",
     "state": {
      "_dom_classes": [],
      "_model_module": "@jupyter-widgets/controls",
      "_model_module_version": "1.5.0",
      "_model_name": "FloatProgressModel",
      "_view_count": null,
      "_view_module": "@jupyter-widgets/controls",
      "_view_module_version": "1.5.0",
      "_view_name": "ProgressView",
      "bar_style": "",
      "description": "",
      "description_tooltip": null,
      "layout": "IPY_MODEL_6875f7ac9ba148d0a2ef7f69330831f2",
      "max": 1,
      "min": 0,
      "orientation": "horizontal",
      "style": "IPY_MODEL_a8a4f80b99974a2ba6ef852dd45ba4aa",
      "value": 1
     }
    },
    "544dbfcfed9545f4801a36c9309bfc28": {
     "model_module": "@jupyter-widgets/base",
     "model_module_version": "1.2.0",
     "model_name": "LayoutModel",
     "state": {
      "_model_module": "@jupyter-widgets/base",
      "_model_module_version": "1.2.0",
      "_model_name": "LayoutModel",
      "_view_count": null,
      "_view_module": "@jupyter-widgets/base",
      "_view_module_version": "1.2.0",
      "_view_name": "LayoutView",
      "align_content": null,
      "align_items": null,
      "align_self": null,
      "border": null,
      "bottom": null,
      "display": null,
      "flex": null,
      "flex_flow": null,
      "grid_area": null,
      "grid_auto_columns": null,
      "grid_auto_flow": null,
      "grid_auto_rows": null,
      "grid_column": null,
      "grid_gap": null,
      "grid_row": null,
      "grid_template_areas": null,
      "grid_template_columns": null,
      "grid_template_rows": null,
      "height": null,
      "justify_content": null,
      "justify_items": null,
      "left": null,
      "margin": null,
      "max_height": null,
      "max_width": null,
      "min_height": null,
      "min_width": null,
      "object_fit": null,
      "object_position": null,
      "order": null,
      "overflow": null,
      "overflow_x": null,
      "overflow_y": null,
      "padding": null,
      "right": null,
      "top": null,
      "visibility": null,
      "width": null
     }
    },
    "551c4d3b23784fc4aa0b838139453822": {
     "model_module": "@jupyter-widgets/controls",
     "model_module_version": "1.5.0",
     "model_name": "LabelModel",
     "state": {
      "_dom_classes": [],
      "_model_module": "@jupyter-widgets/controls",
      "_model_module_version": "1.5.0",
      "_model_name": "LabelModel",
      "_view_count": null,
      "_view_module": "@jupyter-widgets/controls",
      "_view_module_version": "1.5.0",
      "_view_name": "LabelView",
      "description": "",
      "description_tooltip": null,
      "layout": "IPY_MODEL_23bff8dc5a8a48b584ac93d6f9eb19f0",
      "placeholder": "​",
      "style": "IPY_MODEL_252a6f3d897843dca389f9e8bcc0c371",
      "value": "0.012 MB of 0.012 MB uploaded\r"
     }
    },
    "5567aadd7b4747ccbdc3fe111b309e2e": {
     "model_module": "@jupyter-widgets/controls",
     "model_module_version": "1.5.0",
     "model_name": "DescriptionStyleModel",
     "state": {
      "_model_module": "@jupyter-widgets/controls",
      "_model_module_version": "1.5.0",
      "_model_name": "DescriptionStyleModel",
      "_view_count": null,
      "_view_module": "@jupyter-widgets/base",
      "_view_module_version": "1.2.0",
      "_view_name": "StyleView",
      "description_width": ""
     }
    },
    "55abf0fea8e846c3869d06ba0febf4ba": {
     "model_module": "@jupyter-widgets/controls",
     "model_module_version": "1.5.0",
     "model_name": "FloatProgressModel",
     "state": {
      "_dom_classes": [],
      "_model_module": "@jupyter-widgets/controls",
      "_model_module_version": "1.5.0",
      "_model_name": "FloatProgressModel",
      "_view_count": null,
      "_view_module": "@jupyter-widgets/controls",
      "_view_module_version": "1.5.0",
      "_view_name": "ProgressView",
      "bar_style": "",
      "description": "",
      "description_tooltip": null,
      "layout": "IPY_MODEL_a9db2b39f33a487ca7b2d6bbc991c7db",
      "max": 1,
      "min": 0,
      "orientation": "horizontal",
      "style": "IPY_MODEL_46cb446a60f748aaaf53e45c320f198a",
      "value": 1
     }
    },
    "55bc81c0c1dc49af8181ddc6ff2eabc9": {
     "model_module": "@jupyter-widgets/base",
     "model_module_version": "1.2.0",
     "model_name": "LayoutModel",
     "state": {
      "_model_module": "@jupyter-widgets/base",
      "_model_module_version": "1.2.0",
      "_model_name": "LayoutModel",
      "_view_count": null,
      "_view_module": "@jupyter-widgets/base",
      "_view_module_version": "1.2.0",
      "_view_name": "LayoutView",
      "align_content": null,
      "align_items": null,
      "align_self": null,
      "border": null,
      "bottom": null,
      "display": null,
      "flex": null,
      "flex_flow": null,
      "grid_area": null,
      "grid_auto_columns": null,
      "grid_auto_flow": null,
      "grid_auto_rows": null,
      "grid_column": null,
      "grid_gap": null,
      "grid_row": null,
      "grid_template_areas": null,
      "grid_template_columns": null,
      "grid_template_rows": null,
      "height": null,
      "justify_content": null,
      "justify_items": null,
      "left": null,
      "margin": null,
      "max_height": null,
      "max_width": null,
      "min_height": null,
      "min_width": null,
      "object_fit": null,
      "object_position": null,
      "order": null,
      "overflow": null,
      "overflow_x": null,
      "overflow_y": null,
      "padding": null,
      "right": null,
      "top": null,
      "visibility": null,
      "width": null
     }
    },
    "5643160c2ac14a79a00ba2385d6b6d93": {
     "model_module": "@jupyter-widgets/controls",
     "model_module_version": "1.5.0",
     "model_name": "DescriptionStyleModel",
     "state": {
      "_model_module": "@jupyter-widgets/controls",
      "_model_module_version": "1.5.0",
      "_model_name": "DescriptionStyleModel",
      "_view_count": null,
      "_view_module": "@jupyter-widgets/base",
      "_view_module_version": "1.2.0",
      "_view_name": "StyleView",
      "description_width": ""
     }
    },
    "5677fbfd6f894134852dcdbbe5f1c072": {
     "model_module": "@jupyter-widgets/controls",
     "model_module_version": "1.5.0",
     "model_name": "FloatProgressModel",
     "state": {
      "_dom_classes": [],
      "_model_module": "@jupyter-widgets/controls",
      "_model_module_version": "1.5.0",
      "_model_name": "FloatProgressModel",
      "_view_count": null,
      "_view_module": "@jupyter-widgets/controls",
      "_view_module_version": "1.5.0",
      "_view_name": "ProgressView",
      "bar_style": "",
      "description": "",
      "description_tooltip": null,
      "layout": "IPY_MODEL_3d18121ea6374a268df30735450e04fd",
      "max": 1,
      "min": 0,
      "orientation": "horizontal",
      "style": "IPY_MODEL_5ad2a62ec4c849ff95fc95990a2458c6",
      "value": 1
     }
    },
    "56be837057b3445c90f1092aa0851839": {
     "model_module": "@jupyter-widgets/base",
     "model_module_version": "1.2.0",
     "model_name": "LayoutModel",
     "state": {
      "_model_module": "@jupyter-widgets/base",
      "_model_module_version": "1.2.0",
      "_model_name": "LayoutModel",
      "_view_count": null,
      "_view_module": "@jupyter-widgets/base",
      "_view_module_version": "1.2.0",
      "_view_name": "LayoutView",
      "align_content": null,
      "align_items": null,
      "align_self": null,
      "border": null,
      "bottom": null,
      "display": null,
      "flex": null,
      "flex_flow": null,
      "grid_area": null,
      "grid_auto_columns": null,
      "grid_auto_flow": null,
      "grid_auto_rows": null,
      "grid_column": null,
      "grid_gap": null,
      "grid_row": null,
      "grid_template_areas": null,
      "grid_template_columns": null,
      "grid_template_rows": null,
      "height": null,
      "justify_content": null,
      "justify_items": null,
      "left": null,
      "margin": null,
      "max_height": null,
      "max_width": null,
      "min_height": null,
      "min_width": null,
      "object_fit": null,
      "object_position": null,
      "order": null,
      "overflow": null,
      "overflow_x": null,
      "overflow_y": null,
      "padding": null,
      "right": null,
      "top": null,
      "visibility": null,
      "width": null
     }
    },
    "56d9c59b85144192979af7e3125b5ddd": {
     "model_module": "@jupyter-widgets/controls",
     "model_module_version": "1.5.0",
     "model_name": "ProgressStyleModel",
     "state": {
      "_model_module": "@jupyter-widgets/controls",
      "_model_module_version": "1.5.0",
      "_model_name": "ProgressStyleModel",
      "_view_count": null,
      "_view_module": "@jupyter-widgets/base",
      "_view_module_version": "1.2.0",
      "_view_name": "StyleView",
      "bar_color": null,
      "description_width": ""
     }
    },
    "56e9c7764a754dfc879810c600493c4d": {
     "model_module": "@jupyter-widgets/controls",
     "model_module_version": "1.5.0",
     "model_name": "LabelModel",
     "state": {
      "_dom_classes": [],
      "_model_module": "@jupyter-widgets/controls",
      "_model_module_version": "1.5.0",
      "_model_name": "LabelModel",
      "_view_count": null,
      "_view_module": "@jupyter-widgets/controls",
      "_view_module_version": "1.5.0",
      "_view_name": "LabelView",
      "description": "",
      "description_tooltip": null,
      "layout": "IPY_MODEL_88f7b3412f474e9baab9770be29f314e",
      "placeholder": "​",
      "style": "IPY_MODEL_a1cd9412982f408d96b8ddf1a67bf31e",
      "value": "0.012 MB of 0.012 MB uploaded\r"
     }
    },
    "5754032bac714180bfa7ed133fc23ca8": {
     "model_module": "@jupyter-widgets/controls",
     "model_module_version": "1.5.0",
     "model_name": "LabelModel",
     "state": {
      "_dom_classes": [],
      "_model_module": "@jupyter-widgets/controls",
      "_model_module_version": "1.5.0",
      "_model_name": "LabelModel",
      "_view_count": null,
      "_view_module": "@jupyter-widgets/controls",
      "_view_module_version": "1.5.0",
      "_view_name": "LabelView",
      "description": "",
      "description_tooltip": null,
      "layout": "IPY_MODEL_fee29d65e08d4c4a80ea129d1ef95058",
      "placeholder": "​",
      "style": "IPY_MODEL_12aa20073f7441b6b21deabde7064cbc",
      "value": "0.012 MB of 0.012 MB uploaded\r"
     }
    },
    "57891c80ce6740bc96627049b90d2956": {
     "model_module": "@jupyter-widgets/base",
     "model_module_version": "1.2.0",
     "model_name": "LayoutModel",
     "state": {
      "_model_module": "@jupyter-widgets/base",
      "_model_module_version": "1.2.0",
      "_model_name": "LayoutModel",
      "_view_count": null,
      "_view_module": "@jupyter-widgets/base",
      "_view_module_version": "1.2.0",
      "_view_name": "LayoutView",
      "align_content": null,
      "align_items": null,
      "align_self": null,
      "border": null,
      "bottom": null,
      "display": null,
      "flex": null,
      "flex_flow": null,
      "grid_area": null,
      "grid_auto_columns": null,
      "grid_auto_flow": null,
      "grid_auto_rows": null,
      "grid_column": null,
      "grid_gap": null,
      "grid_row": null,
      "grid_template_areas": null,
      "grid_template_columns": null,
      "grid_template_rows": null,
      "height": null,
      "justify_content": null,
      "justify_items": null,
      "left": null,
      "margin": null,
      "max_height": null,
      "max_width": null,
      "min_height": null,
      "min_width": null,
      "object_fit": null,
      "object_position": null,
      "order": null,
      "overflow": null,
      "overflow_x": null,
      "overflow_y": null,
      "padding": null,
      "right": null,
      "top": null,
      "visibility": null,
      "width": null
     }
    },
    "596ff76ee25e4268bfcb6585ed07e545": {
     "model_module": "@jupyter-widgets/controls",
     "model_module_version": "1.5.0",
     "model_name": "FloatProgressModel",
     "state": {
      "_dom_classes": [],
      "_model_module": "@jupyter-widgets/controls",
      "_model_module_version": "1.5.0",
      "_model_name": "FloatProgressModel",
      "_view_count": null,
      "_view_module": "@jupyter-widgets/controls",
      "_view_module_version": "1.5.0",
      "_view_name": "ProgressView",
      "bar_style": "",
      "description": "",
      "description_tooltip": null,
      "layout": "IPY_MODEL_dff5d63a64844565b2c891176538ca8a",
      "max": 1,
      "min": 0,
      "orientation": "horizontal",
      "style": "IPY_MODEL_2d2887da8edf49138087cfbdfda987b6",
      "value": 1
     }
    },
    "59cfd3d2b90343c8adee03f30c9317d9": {
     "model_module": "@jupyter-widgets/controls",
     "model_module_version": "1.5.0",
     "model_name": "FloatProgressModel",
     "state": {
      "_dom_classes": [],
      "_model_module": "@jupyter-widgets/controls",
      "_model_module_version": "1.5.0",
      "_model_name": "FloatProgressModel",
      "_view_count": null,
      "_view_module": "@jupyter-widgets/controls",
      "_view_module_version": "1.5.0",
      "_view_name": "ProgressView",
      "bar_style": "",
      "description": "",
      "description_tooltip": null,
      "layout": "IPY_MODEL_2ffd2e601ff74b70a1ac5036fd8699c5",
      "max": 1,
      "min": 0,
      "orientation": "horizontal",
      "style": "IPY_MODEL_a0e6be950a7748d2830dca008ab1aae2",
      "value": 1
     }
    },
    "5a53006c6f294f61932feaf2074b2a44": {
     "model_module": "@jupyter-widgets/controls",
     "model_module_version": "1.5.0",
     "model_name": "DescriptionStyleModel",
     "state": {
      "_model_module": "@jupyter-widgets/controls",
      "_model_module_version": "1.5.0",
      "_model_name": "DescriptionStyleModel",
      "_view_count": null,
      "_view_module": "@jupyter-widgets/base",
      "_view_module_version": "1.2.0",
      "_view_name": "StyleView",
      "description_width": ""
     }
    },
    "5a7dcb43b7504878a55d258b95847e8f": {
     "model_module": "@jupyter-widgets/controls",
     "model_module_version": "1.5.0",
     "model_name": "DescriptionStyleModel",
     "state": {
      "_model_module": "@jupyter-widgets/controls",
      "_model_module_version": "1.5.0",
      "_model_name": "DescriptionStyleModel",
      "_view_count": null,
      "_view_module": "@jupyter-widgets/base",
      "_view_module_version": "1.2.0",
      "_view_name": "StyleView",
      "description_width": ""
     }
    },
    "5ad2a62ec4c849ff95fc95990a2458c6": {
     "model_module": "@jupyter-widgets/controls",
     "model_module_version": "1.5.0",
     "model_name": "ProgressStyleModel",
     "state": {
      "_model_module": "@jupyter-widgets/controls",
      "_model_module_version": "1.5.0",
      "_model_name": "ProgressStyleModel",
      "_view_count": null,
      "_view_module": "@jupyter-widgets/base",
      "_view_module_version": "1.2.0",
      "_view_name": "StyleView",
      "bar_color": null,
      "description_width": ""
     }
    },
    "5ae66d90c1f34696a8a3d8add02b7d75": {
     "model_module": "@jupyter-widgets/base",
     "model_module_version": "1.2.0",
     "model_name": "LayoutModel",
     "state": {
      "_model_module": "@jupyter-widgets/base",
      "_model_module_version": "1.2.0",
      "_model_name": "LayoutModel",
      "_view_count": null,
      "_view_module": "@jupyter-widgets/base",
      "_view_module_version": "1.2.0",
      "_view_name": "LayoutView",
      "align_content": null,
      "align_items": null,
      "align_self": null,
      "border": null,
      "bottom": null,
      "display": null,
      "flex": null,
      "flex_flow": null,
      "grid_area": null,
      "grid_auto_columns": null,
      "grid_auto_flow": null,
      "grid_auto_rows": null,
      "grid_column": null,
      "grid_gap": null,
      "grid_row": null,
      "grid_template_areas": null,
      "grid_template_columns": null,
      "grid_template_rows": null,
      "height": null,
      "justify_content": null,
      "justify_items": null,
      "left": null,
      "margin": null,
      "max_height": null,
      "max_width": null,
      "min_height": null,
      "min_width": null,
      "object_fit": null,
      "object_position": null,
      "order": null,
      "overflow": null,
      "overflow_x": null,
      "overflow_y": null,
      "padding": null,
      "right": null,
      "top": null,
      "visibility": null,
      "width": null
     }
    },
    "5b89bf9b0d774f0a814daca525346b5a": {
     "model_module": "@jupyter-widgets/controls",
     "model_module_version": "1.5.0",
     "model_name": "DescriptionStyleModel",
     "state": {
      "_model_module": "@jupyter-widgets/controls",
      "_model_module_version": "1.5.0",
      "_model_name": "DescriptionStyleModel",
      "_view_count": null,
      "_view_module": "@jupyter-widgets/base",
      "_view_module_version": "1.2.0",
      "_view_name": "StyleView",
      "description_width": ""
     }
    },
    "5cc5e10529494d9b90143522b5b6629f": {
     "model_module": "@jupyter-widgets/controls",
     "model_module_version": "1.5.0",
     "model_name": "FloatProgressModel",
     "state": {
      "_dom_classes": [],
      "_model_module": "@jupyter-widgets/controls",
      "_model_module_version": "1.5.0",
      "_model_name": "FloatProgressModel",
      "_view_count": null,
      "_view_module": "@jupyter-widgets/controls",
      "_view_module_version": "1.5.0",
      "_view_name": "ProgressView",
      "bar_style": "",
      "description": "",
      "description_tooltip": null,
      "layout": "IPY_MODEL_8f0638276fd142fab41fba8b593f7416",
      "max": 1,
      "min": 0,
      "orientation": "horizontal",
      "style": "IPY_MODEL_6bb5ab39888947cf963932f4dc2a68bc",
      "value": 1
     }
    },
    "5deb6c0d30e046cf97ba31c2322d2c9c": {
     "model_module": "@jupyter-widgets/base",
     "model_module_version": "1.2.0",
     "model_name": "LayoutModel",
     "state": {
      "_model_module": "@jupyter-widgets/base",
      "_model_module_version": "1.2.0",
      "_model_name": "LayoutModel",
      "_view_count": null,
      "_view_module": "@jupyter-widgets/base",
      "_view_module_version": "1.2.0",
      "_view_name": "LayoutView",
      "align_content": null,
      "align_items": null,
      "align_self": null,
      "border": null,
      "bottom": null,
      "display": null,
      "flex": null,
      "flex_flow": null,
      "grid_area": null,
      "grid_auto_columns": null,
      "grid_auto_flow": null,
      "grid_auto_rows": null,
      "grid_column": null,
      "grid_gap": null,
      "grid_row": null,
      "grid_template_areas": null,
      "grid_template_columns": null,
      "grid_template_rows": null,
      "height": null,
      "justify_content": null,
      "justify_items": null,
      "left": null,
      "margin": null,
      "max_height": null,
      "max_width": null,
      "min_height": null,
      "min_width": null,
      "object_fit": null,
      "object_position": null,
      "order": null,
      "overflow": null,
      "overflow_x": null,
      "overflow_y": null,
      "padding": null,
      "right": null,
      "top": null,
      "visibility": null,
      "width": null
     }
    },
    "5f5428181b194345b1f3770d9e805ab7": {
     "model_module": "@jupyter-widgets/base",
     "model_module_version": "1.2.0",
     "model_name": "LayoutModel",
     "state": {
      "_model_module": "@jupyter-widgets/base",
      "_model_module_version": "1.2.0",
      "_model_name": "LayoutModel",
      "_view_count": null,
      "_view_module": "@jupyter-widgets/base",
      "_view_module_version": "1.2.0",
      "_view_name": "LayoutView",
      "align_content": null,
      "align_items": null,
      "align_self": null,
      "border": null,
      "bottom": null,
      "display": null,
      "flex": null,
      "flex_flow": null,
      "grid_area": null,
      "grid_auto_columns": null,
      "grid_auto_flow": null,
      "grid_auto_rows": null,
      "grid_column": null,
      "grid_gap": null,
      "grid_row": null,
      "grid_template_areas": null,
      "grid_template_columns": null,
      "grid_template_rows": null,
      "height": null,
      "justify_content": null,
      "justify_items": null,
      "left": null,
      "margin": null,
      "max_height": null,
      "max_width": null,
      "min_height": null,
      "min_width": null,
      "object_fit": null,
      "object_position": null,
      "order": null,
      "overflow": null,
      "overflow_x": null,
      "overflow_y": null,
      "padding": null,
      "right": null,
      "top": null,
      "visibility": null,
      "width": null
     }
    },
    "5f72fa62532e45f7952fab0b1eaf7025": {
     "model_module": "@jupyter-widgets/controls",
     "model_module_version": "1.5.0",
     "model_name": "FloatProgressModel",
     "state": {
      "_dom_classes": [],
      "_model_module": "@jupyter-widgets/controls",
      "_model_module_version": "1.5.0",
      "_model_name": "FloatProgressModel",
      "_view_count": null,
      "_view_module": "@jupyter-widgets/controls",
      "_view_module_version": "1.5.0",
      "_view_name": "ProgressView",
      "bar_style": "",
      "description": "",
      "description_tooltip": null,
      "layout": "IPY_MODEL_c942c97f522745f2a0ae84d77cf7b7e0",
      "max": 1,
      "min": 0,
      "orientation": "horizontal",
      "style": "IPY_MODEL_5fbe3ad54b9746c4838aaf2ccce3cbc2",
      "value": 1
     }
    },
    "5f74efc2aa0e4f27892395356ffdef2b": {
     "model_module": "@jupyter-widgets/base",
     "model_module_version": "1.2.0",
     "model_name": "LayoutModel",
     "state": {
      "_model_module": "@jupyter-widgets/base",
      "_model_module_version": "1.2.0",
      "_model_name": "LayoutModel",
      "_view_count": null,
      "_view_module": "@jupyter-widgets/base",
      "_view_module_version": "1.2.0",
      "_view_name": "LayoutView",
      "align_content": null,
      "align_items": null,
      "align_self": null,
      "border": null,
      "bottom": null,
      "display": null,
      "flex": null,
      "flex_flow": null,
      "grid_area": null,
      "grid_auto_columns": null,
      "grid_auto_flow": null,
      "grid_auto_rows": null,
      "grid_column": null,
      "grid_gap": null,
      "grid_row": null,
      "grid_template_areas": null,
      "grid_template_columns": null,
      "grid_template_rows": null,
      "height": null,
      "justify_content": null,
      "justify_items": null,
      "left": null,
      "margin": null,
      "max_height": null,
      "max_width": null,
      "min_height": null,
      "min_width": null,
      "object_fit": null,
      "object_position": null,
      "order": null,
      "overflow": null,
      "overflow_x": null,
      "overflow_y": null,
      "padding": null,
      "right": null,
      "top": null,
      "visibility": null,
      "width": null
     }
    },
    "5fbe3ad54b9746c4838aaf2ccce3cbc2": {
     "model_module": "@jupyter-widgets/controls",
     "model_module_version": "1.5.0",
     "model_name": "ProgressStyleModel",
     "state": {
      "_model_module": "@jupyter-widgets/controls",
      "_model_module_version": "1.5.0",
      "_model_name": "ProgressStyleModel",
      "_view_count": null,
      "_view_module": "@jupyter-widgets/base",
      "_view_module_version": "1.2.0",
      "_view_name": "StyleView",
      "bar_color": null,
      "description_width": ""
     }
    },
    "60aa60752ef64cd483eef7d567665b4c": {
     "model_module": "@jupyter-widgets/controls",
     "model_module_version": "1.5.0",
     "model_name": "ProgressStyleModel",
     "state": {
      "_model_module": "@jupyter-widgets/controls",
      "_model_module_version": "1.5.0",
      "_model_name": "ProgressStyleModel",
      "_view_count": null,
      "_view_module": "@jupyter-widgets/base",
      "_view_module_version": "1.2.0",
      "_view_name": "StyleView",
      "bar_color": null,
      "description_width": ""
     }
    },
    "62936eb03de548e5b4fb42423d8d20e2": {
     "model_module": "@jupyter-widgets/controls",
     "model_module_version": "1.5.0",
     "model_name": "ProgressStyleModel",
     "state": {
      "_model_module": "@jupyter-widgets/controls",
      "_model_module_version": "1.5.0",
      "_model_name": "ProgressStyleModel",
      "_view_count": null,
      "_view_module": "@jupyter-widgets/base",
      "_view_module_version": "1.2.0",
      "_view_name": "StyleView",
      "bar_color": null,
      "description_width": ""
     }
    },
    "62ea35d1988e4cc9bf8838254160726a": {
     "model_module": "@jupyter-widgets/controls",
     "model_module_version": "1.5.0",
     "model_name": "DescriptionStyleModel",
     "state": {
      "_model_module": "@jupyter-widgets/controls",
      "_model_module_version": "1.5.0",
      "_model_name": "DescriptionStyleModel",
      "_view_count": null,
      "_view_module": "@jupyter-widgets/base",
      "_view_module_version": "1.2.0",
      "_view_name": "StyleView",
      "description_width": ""
     }
    },
    "63535647ff894097a7c54d284f40d09b": {
     "model_module": "@jupyter-widgets/base",
     "model_module_version": "1.2.0",
     "model_name": "LayoutModel",
     "state": {
      "_model_module": "@jupyter-widgets/base",
      "_model_module_version": "1.2.0",
      "_model_name": "LayoutModel",
      "_view_count": null,
      "_view_module": "@jupyter-widgets/base",
      "_view_module_version": "1.2.0",
      "_view_name": "LayoutView",
      "align_content": null,
      "align_items": null,
      "align_self": null,
      "border": null,
      "bottom": null,
      "display": null,
      "flex": null,
      "flex_flow": null,
      "grid_area": null,
      "grid_auto_columns": null,
      "grid_auto_flow": null,
      "grid_auto_rows": null,
      "grid_column": null,
      "grid_gap": null,
      "grid_row": null,
      "grid_template_areas": null,
      "grid_template_columns": null,
      "grid_template_rows": null,
      "height": null,
      "justify_content": null,
      "justify_items": null,
      "left": null,
      "margin": null,
      "max_height": null,
      "max_width": null,
      "min_height": null,
      "min_width": null,
      "object_fit": null,
      "object_position": null,
      "order": null,
      "overflow": null,
      "overflow_x": null,
      "overflow_y": null,
      "padding": null,
      "right": null,
      "top": null,
      "visibility": null,
      "width": null
     }
    },
    "641b87e44d1e42b9a374876d0aa4fdec": {
     "model_module": "@jupyter-widgets/controls",
     "model_module_version": "1.5.0",
     "model_name": "LabelModel",
     "state": {
      "_dom_classes": [],
      "_model_module": "@jupyter-widgets/controls",
      "_model_module_version": "1.5.0",
      "_model_name": "LabelModel",
      "_view_count": null,
      "_view_module": "@jupyter-widgets/controls",
      "_view_module_version": "1.5.0",
      "_view_name": "LabelView",
      "description": "",
      "description_tooltip": null,
      "layout": "IPY_MODEL_25a61b57254a4f7a8cace8a5b6f1bbbe",
      "placeholder": "​",
      "style": "IPY_MODEL_c2796f3f32074d8b9cc8898ff0139bac",
      "value": "0.012 MB of 0.012 MB uploaded\r"
     }
    },
    "64843ce0c11444f499f937cf5ff2e4e8": {
     "model_module": "@jupyter-widgets/controls",
     "model_module_version": "1.5.0",
     "model_name": "VBoxModel",
     "state": {
      "_dom_classes": [],
      "_model_module": "@jupyter-widgets/controls",
      "_model_module_version": "1.5.0",
      "_model_name": "VBoxModel",
      "_view_count": null,
      "_view_module": "@jupyter-widgets/controls",
      "_view_module_version": "1.5.0",
      "_view_name": "VBoxView",
      "box_style": "",
      "children": [
       "IPY_MODEL_304f9192f84745ee814dffca4eab1fed",
       "IPY_MODEL_2ed326ccc98d44e0a2a445d0ad2ba88e"
      ],
      "layout": "IPY_MODEL_22fe4458e61246e99417293b218f8a06"
     }
    },
    "64a82fc1388b46b795f7edef97cd2f7d": {
     "model_module": "@jupyter-widgets/controls",
     "model_module_version": "1.5.0",
     "model_name": "VBoxModel",
     "state": {
      "_dom_classes": [],
      "_model_module": "@jupyter-widgets/controls",
      "_model_module_version": "1.5.0",
      "_model_name": "VBoxModel",
      "_view_count": null,
      "_view_module": "@jupyter-widgets/controls",
      "_view_module_version": "1.5.0",
      "_view_name": "VBoxView",
      "box_style": "",
      "children": [
       "IPY_MODEL_7b6e06a60b43469991b97a834076bc23",
       "IPY_MODEL_fe2415ecaee2428680d07825339265a4"
      ],
      "layout": "IPY_MODEL_543675083c124817b435afe12ff95fea"
     }
    },
    "64cf1d4fcd2040da9e66cf1c4edada59": {
     "model_module": "@jupyter-widgets/controls",
     "model_module_version": "1.5.0",
     "model_name": "FloatProgressModel",
     "state": {
      "_dom_classes": [],
      "_model_module": "@jupyter-widgets/controls",
      "_model_module_version": "1.5.0",
      "_model_name": "FloatProgressModel",
      "_view_count": null,
      "_view_module": "@jupyter-widgets/controls",
      "_view_module_version": "1.5.0",
      "_view_name": "ProgressView",
      "bar_style": "",
      "description": "",
      "description_tooltip": null,
      "layout": "IPY_MODEL_505c91a410a0485dbc2a2e85864f2242",
      "max": 1,
      "min": 0,
      "orientation": "horizontal",
      "style": "IPY_MODEL_3847f4bf9ed449a8bde921e18078b4cc",
      "value": 1
     }
    },
    "651b1a4c28574bee92295c033a7c5a8c": {
     "model_module": "@jupyter-widgets/controls",
     "model_module_version": "1.5.0",
     "model_name": "DescriptionStyleModel",
     "state": {
      "_model_module": "@jupyter-widgets/controls",
      "_model_module_version": "1.5.0",
      "_model_name": "DescriptionStyleModel",
      "_view_count": null,
      "_view_module": "@jupyter-widgets/base",
      "_view_module_version": "1.2.0",
      "_view_name": "StyleView",
      "description_width": ""
     }
    },
    "659a1483582346978cb8056a1dfa6010": {
     "model_module": "@jupyter-widgets/base",
     "model_module_version": "1.2.0",
     "model_name": "LayoutModel",
     "state": {
      "_model_module": "@jupyter-widgets/base",
      "_model_module_version": "1.2.0",
      "_model_name": "LayoutModel",
      "_view_count": null,
      "_view_module": "@jupyter-widgets/base",
      "_view_module_version": "1.2.0",
      "_view_name": "LayoutView",
      "align_content": null,
      "align_items": null,
      "align_self": null,
      "border": null,
      "bottom": null,
      "display": null,
      "flex": null,
      "flex_flow": null,
      "grid_area": null,
      "grid_auto_columns": null,
      "grid_auto_flow": null,
      "grid_auto_rows": null,
      "grid_column": null,
      "grid_gap": null,
      "grid_row": null,
      "grid_template_areas": null,
      "grid_template_columns": null,
      "grid_template_rows": null,
      "height": null,
      "justify_content": null,
      "justify_items": null,
      "left": null,
      "margin": null,
      "max_height": null,
      "max_width": null,
      "min_height": null,
      "min_width": null,
      "object_fit": null,
      "object_position": null,
      "order": null,
      "overflow": null,
      "overflow_x": null,
      "overflow_y": null,
      "padding": null,
      "right": null,
      "top": null,
      "visibility": null,
      "width": null
     }
    },
    "67c96a927d264d9d89f9a2033c23be00": {
     "model_module": "@jupyter-widgets/controls",
     "model_module_version": "1.5.0",
     "model_name": "LabelModel",
     "state": {
      "_dom_classes": [],
      "_model_module": "@jupyter-widgets/controls",
      "_model_module_version": "1.5.0",
      "_model_name": "LabelModel",
      "_view_count": null,
      "_view_module": "@jupyter-widgets/controls",
      "_view_module_version": "1.5.0",
      "_view_name": "LabelView",
      "description": "",
      "description_tooltip": null,
      "layout": "IPY_MODEL_b8ae58d0987540bf972fba9220c95d30",
      "placeholder": "​",
      "style": "IPY_MODEL_cae02d6ff43f47b2bd6b72c7f935c5b9",
      "value": "0.011 MB of 0.011 MB uploaded\r"
     }
    },
    "68462e4a895d4afba5dcb28947454132": {
     "model_module": "@jupyter-widgets/controls",
     "model_module_version": "1.5.0",
     "model_name": "ProgressStyleModel",
     "state": {
      "_model_module": "@jupyter-widgets/controls",
      "_model_module_version": "1.5.0",
      "_model_name": "ProgressStyleModel",
      "_view_count": null,
      "_view_module": "@jupyter-widgets/base",
      "_view_module_version": "1.2.0",
      "_view_name": "StyleView",
      "bar_color": null,
      "description_width": ""
     }
    },
    "6875f7ac9ba148d0a2ef7f69330831f2": {
     "model_module": "@jupyter-widgets/base",
     "model_module_version": "1.2.0",
     "model_name": "LayoutModel",
     "state": {
      "_model_module": "@jupyter-widgets/base",
      "_model_module_version": "1.2.0",
      "_model_name": "LayoutModel",
      "_view_count": null,
      "_view_module": "@jupyter-widgets/base",
      "_view_module_version": "1.2.0",
      "_view_name": "LayoutView",
      "align_content": null,
      "align_items": null,
      "align_self": null,
      "border": null,
      "bottom": null,
      "display": null,
      "flex": null,
      "flex_flow": null,
      "grid_area": null,
      "grid_auto_columns": null,
      "grid_auto_flow": null,
      "grid_auto_rows": null,
      "grid_column": null,
      "grid_gap": null,
      "grid_row": null,
      "grid_template_areas": null,
      "grid_template_columns": null,
      "grid_template_rows": null,
      "height": null,
      "justify_content": null,
      "justify_items": null,
      "left": null,
      "margin": null,
      "max_height": null,
      "max_width": null,
      "min_height": null,
      "min_width": null,
      "object_fit": null,
      "object_position": null,
      "order": null,
      "overflow": null,
      "overflow_x": null,
      "overflow_y": null,
      "padding": null,
      "right": null,
      "top": null,
      "visibility": null,
      "width": null
     }
    },
    "691d05ee32e24a45acbdc4d2212f4881": {
     "model_module": "@jupyter-widgets/controls",
     "model_module_version": "1.5.0",
     "model_name": "DescriptionStyleModel",
     "state": {
      "_model_module": "@jupyter-widgets/controls",
      "_model_module_version": "1.5.0",
      "_model_name": "DescriptionStyleModel",
      "_view_count": null,
      "_view_module": "@jupyter-widgets/base",
      "_view_module_version": "1.2.0",
      "_view_name": "StyleView",
      "description_width": ""
     }
    },
    "69291ab866ba4491906631219998e3d2": {
     "model_module": "@jupyter-widgets/controls",
     "model_module_version": "1.5.0",
     "model_name": "DescriptionStyleModel",
     "state": {
      "_model_module": "@jupyter-widgets/controls",
      "_model_module_version": "1.5.0",
      "_model_name": "DescriptionStyleModel",
      "_view_count": null,
      "_view_module": "@jupyter-widgets/base",
      "_view_module_version": "1.2.0",
      "_view_name": "StyleView",
      "description_width": ""
     }
    },
    "6a14424473e84577b02b5711cdf4b2a3": {
     "model_module": "@jupyter-widgets/controls",
     "model_module_version": "1.5.0",
     "model_name": "ProgressStyleModel",
     "state": {
      "_model_module": "@jupyter-widgets/controls",
      "_model_module_version": "1.5.0",
      "_model_name": "ProgressStyleModel",
      "_view_count": null,
      "_view_module": "@jupyter-widgets/base",
      "_view_module_version": "1.2.0",
      "_view_name": "StyleView",
      "bar_color": null,
      "description_width": ""
     }
    },
    "6aab02d0ae024caa9ff5d41797a7b350": {
     "model_module": "@jupyter-widgets/controls",
     "model_module_version": "1.5.0",
     "model_name": "DescriptionStyleModel",
     "state": {
      "_model_module": "@jupyter-widgets/controls",
      "_model_module_version": "1.5.0",
      "_model_name": "DescriptionStyleModel",
      "_view_count": null,
      "_view_module": "@jupyter-widgets/base",
      "_view_module_version": "1.2.0",
      "_view_name": "StyleView",
      "description_width": ""
     }
    },
    "6b59feac8af148b5bdfcea27b57a4a6b": {
     "model_module": "@jupyter-widgets/controls",
     "model_module_version": "1.5.0",
     "model_name": "DescriptionStyleModel",
     "state": {
      "_model_module": "@jupyter-widgets/controls",
      "_model_module_version": "1.5.0",
      "_model_name": "DescriptionStyleModel",
      "_view_count": null,
      "_view_module": "@jupyter-widgets/base",
      "_view_module_version": "1.2.0",
      "_view_name": "StyleView",
      "description_width": ""
     }
    },
    "6bb5ab39888947cf963932f4dc2a68bc": {
     "model_module": "@jupyter-widgets/controls",
     "model_module_version": "1.5.0",
     "model_name": "ProgressStyleModel",
     "state": {
      "_model_module": "@jupyter-widgets/controls",
      "_model_module_version": "1.5.0",
      "_model_name": "ProgressStyleModel",
      "_view_count": null,
      "_view_module": "@jupyter-widgets/base",
      "_view_module_version": "1.2.0",
      "_view_name": "StyleView",
      "bar_color": null,
      "description_width": ""
     }
    },
    "6c73d7ad43ae4ce09f451c43643ab08f": {
     "model_module": "@jupyter-widgets/controls",
     "model_module_version": "1.5.0",
     "model_name": "ProgressStyleModel",
     "state": {
      "_model_module": "@jupyter-widgets/controls",
      "_model_module_version": "1.5.0",
      "_model_name": "ProgressStyleModel",
      "_view_count": null,
      "_view_module": "@jupyter-widgets/base",
      "_view_module_version": "1.2.0",
      "_view_name": "StyleView",
      "bar_color": null,
      "description_width": ""
     }
    },
    "6cc4ab7c4e5842d6aa7fa38fe3b64cbf": {
     "model_module": "@jupyter-widgets/base",
     "model_module_version": "1.2.0",
     "model_name": "LayoutModel",
     "state": {
      "_model_module": "@jupyter-widgets/base",
      "_model_module_version": "1.2.0",
      "_model_name": "LayoutModel",
      "_view_count": null,
      "_view_module": "@jupyter-widgets/base",
      "_view_module_version": "1.2.0",
      "_view_name": "LayoutView",
      "align_content": null,
      "align_items": null,
      "align_self": null,
      "border": null,
      "bottom": null,
      "display": null,
      "flex": null,
      "flex_flow": null,
      "grid_area": null,
      "grid_auto_columns": null,
      "grid_auto_flow": null,
      "grid_auto_rows": null,
      "grid_column": null,
      "grid_gap": null,
      "grid_row": null,
      "grid_template_areas": null,
      "grid_template_columns": null,
      "grid_template_rows": null,
      "height": null,
      "justify_content": null,
      "justify_items": null,
      "left": null,
      "margin": null,
      "max_height": null,
      "max_width": null,
      "min_height": null,
      "min_width": null,
      "object_fit": null,
      "object_position": null,
      "order": null,
      "overflow": null,
      "overflow_x": null,
      "overflow_y": null,
      "padding": null,
      "right": null,
      "top": null,
      "visibility": null,
      "width": null
     }
    },
    "6cf045f077d4438ab5f1e9b5c126e0f6": {
     "model_module": "@jupyter-widgets/base",
     "model_module_version": "1.2.0",
     "model_name": "LayoutModel",
     "state": {
      "_model_module": "@jupyter-widgets/base",
      "_model_module_version": "1.2.0",
      "_model_name": "LayoutModel",
      "_view_count": null,
      "_view_module": "@jupyter-widgets/base",
      "_view_module_version": "1.2.0",
      "_view_name": "LayoutView",
      "align_content": null,
      "align_items": null,
      "align_self": null,
      "border": null,
      "bottom": null,
      "display": null,
      "flex": null,
      "flex_flow": null,
      "grid_area": null,
      "grid_auto_columns": null,
      "grid_auto_flow": null,
      "grid_auto_rows": null,
      "grid_column": null,
      "grid_gap": null,
      "grid_row": null,
      "grid_template_areas": null,
      "grid_template_columns": null,
      "grid_template_rows": null,
      "height": null,
      "justify_content": null,
      "justify_items": null,
      "left": null,
      "margin": null,
      "max_height": null,
      "max_width": null,
      "min_height": null,
      "min_width": null,
      "object_fit": null,
      "object_position": null,
      "order": null,
      "overflow": null,
      "overflow_x": null,
      "overflow_y": null,
      "padding": null,
      "right": null,
      "top": null,
      "visibility": null,
      "width": null
     }
    },
    "6dc32839ce5f4cefacb48579816ba007": {
     "model_module": "@jupyter-widgets/controls",
     "model_module_version": "1.5.0",
     "model_name": "DescriptionStyleModel",
     "state": {
      "_model_module": "@jupyter-widgets/controls",
      "_model_module_version": "1.5.0",
      "_model_name": "DescriptionStyleModel",
      "_view_count": null,
      "_view_module": "@jupyter-widgets/base",
      "_view_module_version": "1.2.0",
      "_view_name": "StyleView",
      "description_width": ""
     }
    },
    "6dd5a8d1bbec4ad68ba76ef01376a710": {
     "model_module": "@jupyter-widgets/controls",
     "model_module_version": "1.5.0",
     "model_name": "VBoxModel",
     "state": {
      "_dom_classes": [],
      "_model_module": "@jupyter-widgets/controls",
      "_model_module_version": "1.5.0",
      "_model_name": "VBoxModel",
      "_view_count": null,
      "_view_module": "@jupyter-widgets/controls",
      "_view_module_version": "1.5.0",
      "_view_name": "VBoxView",
      "box_style": "",
      "children": [
       "IPY_MODEL_24f16ca58bcb42ec9bbd820ad82ee336",
       "IPY_MODEL_2bccf0fe4c154e7b9484b4f5832c8804"
      ],
      "layout": "IPY_MODEL_57891c80ce6740bc96627049b90d2956"
     }
    },
    "7010de40a1a94792b31229561fadfc5a": {
     "model_module": "@jupyter-widgets/controls",
     "model_module_version": "1.5.0",
     "model_name": "FloatProgressModel",
     "state": {
      "_dom_classes": [],
      "_model_module": "@jupyter-widgets/controls",
      "_model_module_version": "1.5.0",
      "_model_name": "FloatProgressModel",
      "_view_count": null,
      "_view_module": "@jupyter-widgets/controls",
      "_view_module_version": "1.5.0",
      "_view_name": "ProgressView",
      "bar_style": "",
      "description": "",
      "description_tooltip": null,
      "layout": "IPY_MODEL_339e42711df04a3dbca864641e1f1587",
      "max": 1,
      "min": 0,
      "orientation": "horizontal",
      "style": "IPY_MODEL_62936eb03de548e5b4fb42423d8d20e2",
      "value": 1
     }
    },
    "706c057827894e398fc861509961ecab": {
     "model_module": "@jupyter-widgets/base",
     "model_module_version": "1.2.0",
     "model_name": "LayoutModel",
     "state": {
      "_model_module": "@jupyter-widgets/base",
      "_model_module_version": "1.2.0",
      "_model_name": "LayoutModel",
      "_view_count": null,
      "_view_module": "@jupyter-widgets/base",
      "_view_module_version": "1.2.0",
      "_view_name": "LayoutView",
      "align_content": null,
      "align_items": null,
      "align_self": null,
      "border": null,
      "bottom": null,
      "display": null,
      "flex": null,
      "flex_flow": null,
      "grid_area": null,
      "grid_auto_columns": null,
      "grid_auto_flow": null,
      "grid_auto_rows": null,
      "grid_column": null,
      "grid_gap": null,
      "grid_row": null,
      "grid_template_areas": null,
      "grid_template_columns": null,
      "grid_template_rows": null,
      "height": null,
      "justify_content": null,
      "justify_items": null,
      "left": null,
      "margin": null,
      "max_height": null,
      "max_width": null,
      "min_height": null,
      "min_width": null,
      "object_fit": null,
      "object_position": null,
      "order": null,
      "overflow": null,
      "overflow_x": null,
      "overflow_y": null,
      "padding": null,
      "right": null,
      "top": null,
      "visibility": null,
      "width": null
     }
    },
    "714975d49d2547d7aaf36804019e517d": {
     "model_module": "@jupyter-widgets/controls",
     "model_module_version": "1.5.0",
     "model_name": "LabelModel",
     "state": {
      "_dom_classes": [],
      "_model_module": "@jupyter-widgets/controls",
      "_model_module_version": "1.5.0",
      "_model_name": "LabelModel",
      "_view_count": null,
      "_view_module": "@jupyter-widgets/controls",
      "_view_module_version": "1.5.0",
      "_view_name": "LabelView",
      "description": "",
      "description_tooltip": null,
      "layout": "IPY_MODEL_e8949df478f9448bb8bc4c483f1e6a28",
      "placeholder": "​",
      "style": "IPY_MODEL_c75f1fa2ecae436c8a3dbea07086dde7",
      "value": "0.012 MB of 0.012 MB uploaded\r"
     }
    },
    "72e825f1e4c34d44af5f3743ba7c26fe": {
     "model_module": "@jupyter-widgets/controls",
     "model_module_version": "1.5.0",
     "model_name": "ProgressStyleModel",
     "state": {
      "_model_module": "@jupyter-widgets/controls",
      "_model_module_version": "1.5.0",
      "_model_name": "ProgressStyleModel",
      "_view_count": null,
      "_view_module": "@jupyter-widgets/base",
      "_view_module_version": "1.2.0",
      "_view_name": "StyleView",
      "bar_color": null,
      "description_width": ""
     }
    },
    "739288be04884c809be5f5242b1e8e6d": {
     "model_module": "@jupyter-widgets/base",
     "model_module_version": "1.2.0",
     "model_name": "LayoutModel",
     "state": {
      "_model_module": "@jupyter-widgets/base",
      "_model_module_version": "1.2.0",
      "_model_name": "LayoutModel",
      "_view_count": null,
      "_view_module": "@jupyter-widgets/base",
      "_view_module_version": "1.2.0",
      "_view_name": "LayoutView",
      "align_content": null,
      "align_items": null,
      "align_self": null,
      "border": null,
      "bottom": null,
      "display": null,
      "flex": null,
      "flex_flow": null,
      "grid_area": null,
      "grid_auto_columns": null,
      "grid_auto_flow": null,
      "grid_auto_rows": null,
      "grid_column": null,
      "grid_gap": null,
      "grid_row": null,
      "grid_template_areas": null,
      "grid_template_columns": null,
      "grid_template_rows": null,
      "height": null,
      "justify_content": null,
      "justify_items": null,
      "left": null,
      "margin": null,
      "max_height": null,
      "max_width": null,
      "min_height": null,
      "min_width": null,
      "object_fit": null,
      "object_position": null,
      "order": null,
      "overflow": null,
      "overflow_x": null,
      "overflow_y": null,
      "padding": null,
      "right": null,
      "top": null,
      "visibility": null,
      "width": null
     }
    },
    "73f545afa76a4bc880890559dfb2bcff": {
     "model_module": "@jupyter-widgets/base",
     "model_module_version": "1.2.0",
     "model_name": "LayoutModel",
     "state": {
      "_model_module": "@jupyter-widgets/base",
      "_model_module_version": "1.2.0",
      "_model_name": "LayoutModel",
      "_view_count": null,
      "_view_module": "@jupyter-widgets/base",
      "_view_module_version": "1.2.0",
      "_view_name": "LayoutView",
      "align_content": null,
      "align_items": null,
      "align_self": null,
      "border": null,
      "bottom": null,
      "display": null,
      "flex": null,
      "flex_flow": null,
      "grid_area": null,
      "grid_auto_columns": null,
      "grid_auto_flow": null,
      "grid_auto_rows": null,
      "grid_column": null,
      "grid_gap": null,
      "grid_row": null,
      "grid_template_areas": null,
      "grid_template_columns": null,
      "grid_template_rows": null,
      "height": null,
      "justify_content": null,
      "justify_items": null,
      "left": null,
      "margin": null,
      "max_height": null,
      "max_width": null,
      "min_height": null,
      "min_width": null,
      "object_fit": null,
      "object_position": null,
      "order": null,
      "overflow": null,
      "overflow_x": null,
      "overflow_y": null,
      "padding": null,
      "right": null,
      "top": null,
      "visibility": null,
      "width": null
     }
    },
    "740a518be9ce430d859ff33ce713e114": {
     "model_module": "@jupyter-widgets/base",
     "model_module_version": "1.2.0",
     "model_name": "LayoutModel",
     "state": {
      "_model_module": "@jupyter-widgets/base",
      "_model_module_version": "1.2.0",
      "_model_name": "LayoutModel",
      "_view_count": null,
      "_view_module": "@jupyter-widgets/base",
      "_view_module_version": "1.2.0",
      "_view_name": "LayoutView",
      "align_content": null,
      "align_items": null,
      "align_self": null,
      "border": null,
      "bottom": null,
      "display": null,
      "flex": null,
      "flex_flow": null,
      "grid_area": null,
      "grid_auto_columns": null,
      "grid_auto_flow": null,
      "grid_auto_rows": null,
      "grid_column": null,
      "grid_gap": null,
      "grid_row": null,
      "grid_template_areas": null,
      "grid_template_columns": null,
      "grid_template_rows": null,
      "height": null,
      "justify_content": null,
      "justify_items": null,
      "left": null,
      "margin": null,
      "max_height": null,
      "max_width": null,
      "min_height": null,
      "min_width": null,
      "object_fit": null,
      "object_position": null,
      "order": null,
      "overflow": null,
      "overflow_x": null,
      "overflow_y": null,
      "padding": null,
      "right": null,
      "top": null,
      "visibility": null,
      "width": null
     }
    },
    "74302fecc395413c8f465b658676f093": {
     "model_module": "@jupyter-widgets/controls",
     "model_module_version": "1.5.0",
     "model_name": "FloatProgressModel",
     "state": {
      "_dom_classes": [],
      "_model_module": "@jupyter-widgets/controls",
      "_model_module_version": "1.5.0",
      "_model_name": "FloatProgressModel",
      "_view_count": null,
      "_view_module": "@jupyter-widgets/controls",
      "_view_module_version": "1.5.0",
      "_view_name": "ProgressView",
      "bar_style": "",
      "description": "",
      "description_tooltip": null,
      "layout": "IPY_MODEL_a2931981a6fa4d45b97030a87950ffe6",
      "max": 1,
      "min": 0,
      "orientation": "horizontal",
      "style": "IPY_MODEL_c2d91e05baad4ef9b45bc6fbf103bdf3",
      "value": 1
     }
    },
    "7476068006dc456b9769fa59aee7a44d": {
     "model_module": "@jupyter-widgets/controls",
     "model_module_version": "1.5.0",
     "model_name": "DescriptionStyleModel",
     "state": {
      "_model_module": "@jupyter-widgets/controls",
      "_model_module_version": "1.5.0",
      "_model_name": "DescriptionStyleModel",
      "_view_count": null,
      "_view_module": "@jupyter-widgets/base",
      "_view_module_version": "1.2.0",
      "_view_name": "StyleView",
      "description_width": ""
     }
    },
    "75ca4db67b9749578a57be0caf00571b": {
     "model_module": "@jupyter-widgets/controls",
     "model_module_version": "1.5.0",
     "model_name": "VBoxModel",
     "state": {
      "_dom_classes": [],
      "_model_module": "@jupyter-widgets/controls",
      "_model_module_version": "1.5.0",
      "_model_name": "VBoxModel",
      "_view_count": null,
      "_view_module": "@jupyter-widgets/controls",
      "_view_module_version": "1.5.0",
      "_view_name": "VBoxView",
      "box_style": "",
      "children": [
       "IPY_MODEL_641b87e44d1e42b9a374876d0aa4fdec",
       "IPY_MODEL_e1b3db0a377f4cd1b24258cb5a1739e2"
      ],
      "layout": "IPY_MODEL_56be837057b3445c90f1092aa0851839"
     }
    },
    "776b516bd1594248b112da7cd3b2ea34": {
     "model_module": "@jupyter-widgets/controls",
     "model_module_version": "1.5.0",
     "model_name": "FloatProgressModel",
     "state": {
      "_dom_classes": [],
      "_model_module": "@jupyter-widgets/controls",
      "_model_module_version": "1.5.0",
      "_model_name": "FloatProgressModel",
      "_view_count": null,
      "_view_module": "@jupyter-widgets/controls",
      "_view_module_version": "1.5.0",
      "_view_name": "ProgressView",
      "bar_style": "",
      "description": "",
      "description_tooltip": null,
      "layout": "IPY_MODEL_972671a466db4213acea21f162e3ae24",
      "max": 1,
      "min": 0,
      "orientation": "horizontal",
      "style": "IPY_MODEL_60aa60752ef64cd483eef7d567665b4c",
      "value": 1
     }
    },
    "78351456b5be47d2bde2d51ecb1269d6": {
     "model_module": "@jupyter-widgets/controls",
     "model_module_version": "1.5.0",
     "model_name": "LabelModel",
     "state": {
      "_dom_classes": [],
      "_model_module": "@jupyter-widgets/controls",
      "_model_module_version": "1.5.0",
      "_model_name": "LabelModel",
      "_view_count": null,
      "_view_module": "@jupyter-widgets/controls",
      "_view_module_version": "1.5.0",
      "_view_name": "LabelView",
      "description": "",
      "description_tooltip": null,
      "layout": "IPY_MODEL_0752da480fce4700813719e3617a7e37",
      "placeholder": "​",
      "style": "IPY_MODEL_f9b107e4f195401eadfac00ae9289e1a",
      "value": "0.012 MB of 0.012 MB uploaded\r"
     }
    },
    "786cdc6a2e3e4d1e863dcb56da5a9597": {
     "model_module": "@jupyter-widgets/controls",
     "model_module_version": "1.5.0",
     "model_name": "FloatProgressModel",
     "state": {
      "_dom_classes": [],
      "_model_module": "@jupyter-widgets/controls",
      "_model_module_version": "1.5.0",
      "_model_name": "FloatProgressModel",
      "_view_count": null,
      "_view_module": "@jupyter-widgets/controls",
      "_view_module_version": "1.5.0",
      "_view_name": "ProgressView",
      "bar_style": "",
      "description": "",
      "description_tooltip": null,
      "layout": "IPY_MODEL_0f8c3fae4a4042cb929e73a1afae0875",
      "max": 1,
      "min": 0,
      "orientation": "horizontal",
      "style": "IPY_MODEL_8932d14e94df470bad678141edf044c5",
      "value": 1
     }
    },
    "78859469637241dbaf1fe7d37bd1f090": {
     "model_module": "@jupyter-widgets/base",
     "model_module_version": "1.2.0",
     "model_name": "LayoutModel",
     "state": {
      "_model_module": "@jupyter-widgets/base",
      "_model_module_version": "1.2.0",
      "_model_name": "LayoutModel",
      "_view_count": null,
      "_view_module": "@jupyter-widgets/base",
      "_view_module_version": "1.2.0",
      "_view_name": "LayoutView",
      "align_content": null,
      "align_items": null,
      "align_self": null,
      "border": null,
      "bottom": null,
      "display": null,
      "flex": null,
      "flex_flow": null,
      "grid_area": null,
      "grid_auto_columns": null,
      "grid_auto_flow": null,
      "grid_auto_rows": null,
      "grid_column": null,
      "grid_gap": null,
      "grid_row": null,
      "grid_template_areas": null,
      "grid_template_columns": null,
      "grid_template_rows": null,
      "height": null,
      "justify_content": null,
      "justify_items": null,
      "left": null,
      "margin": null,
      "max_height": null,
      "max_width": null,
      "min_height": null,
      "min_width": null,
      "object_fit": null,
      "object_position": null,
      "order": null,
      "overflow": null,
      "overflow_x": null,
      "overflow_y": null,
      "padding": null,
      "right": null,
      "top": null,
      "visibility": null,
      "width": null
     }
    },
    "788c6203de924bec8c9d7a4add29dac0": {
     "model_module": "@jupyter-widgets/controls",
     "model_module_version": "1.5.0",
     "model_name": "VBoxModel",
     "state": {
      "_dom_classes": [],
      "_model_module": "@jupyter-widgets/controls",
      "_model_module_version": "1.5.0",
      "_model_name": "VBoxModel",
      "_view_count": null,
      "_view_module": "@jupyter-widgets/controls",
      "_view_module_version": "1.5.0",
      "_view_name": "VBoxView",
      "box_style": "",
      "children": [
       "IPY_MODEL_dc0453f7df7b425198104200fa3d2b54",
       "IPY_MODEL_ca3a17b9dd434aa69b51968a227f6f4c"
      ],
      "layout": "IPY_MODEL_e1296dff784d4e67b6fdcbff3f99c07f"
     }
    },
    "7a3deaeba3ec48779c74ad72e87cd467": {
     "model_module": "@jupyter-widgets/base",
     "model_module_version": "1.2.0",
     "model_name": "LayoutModel",
     "state": {
      "_model_module": "@jupyter-widgets/base",
      "_model_module_version": "1.2.0",
      "_model_name": "LayoutModel",
      "_view_count": null,
      "_view_module": "@jupyter-widgets/base",
      "_view_module_version": "1.2.0",
      "_view_name": "LayoutView",
      "align_content": null,
      "align_items": null,
      "align_self": null,
      "border": null,
      "bottom": null,
      "display": null,
      "flex": null,
      "flex_flow": null,
      "grid_area": null,
      "grid_auto_columns": null,
      "grid_auto_flow": null,
      "grid_auto_rows": null,
      "grid_column": null,
      "grid_gap": null,
      "grid_row": null,
      "grid_template_areas": null,
      "grid_template_columns": null,
      "grid_template_rows": null,
      "height": null,
      "justify_content": null,
      "justify_items": null,
      "left": null,
      "margin": null,
      "max_height": null,
      "max_width": null,
      "min_height": null,
      "min_width": null,
      "object_fit": null,
      "object_position": null,
      "order": null,
      "overflow": null,
      "overflow_x": null,
      "overflow_y": null,
      "padding": null,
      "right": null,
      "top": null,
      "visibility": null,
      "width": null
     }
    },
    "7a96bb3988f64d08994b64fa9d27f3b4": {
     "model_module": "@jupyter-widgets/base",
     "model_module_version": "1.2.0",
     "model_name": "LayoutModel",
     "state": {
      "_model_module": "@jupyter-widgets/base",
      "_model_module_version": "1.2.0",
      "_model_name": "LayoutModel",
      "_view_count": null,
      "_view_module": "@jupyter-widgets/base",
      "_view_module_version": "1.2.0",
      "_view_name": "LayoutView",
      "align_content": null,
      "align_items": null,
      "align_self": null,
      "border": null,
      "bottom": null,
      "display": null,
      "flex": null,
      "flex_flow": null,
      "grid_area": null,
      "grid_auto_columns": null,
      "grid_auto_flow": null,
      "grid_auto_rows": null,
      "grid_column": null,
      "grid_gap": null,
      "grid_row": null,
      "grid_template_areas": null,
      "grid_template_columns": null,
      "grid_template_rows": null,
      "height": null,
      "justify_content": null,
      "justify_items": null,
      "left": null,
      "margin": null,
      "max_height": null,
      "max_width": null,
      "min_height": null,
      "min_width": null,
      "object_fit": null,
      "object_position": null,
      "order": null,
      "overflow": null,
      "overflow_x": null,
      "overflow_y": null,
      "padding": null,
      "right": null,
      "top": null,
      "visibility": null,
      "width": null
     }
    },
    "7b5c7ca5e7bc4bd687d9520612cae8b6": {
     "model_module": "@jupyter-widgets/controls",
     "model_module_version": "1.5.0",
     "model_name": "FloatProgressModel",
     "state": {
      "_dom_classes": [],
      "_model_module": "@jupyter-widgets/controls",
      "_model_module_version": "1.5.0",
      "_model_name": "FloatProgressModel",
      "_view_count": null,
      "_view_module": "@jupyter-widgets/controls",
      "_view_module_version": "1.5.0",
      "_view_name": "ProgressView",
      "bar_style": "",
      "description": "",
      "description_tooltip": null,
      "layout": "IPY_MODEL_823ffc42720c4285b3e203faabdf7c63",
      "max": 1,
      "min": 0,
      "orientation": "horizontal",
      "style": "IPY_MODEL_7cc76da9541f4b09b89e35f2a6bbe21e",
      "value": 1
     }
    },
    "7b6e06a60b43469991b97a834076bc23": {
     "model_module": "@jupyter-widgets/controls",
     "model_module_version": "1.5.0",
     "model_name": "LabelModel",
     "state": {
      "_dom_classes": [],
      "_model_module": "@jupyter-widgets/controls",
      "_model_module_version": "1.5.0",
      "_model_name": "LabelModel",
      "_view_count": null,
      "_view_module": "@jupyter-widgets/controls",
      "_view_module_version": "1.5.0",
      "_view_name": "LabelView",
      "description": "",
      "description_tooltip": null,
      "layout": "IPY_MODEL_164e161de0934180bc2e55e7910a9eec",
      "placeholder": "​",
      "style": "IPY_MODEL_c69bb4a0c121421ba066783062396d87",
      "value": "0.012 MB of 0.012 MB uploaded\r"
     }
    },
    "7b8a438617d4483aa413c2b65a8df221": {
     "model_module": "@jupyter-widgets/controls",
     "model_module_version": "1.5.0",
     "model_name": "VBoxModel",
     "state": {
      "_dom_classes": [],
      "_model_module": "@jupyter-widgets/controls",
      "_model_module_version": "1.5.0",
      "_model_name": "VBoxModel",
      "_view_count": null,
      "_view_module": "@jupyter-widgets/controls",
      "_view_module_version": "1.5.0",
      "_view_name": "VBoxView",
      "box_style": "",
      "children": [
       "IPY_MODEL_372aef90a60d4697aee32728c4db9107",
       "IPY_MODEL_de52cf49d1a24cb8a2b5acd52544273b"
      ],
      "layout": "IPY_MODEL_f154aca6dab840c580dddd6a7bd63580"
     }
    },
    "7cc76da9541f4b09b89e35f2a6bbe21e": {
     "model_module": "@jupyter-widgets/controls",
     "model_module_version": "1.5.0",
     "model_name": "ProgressStyleModel",
     "state": {
      "_model_module": "@jupyter-widgets/controls",
      "_model_module_version": "1.5.0",
      "_model_name": "ProgressStyleModel",
      "_view_count": null,
      "_view_module": "@jupyter-widgets/base",
      "_view_module_version": "1.2.0",
      "_view_name": "StyleView",
      "bar_color": null,
      "description_width": ""
     }
    },
    "7cd7aeaed660433e9093681bccf4a48a": {
     "model_module": "@jupyter-widgets/base",
     "model_module_version": "1.2.0",
     "model_name": "LayoutModel",
     "state": {
      "_model_module": "@jupyter-widgets/base",
      "_model_module_version": "1.2.0",
      "_model_name": "LayoutModel",
      "_view_count": null,
      "_view_module": "@jupyter-widgets/base",
      "_view_module_version": "1.2.0",
      "_view_name": "LayoutView",
      "align_content": null,
      "align_items": null,
      "align_self": null,
      "border": null,
      "bottom": null,
      "display": null,
      "flex": null,
      "flex_flow": null,
      "grid_area": null,
      "grid_auto_columns": null,
      "grid_auto_flow": null,
      "grid_auto_rows": null,
      "grid_column": null,
      "grid_gap": null,
      "grid_row": null,
      "grid_template_areas": null,
      "grid_template_columns": null,
      "grid_template_rows": null,
      "height": null,
      "justify_content": null,
      "justify_items": null,
      "left": null,
      "margin": null,
      "max_height": null,
      "max_width": null,
      "min_height": null,
      "min_width": null,
      "object_fit": null,
      "object_position": null,
      "order": null,
      "overflow": null,
      "overflow_x": null,
      "overflow_y": null,
      "padding": null,
      "right": null,
      "top": null,
      "visibility": null,
      "width": null
     }
    },
    "7d2adefc56d64a36b8f2c2d5cae13b23": {
     "model_module": "@jupyter-widgets/controls",
     "model_module_version": "1.5.0",
     "model_name": "VBoxModel",
     "state": {
      "_dom_classes": [],
      "_model_module": "@jupyter-widgets/controls",
      "_model_module_version": "1.5.0",
      "_model_name": "VBoxModel",
      "_view_count": null,
      "_view_module": "@jupyter-widgets/controls",
      "_view_module_version": "1.5.0",
      "_view_name": "VBoxView",
      "box_style": "",
      "children": [
       "IPY_MODEL_35aef37b57f34996b0978ffda8b782a8",
       "IPY_MODEL_2489ed47ffe44123afc5f1ce9b198620"
      ],
      "layout": "IPY_MODEL_abecbb46e26a414c8d7d6f9254ec81c0"
     }
    },
    "7db8eee96805492cb919bc68bae7a6ed": {
     "model_module": "@jupyter-widgets/controls",
     "model_module_version": "1.5.0",
     "model_name": "DescriptionStyleModel",
     "state": {
      "_model_module": "@jupyter-widgets/controls",
      "_model_module_version": "1.5.0",
      "_model_name": "DescriptionStyleModel",
      "_view_count": null,
      "_view_module": "@jupyter-widgets/base",
      "_view_module_version": "1.2.0",
      "_view_name": "StyleView",
      "description_width": ""
     }
    },
    "7e82dc82c29d4fa28cc0a92635ff4bce": {
     "model_module": "@jupyter-widgets/controls",
     "model_module_version": "1.5.0",
     "model_name": "DescriptionStyleModel",
     "state": {
      "_model_module": "@jupyter-widgets/controls",
      "_model_module_version": "1.5.0",
      "_model_name": "DescriptionStyleModel",
      "_view_count": null,
      "_view_module": "@jupyter-widgets/base",
      "_view_module_version": "1.2.0",
      "_view_name": "StyleView",
      "description_width": ""
     }
    },
    "7f26f1f2a9064d25b7addb7bdcfb94f6": {
     "model_module": "@jupyter-widgets/controls",
     "model_module_version": "1.5.0",
     "model_name": "LabelModel",
     "state": {
      "_dom_classes": [],
      "_model_module": "@jupyter-widgets/controls",
      "_model_module_version": "1.5.0",
      "_model_name": "LabelModel",
      "_view_count": null,
      "_view_module": "@jupyter-widgets/controls",
      "_view_module_version": "1.5.0",
      "_view_name": "LabelView",
      "description": "",
      "description_tooltip": null,
      "layout": "IPY_MODEL_6cf045f077d4438ab5f1e9b5c126e0f6",
      "placeholder": "​",
      "style": "IPY_MODEL_69291ab866ba4491906631219998e3d2",
      "value": "0.012 MB of 0.012 MB uploaded\r"
     }
    },
    "7fa08abbc7434297a080795610ce8590": {
     "model_module": "@jupyter-widgets/controls",
     "model_module_version": "1.5.0",
     "model_name": "VBoxModel",
     "state": {
      "_dom_classes": [],
      "_model_module": "@jupyter-widgets/controls",
      "_model_module_version": "1.5.0",
      "_model_name": "VBoxModel",
      "_view_count": null,
      "_view_module": "@jupyter-widgets/controls",
      "_view_module_version": "1.5.0",
      "_view_name": "VBoxView",
      "box_style": "",
      "children": [
       "IPY_MODEL_714975d49d2547d7aaf36804019e517d",
       "IPY_MODEL_2a6a3e3112bd4b46b76d2bca0b9304aa"
      ],
      "layout": "IPY_MODEL_d4c201ab82ec438fb646dbc5803a6b4c"
     }
    },
    "80cd08c2cc48491b97a9af035071ab44": {
     "model_module": "@jupyter-widgets/controls",
     "model_module_version": "1.5.0",
     "model_name": "DescriptionStyleModel",
     "state": {
      "_model_module": "@jupyter-widgets/controls",
      "_model_module_version": "1.5.0",
      "_model_name": "DescriptionStyleModel",
      "_view_count": null,
      "_view_module": "@jupyter-widgets/base",
      "_view_module_version": "1.2.0",
      "_view_name": "StyleView",
      "description_width": ""
     }
    },
    "8135a6521e644113a4a1c32aa0f13b39": {
     "model_module": "@jupyter-widgets/base",
     "model_module_version": "1.2.0",
     "model_name": "LayoutModel",
     "state": {
      "_model_module": "@jupyter-widgets/base",
      "_model_module_version": "1.2.0",
      "_model_name": "LayoutModel",
      "_view_count": null,
      "_view_module": "@jupyter-widgets/base",
      "_view_module_version": "1.2.0",
      "_view_name": "LayoutView",
      "align_content": null,
      "align_items": null,
      "align_self": null,
      "border": null,
      "bottom": null,
      "display": null,
      "flex": null,
      "flex_flow": null,
      "grid_area": null,
      "grid_auto_columns": null,
      "grid_auto_flow": null,
      "grid_auto_rows": null,
      "grid_column": null,
      "grid_gap": null,
      "grid_row": null,
      "grid_template_areas": null,
      "grid_template_columns": null,
      "grid_template_rows": null,
      "height": null,
      "justify_content": null,
      "justify_items": null,
      "left": null,
      "margin": null,
      "max_height": null,
      "max_width": null,
      "min_height": null,
      "min_width": null,
      "object_fit": null,
      "object_position": null,
      "order": null,
      "overflow": null,
      "overflow_x": null,
      "overflow_y": null,
      "padding": null,
      "right": null,
      "top": null,
      "visibility": null,
      "width": null
     }
    },
    "8143761f24184f0da77d8eba65d318be": {
     "model_module": "@jupyter-widgets/controls",
     "model_module_version": "1.5.0",
     "model_name": "VBoxModel",
     "state": {
      "_dom_classes": [],
      "_model_module": "@jupyter-widgets/controls",
      "_model_module_version": "1.5.0",
      "_model_name": "VBoxModel",
      "_view_count": null,
      "_view_module": "@jupyter-widgets/controls",
      "_view_module_version": "1.5.0",
      "_view_name": "VBoxView",
      "box_style": "",
      "children": [
       "IPY_MODEL_7f26f1f2a9064d25b7addb7bdcfb94f6",
       "IPY_MODEL_bf71a19f8176481a9a673db3d472d1cf"
      ],
      "layout": "IPY_MODEL_4688bdfd68ca45c2b079c04ddc010c5c"
     }
    },
    "816c030c9ac740d2a26a4a0e1c9b6028": {
     "model_module": "@jupyter-widgets/base",
     "model_module_version": "1.2.0",
     "model_name": "LayoutModel",
     "state": {
      "_model_module": "@jupyter-widgets/base",
      "_model_module_version": "1.2.0",
      "_model_name": "LayoutModel",
      "_view_count": null,
      "_view_module": "@jupyter-widgets/base",
      "_view_module_version": "1.2.0",
      "_view_name": "LayoutView",
      "align_content": null,
      "align_items": null,
      "align_self": null,
      "border": null,
      "bottom": null,
      "display": null,
      "flex": null,
      "flex_flow": null,
      "grid_area": null,
      "grid_auto_columns": null,
      "grid_auto_flow": null,
      "grid_auto_rows": null,
      "grid_column": null,
      "grid_gap": null,
      "grid_row": null,
      "grid_template_areas": null,
      "grid_template_columns": null,
      "grid_template_rows": null,
      "height": null,
      "justify_content": null,
      "justify_items": null,
      "left": null,
      "margin": null,
      "max_height": null,
      "max_width": null,
      "min_height": null,
      "min_width": null,
      "object_fit": null,
      "object_position": null,
      "order": null,
      "overflow": null,
      "overflow_x": null,
      "overflow_y": null,
      "padding": null,
      "right": null,
      "top": null,
      "visibility": null,
      "width": null
     }
    },
    "81b071145e994d1f9103d762b6b19549": {
     "model_module": "@jupyter-widgets/controls",
     "model_module_version": "1.5.0",
     "model_name": "FloatProgressModel",
     "state": {
      "_dom_classes": [],
      "_model_module": "@jupyter-widgets/controls",
      "_model_module_version": "1.5.0",
      "_model_name": "FloatProgressModel",
      "_view_count": null,
      "_view_module": "@jupyter-widgets/controls",
      "_view_module_version": "1.5.0",
      "_view_name": "ProgressView",
      "bar_style": "",
      "description": "",
      "description_tooltip": null,
      "layout": "IPY_MODEL_ffa7ae5abc73408e820284d2e499cc88",
      "max": 1,
      "min": 0,
      "orientation": "horizontal",
      "style": "IPY_MODEL_2ed495c7a7c54ab8a0ffdf62eb327ea1",
      "value": 1
     }
    },
    "81d7f5cfde944c9d8ef72b1174818180": {
     "model_module": "@jupyter-widgets/controls",
     "model_module_version": "1.5.0",
     "model_name": "ProgressStyleModel",
     "state": {
      "_model_module": "@jupyter-widgets/controls",
      "_model_module_version": "1.5.0",
      "_model_name": "ProgressStyleModel",
      "_view_count": null,
      "_view_module": "@jupyter-widgets/base",
      "_view_module_version": "1.2.0",
      "_view_name": "StyleView",
      "bar_color": null,
      "description_width": ""
     }
    },
    "823ffc42720c4285b3e203faabdf7c63": {
     "model_module": "@jupyter-widgets/base",
     "model_module_version": "1.2.0",
     "model_name": "LayoutModel",
     "state": {
      "_model_module": "@jupyter-widgets/base",
      "_model_module_version": "1.2.0",
      "_model_name": "LayoutModel",
      "_view_count": null,
      "_view_module": "@jupyter-widgets/base",
      "_view_module_version": "1.2.0",
      "_view_name": "LayoutView",
      "align_content": null,
      "align_items": null,
      "align_self": null,
      "border": null,
      "bottom": null,
      "display": null,
      "flex": null,
      "flex_flow": null,
      "grid_area": null,
      "grid_auto_columns": null,
      "grid_auto_flow": null,
      "grid_auto_rows": null,
      "grid_column": null,
      "grid_gap": null,
      "grid_row": null,
      "grid_template_areas": null,
      "grid_template_columns": null,
      "grid_template_rows": null,
      "height": null,
      "justify_content": null,
      "justify_items": null,
      "left": null,
      "margin": null,
      "max_height": null,
      "max_width": null,
      "min_height": null,
      "min_width": null,
      "object_fit": null,
      "object_position": null,
      "order": null,
      "overflow": null,
      "overflow_x": null,
      "overflow_y": null,
      "padding": null,
      "right": null,
      "top": null,
      "visibility": null,
      "width": null
     }
    },
    "84534c646f644a3ab4c9641f0fadedc1": {
     "model_module": "@jupyter-widgets/controls",
     "model_module_version": "1.5.0",
     "model_name": "ProgressStyleModel",
     "state": {
      "_model_module": "@jupyter-widgets/controls",
      "_model_module_version": "1.5.0",
      "_model_name": "ProgressStyleModel",
      "_view_count": null,
      "_view_module": "@jupyter-widgets/base",
      "_view_module_version": "1.2.0",
      "_view_name": "StyleView",
      "bar_color": null,
      "description_width": ""
     }
    },
    "845a790608ba495d86e50bfdb637e3a2": {
     "model_module": "@jupyter-widgets/controls",
     "model_module_version": "1.5.0",
     "model_name": "VBoxModel",
     "state": {
      "_dom_classes": [],
      "_model_module": "@jupyter-widgets/controls",
      "_model_module_version": "1.5.0",
      "_model_name": "VBoxModel",
      "_view_count": null,
      "_view_module": "@jupyter-widgets/controls",
      "_view_module_version": "1.5.0",
      "_view_name": "VBoxView",
      "box_style": "",
      "children": [
       "IPY_MODEL_e1e3ae925c75418e9500e50aa847f612",
       "IPY_MODEL_37114f46da3847739fae590ed40aea12"
      ],
      "layout": "IPY_MODEL_f1e1b266b2d6452ead9995a332c31d37"
     }
    },
    "848bbd0edb99436886350052b5601f0e": {
     "model_module": "@jupyter-widgets/controls",
     "model_module_version": "1.5.0",
     "model_name": "FloatProgressModel",
     "state": {
      "_dom_classes": [],
      "_model_module": "@jupyter-widgets/controls",
      "_model_module_version": "1.5.0",
      "_model_name": "FloatProgressModel",
      "_view_count": null,
      "_view_module": "@jupyter-widgets/controls",
      "_view_module_version": "1.5.0",
      "_view_name": "ProgressView",
      "bar_style": "",
      "description": "",
      "description_tooltip": null,
      "layout": "IPY_MODEL_cdcdc594d4534422910689bbdfce32dd",
      "max": 1,
      "min": 0,
      "orientation": "horizontal",
      "style": "IPY_MODEL_6a14424473e84577b02b5711cdf4b2a3",
      "value": 1
     }
    },
    "850018d45fc44a4088b6ee1710182055": {
     "model_module": "@jupyter-widgets/controls",
     "model_module_version": "1.5.0",
     "model_name": "VBoxModel",
     "state": {
      "_dom_classes": [],
      "_model_module": "@jupyter-widgets/controls",
      "_model_module_version": "1.5.0",
      "_model_name": "VBoxModel",
      "_view_count": null,
      "_view_module": "@jupyter-widgets/controls",
      "_view_module_version": "1.5.0",
      "_view_name": "VBoxView",
      "box_style": "",
      "children": [
       "IPY_MODEL_b2c88ffc903945419e7012a6125ca927",
       "IPY_MODEL_9cd4d3285fd54b0482ada3d5edefe49c"
      ],
      "layout": "IPY_MODEL_0e2ac107b968469c977601045e5e5ba0"
     }
    },
    "8506802723604a6da720fd3def392105": {
     "model_module": "@jupyter-widgets/controls",
     "model_module_version": "1.5.0",
     "model_name": "LabelModel",
     "state": {
      "_dom_classes": [],
      "_model_module": "@jupyter-widgets/controls",
      "_model_module_version": "1.5.0",
      "_model_name": "LabelModel",
      "_view_count": null,
      "_view_module": "@jupyter-widgets/controls",
      "_view_module_version": "1.5.0",
      "_view_name": "LabelView",
      "description": "",
      "description_tooltip": null,
      "layout": "IPY_MODEL_2504a95dbb16459facbb645d697a5908",
      "placeholder": "​",
      "style": "IPY_MODEL_d8a3db9740304677be963f768c612df8",
      "value": "0.012 MB of 0.012 MB uploaded\r"
     }
    },
    "856c59e8424741668b08e9edfc1f2c94": {
     "model_module": "@jupyter-widgets/controls",
     "model_module_version": "1.5.0",
     "model_name": "LabelModel",
     "state": {
      "_dom_classes": [],
      "_model_module": "@jupyter-widgets/controls",
      "_model_module_version": "1.5.0",
      "_model_name": "LabelModel",
      "_view_count": null,
      "_view_module": "@jupyter-widgets/controls",
      "_view_module_version": "1.5.0",
      "_view_name": "LabelView",
      "description": "",
      "description_tooltip": null,
      "layout": "IPY_MODEL_25e53aff95ea41f88ef4bfc6b88e040c",
      "placeholder": "​",
      "style": "IPY_MODEL_6dc32839ce5f4cefacb48579816ba007",
      "value": "0.012 MB of 0.012 MB uploaded\r"
     }
    },
    "8571c4df5e634c6bb75d4e81e564cbf9": {
     "model_module": "@jupyter-widgets/controls",
     "model_module_version": "1.5.0",
     "model_name": "FloatProgressModel",
     "state": {
      "_dom_classes": [],
      "_model_module": "@jupyter-widgets/controls",
      "_model_module_version": "1.5.0",
      "_model_name": "FloatProgressModel",
      "_view_count": null,
      "_view_module": "@jupyter-widgets/controls",
      "_view_module_version": "1.5.0",
      "_view_name": "ProgressView",
      "bar_style": "",
      "description": "",
      "description_tooltip": null,
      "layout": "IPY_MODEL_f58202cbbd91450488b20326b3676f6a",
      "max": 1,
      "min": 0,
      "orientation": "horizontal",
      "style": "IPY_MODEL_4f17dcf5a37047b48e812a75ef5fc77e",
      "value": 1
     }
    },
    "86348e671cee483aa53f58c036846aef": {
     "model_module": "@jupyter-widgets/base",
     "model_module_version": "1.2.0",
     "model_name": "LayoutModel",
     "state": {
      "_model_module": "@jupyter-widgets/base",
      "_model_module_version": "1.2.0",
      "_model_name": "LayoutModel",
      "_view_count": null,
      "_view_module": "@jupyter-widgets/base",
      "_view_module_version": "1.2.0",
      "_view_name": "LayoutView",
      "align_content": null,
      "align_items": null,
      "align_self": null,
      "border": null,
      "bottom": null,
      "display": null,
      "flex": null,
      "flex_flow": null,
      "grid_area": null,
      "grid_auto_columns": null,
      "grid_auto_flow": null,
      "grid_auto_rows": null,
      "grid_column": null,
      "grid_gap": null,
      "grid_row": null,
      "grid_template_areas": null,
      "grid_template_columns": null,
      "grid_template_rows": null,
      "height": null,
      "justify_content": null,
      "justify_items": null,
      "left": null,
      "margin": null,
      "max_height": null,
      "max_width": null,
      "min_height": null,
      "min_width": null,
      "object_fit": null,
      "object_position": null,
      "order": null,
      "overflow": null,
      "overflow_x": null,
      "overflow_y": null,
      "padding": null,
      "right": null,
      "top": null,
      "visibility": null,
      "width": null
     }
    },
    "8764a82017104dae99496ff52c14af48": {
     "model_module": "@jupyter-widgets/controls",
     "model_module_version": "1.5.0",
     "model_name": "VBoxModel",
     "state": {
      "_dom_classes": [],
      "_model_module": "@jupyter-widgets/controls",
      "_model_module_version": "1.5.0",
      "_model_name": "VBoxModel",
      "_view_count": null,
      "_view_module": "@jupyter-widgets/controls",
      "_view_module_version": "1.5.0",
      "_view_name": "VBoxView",
      "box_style": "",
      "children": [
       "IPY_MODEL_3c5bd2a8a0e54e88bb10fa4d464645f8",
       "IPY_MODEL_47d166d525874057b65e264d26b2e28e"
      ],
      "layout": "IPY_MODEL_102eaddb01a74bf88552881fd596ea64"
     }
    },
    "876de09e7e544f66b04d5de77cf3e6c4": {
     "model_module": "@jupyter-widgets/controls",
     "model_module_version": "1.5.0",
     "model_name": "FloatProgressModel",
     "state": {
      "_dom_classes": [],
      "_model_module": "@jupyter-widgets/controls",
      "_model_module_version": "1.5.0",
      "_model_name": "FloatProgressModel",
      "_view_count": null,
      "_view_module": "@jupyter-widgets/controls",
      "_view_module_version": "1.5.0",
      "_view_name": "ProgressView",
      "bar_style": "",
      "description": "",
      "description_tooltip": null,
      "layout": "IPY_MODEL_63535647ff894097a7c54d284f40d09b",
      "max": 1,
      "min": 0,
      "orientation": "horizontal",
      "style": "IPY_MODEL_176773fcdb9a43e484920ca96cdcc6ab",
      "value": 1
     }
    },
    "88f7b3412f474e9baab9770be29f314e": {
     "model_module": "@jupyter-widgets/base",
     "model_module_version": "1.2.0",
     "model_name": "LayoutModel",
     "state": {
      "_model_module": "@jupyter-widgets/base",
      "_model_module_version": "1.2.0",
      "_model_name": "LayoutModel",
      "_view_count": null,
      "_view_module": "@jupyter-widgets/base",
      "_view_module_version": "1.2.0",
      "_view_name": "LayoutView",
      "align_content": null,
      "align_items": null,
      "align_self": null,
      "border": null,
      "bottom": null,
      "display": null,
      "flex": null,
      "flex_flow": null,
      "grid_area": null,
      "grid_auto_columns": null,
      "grid_auto_flow": null,
      "grid_auto_rows": null,
      "grid_column": null,
      "grid_gap": null,
      "grid_row": null,
      "grid_template_areas": null,
      "grid_template_columns": null,
      "grid_template_rows": null,
      "height": null,
      "justify_content": null,
      "justify_items": null,
      "left": null,
      "margin": null,
      "max_height": null,
      "max_width": null,
      "min_height": null,
      "min_width": null,
      "object_fit": null,
      "object_position": null,
      "order": null,
      "overflow": null,
      "overflow_x": null,
      "overflow_y": null,
      "padding": null,
      "right": null,
      "top": null,
      "visibility": null,
      "width": null
     }
    },
    "8932d14e94df470bad678141edf044c5": {
     "model_module": "@jupyter-widgets/controls",
     "model_module_version": "1.5.0",
     "model_name": "ProgressStyleModel",
     "state": {
      "_model_module": "@jupyter-widgets/controls",
      "_model_module_version": "1.5.0",
      "_model_name": "ProgressStyleModel",
      "_view_count": null,
      "_view_module": "@jupyter-widgets/base",
      "_view_module_version": "1.2.0",
      "_view_name": "StyleView",
      "bar_color": null,
      "description_width": ""
     }
    },
    "897fe2606c6d4787b3c6c473ce702492": {
     "model_module": "@jupyter-widgets/controls",
     "model_module_version": "1.5.0",
     "model_name": "LabelModel",
     "state": {
      "_dom_classes": [],
      "_model_module": "@jupyter-widgets/controls",
      "_model_module_version": "1.5.0",
      "_model_name": "LabelModel",
      "_view_count": null,
      "_view_module": "@jupyter-widgets/controls",
      "_view_module_version": "1.5.0",
      "_view_name": "LabelView",
      "description": "",
      "description_tooltip": null,
      "layout": "IPY_MODEL_400032efd02c4b36bfb8426ec40c5316",
      "placeholder": "​",
      "style": "IPY_MODEL_7e82dc82c29d4fa28cc0a92635ff4bce",
      "value": "0.012 MB of 0.012 MB uploaded\r"
     }
    },
    "8b73fa5fa0444f55bbed637a13d0bf6d": {
     "model_module": "@jupyter-widgets/controls",
     "model_module_version": "1.5.0",
     "model_name": "DescriptionStyleModel",
     "state": {
      "_model_module": "@jupyter-widgets/controls",
      "_model_module_version": "1.5.0",
      "_model_name": "DescriptionStyleModel",
      "_view_count": null,
      "_view_module": "@jupyter-widgets/base",
      "_view_module_version": "1.2.0",
      "_view_name": "StyleView",
      "description_width": ""
     }
    },
    "8bb04608bb3b4322b2cc5d1e1a8d4b78": {
     "model_module": "@jupyter-widgets/controls",
     "model_module_version": "1.5.0",
     "model_name": "VBoxModel",
     "state": {
      "_dom_classes": [],
      "_model_module": "@jupyter-widgets/controls",
      "_model_module_version": "1.5.0",
      "_model_name": "VBoxModel",
      "_view_count": null,
      "_view_module": "@jupyter-widgets/controls",
      "_view_module_version": "1.5.0",
      "_view_name": "VBoxView",
      "box_style": "",
      "children": [
       "IPY_MODEL_9840aab485f34add8c008d38a15da241",
       "IPY_MODEL_59cfd3d2b90343c8adee03f30c9317d9"
      ],
      "layout": "IPY_MODEL_ca6018e9dbd145e9bf03353d1deccd29"
     }
    },
    "8bed13cab6e94899ba41fc4fc7238eda": {
     "model_module": "@jupyter-widgets/controls",
     "model_module_version": "1.5.0",
     "model_name": "ProgressStyleModel",
     "state": {
      "_model_module": "@jupyter-widgets/controls",
      "_model_module_version": "1.5.0",
      "_model_name": "ProgressStyleModel",
      "_view_count": null,
      "_view_module": "@jupyter-widgets/base",
      "_view_module_version": "1.2.0",
      "_view_name": "StyleView",
      "bar_color": null,
      "description_width": ""
     }
    },
    "8f0638276fd142fab41fba8b593f7416": {
     "model_module": "@jupyter-widgets/base",
     "model_module_version": "1.2.0",
     "model_name": "LayoutModel",
     "state": {
      "_model_module": "@jupyter-widgets/base",
      "_model_module_version": "1.2.0",
      "_model_name": "LayoutModel",
      "_view_count": null,
      "_view_module": "@jupyter-widgets/base",
      "_view_module_version": "1.2.0",
      "_view_name": "LayoutView",
      "align_content": null,
      "align_items": null,
      "align_self": null,
      "border": null,
      "bottom": null,
      "display": null,
      "flex": null,
      "flex_flow": null,
      "grid_area": null,
      "grid_auto_columns": null,
      "grid_auto_flow": null,
      "grid_auto_rows": null,
      "grid_column": null,
      "grid_gap": null,
      "grid_row": null,
      "grid_template_areas": null,
      "grid_template_columns": null,
      "grid_template_rows": null,
      "height": null,
      "justify_content": null,
      "justify_items": null,
      "left": null,
      "margin": null,
      "max_height": null,
      "max_width": null,
      "min_height": null,
      "min_width": null,
      "object_fit": null,
      "object_position": null,
      "order": null,
      "overflow": null,
      "overflow_x": null,
      "overflow_y": null,
      "padding": null,
      "right": null,
      "top": null,
      "visibility": null,
      "width": null
     }
    },
    "91f1fa58a42a4c3893a7684785305b71": {
     "model_module": "@jupyter-widgets/controls",
     "model_module_version": "1.5.0",
     "model_name": "LabelModel",
     "state": {
      "_dom_classes": [],
      "_model_module": "@jupyter-widgets/controls",
      "_model_module_version": "1.5.0",
      "_model_name": "LabelModel",
      "_view_count": null,
      "_view_module": "@jupyter-widgets/controls",
      "_view_module_version": "1.5.0",
      "_view_name": "LabelView",
      "description": "",
      "description_tooltip": null,
      "layout": "IPY_MODEL_e2def2f5fe5f4f19adca4883c69b4fbf",
      "placeholder": "​",
      "style": "IPY_MODEL_ba30fa41d2bd452e996c667809fd962a",
      "value": "0.012 MB of 0.012 MB uploaded\r"
     }
    },
    "94810c6c97544c99b9ede9e9d66775a5": {
     "model_module": "@jupyter-widgets/controls",
     "model_module_version": "1.5.0",
     "model_name": "FloatProgressModel",
     "state": {
      "_dom_classes": [],
      "_model_module": "@jupyter-widgets/controls",
      "_model_module_version": "1.5.0",
      "_model_name": "FloatProgressModel",
      "_view_count": null,
      "_view_module": "@jupyter-widgets/controls",
      "_view_module_version": "1.5.0",
      "_view_name": "ProgressView",
      "bar_style": "",
      "description": "",
      "description_tooltip": null,
      "layout": "IPY_MODEL_153b69299f884e8fbb726c6b3a556215",
      "max": 1,
      "min": 0,
      "orientation": "horizontal",
      "style": "IPY_MODEL_3bd69e533f484fca895648fa8ce1dc07",
      "value": 1
     }
    },
    "9673e77a8f4a420faf470732be35680c": {
     "model_module": "@jupyter-widgets/controls",
     "model_module_version": "1.5.0",
     "model_name": "DescriptionStyleModel",
     "state": {
      "_model_module": "@jupyter-widgets/controls",
      "_model_module_version": "1.5.0",
      "_model_name": "DescriptionStyleModel",
      "_view_count": null,
      "_view_module": "@jupyter-widgets/base",
      "_view_module_version": "1.2.0",
      "_view_name": "StyleView",
      "description_width": ""
     }
    },
    "9719b6c0c25d4a26be0007d64f36dc9a": {
     "model_module": "@jupyter-widgets/base",
     "model_module_version": "1.2.0",
     "model_name": "LayoutModel",
     "state": {
      "_model_module": "@jupyter-widgets/base",
      "_model_module_version": "1.2.0",
      "_model_name": "LayoutModel",
      "_view_count": null,
      "_view_module": "@jupyter-widgets/base",
      "_view_module_version": "1.2.0",
      "_view_name": "LayoutView",
      "align_content": null,
      "align_items": null,
      "align_self": null,
      "border": null,
      "bottom": null,
      "display": null,
      "flex": null,
      "flex_flow": null,
      "grid_area": null,
      "grid_auto_columns": null,
      "grid_auto_flow": null,
      "grid_auto_rows": null,
      "grid_column": null,
      "grid_gap": null,
      "grid_row": null,
      "grid_template_areas": null,
      "grid_template_columns": null,
      "grid_template_rows": null,
      "height": null,
      "justify_content": null,
      "justify_items": null,
      "left": null,
      "margin": null,
      "max_height": null,
      "max_width": null,
      "min_height": null,
      "min_width": null,
      "object_fit": null,
      "object_position": null,
      "order": null,
      "overflow": null,
      "overflow_x": null,
      "overflow_y": null,
      "padding": null,
      "right": null,
      "top": null,
      "visibility": null,
      "width": null
     }
    },
    "972671a466db4213acea21f162e3ae24": {
     "model_module": "@jupyter-widgets/base",
     "model_module_version": "1.2.0",
     "model_name": "LayoutModel",
     "state": {
      "_model_module": "@jupyter-widgets/base",
      "_model_module_version": "1.2.0",
      "_model_name": "LayoutModel",
      "_view_count": null,
      "_view_module": "@jupyter-widgets/base",
      "_view_module_version": "1.2.0",
      "_view_name": "LayoutView",
      "align_content": null,
      "align_items": null,
      "align_self": null,
      "border": null,
      "bottom": null,
      "display": null,
      "flex": null,
      "flex_flow": null,
      "grid_area": null,
      "grid_auto_columns": null,
      "grid_auto_flow": null,
      "grid_auto_rows": null,
      "grid_column": null,
      "grid_gap": null,
      "grid_row": null,
      "grid_template_areas": null,
      "grid_template_columns": null,
      "grid_template_rows": null,
      "height": null,
      "justify_content": null,
      "justify_items": null,
      "left": null,
      "margin": null,
      "max_height": null,
      "max_width": null,
      "min_height": null,
      "min_width": null,
      "object_fit": null,
      "object_position": null,
      "order": null,
      "overflow": null,
      "overflow_x": null,
      "overflow_y": null,
      "padding": null,
      "right": null,
      "top": null,
      "visibility": null,
      "width": null
     }
    },
    "9757270b87724373a76ca75bdeecd243": {
     "model_module": "@jupyter-widgets/controls",
     "model_module_version": "1.5.0",
     "model_name": "LabelModel",
     "state": {
      "_dom_classes": [],
      "_model_module": "@jupyter-widgets/controls",
      "_model_module_version": "1.5.0",
      "_model_name": "LabelModel",
      "_view_count": null,
      "_view_module": "@jupyter-widgets/controls",
      "_view_module_version": "1.5.0",
      "_view_name": "LabelView",
      "description": "",
      "description_tooltip": null,
      "layout": "IPY_MODEL_b5e1b2f4774c4e3b88eb09400b5e817e",
      "placeholder": "​",
      "style": "IPY_MODEL_511e2c8676f14d7bb936901a1a08d91c",
      "value": "0.012 MB of 0.012 MB uploaded\r"
     }
    },
    "9776d1584821492aabdbd20fc886e25d": {
     "model_module": "@jupyter-widgets/controls",
     "model_module_version": "1.5.0",
     "model_name": "LabelModel",
     "state": {
      "_dom_classes": [],
      "_model_module": "@jupyter-widgets/controls",
      "_model_module_version": "1.5.0",
      "_model_name": "LabelModel",
      "_view_count": null,
      "_view_module": "@jupyter-widgets/controls",
      "_view_module_version": "1.5.0",
      "_view_name": "LabelView",
      "description": "",
      "description_tooltip": null,
      "layout": "IPY_MODEL_36e617ad6b2c4457956656d27a1284a3",
      "placeholder": "​",
      "style": "IPY_MODEL_5a7dcb43b7504878a55d258b95847e8f",
      "value": "0.012 MB of 0.012 MB uploaded\r"
     }
    },
    "979df610488d41d3a300658018f742b0": {
     "model_module": "@jupyter-widgets/base",
     "model_module_version": "1.2.0",
     "model_name": "LayoutModel",
     "state": {
      "_model_module": "@jupyter-widgets/base",
      "_model_module_version": "1.2.0",
      "_model_name": "LayoutModel",
      "_view_count": null,
      "_view_module": "@jupyter-widgets/base",
      "_view_module_version": "1.2.0",
      "_view_name": "LayoutView",
      "align_content": null,
      "align_items": null,
      "align_self": null,
      "border": null,
      "bottom": null,
      "display": null,
      "flex": null,
      "flex_flow": null,
      "grid_area": null,
      "grid_auto_columns": null,
      "grid_auto_flow": null,
      "grid_auto_rows": null,
      "grid_column": null,
      "grid_gap": null,
      "grid_row": null,
      "grid_template_areas": null,
      "grid_template_columns": null,
      "grid_template_rows": null,
      "height": null,
      "justify_content": null,
      "justify_items": null,
      "left": null,
      "margin": null,
      "max_height": null,
      "max_width": null,
      "min_height": null,
      "min_width": null,
      "object_fit": null,
      "object_position": null,
      "order": null,
      "overflow": null,
      "overflow_x": null,
      "overflow_y": null,
      "padding": null,
      "right": null,
      "top": null,
      "visibility": null,
      "width": null
     }
    },
    "9840aab485f34add8c008d38a15da241": {
     "model_module": "@jupyter-widgets/controls",
     "model_module_version": "1.5.0",
     "model_name": "LabelModel",
     "state": {
      "_dom_classes": [],
      "_model_module": "@jupyter-widgets/controls",
      "_model_module_version": "1.5.0",
      "_model_name": "LabelModel",
      "_view_count": null,
      "_view_module": "@jupyter-widgets/controls",
      "_view_module_version": "1.5.0",
      "_view_name": "LabelView",
      "description": "",
      "description_tooltip": null,
      "layout": "IPY_MODEL_d686899683cc41c0b9147509c7a02ac3",
      "placeholder": "​",
      "style": "IPY_MODEL_691d05ee32e24a45acbdc4d2212f4881",
      "value": "0.012 MB of 0.012 MB uploaded\r"
     }
    },
    "9c0175399eac4bb09d63c1e4a0fe4606": {
     "model_module": "@jupyter-widgets/controls",
     "model_module_version": "1.5.0",
     "model_name": "LabelModel",
     "state": {
      "_dom_classes": [],
      "_model_module": "@jupyter-widgets/controls",
      "_model_module_version": "1.5.0",
      "_model_name": "LabelModel",
      "_view_count": null,
      "_view_module": "@jupyter-widgets/controls",
      "_view_module_version": "1.5.0",
      "_view_name": "LabelView",
      "description": "",
      "description_tooltip": null,
      "layout": "IPY_MODEL_3768a7369f0e48b8acfaf2becb15fe10",
      "placeholder": "​",
      "style": "IPY_MODEL_e7aa538498a944cc954bcebcdb4c7cb4",
      "value": "Waiting for wandb.init()...\r"
     }
    },
    "9c98ae152a2e4848ba74913a1cc129a8": {
     "model_module": "@jupyter-widgets/base",
     "model_module_version": "1.2.0",
     "model_name": "LayoutModel",
     "state": {
      "_model_module": "@jupyter-widgets/base",
      "_model_module_version": "1.2.0",
      "_model_name": "LayoutModel",
      "_view_count": null,
      "_view_module": "@jupyter-widgets/base",
      "_view_module_version": "1.2.0",
      "_view_name": "LayoutView",
      "align_content": null,
      "align_items": null,
      "align_self": null,
      "border": null,
      "bottom": null,
      "display": null,
      "flex": null,
      "flex_flow": null,
      "grid_area": null,
      "grid_auto_columns": null,
      "grid_auto_flow": null,
      "grid_auto_rows": null,
      "grid_column": null,
      "grid_gap": null,
      "grid_row": null,
      "grid_template_areas": null,
      "grid_template_columns": null,
      "grid_template_rows": null,
      "height": null,
      "justify_content": null,
      "justify_items": null,
      "left": null,
      "margin": null,
      "max_height": null,
      "max_width": null,
      "min_height": null,
      "min_width": null,
      "object_fit": null,
      "object_position": null,
      "order": null,
      "overflow": null,
      "overflow_x": null,
      "overflow_y": null,
      "padding": null,
      "right": null,
      "top": null,
      "visibility": null,
      "width": null
     }
    },
    "9cd4d3285fd54b0482ada3d5edefe49c": {
     "model_module": "@jupyter-widgets/controls",
     "model_module_version": "1.5.0",
     "model_name": "FloatProgressModel",
     "state": {
      "_dom_classes": [],
      "_model_module": "@jupyter-widgets/controls",
      "_model_module_version": "1.5.0",
      "_model_name": "FloatProgressModel",
      "_view_count": null,
      "_view_module": "@jupyter-widgets/controls",
      "_view_module_version": "1.5.0",
      "_view_name": "ProgressView",
      "bar_style": "",
      "description": "",
      "description_tooltip": null,
      "layout": "IPY_MODEL_a21c37df9cdd4c47b2324d55c0ce94c8",
      "max": 1,
      "min": 0,
      "orientation": "horizontal",
      "style": "IPY_MODEL_f8da9e2d02b548a49841417f8cf06d70",
      "value": 1
     }
    },
    "9d360112a1934fccb712a77f23f70d23": {
     "model_module": "@jupyter-widgets/controls",
     "model_module_version": "1.5.0",
     "model_name": "VBoxModel",
     "state": {
      "_dom_classes": [],
      "_model_module": "@jupyter-widgets/controls",
      "_model_module_version": "1.5.0",
      "_model_name": "VBoxModel",
      "_view_count": null,
      "_view_module": "@jupyter-widgets/controls",
      "_view_module_version": "1.5.0",
      "_view_name": "VBoxView",
      "box_style": "",
      "children": [
       "IPY_MODEL_094a901abb65467daaa839975d85f260",
       "IPY_MODEL_c4a7ea4ecfc14714a399acfd9f05c5c8"
      ],
      "layout": "IPY_MODEL_2c46e1433da447c9b1aff64973f2d4a6"
     }
    },
    "9d848ba537e043a98af790e8ac328bbe": {
     "model_module": "@jupyter-widgets/controls",
     "model_module_version": "1.5.0",
     "model_name": "ProgressStyleModel",
     "state": {
      "_model_module": "@jupyter-widgets/controls",
      "_model_module_version": "1.5.0",
      "_model_name": "ProgressStyleModel",
      "_view_count": null,
      "_view_module": "@jupyter-widgets/base",
      "_view_module_version": "1.2.0",
      "_view_name": "StyleView",
      "bar_color": null,
      "description_width": ""
     }
    },
    "9d9f3358b7de4ce7b4c28165e33244d9": {
     "model_module": "@jupyter-widgets/base",
     "model_module_version": "1.2.0",
     "model_name": "LayoutModel",
     "state": {
      "_model_module": "@jupyter-widgets/base",
      "_model_module_version": "1.2.0",
      "_model_name": "LayoutModel",
      "_view_count": null,
      "_view_module": "@jupyter-widgets/base",
      "_view_module_version": "1.2.0",
      "_view_name": "LayoutView",
      "align_content": null,
      "align_items": null,
      "align_self": null,
      "border": null,
      "bottom": null,
      "display": null,
      "flex": null,
      "flex_flow": null,
      "grid_area": null,
      "grid_auto_columns": null,
      "grid_auto_flow": null,
      "grid_auto_rows": null,
      "grid_column": null,
      "grid_gap": null,
      "grid_row": null,
      "grid_template_areas": null,
      "grid_template_columns": null,
      "grid_template_rows": null,
      "height": null,
      "justify_content": null,
      "justify_items": null,
      "left": null,
      "margin": null,
      "max_height": null,
      "max_width": null,
      "min_height": null,
      "min_width": null,
      "object_fit": null,
      "object_position": null,
      "order": null,
      "overflow": null,
      "overflow_x": null,
      "overflow_y": null,
      "padding": null,
      "right": null,
      "top": null,
      "visibility": null,
      "width": null
     }
    },
    "9eac5421d9144ce39c5d3ca4841212bb": {
     "model_module": "@jupyter-widgets/base",
     "model_module_version": "1.2.0",
     "model_name": "LayoutModel",
     "state": {
      "_model_module": "@jupyter-widgets/base",
      "_model_module_version": "1.2.0",
      "_model_name": "LayoutModel",
      "_view_count": null,
      "_view_module": "@jupyter-widgets/base",
      "_view_module_version": "1.2.0",
      "_view_name": "LayoutView",
      "align_content": null,
      "align_items": null,
      "align_self": null,
      "border": null,
      "bottom": null,
      "display": null,
      "flex": null,
      "flex_flow": null,
      "grid_area": null,
      "grid_auto_columns": null,
      "grid_auto_flow": null,
      "grid_auto_rows": null,
      "grid_column": null,
      "grid_gap": null,
      "grid_row": null,
      "grid_template_areas": null,
      "grid_template_columns": null,
      "grid_template_rows": null,
      "height": null,
      "justify_content": null,
      "justify_items": null,
      "left": null,
      "margin": null,
      "max_height": null,
      "max_width": null,
      "min_height": null,
      "min_width": null,
      "object_fit": null,
      "object_position": null,
      "order": null,
      "overflow": null,
      "overflow_x": null,
      "overflow_y": null,
      "padding": null,
      "right": null,
      "top": null,
      "visibility": null,
      "width": null
     }
    },
    "a0e6be950a7748d2830dca008ab1aae2": {
     "model_module": "@jupyter-widgets/controls",
     "model_module_version": "1.5.0",
     "model_name": "ProgressStyleModel",
     "state": {
      "_model_module": "@jupyter-widgets/controls",
      "_model_module_version": "1.5.0",
      "_model_name": "ProgressStyleModel",
      "_view_count": null,
      "_view_module": "@jupyter-widgets/base",
      "_view_module_version": "1.2.0",
      "_view_name": "StyleView",
      "bar_color": null,
      "description_width": ""
     }
    },
    "a1419ea5ad64420995c61caeccb8f227": {
     "model_module": "@jupyter-widgets/controls",
     "model_module_version": "1.5.0",
     "model_name": "ProgressStyleModel",
     "state": {
      "_model_module": "@jupyter-widgets/controls",
      "_model_module_version": "1.5.0",
      "_model_name": "ProgressStyleModel",
      "_view_count": null,
      "_view_module": "@jupyter-widgets/base",
      "_view_module_version": "1.2.0",
      "_view_name": "StyleView",
      "bar_color": null,
      "description_width": ""
     }
    },
    "a1bbbb0e98954595b06adb9a129d5d9e": {
     "model_module": "@jupyter-widgets/controls",
     "model_module_version": "1.5.0",
     "model_name": "ProgressStyleModel",
     "state": {
      "_model_module": "@jupyter-widgets/controls",
      "_model_module_version": "1.5.0",
      "_model_name": "ProgressStyleModel",
      "_view_count": null,
      "_view_module": "@jupyter-widgets/base",
      "_view_module_version": "1.2.0",
      "_view_name": "StyleView",
      "bar_color": null,
      "description_width": ""
     }
    },
    "a1cd9412982f408d96b8ddf1a67bf31e": {
     "model_module": "@jupyter-widgets/controls",
     "model_module_version": "1.5.0",
     "model_name": "DescriptionStyleModel",
     "state": {
      "_model_module": "@jupyter-widgets/controls",
      "_model_module_version": "1.5.0",
      "_model_name": "DescriptionStyleModel",
      "_view_count": null,
      "_view_module": "@jupyter-widgets/base",
      "_view_module_version": "1.2.0",
      "_view_name": "StyleView",
      "description_width": ""
     }
    },
    "a21c37df9cdd4c47b2324d55c0ce94c8": {
     "model_module": "@jupyter-widgets/base",
     "model_module_version": "1.2.0",
     "model_name": "LayoutModel",
     "state": {
      "_model_module": "@jupyter-widgets/base",
      "_model_module_version": "1.2.0",
      "_model_name": "LayoutModel",
      "_view_count": null,
      "_view_module": "@jupyter-widgets/base",
      "_view_module_version": "1.2.0",
      "_view_name": "LayoutView",
      "align_content": null,
      "align_items": null,
      "align_self": null,
      "border": null,
      "bottom": null,
      "display": null,
      "flex": null,
      "flex_flow": null,
      "grid_area": null,
      "grid_auto_columns": null,
      "grid_auto_flow": null,
      "grid_auto_rows": null,
      "grid_column": null,
      "grid_gap": null,
      "grid_row": null,
      "grid_template_areas": null,
      "grid_template_columns": null,
      "grid_template_rows": null,
      "height": null,
      "justify_content": null,
      "justify_items": null,
      "left": null,
      "margin": null,
      "max_height": null,
      "max_width": null,
      "min_height": null,
      "min_width": null,
      "object_fit": null,
      "object_position": null,
      "order": null,
      "overflow": null,
      "overflow_x": null,
      "overflow_y": null,
      "padding": null,
      "right": null,
      "top": null,
      "visibility": null,
      "width": null
     }
    },
    "a2931981a6fa4d45b97030a87950ffe6": {
     "model_module": "@jupyter-widgets/base",
     "model_module_version": "1.2.0",
     "model_name": "LayoutModel",
     "state": {
      "_model_module": "@jupyter-widgets/base",
      "_model_module_version": "1.2.0",
      "_model_name": "LayoutModel",
      "_view_count": null,
      "_view_module": "@jupyter-widgets/base",
      "_view_module_version": "1.2.0",
      "_view_name": "LayoutView",
      "align_content": null,
      "align_items": null,
      "align_self": null,
      "border": null,
      "bottom": null,
      "display": null,
      "flex": null,
      "flex_flow": null,
      "grid_area": null,
      "grid_auto_columns": null,
      "grid_auto_flow": null,
      "grid_auto_rows": null,
      "grid_column": null,
      "grid_gap": null,
      "grid_row": null,
      "grid_template_areas": null,
      "grid_template_columns": null,
      "grid_template_rows": null,
      "height": null,
      "justify_content": null,
      "justify_items": null,
      "left": null,
      "margin": null,
      "max_height": null,
      "max_width": null,
      "min_height": null,
      "min_width": null,
      "object_fit": null,
      "object_position": null,
      "order": null,
      "overflow": null,
      "overflow_x": null,
      "overflow_y": null,
      "padding": null,
      "right": null,
      "top": null,
      "visibility": null,
      "width": null
     }
    },
    "a2eec7bb6db142c18d6aada2bc690b38": {
     "model_module": "@jupyter-widgets/base",
     "model_module_version": "1.2.0",
     "model_name": "LayoutModel",
     "state": {
      "_model_module": "@jupyter-widgets/base",
      "_model_module_version": "1.2.0",
      "_model_name": "LayoutModel",
      "_view_count": null,
      "_view_module": "@jupyter-widgets/base",
      "_view_module_version": "1.2.0",
      "_view_name": "LayoutView",
      "align_content": null,
      "align_items": null,
      "align_self": null,
      "border": null,
      "bottom": null,
      "display": null,
      "flex": null,
      "flex_flow": null,
      "grid_area": null,
      "grid_auto_columns": null,
      "grid_auto_flow": null,
      "grid_auto_rows": null,
      "grid_column": null,
      "grid_gap": null,
      "grid_row": null,
      "grid_template_areas": null,
      "grid_template_columns": null,
      "grid_template_rows": null,
      "height": null,
      "justify_content": null,
      "justify_items": null,
      "left": null,
      "margin": null,
      "max_height": null,
      "max_width": null,
      "min_height": null,
      "min_width": null,
      "object_fit": null,
      "object_position": null,
      "order": null,
      "overflow": null,
      "overflow_x": null,
      "overflow_y": null,
      "padding": null,
      "right": null,
      "top": null,
      "visibility": null,
      "width": null
     }
    },
    "a3f0493e462e4e329bf805f766ff6278": {
     "model_module": "@jupyter-widgets/controls",
     "model_module_version": "1.5.0",
     "model_name": "VBoxModel",
     "state": {
      "_dom_classes": [],
      "_model_module": "@jupyter-widgets/controls",
      "_model_module_version": "1.5.0",
      "_model_name": "VBoxModel",
      "_view_count": null,
      "_view_module": "@jupyter-widgets/controls",
      "_view_module_version": "1.5.0",
      "_view_name": "VBoxView",
      "box_style": "",
      "children": [
       "IPY_MODEL_56e9c7764a754dfc879810c600493c4d",
       "IPY_MODEL_596ff76ee25e4268bfcb6585ed07e545"
      ],
      "layout": "IPY_MODEL_b225991b63ab4c25bc1acba7690e5b70"
     }
    },
    "a4c08b1acf3644c7826ccc3f0e7c953d": {
     "model_module": "@jupyter-widgets/controls",
     "model_module_version": "1.5.0",
     "model_name": "DescriptionStyleModel",
     "state": {
      "_model_module": "@jupyter-widgets/controls",
      "_model_module_version": "1.5.0",
      "_model_name": "DescriptionStyleModel",
      "_view_count": null,
      "_view_module": "@jupyter-widgets/base",
      "_view_module_version": "1.2.0",
      "_view_name": "StyleView",
      "description_width": ""
     }
    },
    "a5c94641196d4f38ab54cc5e83017773": {
     "model_module": "@jupyter-widgets/base",
     "model_module_version": "1.2.0",
     "model_name": "LayoutModel",
     "state": {
      "_model_module": "@jupyter-widgets/base",
      "_model_module_version": "1.2.0",
      "_model_name": "LayoutModel",
      "_view_count": null,
      "_view_module": "@jupyter-widgets/base",
      "_view_module_version": "1.2.0",
      "_view_name": "LayoutView",
      "align_content": null,
      "align_items": null,
      "align_self": null,
      "border": null,
      "bottom": null,
      "display": null,
      "flex": null,
      "flex_flow": null,
      "grid_area": null,
      "grid_auto_columns": null,
      "grid_auto_flow": null,
      "grid_auto_rows": null,
      "grid_column": null,
      "grid_gap": null,
      "grid_row": null,
      "grid_template_areas": null,
      "grid_template_columns": null,
      "grid_template_rows": null,
      "height": null,
      "justify_content": null,
      "justify_items": null,
      "left": null,
      "margin": null,
      "max_height": null,
      "max_width": null,
      "min_height": null,
      "min_width": null,
      "object_fit": null,
      "object_position": null,
      "order": null,
      "overflow": null,
      "overflow_x": null,
      "overflow_y": null,
      "padding": null,
      "right": null,
      "top": null,
      "visibility": null,
      "width": null
     }
    },
    "a6700dda685449a5bcf21cbfde553f9a": {
     "model_module": "@jupyter-widgets/base",
     "model_module_version": "1.2.0",
     "model_name": "LayoutModel",
     "state": {
      "_model_module": "@jupyter-widgets/base",
      "_model_module_version": "1.2.0",
      "_model_name": "LayoutModel",
      "_view_count": null,
      "_view_module": "@jupyter-widgets/base",
      "_view_module_version": "1.2.0",
      "_view_name": "LayoutView",
      "align_content": null,
      "align_items": null,
      "align_self": null,
      "border": null,
      "bottom": null,
      "display": null,
      "flex": null,
      "flex_flow": null,
      "grid_area": null,
      "grid_auto_columns": null,
      "grid_auto_flow": null,
      "grid_auto_rows": null,
      "grid_column": null,
      "grid_gap": null,
      "grid_row": null,
      "grid_template_areas": null,
      "grid_template_columns": null,
      "grid_template_rows": null,
      "height": null,
      "justify_content": null,
      "justify_items": null,
      "left": null,
      "margin": null,
      "max_height": null,
      "max_width": null,
      "min_height": null,
      "min_width": null,
      "object_fit": null,
      "object_position": null,
      "order": null,
      "overflow": null,
      "overflow_x": null,
      "overflow_y": null,
      "padding": null,
      "right": null,
      "top": null,
      "visibility": null,
      "width": null
     }
    },
    "a674318c2a09417a8ee79f7be70121f5": {
     "model_module": "@jupyter-widgets/controls",
     "model_module_version": "1.5.0",
     "model_name": "ProgressStyleModel",
     "state": {
      "_model_module": "@jupyter-widgets/controls",
      "_model_module_version": "1.5.0",
      "_model_name": "ProgressStyleModel",
      "_view_count": null,
      "_view_module": "@jupyter-widgets/base",
      "_view_module_version": "1.2.0",
      "_view_name": "StyleView",
      "bar_color": null,
      "description_width": ""
     }
    },
    "a6c57cff93334ba0b9a1574fa8d239b4": {
     "model_module": "@jupyter-widgets/base",
     "model_module_version": "1.2.0",
     "model_name": "LayoutModel",
     "state": {
      "_model_module": "@jupyter-widgets/base",
      "_model_module_version": "1.2.0",
      "_model_name": "LayoutModel",
      "_view_count": null,
      "_view_module": "@jupyter-widgets/base",
      "_view_module_version": "1.2.0",
      "_view_name": "LayoutView",
      "align_content": null,
      "align_items": null,
      "align_self": null,
      "border": null,
      "bottom": null,
      "display": null,
      "flex": null,
      "flex_flow": null,
      "grid_area": null,
      "grid_auto_columns": null,
      "grid_auto_flow": null,
      "grid_auto_rows": null,
      "grid_column": null,
      "grid_gap": null,
      "grid_row": null,
      "grid_template_areas": null,
      "grid_template_columns": null,
      "grid_template_rows": null,
      "height": null,
      "justify_content": null,
      "justify_items": null,
      "left": null,
      "margin": null,
      "max_height": null,
      "max_width": null,
      "min_height": null,
      "min_width": null,
      "object_fit": null,
      "object_position": null,
      "order": null,
      "overflow": null,
      "overflow_x": null,
      "overflow_y": null,
      "padding": null,
      "right": null,
      "top": null,
      "visibility": null,
      "width": null
     }
    },
    "a6fbd771efb4483388eb8f3bd34b0d9e": {
     "model_module": "@jupyter-widgets/controls",
     "model_module_version": "1.5.0",
     "model_name": "LabelModel",
     "state": {
      "_dom_classes": [],
      "_model_module": "@jupyter-widgets/controls",
      "_model_module_version": "1.5.0",
      "_model_name": "LabelModel",
      "_view_count": null,
      "_view_module": "@jupyter-widgets/controls",
      "_view_module_version": "1.5.0",
      "_view_name": "LabelView",
      "description": "",
      "description_tooltip": null,
      "layout": "IPY_MODEL_4c6b31e52818467597af9d26c349307b",
      "placeholder": "​",
      "style": "IPY_MODEL_b9068aece49d4b8b8b780dfc1e1fbfcb",
      "value": "Waiting for wandb.init()...\r"
     }
    },
    "a71e9f0f6a594a4c999de0d5cbce91c0": {
     "model_module": "@jupyter-widgets/controls",
     "model_module_version": "1.5.0",
     "model_name": "VBoxModel",
     "state": {
      "_dom_classes": [],
      "_model_module": "@jupyter-widgets/controls",
      "_model_module_version": "1.5.0",
      "_model_name": "VBoxModel",
      "_view_count": null,
      "_view_module": "@jupyter-widgets/controls",
      "_view_module_version": "1.5.0",
      "_view_name": "VBoxView",
      "box_style": "",
      "children": [
       "IPY_MODEL_78351456b5be47d2bde2d51ecb1269d6",
       "IPY_MODEL_29e5618631bf4b459916cda8ba78f319"
      ],
      "layout": "IPY_MODEL_33879966d32246988c008bbc8674aa87"
     }
    },
    "a8a4f80b99974a2ba6ef852dd45ba4aa": {
     "model_module": "@jupyter-widgets/controls",
     "model_module_version": "1.5.0",
     "model_name": "ProgressStyleModel",
     "state": {
      "_model_module": "@jupyter-widgets/controls",
      "_model_module_version": "1.5.0",
      "_model_name": "ProgressStyleModel",
      "_view_count": null,
      "_view_module": "@jupyter-widgets/base",
      "_view_module_version": "1.2.0",
      "_view_name": "StyleView",
      "bar_color": null,
      "description_width": ""
     }
    },
    "a9db2b39f33a487ca7b2d6bbc991c7db": {
     "model_module": "@jupyter-widgets/base",
     "model_module_version": "1.2.0",
     "model_name": "LayoutModel",
     "state": {
      "_model_module": "@jupyter-widgets/base",
      "_model_module_version": "1.2.0",
      "_model_name": "LayoutModel",
      "_view_count": null,
      "_view_module": "@jupyter-widgets/base",
      "_view_module_version": "1.2.0",
      "_view_name": "LayoutView",
      "align_content": null,
      "align_items": null,
      "align_self": null,
      "border": null,
      "bottom": null,
      "display": null,
      "flex": null,
      "flex_flow": null,
      "grid_area": null,
      "grid_auto_columns": null,
      "grid_auto_flow": null,
      "grid_auto_rows": null,
      "grid_column": null,
      "grid_gap": null,
      "grid_row": null,
      "grid_template_areas": null,
      "grid_template_columns": null,
      "grid_template_rows": null,
      "height": null,
      "justify_content": null,
      "justify_items": null,
      "left": null,
      "margin": null,
      "max_height": null,
      "max_width": null,
      "min_height": null,
      "min_width": null,
      "object_fit": null,
      "object_position": null,
      "order": null,
      "overflow": null,
      "overflow_x": null,
      "overflow_y": null,
      "padding": null,
      "right": null,
      "top": null,
      "visibility": null,
      "width": null
     }
    },
    "abecbb46e26a414c8d7d6f9254ec81c0": {
     "model_module": "@jupyter-widgets/base",
     "model_module_version": "1.2.0",
     "model_name": "LayoutModel",
     "state": {
      "_model_module": "@jupyter-widgets/base",
      "_model_module_version": "1.2.0",
      "_model_name": "LayoutModel",
      "_view_count": null,
      "_view_module": "@jupyter-widgets/base",
      "_view_module_version": "1.2.0",
      "_view_name": "LayoutView",
      "align_content": null,
      "align_items": null,
      "align_self": null,
      "border": null,
      "bottom": null,
      "display": null,
      "flex": null,
      "flex_flow": null,
      "grid_area": null,
      "grid_auto_columns": null,
      "grid_auto_flow": null,
      "grid_auto_rows": null,
      "grid_column": null,
      "grid_gap": null,
      "grid_row": null,
      "grid_template_areas": null,
      "grid_template_columns": null,
      "grid_template_rows": null,
      "height": null,
      "justify_content": null,
      "justify_items": null,
      "left": null,
      "margin": null,
      "max_height": null,
      "max_width": null,
      "min_height": null,
      "min_width": null,
      "object_fit": null,
      "object_position": null,
      "order": null,
      "overflow": null,
      "overflow_x": null,
      "overflow_y": null,
      "padding": null,
      "right": null,
      "top": null,
      "visibility": null,
      "width": null
     }
    },
    "b0fa15b8563544558f58710ff3c82590": {
     "model_module": "@jupyter-widgets/base",
     "model_module_version": "1.2.0",
     "model_name": "LayoutModel",
     "state": {
      "_model_module": "@jupyter-widgets/base",
      "_model_module_version": "1.2.0",
      "_model_name": "LayoutModel",
      "_view_count": null,
      "_view_module": "@jupyter-widgets/base",
      "_view_module_version": "1.2.0",
      "_view_name": "LayoutView",
      "align_content": null,
      "align_items": null,
      "align_self": null,
      "border": null,
      "bottom": null,
      "display": null,
      "flex": null,
      "flex_flow": null,
      "grid_area": null,
      "grid_auto_columns": null,
      "grid_auto_flow": null,
      "grid_auto_rows": null,
      "grid_column": null,
      "grid_gap": null,
      "grid_row": null,
      "grid_template_areas": null,
      "grid_template_columns": null,
      "grid_template_rows": null,
      "height": null,
      "justify_content": null,
      "justify_items": null,
      "left": null,
      "margin": null,
      "max_height": null,
      "max_width": null,
      "min_height": null,
      "min_width": null,
      "object_fit": null,
      "object_position": null,
      "order": null,
      "overflow": null,
      "overflow_x": null,
      "overflow_y": null,
      "padding": null,
      "right": null,
      "top": null,
      "visibility": null,
      "width": null
     }
    },
    "b21b479bd8894e86a9b60f3570c8b70c": {
     "model_module": "@jupyter-widgets/base",
     "model_module_version": "1.2.0",
     "model_name": "LayoutModel",
     "state": {
      "_model_module": "@jupyter-widgets/base",
      "_model_module_version": "1.2.0",
      "_model_name": "LayoutModel",
      "_view_count": null,
      "_view_module": "@jupyter-widgets/base",
      "_view_module_version": "1.2.0",
      "_view_name": "LayoutView",
      "align_content": null,
      "align_items": null,
      "align_self": null,
      "border": null,
      "bottom": null,
      "display": null,
      "flex": null,
      "flex_flow": null,
      "grid_area": null,
      "grid_auto_columns": null,
      "grid_auto_flow": null,
      "grid_auto_rows": null,
      "grid_column": null,
      "grid_gap": null,
      "grid_row": null,
      "grid_template_areas": null,
      "grid_template_columns": null,
      "grid_template_rows": null,
      "height": null,
      "justify_content": null,
      "justify_items": null,
      "left": null,
      "margin": null,
      "max_height": null,
      "max_width": null,
      "min_height": null,
      "min_width": null,
      "object_fit": null,
      "object_position": null,
      "order": null,
      "overflow": null,
      "overflow_x": null,
      "overflow_y": null,
      "padding": null,
      "right": null,
      "top": null,
      "visibility": null,
      "width": null
     }
    },
    "b225991b63ab4c25bc1acba7690e5b70": {
     "model_module": "@jupyter-widgets/base",
     "model_module_version": "1.2.0",
     "model_name": "LayoutModel",
     "state": {
      "_model_module": "@jupyter-widgets/base",
      "_model_module_version": "1.2.0",
      "_model_name": "LayoutModel",
      "_view_count": null,
      "_view_module": "@jupyter-widgets/base",
      "_view_module_version": "1.2.0",
      "_view_name": "LayoutView",
      "align_content": null,
      "align_items": null,
      "align_self": null,
      "border": null,
      "bottom": null,
      "display": null,
      "flex": null,
      "flex_flow": null,
      "grid_area": null,
      "grid_auto_columns": null,
      "grid_auto_flow": null,
      "grid_auto_rows": null,
      "grid_column": null,
      "grid_gap": null,
      "grid_row": null,
      "grid_template_areas": null,
      "grid_template_columns": null,
      "grid_template_rows": null,
      "height": null,
      "justify_content": null,
      "justify_items": null,
      "left": null,
      "margin": null,
      "max_height": null,
      "max_width": null,
      "min_height": null,
      "min_width": null,
      "object_fit": null,
      "object_position": null,
      "order": null,
      "overflow": null,
      "overflow_x": null,
      "overflow_y": null,
      "padding": null,
      "right": null,
      "top": null,
      "visibility": null,
      "width": null
     }
    },
    "b2c88ffc903945419e7012a6125ca927": {
     "model_module": "@jupyter-widgets/controls",
     "model_module_version": "1.5.0",
     "model_name": "LabelModel",
     "state": {
      "_dom_classes": [],
      "_model_module": "@jupyter-widgets/controls",
      "_model_module_version": "1.5.0",
      "_model_name": "LabelModel",
      "_view_count": null,
      "_view_module": "@jupyter-widgets/controls",
      "_view_module_version": "1.5.0",
      "_view_name": "LabelView",
      "description": "",
      "description_tooltip": null,
      "layout": "IPY_MODEL_4d67e137bd7e4e0b92fa26a021e6be92",
      "placeholder": "​",
      "style": "IPY_MODEL_5567aadd7b4747ccbdc3fe111b309e2e",
      "value": "0.012 MB of 0.012 MB uploaded\r"
     }
    },
    "b3a1c9b5f3104b02ba2ae2aae46d36ce": {
     "model_module": "@jupyter-widgets/controls",
     "model_module_version": "1.5.0",
     "model_name": "ProgressStyleModel",
     "state": {
      "_model_module": "@jupyter-widgets/controls",
      "_model_module_version": "1.5.0",
      "_model_name": "ProgressStyleModel",
      "_view_count": null,
      "_view_module": "@jupyter-widgets/base",
      "_view_module_version": "1.2.0",
      "_view_name": "StyleView",
      "bar_color": null,
      "description_width": ""
     }
    },
    "b3b152c8d2a54f9f90adbe0fb866410d": {
     "model_module": "@jupyter-widgets/controls",
     "model_module_version": "1.5.0",
     "model_name": "VBoxModel",
     "state": {
      "_dom_classes": [],
      "_model_module": "@jupyter-widgets/controls",
      "_model_module_version": "1.5.0",
      "_model_name": "VBoxModel",
      "_view_count": null,
      "_view_module": "@jupyter-widgets/controls",
      "_view_module_version": "1.5.0",
      "_view_name": "VBoxView",
      "box_style": "",
      "children": [
       "IPY_MODEL_fd48d56f77bf4f03bb1660e838d4cc48",
       "IPY_MODEL_74302fecc395413c8f465b658676f093"
      ],
      "layout": "IPY_MODEL_cfaa260d63e644b7a21b4dff1f92f8a0"
     }
    },
    "b44e892018174182bb94c40ae89b17e8": {
     "model_module": "@jupyter-widgets/base",
     "model_module_version": "1.2.0",
     "model_name": "LayoutModel",
     "state": {
      "_model_module": "@jupyter-widgets/base",
      "_model_module_version": "1.2.0",
      "_model_name": "LayoutModel",
      "_view_count": null,
      "_view_module": "@jupyter-widgets/base",
      "_view_module_version": "1.2.0",
      "_view_name": "LayoutView",
      "align_content": null,
      "align_items": null,
      "align_self": null,
      "border": null,
      "bottom": null,
      "display": null,
      "flex": null,
      "flex_flow": null,
      "grid_area": null,
      "grid_auto_columns": null,
      "grid_auto_flow": null,
      "grid_auto_rows": null,
      "grid_column": null,
      "grid_gap": null,
      "grid_row": null,
      "grid_template_areas": null,
      "grid_template_columns": null,
      "grid_template_rows": null,
      "height": null,
      "justify_content": null,
      "justify_items": null,
      "left": null,
      "margin": null,
      "max_height": null,
      "max_width": null,
      "min_height": null,
      "min_width": null,
      "object_fit": null,
      "object_position": null,
      "order": null,
      "overflow": null,
      "overflow_x": null,
      "overflow_y": null,
      "padding": null,
      "right": null,
      "top": null,
      "visibility": null,
      "width": null
     }
    },
    "b4d73619ec394f0a8c77c9bd6a13302f": {
     "model_module": "@jupyter-widgets/controls",
     "model_module_version": "1.5.0",
     "model_name": "LabelModel",
     "state": {
      "_dom_classes": [],
      "_model_module": "@jupyter-widgets/controls",
      "_model_module_version": "1.5.0",
      "_model_name": "LabelModel",
      "_view_count": null,
      "_view_module": "@jupyter-widgets/controls",
      "_view_module_version": "1.5.0",
      "_view_name": "LabelView",
      "description": "",
      "description_tooltip": null,
      "layout": "IPY_MODEL_c4115ace978749f89432b7f3bad8814b",
      "placeholder": "​",
      "style": "IPY_MODEL_0a0999d0e7d0452fb58bb8ed8194cb53",
      "value": "0.012 MB of 0.012 MB uploaded\r"
     }
    },
    "b4f784aa36194ef68c01e58b11d6f9e5": {
     "model_module": "@jupyter-widgets/controls",
     "model_module_version": "1.5.0",
     "model_name": "DescriptionStyleModel",
     "state": {
      "_model_module": "@jupyter-widgets/controls",
      "_model_module_version": "1.5.0",
      "_model_name": "DescriptionStyleModel",
      "_view_count": null,
      "_view_module": "@jupyter-widgets/base",
      "_view_module_version": "1.2.0",
      "_view_name": "StyleView",
      "description_width": ""
     }
    },
    "b5e1b2f4774c4e3b88eb09400b5e817e": {
     "model_module": "@jupyter-widgets/base",
     "model_module_version": "1.2.0",
     "model_name": "LayoutModel",
     "state": {
      "_model_module": "@jupyter-widgets/base",
      "_model_module_version": "1.2.0",
      "_model_name": "LayoutModel",
      "_view_count": null,
      "_view_module": "@jupyter-widgets/base",
      "_view_module_version": "1.2.0",
      "_view_name": "LayoutView",
      "align_content": null,
      "align_items": null,
      "align_self": null,
      "border": null,
      "bottom": null,
      "display": null,
      "flex": null,
      "flex_flow": null,
      "grid_area": null,
      "grid_auto_columns": null,
      "grid_auto_flow": null,
      "grid_auto_rows": null,
      "grid_column": null,
      "grid_gap": null,
      "grid_row": null,
      "grid_template_areas": null,
      "grid_template_columns": null,
      "grid_template_rows": null,
      "height": null,
      "justify_content": null,
      "justify_items": null,
      "left": null,
      "margin": null,
      "max_height": null,
      "max_width": null,
      "min_height": null,
      "min_width": null,
      "object_fit": null,
      "object_position": null,
      "order": null,
      "overflow": null,
      "overflow_x": null,
      "overflow_y": null,
      "padding": null,
      "right": null,
      "top": null,
      "visibility": null,
      "width": null
     }
    },
    "b81f8abad9554849a323d3f56f86c02c": {
     "model_module": "@jupyter-widgets/base",
     "model_module_version": "1.2.0",
     "model_name": "LayoutModel",
     "state": {
      "_model_module": "@jupyter-widgets/base",
      "_model_module_version": "1.2.0",
      "_model_name": "LayoutModel",
      "_view_count": null,
      "_view_module": "@jupyter-widgets/base",
      "_view_module_version": "1.2.0",
      "_view_name": "LayoutView",
      "align_content": null,
      "align_items": null,
      "align_self": null,
      "border": null,
      "bottom": null,
      "display": null,
      "flex": null,
      "flex_flow": null,
      "grid_area": null,
      "grid_auto_columns": null,
      "grid_auto_flow": null,
      "grid_auto_rows": null,
      "grid_column": null,
      "grid_gap": null,
      "grid_row": null,
      "grid_template_areas": null,
      "grid_template_columns": null,
      "grid_template_rows": null,
      "height": null,
      "justify_content": null,
      "justify_items": null,
      "left": null,
      "margin": null,
      "max_height": null,
      "max_width": null,
      "min_height": null,
      "min_width": null,
      "object_fit": null,
      "object_position": null,
      "order": null,
      "overflow": null,
      "overflow_x": null,
      "overflow_y": null,
      "padding": null,
      "right": null,
      "top": null,
      "visibility": null,
      "width": null
     }
    },
    "b8ae58d0987540bf972fba9220c95d30": {
     "model_module": "@jupyter-widgets/base",
     "model_module_version": "1.2.0",
     "model_name": "LayoutModel",
     "state": {
      "_model_module": "@jupyter-widgets/base",
      "_model_module_version": "1.2.0",
      "_model_name": "LayoutModel",
      "_view_count": null,
      "_view_module": "@jupyter-widgets/base",
      "_view_module_version": "1.2.0",
      "_view_name": "LayoutView",
      "align_content": null,
      "align_items": null,
      "align_self": null,
      "border": null,
      "bottom": null,
      "display": null,
      "flex": null,
      "flex_flow": null,
      "grid_area": null,
      "grid_auto_columns": null,
      "grid_auto_flow": null,
      "grid_auto_rows": null,
      "grid_column": null,
      "grid_gap": null,
      "grid_row": null,
      "grid_template_areas": null,
      "grid_template_columns": null,
      "grid_template_rows": null,
      "height": null,
      "justify_content": null,
      "justify_items": null,
      "left": null,
      "margin": null,
      "max_height": null,
      "max_width": null,
      "min_height": null,
      "min_width": null,
      "object_fit": null,
      "object_position": null,
      "order": null,
      "overflow": null,
      "overflow_x": null,
      "overflow_y": null,
      "padding": null,
      "right": null,
      "top": null,
      "visibility": null,
      "width": null
     }
    },
    "b9068aece49d4b8b8b780dfc1e1fbfcb": {
     "model_module": "@jupyter-widgets/controls",
     "model_module_version": "1.5.0",
     "model_name": "DescriptionStyleModel",
     "state": {
      "_model_module": "@jupyter-widgets/controls",
      "_model_module_version": "1.5.0",
      "_model_name": "DescriptionStyleModel",
      "_view_count": null,
      "_view_module": "@jupyter-widgets/base",
      "_view_module_version": "1.2.0",
      "_view_name": "StyleView",
      "description_width": ""
     }
    },
    "ba2fa4489b684cc6b6286c9f0583c6ac": {
     "model_module": "@jupyter-widgets/controls",
     "model_module_version": "1.5.0",
     "model_name": "ProgressStyleModel",
     "state": {
      "_model_module": "@jupyter-widgets/controls",
      "_model_module_version": "1.5.0",
      "_model_name": "ProgressStyleModel",
      "_view_count": null,
      "_view_module": "@jupyter-widgets/base",
      "_view_module_version": "1.2.0",
      "_view_name": "StyleView",
      "bar_color": null,
      "description_width": ""
     }
    },
    "ba30fa41d2bd452e996c667809fd962a": {
     "model_module": "@jupyter-widgets/controls",
     "model_module_version": "1.5.0",
     "model_name": "DescriptionStyleModel",
     "state": {
      "_model_module": "@jupyter-widgets/controls",
      "_model_module_version": "1.5.0",
      "_model_name": "DescriptionStyleModel",
      "_view_count": null,
      "_view_module": "@jupyter-widgets/base",
      "_view_module_version": "1.2.0",
      "_view_name": "StyleView",
      "description_width": ""
     }
    },
    "ba86ce21683a4d8f9f719a0769433c3a": {
     "model_module": "@jupyter-widgets/controls",
     "model_module_version": "1.5.0",
     "model_name": "VBoxModel",
     "state": {
      "_dom_classes": [],
      "_model_module": "@jupyter-widgets/controls",
      "_model_module_version": "1.5.0",
      "_model_name": "VBoxModel",
      "_view_count": null,
      "_view_module": "@jupyter-widgets/controls",
      "_view_module_version": "1.5.0",
      "_view_name": "VBoxView",
      "box_style": "",
      "children": [
       "IPY_MODEL_ea9c7457cfa04008ab990a1bf93c169c",
       "IPY_MODEL_3cedf5bedca0414bbe63d7d2efd1508e"
      ],
      "layout": "IPY_MODEL_7cd7aeaed660433e9093681bccf4a48a"
     }
    },
    "bde29a59e595477e8b7e5cbd08adbefa": {
     "model_module": "@jupyter-widgets/base",
     "model_module_version": "1.2.0",
     "model_name": "LayoutModel",
     "state": {
      "_model_module": "@jupyter-widgets/base",
      "_model_module_version": "1.2.0",
      "_model_name": "LayoutModel",
      "_view_count": null,
      "_view_module": "@jupyter-widgets/base",
      "_view_module_version": "1.2.0",
      "_view_name": "LayoutView",
      "align_content": null,
      "align_items": null,
      "align_self": null,
      "border": null,
      "bottom": null,
      "display": null,
      "flex": null,
      "flex_flow": null,
      "grid_area": null,
      "grid_auto_columns": null,
      "grid_auto_flow": null,
      "grid_auto_rows": null,
      "grid_column": null,
      "grid_gap": null,
      "grid_row": null,
      "grid_template_areas": null,
      "grid_template_columns": null,
      "grid_template_rows": null,
      "height": null,
      "justify_content": null,
      "justify_items": null,
      "left": null,
      "margin": null,
      "max_height": null,
      "max_width": null,
      "min_height": null,
      "min_width": null,
      "object_fit": null,
      "object_position": null,
      "order": null,
      "overflow": null,
      "overflow_x": null,
      "overflow_y": null,
      "padding": null,
      "right": null,
      "top": null,
      "visibility": null,
      "width": null
     }
    },
    "bf71a19f8176481a9a673db3d472d1cf": {
     "model_module": "@jupyter-widgets/controls",
     "model_module_version": "1.5.0",
     "model_name": "FloatProgressModel",
     "state": {
      "_dom_classes": [],
      "_model_module": "@jupyter-widgets/controls",
      "_model_module_version": "1.5.0",
      "_model_name": "FloatProgressModel",
      "_view_count": null,
      "_view_module": "@jupyter-widgets/controls",
      "_view_module_version": "1.5.0",
      "_view_name": "ProgressView",
      "bar_style": "",
      "description": "",
      "description_tooltip": null,
      "layout": "IPY_MODEL_3a87104ca89146d19d705206193e4610",
      "max": 1,
      "min": 0,
      "orientation": "horizontal",
      "style": "IPY_MODEL_b3a1c9b5f3104b02ba2ae2aae46d36ce",
      "value": 1
     }
    },
    "c0080b0ea7144283a6a229cb38732094": {
     "model_module": "@jupyter-widgets/controls",
     "model_module_version": "1.5.0",
     "model_name": "LabelModel",
     "state": {
      "_dom_classes": [],
      "_model_module": "@jupyter-widgets/controls",
      "_model_module_version": "1.5.0",
      "_model_name": "LabelModel",
      "_view_count": null,
      "_view_module": "@jupyter-widgets/controls",
      "_view_module_version": "1.5.0",
      "_view_name": "LabelView",
      "description": "",
      "description_tooltip": null,
      "layout": "IPY_MODEL_f438c3b2174241e7b82de92fcd5c0cbf",
      "placeholder": "​",
      "style": "IPY_MODEL_5643160c2ac14a79a00ba2385d6b6d93",
      "value": "0.012 MB of 0.012 MB uploaded\r"
     }
    },
    "c05e02d806fd4839b43be58dde85e381": {
     "model_module": "@jupyter-widgets/base",
     "model_module_version": "1.2.0",
     "model_name": "LayoutModel",
     "state": {
      "_model_module": "@jupyter-widgets/base",
      "_model_module_version": "1.2.0",
      "_model_name": "LayoutModel",
      "_view_count": null,
      "_view_module": "@jupyter-widgets/base",
      "_view_module_version": "1.2.0",
      "_view_name": "LayoutView",
      "align_content": null,
      "align_items": null,
      "align_self": null,
      "border": null,
      "bottom": null,
      "display": null,
      "flex": null,
      "flex_flow": null,
      "grid_area": null,
      "grid_auto_columns": null,
      "grid_auto_flow": null,
      "grid_auto_rows": null,
      "grid_column": null,
      "grid_gap": null,
      "grid_row": null,
      "grid_template_areas": null,
      "grid_template_columns": null,
      "grid_template_rows": null,
      "height": null,
      "justify_content": null,
      "justify_items": null,
      "left": null,
      "margin": null,
      "max_height": null,
      "max_width": null,
      "min_height": null,
      "min_width": null,
      "object_fit": null,
      "object_position": null,
      "order": null,
      "overflow": null,
      "overflow_x": null,
      "overflow_y": null,
      "padding": null,
      "right": null,
      "top": null,
      "visibility": null,
      "width": null
     }
    },
    "c16cb3f1190d4ef59a461efc76ab213f": {
     "model_module": "@jupyter-widgets/controls",
     "model_module_version": "1.5.0",
     "model_name": "DescriptionStyleModel",
     "state": {
      "_model_module": "@jupyter-widgets/controls",
      "_model_module_version": "1.5.0",
      "_model_name": "DescriptionStyleModel",
      "_view_count": null,
      "_view_module": "@jupyter-widgets/base",
      "_view_module_version": "1.2.0",
      "_view_name": "StyleView",
      "description_width": ""
     }
    },
    "c2796f3f32074d8b9cc8898ff0139bac": {
     "model_module": "@jupyter-widgets/controls",
     "model_module_version": "1.5.0",
     "model_name": "DescriptionStyleModel",
     "state": {
      "_model_module": "@jupyter-widgets/controls",
      "_model_module_version": "1.5.0",
      "_model_name": "DescriptionStyleModel",
      "_view_count": null,
      "_view_module": "@jupyter-widgets/base",
      "_view_module_version": "1.2.0",
      "_view_name": "StyleView",
      "description_width": ""
     }
    },
    "c2d91e05baad4ef9b45bc6fbf103bdf3": {
     "model_module": "@jupyter-widgets/controls",
     "model_module_version": "1.5.0",
     "model_name": "ProgressStyleModel",
     "state": {
      "_model_module": "@jupyter-widgets/controls",
      "_model_module_version": "1.5.0",
      "_model_name": "ProgressStyleModel",
      "_view_count": null,
      "_view_module": "@jupyter-widgets/base",
      "_view_module_version": "1.2.0",
      "_view_name": "StyleView",
      "bar_color": null,
      "description_width": ""
     }
    },
    "c3bb2e9ef1dc4878bd86ae200da456c4": {
     "model_module": "@jupyter-widgets/base",
     "model_module_version": "1.2.0",
     "model_name": "LayoutModel",
     "state": {
      "_model_module": "@jupyter-widgets/base",
      "_model_module_version": "1.2.0",
      "_model_name": "LayoutModel",
      "_view_count": null,
      "_view_module": "@jupyter-widgets/base",
      "_view_module_version": "1.2.0",
      "_view_name": "LayoutView",
      "align_content": null,
      "align_items": null,
      "align_self": null,
      "border": null,
      "bottom": null,
      "display": null,
      "flex": null,
      "flex_flow": null,
      "grid_area": null,
      "grid_auto_columns": null,
      "grid_auto_flow": null,
      "grid_auto_rows": null,
      "grid_column": null,
      "grid_gap": null,
      "grid_row": null,
      "grid_template_areas": null,
      "grid_template_columns": null,
      "grid_template_rows": null,
      "height": null,
      "justify_content": null,
      "justify_items": null,
      "left": null,
      "margin": null,
      "max_height": null,
      "max_width": null,
      "min_height": null,
      "min_width": null,
      "object_fit": null,
      "object_position": null,
      "order": null,
      "overflow": null,
      "overflow_x": null,
      "overflow_y": null,
      "padding": null,
      "right": null,
      "top": null,
      "visibility": null,
      "width": null
     }
    },
    "c4115ace978749f89432b7f3bad8814b": {
     "model_module": "@jupyter-widgets/base",
     "model_module_version": "1.2.0",
     "model_name": "LayoutModel",
     "state": {
      "_model_module": "@jupyter-widgets/base",
      "_model_module_version": "1.2.0",
      "_model_name": "LayoutModel",
      "_view_count": null,
      "_view_module": "@jupyter-widgets/base",
      "_view_module_version": "1.2.0",
      "_view_name": "LayoutView",
      "align_content": null,
      "align_items": null,
      "align_self": null,
      "border": null,
      "bottom": null,
      "display": null,
      "flex": null,
      "flex_flow": null,
      "grid_area": null,
      "grid_auto_columns": null,
      "grid_auto_flow": null,
      "grid_auto_rows": null,
      "grid_column": null,
      "grid_gap": null,
      "grid_row": null,
      "grid_template_areas": null,
      "grid_template_columns": null,
      "grid_template_rows": null,
      "height": null,
      "justify_content": null,
      "justify_items": null,
      "left": null,
      "margin": null,
      "max_height": null,
      "max_width": null,
      "min_height": null,
      "min_width": null,
      "object_fit": null,
      "object_position": null,
      "order": null,
      "overflow": null,
      "overflow_x": null,
      "overflow_y": null,
      "padding": null,
      "right": null,
      "top": null,
      "visibility": null,
      "width": null
     }
    },
    "c42c6fe09bd24118a62bc6b069d13f80": {
     "model_module": "@jupyter-widgets/base",
     "model_module_version": "1.2.0",
     "model_name": "LayoutModel",
     "state": {
      "_model_module": "@jupyter-widgets/base",
      "_model_module_version": "1.2.0",
      "_model_name": "LayoutModel",
      "_view_count": null,
      "_view_module": "@jupyter-widgets/base",
      "_view_module_version": "1.2.0",
      "_view_name": "LayoutView",
      "align_content": null,
      "align_items": null,
      "align_self": null,
      "border": null,
      "bottom": null,
      "display": null,
      "flex": null,
      "flex_flow": null,
      "grid_area": null,
      "grid_auto_columns": null,
      "grid_auto_flow": null,
      "grid_auto_rows": null,
      "grid_column": null,
      "grid_gap": null,
      "grid_row": null,
      "grid_template_areas": null,
      "grid_template_columns": null,
      "grid_template_rows": null,
      "height": null,
      "justify_content": null,
      "justify_items": null,
      "left": null,
      "margin": null,
      "max_height": null,
      "max_width": null,
      "min_height": null,
      "min_width": null,
      "object_fit": null,
      "object_position": null,
      "order": null,
      "overflow": null,
      "overflow_x": null,
      "overflow_y": null,
      "padding": null,
      "right": null,
      "top": null,
      "visibility": null,
      "width": null
     }
    },
    "c47ebae87d514ff28161e57b70103199": {
     "model_module": "@jupyter-widgets/controls",
     "model_module_version": "1.5.0",
     "model_name": "LabelModel",
     "state": {
      "_dom_classes": [],
      "_model_module": "@jupyter-widgets/controls",
      "_model_module_version": "1.5.0",
      "_model_name": "LabelModel",
      "_view_count": null,
      "_view_module": "@jupyter-widgets/controls",
      "_view_module_version": "1.5.0",
      "_view_name": "LabelView",
      "description": "",
      "description_tooltip": null,
      "layout": "IPY_MODEL_148114dee58e4dc28ff1cd7b3bf0da4a",
      "placeholder": "​",
      "style": "IPY_MODEL_009e74d38c6343c79f372230442f98a9",
      "value": "0.012 MB of 0.012 MB uploaded\r"
     }
    },
    "c4a7ea4ecfc14714a399acfd9f05c5c8": {
     "model_module": "@jupyter-widgets/controls",
     "model_module_version": "1.5.0",
     "model_name": "FloatProgressModel",
     "state": {
      "_dom_classes": [],
      "_model_module": "@jupyter-widgets/controls",
      "_model_module_version": "1.5.0",
      "_model_name": "FloatProgressModel",
      "_view_count": null,
      "_view_module": "@jupyter-widgets/controls",
      "_view_module_version": "1.5.0",
      "_view_name": "ProgressView",
      "bar_style": "",
      "description": "",
      "description_tooltip": null,
      "layout": "IPY_MODEL_5f74efc2aa0e4f27892395356ffdef2b",
      "max": 1,
      "min": 0,
      "orientation": "horizontal",
      "style": "IPY_MODEL_56d9c59b85144192979af7e3125b5ddd",
      "value": 1
     }
    },
    "c620f71d4d0f41408a4b3458b5056d6e": {
     "model_module": "@jupyter-widgets/controls",
     "model_module_version": "1.5.0",
     "model_name": "FloatProgressModel",
     "state": {
      "_dom_classes": [],
      "_model_module": "@jupyter-widgets/controls",
      "_model_module_version": "1.5.0",
      "_model_name": "FloatProgressModel",
      "_view_count": null,
      "_view_module": "@jupyter-widgets/controls",
      "_view_module_version": "1.5.0",
      "_view_name": "ProgressView",
      "bar_style": "",
      "description": "",
      "description_tooltip": null,
      "layout": "IPY_MODEL_9eac5421d9144ce39c5d3ca4841212bb",
      "max": 1,
      "min": 0,
      "orientation": "horizontal",
      "style": "IPY_MODEL_a1419ea5ad64420995c61caeccb8f227",
      "value": 1
     }
    },
    "c68ca0916cdb4d758041ad06083b3e07": {
     "model_module": "@jupyter-widgets/base",
     "model_module_version": "1.2.0",
     "model_name": "LayoutModel",
     "state": {
      "_model_module": "@jupyter-widgets/base",
      "_model_module_version": "1.2.0",
      "_model_name": "LayoutModel",
      "_view_count": null,
      "_view_module": "@jupyter-widgets/base",
      "_view_module_version": "1.2.0",
      "_view_name": "LayoutView",
      "align_content": null,
      "align_items": null,
      "align_self": null,
      "border": null,
      "bottom": null,
      "display": null,
      "flex": null,
      "flex_flow": null,
      "grid_area": null,
      "grid_auto_columns": null,
      "grid_auto_flow": null,
      "grid_auto_rows": null,
      "grid_column": null,
      "grid_gap": null,
      "grid_row": null,
      "grid_template_areas": null,
      "grid_template_columns": null,
      "grid_template_rows": null,
      "height": null,
      "justify_content": null,
      "justify_items": null,
      "left": null,
      "margin": null,
      "max_height": null,
      "max_width": null,
      "min_height": null,
      "min_width": null,
      "object_fit": null,
      "object_position": null,
      "order": null,
      "overflow": null,
      "overflow_x": null,
      "overflow_y": null,
      "padding": null,
      "right": null,
      "top": null,
      "visibility": null,
      "width": null
     }
    },
    "c69bb4a0c121421ba066783062396d87": {
     "model_module": "@jupyter-widgets/controls",
     "model_module_version": "1.5.0",
     "model_name": "DescriptionStyleModel",
     "state": {
      "_model_module": "@jupyter-widgets/controls",
      "_model_module_version": "1.5.0",
      "_model_name": "DescriptionStyleModel",
      "_view_count": null,
      "_view_module": "@jupyter-widgets/base",
      "_view_module_version": "1.2.0",
      "_view_name": "StyleView",
      "description_width": ""
     }
    },
    "c75f1fa2ecae436c8a3dbea07086dde7": {
     "model_module": "@jupyter-widgets/controls",
     "model_module_version": "1.5.0",
     "model_name": "DescriptionStyleModel",
     "state": {
      "_model_module": "@jupyter-widgets/controls",
      "_model_module_version": "1.5.0",
      "_model_name": "DescriptionStyleModel",
      "_view_count": null,
      "_view_module": "@jupyter-widgets/base",
      "_view_module_version": "1.2.0",
      "_view_name": "StyleView",
      "description_width": ""
     }
    },
    "c942c97f522745f2a0ae84d77cf7b7e0": {
     "model_module": "@jupyter-widgets/base",
     "model_module_version": "1.2.0",
     "model_name": "LayoutModel",
     "state": {
      "_model_module": "@jupyter-widgets/base",
      "_model_module_version": "1.2.0",
      "_model_name": "LayoutModel",
      "_view_count": null,
      "_view_module": "@jupyter-widgets/base",
      "_view_module_version": "1.2.0",
      "_view_name": "LayoutView",
      "align_content": null,
      "align_items": null,
      "align_self": null,
      "border": null,
      "bottom": null,
      "display": null,
      "flex": null,
      "flex_flow": null,
      "grid_area": null,
      "grid_auto_columns": null,
      "grid_auto_flow": null,
      "grid_auto_rows": null,
      "grid_column": null,
      "grid_gap": null,
      "grid_row": null,
      "grid_template_areas": null,
      "grid_template_columns": null,
      "grid_template_rows": null,
      "height": null,
      "justify_content": null,
      "justify_items": null,
      "left": null,
      "margin": null,
      "max_height": null,
      "max_width": null,
      "min_height": null,
      "min_width": null,
      "object_fit": null,
      "object_position": null,
      "order": null,
      "overflow": null,
      "overflow_x": null,
      "overflow_y": null,
      "padding": null,
      "right": null,
      "top": null,
      "visibility": null,
      "width": null
     }
    },
    "ca3a17b9dd434aa69b51968a227f6f4c": {
     "model_module": "@jupyter-widgets/controls",
     "model_module_version": "1.5.0",
     "model_name": "FloatProgressModel",
     "state": {
      "_dom_classes": [],
      "_model_module": "@jupyter-widgets/controls",
      "_model_module_version": "1.5.0",
      "_model_name": "FloatProgressModel",
      "_view_count": null,
      "_view_module": "@jupyter-widgets/controls",
      "_view_module_version": "1.5.0",
      "_view_name": "ProgressView",
      "bar_style": "",
      "description": "",
      "description_tooltip": null,
      "layout": "IPY_MODEL_6cc4ab7c4e5842d6aa7fa38fe3b64cbf",
      "max": 1,
      "min": 0,
      "orientation": "horizontal",
      "style": "IPY_MODEL_294b51253b5147a68dbd18564815173d",
      "value": 1
     }
    },
    "ca6018e9dbd145e9bf03353d1deccd29": {
     "model_module": "@jupyter-widgets/base",
     "model_module_version": "1.2.0",
     "model_name": "LayoutModel",
     "state": {
      "_model_module": "@jupyter-widgets/base",
      "_model_module_version": "1.2.0",
      "_model_name": "LayoutModel",
      "_view_count": null,
      "_view_module": "@jupyter-widgets/base",
      "_view_module_version": "1.2.0",
      "_view_name": "LayoutView",
      "align_content": null,
      "align_items": null,
      "align_self": null,
      "border": null,
      "bottom": null,
      "display": null,
      "flex": null,
      "flex_flow": null,
      "grid_area": null,
      "grid_auto_columns": null,
      "grid_auto_flow": null,
      "grid_auto_rows": null,
      "grid_column": null,
      "grid_gap": null,
      "grid_row": null,
      "grid_template_areas": null,
      "grid_template_columns": null,
      "grid_template_rows": null,
      "height": null,
      "justify_content": null,
      "justify_items": null,
      "left": null,
      "margin": null,
      "max_height": null,
      "max_width": null,
      "min_height": null,
      "min_width": null,
      "object_fit": null,
      "object_position": null,
      "order": null,
      "overflow": null,
      "overflow_x": null,
      "overflow_y": null,
      "padding": null,
      "right": null,
      "top": null,
      "visibility": null,
      "width": null
     }
    },
    "ca729e95ac504cfca970856f5c8a73e2": {
     "model_module": "@jupyter-widgets/controls",
     "model_module_version": "1.5.0",
     "model_name": "LabelModel",
     "state": {
      "_dom_classes": [],
      "_model_module": "@jupyter-widgets/controls",
      "_model_module_version": "1.5.0",
      "_model_name": "LabelModel",
      "_view_count": null,
      "_view_module": "@jupyter-widgets/controls",
      "_view_module_version": "1.5.0",
      "_view_name": "LabelView",
      "description": "",
      "description_tooltip": null,
      "layout": "IPY_MODEL_e3e5f27fb1be48c698063e8b0a431787",
      "placeholder": "​",
      "style": "IPY_MODEL_0e506c25b6534a2bbe39914c54c54401",
      "value": "0.012 MB of 0.012 MB uploaded\r"
     }
    },
    "cae02d6ff43f47b2bd6b72c7f935c5b9": {
     "model_module": "@jupyter-widgets/controls",
     "model_module_version": "1.5.0",
     "model_name": "DescriptionStyleModel",
     "state": {
      "_model_module": "@jupyter-widgets/controls",
      "_model_module_version": "1.5.0",
      "_model_name": "DescriptionStyleModel",
      "_view_count": null,
      "_view_module": "@jupyter-widgets/base",
      "_view_module_version": "1.2.0",
      "_view_name": "StyleView",
      "description_width": ""
     }
    },
    "cb2d317cc48646e5810aa2f91b34486f": {
     "model_module": "@jupyter-widgets/controls",
     "model_module_version": "1.5.0",
     "model_name": "ProgressStyleModel",
     "state": {
      "_model_module": "@jupyter-widgets/controls",
      "_model_module_version": "1.5.0",
      "_model_name": "ProgressStyleModel",
      "_view_count": null,
      "_view_module": "@jupyter-widgets/base",
      "_view_module_version": "1.2.0",
      "_view_name": "StyleView",
      "bar_color": null,
      "description_width": ""
     }
    },
    "cd5323c4e3314b82a06bd95e1d562b98": {
     "model_module": "@jupyter-widgets/controls",
     "model_module_version": "1.5.0",
     "model_name": "VBoxModel",
     "state": {
      "_dom_classes": [],
      "_model_module": "@jupyter-widgets/controls",
      "_model_module_version": "1.5.0",
      "_model_name": "VBoxModel",
      "_view_count": null,
      "_view_module": "@jupyter-widgets/controls",
      "_view_module_version": "1.5.0",
      "_view_name": "VBoxView",
      "box_style": "",
      "children": [
       "IPY_MODEL_e54f35edd3e843489994622b0d3e8aeb",
       "IPY_MODEL_543aa2d0ff7a45ccb8cce56b60f9675e"
      ],
      "layout": "IPY_MODEL_28a321d0a043475daaba31110e31681f"
     }
    },
    "cdcdc594d4534422910689bbdfce32dd": {
     "model_module": "@jupyter-widgets/base",
     "model_module_version": "1.2.0",
     "model_name": "LayoutModel",
     "state": {
      "_model_module": "@jupyter-widgets/base",
      "_model_module_version": "1.2.0",
      "_model_name": "LayoutModel",
      "_view_count": null,
      "_view_module": "@jupyter-widgets/base",
      "_view_module_version": "1.2.0",
      "_view_name": "LayoutView",
      "align_content": null,
      "align_items": null,
      "align_self": null,
      "border": null,
      "bottom": null,
      "display": null,
      "flex": null,
      "flex_flow": null,
      "grid_area": null,
      "grid_auto_columns": null,
      "grid_auto_flow": null,
      "grid_auto_rows": null,
      "grid_column": null,
      "grid_gap": null,
      "grid_row": null,
      "grid_template_areas": null,
      "grid_template_columns": null,
      "grid_template_rows": null,
      "height": null,
      "justify_content": null,
      "justify_items": null,
      "left": null,
      "margin": null,
      "max_height": null,
      "max_width": null,
      "min_height": null,
      "min_width": null,
      "object_fit": null,
      "object_position": null,
      "order": null,
      "overflow": null,
      "overflow_x": null,
      "overflow_y": null,
      "padding": null,
      "right": null,
      "top": null,
      "visibility": null,
      "width": null
     }
    },
    "ce41ae688c2c4913b595a49d9c3da6c3": {
     "model_module": "@jupyter-widgets/controls",
     "model_module_version": "1.5.0",
     "model_name": "VBoxModel",
     "state": {
      "_dom_classes": [],
      "_model_module": "@jupyter-widgets/controls",
      "_model_module_version": "1.5.0",
      "_model_name": "VBoxModel",
      "_view_count": null,
      "_view_module": "@jupyter-widgets/controls",
      "_view_module_version": "1.5.0",
      "_view_name": "VBoxView",
      "box_style": "",
      "children": [
       "IPY_MODEL_c47ebae87d514ff28161e57b70103199",
       "IPY_MODEL_2979305e0399481eb884ce592749b18f"
      ],
      "layout": "IPY_MODEL_3f49338348f64e4f917dbe3c24190997"
     }
    },
    "ceb471dd4ab44feb91e9fe7bf859d82e": {
     "model_module": "@jupyter-widgets/base",
     "model_module_version": "1.2.0",
     "model_name": "LayoutModel",
     "state": {
      "_model_module": "@jupyter-widgets/base",
      "_model_module_version": "1.2.0",
      "_model_name": "LayoutModel",
      "_view_count": null,
      "_view_module": "@jupyter-widgets/base",
      "_view_module_version": "1.2.0",
      "_view_name": "LayoutView",
      "align_content": null,
      "align_items": null,
      "align_self": null,
      "border": null,
      "bottom": null,
      "display": null,
      "flex": null,
      "flex_flow": null,
      "grid_area": null,
      "grid_auto_columns": null,
      "grid_auto_flow": null,
      "grid_auto_rows": null,
      "grid_column": null,
      "grid_gap": null,
      "grid_row": null,
      "grid_template_areas": null,
      "grid_template_columns": null,
      "grid_template_rows": null,
      "height": null,
      "justify_content": null,
      "justify_items": null,
      "left": null,
      "margin": null,
      "max_height": null,
      "max_width": null,
      "min_height": null,
      "min_width": null,
      "object_fit": null,
      "object_position": null,
      "order": null,
      "overflow": null,
      "overflow_x": null,
      "overflow_y": null,
      "padding": null,
      "right": null,
      "top": null,
      "visibility": null,
      "width": null
     }
    },
    "ced9f1903b984e46a9e0f069046a1697": {
     "model_module": "@jupyter-widgets/controls",
     "model_module_version": "1.5.0",
     "model_name": "DescriptionStyleModel",
     "state": {
      "_model_module": "@jupyter-widgets/controls",
      "_model_module_version": "1.5.0",
      "_model_name": "DescriptionStyleModel",
      "_view_count": null,
      "_view_module": "@jupyter-widgets/base",
      "_view_module_version": "1.2.0",
      "_view_name": "StyleView",
      "description_width": ""
     }
    },
    "cfaa260d63e644b7a21b4dff1f92f8a0": {
     "model_module": "@jupyter-widgets/base",
     "model_module_version": "1.2.0",
     "model_name": "LayoutModel",
     "state": {
      "_model_module": "@jupyter-widgets/base",
      "_model_module_version": "1.2.0",
      "_model_name": "LayoutModel",
      "_view_count": null,
      "_view_module": "@jupyter-widgets/base",
      "_view_module_version": "1.2.0",
      "_view_name": "LayoutView",
      "align_content": null,
      "align_items": null,
      "align_self": null,
      "border": null,
      "bottom": null,
      "display": null,
      "flex": null,
      "flex_flow": null,
      "grid_area": null,
      "grid_auto_columns": null,
      "grid_auto_flow": null,
      "grid_auto_rows": null,
      "grid_column": null,
      "grid_gap": null,
      "grid_row": null,
      "grid_template_areas": null,
      "grid_template_columns": null,
      "grid_template_rows": null,
      "height": null,
      "justify_content": null,
      "justify_items": null,
      "left": null,
      "margin": null,
      "max_height": null,
      "max_width": null,
      "min_height": null,
      "min_width": null,
      "object_fit": null,
      "object_position": null,
      "order": null,
      "overflow": null,
      "overflow_x": null,
      "overflow_y": null,
      "padding": null,
      "right": null,
      "top": null,
      "visibility": null,
      "width": null
     }
    },
    "d0b9973581674fbc945869952ccafd6c": {
     "model_module": "@jupyter-widgets/controls",
     "model_module_version": "1.5.0",
     "model_name": "FloatProgressModel",
     "state": {
      "_dom_classes": [],
      "_model_module": "@jupyter-widgets/controls",
      "_model_module_version": "1.5.0",
      "_model_name": "FloatProgressModel",
      "_view_count": null,
      "_view_module": "@jupyter-widgets/controls",
      "_view_module_version": "1.5.0",
      "_view_name": "ProgressView",
      "bar_style": "",
      "description": "",
      "description_tooltip": null,
      "layout": "IPY_MODEL_5deb6c0d30e046cf97ba31c2322d2c9c",
      "max": 1,
      "min": 0,
      "orientation": "horizontal",
      "style": "IPY_MODEL_68462e4a895d4afba5dcb28947454132",
      "value": 1
     }
    },
    "d12fad71143c4b9c85ca1e3c04ba1437": {
     "model_module": "@jupyter-widgets/controls",
     "model_module_version": "1.5.0",
     "model_name": "LabelModel",
     "state": {
      "_dom_classes": [],
      "_model_module": "@jupyter-widgets/controls",
      "_model_module_version": "1.5.0",
      "_model_name": "LabelModel",
      "_view_count": null,
      "_view_module": "@jupyter-widgets/controls",
      "_view_module_version": "1.5.0",
      "_view_name": "LabelView",
      "description": "",
      "description_tooltip": null,
      "layout": "IPY_MODEL_dfa60e9a9b4d4d6bbf63dd6eb2b41dfe",
      "placeholder": "​",
      "style": "IPY_MODEL_dd3ae8f12426426caf93472afdc11d56",
      "value": "0.012 MB of 0.012 MB uploaded\r"
     }
    },
    "d27b332b61264cddbce351eacedfe557": {
     "model_module": "@jupyter-widgets/base",
     "model_module_version": "1.2.0",
     "model_name": "LayoutModel",
     "state": {
      "_model_module": "@jupyter-widgets/base",
      "_model_module_version": "1.2.0",
      "_model_name": "LayoutModel",
      "_view_count": null,
      "_view_module": "@jupyter-widgets/base",
      "_view_module_version": "1.2.0",
      "_view_name": "LayoutView",
      "align_content": null,
      "align_items": null,
      "align_self": null,
      "border": null,
      "bottom": null,
      "display": null,
      "flex": null,
      "flex_flow": null,
      "grid_area": null,
      "grid_auto_columns": null,
      "grid_auto_flow": null,
      "grid_auto_rows": null,
      "grid_column": null,
      "grid_gap": null,
      "grid_row": null,
      "grid_template_areas": null,
      "grid_template_columns": null,
      "grid_template_rows": null,
      "height": null,
      "justify_content": null,
      "justify_items": null,
      "left": null,
      "margin": null,
      "max_height": null,
      "max_width": null,
      "min_height": null,
      "min_width": null,
      "object_fit": null,
      "object_position": null,
      "order": null,
      "overflow": null,
      "overflow_x": null,
      "overflow_y": null,
      "padding": null,
      "right": null,
      "top": null,
      "visibility": null,
      "width": null
     }
    },
    "d2814aea23424acc87dbeb51edcac042": {
     "model_module": "@jupyter-widgets/controls",
     "model_module_version": "1.5.0",
     "model_name": "VBoxModel",
     "state": {
      "_dom_classes": [],
      "_model_module": "@jupyter-widgets/controls",
      "_model_module_version": "1.5.0",
      "_model_name": "VBoxModel",
      "_view_count": null,
      "_view_module": "@jupyter-widgets/controls",
      "_view_module_version": "1.5.0",
      "_view_name": "VBoxView",
      "box_style": "",
      "children": [
       "IPY_MODEL_52b3c07ae0bb4ac9a4af66dee6a6b842",
       "IPY_MODEL_f2ec4d836a4f43ec81524bc4ba36fee9"
      ],
      "layout": "IPY_MODEL_160bc716e2d54ab6bad3bb5de50dbaf9"
     }
    },
    "d2a26aca3ee14c0c8af331e65f57f794": {
     "model_module": "@jupyter-widgets/base",
     "model_module_version": "1.2.0",
     "model_name": "LayoutModel",
     "state": {
      "_model_module": "@jupyter-widgets/base",
      "_model_module_version": "1.2.0",
      "_model_name": "LayoutModel",
      "_view_count": null,
      "_view_module": "@jupyter-widgets/base",
      "_view_module_version": "1.2.0",
      "_view_name": "LayoutView",
      "align_content": null,
      "align_items": null,
      "align_self": null,
      "border": null,
      "bottom": null,
      "display": null,
      "flex": null,
      "flex_flow": null,
      "grid_area": null,
      "grid_auto_columns": null,
      "grid_auto_flow": null,
      "grid_auto_rows": null,
      "grid_column": null,
      "grid_gap": null,
      "grid_row": null,
      "grid_template_areas": null,
      "grid_template_columns": null,
      "grid_template_rows": null,
      "height": null,
      "justify_content": null,
      "justify_items": null,
      "left": null,
      "margin": null,
      "max_height": null,
      "max_width": null,
      "min_height": null,
      "min_width": null,
      "object_fit": null,
      "object_position": null,
      "order": null,
      "overflow": null,
      "overflow_x": null,
      "overflow_y": null,
      "padding": null,
      "right": null,
      "top": null,
      "visibility": null,
      "width": null
     }
    },
    "d2f6e02920134d6d859124f2b9dbcf51": {
     "model_module": "@jupyter-widgets/controls",
     "model_module_version": "1.5.0",
     "model_name": "FloatProgressModel",
     "state": {
      "_dom_classes": [],
      "_model_module": "@jupyter-widgets/controls",
      "_model_module_version": "1.5.0",
      "_model_name": "FloatProgressModel",
      "_view_count": null,
      "_view_module": "@jupyter-widgets/controls",
      "_view_module_version": "1.5.0",
      "_view_name": "ProgressView",
      "bar_style": "",
      "description": "",
      "description_tooltip": null,
      "layout": "IPY_MODEL_efeed6217b5f49038f01e2bbfbf99ad6",
      "max": 1,
      "min": 0,
      "orientation": "horizontal",
      "style": "IPY_MODEL_2804848552c44e0d95ddfaba7d6b5526",
      "value": 1
     }
    },
    "d347e597466043579164d667dca3900a": {
     "model_module": "@jupyter-widgets/base",
     "model_module_version": "1.2.0",
     "model_name": "LayoutModel",
     "state": {
      "_model_module": "@jupyter-widgets/base",
      "_model_module_version": "1.2.0",
      "_model_name": "LayoutModel",
      "_view_count": null,
      "_view_module": "@jupyter-widgets/base",
      "_view_module_version": "1.2.0",
      "_view_name": "LayoutView",
      "align_content": null,
      "align_items": null,
      "align_self": null,
      "border": null,
      "bottom": null,
      "display": null,
      "flex": null,
      "flex_flow": null,
      "grid_area": null,
      "grid_auto_columns": null,
      "grid_auto_flow": null,
      "grid_auto_rows": null,
      "grid_column": null,
      "grid_gap": null,
      "grid_row": null,
      "grid_template_areas": null,
      "grid_template_columns": null,
      "grid_template_rows": null,
      "height": null,
      "justify_content": null,
      "justify_items": null,
      "left": null,
      "margin": null,
      "max_height": null,
      "max_width": null,
      "min_height": null,
      "min_width": null,
      "object_fit": null,
      "object_position": null,
      "order": null,
      "overflow": null,
      "overflow_x": null,
      "overflow_y": null,
      "padding": null,
      "right": null,
      "top": null,
      "visibility": null,
      "width": null
     }
    },
    "d3d1dbc97ed04c4d98002efe7c6edc2c": {
     "model_module": "@jupyter-widgets/controls",
     "model_module_version": "1.5.0",
     "model_name": "VBoxModel",
     "state": {
      "_dom_classes": [],
      "_model_module": "@jupyter-widgets/controls",
      "_model_module_version": "1.5.0",
      "_model_name": "VBoxModel",
      "_view_count": null,
      "_view_module": "@jupyter-widgets/controls",
      "_view_module_version": "1.5.0",
      "_view_name": "VBoxView",
      "box_style": "",
      "children": [
       "IPY_MODEL_d12fad71143c4b9c85ca1e3c04ba1437",
       "IPY_MODEL_8571c4df5e634c6bb75d4e81e564cbf9"
      ],
      "layout": "IPY_MODEL_c05e02d806fd4839b43be58dde85e381"
     }
    },
    "d4130fdc8a91434f908b1f6a9b199340": {
     "model_module": "@jupyter-widgets/controls",
     "model_module_version": "1.5.0",
     "model_name": "DescriptionStyleModel",
     "state": {
      "_model_module": "@jupyter-widgets/controls",
      "_model_module_version": "1.5.0",
      "_model_name": "DescriptionStyleModel",
      "_view_count": null,
      "_view_module": "@jupyter-widgets/base",
      "_view_module_version": "1.2.0",
      "_view_name": "StyleView",
      "description_width": ""
     }
    },
    "d41cabb04d5b48f4a50a5be0187f02d1": {
     "model_module": "@jupyter-widgets/controls",
     "model_module_version": "1.5.0",
     "model_name": "ProgressStyleModel",
     "state": {
      "_model_module": "@jupyter-widgets/controls",
      "_model_module_version": "1.5.0",
      "_model_name": "ProgressStyleModel",
      "_view_count": null,
      "_view_module": "@jupyter-widgets/base",
      "_view_module_version": "1.2.0",
      "_view_name": "StyleView",
      "bar_color": null,
      "description_width": ""
     }
    },
    "d47b06ffcb794e95b134ba3934de1513": {
     "model_module": "@jupyter-widgets/controls",
     "model_module_version": "1.5.0",
     "model_name": "VBoxModel",
     "state": {
      "_dom_classes": [],
      "_model_module": "@jupyter-widgets/controls",
      "_model_module_version": "1.5.0",
      "_model_name": "VBoxModel",
      "_view_count": null,
      "_view_module": "@jupyter-widgets/controls",
      "_view_module_version": "1.5.0",
      "_view_name": "VBoxView",
      "box_style": "",
      "children": [
       "IPY_MODEL_06e38c6d30bf4b8daa7ff8b1b0e0b84a",
       "IPY_MODEL_f38544b169a14b49a31cb787ee9be606"
      ],
      "layout": "IPY_MODEL_659a1483582346978cb8056a1dfa6010"
     }
    },
    "d4c201ab82ec438fb646dbc5803a6b4c": {
     "model_module": "@jupyter-widgets/base",
     "model_module_version": "1.2.0",
     "model_name": "LayoutModel",
     "state": {
      "_model_module": "@jupyter-widgets/base",
      "_model_module_version": "1.2.0",
      "_model_name": "LayoutModel",
      "_view_count": null,
      "_view_module": "@jupyter-widgets/base",
      "_view_module_version": "1.2.0",
      "_view_name": "LayoutView",
      "align_content": null,
      "align_items": null,
      "align_self": null,
      "border": null,
      "bottom": null,
      "display": null,
      "flex": null,
      "flex_flow": null,
      "grid_area": null,
      "grid_auto_columns": null,
      "grid_auto_flow": null,
      "grid_auto_rows": null,
      "grid_column": null,
      "grid_gap": null,
      "grid_row": null,
      "grid_template_areas": null,
      "grid_template_columns": null,
      "grid_template_rows": null,
      "height": null,
      "justify_content": null,
      "justify_items": null,
      "left": null,
      "margin": null,
      "max_height": null,
      "max_width": null,
      "min_height": null,
      "min_width": null,
      "object_fit": null,
      "object_position": null,
      "order": null,
      "overflow": null,
      "overflow_x": null,
      "overflow_y": null,
      "padding": null,
      "right": null,
      "top": null,
      "visibility": null,
      "width": null
     }
    },
    "d4fc2a1d598943aa87c4daf61572e2ce": {
     "model_module": "@jupyter-widgets/controls",
     "model_module_version": "1.5.0",
     "model_name": "LabelModel",
     "state": {
      "_dom_classes": [],
      "_model_module": "@jupyter-widgets/controls",
      "_model_module_version": "1.5.0",
      "_model_name": "LabelModel",
      "_view_count": null,
      "_view_module": "@jupyter-widgets/controls",
      "_view_module_version": "1.5.0",
      "_view_name": "LabelView",
      "description": "",
      "description_tooltip": null,
      "layout": "IPY_MODEL_4f181b94f2ff404eb8c8a8fdb706c74e",
      "placeholder": "​",
      "style": "IPY_MODEL_4e5b8941712945bdb8ded5b7f5f82cb8",
      "value": "0.012 MB of 0.012 MB uploaded\r"
     }
    },
    "d55585a6c4594c3f9d78c5bc5a3a8dd1": {
     "model_module": "@jupyter-widgets/controls",
     "model_module_version": "1.5.0",
     "model_name": "ProgressStyleModel",
     "state": {
      "_model_module": "@jupyter-widgets/controls",
      "_model_module_version": "1.5.0",
      "_model_name": "ProgressStyleModel",
      "_view_count": null,
      "_view_module": "@jupyter-widgets/base",
      "_view_module_version": "1.2.0",
      "_view_name": "StyleView",
      "bar_color": null,
      "description_width": ""
     }
    },
    "d56f2e2289644ae6965f6fdc8bb32b06": {
     "model_module": "@jupyter-widgets/controls",
     "model_module_version": "1.5.0",
     "model_name": "VBoxModel",
     "state": {
      "_dom_classes": [],
      "_model_module": "@jupyter-widgets/controls",
      "_model_module_version": "1.5.0",
      "_model_name": "VBoxModel",
      "_view_count": null,
      "_view_module": "@jupyter-widgets/controls",
      "_view_module_version": "1.5.0",
      "_view_name": "VBoxView",
      "box_style": "",
      "children": [
       "IPY_MODEL_d4fc2a1d598943aa87c4daf61572e2ce",
       "IPY_MODEL_d0b9973581674fbc945869952ccafd6c"
      ],
      "layout": "IPY_MODEL_979df610488d41d3a300658018f742b0"
     }
    },
    "d6487f4715c54c7a9f39135ac8dd2f6d": {
     "model_module": "@jupyter-widgets/base",
     "model_module_version": "1.2.0",
     "model_name": "LayoutModel",
     "state": {
      "_model_module": "@jupyter-widgets/base",
      "_model_module_version": "1.2.0",
      "_model_name": "LayoutModel",
      "_view_count": null,
      "_view_module": "@jupyter-widgets/base",
      "_view_module_version": "1.2.0",
      "_view_name": "LayoutView",
      "align_content": null,
      "align_items": null,
      "align_self": null,
      "border": null,
      "bottom": null,
      "display": null,
      "flex": null,
      "flex_flow": null,
      "grid_area": null,
      "grid_auto_columns": null,
      "grid_auto_flow": null,
      "grid_auto_rows": null,
      "grid_column": null,
      "grid_gap": null,
      "grid_row": null,
      "grid_template_areas": null,
      "grid_template_columns": null,
      "grid_template_rows": null,
      "height": null,
      "justify_content": null,
      "justify_items": null,
      "left": null,
      "margin": null,
      "max_height": null,
      "max_width": null,
      "min_height": null,
      "min_width": null,
      "object_fit": null,
      "object_position": null,
      "order": null,
      "overflow": null,
      "overflow_x": null,
      "overflow_y": null,
      "padding": null,
      "right": null,
      "top": null,
      "visibility": null,
      "width": null
     }
    },
    "d686899683cc41c0b9147509c7a02ac3": {
     "model_module": "@jupyter-widgets/base",
     "model_module_version": "1.2.0",
     "model_name": "LayoutModel",
     "state": {
      "_model_module": "@jupyter-widgets/base",
      "_model_module_version": "1.2.0",
      "_model_name": "LayoutModel",
      "_view_count": null,
      "_view_module": "@jupyter-widgets/base",
      "_view_module_version": "1.2.0",
      "_view_name": "LayoutView",
      "align_content": null,
      "align_items": null,
      "align_self": null,
      "border": null,
      "bottom": null,
      "display": null,
      "flex": null,
      "flex_flow": null,
      "grid_area": null,
      "grid_auto_columns": null,
      "grid_auto_flow": null,
      "grid_auto_rows": null,
      "grid_column": null,
      "grid_gap": null,
      "grid_row": null,
      "grid_template_areas": null,
      "grid_template_columns": null,
      "grid_template_rows": null,
      "height": null,
      "justify_content": null,
      "justify_items": null,
      "left": null,
      "margin": null,
      "max_height": null,
      "max_width": null,
      "min_height": null,
      "min_width": null,
      "object_fit": null,
      "object_position": null,
      "order": null,
      "overflow": null,
      "overflow_x": null,
      "overflow_y": null,
      "padding": null,
      "right": null,
      "top": null,
      "visibility": null,
      "width": null
     }
    },
    "d8a3db9740304677be963f768c612df8": {
     "model_module": "@jupyter-widgets/controls",
     "model_module_version": "1.5.0",
     "model_name": "DescriptionStyleModel",
     "state": {
      "_model_module": "@jupyter-widgets/controls",
      "_model_module_version": "1.5.0",
      "_model_name": "DescriptionStyleModel",
      "_view_count": null,
      "_view_module": "@jupyter-widgets/base",
      "_view_module_version": "1.2.0",
      "_view_name": "StyleView",
      "description_width": ""
     }
    },
    "d8e07460031844aa95d88e443034d5f4": {
     "model_module": "@jupyter-widgets/controls",
     "model_module_version": "1.5.0",
     "model_name": "LabelModel",
     "state": {
      "_dom_classes": [],
      "_model_module": "@jupyter-widgets/controls",
      "_model_module_version": "1.5.0",
      "_model_name": "LabelModel",
      "_view_count": null,
      "_view_module": "@jupyter-widgets/controls",
      "_view_module_version": "1.5.0",
      "_view_name": "LabelView",
      "description": "",
      "description_tooltip": null,
      "layout": "IPY_MODEL_e5a48bf4444045d59c49f019a14c9017",
      "placeholder": "​",
      "style": "IPY_MODEL_d4130fdc8a91434f908b1f6a9b199340",
      "value": "0.012 MB of 0.012 MB uploaded\r"
     }
    },
    "dafbddd976f240409b033aa3616a88e3": {
     "model_module": "@jupyter-widgets/controls",
     "model_module_version": "1.5.0",
     "model_name": "FloatProgressModel",
     "state": {
      "_dom_classes": [],
      "_model_module": "@jupyter-widgets/controls",
      "_model_module_version": "1.5.0",
      "_model_name": "FloatProgressModel",
      "_view_count": null,
      "_view_module": "@jupyter-widgets/controls",
      "_view_module_version": "1.5.0",
      "_view_name": "ProgressView",
      "bar_style": "",
      "description": "",
      "description_tooltip": null,
      "layout": "IPY_MODEL_740a518be9ce430d859ff33ce713e114",
      "max": 1,
      "min": 0,
      "orientation": "horizontal",
      "style": "IPY_MODEL_81d7f5cfde944c9d8ef72b1174818180",
      "value": 1
     }
    },
    "dc0453f7df7b425198104200fa3d2b54": {
     "model_module": "@jupyter-widgets/controls",
     "model_module_version": "1.5.0",
     "model_name": "LabelModel",
     "state": {
      "_dom_classes": [],
      "_model_module": "@jupyter-widgets/controls",
      "_model_module_version": "1.5.0",
      "_model_name": "LabelModel",
      "_view_count": null,
      "_view_module": "@jupyter-widgets/controls",
      "_view_module_version": "1.5.0",
      "_view_name": "LabelView",
      "description": "",
      "description_tooltip": null,
      "layout": "IPY_MODEL_4f16393194ee4fa49cd6f00ab5317baf",
      "placeholder": "​",
      "style": "IPY_MODEL_62ea35d1988e4cc9bf8838254160726a",
      "value": "0.012 MB of 0.012 MB uploaded\r"
     }
    },
    "dcc29847c76d45e18e7f7fcb8136c7e9": {
     "model_module": "@jupyter-widgets/controls",
     "model_module_version": "1.5.0",
     "model_name": "DescriptionStyleModel",
     "state": {
      "_model_module": "@jupyter-widgets/controls",
      "_model_module_version": "1.5.0",
      "_model_name": "DescriptionStyleModel",
      "_view_count": null,
      "_view_module": "@jupyter-widgets/base",
      "_view_module_version": "1.2.0",
      "_view_name": "StyleView",
      "description_width": ""
     }
    },
    "dd01340406bb41879c00e11a90273dd3": {
     "model_module": "@jupyter-widgets/base",
     "model_module_version": "1.2.0",
     "model_name": "LayoutModel",
     "state": {
      "_model_module": "@jupyter-widgets/base",
      "_model_module_version": "1.2.0",
      "_model_name": "LayoutModel",
      "_view_count": null,
      "_view_module": "@jupyter-widgets/base",
      "_view_module_version": "1.2.0",
      "_view_name": "LayoutView",
      "align_content": null,
      "align_items": null,
      "align_self": null,
      "border": null,
      "bottom": null,
      "display": null,
      "flex": null,
      "flex_flow": null,
      "grid_area": null,
      "grid_auto_columns": null,
      "grid_auto_flow": null,
      "grid_auto_rows": null,
      "grid_column": null,
      "grid_gap": null,
      "grid_row": null,
      "grid_template_areas": null,
      "grid_template_columns": null,
      "grid_template_rows": null,
      "height": null,
      "justify_content": null,
      "justify_items": null,
      "left": null,
      "margin": null,
      "max_height": null,
      "max_width": null,
      "min_height": null,
      "min_width": null,
      "object_fit": null,
      "object_position": null,
      "order": null,
      "overflow": null,
      "overflow_x": null,
      "overflow_y": null,
      "padding": null,
      "right": null,
      "top": null,
      "visibility": null,
      "width": null
     }
    },
    "dd3ae8f12426426caf93472afdc11d56": {
     "model_module": "@jupyter-widgets/controls",
     "model_module_version": "1.5.0",
     "model_name": "DescriptionStyleModel",
     "state": {
      "_model_module": "@jupyter-widgets/controls",
      "_model_module_version": "1.5.0",
      "_model_name": "DescriptionStyleModel",
      "_view_count": null,
      "_view_module": "@jupyter-widgets/base",
      "_view_module_version": "1.2.0",
      "_view_name": "StyleView",
      "description_width": ""
     }
    },
    "de52cf49d1a24cb8a2b5acd52544273b": {
     "model_module": "@jupyter-widgets/controls",
     "model_module_version": "1.5.0",
     "model_name": "FloatProgressModel",
     "state": {
      "_dom_classes": [],
      "_model_module": "@jupyter-widgets/controls",
      "_model_module_version": "1.5.0",
      "_model_name": "FloatProgressModel",
      "_view_count": null,
      "_view_module": "@jupyter-widgets/controls",
      "_view_module_version": "1.5.0",
      "_view_name": "ProgressView",
      "bar_style": "",
      "description": "",
      "description_tooltip": null,
      "layout": "IPY_MODEL_469f65f262754dbeb502a6c2fc5eb644",
      "max": 1,
      "min": 0,
      "orientation": "horizontal",
      "style": "IPY_MODEL_1724d0c9c5f3404f9f27008cd7fb3400",
      "value": 1
     }
    },
    "dfa60e9a9b4d4d6bbf63dd6eb2b41dfe": {
     "model_module": "@jupyter-widgets/base",
     "model_module_version": "1.2.0",
     "model_name": "LayoutModel",
     "state": {
      "_model_module": "@jupyter-widgets/base",
      "_model_module_version": "1.2.0",
      "_model_name": "LayoutModel",
      "_view_count": null,
      "_view_module": "@jupyter-widgets/base",
      "_view_module_version": "1.2.0",
      "_view_name": "LayoutView",
      "align_content": null,
      "align_items": null,
      "align_self": null,
      "border": null,
      "bottom": null,
      "display": null,
      "flex": null,
      "flex_flow": null,
      "grid_area": null,
      "grid_auto_columns": null,
      "grid_auto_flow": null,
      "grid_auto_rows": null,
      "grid_column": null,
      "grid_gap": null,
      "grid_row": null,
      "grid_template_areas": null,
      "grid_template_columns": null,
      "grid_template_rows": null,
      "height": null,
      "justify_content": null,
      "justify_items": null,
      "left": null,
      "margin": null,
      "max_height": null,
      "max_width": null,
      "min_height": null,
      "min_width": null,
      "object_fit": null,
      "object_position": null,
      "order": null,
      "overflow": null,
      "overflow_x": null,
      "overflow_y": null,
      "padding": null,
      "right": null,
      "top": null,
      "visibility": null,
      "width": null
     }
    },
    "dff5d63a64844565b2c891176538ca8a": {
     "model_module": "@jupyter-widgets/base",
     "model_module_version": "1.2.0",
     "model_name": "LayoutModel",
     "state": {
      "_model_module": "@jupyter-widgets/base",
      "_model_module_version": "1.2.0",
      "_model_name": "LayoutModel",
      "_view_count": null,
      "_view_module": "@jupyter-widgets/base",
      "_view_module_version": "1.2.0",
      "_view_name": "LayoutView",
      "align_content": null,
      "align_items": null,
      "align_self": null,
      "border": null,
      "bottom": null,
      "display": null,
      "flex": null,
      "flex_flow": null,
      "grid_area": null,
      "grid_auto_columns": null,
      "grid_auto_flow": null,
      "grid_auto_rows": null,
      "grid_column": null,
      "grid_gap": null,
      "grid_row": null,
      "grid_template_areas": null,
      "grid_template_columns": null,
      "grid_template_rows": null,
      "height": null,
      "justify_content": null,
      "justify_items": null,
      "left": null,
      "margin": null,
      "max_height": null,
      "max_width": null,
      "min_height": null,
      "min_width": null,
      "object_fit": null,
      "object_position": null,
      "order": null,
      "overflow": null,
      "overflow_x": null,
      "overflow_y": null,
      "padding": null,
      "right": null,
      "top": null,
      "visibility": null,
      "width": null
     }
    },
    "e0f5676f227d44e29b4ce3ff4d0887f9": {
     "model_module": "@jupyter-widgets/controls",
     "model_module_version": "1.5.0",
     "model_name": "VBoxModel",
     "state": {
      "_dom_classes": [],
      "_model_module": "@jupyter-widgets/controls",
      "_model_module_version": "1.5.0",
      "_model_name": "VBoxModel",
      "_view_count": null,
      "_view_module": "@jupyter-widgets/controls",
      "_view_module_version": "1.5.0",
      "_view_name": "VBoxView",
      "box_style": "",
      "children": [
       "IPY_MODEL_897fe2606c6d4787b3c6c473ce702492",
       "IPY_MODEL_94810c6c97544c99b9ede9e9d66775a5"
      ],
      "layout": "IPY_MODEL_ed351a2a11394b7d829b7193d824397d"
     }
    },
    "e1296dff784d4e67b6fdcbff3f99c07f": {
     "model_module": "@jupyter-widgets/base",
     "model_module_version": "1.2.0",
     "model_name": "LayoutModel",
     "state": {
      "_model_module": "@jupyter-widgets/base",
      "_model_module_version": "1.2.0",
      "_model_name": "LayoutModel",
      "_view_count": null,
      "_view_module": "@jupyter-widgets/base",
      "_view_module_version": "1.2.0",
      "_view_name": "LayoutView",
      "align_content": null,
      "align_items": null,
      "align_self": null,
      "border": null,
      "bottom": null,
      "display": null,
      "flex": null,
      "flex_flow": null,
      "grid_area": null,
      "grid_auto_columns": null,
      "grid_auto_flow": null,
      "grid_auto_rows": null,
      "grid_column": null,
      "grid_gap": null,
      "grid_row": null,
      "grid_template_areas": null,
      "grid_template_columns": null,
      "grid_template_rows": null,
      "height": null,
      "justify_content": null,
      "justify_items": null,
      "left": null,
      "margin": null,
      "max_height": null,
      "max_width": null,
      "min_height": null,
      "min_width": null,
      "object_fit": null,
      "object_position": null,
      "order": null,
      "overflow": null,
      "overflow_x": null,
      "overflow_y": null,
      "padding": null,
      "right": null,
      "top": null,
      "visibility": null,
      "width": null
     }
    },
    "e1b3db0a377f4cd1b24258cb5a1739e2": {
     "model_module": "@jupyter-widgets/controls",
     "model_module_version": "1.5.0",
     "model_name": "FloatProgressModel",
     "state": {
      "_dom_classes": [],
      "_model_module": "@jupyter-widgets/controls",
      "_model_module_version": "1.5.0",
      "_model_name": "FloatProgressModel",
      "_view_count": null,
      "_view_module": "@jupyter-widgets/controls",
      "_view_module_version": "1.5.0",
      "_view_name": "ProgressView",
      "bar_style": "",
      "description": "",
      "description_tooltip": null,
      "layout": "IPY_MODEL_b81f8abad9554849a323d3f56f86c02c",
      "max": 1,
      "min": 0,
      "orientation": "horizontal",
      "style": "IPY_MODEL_cb2d317cc48646e5810aa2f91b34486f",
      "value": 1
     }
    },
    "e1e3ae925c75418e9500e50aa847f612": {
     "model_module": "@jupyter-widgets/controls",
     "model_module_version": "1.5.0",
     "model_name": "LabelModel",
     "state": {
      "_dom_classes": [],
      "_model_module": "@jupyter-widgets/controls",
      "_model_module_version": "1.5.0",
      "_model_name": "LabelModel",
      "_view_count": null,
      "_view_module": "@jupyter-widgets/controls",
      "_view_module_version": "1.5.0",
      "_view_name": "LabelView",
      "description": "",
      "description_tooltip": null,
      "layout": "IPY_MODEL_141495330fbb4849bed8c79db6dd88b0",
      "placeholder": "​",
      "style": "IPY_MODEL_ced9f1903b984e46a9e0f069046a1697",
      "value": "0.012 MB of 0.012 MB uploaded\r"
     }
    },
    "e2d2fe5eb377404c90239f2b86542da1": {
     "model_module": "@jupyter-widgets/controls",
     "model_module_version": "1.5.0",
     "model_name": "FloatProgressModel",
     "state": {
      "_dom_classes": [],
      "_model_module": "@jupyter-widgets/controls",
      "_model_module_version": "1.5.0",
      "_model_name": "FloatProgressModel",
      "_view_count": null,
      "_view_module": "@jupyter-widgets/controls",
      "_view_module_version": "1.5.0",
      "_view_name": "ProgressView",
      "bar_style": "",
      "description": "",
      "description_tooltip": null,
      "layout": "IPY_MODEL_7a96bb3988f64d08994b64fa9d27f3b4",
      "max": 1,
      "min": 0,
      "orientation": "horizontal",
      "style": "IPY_MODEL_0d6661ab51c4425b9b36f2e8c937c664",
      "value": 1
     }
    },
    "e2def2f5fe5f4f19adca4883c69b4fbf": {
     "model_module": "@jupyter-widgets/base",
     "model_module_version": "1.2.0",
     "model_name": "LayoutModel",
     "state": {
      "_model_module": "@jupyter-widgets/base",
      "_model_module_version": "1.2.0",
      "_model_name": "LayoutModel",
      "_view_count": null,
      "_view_module": "@jupyter-widgets/base",
      "_view_module_version": "1.2.0",
      "_view_name": "LayoutView",
      "align_content": null,
      "align_items": null,
      "align_self": null,
      "border": null,
      "bottom": null,
      "display": null,
      "flex": null,
      "flex_flow": null,
      "grid_area": null,
      "grid_auto_columns": null,
      "grid_auto_flow": null,
      "grid_auto_rows": null,
      "grid_column": null,
      "grid_gap": null,
      "grid_row": null,
      "grid_template_areas": null,
      "grid_template_columns": null,
      "grid_template_rows": null,
      "height": null,
      "justify_content": null,
      "justify_items": null,
      "left": null,
      "margin": null,
      "max_height": null,
      "max_width": null,
      "min_height": null,
      "min_width": null,
      "object_fit": null,
      "object_position": null,
      "order": null,
      "overflow": null,
      "overflow_x": null,
      "overflow_y": null,
      "padding": null,
      "right": null,
      "top": null,
      "visibility": null,
      "width": null
     }
    },
    "e3e5f27fb1be48c698063e8b0a431787": {
     "model_module": "@jupyter-widgets/base",
     "model_module_version": "1.2.0",
     "model_name": "LayoutModel",
     "state": {
      "_model_module": "@jupyter-widgets/base",
      "_model_module_version": "1.2.0",
      "_model_name": "LayoutModel",
      "_view_count": null,
      "_view_module": "@jupyter-widgets/base",
      "_view_module_version": "1.2.0",
      "_view_name": "LayoutView",
      "align_content": null,
      "align_items": null,
      "align_self": null,
      "border": null,
      "bottom": null,
      "display": null,
      "flex": null,
      "flex_flow": null,
      "grid_area": null,
      "grid_auto_columns": null,
      "grid_auto_flow": null,
      "grid_auto_rows": null,
      "grid_column": null,
      "grid_gap": null,
      "grid_row": null,
      "grid_template_areas": null,
      "grid_template_columns": null,
      "grid_template_rows": null,
      "height": null,
      "justify_content": null,
      "justify_items": null,
      "left": null,
      "margin": null,
      "max_height": null,
      "max_width": null,
      "min_height": null,
      "min_width": null,
      "object_fit": null,
      "object_position": null,
      "order": null,
      "overflow": null,
      "overflow_x": null,
      "overflow_y": null,
      "padding": null,
      "right": null,
      "top": null,
      "visibility": null,
      "width": null
     }
    },
    "e40f1ff26d19435c98b89adcd4f5b372": {
     "model_module": "@jupyter-widgets/controls",
     "model_module_version": "1.5.0",
     "model_name": "ProgressStyleModel",
     "state": {
      "_model_module": "@jupyter-widgets/controls",
      "_model_module_version": "1.5.0",
      "_model_name": "ProgressStyleModel",
      "_view_count": null,
      "_view_module": "@jupyter-widgets/base",
      "_view_module_version": "1.2.0",
      "_view_name": "StyleView",
      "bar_color": null,
      "description_width": ""
     }
    },
    "e4572f7c365d4ab8a4d4eab789d9f4b1": {
     "model_module": "@jupyter-widgets/controls",
     "model_module_version": "1.5.0",
     "model_name": "DescriptionStyleModel",
     "state": {
      "_model_module": "@jupyter-widgets/controls",
      "_model_module_version": "1.5.0",
      "_model_name": "DescriptionStyleModel",
      "_view_count": null,
      "_view_module": "@jupyter-widgets/base",
      "_view_module_version": "1.2.0",
      "_view_name": "StyleView",
      "description_width": ""
     }
    },
    "e54f35edd3e843489994622b0d3e8aeb": {
     "model_module": "@jupyter-widgets/controls",
     "model_module_version": "1.5.0",
     "model_name": "LabelModel",
     "state": {
      "_dom_classes": [],
      "_model_module": "@jupyter-widgets/controls",
      "_model_module_version": "1.5.0",
      "_model_name": "LabelModel",
      "_view_count": null,
      "_view_module": "@jupyter-widgets/controls",
      "_view_module_version": "1.5.0",
      "_view_name": "LabelView",
      "description": "",
      "description_tooltip": null,
      "layout": "IPY_MODEL_5f5428181b194345b1f3770d9e805ab7",
      "placeholder": "​",
      "style": "IPY_MODEL_51b5f8b6d8c24f58ac3296acb39de9ec",
      "value": "0.012 MB of 0.012 MB uploaded\r"
     }
    },
    "e5a48bf4444045d59c49f019a14c9017": {
     "model_module": "@jupyter-widgets/base",
     "model_module_version": "1.2.0",
     "model_name": "LayoutModel",
     "state": {
      "_model_module": "@jupyter-widgets/base",
      "_model_module_version": "1.2.0",
      "_model_name": "LayoutModel",
      "_view_count": null,
      "_view_module": "@jupyter-widgets/base",
      "_view_module_version": "1.2.0",
      "_view_name": "LayoutView",
      "align_content": null,
      "align_items": null,
      "align_self": null,
      "border": null,
      "bottom": null,
      "display": null,
      "flex": null,
      "flex_flow": null,
      "grid_area": null,
      "grid_auto_columns": null,
      "grid_auto_flow": null,
      "grid_auto_rows": null,
      "grid_column": null,
      "grid_gap": null,
      "grid_row": null,
      "grid_template_areas": null,
      "grid_template_columns": null,
      "grid_template_rows": null,
      "height": null,
      "justify_content": null,
      "justify_items": null,
      "left": null,
      "margin": null,
      "max_height": null,
      "max_width": null,
      "min_height": null,
      "min_width": null,
      "object_fit": null,
      "object_position": null,
      "order": null,
      "overflow": null,
      "overflow_x": null,
      "overflow_y": null,
      "padding": null,
      "right": null,
      "top": null,
      "visibility": null,
      "width": null
     }
    },
    "e61f57fc6bde45018836fbb1aaac6713": {
     "model_module": "@jupyter-widgets/controls",
     "model_module_version": "1.5.0",
     "model_name": "FloatProgressModel",
     "state": {
      "_dom_classes": [],
      "_model_module": "@jupyter-widgets/controls",
      "_model_module_version": "1.5.0",
      "_model_name": "FloatProgressModel",
      "_view_count": null,
      "_view_module": "@jupyter-widgets/controls",
      "_view_module_version": "1.5.0",
      "_view_name": "ProgressView",
      "bar_style": "",
      "description": "",
      "description_tooltip": null,
      "layout": "IPY_MODEL_9719b6c0c25d4a26be0007d64f36dc9a",
      "max": 1,
      "min": 0,
      "orientation": "horizontal",
      "style": "IPY_MODEL_72e825f1e4c34d44af5f3743ba7c26fe",
      "value": 1
     }
    },
    "e66eddafe5c34b4f87c94126fd5761c5": {
     "model_module": "@jupyter-widgets/controls",
     "model_module_version": "1.5.0",
     "model_name": "VBoxModel",
     "state": {
      "_dom_classes": [],
      "_model_module": "@jupyter-widgets/controls",
      "_model_module_version": "1.5.0",
      "_model_name": "VBoxModel",
      "_view_count": null,
      "_view_module": "@jupyter-widgets/controls",
      "_view_module_version": "1.5.0",
      "_view_name": "VBoxView",
      "box_style": "",
      "children": [
       "IPY_MODEL_0162abf8b659438699f962a9e600b5ce",
       "IPY_MODEL_1f2c0944a233446da7e81bc6156af9c4"
      ],
      "layout": "IPY_MODEL_250e795174f440c9a111dca61f512a05"
     }
    },
    "e7a891fa3e9941d6802bc344bfe332c7": {
     "model_module": "@jupyter-widgets/controls",
     "model_module_version": "1.5.0",
     "model_name": "VBoxModel",
     "state": {
      "_dom_classes": [],
      "_model_module": "@jupyter-widgets/controls",
      "_model_module_version": "1.5.0",
      "_model_name": "VBoxModel",
      "_view_count": null,
      "_view_module": "@jupyter-widgets/controls",
      "_view_module_version": "1.5.0",
      "_view_name": "VBoxView",
      "box_style": "",
      "children": [
       "IPY_MODEL_12556e31ee734aba915de1d6416dda26",
       "IPY_MODEL_7b5c7ca5e7bc4bd687d9520612cae8b6"
      ],
      "layout": "IPY_MODEL_39103856d3094124bcde8f29be7a346e"
     }
    },
    "e7aa538498a944cc954bcebcdb4c7cb4": {
     "model_module": "@jupyter-widgets/controls",
     "model_module_version": "1.5.0",
     "model_name": "DescriptionStyleModel",
     "state": {
      "_model_module": "@jupyter-widgets/controls",
      "_model_module_version": "1.5.0",
      "_model_name": "DescriptionStyleModel",
      "_view_count": null,
      "_view_module": "@jupyter-widgets/base",
      "_view_module_version": "1.2.0",
      "_view_name": "StyleView",
      "description_width": ""
     }
    },
    "e8949df478f9448bb8bc4c483f1e6a28": {
     "model_module": "@jupyter-widgets/base",
     "model_module_version": "1.2.0",
     "model_name": "LayoutModel",
     "state": {
      "_model_module": "@jupyter-widgets/base",
      "_model_module_version": "1.2.0",
      "_model_name": "LayoutModel",
      "_view_count": null,
      "_view_module": "@jupyter-widgets/base",
      "_view_module_version": "1.2.0",
      "_view_name": "LayoutView",
      "align_content": null,
      "align_items": null,
      "align_self": null,
      "border": null,
      "bottom": null,
      "display": null,
      "flex": null,
      "flex_flow": null,
      "grid_area": null,
      "grid_auto_columns": null,
      "grid_auto_flow": null,
      "grid_auto_rows": null,
      "grid_column": null,
      "grid_gap": null,
      "grid_row": null,
      "grid_template_areas": null,
      "grid_template_columns": null,
      "grid_template_rows": null,
      "height": null,
      "justify_content": null,
      "justify_items": null,
      "left": null,
      "margin": null,
      "max_height": null,
      "max_width": null,
      "min_height": null,
      "min_width": null,
      "object_fit": null,
      "object_position": null,
      "order": null,
      "overflow": null,
      "overflow_x": null,
      "overflow_y": null,
      "padding": null,
      "right": null,
      "top": null,
      "visibility": null,
      "width": null
     }
    },
    "e8c34efcfcd849d39cafbc92449503c0": {
     "model_module": "@jupyter-widgets/controls",
     "model_module_version": "1.5.0",
     "model_name": "VBoxModel",
     "state": {
      "_dom_classes": [],
      "_model_module": "@jupyter-widgets/controls",
      "_model_module_version": "1.5.0",
      "_model_name": "VBoxModel",
      "_view_count": null,
      "_view_module": "@jupyter-widgets/controls",
      "_view_module_version": "1.5.0",
      "_view_name": "VBoxView",
      "box_style": "",
      "children": [
       "IPY_MODEL_47e76e5237d4422c81b102c1d6d58523",
       "IPY_MODEL_64cf1d4fcd2040da9e66cf1c4edada59"
      ],
      "layout": "IPY_MODEL_55bc81c0c1dc49af8181ddc6ff2eabc9"
     }
    },
    "ea43f66b739a48bbafee83b3920f1775": {
     "model_module": "@jupyter-widgets/base",
     "model_module_version": "1.2.0",
     "model_name": "LayoutModel",
     "state": {
      "_model_module": "@jupyter-widgets/base",
      "_model_module_version": "1.2.0",
      "_model_name": "LayoutModel",
      "_view_count": null,
      "_view_module": "@jupyter-widgets/base",
      "_view_module_version": "1.2.0",
      "_view_name": "LayoutView",
      "align_content": null,
      "align_items": null,
      "align_self": null,
      "border": null,
      "bottom": null,
      "display": null,
      "flex": null,
      "flex_flow": null,
      "grid_area": null,
      "grid_auto_columns": null,
      "grid_auto_flow": null,
      "grid_auto_rows": null,
      "grid_column": null,
      "grid_gap": null,
      "grid_row": null,
      "grid_template_areas": null,
      "grid_template_columns": null,
      "grid_template_rows": null,
      "height": null,
      "justify_content": null,
      "justify_items": null,
      "left": null,
      "margin": null,
      "max_height": null,
      "max_width": null,
      "min_height": null,
      "min_width": null,
      "object_fit": null,
      "object_position": null,
      "order": null,
      "overflow": null,
      "overflow_x": null,
      "overflow_y": null,
      "padding": null,
      "right": null,
      "top": null,
      "visibility": null,
      "width": null
     }
    },
    "ea9c7457cfa04008ab990a1bf93c169c": {
     "model_module": "@jupyter-widgets/controls",
     "model_module_version": "1.5.0",
     "model_name": "LabelModel",
     "state": {
      "_dom_classes": [],
      "_model_module": "@jupyter-widgets/controls",
      "_model_module_version": "1.5.0",
      "_model_name": "LabelModel",
      "_view_count": null,
      "_view_module": "@jupyter-widgets/controls",
      "_view_module_version": "1.5.0",
      "_view_name": "LabelView",
      "description": "",
      "description_tooltip": null,
      "layout": "IPY_MODEL_30a887a8c540407ea956c761ba6ab747",
      "placeholder": "​",
      "style": "IPY_MODEL_5313ced4ee41471db4561011e8bf172f",
      "value": "0.012 MB of 0.012 MB uploaded\r"
     }
    },
    "ed351a2a11394b7d829b7193d824397d": {
     "model_module": "@jupyter-widgets/base",
     "model_module_version": "1.2.0",
     "model_name": "LayoutModel",
     "state": {
      "_model_module": "@jupyter-widgets/base",
      "_model_module_version": "1.2.0",
      "_model_name": "LayoutModel",
      "_view_count": null,
      "_view_module": "@jupyter-widgets/base",
      "_view_module_version": "1.2.0",
      "_view_name": "LayoutView",
      "align_content": null,
      "align_items": null,
      "align_self": null,
      "border": null,
      "bottom": null,
      "display": null,
      "flex": null,
      "flex_flow": null,
      "grid_area": null,
      "grid_auto_columns": null,
      "grid_auto_flow": null,
      "grid_auto_rows": null,
      "grid_column": null,
      "grid_gap": null,
      "grid_row": null,
      "grid_template_areas": null,
      "grid_template_columns": null,
      "grid_template_rows": null,
      "height": null,
      "justify_content": null,
      "justify_items": null,
      "left": null,
      "margin": null,
      "max_height": null,
      "max_width": null,
      "min_height": null,
      "min_width": null,
      "object_fit": null,
      "object_position": null,
      "order": null,
      "overflow": null,
      "overflow_x": null,
      "overflow_y": null,
      "padding": null,
      "right": null,
      "top": null,
      "visibility": null,
      "width": null
     }
    },
    "ee52e76d2f9049f6adcdf301792090e2": {
     "model_module": "@jupyter-widgets/controls",
     "model_module_version": "1.5.0",
     "model_name": "FloatProgressModel",
     "state": {
      "_dom_classes": [],
      "_model_module": "@jupyter-widgets/controls",
      "_model_module_version": "1.5.0",
      "_model_name": "FloatProgressModel",
      "_view_count": null,
      "_view_module": "@jupyter-widgets/controls",
      "_view_module_version": "1.5.0",
      "_view_name": "ProgressView",
      "bar_style": "",
      "description": "",
      "description_tooltip": null,
      "layout": "IPY_MODEL_1cd9b7125b524c678ba7d755e3dc797c",
      "max": 1,
      "min": 0,
      "orientation": "horizontal",
      "style": "IPY_MODEL_3045efdb18db4841a988bfa1db38d8e8",
      "value": 1
     }
    },
    "efea0e2833c549139fa8e1648ed0e249": {
     "model_module": "@jupyter-widgets/controls",
     "model_module_version": "1.5.0",
     "model_name": "ProgressStyleModel",
     "state": {
      "_model_module": "@jupyter-widgets/controls",
      "_model_module_version": "1.5.0",
      "_model_name": "ProgressStyleModel",
      "_view_count": null,
      "_view_module": "@jupyter-widgets/base",
      "_view_module_version": "1.2.0",
      "_view_name": "StyleView",
      "bar_color": null,
      "description_width": ""
     }
    },
    "efeed6217b5f49038f01e2bbfbf99ad6": {
     "model_module": "@jupyter-widgets/base",
     "model_module_version": "1.2.0",
     "model_name": "LayoutModel",
     "state": {
      "_model_module": "@jupyter-widgets/base",
      "_model_module_version": "1.2.0",
      "_model_name": "LayoutModel",
      "_view_count": null,
      "_view_module": "@jupyter-widgets/base",
      "_view_module_version": "1.2.0",
      "_view_name": "LayoutView",
      "align_content": null,
      "align_items": null,
      "align_self": null,
      "border": null,
      "bottom": null,
      "display": null,
      "flex": null,
      "flex_flow": null,
      "grid_area": null,
      "grid_auto_columns": null,
      "grid_auto_flow": null,
      "grid_auto_rows": null,
      "grid_column": null,
      "grid_gap": null,
      "grid_row": null,
      "grid_template_areas": null,
      "grid_template_columns": null,
      "grid_template_rows": null,
      "height": null,
      "justify_content": null,
      "justify_items": null,
      "left": null,
      "margin": null,
      "max_height": null,
      "max_width": null,
      "min_height": null,
      "min_width": null,
      "object_fit": null,
      "object_position": null,
      "order": null,
      "overflow": null,
      "overflow_x": null,
      "overflow_y": null,
      "padding": null,
      "right": null,
      "top": null,
      "visibility": null,
      "width": null
     }
    },
    "eff5221f5e144b4f8f5db1a9516763c5": {
     "model_module": "@jupyter-widgets/base",
     "model_module_version": "1.2.0",
     "model_name": "LayoutModel",
     "state": {
      "_model_module": "@jupyter-widgets/base",
      "_model_module_version": "1.2.0",
      "_model_name": "LayoutModel",
      "_view_count": null,
      "_view_module": "@jupyter-widgets/base",
      "_view_module_version": "1.2.0",
      "_view_name": "LayoutView",
      "align_content": null,
      "align_items": null,
      "align_self": null,
      "border": null,
      "bottom": null,
      "display": null,
      "flex": null,
      "flex_flow": null,
      "grid_area": null,
      "grid_auto_columns": null,
      "grid_auto_flow": null,
      "grid_auto_rows": null,
      "grid_column": null,
      "grid_gap": null,
      "grid_row": null,
      "grid_template_areas": null,
      "grid_template_columns": null,
      "grid_template_rows": null,
      "height": null,
      "justify_content": null,
      "justify_items": null,
      "left": null,
      "margin": null,
      "max_height": null,
      "max_width": null,
      "min_height": null,
      "min_width": null,
      "object_fit": null,
      "object_position": null,
      "order": null,
      "overflow": null,
      "overflow_x": null,
      "overflow_y": null,
      "padding": null,
      "right": null,
      "top": null,
      "visibility": null,
      "width": null
     }
    },
    "f154aca6dab840c580dddd6a7bd63580": {
     "model_module": "@jupyter-widgets/base",
     "model_module_version": "1.2.0",
     "model_name": "LayoutModel",
     "state": {
      "_model_module": "@jupyter-widgets/base",
      "_model_module_version": "1.2.0",
      "_model_name": "LayoutModel",
      "_view_count": null,
      "_view_module": "@jupyter-widgets/base",
      "_view_module_version": "1.2.0",
      "_view_name": "LayoutView",
      "align_content": null,
      "align_items": null,
      "align_self": null,
      "border": null,
      "bottom": null,
      "display": null,
      "flex": null,
      "flex_flow": null,
      "grid_area": null,
      "grid_auto_columns": null,
      "grid_auto_flow": null,
      "grid_auto_rows": null,
      "grid_column": null,
      "grid_gap": null,
      "grid_row": null,
      "grid_template_areas": null,
      "grid_template_columns": null,
      "grid_template_rows": null,
      "height": null,
      "justify_content": null,
      "justify_items": null,
      "left": null,
      "margin": null,
      "max_height": null,
      "max_width": null,
      "min_height": null,
      "min_width": null,
      "object_fit": null,
      "object_position": null,
      "order": null,
      "overflow": null,
      "overflow_x": null,
      "overflow_y": null,
      "padding": null,
      "right": null,
      "top": null,
      "visibility": null,
      "width": null
     }
    },
    "f1e1b266b2d6452ead9995a332c31d37": {
     "model_module": "@jupyter-widgets/base",
     "model_module_version": "1.2.0",
     "model_name": "LayoutModel",
     "state": {
      "_model_module": "@jupyter-widgets/base",
      "_model_module_version": "1.2.0",
      "_model_name": "LayoutModel",
      "_view_count": null,
      "_view_module": "@jupyter-widgets/base",
      "_view_module_version": "1.2.0",
      "_view_name": "LayoutView",
      "align_content": null,
      "align_items": null,
      "align_self": null,
      "border": null,
      "bottom": null,
      "display": null,
      "flex": null,
      "flex_flow": null,
      "grid_area": null,
      "grid_auto_columns": null,
      "grid_auto_flow": null,
      "grid_auto_rows": null,
      "grid_column": null,
      "grid_gap": null,
      "grid_row": null,
      "grid_template_areas": null,
      "grid_template_columns": null,
      "grid_template_rows": null,
      "height": null,
      "justify_content": null,
      "justify_items": null,
      "left": null,
      "margin": null,
      "max_height": null,
      "max_width": null,
      "min_height": null,
      "min_width": null,
      "object_fit": null,
      "object_position": null,
      "order": null,
      "overflow": null,
      "overflow_x": null,
      "overflow_y": null,
      "padding": null,
      "right": null,
      "top": null,
      "visibility": null,
      "width": null
     }
    },
    "f21b63ef45454bbd892904962a1ded1c": {
     "model_module": "@jupyter-widgets/base",
     "model_module_version": "1.2.0",
     "model_name": "LayoutModel",
     "state": {
      "_model_module": "@jupyter-widgets/base",
      "_model_module_version": "1.2.0",
      "_model_name": "LayoutModel",
      "_view_count": null,
      "_view_module": "@jupyter-widgets/base",
      "_view_module_version": "1.2.0",
      "_view_name": "LayoutView",
      "align_content": null,
      "align_items": null,
      "align_self": null,
      "border": null,
      "bottom": null,
      "display": null,
      "flex": null,
      "flex_flow": null,
      "grid_area": null,
      "grid_auto_columns": null,
      "grid_auto_flow": null,
      "grid_auto_rows": null,
      "grid_column": null,
      "grid_gap": null,
      "grid_row": null,
      "grid_template_areas": null,
      "grid_template_columns": null,
      "grid_template_rows": null,
      "height": null,
      "justify_content": null,
      "justify_items": null,
      "left": null,
      "margin": null,
      "max_height": null,
      "max_width": null,
      "min_height": null,
      "min_width": null,
      "object_fit": null,
      "object_position": null,
      "order": null,
      "overflow": null,
      "overflow_x": null,
      "overflow_y": null,
      "padding": null,
      "right": null,
      "top": null,
      "visibility": null,
      "width": null
     }
    },
    "f2ec4d836a4f43ec81524bc4ba36fee9": {
     "model_module": "@jupyter-widgets/controls",
     "model_module_version": "1.5.0",
     "model_name": "FloatProgressModel",
     "state": {
      "_dom_classes": [],
      "_model_module": "@jupyter-widgets/controls",
      "_model_module_version": "1.5.0",
      "_model_name": "FloatProgressModel",
      "_view_count": null,
      "_view_module": "@jupyter-widgets/controls",
      "_view_module_version": "1.5.0",
      "_view_name": "ProgressView",
      "bar_style": "",
      "description": "",
      "description_tooltip": null,
      "layout": "IPY_MODEL_a6c57cff93334ba0b9a1574fa8d239b4",
      "max": 1,
      "min": 0,
      "orientation": "horizontal",
      "style": "IPY_MODEL_ba2fa4489b684cc6b6286c9f0583c6ac",
      "value": 1
     }
    },
    "f37dbda5cb874fc5885e1ce2803f04f6": {
     "model_module": "@jupyter-widgets/controls",
     "model_module_version": "1.5.0",
     "model_name": "FloatProgressModel",
     "state": {
      "_dom_classes": [],
      "_model_module": "@jupyter-widgets/controls",
      "_model_module_version": "1.5.0",
      "_model_name": "FloatProgressModel",
      "_view_count": null,
      "_view_module": "@jupyter-widgets/controls",
      "_view_module_version": "1.5.0",
      "_view_name": "ProgressView",
      "bar_style": "",
      "description": "",
      "description_tooltip": null,
      "layout": "IPY_MODEL_7a3deaeba3ec48779c74ad72e87cd467",
      "max": 1,
      "min": 0,
      "orientation": "horizontal",
      "style": "IPY_MODEL_e40f1ff26d19435c98b89adcd4f5b372",
      "value": 1
     }
    },
    "f38544b169a14b49a31cb787ee9be606": {
     "model_module": "@jupyter-widgets/controls",
     "model_module_version": "1.5.0",
     "model_name": "FloatProgressModel",
     "state": {
      "_dom_classes": [],
      "_model_module": "@jupyter-widgets/controls",
      "_model_module_version": "1.5.0",
      "_model_name": "FloatProgressModel",
      "_view_count": null,
      "_view_module": "@jupyter-widgets/controls",
      "_view_module_version": "1.5.0",
      "_view_name": "ProgressView",
      "bar_style": "",
      "description": "",
      "description_tooltip": null,
      "layout": "IPY_MODEL_feb8c472decd4a6cb2cd20814796aac8",
      "max": 1,
      "min": 0,
      "orientation": "horizontal",
      "style": "IPY_MODEL_9d848ba537e043a98af790e8ac328bbe",
      "value": 1
     }
    },
    "f438c3b2174241e7b82de92fcd5c0cbf": {
     "model_module": "@jupyter-widgets/base",
     "model_module_version": "1.2.0",
     "model_name": "LayoutModel",
     "state": {
      "_model_module": "@jupyter-widgets/base",
      "_model_module_version": "1.2.0",
      "_model_name": "LayoutModel",
      "_view_count": null,
      "_view_module": "@jupyter-widgets/base",
      "_view_module_version": "1.2.0",
      "_view_name": "LayoutView",
      "align_content": null,
      "align_items": null,
      "align_self": null,
      "border": null,
      "bottom": null,
      "display": null,
      "flex": null,
      "flex_flow": null,
      "grid_area": null,
      "grid_auto_columns": null,
      "grid_auto_flow": null,
      "grid_auto_rows": null,
      "grid_column": null,
      "grid_gap": null,
      "grid_row": null,
      "grid_template_areas": null,
      "grid_template_columns": null,
      "grid_template_rows": null,
      "height": null,
      "justify_content": null,
      "justify_items": null,
      "left": null,
      "margin": null,
      "max_height": null,
      "max_width": null,
      "min_height": null,
      "min_width": null,
      "object_fit": null,
      "object_position": null,
      "order": null,
      "overflow": null,
      "overflow_x": null,
      "overflow_y": null,
      "padding": null,
      "right": null,
      "top": null,
      "visibility": null,
      "width": null
     }
    },
    "f50d2d596a654f9e913ea70e63818294": {
     "model_module": "@jupyter-widgets/controls",
     "model_module_version": "1.5.0",
     "model_name": "VBoxModel",
     "state": {
      "_dom_classes": [],
      "_model_module": "@jupyter-widgets/controls",
      "_model_module_version": "1.5.0",
      "_model_name": "VBoxModel",
      "_view_count": null,
      "_view_module": "@jupyter-widgets/controls",
      "_view_module_version": "1.5.0",
      "_view_name": "VBoxView",
      "box_style": "",
      "children": [
       "IPY_MODEL_24e6d7b2236343a492447e5cfaabe3ee",
       "IPY_MODEL_848bbd0edb99436886350052b5601f0e"
      ],
      "layout": "IPY_MODEL_2ff1c9ec096842a5b96d899a62f026f7"
     }
    },
    "f58202cbbd91450488b20326b3676f6a": {
     "model_module": "@jupyter-widgets/base",
     "model_module_version": "1.2.0",
     "model_name": "LayoutModel",
     "state": {
      "_model_module": "@jupyter-widgets/base",
      "_model_module_version": "1.2.0",
      "_model_name": "LayoutModel",
      "_view_count": null,
      "_view_module": "@jupyter-widgets/base",
      "_view_module_version": "1.2.0",
      "_view_name": "LayoutView",
      "align_content": null,
      "align_items": null,
      "align_self": null,
      "border": null,
      "bottom": null,
      "display": null,
      "flex": null,
      "flex_flow": null,
      "grid_area": null,
      "grid_auto_columns": null,
      "grid_auto_flow": null,
      "grid_auto_rows": null,
      "grid_column": null,
      "grid_gap": null,
      "grid_row": null,
      "grid_template_areas": null,
      "grid_template_columns": null,
      "grid_template_rows": null,
      "height": null,
      "justify_content": null,
      "justify_items": null,
      "left": null,
      "margin": null,
      "max_height": null,
      "max_width": null,
      "min_height": null,
      "min_width": null,
      "object_fit": null,
      "object_position": null,
      "order": null,
      "overflow": null,
      "overflow_x": null,
      "overflow_y": null,
      "padding": null,
      "right": null,
      "top": null,
      "visibility": null,
      "width": null
     }
    },
    "f8da9e2d02b548a49841417f8cf06d70": {
     "model_module": "@jupyter-widgets/controls",
     "model_module_version": "1.5.0",
     "model_name": "ProgressStyleModel",
     "state": {
      "_model_module": "@jupyter-widgets/controls",
      "_model_module_version": "1.5.0",
      "_model_name": "ProgressStyleModel",
      "_view_count": null,
      "_view_module": "@jupyter-widgets/base",
      "_view_module_version": "1.2.0",
      "_view_name": "StyleView",
      "bar_color": null,
      "description_width": ""
     }
    },
    "f9b107e4f195401eadfac00ae9289e1a": {
     "model_module": "@jupyter-widgets/controls",
     "model_module_version": "1.5.0",
     "model_name": "DescriptionStyleModel",
     "state": {
      "_model_module": "@jupyter-widgets/controls",
      "_model_module_version": "1.5.0",
      "_model_name": "DescriptionStyleModel",
      "_view_count": null,
      "_view_module": "@jupyter-widgets/base",
      "_view_module_version": "1.2.0",
      "_view_name": "StyleView",
      "description_width": ""
     }
    },
    "fa87739e97f7409397913bfb603ddeee": {
     "model_module": "@jupyter-widgets/controls",
     "model_module_version": "1.5.0",
     "model_name": "ProgressStyleModel",
     "state": {
      "_model_module": "@jupyter-widgets/controls",
      "_model_module_version": "1.5.0",
      "_model_name": "ProgressStyleModel",
      "_view_count": null,
      "_view_module": "@jupyter-widgets/base",
      "_view_module_version": "1.2.0",
      "_view_name": "StyleView",
      "bar_color": null,
      "description_width": ""
     }
    },
    "fd48d56f77bf4f03bb1660e838d4cc48": {
     "model_module": "@jupyter-widgets/controls",
     "model_module_version": "1.5.0",
     "model_name": "LabelModel",
     "state": {
      "_dom_classes": [],
      "_model_module": "@jupyter-widgets/controls",
      "_model_module_version": "1.5.0",
      "_model_name": "LabelModel",
      "_view_count": null,
      "_view_module": "@jupyter-widgets/controls",
      "_view_module_version": "1.5.0",
      "_view_name": "LabelView",
      "description": "",
      "description_tooltip": null,
      "layout": "IPY_MODEL_eff5221f5e144b4f8f5db1a9516763c5",
      "placeholder": "​",
      "style": "IPY_MODEL_651b1a4c28574bee92295c033a7c5a8c",
      "value": "0.012 MB of 0.012 MB uploaded\r"
     }
    },
    "fe2415ecaee2428680d07825339265a4": {
     "model_module": "@jupyter-widgets/controls",
     "model_module_version": "1.5.0",
     "model_name": "FloatProgressModel",
     "state": {
      "_dom_classes": [],
      "_model_module": "@jupyter-widgets/controls",
      "_model_module_version": "1.5.0",
      "_model_name": "FloatProgressModel",
      "_view_count": null,
      "_view_module": "@jupyter-widgets/controls",
      "_view_module_version": "1.5.0",
      "_view_name": "ProgressView",
      "bar_style": "",
      "description": "",
      "description_tooltip": null,
      "layout": "IPY_MODEL_c3bb2e9ef1dc4878bd86ae200da456c4",
      "max": 1,
      "min": 0,
      "orientation": "horizontal",
      "style": "IPY_MODEL_84534c646f644a3ab4c9641f0fadedc1",
      "value": 1
     }
    },
    "feb8c472decd4a6cb2cd20814796aac8": {
     "model_module": "@jupyter-widgets/base",
     "model_module_version": "1.2.0",
     "model_name": "LayoutModel",
     "state": {
      "_model_module": "@jupyter-widgets/base",
      "_model_module_version": "1.2.0",
      "_model_name": "LayoutModel",
      "_view_count": null,
      "_view_module": "@jupyter-widgets/base",
      "_view_module_version": "1.2.0",
      "_view_name": "LayoutView",
      "align_content": null,
      "align_items": null,
      "align_self": null,
      "border": null,
      "bottom": null,
      "display": null,
      "flex": null,
      "flex_flow": null,
      "grid_area": null,
      "grid_auto_columns": null,
      "grid_auto_flow": null,
      "grid_auto_rows": null,
      "grid_column": null,
      "grid_gap": null,
      "grid_row": null,
      "grid_template_areas": null,
      "grid_template_columns": null,
      "grid_template_rows": null,
      "height": null,
      "justify_content": null,
      "justify_items": null,
      "left": null,
      "margin": null,
      "max_height": null,
      "max_width": null,
      "min_height": null,
      "min_width": null,
      "object_fit": null,
      "object_position": null,
      "order": null,
      "overflow": null,
      "overflow_x": null,
      "overflow_y": null,
      "padding": null,
      "right": null,
      "top": null,
      "visibility": null,
      "width": null
     }
    },
    "fee29d65e08d4c4a80ea129d1ef95058": {
     "model_module": "@jupyter-widgets/base",
     "model_module_version": "1.2.0",
     "model_name": "LayoutModel",
     "state": {
      "_model_module": "@jupyter-widgets/base",
      "_model_module_version": "1.2.0",
      "_model_name": "LayoutModel",
      "_view_count": null,
      "_view_module": "@jupyter-widgets/base",
      "_view_module_version": "1.2.0",
      "_view_name": "LayoutView",
      "align_content": null,
      "align_items": null,
      "align_self": null,
      "border": null,
      "bottom": null,
      "display": null,
      "flex": null,
      "flex_flow": null,
      "grid_area": null,
      "grid_auto_columns": null,
      "grid_auto_flow": null,
      "grid_auto_rows": null,
      "grid_column": null,
      "grid_gap": null,
      "grid_row": null,
      "grid_template_areas": null,
      "grid_template_columns": null,
      "grid_template_rows": null,
      "height": null,
      "justify_content": null,
      "justify_items": null,
      "left": null,
      "margin": null,
      "max_height": null,
      "max_width": null,
      "min_height": null,
      "min_width": null,
      "object_fit": null,
      "object_position": null,
      "order": null,
      "overflow": null,
      "overflow_x": null,
      "overflow_y": null,
      "padding": null,
      "right": null,
      "top": null,
      "visibility": null,
      "width": null
     }
    },
    "ffa7ae5abc73408e820284d2e499cc88": {
     "model_module": "@jupyter-widgets/base",
     "model_module_version": "1.2.0",
     "model_name": "LayoutModel",
     "state": {
      "_model_module": "@jupyter-widgets/base",
      "_model_module_version": "1.2.0",
      "_model_name": "LayoutModel",
      "_view_count": null,
      "_view_module": "@jupyter-widgets/base",
      "_view_module_version": "1.2.0",
      "_view_name": "LayoutView",
      "align_content": null,
      "align_items": null,
      "align_self": null,
      "border": null,
      "bottom": null,
      "display": null,
      "flex": null,
      "flex_flow": null,
      "grid_area": null,
      "grid_auto_columns": null,
      "grid_auto_flow": null,
      "grid_auto_rows": null,
      "grid_column": null,
      "grid_gap": null,
      "grid_row": null,
      "grid_template_areas": null,
      "grid_template_columns": null,
      "grid_template_rows": null,
      "height": null,
      "justify_content": null,
      "justify_items": null,
      "left": null,
      "margin": null,
      "max_height": null,
      "max_width": null,
      "min_height": null,
      "min_width": null,
      "object_fit": null,
      "object_position": null,
      "order": null,
      "overflow": null,
      "overflow_x": null,
      "overflow_y": null,
      "padding": null,
      "right": null,
      "top": null,
      "visibility": null,
      "width": null
     }
    },
    "ffbe26106dcf476f806f6987042a2b38": {
     "model_module": "@jupyter-widgets/base",
     "model_module_version": "1.2.0",
     "model_name": "LayoutModel",
     "state": {
      "_model_module": "@jupyter-widgets/base",
      "_model_module_version": "1.2.0",
      "_model_name": "LayoutModel",
      "_view_count": null,
      "_view_module": "@jupyter-widgets/base",
      "_view_module_version": "1.2.0",
      "_view_name": "LayoutView",
      "align_content": null,
      "align_items": null,
      "align_self": null,
      "border": null,
      "bottom": null,
      "display": null,
      "flex": null,
      "flex_flow": null,
      "grid_area": null,
      "grid_auto_columns": null,
      "grid_auto_flow": null,
      "grid_auto_rows": null,
      "grid_column": null,
      "grid_gap": null,
      "grid_row": null,
      "grid_template_areas": null,
      "grid_template_columns": null,
      "grid_template_rows": null,
      "height": null,
      "justify_content": null,
      "justify_items": null,
      "left": null,
      "margin": null,
      "max_height": null,
      "max_width": null,
      "min_height": null,
      "min_width": null,
      "object_fit": null,
      "object_position": null,
      "order": null,
      "overflow": null,
      "overflow_x": null,
      "overflow_y": null,
      "padding": null,
      "right": null,
      "top": null,
      "visibility": null,
      "width": null
     }
    }
   }
  }
 },
 "nbformat": 4,
 "nbformat_minor": 4
}
